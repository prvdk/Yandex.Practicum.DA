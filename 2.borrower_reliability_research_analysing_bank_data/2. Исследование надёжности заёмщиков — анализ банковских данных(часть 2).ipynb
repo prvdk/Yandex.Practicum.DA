{
 "cells": [
  {
   "cell_type": "markdown",
   "id": "8f54756b",
   "metadata": {
    "deletable": false,
    "editable": false,
    "id": "c81daeeb"
   },
   "source": [
    "# Исследование надежности заемщиков\n"
   ]
  },
  {
   "cell_type": "markdown",
   "id": "fb75034e",
   "metadata": {
    "deletable": false,
    "editable": false,
    "id": "827c20bf"
   },
   "source": [
    "Во второй части проекта вы выполните шаги 3 и 4. Их вручную проверит ревьюер.\n",
    "Чтобы вам не пришлось писать код заново для шагов 1 и 2, мы добавили авторские решения в ячейки с кодом. \n",
    "\n"
   ]
  },
  {
   "cell_type": "markdown",
   "id": "b67f8fd0",
   "metadata": {
    "deletable": false,
    "editable": false,
    "id": "744d7639"
   },
   "source": [
    "## Откройте таблицу и изучите общую информацию о данных"
   ]
  },
  {
   "cell_type": "markdown",
   "id": "f4df2bec",
   "metadata": {
    "deletable": false,
    "editable": false,
    "id": "e7a14c31"
   },
   "source": [
    "**Задание 1. Импортируйте библиотеку pandas. Считайте данные из csv-файла в датафрейм и сохраните в переменную `data`. Путь к файлу:**\n",
    "\n",
    "`/datasets/data.csv`"
   ]
  },
  {
   "cell_type": "code",
   "execution_count": 1,
   "id": "eeaee53f",
   "metadata": {
    "deletable": false,
    "id": "7bcf75c9"
   },
   "outputs": [],
   "source": [
    "import pandas as pd\n",
    "\n",
    "try:\n",
    "    data = pd.read_csv('/datasets/data.csv')\n",
    "except:\n",
    "    data = pd.read_csv('https://code.s3.yandex.net/datasets/data.csv')"
   ]
  },
  {
   "cell_type": "markdown",
   "id": "b82400ab",
   "metadata": {
    "deletable": false,
    "editable": false,
    "id": "b8038fe3"
   },
   "source": [
    "**Задание 2. Выведите первые 20 строчек датафрейма `data` на экран.**"
   ]
  },
  {
   "cell_type": "code",
   "execution_count": 2,
   "id": "a0c32ddc",
   "metadata": {
    "deletable": false,
    "id": "2a7cab99",
    "outputId": "1a8f3ef2-d323-4ec2-ddf7-89670b5944c4"
   },
   "outputs": [
    {
     "data": {
      "text/html": [
       "<div>\n",
       "<style scoped>\n",
       "    .dataframe tbody tr th:only-of-type {\n",
       "        vertical-align: middle;\n",
       "    }\n",
       "\n",
       "    .dataframe tbody tr th {\n",
       "        vertical-align: top;\n",
       "    }\n",
       "\n",
       "    .dataframe thead th {\n",
       "        text-align: right;\n",
       "    }\n",
       "</style>\n",
       "<table border=\"1\" class=\"dataframe\">\n",
       "  <thead>\n",
       "    <tr style=\"text-align: right;\">\n",
       "      <th></th>\n",
       "      <th>children</th>\n",
       "      <th>days_employed</th>\n",
       "      <th>dob_years</th>\n",
       "      <th>education</th>\n",
       "      <th>education_id</th>\n",
       "      <th>family_status</th>\n",
       "      <th>family_status_id</th>\n",
       "      <th>gender</th>\n",
       "      <th>income_type</th>\n",
       "      <th>debt</th>\n",
       "      <th>total_income</th>\n",
       "      <th>purpose</th>\n",
       "    </tr>\n",
       "  </thead>\n",
       "  <tbody>\n",
       "    <tr>\n",
       "      <th>0</th>\n",
       "      <td>1</td>\n",
       "      <td>-8437.673028</td>\n",
       "      <td>42</td>\n",
       "      <td>высшее</td>\n",
       "      <td>0</td>\n",
       "      <td>женат / замужем</td>\n",
       "      <td>0</td>\n",
       "      <td>F</td>\n",
       "      <td>сотрудник</td>\n",
       "      <td>0</td>\n",
       "      <td>253875.639453</td>\n",
       "      <td>покупка жилья</td>\n",
       "    </tr>\n",
       "    <tr>\n",
       "      <th>1</th>\n",
       "      <td>1</td>\n",
       "      <td>-4024.803754</td>\n",
       "      <td>36</td>\n",
       "      <td>среднее</td>\n",
       "      <td>1</td>\n",
       "      <td>женат / замужем</td>\n",
       "      <td>0</td>\n",
       "      <td>F</td>\n",
       "      <td>сотрудник</td>\n",
       "      <td>0</td>\n",
       "      <td>112080.014102</td>\n",
       "      <td>приобретение автомобиля</td>\n",
       "    </tr>\n",
       "    <tr>\n",
       "      <th>2</th>\n",
       "      <td>0</td>\n",
       "      <td>-5623.422610</td>\n",
       "      <td>33</td>\n",
       "      <td>Среднее</td>\n",
       "      <td>1</td>\n",
       "      <td>женат / замужем</td>\n",
       "      <td>0</td>\n",
       "      <td>M</td>\n",
       "      <td>сотрудник</td>\n",
       "      <td>0</td>\n",
       "      <td>145885.952297</td>\n",
       "      <td>покупка жилья</td>\n",
       "    </tr>\n",
       "    <tr>\n",
       "      <th>3</th>\n",
       "      <td>3</td>\n",
       "      <td>-4124.747207</td>\n",
       "      <td>32</td>\n",
       "      <td>среднее</td>\n",
       "      <td>1</td>\n",
       "      <td>женат / замужем</td>\n",
       "      <td>0</td>\n",
       "      <td>M</td>\n",
       "      <td>сотрудник</td>\n",
       "      <td>0</td>\n",
       "      <td>267628.550329</td>\n",
       "      <td>дополнительное образование</td>\n",
       "    </tr>\n",
       "    <tr>\n",
       "      <th>4</th>\n",
       "      <td>0</td>\n",
       "      <td>340266.072047</td>\n",
       "      <td>53</td>\n",
       "      <td>среднее</td>\n",
       "      <td>1</td>\n",
       "      <td>гражданский брак</td>\n",
       "      <td>1</td>\n",
       "      <td>F</td>\n",
       "      <td>пенсионер</td>\n",
       "      <td>0</td>\n",
       "      <td>158616.077870</td>\n",
       "      <td>сыграть свадьбу</td>\n",
       "    </tr>\n",
       "    <tr>\n",
       "      <th>5</th>\n",
       "      <td>0</td>\n",
       "      <td>-926.185831</td>\n",
       "      <td>27</td>\n",
       "      <td>высшее</td>\n",
       "      <td>0</td>\n",
       "      <td>гражданский брак</td>\n",
       "      <td>1</td>\n",
       "      <td>M</td>\n",
       "      <td>компаньон</td>\n",
       "      <td>0</td>\n",
       "      <td>255763.565419</td>\n",
       "      <td>покупка жилья</td>\n",
       "    </tr>\n",
       "    <tr>\n",
       "      <th>6</th>\n",
       "      <td>0</td>\n",
       "      <td>-2879.202052</td>\n",
       "      <td>43</td>\n",
       "      <td>высшее</td>\n",
       "      <td>0</td>\n",
       "      <td>женат / замужем</td>\n",
       "      <td>0</td>\n",
       "      <td>F</td>\n",
       "      <td>компаньон</td>\n",
       "      <td>0</td>\n",
       "      <td>240525.971920</td>\n",
       "      <td>операции с жильем</td>\n",
       "    </tr>\n",
       "    <tr>\n",
       "      <th>7</th>\n",
       "      <td>0</td>\n",
       "      <td>-152.779569</td>\n",
       "      <td>50</td>\n",
       "      <td>СРЕДНЕЕ</td>\n",
       "      <td>1</td>\n",
       "      <td>женат / замужем</td>\n",
       "      <td>0</td>\n",
       "      <td>M</td>\n",
       "      <td>сотрудник</td>\n",
       "      <td>0</td>\n",
       "      <td>135823.934197</td>\n",
       "      <td>образование</td>\n",
       "    </tr>\n",
       "    <tr>\n",
       "      <th>8</th>\n",
       "      <td>2</td>\n",
       "      <td>-6929.865299</td>\n",
       "      <td>35</td>\n",
       "      <td>ВЫСШЕЕ</td>\n",
       "      <td>0</td>\n",
       "      <td>гражданский брак</td>\n",
       "      <td>1</td>\n",
       "      <td>F</td>\n",
       "      <td>сотрудник</td>\n",
       "      <td>0</td>\n",
       "      <td>95856.832424</td>\n",
       "      <td>на проведение свадьбы</td>\n",
       "    </tr>\n",
       "    <tr>\n",
       "      <th>9</th>\n",
       "      <td>0</td>\n",
       "      <td>-2188.756445</td>\n",
       "      <td>41</td>\n",
       "      <td>среднее</td>\n",
       "      <td>1</td>\n",
       "      <td>женат / замужем</td>\n",
       "      <td>0</td>\n",
       "      <td>M</td>\n",
       "      <td>сотрудник</td>\n",
       "      <td>0</td>\n",
       "      <td>144425.938277</td>\n",
       "      <td>покупка жилья для семьи</td>\n",
       "    </tr>\n",
       "    <tr>\n",
       "      <th>10</th>\n",
       "      <td>2</td>\n",
       "      <td>-4171.483647</td>\n",
       "      <td>36</td>\n",
       "      <td>высшее</td>\n",
       "      <td>0</td>\n",
       "      <td>женат / замужем</td>\n",
       "      <td>0</td>\n",
       "      <td>M</td>\n",
       "      <td>компаньон</td>\n",
       "      <td>0</td>\n",
       "      <td>113943.491460</td>\n",
       "      <td>покупка недвижимости</td>\n",
       "    </tr>\n",
       "    <tr>\n",
       "      <th>11</th>\n",
       "      <td>0</td>\n",
       "      <td>-792.701887</td>\n",
       "      <td>40</td>\n",
       "      <td>среднее</td>\n",
       "      <td>1</td>\n",
       "      <td>женат / замужем</td>\n",
       "      <td>0</td>\n",
       "      <td>F</td>\n",
       "      <td>сотрудник</td>\n",
       "      <td>0</td>\n",
       "      <td>77069.234271</td>\n",
       "      <td>покупка коммерческой недвижимости</td>\n",
       "    </tr>\n",
       "    <tr>\n",
       "      <th>12</th>\n",
       "      <td>0</td>\n",
       "      <td>NaN</td>\n",
       "      <td>65</td>\n",
       "      <td>среднее</td>\n",
       "      <td>1</td>\n",
       "      <td>гражданский брак</td>\n",
       "      <td>1</td>\n",
       "      <td>M</td>\n",
       "      <td>пенсионер</td>\n",
       "      <td>0</td>\n",
       "      <td>NaN</td>\n",
       "      <td>сыграть свадьбу</td>\n",
       "    </tr>\n",
       "    <tr>\n",
       "      <th>13</th>\n",
       "      <td>0</td>\n",
       "      <td>-1846.641941</td>\n",
       "      <td>54</td>\n",
       "      <td>неоконченное высшее</td>\n",
       "      <td>2</td>\n",
       "      <td>женат / замужем</td>\n",
       "      <td>0</td>\n",
       "      <td>F</td>\n",
       "      <td>сотрудник</td>\n",
       "      <td>0</td>\n",
       "      <td>130458.228857</td>\n",
       "      <td>приобретение автомобиля</td>\n",
       "    </tr>\n",
       "    <tr>\n",
       "      <th>14</th>\n",
       "      <td>0</td>\n",
       "      <td>-1844.956182</td>\n",
       "      <td>56</td>\n",
       "      <td>высшее</td>\n",
       "      <td>0</td>\n",
       "      <td>гражданский брак</td>\n",
       "      <td>1</td>\n",
       "      <td>F</td>\n",
       "      <td>компаньон</td>\n",
       "      <td>1</td>\n",
       "      <td>165127.911772</td>\n",
       "      <td>покупка жилой недвижимости</td>\n",
       "    </tr>\n",
       "    <tr>\n",
       "      <th>15</th>\n",
       "      <td>1</td>\n",
       "      <td>-972.364419</td>\n",
       "      <td>26</td>\n",
       "      <td>среднее</td>\n",
       "      <td>1</td>\n",
       "      <td>женат / замужем</td>\n",
       "      <td>0</td>\n",
       "      <td>F</td>\n",
       "      <td>сотрудник</td>\n",
       "      <td>0</td>\n",
       "      <td>116820.904450</td>\n",
       "      <td>строительство собственной недвижимости</td>\n",
       "    </tr>\n",
       "    <tr>\n",
       "      <th>16</th>\n",
       "      <td>0</td>\n",
       "      <td>-1719.934226</td>\n",
       "      <td>35</td>\n",
       "      <td>среднее</td>\n",
       "      <td>1</td>\n",
       "      <td>женат / замужем</td>\n",
       "      <td>0</td>\n",
       "      <td>F</td>\n",
       "      <td>сотрудник</td>\n",
       "      <td>0</td>\n",
       "      <td>289202.704229</td>\n",
       "      <td>недвижимость</td>\n",
       "    </tr>\n",
       "    <tr>\n",
       "      <th>17</th>\n",
       "      <td>0</td>\n",
       "      <td>-2369.999720</td>\n",
       "      <td>33</td>\n",
       "      <td>высшее</td>\n",
       "      <td>0</td>\n",
       "      <td>гражданский брак</td>\n",
       "      <td>1</td>\n",
       "      <td>M</td>\n",
       "      <td>сотрудник</td>\n",
       "      <td>0</td>\n",
       "      <td>90410.586745</td>\n",
       "      <td>строительство недвижимости</td>\n",
       "    </tr>\n",
       "    <tr>\n",
       "      <th>18</th>\n",
       "      <td>0</td>\n",
       "      <td>400281.136913</td>\n",
       "      <td>53</td>\n",
       "      <td>среднее</td>\n",
       "      <td>1</td>\n",
       "      <td>вдовец / вдова</td>\n",
       "      <td>2</td>\n",
       "      <td>F</td>\n",
       "      <td>пенсионер</td>\n",
       "      <td>0</td>\n",
       "      <td>56823.777243</td>\n",
       "      <td>на покупку подержанного автомобиля</td>\n",
       "    </tr>\n",
       "    <tr>\n",
       "      <th>19</th>\n",
       "      <td>0</td>\n",
       "      <td>-10038.818549</td>\n",
       "      <td>48</td>\n",
       "      <td>СРЕДНЕЕ</td>\n",
       "      <td>1</td>\n",
       "      <td>в разводе</td>\n",
       "      <td>3</td>\n",
       "      <td>F</td>\n",
       "      <td>сотрудник</td>\n",
       "      <td>0</td>\n",
       "      <td>242831.107982</td>\n",
       "      <td>на покупку своего автомобиля</td>\n",
       "    </tr>\n",
       "  </tbody>\n",
       "</table>\n",
       "</div>"
      ],
      "text/plain": [
       "    children  days_employed  dob_years            education  education_id  \\\n",
       "0          1   -8437.673028         42               высшее             0   \n",
       "1          1   -4024.803754         36              среднее             1   \n",
       "2          0   -5623.422610         33              Среднее             1   \n",
       "3          3   -4124.747207         32              среднее             1   \n",
       "4          0  340266.072047         53              среднее             1   \n",
       "5          0    -926.185831         27               высшее             0   \n",
       "6          0   -2879.202052         43               высшее             0   \n",
       "7          0    -152.779569         50              СРЕДНЕЕ             1   \n",
       "8          2   -6929.865299         35               ВЫСШЕЕ             0   \n",
       "9          0   -2188.756445         41              среднее             1   \n",
       "10         2   -4171.483647         36               высшее             0   \n",
       "11         0    -792.701887         40              среднее             1   \n",
       "12         0            NaN         65              среднее             1   \n",
       "13         0   -1846.641941         54  неоконченное высшее             2   \n",
       "14         0   -1844.956182         56               высшее             0   \n",
       "15         1    -972.364419         26              среднее             1   \n",
       "16         0   -1719.934226         35              среднее             1   \n",
       "17         0   -2369.999720         33               высшее             0   \n",
       "18         0  400281.136913         53              среднее             1   \n",
       "19         0  -10038.818549         48              СРЕДНЕЕ             1   \n",
       "\n",
       "       family_status  family_status_id gender income_type  debt  \\\n",
       "0    женат / замужем                 0      F   сотрудник     0   \n",
       "1    женат / замужем                 0      F   сотрудник     0   \n",
       "2    женат / замужем                 0      M   сотрудник     0   \n",
       "3    женат / замужем                 0      M   сотрудник     0   \n",
       "4   гражданский брак                 1      F   пенсионер     0   \n",
       "5   гражданский брак                 1      M   компаньон     0   \n",
       "6    женат / замужем                 0      F   компаньон     0   \n",
       "7    женат / замужем                 0      M   сотрудник     0   \n",
       "8   гражданский брак                 1      F   сотрудник     0   \n",
       "9    женат / замужем                 0      M   сотрудник     0   \n",
       "10   женат / замужем                 0      M   компаньон     0   \n",
       "11   женат / замужем                 0      F   сотрудник     0   \n",
       "12  гражданский брак                 1      M   пенсионер     0   \n",
       "13   женат / замужем                 0      F   сотрудник     0   \n",
       "14  гражданский брак                 1      F   компаньон     1   \n",
       "15   женат / замужем                 0      F   сотрудник     0   \n",
       "16   женат / замужем                 0      F   сотрудник     0   \n",
       "17  гражданский брак                 1      M   сотрудник     0   \n",
       "18    вдовец / вдова                 2      F   пенсионер     0   \n",
       "19         в разводе                 3      F   сотрудник     0   \n",
       "\n",
       "     total_income                                 purpose  \n",
       "0   253875.639453                           покупка жилья  \n",
       "1   112080.014102                 приобретение автомобиля  \n",
       "2   145885.952297                           покупка жилья  \n",
       "3   267628.550329              дополнительное образование  \n",
       "4   158616.077870                         сыграть свадьбу  \n",
       "5   255763.565419                           покупка жилья  \n",
       "6   240525.971920                       операции с жильем  \n",
       "7   135823.934197                             образование  \n",
       "8    95856.832424                   на проведение свадьбы  \n",
       "9   144425.938277                 покупка жилья для семьи  \n",
       "10  113943.491460                    покупка недвижимости  \n",
       "11   77069.234271       покупка коммерческой недвижимости  \n",
       "12            NaN                         сыграть свадьбу  \n",
       "13  130458.228857                 приобретение автомобиля  \n",
       "14  165127.911772              покупка жилой недвижимости  \n",
       "15  116820.904450  строительство собственной недвижимости  \n",
       "16  289202.704229                            недвижимость  \n",
       "17   90410.586745              строительство недвижимости  \n",
       "18   56823.777243      на покупку подержанного автомобиля  \n",
       "19  242831.107982            на покупку своего автомобиля  "
      ]
     },
     "execution_count": 2,
     "metadata": {},
     "output_type": "execute_result"
    }
   ],
   "source": [
    "data.head(20)"
   ]
  },
  {
   "cell_type": "markdown",
   "id": "3bf55aaa",
   "metadata": {
    "deletable": false,
    "editable": false,
    "id": "1c12e233"
   },
   "source": [
    "**Задание 3. Выведите основную информацию о датафрейме с помощью метода `info()`.**"
   ]
  },
  {
   "cell_type": "code",
   "execution_count": 3,
   "id": "7f228adf",
   "metadata": {
    "deletable": false,
    "id": "2b757bca",
    "outputId": "15376089-8dad-46c9-b520-c05248d43158"
   },
   "outputs": [
    {
     "name": "stdout",
     "output_type": "stream",
     "text": [
      "<class 'pandas.core.frame.DataFrame'>\n",
      "RangeIndex: 21525 entries, 0 to 21524\n",
      "Data columns (total 12 columns):\n",
      " #   Column            Non-Null Count  Dtype  \n",
      "---  ------            --------------  -----  \n",
      " 0   children          21525 non-null  int64  \n",
      " 1   days_employed     19351 non-null  float64\n",
      " 2   dob_years         21525 non-null  int64  \n",
      " 3   education         21525 non-null  object \n",
      " 4   education_id      21525 non-null  int64  \n",
      " 5   family_status     21525 non-null  object \n",
      " 6   family_status_id  21525 non-null  int64  \n",
      " 7   gender            21525 non-null  object \n",
      " 8   income_type       21525 non-null  object \n",
      " 9   debt              21525 non-null  int64  \n",
      " 10  total_income      19351 non-null  float64\n",
      " 11  purpose           21525 non-null  object \n",
      "dtypes: float64(2), int64(5), object(5)\n",
      "memory usage: 2.0+ MB\n"
     ]
    }
   ],
   "source": [
    "data.info()"
   ]
  },
  {
   "cell_type": "markdown",
   "id": "4a5940ee",
   "metadata": {
    "deletable": false,
    "editable": false,
    "id": "333ec665"
   },
   "source": [
    "## Предобработка данных"
   ]
  },
  {
   "cell_type": "markdown",
   "id": "9dc5c878",
   "metadata": {
    "deletable": false,
    "editable": false,
    "id": "02d92d53"
   },
   "source": [
    "### Удаление пропусков"
   ]
  },
  {
   "cell_type": "markdown",
   "id": "387839f0",
   "metadata": {
    "deletable": false,
    "editable": false,
    "id": "cd84967c"
   },
   "source": [
    "**Задание 4. Выведите количество пропущенных значений для каждого столбца. Используйте комбинацию двух методов.**"
   ]
  },
  {
   "cell_type": "code",
   "execution_count": 4,
   "id": "2ed18414",
   "metadata": {
    "deletable": false,
    "id": "7f9b2309",
    "outputId": "81f4d817-781c-465c-ed15-91ce4446810d"
   },
   "outputs": [
    {
     "data": {
      "text/plain": [
       "children               0\n",
       "days_employed       2174\n",
       "dob_years              0\n",
       "education              0\n",
       "education_id           0\n",
       "family_status          0\n",
       "family_status_id       0\n",
       "gender                 0\n",
       "income_type            0\n",
       "debt                   0\n",
       "total_income        2174\n",
       "purpose                0\n",
       "dtype: int64"
      ]
     },
     "execution_count": 4,
     "metadata": {},
     "output_type": "execute_result"
    }
   ],
   "source": [
    "data.isna().sum()"
   ]
  },
  {
   "cell_type": "markdown",
   "id": "f01a0b56",
   "metadata": {
    "deletable": false,
    "editable": false,
    "id": "db86e27b"
   },
   "source": [
    "**Задание 5. В двух столбцах есть пропущенные значения. Один из них — `days_employed`. Пропуски в этом столбце вы обработаете на следующем этапе. Другой столбец с пропущенными значениями — `total_income` — хранит данные о доходах. На сумму дохода сильнее всего влияет тип занятости, поэтому заполнить пропуски в этом столбце нужно медианным значением по каждому типу из столбца `income_type`. Например, у человека с типом занятости `сотрудник` пропуск в столбце `total_income` должен быть заполнен медианным доходом среди всех записей с тем же типом.**"
   ]
  },
  {
   "cell_type": "code",
   "execution_count": 5,
   "id": "87a74850",
   "metadata": {
    "deletable": false,
    "id": "42006a93"
   },
   "outputs": [],
   "source": [
    "for t in data['income_type'].unique():\n",
    "    data.loc[(data['income_type'] == t) & (data['total_income'].isna()), 'total_income'] = \\\n",
    "    data.loc[(data['income_type'] == t), 'total_income'].median()"
   ]
  },
  {
   "cell_type": "markdown",
   "id": "098089fe",
   "metadata": {
    "deletable": false,
    "editable": false,
    "id": "89da5ece"
   },
   "source": [
    "### Обработка аномальных значений"
   ]
  },
  {
   "cell_type": "markdown",
   "id": "3e7e92e3",
   "metadata": {
    "deletable": false,
    "editable": false,
    "id": "57964554"
   },
   "source": [
    "**Задание 6. В данных могут встречаться артефакты (аномалии) — значения, которые не отражают действительность и появились по какой-то ошибке. таким артефактом будет отрицательное количество дней трудового стажа в столбце `days_employed`. Для реальных данных это нормально. Обработайте значения в этом столбце: замените все отрицательные значения положительными с помощью метода `abs()`.**"
   ]
  },
  {
   "cell_type": "code",
   "execution_count": 6,
   "id": "d5699068",
   "metadata": {
    "deletable": false,
    "id": "f6f055bf"
   },
   "outputs": [],
   "source": [
    "data['days_employed'] = data['days_employed'].abs()"
   ]
  },
  {
   "cell_type": "markdown",
   "id": "c4a9821b",
   "metadata": {
    "deletable": false,
    "editable": false,
    "id": "6107dd2f"
   },
   "source": [
    "**Задание 7. Для каждого типа занятости выведите медианное значение трудового стажа `days_employed` в днях.**"
   ]
  },
  {
   "cell_type": "code",
   "execution_count": 7,
   "id": "e6399fa6",
   "metadata": {
    "deletable": false,
    "id": "85a5faf6",
    "outputId": "801ef80e-522b-4668-f34e-565af7432bcf"
   },
   "outputs": [
    {
     "data": {
      "text/plain": [
       "income_type\n",
       "безработный        366413.652744\n",
       "в декрете            3296.759962\n",
       "госслужащий          2689.368353\n",
       "компаньон            1547.382223\n",
       "пенсионер          365213.306266\n",
       "предприниматель       520.848083\n",
       "сотрудник            1574.202821\n",
       "студент               578.751554\n",
       "Name: days_employed, dtype: float64"
      ]
     },
     "execution_count": 7,
     "metadata": {},
     "output_type": "execute_result"
    }
   ],
   "source": [
    "data.groupby('income_type')['days_employed'].agg('median')"
   ]
  },
  {
   "cell_type": "markdown",
   "id": "531a0faf",
   "metadata": {
    "deletable": false,
    "editable": false,
    "id": "38d1a030"
   },
   "source": [
    "У двух типов (безработные и пенсионеры) получатся аномально большие значения. Исправить такие значения сложно, поэтому оставьте их как есть. Тем более этот столбец не понадобится вам для исследования."
   ]
  },
  {
   "cell_type": "markdown",
   "id": "6eae90ff",
   "metadata": {
    "deletable": false,
    "editable": false,
    "id": "d8a9f147"
   },
   "source": [
    "**Задание 8. Выведите перечень уникальных значений столбца `children`.**"
   ]
  },
  {
   "cell_type": "code",
   "execution_count": 8,
   "id": "bc1ac18b",
   "metadata": {
    "deletable": false,
    "id": "ef5056eb",
    "outputId": "6975b15c-7f95-4697-d16d-a0c79b657b03"
   },
   "outputs": [
    {
     "data": {
      "text/plain": [
       "array([ 1,  0,  3,  2, -1,  4, 20,  5])"
      ]
     },
     "execution_count": 8,
     "metadata": {},
     "output_type": "execute_result"
    }
   ],
   "source": [
    "data['children'].unique()"
   ]
  },
  {
   "cell_type": "markdown",
   "id": "5215acf8",
   "metadata": {
    "deletable": false,
    "editable": false,
    "id": "40b9ebf2"
   },
   "source": [
    "**Задание 9. В столбце `children` есть два аномальных значения. Удалите строки, в которых встречаются такие аномальные значения из датафрейма `data`.**"
   ]
  },
  {
   "cell_type": "code",
   "execution_count": 9,
   "id": "16f91bd1",
   "metadata": {
    "deletable": false,
    "id": "3ff9801d"
   },
   "outputs": [],
   "source": [
    "data = data[(data['children'] != -1) & (data['children'] != 20)]"
   ]
  },
  {
   "cell_type": "markdown",
   "id": "7a630e5c",
   "metadata": {
    "deletable": false,
    "editable": false,
    "id": "bbc4d0ce"
   },
   "source": [
    "**Задание 10. Ещё раз выведите перечень уникальных значений столбца `children`, чтобы убедиться, что артефакты удалены.**"
   ]
  },
  {
   "cell_type": "code",
   "execution_count": 10,
   "id": "09bace2a",
   "metadata": {
    "deletable": false,
    "id": "ad4fa8b7",
    "outputId": "b2097101-d49d-44d9-901b-32a65c9463d1"
   },
   "outputs": [
    {
     "data": {
      "text/plain": [
       "array([1, 0, 3, 2, 4, 5])"
      ]
     },
     "execution_count": 10,
     "metadata": {},
     "output_type": "execute_result"
    }
   ],
   "source": [
    "data['children'].unique()"
   ]
  },
  {
   "cell_type": "markdown",
   "id": "824e29b2",
   "metadata": {
    "deletable": false,
    "editable": false,
    "id": "75440b63"
   },
   "source": [
    "### Удаление пропусков (продолжение)"
   ]
  },
  {
   "cell_type": "markdown",
   "id": "2a670f99",
   "metadata": {
    "deletable": false,
    "editable": false,
    "id": "f4ea573f"
   },
   "source": [
    "**Задание 11. Заполните пропуски в столбце `days_employed` медианными значениями по каждого типа занятости `income_type`.**"
   ]
  },
  {
   "cell_type": "code",
   "execution_count": 11,
   "id": "3a376a6a",
   "metadata": {
    "deletable": false,
    "id": "af6b1a7e"
   },
   "outputs": [],
   "source": [
    "for t in data['income_type'].unique():\n",
    "    data.loc[(data['income_type'] == t) & (data['days_employed'].isna()), 'days_employed'] = \\\n",
    "    data.loc[(data['income_type'] == t), 'days_employed'].median()"
   ]
  },
  {
   "cell_type": "markdown",
   "id": "8823ee4c",
   "metadata": {
    "deletable": false,
    "editable": false,
    "id": "2753f40d"
   },
   "source": [
    "**Задание 12. Убедитесь, что все пропуски заполнены. Проверьте себя и ещё раз выведите количество пропущенных значений для каждого столбца с помощью двух методов.**"
   ]
  },
  {
   "cell_type": "code",
   "execution_count": 12,
   "id": "c700a376",
   "metadata": {
    "deletable": false,
    "id": "55f78bc2",
    "outputId": "8da1e4e1-358e-4e87-98c9-f261bce0a7b2"
   },
   "outputs": [
    {
     "data": {
      "text/plain": [
       "children            0\n",
       "days_employed       0\n",
       "dob_years           0\n",
       "education           0\n",
       "education_id        0\n",
       "family_status       0\n",
       "family_status_id    0\n",
       "gender              0\n",
       "income_type         0\n",
       "debt                0\n",
       "total_income        0\n",
       "purpose             0\n",
       "dtype: int64"
      ]
     },
     "execution_count": 12,
     "metadata": {},
     "output_type": "execute_result"
    }
   ],
   "source": [
    "data.isna().sum()"
   ]
  },
  {
   "cell_type": "markdown",
   "id": "116b1fb9",
   "metadata": {
    "deletable": false,
    "editable": false,
    "id": "ddc81e43"
   },
   "source": [
    "### Изменение типов данных"
   ]
  },
  {
   "cell_type": "markdown",
   "id": "be378bcd",
   "metadata": {
    "deletable": false,
    "editable": false,
    "id": "42d19d24"
   },
   "source": [
    "**Задание 13. Замените вещественный тип данных в столбце `total_income` на целочисленный с помощью метода `astype()`.**"
   ]
  },
  {
   "cell_type": "code",
   "execution_count": 13,
   "id": "daadb523",
   "metadata": {
    "deletable": false,
    "id": "920b65ad"
   },
   "outputs": [],
   "source": [
    "data['total_income'] = data['total_income'].astype(int)"
   ]
  },
  {
   "cell_type": "markdown",
   "id": "ee9b1174",
   "metadata": {
    "deletable": false,
    "editable": false,
    "id": "80c420ba"
   },
   "source": [
    "### Обработка дубликатов"
   ]
  },
  {
   "cell_type": "markdown",
   "id": "2e1d5a69",
   "metadata": {
    "deletable": false,
    "editable": false
   },
   "source": [
    "**Задание 14. Обработайте неявные дубликаты в столбце `education`. В этом столбце есть одни и те же значения, но записанные по-разному: с использованием заглавных и строчных букв. Приведите их к нижнему регистру. Проверьте остальные столбцы.**"
   ]
  },
  {
   "cell_type": "code",
   "execution_count": 14,
   "id": "4ee52573",
   "metadata": {
    "deletable": false
   },
   "outputs": [],
   "source": [
    "data['education'] = data['education'].str.lower()"
   ]
  },
  {
   "cell_type": "markdown",
   "id": "266c6fee",
   "metadata": {
    "deletable": false,
    "editable": false,
    "id": "dc587695"
   },
   "source": [
    "**Задание 15. Выведите на экран количество строк-дубликатов в данных. Если такие строки присутствуют, удалите их.**"
   ]
  },
  {
   "cell_type": "code",
   "execution_count": 15,
   "id": "e2e4b018",
   "metadata": {
    "deletable": false,
    "id": "3ee445e4",
    "outputId": "9684deba-1934-42d1-99e1-cda61740f822"
   },
   "outputs": [
    {
     "data": {
      "text/plain": [
       "71"
      ]
     },
     "execution_count": 15,
     "metadata": {},
     "output_type": "execute_result"
    }
   ],
   "source": [
    "data.duplicated().sum()"
   ]
  },
  {
   "cell_type": "code",
   "execution_count": 16,
   "id": "d9d99198",
   "metadata": {
    "deletable": false,
    "id": "8575fe05"
   },
   "outputs": [],
   "source": [
    "data = data.drop_duplicates()"
   ]
  },
  {
   "cell_type": "markdown",
   "id": "88042a93",
   "metadata": {
    "deletable": false,
    "editable": false,
    "id": "9904cf55"
   },
   "source": [
    "### Категоризация данных"
   ]
  },
  {
   "cell_type": "markdown",
   "id": "24e75810",
   "metadata": {
    "deletable": false,
    "editable": false,
    "id": "72fcc8a2"
   },
   "source": [
    "**Задание 16. На основании диапазонов, указанных ниже, создайте в датафрейме `data` столбец `total_income_category` с категориями:**\n",
    "\n",
    "- 0–30000 — `'E'`;\n",
    "- 30001–50000 — `'D'`;\n",
    "- 50001–200000 — `'C'`;\n",
    "- 200001–1000000 — `'B'`;\n",
    "- 1000001 и выше — `'A'`.\n",
    "\n",
    "\n",
    "**Например, кредитополучателю с доходом 25000 нужно назначить категорию `'E'`, а клиенту, получающему 235000, — `'B'`. Используйте собственную функцию с именем `categorize_income()` и метод `apply()`.**"
   ]
  },
  {
   "cell_type": "code",
   "execution_count": 17,
   "id": "cbb9dbe4",
   "metadata": {
    "deletable": false,
    "id": "e1771346"
   },
   "outputs": [],
   "source": [
    "def categorize_income(income):\n",
    "    try:\n",
    "        if 0 <= income <= 30000:\n",
    "            return 'E'\n",
    "        elif 30001 <= income <= 50000:\n",
    "            return 'D'\n",
    "        elif 50001 <= income <= 200000:\n",
    "            return 'C'\n",
    "        elif 200001 <= income <= 1000000:\n",
    "            return 'B'\n",
    "        elif income >= 1000001:\n",
    "            return 'A'\n",
    "    except:\n",
    "        pass"
   ]
  },
  {
   "cell_type": "code",
   "execution_count": 18,
   "id": "0574cc4b",
   "metadata": {
    "deletable": false,
    "id": "d5f3586d"
   },
   "outputs": [],
   "source": [
    "data['total_income_category'] = data['total_income'].apply(categorize_income)"
   ]
  },
  {
   "cell_type": "markdown",
   "id": "162ba52a",
   "metadata": {
    "deletable": false,
    "editable": false,
    "id": "dde49b5c"
   },
   "source": [
    "**Задание 17. Выведите на экран перечень уникальных целей взятия кредита из столбца `purpose`.**"
   ]
  },
  {
   "cell_type": "code",
   "execution_count": 19,
   "id": "1b117f27",
   "metadata": {
    "deletable": false,
    "id": "f67ce9b3",
    "outputId": "673c12d9-7d7e-4ae0-9812-c622c89dd244"
   },
   "outputs": [
    {
     "data": {
      "text/plain": [
       "array(['покупка жилья', 'приобретение автомобиля',\n",
       "       'дополнительное образование', 'сыграть свадьбу',\n",
       "       'операции с жильем', 'образование', 'на проведение свадьбы',\n",
       "       'покупка жилья для семьи', 'покупка недвижимости',\n",
       "       'покупка коммерческой недвижимости', 'покупка жилой недвижимости',\n",
       "       'строительство собственной недвижимости', 'недвижимость',\n",
       "       'строительство недвижимости', 'на покупку подержанного автомобиля',\n",
       "       'на покупку своего автомобиля',\n",
       "       'операции с коммерческой недвижимостью',\n",
       "       'строительство жилой недвижимости', 'жилье',\n",
       "       'операции со своей недвижимостью', 'автомобили',\n",
       "       'заняться образованием', 'сделка с подержанным автомобилем',\n",
       "       'получение образования', 'автомобиль', 'свадьба',\n",
       "       'получение дополнительного образования', 'покупка своего жилья',\n",
       "       'операции с недвижимостью', 'получение высшего образования',\n",
       "       'свой автомобиль', 'сделка с автомобилем',\n",
       "       'профильное образование', 'высшее образование',\n",
       "       'покупка жилья для сдачи', 'на покупку автомобиля', 'ремонт жилью',\n",
       "       'заняться высшим образованием'], dtype=object)"
      ]
     },
     "execution_count": 19,
     "metadata": {},
     "output_type": "execute_result"
    }
   ],
   "source": [
    "data['purpose'].unique()"
   ]
  },
  {
   "cell_type": "markdown",
   "id": "c16227c8",
   "metadata": {
    "deletable": false,
    "editable": false,
    "id": "85d0aef0"
   },
   "source": [
    "**Задание 18. Создайте функцию, которая на основании данных из столбца `purpose` сформирует новый столбец `purpose_category`, в который войдут следующие категории:**\n",
    "\n",
    "- `'операции с автомобилем'`,\n",
    "- `'операции с недвижимостью'`,\n",
    "- `'проведение свадьбы'`,\n",
    "- `'получение образования'`.\n",
    "\n",
    "**Например, если в столбце `purpose` находится подстрока `'на покупку автомобиля'`, то в столбце `purpose_category` должна появиться строка `'операции с автомобилем'`.**\n",
    "\n",
    "**Используйте собственную функцию с именем `categorize_purpose()` и метод `apply()`. Изучите данные в столбце `purpose` и определите, какие подстроки помогут вам правильно определить категорию.**"
   ]
  },
  {
   "cell_type": "code",
   "execution_count": 20,
   "id": "c2cb82c0",
   "metadata": {
    "deletable": false,
    "id": "e149fab4"
   },
   "outputs": [],
   "source": [
    "def categorize_purpose(row):\n",
    "    try:\n",
    "        if 'автом' in row:\n",
    "            return 'операции с автомобилем'\n",
    "        elif 'жил' in row or 'недвиж' in row:\n",
    "            return 'операции с недвижимостью'\n",
    "        elif 'свад' in row:\n",
    "            return 'проведение свадьбы'\n",
    "        elif 'образов' in row:\n",
    "            return 'получение образования'\n",
    "    except:\n",
    "        return 'нет категории'"
   ]
  },
  {
   "cell_type": "code",
   "execution_count": 21,
   "id": "e3aad3d8",
   "metadata": {
    "deletable": false,
    "id": "bf36e69b"
   },
   "outputs": [],
   "source": [
    "data['purpose_category'] = data['purpose'].apply(categorize_purpose)"
   ]
  },
  {
   "cell_type": "markdown",
   "id": "0cbfa740",
   "metadata": {
    "deletable": false,
    "editable": false,
    "id": "09b242bf"
   },
   "source": [
    "### Шаг 3. Исследуйте данные и ответьте на вопросы"
   ]
  },
  {
   "cell_type": "markdown",
   "id": "49182ee8",
   "metadata": {
    "deletable": false,
    "editable": false,
    "id": "c5d66278"
   },
   "source": [
    "#### 3.1 Есть ли зависимость между количеством детей и возвратом кредита в срок?"
   ]
  },
  {
   "cell_type": "code",
   "execution_count": 22,
   "id": "a3edbaa5",
   "metadata": {
    "deletable": false,
    "id": "2cacfc4a"
   },
   "outputs": [
    {
     "data": {
      "text/html": [
       "<div>\n",
       "<style scoped>\n",
       "    .dataframe tbody tr th:only-of-type {\n",
       "        vertical-align: middle;\n",
       "    }\n",
       "\n",
       "    .dataframe tbody tr th {\n",
       "        vertical-align: top;\n",
       "    }\n",
       "\n",
       "    .dataframe thead th {\n",
       "        text-align: right;\n",
       "    }\n",
       "</style>\n",
       "<table border=\"1\" class=\"dataframe\">\n",
       "  <thead>\n",
       "    <tr style=\"text-align: right;\">\n",
       "      <th></th>\n",
       "      <th>Количество записей</th>\n",
       "      <th>Среднее</th>\n",
       "    </tr>\n",
       "    <tr>\n",
       "      <th>children</th>\n",
       "      <th></th>\n",
       "      <th></th>\n",
       "    </tr>\n",
       "  </thead>\n",
       "  <tbody>\n",
       "    <tr>\n",
       "      <th>0</th>\n",
       "      <td>14091.0</td>\n",
       "      <td>7.54%</td>\n",
       "    </tr>\n",
       "    <tr>\n",
       "      <th>1</th>\n",
       "      <td>4808.0</td>\n",
       "      <td>9.23%</td>\n",
       "    </tr>\n",
       "    <tr>\n",
       "      <th>2</th>\n",
       "      <td>2052.0</td>\n",
       "      <td>9.45%</td>\n",
       "    </tr>\n",
       "    <tr>\n",
       "      <th>3</th>\n",
       "      <td>330.0</td>\n",
       "      <td>8.18%</td>\n",
       "    </tr>\n",
       "    <tr>\n",
       "      <th>4</th>\n",
       "      <td>41.0</td>\n",
       "      <td>9.76%</td>\n",
       "    </tr>\n",
       "    <tr>\n",
       "      <th>5</th>\n",
       "      <td>9.0</td>\n",
       "      <td>0.00%</td>\n",
       "    </tr>\n",
       "  </tbody>\n",
       "</table>\n",
       "</div>"
      ],
      "text/plain": [
       "          Количество записей Среднее\n",
       "children                            \n",
       "0                    14091.0   7.54%\n",
       "1                     4808.0   9.23%\n",
       "2                     2052.0   9.45%\n",
       "3                      330.0   8.18%\n",
       "4                       41.0   9.76%\n",
       "5                        9.0   0.00%"
      ]
     },
     "execution_count": 22,
     "metadata": {},
     "output_type": "execute_result"
    }
   ],
   "source": [
    "def percent(x):\n",
    "    return \"{0:.2%}\".format(x)\n",
    "\n",
    "dependence_on_children = data.pivot_table(index = ['children'], values='debt', aggfunc = ('mean', lambda X:X.count()))\n",
    "dependence_on_children['mean'] = dependence_on_children['mean'].apply(percent)\n",
    "dependence_on_children.columns=['Количество записей','Среднее']\n",
    "dependence_on_children.sort_values(by='Количество записей', ascending=False)\n",
    "dependence_on_children\n"
   ]
  },
  {
   "cell_type": "markdown",
   "id": "67aa6979",
   "metadata": {
    "deletable": false,
    "id": "3a6b99ec"
   },
   "source": [
    "**Вывод:\n",
    "Из приведенной выше таблицы делаем вывод о том, что клиенты без детей лучше всего относятся к выплате кредита в срок,думаю это очевидно,т.к. у них нет лишних ежемесячных трат. Следом идут клиентом с 3-мя детьми в семье, думаю, что они отвественней относят к кредитам нежели клиенты с другим количеством детей, предоставленных в таблице (1, 2, 4 ребенка)**\n"
   ]
  },
  {
   "cell_type": "markdown",
   "id": "f93445cf",
   "metadata": {
    "deletable": false,
    "editable": false,
    "id": "97be82ca"
   },
   "source": [
    "#### 3.2 Есть ли зависимость между семейным положением и возвратом кредита в срок?"
   ]
  },
  {
   "cell_type": "code",
   "execution_count": 23,
   "id": "c0f546bc",
   "metadata": {
    "deletable": false,
    "id": "dc3f7ee8"
   },
   "outputs": [
    {
     "data": {
      "text/html": [
       "<div>\n",
       "<style scoped>\n",
       "    .dataframe tbody tr th:only-of-type {\n",
       "        vertical-align: middle;\n",
       "    }\n",
       "\n",
       "    .dataframe tbody tr th {\n",
       "        vertical-align: top;\n",
       "    }\n",
       "\n",
       "    .dataframe thead th {\n",
       "        text-align: right;\n",
       "    }\n",
       "</style>\n",
       "<table border=\"1\" class=\"dataframe\">\n",
       "  <thead>\n",
       "    <tr style=\"text-align: right;\">\n",
       "      <th></th>\n",
       "      <th>Количество записей</th>\n",
       "      <th>Среднее</th>\n",
       "    </tr>\n",
       "    <tr>\n",
       "      <th>family_status</th>\n",
       "      <th></th>\n",
       "      <th></th>\n",
       "    </tr>\n",
       "  </thead>\n",
       "  <tbody>\n",
       "    <tr>\n",
       "      <th>Не женат / не замужем</th>\n",
       "      <td>2796.0</td>\n",
       "      <td>9.76%</td>\n",
       "    </tr>\n",
       "    <tr>\n",
       "      <th>в разводе</th>\n",
       "      <td>1189.0</td>\n",
       "      <td>7.06%</td>\n",
       "    </tr>\n",
       "    <tr>\n",
       "      <th>вдовец / вдова</th>\n",
       "      <td>951.0</td>\n",
       "      <td>6.62%</td>\n",
       "    </tr>\n",
       "    <tr>\n",
       "      <th>гражданский брак</th>\n",
       "      <td>4134.0</td>\n",
       "      <td>9.31%</td>\n",
       "    </tr>\n",
       "    <tr>\n",
       "      <th>женат / замужем</th>\n",
       "      <td>12261.0</td>\n",
       "      <td>7.56%</td>\n",
       "    </tr>\n",
       "  </tbody>\n",
       "</table>\n",
       "</div>"
      ],
      "text/plain": [
       "                       Количество записей Среднее\n",
       "family_status                                    \n",
       "Не женат / не замужем              2796.0   9.76%\n",
       "в разводе                          1189.0   7.06%\n",
       "вдовец / вдова                      951.0   6.62%\n",
       "гражданский брак                   4134.0   9.31%\n",
       "женат / замужем                   12261.0   7.56%"
      ]
     },
     "execution_count": 23,
     "metadata": {},
     "output_type": "execute_result"
    }
   ],
   "source": [
    "dependence_marital_status = data.pivot_table(index = ['family_status'], values='debt', aggfunc = ('mean', lambda X:X.count()))\n",
    "\n",
    "\n",
    "\n",
    "dependence_marital_status['mean'] = dependence_marital_status['mean'].apply(percent)\n",
    "dependence_marital_status.columns=['Количество записей','Среднее']\n",
    "\n",
    "dependence_marital_status"
   ]
  },
  {
   "cell_type": "markdown",
   "id": "27eb2eba",
   "metadata": {
    "deletable": false,
    "id": "1cef7837"
   },
   "source": [
    "**Вывод: В данном случае видно, что категория \"вдовец / вдова\" являются самым отвественными из клиентов.** "
   ]
  },
  {
   "cell_type": "markdown",
   "id": "28b5bdc5",
   "metadata": {
    "deletable": false,
    "editable": false,
    "id": "1e8b2fca"
   },
   "source": [
    "#### 3.3 Есть ли зависимость между уровнем дохода и возвратом кредита в срок?"
   ]
  },
  {
   "cell_type": "code",
   "execution_count": 24,
   "id": "9d8bf65f",
   "metadata": {
    "deletable": false,
    "id": "cd7e3720"
   },
   "outputs": [
    {
     "data": {
      "text/html": [
       "<div>\n",
       "<style scoped>\n",
       "    .dataframe tbody tr th:only-of-type {\n",
       "        vertical-align: middle;\n",
       "    }\n",
       "\n",
       "    .dataframe tbody tr th {\n",
       "        vertical-align: top;\n",
       "    }\n",
       "\n",
       "    .dataframe thead th {\n",
       "        text-align: right;\n",
       "    }\n",
       "</style>\n",
       "<table border=\"1\" class=\"dataframe\">\n",
       "  <thead>\n",
       "    <tr style=\"text-align: right;\">\n",
       "      <th></th>\n",
       "      <th>Количество записей</th>\n",
       "      <th>Среднее</th>\n",
       "    </tr>\n",
       "    <tr>\n",
       "      <th>total_income_category</th>\n",
       "      <th></th>\n",
       "      <th></th>\n",
       "    </tr>\n",
       "  </thead>\n",
       "  <tbody>\n",
       "    <tr>\n",
       "      <th>A</th>\n",
       "      <td>25.0</td>\n",
       "      <td>8.00%</td>\n",
       "    </tr>\n",
       "    <tr>\n",
       "      <th>B</th>\n",
       "      <td>5014.0</td>\n",
       "      <td>7.06%</td>\n",
       "    </tr>\n",
       "    <tr>\n",
       "      <th>C</th>\n",
       "      <td>15921.0</td>\n",
       "      <td>8.50%</td>\n",
       "    </tr>\n",
       "    <tr>\n",
       "      <th>D</th>\n",
       "      <td>349.0</td>\n",
       "      <td>6.02%</td>\n",
       "    </tr>\n",
       "    <tr>\n",
       "      <th>E</th>\n",
       "      <td>22.0</td>\n",
       "      <td>9.09%</td>\n",
       "    </tr>\n",
       "  </tbody>\n",
       "</table>\n",
       "</div>"
      ],
      "text/plain": [
       "                       Количество записей Среднее\n",
       "total_income_category                            \n",
       "A                                    25.0   8.00%\n",
       "B                                  5014.0   7.06%\n",
       "C                                 15921.0   8.50%\n",
       "D                                   349.0   6.02%\n",
       "E                                    22.0   9.09%"
      ]
     },
     "execution_count": 24,
     "metadata": {},
     "output_type": "execute_result"
    }
   ],
   "source": [
    "dependence_income_level = data.pivot_table(index = ['total_income_category'], values='debt', aggfunc = ('mean', lambda X:X.count()))\n",
    "\n",
    "\n",
    "\n",
    "dependence_income_level['mean'] = dependence_income_level['mean'].apply(percent)\n",
    "dependence_income_level.columns=['Количество записей','Среднее']\n",
    "\n",
    "dependence_income_level\n",
    "dependence_income_level# Ваш код будет здесь. Вы можете создавать новые ячейки."
   ]
  },
  {
   "cell_type": "markdown",
   "id": "44cdf8dc",
   "metadata": {
    "deletable": false,
    "id": "e8593def"
   },
   "source": [
    "###### Исправление    \n",
    "**Вывод: В данном случае меньше процент у группы D, но она не показательна, так как количество записей мало.  \n",
    "Таким образом, можно выделить только две группы:** \n",
    "* B\n",
    "* C \n",
    "\n",
    "**Из них с наименьшим значением является категория клиентов группы В, имеющих диапозон дохода от 200001 до 1000000**"
   ]
  },
  {
   "cell_type": "markdown",
   "id": "8751c374",
   "metadata": {
    "deletable": false,
    "id": "e8593def"
   },
   "source": [
    "**Вывод: Лучшиий показатель у клиентов с низким уровнем дохода.Могу предположить, что это связано с тем, что клиенты понимают, что для увелечения их будущего кредитного лимита, им нужна хорошая кредитная история.** "
   ]
  },
  {
   "cell_type": "markdown",
   "id": "0617af33",
   "metadata": {
    "deletable": false,
    "editable": false,
    "id": "99ecbd1f"
   },
   "source": [
    "#### 3.4 Как разные цели кредита влияют на его возврат в срок?"
   ]
  },
  {
   "cell_type": "code",
   "execution_count": 25,
   "id": "4a938569",
   "metadata": {
    "deletable": false,
    "id": "2b687290"
   },
   "outputs": [
    {
     "data": {
      "text/html": [
       "<div>\n",
       "<style scoped>\n",
       "    .dataframe tbody tr th:only-of-type {\n",
       "        vertical-align: middle;\n",
       "    }\n",
       "\n",
       "    .dataframe tbody tr th {\n",
       "        vertical-align: top;\n",
       "    }\n",
       "\n",
       "    .dataframe thead th {\n",
       "        text-align: right;\n",
       "    }\n",
       "</style>\n",
       "<table border=\"1\" class=\"dataframe\">\n",
       "  <thead>\n",
       "    <tr style=\"text-align: right;\">\n",
       "      <th></th>\n",
       "      <th>Количество записей</th>\n",
       "      <th>Среднее</th>\n",
       "    </tr>\n",
       "    <tr>\n",
       "      <th>purpose_category</th>\n",
       "      <th></th>\n",
       "      <th></th>\n",
       "    </tr>\n",
       "  </thead>\n",
       "  <tbody>\n",
       "    <tr>\n",
       "      <th>операции с автомобилем</th>\n",
       "      <td>4279.0</td>\n",
       "      <td>9.35%</td>\n",
       "    </tr>\n",
       "    <tr>\n",
       "      <th>операции с недвижимостью</th>\n",
       "      <td>10751.0</td>\n",
       "      <td>7.26%</td>\n",
       "    </tr>\n",
       "    <tr>\n",
       "      <th>получение образования</th>\n",
       "      <td>3988.0</td>\n",
       "      <td>9.25%</td>\n",
       "    </tr>\n",
       "    <tr>\n",
       "      <th>проведение свадьбы</th>\n",
       "      <td>2313.0</td>\n",
       "      <td>7.91%</td>\n",
       "    </tr>\n",
       "  </tbody>\n",
       "</table>\n",
       "</div>"
      ],
      "text/plain": [
       "                          Количество записей Среднее\n",
       "purpose_category                                    \n",
       "операции с автомобилем                4279.0   9.35%\n",
       "операции с недвижимостью             10751.0   7.26%\n",
       "получение образования                 3988.0   9.25%\n",
       "проведение свадьбы                    2313.0   7.91%"
      ]
     },
     "execution_count": 25,
     "metadata": {},
     "output_type": "execute_result"
    }
   ],
   "source": [
    "dependence_purpose = data.pivot_table(index = ['purpose_category'], values='debt', aggfunc = ('mean', lambda X:X.count()))\n",
    "dependence_purpose['mean'] = dependence_purpose['mean'].apply(percent)\n",
    "dependence_purpose.columns=['Количество записей','Среднее']\n",
    "dependence_purpose# Ваш код будет здесь. Вы можете создавать новые ячейки."
   ]
  },
  {
   "cell_type": "markdown",
   "id": "d9811dd4",
   "metadata": {
    "deletable": false,
    "id": "b4bb2ce6"
   },
   "source": [
    "**Вывод: Лучший показатель у клиентов с целью покупки недвижимости. Думаю, что это связано с тем, что покупка недвижимости является очень отвественным шагом для любого человека, поэтому создавать задолжностей** "
   ]
  },
  {
   "cell_type": "markdown",
   "id": "002468c4",
   "metadata": {
    "deletable": false,
    "editable": false,
    "id": "09c3ac4c"
   },
   "source": [
    "#### 3.5 Приведите возможные причины появления пропусков в исходных данных."
   ]
  },
  {
   "cell_type": "markdown",
   "id": "de0b1e23",
   "metadata": {
    "deletable": false,
    "id": "9da2ceda"
   },
   "source": [
    "*Ответ: Считаю, что возможными причинами появления пропусков являются: технический сбой в импорте или обработке данных.* "
   ]
  },
  {
   "cell_type": "markdown",
   "id": "7ecb58f1",
   "metadata": {
    "deletable": false,
    "editable": false,
    "id": "7b0487d6"
   },
   "source": [
    "#### 3.6 Объясните, почему заполнить пропуски медианным значением — лучшее решение для количественных переменных."
   ]
  },
  {
   "cell_type": "markdown",
   "id": "8366c7cb",
   "metadata": {
    "deletable": false,
    "id": "7ecf2b8e"
   },
   "source": [
    "*Ответ: Среднее значение некорректно характеризует данные, когда некоторые значения сильно выделяются среди большинства* "
   ]
  },
  {
   "cell_type": "markdown",
   "id": "2bb3a485",
   "metadata": {
    "deletable": false,
    "editable": false,
    "id": "6db5255a"
   },
   "source": [
    "### Шаг 4: общий вывод."
   ]
  },
  {
   "cell_type": "markdown",
   "id": "4ff5e450",
   "metadata": {
    "deletable": false,
    "id": "bad65432"
   },
   "source": [
    "##### В данной работе проделаны следующие шаги:  \n",
    "* выявлены и обработаны дубликаты, аномальные значения;  \n",
    "* удалены пропуски;  \n",
    "* произведена категоризация данных; \n",
    "\n",
    "##### После чего был произведен анализ зависимостей:  \n",
    "* между количеством детей и возвратом кредита в срок;  \n",
    "* между семейным положением и возвратом кредита в срок;  \n",
    "* между уровнем дохода и возвратом кредита в срок;\n",
    "* между цели кредита и возвратом кредита в срок;\n",
    "\n",
    "##### После был сославлен следующие выводы:\n",
    "Клиенты без детей меньше всего просрачивают платежи, после них идут семьи с 3-мя детьми.\n",
    "По семейному статусу лучшие клиенты в категориях:  \n",
    "* вдовец / вдова\n",
    "* в разводе  \n",
    "\n",
    "По заработку категория клиентов В (от 200001 до 1000000).  \n",
    "По цели кредита - операции с недвижимостью.\n"
   ]
  },
  {
   "cell_type": "code",
   "execution_count": null,
   "id": "2e752acf",
   "metadata": {},
   "outputs": [],
   "source": []
  }
 ],
 "metadata": {
  "ExecuteTimeLog": [
   {
    "duration": 553,
    "start_time": "2022-12-10T13:21:50.979Z"
   },
   {
    "duration": 24,
    "start_time": "2022-12-10T13:21:51.534Z"
   },
   {
    "duration": 17,
    "start_time": "2022-12-10T13:21:51.560Z"
   },
   {
    "duration": 10,
    "start_time": "2022-12-10T13:21:51.579Z"
   },
   {
    "duration": 60,
    "start_time": "2022-12-10T13:21:51.591Z"
   },
   {
    "duration": 4,
    "start_time": "2022-12-10T13:21:51.653Z"
   },
   {
    "duration": 16,
    "start_time": "2022-12-10T13:21:51.659Z"
   },
   {
    "duration": 5,
    "start_time": "2022-12-10T13:21:51.676Z"
   },
   {
    "duration": 11,
    "start_time": "2022-12-10T13:21:51.683Z"
   },
   {
    "duration": 5,
    "start_time": "2022-12-10T13:21:51.698Z"
   },
   {
    "duration": 59,
    "start_time": "2022-12-10T13:21:51.704Z"
   },
   {
    "duration": 10,
    "start_time": "2022-12-10T13:21:51.765Z"
   },
   {
    "duration": 4,
    "start_time": "2022-12-10T13:21:51.777Z"
   },
   {
    "duration": 13,
    "start_time": "2022-12-10T13:21:51.783Z"
   },
   {
    "duration": 24,
    "start_time": "2022-12-10T13:21:51.798Z"
   },
   {
    "duration": 44,
    "start_time": "2022-12-10T13:21:51.825Z"
   },
   {
    "duration": 4,
    "start_time": "2022-12-10T13:21:51.871Z"
   },
   {
    "duration": 15,
    "start_time": "2022-12-10T13:21:51.877Z"
   },
   {
    "duration": 10,
    "start_time": "2022-12-10T13:21:51.894Z"
   },
   {
    "duration": 11,
    "start_time": "2022-12-10T13:21:51.905Z"
   },
   {
    "duration": 14,
    "start_time": "2022-12-10T13:21:51.917Z"
   },
   {
    "duration": 18,
    "start_time": "2022-12-10T13:21:51.933Z"
   },
   {
    "duration": 3,
    "start_time": "2022-12-10T13:21:51.952Z"
   },
   {
    "duration": 7,
    "start_time": "2022-12-10T13:21:51.956Z"
   },
   {
    "duration": 7,
    "start_time": "2022-12-10T13:21:51.965Z"
   },
   {
    "duration": 71,
    "start_time": "2022-12-10T13:37:48.285Z"
   },
   {
    "duration": 22,
    "start_time": "2022-12-10T13:39:13.562Z"
   },
   {
    "duration": 521,
    "start_time": "2022-12-10T13:39:41.637Z"
   },
   {
    "duration": 29,
    "start_time": "2022-12-10T13:39:42.161Z"
   },
   {
    "duration": 18,
    "start_time": "2022-12-10T13:39:42.192Z"
   },
   {
    "duration": 14,
    "start_time": "2022-12-10T13:39:42.211Z"
   },
   {
    "duration": 54,
    "start_time": "2022-12-10T13:39:42.227Z"
   },
   {
    "duration": 3,
    "start_time": "2022-12-10T13:39:42.284Z"
   },
   {
    "duration": 11,
    "start_time": "2022-12-10T13:39:42.289Z"
   },
   {
    "duration": 4,
    "start_time": "2022-12-10T13:39:42.303Z"
   },
   {
    "duration": 10,
    "start_time": "2022-12-10T13:39:42.308Z"
   },
   {
    "duration": 33,
    "start_time": "2022-12-10T13:39:42.319Z"
   },
   {
    "duration": 38,
    "start_time": "2022-12-10T13:39:42.354Z"
   },
   {
    "duration": 12,
    "start_time": "2022-12-10T13:39:42.394Z"
   },
   {
    "duration": 4,
    "start_time": "2022-12-10T13:39:42.408Z"
   },
   {
    "duration": 39,
    "start_time": "2022-12-10T13:39:42.415Z"
   },
   {
    "duration": 20,
    "start_time": "2022-12-10T13:39:42.456Z"
   },
   {
    "duration": 17,
    "start_time": "2022-12-10T13:39:42.477Z"
   },
   {
    "duration": 4,
    "start_time": "2022-12-10T13:39:42.496Z"
   },
   {
    "duration": 16,
    "start_time": "2022-12-10T13:39:42.501Z"
   },
   {
    "duration": 6,
    "start_time": "2022-12-10T13:39:42.518Z"
   },
   {
    "duration": 3,
    "start_time": "2022-12-10T13:39:42.552Z"
   },
   {
    "duration": 15,
    "start_time": "2022-12-10T13:39:42.557Z"
   },
   {
    "duration": 94,
    "start_time": "2022-12-10T13:39:42.574Z"
   },
   {
    "duration": 0,
    "start_time": "2022-12-10T13:39:42.669Z"
   },
   {
    "duration": 0,
    "start_time": "2022-12-10T13:39:42.671Z"
   },
   {
    "duration": 0,
    "start_time": "2022-12-10T13:39:42.672Z"
   },
   {
    "duration": 15,
    "start_time": "2022-12-10T13:43:54.545Z"
   },
   {
    "duration": 477,
    "start_time": "2022-12-10T13:44:04.479Z"
   },
   {
    "duration": 23,
    "start_time": "2022-12-10T13:44:04.958Z"
   },
   {
    "duration": 16,
    "start_time": "2022-12-10T13:44:04.983Z"
   },
   {
    "duration": 11,
    "start_time": "2022-12-10T13:44:05.001Z"
   },
   {
    "duration": 63,
    "start_time": "2022-12-10T13:44:05.014Z"
   },
   {
    "duration": 4,
    "start_time": "2022-12-10T13:44:05.079Z"
   },
   {
    "duration": 15,
    "start_time": "2022-12-10T13:44:05.085Z"
   },
   {
    "duration": 37,
    "start_time": "2022-12-10T13:44:05.102Z"
   },
   {
    "duration": 15,
    "start_time": "2022-12-10T13:44:05.140Z"
   },
   {
    "duration": 5,
    "start_time": "2022-12-10T13:44:05.159Z"
   },
   {
    "duration": 49,
    "start_time": "2022-12-10T13:44:05.165Z"
   },
   {
    "duration": 10,
    "start_time": "2022-12-10T13:44:05.216Z"
   },
   {
    "duration": 10,
    "start_time": "2022-12-10T13:44:05.228Z"
   },
   {
    "duration": 23,
    "start_time": "2022-12-10T13:44:05.240Z"
   },
   {
    "duration": 21,
    "start_time": "2022-12-10T13:44:05.265Z"
   },
   {
    "duration": 18,
    "start_time": "2022-12-10T13:44:05.288Z"
   },
   {
    "duration": 4,
    "start_time": "2022-12-10T13:44:05.308Z"
   },
   {
    "duration": 37,
    "start_time": "2022-12-10T13:44:05.314Z"
   },
   {
    "duration": 7,
    "start_time": "2022-12-10T13:44:05.353Z"
   },
   {
    "duration": 5,
    "start_time": "2022-12-10T13:44:05.362Z"
   },
   {
    "duration": 11,
    "start_time": "2022-12-10T13:44:05.369Z"
   },
   {
    "duration": 101,
    "start_time": "2022-12-10T13:44:05.381Z"
   },
   {
    "duration": 0,
    "start_time": "2022-12-10T13:44:05.484Z"
   },
   {
    "duration": 0,
    "start_time": "2022-12-10T13:44:05.485Z"
   },
   {
    "duration": 0,
    "start_time": "2022-12-10T13:44:05.485Z"
   },
   {
    "duration": 14,
    "start_time": "2022-12-10T13:44:18.841Z"
   },
   {
    "duration": 18,
    "start_time": "2022-12-10T13:45:23.911Z"
   },
   {
    "duration": 32,
    "start_time": "2022-12-10T13:45:29.605Z"
   },
   {
    "duration": 17,
    "start_time": "2022-12-10T13:46:28.840Z"
   },
   {
    "duration": 23,
    "start_time": "2022-12-10T13:46:32.495Z"
   },
   {
    "duration": 32,
    "start_time": "2022-12-10T13:47:57.569Z"
   },
   {
    "duration": 29,
    "start_time": "2022-12-10T13:48:52.185Z"
   },
   {
    "duration": 33,
    "start_time": "2022-12-10T13:49:00.116Z"
   },
   {
    "duration": 472,
    "start_time": "2022-12-10T13:49:08.004Z"
   },
   {
    "duration": 25,
    "start_time": "2022-12-10T13:49:08.477Z"
   },
   {
    "duration": 17,
    "start_time": "2022-12-10T13:49:08.504Z"
   },
   {
    "duration": 35,
    "start_time": "2022-12-10T13:49:08.523Z"
   },
   {
    "duration": 38,
    "start_time": "2022-12-10T13:49:08.560Z"
   },
   {
    "duration": 4,
    "start_time": "2022-12-10T13:49:08.600Z"
   },
   {
    "duration": 12,
    "start_time": "2022-12-10T13:49:08.606Z"
   },
   {
    "duration": 4,
    "start_time": "2022-12-10T13:49:08.620Z"
   },
   {
    "duration": 29,
    "start_time": "2022-12-10T13:49:08.626Z"
   },
   {
    "duration": 5,
    "start_time": "2022-12-10T13:49:08.658Z"
   },
   {
    "duration": 39,
    "start_time": "2022-12-10T13:49:08.665Z"
   },
   {
    "duration": 11,
    "start_time": "2022-12-10T13:49:08.705Z"
   },
   {
    "duration": 39,
    "start_time": "2022-12-10T13:49:08.717Z"
   },
   {
    "duration": 13,
    "start_time": "2022-12-10T13:49:08.758Z"
   },
   {
    "duration": 21,
    "start_time": "2022-12-10T13:49:08.773Z"
   },
   {
    "duration": 18,
    "start_time": "2022-12-10T13:49:08.796Z"
   },
   {
    "duration": 4,
    "start_time": "2022-12-10T13:49:08.816Z"
   },
   {
    "duration": 43,
    "start_time": "2022-12-10T13:49:08.821Z"
   },
   {
    "duration": 9,
    "start_time": "2022-12-10T13:49:08.866Z"
   },
   {
    "duration": 4,
    "start_time": "2022-12-10T13:49:08.878Z"
   },
   {
    "duration": 18,
    "start_time": "2022-12-10T13:49:08.883Z"
   },
   {
    "duration": 34,
    "start_time": "2022-12-10T13:49:08.903Z"
   },
   {
    "duration": 3,
    "start_time": "2022-12-10T13:49:08.951Z"
   },
   {
    "duration": 14,
    "start_time": "2022-12-10T13:49:08.956Z"
   },
   {
    "duration": 5,
    "start_time": "2022-12-10T13:49:08.972Z"
   },
   {
    "duration": 32,
    "start_time": "2022-12-10T13:55:41.112Z"
   },
   {
    "duration": 28,
    "start_time": "2022-12-10T13:55:48.512Z"
   },
   {
    "duration": 24,
    "start_time": "2022-12-10T13:55:53.677Z"
   },
   {
    "duration": 25,
    "start_time": "2022-12-10T13:56:43.305Z"
   },
   {
    "duration": 66,
    "start_time": "2022-12-10T13:56:46.613Z"
   },
   {
    "duration": 27,
    "start_time": "2022-12-10T13:56:53.754Z"
   },
   {
    "duration": 26,
    "start_time": "2022-12-10T13:57:07.615Z"
   },
   {
    "duration": 24,
    "start_time": "2022-12-10T14:09:44.043Z"
   },
   {
    "duration": 27,
    "start_time": "2022-12-10T14:10:26.465Z"
   },
   {
    "duration": 24,
    "start_time": "2022-12-10T14:10:33.041Z"
   },
   {
    "duration": 25,
    "start_time": "2022-12-10T14:21:35.149Z"
   },
   {
    "duration": 25,
    "start_time": "2022-12-10T14:21:56.174Z"
   },
   {
    "duration": 26,
    "start_time": "2022-12-10T14:22:08.214Z"
   },
   {
    "duration": 94,
    "start_time": "2022-12-10T14:22:17.944Z"
   },
   {
    "duration": 27,
    "start_time": "2022-12-10T14:22:22.761Z"
   },
   {
    "duration": 26,
    "start_time": "2022-12-10T14:22:30.254Z"
   },
   {
    "duration": 26,
    "start_time": "2022-12-10T14:22:33.433Z"
   },
   {
    "duration": 307,
    "start_time": "2022-12-10T14:22:45.151Z"
   },
   {
    "duration": 301,
    "start_time": "2022-12-10T14:23:04.553Z"
   },
   {
    "duration": 24,
    "start_time": "2022-12-10T14:23:09.917Z"
   },
   {
    "duration": 14,
    "start_time": "2022-12-10T14:33:34.681Z"
   },
   {
    "duration": 450,
    "start_time": "2022-12-10T14:33:52.489Z"
   },
   {
    "duration": 33,
    "start_time": "2022-12-10T14:34:25.682Z"
   },
   {
    "duration": 25,
    "start_time": "2022-12-10T14:36:57.148Z"
   },
   {
    "duration": 28,
    "start_time": "2022-12-10T14:37:44.713Z"
   },
   {
    "duration": 29,
    "start_time": "2022-12-10T14:38:18.056Z"
   },
   {
    "duration": 26,
    "start_time": "2022-12-10T14:38:40.496Z"
   },
   {
    "duration": 28,
    "start_time": "2022-12-10T14:38:50.305Z"
   },
   {
    "duration": 512,
    "start_time": "2022-12-10T14:38:56.760Z"
   },
   {
    "duration": 25,
    "start_time": "2022-12-10T14:38:57.274Z"
   },
   {
    "duration": 18,
    "start_time": "2022-12-10T14:38:57.300Z"
   },
   {
    "duration": 31,
    "start_time": "2022-12-10T14:38:57.321Z"
   },
   {
    "duration": 37,
    "start_time": "2022-12-10T14:38:57.355Z"
   },
   {
    "duration": 4,
    "start_time": "2022-12-10T14:38:57.394Z"
   },
   {
    "duration": 13,
    "start_time": "2022-12-10T14:38:57.400Z"
   },
   {
    "duration": 5,
    "start_time": "2022-12-10T14:38:57.415Z"
   },
   {
    "duration": 36,
    "start_time": "2022-12-10T14:38:57.421Z"
   },
   {
    "duration": 5,
    "start_time": "2022-12-10T14:38:57.459Z"
   },
   {
    "duration": 39,
    "start_time": "2022-12-10T14:38:57.465Z"
   },
   {
    "duration": 11,
    "start_time": "2022-12-10T14:38:57.505Z"
   },
   {
    "duration": 33,
    "start_time": "2022-12-10T14:38:57.518Z"
   },
   {
    "duration": 23,
    "start_time": "2022-12-10T14:38:57.555Z"
   },
   {
    "duration": 29,
    "start_time": "2022-12-10T14:38:57.580Z"
   },
   {
    "duration": 19,
    "start_time": "2022-12-10T14:38:57.611Z"
   },
   {
    "duration": 20,
    "start_time": "2022-12-10T14:38:57.632Z"
   },
   {
    "duration": 15,
    "start_time": "2022-12-10T14:38:57.654Z"
   },
   {
    "duration": 7,
    "start_time": "2022-12-10T14:38:57.671Z"
   },
   {
    "duration": 5,
    "start_time": "2022-12-10T14:38:57.680Z"
   },
   {
    "duration": 19,
    "start_time": "2022-12-10T14:38:57.687Z"
   },
   {
    "duration": 63,
    "start_time": "2022-12-10T14:38:57.708Z"
   },
   {
    "duration": 29,
    "start_time": "2022-12-10T14:38:57.773Z"
   },
   {
    "duration": 53,
    "start_time": "2022-12-10T14:38:57.804Z"
   },
   {
    "duration": 3,
    "start_time": "2022-12-10T14:38:57.859Z"
   },
   {
    "duration": 27,
    "start_time": "2022-12-10T14:39:16.478Z"
   },
   {
    "duration": 26,
    "start_time": "2022-12-10T14:39:25.065Z"
   },
   {
    "duration": 27,
    "start_time": "2022-12-10T14:39:37.848Z"
   },
   {
    "duration": 29,
    "start_time": "2022-12-10T14:39:45.161Z"
   },
   {
    "duration": 38,
    "start_time": "2022-12-10T14:45:28.175Z"
   },
   {
    "duration": 34,
    "start_time": "2022-12-10T14:45:41.315Z"
   },
   {
    "duration": 35,
    "start_time": "2022-12-10T14:56:56.976Z"
   },
   {
    "duration": 77,
    "start_time": "2022-12-10T14:59:40.347Z"
   },
   {
    "duration": 25,
    "start_time": "2022-12-10T14:59:46.897Z"
   },
   {
    "duration": 27,
    "start_time": "2022-12-10T15:00:03.701Z"
   },
   {
    "duration": 27,
    "start_time": "2022-12-10T15:00:16.015Z"
   },
   {
    "duration": 4,
    "start_time": "2022-12-10T15:00:20.815Z"
   },
   {
    "duration": 25,
    "start_time": "2022-12-10T15:00:36.974Z"
   },
   {
    "duration": 26,
    "start_time": "2022-12-10T15:00:48.854Z"
   },
   {
    "duration": 26,
    "start_time": "2022-12-10T15:00:55.535Z"
   },
   {
    "duration": 35,
    "start_time": "2022-12-10T15:01:05.564Z"
   },
   {
    "duration": 27,
    "start_time": "2022-12-10T15:01:11.488Z"
   },
   {
    "duration": 29,
    "start_time": "2022-12-10T15:01:26.055Z"
   },
   {
    "duration": 57,
    "start_time": "2022-12-11T15:43:10.956Z"
   },
   {
    "duration": 733,
    "start_time": "2022-12-11T15:43:23.180Z"
   },
   {
    "duration": 23,
    "start_time": "2022-12-11T15:43:23.915Z"
   },
   {
    "duration": 16,
    "start_time": "2022-12-11T15:43:23.939Z"
   },
   {
    "duration": 11,
    "start_time": "2022-12-11T15:43:23.957Z"
   },
   {
    "duration": 38,
    "start_time": "2022-12-11T15:43:23.969Z"
   },
   {
    "duration": 4,
    "start_time": "2022-12-11T15:43:24.010Z"
   },
   {
    "duration": 32,
    "start_time": "2022-12-11T15:43:24.016Z"
   },
   {
    "duration": 5,
    "start_time": "2022-12-11T15:43:24.051Z"
   },
   {
    "duration": 8,
    "start_time": "2022-12-11T15:43:24.058Z"
   },
   {
    "duration": 5,
    "start_time": "2022-12-11T15:43:24.069Z"
   },
   {
    "duration": 42,
    "start_time": "2022-12-11T15:43:24.076Z"
   },
   {
    "duration": 10,
    "start_time": "2022-12-11T15:43:24.120Z"
   },
   {
    "duration": 4,
    "start_time": "2022-12-11T15:43:24.155Z"
   },
   {
    "duration": 17,
    "start_time": "2022-12-11T15:43:24.161Z"
   },
   {
    "duration": 33,
    "start_time": "2022-12-11T15:43:24.180Z"
   },
   {
    "duration": 18,
    "start_time": "2022-12-11T15:43:24.215Z"
   },
   {
    "duration": 22,
    "start_time": "2022-12-11T15:43:24.235Z"
   },
   {
    "duration": 13,
    "start_time": "2022-12-11T15:43:24.258Z"
   },
   {
    "duration": 6,
    "start_time": "2022-12-11T15:43:24.273Z"
   },
   {
    "duration": 3,
    "start_time": "2022-12-11T15:43:24.281Z"
   },
   {
    "duration": 13,
    "start_time": "2022-12-11T15:43:24.286Z"
   },
   {
    "duration": 59,
    "start_time": "2022-12-11T15:43:24.300Z"
   },
   {
    "duration": 24,
    "start_time": "2022-12-11T15:43:24.361Z"
   },
   {
    "duration": 24,
    "start_time": "2022-12-11T15:43:24.386Z"
   },
   {
    "duration": 47,
    "start_time": "2022-12-11T15:43:24.412Z"
   }
  ],
  "colab": {
   "name": "dpp_template_part2.ipynb",
   "provenance": []
  },
  "kernelspec": {
   "display_name": "Python 3 (ipykernel)",
   "language": "python",
   "name": "python3"
  },
  "language_info": {
   "codemirror_mode": {
    "name": "ipython",
    "version": 3
   },
   "file_extension": ".py",
   "mimetype": "text/x-python",
   "name": "python",
   "nbconvert_exporter": "python",
   "pygments_lexer": "ipython3",
   "version": "3.9.5"
  },
  "toc": {
   "base_numbering": 1,
   "nav_menu": {},
   "number_sections": true,
   "sideBar": true,
   "skip_h1_title": true,
   "title_cell": "Table of Contents",
   "title_sidebar": "Contents",
   "toc_cell": false,
   "toc_position": {},
   "toc_section_display": true,
   "toc_window_display": false
  }
 },
 "nbformat": 4,
 "nbformat_minor": 5
}
