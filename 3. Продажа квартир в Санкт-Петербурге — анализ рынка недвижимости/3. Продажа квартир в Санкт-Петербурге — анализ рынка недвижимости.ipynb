{
 "cells": [
  {
   "cell_type": "markdown",
   "metadata": {
    "id": "A4A4iexYh94w"
   },
   "source": [
    "# Исследование объявлений о продаже квартир\n",
    "\n",
    "В вашем распоряжении данные сервиса Яндекс.Недвижимость — архив объявлений о продаже квартир в Санкт-Петербурге и соседних населённых пунктов за несколько лет. Нужно научиться определять рыночную стоимость объектов недвижимости. Ваша задача — установить параметры. Это позволит построить автоматизированную систему: она отследит аномалии и мошенническую деятельность. \n",
    "\n",
    "По каждой квартире на продажу доступны два вида данных. Первые вписаны пользователем, вторые — получены автоматически на основе картографических данных. Например, расстояние до центра, аэропорта, ближайшего парка и водоёма. "
   ]
  },
  {
   "cell_type": "markdown",
   "metadata": {
    "id": "4NfgntLZtIYu"
   },
   "source": [
    "# Описание данных:\n",
    "\n",
    "\n",
    "*  airports_nearest — расстояние до ближайшего   \n",
    "*аэропорта в метрах (м)  \n",
    "*balcony — число балконов  \n",
    "*ceiling_height — высота потолков (м)  \n",
    "*cityCenters_nearest — расстояние до центра города (м)  \n",
    "*days_exposition — сколько дней было размещено *объявление (от публикации до снятия)  \n",
    "*first_day_exposition — дата публикации  \n",
    "*floor — этаж  \n",
    "*floors_total — всего этажей в доме  \n",
    "*is_apartment — апартаменты (булев тип)  \n",
    "*kitchen_area — площадь кухни в квадратных метрах (м²)  \n",
    "*last_price — цена на момент снятия с публикации  \n",
    "*living_area — жилая площадь в квадратных метрах(м²)  \n",
    "*locality_name — название населённого пункта  \n",
    "*open_plan — свободная планировка (булев тип)  \n",
    "*parks_around3000 — число парков в радиусе 3 км  \n",
    "*parks_nearest — расстояние до ближайшего парка (м)  \n",
    "*ponds_around3000 — число водоёмов в радиусе 3 км  \n",
    "*ponds_nearest — расстояние до ближайшего водоёма (м)  \n",
    "*rooms — число комнат  \n",
    "*studio — квартира-студия (булев тип)  \n",
    "*total_area — площадь квартиры в квадратных метрах (м²)  \n",
    "*total_images — число фотографий квартиры в объявлении  \n",
    "\n",
    "\n",
    "\n",
    "\n"
   ]
  },
  {
   "cell_type": "markdown",
   "metadata": {
    "id": "9cMDwWVQh94y"
   },
   "source": [
    "### Откройте файл с данными и изучите общую информацию. "
   ]
  },
  {
   "cell_type": "code",
   "execution_count": 1,
   "metadata": {
    "id": "K4qiBPcQh94z",
    "scrolled": true
   },
   "outputs": [],
   "source": [
    "import pandas as pd\n",
    "import matplotlib.pyplot as plt\n",
    "import seaborn as sns\n",
    "pd.set_option('chained_assignment', None)\n",
    "try:\n",
    "    data = pd.read_csv('/content/real_estate_data.csv', sep = '\\t')\n",
    "except:\n",
    "    data = pd.read_csv('/datasets/real_estate_data.csv', sep='\\t')\n"
   ]
  },
  {
   "cell_type": "code",
   "execution_count": 2,
   "metadata": {
    "colab": {
     "base_uri": "https://localhost:8080/",
     "height": 386
    },
    "id": "k5Hd_fc5h940",
    "outputId": "00944533-a5d5-46e0-ac49-19ae812f7707"
   },
   "outputs": [
    {
     "data": {
      "text/html": [
       "<div>\n",
       "<style scoped>\n",
       "    .dataframe tbody tr th:only-of-type {\n",
       "        vertical-align: middle;\n",
       "    }\n",
       "\n",
       "    .dataframe tbody tr th {\n",
       "        vertical-align: top;\n",
       "    }\n",
       "\n",
       "    .dataframe thead th {\n",
       "        text-align: right;\n",
       "    }\n",
       "</style>\n",
       "<table border=\"1\" class=\"dataframe\">\n",
       "  <thead>\n",
       "    <tr style=\"text-align: right;\">\n",
       "      <th></th>\n",
       "      <th>total_images</th>\n",
       "      <th>last_price</th>\n",
       "      <th>total_area</th>\n",
       "      <th>first_day_exposition</th>\n",
       "      <th>rooms</th>\n",
       "      <th>ceiling_height</th>\n",
       "      <th>floors_total</th>\n",
       "      <th>living_area</th>\n",
       "      <th>floor</th>\n",
       "      <th>is_apartment</th>\n",
       "      <th>...</th>\n",
       "      <th>kitchen_area</th>\n",
       "      <th>balcony</th>\n",
       "      <th>locality_name</th>\n",
       "      <th>airports_nearest</th>\n",
       "      <th>cityCenters_nearest</th>\n",
       "      <th>parks_around3000</th>\n",
       "      <th>parks_nearest</th>\n",
       "      <th>ponds_around3000</th>\n",
       "      <th>ponds_nearest</th>\n",
       "      <th>days_exposition</th>\n",
       "    </tr>\n",
       "  </thead>\n",
       "  <tbody>\n",
       "    <tr>\n",
       "      <th>0</th>\n",
       "      <td>20</td>\n",
       "      <td>13000000.0</td>\n",
       "      <td>108.0</td>\n",
       "      <td>2019-03-07T00:00:00</td>\n",
       "      <td>3</td>\n",
       "      <td>2.70</td>\n",
       "      <td>16.0</td>\n",
       "      <td>51.0</td>\n",
       "      <td>8</td>\n",
       "      <td>NaN</td>\n",
       "      <td>...</td>\n",
       "      <td>25.0</td>\n",
       "      <td>NaN</td>\n",
       "      <td>Санкт-Петербург</td>\n",
       "      <td>18863.0</td>\n",
       "      <td>16028.0</td>\n",
       "      <td>1.0</td>\n",
       "      <td>482.0</td>\n",
       "      <td>2.0</td>\n",
       "      <td>755.0</td>\n",
       "      <td>NaN</td>\n",
       "    </tr>\n",
       "    <tr>\n",
       "      <th>1</th>\n",
       "      <td>7</td>\n",
       "      <td>3350000.0</td>\n",
       "      <td>40.4</td>\n",
       "      <td>2018-12-04T00:00:00</td>\n",
       "      <td>1</td>\n",
       "      <td>NaN</td>\n",
       "      <td>11.0</td>\n",
       "      <td>18.6</td>\n",
       "      <td>1</td>\n",
       "      <td>NaN</td>\n",
       "      <td>...</td>\n",
       "      <td>11.0</td>\n",
       "      <td>2.0</td>\n",
       "      <td>посёлок Шушары</td>\n",
       "      <td>12817.0</td>\n",
       "      <td>18603.0</td>\n",
       "      <td>0.0</td>\n",
       "      <td>NaN</td>\n",
       "      <td>0.0</td>\n",
       "      <td>NaN</td>\n",
       "      <td>81.0</td>\n",
       "    </tr>\n",
       "    <tr>\n",
       "      <th>2</th>\n",
       "      <td>10</td>\n",
       "      <td>5196000.0</td>\n",
       "      <td>56.0</td>\n",
       "      <td>2015-08-20T00:00:00</td>\n",
       "      <td>2</td>\n",
       "      <td>NaN</td>\n",
       "      <td>5.0</td>\n",
       "      <td>34.3</td>\n",
       "      <td>4</td>\n",
       "      <td>NaN</td>\n",
       "      <td>...</td>\n",
       "      <td>8.3</td>\n",
       "      <td>0.0</td>\n",
       "      <td>Санкт-Петербург</td>\n",
       "      <td>21741.0</td>\n",
       "      <td>13933.0</td>\n",
       "      <td>1.0</td>\n",
       "      <td>90.0</td>\n",
       "      <td>2.0</td>\n",
       "      <td>574.0</td>\n",
       "      <td>558.0</td>\n",
       "    </tr>\n",
       "    <tr>\n",
       "      <th>3</th>\n",
       "      <td>0</td>\n",
       "      <td>64900000.0</td>\n",
       "      <td>159.0</td>\n",
       "      <td>2015-07-24T00:00:00</td>\n",
       "      <td>3</td>\n",
       "      <td>NaN</td>\n",
       "      <td>14.0</td>\n",
       "      <td>NaN</td>\n",
       "      <td>9</td>\n",
       "      <td>NaN</td>\n",
       "      <td>...</td>\n",
       "      <td>NaN</td>\n",
       "      <td>0.0</td>\n",
       "      <td>Санкт-Петербург</td>\n",
       "      <td>28098.0</td>\n",
       "      <td>6800.0</td>\n",
       "      <td>2.0</td>\n",
       "      <td>84.0</td>\n",
       "      <td>3.0</td>\n",
       "      <td>234.0</td>\n",
       "      <td>424.0</td>\n",
       "    </tr>\n",
       "    <tr>\n",
       "      <th>4</th>\n",
       "      <td>2</td>\n",
       "      <td>10000000.0</td>\n",
       "      <td>100.0</td>\n",
       "      <td>2018-06-19T00:00:00</td>\n",
       "      <td>2</td>\n",
       "      <td>3.03</td>\n",
       "      <td>14.0</td>\n",
       "      <td>32.0</td>\n",
       "      <td>13</td>\n",
       "      <td>NaN</td>\n",
       "      <td>...</td>\n",
       "      <td>41.0</td>\n",
       "      <td>NaN</td>\n",
       "      <td>Санкт-Петербург</td>\n",
       "      <td>31856.0</td>\n",
       "      <td>8098.0</td>\n",
       "      <td>2.0</td>\n",
       "      <td>112.0</td>\n",
       "      <td>1.0</td>\n",
       "      <td>48.0</td>\n",
       "      <td>121.0</td>\n",
       "    </tr>\n",
       "  </tbody>\n",
       "</table>\n",
       "<p>5 rows × 22 columns</p>\n",
       "</div>"
      ],
      "text/plain": [
       "   total_images  last_price  total_area first_day_exposition  rooms  \\\n",
       "0            20  13000000.0       108.0  2019-03-07T00:00:00      3   \n",
       "1             7   3350000.0        40.4  2018-12-04T00:00:00      1   \n",
       "2            10   5196000.0        56.0  2015-08-20T00:00:00      2   \n",
       "3             0  64900000.0       159.0  2015-07-24T00:00:00      3   \n",
       "4             2  10000000.0       100.0  2018-06-19T00:00:00      2   \n",
       "\n",
       "   ceiling_height  floors_total  living_area  floor is_apartment  ...  \\\n",
       "0            2.70          16.0         51.0      8          NaN  ...   \n",
       "1             NaN          11.0         18.6      1          NaN  ...   \n",
       "2             NaN           5.0         34.3      4          NaN  ...   \n",
       "3             NaN          14.0          NaN      9          NaN  ...   \n",
       "4            3.03          14.0         32.0     13          NaN  ...   \n",
       "\n",
       "   kitchen_area  balcony    locality_name  airports_nearest  \\\n",
       "0          25.0      NaN  Санкт-Петербург           18863.0   \n",
       "1          11.0      2.0   посёлок Шушары           12817.0   \n",
       "2           8.3      0.0  Санкт-Петербург           21741.0   \n",
       "3           NaN      0.0  Санкт-Петербург           28098.0   \n",
       "4          41.0      NaN  Санкт-Петербург           31856.0   \n",
       "\n",
       "  cityCenters_nearest  parks_around3000  parks_nearest  ponds_around3000  \\\n",
       "0             16028.0               1.0          482.0               2.0   \n",
       "1             18603.0               0.0            NaN               0.0   \n",
       "2             13933.0               1.0           90.0               2.0   \n",
       "3              6800.0               2.0           84.0               3.0   \n",
       "4              8098.0               2.0          112.0               1.0   \n",
       "\n",
       "   ponds_nearest  days_exposition  \n",
       "0          755.0              NaN  \n",
       "1            NaN             81.0  \n",
       "2          574.0            558.0  \n",
       "3          234.0            424.0  \n",
       "4           48.0            121.0  \n",
       "\n",
       "[5 rows x 22 columns]"
      ]
     },
     "execution_count": 2,
     "metadata": {},
     "output_type": "execute_result"
    }
   ],
   "source": [
    "data.head()"
   ]
  },
  {
   "cell_type": "code",
   "execution_count": 3,
   "metadata": {
    "colab": {
     "base_uri": "https://localhost:8080/"
    },
    "id": "tR3Gk0OMh941",
    "outputId": "c6c9e9fd-f522-4486-f384-e2cf5d043854",
    "scrolled": false
   },
   "outputs": [
    {
     "name": "stdout",
     "output_type": "stream",
     "text": [
      "<class 'pandas.core.frame.DataFrame'>\n",
      "RangeIndex: 23699 entries, 0 to 23698\n",
      "Data columns (total 22 columns):\n",
      " #   Column                Non-Null Count  Dtype  \n",
      "---  ------                --------------  -----  \n",
      " 0   total_images          23699 non-null  int64  \n",
      " 1   last_price            23699 non-null  float64\n",
      " 2   total_area            23699 non-null  float64\n",
      " 3   first_day_exposition  23699 non-null  object \n",
      " 4   rooms                 23699 non-null  int64  \n",
      " 5   ceiling_height        14504 non-null  float64\n",
      " 6   floors_total          23613 non-null  float64\n",
      " 7   living_area           21796 non-null  float64\n",
      " 8   floor                 23699 non-null  int64  \n",
      " 9   is_apartment          2775 non-null   object \n",
      " 10  studio                23699 non-null  bool   \n",
      " 11  open_plan             23699 non-null  bool   \n",
      " 12  kitchen_area          21421 non-null  float64\n",
      " 13  balcony               12180 non-null  float64\n",
      " 14  locality_name         23650 non-null  object \n",
      " 15  airports_nearest      18157 non-null  float64\n",
      " 16  cityCenters_nearest   18180 non-null  float64\n",
      " 17  parks_around3000      18181 non-null  float64\n",
      " 18  parks_nearest         8079 non-null   float64\n",
      " 19  ponds_around3000      18181 non-null  float64\n",
      " 20  ponds_nearest         9110 non-null   float64\n",
      " 21  days_exposition       20518 non-null  float64\n",
      "dtypes: bool(2), float64(14), int64(3), object(3)\n",
      "memory usage: 3.7+ MB\n"
     ]
    }
   ],
   "source": [
    "data.info()"
   ]
  },
  {
   "cell_type": "code",
   "execution_count": 4,
   "metadata": {
    "colab": {
     "base_uri": "https://localhost:8080/",
     "height": 1000
    },
    "id": "pAfV7Tg-h941",
    "outputId": "4ebc4cd7-f789-4eb4-91f9-7d8a61448eca"
   },
   "outputs": [
    {
     "data": {
      "text/plain": [
       "array([[<AxesSubplot:title={'center':'total_images'}>,\n",
       "        <AxesSubplot:title={'center':'last_price'}>,\n",
       "        <AxesSubplot:title={'center':'total_area'}>,\n",
       "        <AxesSubplot:title={'center':'rooms'}>],\n",
       "       [<AxesSubplot:title={'center':'ceiling_height'}>,\n",
       "        <AxesSubplot:title={'center':'floors_total'}>,\n",
       "        <AxesSubplot:title={'center':'living_area'}>,\n",
       "        <AxesSubplot:title={'center':'floor'}>],\n",
       "       [<AxesSubplot:title={'center':'kitchen_area'}>,\n",
       "        <AxesSubplot:title={'center':'balcony'}>,\n",
       "        <AxesSubplot:title={'center':'airports_nearest'}>,\n",
       "        <AxesSubplot:title={'center':'cityCenters_nearest'}>],\n",
       "       [<AxesSubplot:title={'center':'parks_around3000'}>,\n",
       "        <AxesSubplot:title={'center':'parks_nearest'}>,\n",
       "        <AxesSubplot:title={'center':'ponds_around3000'}>,\n",
       "        <AxesSubplot:title={'center':'ponds_nearest'}>],\n",
       "       [<AxesSubplot:title={'center':'days_exposition'}>, <AxesSubplot:>,\n",
       "        <AxesSubplot:>, <AxesSubplot:>]], dtype=object)"
      ]
     },
     "execution_count": 4,
     "metadata": {},
     "output_type": "execute_result"
    },
    {
     "data": {
      "image/png": "[encoded data removed]",
      "text/plain": [
       "<Figure size 1080x1440 with 20 Axes>"
      ]
     },
     "metadata": {
      "needs_background": "light"
     },
     "output_type": "display_data"
    }
   ],
   "source": [
    "data.hist(figsize=(15, 20))"
   ]
  },
  {
   "cell_type": "code",
   "execution_count": 5,
   "metadata": {
    "colab": {
     "base_uri": "https://localhost:8080/",
     "height": 364
    },
    "id": "lxFm9Bsow_4T",
    "outputId": "c81391fb-9a1a-4d4c-cd72-59cf87b11c2b"
   },
   "outputs": [
    {
     "data": {
      "text/html": [
       "<div>\n",
       "<style scoped>\n",
       "    .dataframe tbody tr th:only-of-type {\n",
       "        vertical-align: middle;\n",
       "    }\n",
       "\n",
       "    .dataframe tbody tr th {\n",
       "        vertical-align: top;\n",
       "    }\n",
       "\n",
       "    .dataframe thead th {\n",
       "        text-align: right;\n",
       "    }\n",
       "</style>\n",
       "<table border=\"1\" class=\"dataframe\">\n",
       "  <thead>\n",
       "    <tr style=\"text-align: right;\">\n",
       "      <th></th>\n",
       "      <th>total_images</th>\n",
       "      <th>last_price</th>\n",
       "      <th>total_area</th>\n",
       "      <th>rooms</th>\n",
       "      <th>ceiling_height</th>\n",
       "      <th>floors_total</th>\n",
       "      <th>living_area</th>\n",
       "      <th>floor</th>\n",
       "      <th>kitchen_area</th>\n",
       "      <th>balcony</th>\n",
       "      <th>airports_nearest</th>\n",
       "      <th>cityCenters_nearest</th>\n",
       "      <th>parks_around3000</th>\n",
       "      <th>parks_nearest</th>\n",
       "      <th>ponds_around3000</th>\n",
       "      <th>ponds_nearest</th>\n",
       "      <th>days_exposition</th>\n",
       "    </tr>\n",
       "  </thead>\n",
       "  <tbody>\n",
       "    <tr>\n",
       "      <th>count</th>\n",
       "      <td>23699.000000</td>\n",
       "      <td>2.369900e+04</td>\n",
       "      <td>23699.000000</td>\n",
       "      <td>23699.000000</td>\n",
       "      <td>14504.000000</td>\n",
       "      <td>23613.000000</td>\n",
       "      <td>21796.000000</td>\n",
       "      <td>23699.000000</td>\n",
       "      <td>21421.000000</td>\n",
       "      <td>12180.000000</td>\n",
       "      <td>18157.000000</td>\n",
       "      <td>18180.000000</td>\n",
       "      <td>18181.000000</td>\n",
       "      <td>8079.000000</td>\n",
       "      <td>18181.000000</td>\n",
       "      <td>9110.000000</td>\n",
       "      <td>20518.000000</td>\n",
       "    </tr>\n",
       "    <tr>\n",
       "      <th>mean</th>\n",
       "      <td>9.858475</td>\n",
       "      <td>6.541549e+06</td>\n",
       "      <td>60.348651</td>\n",
       "      <td>2.070636</td>\n",
       "      <td>2.771499</td>\n",
       "      <td>10.673824</td>\n",
       "      <td>34.457852</td>\n",
       "      <td>5.892358</td>\n",
       "      <td>10.569807</td>\n",
       "      <td>1.150082</td>\n",
       "      <td>28793.672193</td>\n",
       "      <td>14191.277833</td>\n",
       "      <td>0.611408</td>\n",
       "      <td>490.804555</td>\n",
       "      <td>0.770255</td>\n",
       "      <td>517.980900</td>\n",
       "      <td>180.888634</td>\n",
       "    </tr>\n",
       "    <tr>\n",
       "      <th>std</th>\n",
       "      <td>5.682529</td>\n",
       "      <td>1.088701e+07</td>\n",
       "      <td>35.654083</td>\n",
       "      <td>1.078405</td>\n",
       "      <td>1.261056</td>\n",
       "      <td>6.597173</td>\n",
       "      <td>22.030445</td>\n",
       "      <td>4.885249</td>\n",
       "      <td>5.905438</td>\n",
       "      <td>1.071300</td>\n",
       "      <td>12630.880622</td>\n",
       "      <td>8608.386210</td>\n",
       "      <td>0.802074</td>\n",
       "      <td>342.317995</td>\n",
       "      <td>0.938346</td>\n",
       "      <td>277.720643</td>\n",
       "      <td>219.727988</td>\n",
       "    </tr>\n",
       "    <tr>\n",
       "      <th>min</th>\n",
       "      <td>0.000000</td>\n",
       "      <td>1.219000e+04</td>\n",
       "      <td>12.000000</td>\n",
       "      <td>0.000000</td>\n",
       "      <td>1.000000</td>\n",
       "      <td>1.000000</td>\n",
       "      <td>2.000000</td>\n",
       "      <td>1.000000</td>\n",
       "      <td>1.300000</td>\n",
       "      <td>0.000000</td>\n",
       "      <td>0.000000</td>\n",
       "      <td>181.000000</td>\n",
       "      <td>0.000000</td>\n",
       "      <td>1.000000</td>\n",
       "      <td>0.000000</td>\n",
       "      <td>13.000000</td>\n",
       "      <td>1.000000</td>\n",
       "    </tr>\n",
       "    <tr>\n",
       "      <th>25%</th>\n",
       "      <td>6.000000</td>\n",
       "      <td>3.400000e+06</td>\n",
       "      <td>40.000000</td>\n",
       "      <td>1.000000</td>\n",
       "      <td>2.520000</td>\n",
       "      <td>5.000000</td>\n",
       "      <td>18.600000</td>\n",
       "      <td>2.000000</td>\n",
       "      <td>7.000000</td>\n",
       "      <td>0.000000</td>\n",
       "      <td>18585.000000</td>\n",
       "      <td>9238.000000</td>\n",
       "      <td>0.000000</td>\n",
       "      <td>288.000000</td>\n",
       "      <td>0.000000</td>\n",
       "      <td>294.000000</td>\n",
       "      <td>45.000000</td>\n",
       "    </tr>\n",
       "    <tr>\n",
       "      <th>50%</th>\n",
       "      <td>9.000000</td>\n",
       "      <td>4.650000e+06</td>\n",
       "      <td>52.000000</td>\n",
       "      <td>2.000000</td>\n",
       "      <td>2.650000</td>\n",
       "      <td>9.000000</td>\n",
       "      <td>30.000000</td>\n",
       "      <td>4.000000</td>\n",
       "      <td>9.100000</td>\n",
       "      <td>1.000000</td>\n",
       "      <td>26726.000000</td>\n",
       "      <td>13098.500000</td>\n",
       "      <td>0.000000</td>\n",
       "      <td>455.000000</td>\n",
       "      <td>1.000000</td>\n",
       "      <td>502.000000</td>\n",
       "      <td>95.000000</td>\n",
       "    </tr>\n",
       "    <tr>\n",
       "      <th>75%</th>\n",
       "      <td>14.000000</td>\n",
       "      <td>6.800000e+06</td>\n",
       "      <td>69.900000</td>\n",
       "      <td>3.000000</td>\n",
       "      <td>2.800000</td>\n",
       "      <td>16.000000</td>\n",
       "      <td>42.300000</td>\n",
       "      <td>8.000000</td>\n",
       "      <td>12.000000</td>\n",
       "      <td>2.000000</td>\n",
       "      <td>37273.000000</td>\n",
       "      <td>16293.000000</td>\n",
       "      <td>1.000000</td>\n",
       "      <td>612.000000</td>\n",
       "      <td>1.000000</td>\n",
       "      <td>729.000000</td>\n",
       "      <td>232.000000</td>\n",
       "    </tr>\n",
       "    <tr>\n",
       "      <th>max</th>\n",
       "      <td>50.000000</td>\n",
       "      <td>7.630000e+08</td>\n",
       "      <td>900.000000</td>\n",
       "      <td>19.000000</td>\n",
       "      <td>100.000000</td>\n",
       "      <td>60.000000</td>\n",
       "      <td>409.700000</td>\n",
       "      <td>33.000000</td>\n",
       "      <td>112.000000</td>\n",
       "      <td>5.000000</td>\n",
       "      <td>84869.000000</td>\n",
       "      <td>65968.000000</td>\n",
       "      <td>3.000000</td>\n",
       "      <td>3190.000000</td>\n",
       "      <td>3.000000</td>\n",
       "      <td>1344.000000</td>\n",
       "      <td>1580.000000</td>\n",
       "    </tr>\n",
       "  </tbody>\n",
       "</table>\n",
       "</div>"
      ],
      "text/plain": [
       "       total_images    last_price    total_area         rooms  ceiling_height  \\\n",
       "count  23699.000000  2.369900e+04  23699.000000  23699.000000    14504.000000   \n",
       "mean       9.858475  6.541549e+06     60.348651      2.070636        2.771499   \n",
       "std        5.682529  1.088701e+07     35.654083      1.078405        1.261056   \n",
       "min        0.000000  1.219000e+04     12.000000      0.000000        1.000000   \n",
       "25%        6.000000  3.400000e+06     40.000000      1.000000        2.520000   \n",
       "50%        9.000000  4.650000e+06     52.000000      2.000000        2.650000   \n",
       "75%       14.000000  6.800000e+06     69.900000      3.000000        2.800000   \n",
       "max       50.000000  7.630000e+08    900.000000     19.000000      100.000000   \n",
       "\n",
       "       floors_total   living_area         floor  kitchen_area       balcony  \\\n",
       "count  23613.000000  21796.000000  23699.000000  21421.000000  12180.000000   \n",
       "mean      10.673824     34.457852      5.892358     10.569807      1.150082   \n",
       "std        6.597173     22.030445      4.885249      5.905438      1.071300   \n",
       "min        1.000000      2.000000      1.000000      1.300000      0.000000   \n",
       "25%        5.000000     18.600000      2.000000      7.000000      0.000000   \n",
       "50%        9.000000     30.000000      4.000000      9.100000      1.000000   \n",
       "75%       16.000000     42.300000      8.000000     12.000000      2.000000   \n",
       "max       60.000000    409.700000     33.000000    112.000000      5.000000   \n",
       "\n",
       "       airports_nearest  cityCenters_nearest  parks_around3000  parks_nearest  \\\n",
       "count      18157.000000         18180.000000      18181.000000    8079.000000   \n",
       "mean       28793.672193         14191.277833          0.611408     490.804555   \n",
       "std        12630.880622          8608.386210          0.802074     342.317995   \n",
       "min            0.000000           181.000000          0.000000       1.000000   \n",
       "25%        18585.000000          9238.000000          0.000000     288.000000   \n",
       "50%        26726.000000         13098.500000          0.000000     455.000000   \n",
       "75%        37273.000000         16293.000000          1.000000     612.000000   \n",
       "max        84869.000000         65968.000000          3.000000    3190.000000   \n",
       "\n",
       "       ponds_around3000  ponds_nearest  days_exposition  \n",
       "count      18181.000000    9110.000000     20518.000000  \n",
       "mean           0.770255     517.980900       180.888634  \n",
       "std            0.938346     277.720643       219.727988  \n",
       "min            0.000000      13.000000         1.000000  \n",
       "25%            0.000000     294.000000        45.000000  \n",
       "50%            1.000000     502.000000        95.000000  \n",
       "75%            1.000000     729.000000       232.000000  \n",
       "max            3.000000    1344.000000      1580.000000  "
      ]
     },
     "execution_count": 5,
     "metadata": {},
     "output_type": "execute_result"
    }
   ],
   "source": [
    "data.describe()"
   ]
  },
  {
   "cell_type": "markdown",
   "metadata": {
    "id": "QAMdE31zdnYn"
   },
   "source": [
    "**Вывод:**  \n",
    "Всего у нас 23699 записи. Для целого ряда столбцов есть пропущенные значения и некорректный тип данных. По ряду признаков есть аномальные значения."
   ]
  },
  {
   "cell_type": "markdown",
   "metadata": {
    "id": "hb_QaGGgh941"
   },
   "source": [
    "### Предобработка данных"
   ]
  },
  {
   "cell_type": "markdown",
   "metadata": {
    "id": "RBLDISF9rvp5"
   },
   "source": [
    "**Определим в каких столбцах есть пропуски:**\n"
   ]
  },
  {
   "cell_type": "code",
   "execution_count": 6,
   "metadata": {
    "colab": {
     "base_uri": "https://localhost:8080/"
    },
    "id": "m37iwJPVh942",
    "outputId": "490c163d-6ca5-46c1-e28b-d9ee929178c1"
   },
   "outputs": [
    {
     "data": {
      "text/plain": [
       "total_images                0\n",
       "last_price                  0\n",
       "total_area                  0\n",
       "first_day_exposition        0\n",
       "rooms                       0\n",
       "ceiling_height           9195\n",
       "floors_total               86\n",
       "living_area              1903\n",
       "floor                       0\n",
       "is_apartment            20924\n",
       "studio                      0\n",
       "open_plan                   0\n",
       "kitchen_area             2278\n",
       "balcony                 11519\n",
       "locality_name              49\n",
       "airports_nearest         5542\n",
       "cityCenters_nearest      5519\n",
       "parks_around3000         5518\n",
       "parks_nearest           15620\n",
       "ponds_around3000         5518\n",
       "ponds_nearest           14589\n",
       "days_exposition          3181\n",
       "dtype: int64"
      ]
     },
     "execution_count": 6,
     "metadata": {},
     "output_type": "execute_result"
    }
   ],
   "source": [
    "data.isna().sum()"
   ]
  },
  {
   "cell_type": "markdown",
   "metadata": {
    "id": "A10QNy6XsANJ"
   },
   "source": [
    "**Если продавец не указал число балконов, то, скорее всего, в его квартире их нет. Такие пропуски правильно заменить на 0.**"
   ]
  },
  {
   "cell_type": "code",
   "execution_count": 7,
   "metadata": {
    "colab": {
     "base_uri": "https://localhost:8080/"
    },
    "id": "u-DIriRnsIUw",
    "outputId": "9ef5747c-58e7-4024-8ce1-5ec16b694ca3"
   },
   "outputs": [
    {
     "data": {
      "text/plain": [
       "total_images                0\n",
       "last_price                  0\n",
       "total_area                  0\n",
       "first_day_exposition        0\n",
       "rooms                       0\n",
       "ceiling_height           9195\n",
       "floors_total               86\n",
       "living_area              1903\n",
       "floor                       0\n",
       "is_apartment            20924\n",
       "studio                      0\n",
       "open_plan                   0\n",
       "kitchen_area             2278\n",
       "balcony                     0\n",
       "locality_name              49\n",
       "airports_nearest         5542\n",
       "cityCenters_nearest      5519\n",
       "parks_around3000         5518\n",
       "parks_nearest           15620\n",
       "ponds_around3000         5518\n",
       "ponds_nearest           14589\n",
       "days_exposition          3181\n",
       "dtype: int64"
      ]
     },
     "execution_count": 7,
     "metadata": {},
     "output_type": "execute_result"
    }
   ],
   "source": [
    "data['balcony'] = data['balcony'].fillna(0)\n",
    "data.isna().sum()"
   ]
  },
  {
   "cell_type": "markdown",
   "metadata": {
    "id": "ZbTbXb8EsRFw"
   },
   "source": [
    "**Если есть пропуски в столбце is_apartment, то они означают, что квартира не является аппартаментами. Заполним все пропуски в данном столбце значением False:**"
   ]
  },
  {
   "cell_type": "code",
   "execution_count": 8,
   "metadata": {
    "colab": {
     "base_uri": "https://localhost:8080/"
    },
    "id": "k5LKiZE6sRmp",
    "outputId": "d88d6e5a-209d-4e03-e5d2-e1fa9e5c71b9"
   },
   "outputs": [
    {
     "data": {
      "text/plain": [
       "total_images                0\n",
       "last_price                  0\n",
       "total_area                  0\n",
       "first_day_exposition        0\n",
       "rooms                       0\n",
       "ceiling_height           9195\n",
       "floors_total               86\n",
       "living_area              1903\n",
       "floor                       0\n",
       "is_apartment                0\n",
       "studio                      0\n",
       "open_plan                   0\n",
       "kitchen_area             2278\n",
       "balcony                     0\n",
       "locality_name              49\n",
       "airports_nearest         5542\n",
       "cityCenters_nearest      5519\n",
       "parks_around3000         5518\n",
       "parks_nearest           15620\n",
       "ponds_around3000         5518\n",
       "ponds_nearest           14589\n",
       "days_exposition          3181\n",
       "dtype: int64"
      ]
     },
     "execution_count": 8,
     "metadata": {},
     "output_type": "execute_result"
    }
   ],
   "source": [
    "data['is_apartment'] = data['is_apartment'].fillna(False)\n",
    "data.isna().sum()"
   ]
  },
  {
   "cell_type": "code",
   "execution_count": 9,
   "metadata": {
    "colab": {
     "base_uri": "https://localhost:8080/"
    },
    "id": "loRrm0GKshW5",
    "outputId": "9b5fbbf0-fb0a-42ce-ca1c-92c79acab7d4"
   },
   "outputs": [
    {
     "data": {
      "text/plain": [
       "0        2.70\n",
       "1         NaN\n",
       "2         NaN\n",
       "3         NaN\n",
       "4        3.03\n",
       "         ... \n",
       "23694    3.70\n",
       "23695     NaN\n",
       "23696     NaN\n",
       "23697    3.00\n",
       "23698    2.50\n",
       "Name: ceiling_height, Length: 23699, dtype: float64"
      ]
     },
     "execution_count": 9,
     "metadata": {},
     "output_type": "execute_result"
    }
   ],
   "source": [
    "data['ceiling_height']"
   ]
  },
  {
   "cell_type": "markdown",
   "metadata": {
    "id": "rJAkMfaayWXv"
   },
   "source": [
    "**Пропуски в колонках floors_total и locality_name незначительные (86 и 49 пропусков), поэтому можно их просто удалить:**"
   ]
  },
  {
   "cell_type": "code",
   "execution_count": 10,
   "metadata": {
    "id": "sUXX68iNylXj"
   },
   "outputs": [],
   "source": [
    "data = data.dropna(subset=['floors_total','locality_name'])"
   ]
  },
  {
   "cell_type": "markdown",
   "metadata": {
    "id": "kufL2HLlzbJe"
   },
   "source": [
    "**Обработка пропусков в столбце ceiling_height:**  \n",
    "Потолки больше 20+ метров явно выше обычных и звучат странно, логично предположить, что это вещественные значения (25 метров - 2,5 метра).  \n",
    "Поэтому предлагаю поделить их на 10.  \n",
    "А пропуски предлагаю заменить медианным значением от 2,5 метров до 10 метров."
   ]
  },
  {
   "cell_type": "code",
   "execution_count": 11,
   "metadata": {
    "id": "pq1EtHqEzcCM"
   },
   "outputs": [],
   "source": [
    "data.loc[data['ceiling_height'] >= 21, 'ceiling_height'] = data.loc[data['ceiling_height'] >= 21, 'ceiling_height'] / 10"
   ]
  },
  {
   "cell_type": "code",
   "execution_count": 12,
   "metadata": {
    "id": "4tNiWLKa3-0V"
   },
   "outputs": [],
   "source": [
    "ceiling = data.query('(ceiling_height < 10) or (ceiling_height >= 2.1)')\n",
    "data['ceiling_height'] = data['ceiling_height'].fillna(ceiling[\"ceiling_height\"].median())"
   ]
  },
  {
   "cell_type": "markdown",
   "metadata": {
    "id": "dOxQJeXF4elp"
   },
   "source": [
    "**Обработка пропусков в столбце kitchen_area:**      \n",
    "Чтобы заменить пропуски в этом столбце найдем отношение всей жилой площади к кухнями.  \n",
    "После заменим на это значение."
   ]
  },
  {
   "cell_type": "code",
   "execution_count": 13,
   "metadata": {
    "colab": {
     "base_uri": "https://localhost:8080/"
    },
    "id": "SfpvYlD04e7p",
    "outputId": "7d83acf4-4695-4cf7-92b1-8c9da5edb062"
   },
   "outputs": [
    {
     "data": {
      "text/plain": [
       "0"
      ]
     },
     "execution_count": 13,
     "metadata": {},
     "output_type": "execute_result"
    }
   ],
   "source": [
    "kitchen_ratio = data['kitchen_area'].sum() / data['total_area'].sum()\n",
    "data['kitchen_area'] = data['kitchen_area'].fillna(data['total_area'] * kitchen_ratio)\n",
    "data['kitchen_area'].isna().sum()"
   ]
  },
  {
   "cell_type": "markdown",
   "metadata": {
    "id": "Leic5Cm7607r"
   },
   "source": [
    "**Обработка пропусков в столбце living_area:**  \n",
    "Проведем такие операции как и со столбцом kitchen_area"
   ]
  },
  {
   "cell_type": "code",
   "execution_count": 14,
   "metadata": {
    "colab": {
     "base_uri": "https://localhost:8080/"
    },
    "id": "5Rtbu23261Hv",
    "outputId": "bf003584-5aed-4dfd-8f8e-4a9b47660c08"
   },
   "outputs": [
    {
     "data": {
      "text/plain": [
       "0"
      ]
     },
     "execution_count": 14,
     "metadata": {},
     "output_type": "execute_result"
    }
   ],
   "source": [
    "living_ratio = data['living_area'].sum() / data['total_area'].sum()\n",
    "data['living_area'] = data['living_area'].fillna(data['total_area'] * living_ratio)\n",
    "\n",
    "data['living_area'].isna().sum()"
   ]
  },
  {
   "cell_type": "markdown",
   "metadata": {
    "id": "Gh12R3-v89Gc"
   },
   "source": [
    "**Переименуем столбцы cityCenters_nearest, \n",
    "ponds_around3000, \n",
    "parks_around3000**"
   ]
  },
  {
   "cell_type": "code",
   "execution_count": 15,
   "metadata": {
    "colab": {
     "base_uri": "https://localhost:8080/",
     "height": 386
    },
    "id": "wSJRO8S389ZY",
    "outputId": "e566c47f-8f09-4e42-a0e8-a91b6c34fad0"
   },
   "outputs": [
    {
     "data": {
      "text/html": [
       "<div>\n",
       "<style scoped>\n",
       "    .dataframe tbody tr th:only-of-type {\n",
       "        vertical-align: middle;\n",
       "    }\n",
       "\n",
       "    .dataframe tbody tr th {\n",
       "        vertical-align: top;\n",
       "    }\n",
       "\n",
       "    .dataframe thead th {\n",
       "        text-align: right;\n",
       "    }\n",
       "</style>\n",
       "<table border=\"1\" class=\"dataframe\">\n",
       "  <thead>\n",
       "    <tr style=\"text-align: right;\">\n",
       "      <th></th>\n",
       "      <th>total_images</th>\n",
       "      <th>last_price</th>\n",
       "      <th>total_area</th>\n",
       "      <th>first_day_exposition</th>\n",
       "      <th>rooms</th>\n",
       "      <th>ceiling_height</th>\n",
       "      <th>floors_total</th>\n",
       "      <th>living_area</th>\n",
       "      <th>floor</th>\n",
       "      <th>is_apartment</th>\n",
       "      <th>...</th>\n",
       "      <th>kitchen_area</th>\n",
       "      <th>balcony</th>\n",
       "      <th>locality_name</th>\n",
       "      <th>airports_nearest</th>\n",
       "      <th>city_centers_nearest</th>\n",
       "      <th>parks_around</th>\n",
       "      <th>parks_nearest</th>\n",
       "      <th>ponds_around</th>\n",
       "      <th>ponds_nearest</th>\n",
       "      <th>days_exposition</th>\n",
       "    </tr>\n",
       "  </thead>\n",
       "  <tbody>\n",
       "    <tr>\n",
       "      <th>0</th>\n",
       "      <td>20</td>\n",
       "      <td>13000000.0</td>\n",
       "      <td>108.0</td>\n",
       "      <td>2019-03-07T00:00:00</td>\n",
       "      <td>3</td>\n",
       "      <td>2.70</td>\n",
       "      <td>16.0</td>\n",
       "      <td>51.000000</td>\n",
       "      <td>8</td>\n",
       "      <td>False</td>\n",
       "      <td>...</td>\n",
       "      <td>25.000000</td>\n",
       "      <td>0.0</td>\n",
       "      <td>Санкт-Петербург</td>\n",
       "      <td>18863.0</td>\n",
       "      <td>16028.0</td>\n",
       "      <td>1.0</td>\n",
       "      <td>482.0</td>\n",
       "      <td>2.0</td>\n",
       "      <td>755.0</td>\n",
       "      <td>NaN</td>\n",
       "    </tr>\n",
       "    <tr>\n",
       "      <th>1</th>\n",
       "      <td>7</td>\n",
       "      <td>3350000.0</td>\n",
       "      <td>40.4</td>\n",
       "      <td>2018-12-04T00:00:00</td>\n",
       "      <td>1</td>\n",
       "      <td>2.65</td>\n",
       "      <td>11.0</td>\n",
       "      <td>18.600000</td>\n",
       "      <td>1</td>\n",
       "      <td>False</td>\n",
       "      <td>...</td>\n",
       "      <td>11.000000</td>\n",
       "      <td>2.0</td>\n",
       "      <td>посёлок Шушары</td>\n",
       "      <td>12817.0</td>\n",
       "      <td>18603.0</td>\n",
       "      <td>0.0</td>\n",
       "      <td>NaN</td>\n",
       "      <td>0.0</td>\n",
       "      <td>NaN</td>\n",
       "      <td>81.0</td>\n",
       "    </tr>\n",
       "    <tr>\n",
       "      <th>2</th>\n",
       "      <td>10</td>\n",
       "      <td>5196000.0</td>\n",
       "      <td>56.0</td>\n",
       "      <td>2015-08-20T00:00:00</td>\n",
       "      <td>2</td>\n",
       "      <td>2.65</td>\n",
       "      <td>5.0</td>\n",
       "      <td>34.300000</td>\n",
       "      <td>4</td>\n",
       "      <td>False</td>\n",
       "      <td>...</td>\n",
       "      <td>8.300000</td>\n",
       "      <td>0.0</td>\n",
       "      <td>Санкт-Петербург</td>\n",
       "      <td>21741.0</td>\n",
       "      <td>13933.0</td>\n",
       "      <td>1.0</td>\n",
       "      <td>90.0</td>\n",
       "      <td>2.0</td>\n",
       "      <td>574.0</td>\n",
       "      <td>558.0</td>\n",
       "    </tr>\n",
       "    <tr>\n",
       "      <th>3</th>\n",
       "      <td>0</td>\n",
       "      <td>64900000.0</td>\n",
       "      <td>159.0</td>\n",
       "      <td>2015-07-24T00:00:00</td>\n",
       "      <td>3</td>\n",
       "      <td>2.65</td>\n",
       "      <td>14.0</td>\n",
       "      <td>83.629164</td>\n",
       "      <td>9</td>\n",
       "      <td>False</td>\n",
       "      <td>...</td>\n",
       "      <td>25.212057</td>\n",
       "      <td>0.0</td>\n",
       "      <td>Санкт-Петербург</td>\n",
       "      <td>28098.0</td>\n",
       "      <td>6800.0</td>\n",
       "      <td>2.0</td>\n",
       "      <td>84.0</td>\n",
       "      <td>3.0</td>\n",
       "      <td>234.0</td>\n",
       "      <td>424.0</td>\n",
       "    </tr>\n",
       "    <tr>\n",
       "      <th>4</th>\n",
       "      <td>2</td>\n",
       "      <td>10000000.0</td>\n",
       "      <td>100.0</td>\n",
       "      <td>2018-06-19T00:00:00</td>\n",
       "      <td>2</td>\n",
       "      <td>3.03</td>\n",
       "      <td>14.0</td>\n",
       "      <td>32.000000</td>\n",
       "      <td>13</td>\n",
       "      <td>False</td>\n",
       "      <td>...</td>\n",
       "      <td>41.000000</td>\n",
       "      <td>0.0</td>\n",
       "      <td>Санкт-Петербург</td>\n",
       "      <td>31856.0</td>\n",
       "      <td>8098.0</td>\n",
       "      <td>2.0</td>\n",
       "      <td>112.0</td>\n",
       "      <td>1.0</td>\n",
       "      <td>48.0</td>\n",
       "      <td>121.0</td>\n",
       "    </tr>\n",
       "  </tbody>\n",
       "</table>\n",
       "<p>5 rows × 22 columns</p>\n",
       "</div>"
      ],
      "text/plain": [
       "   total_images  last_price  total_area first_day_exposition  rooms  \\\n",
       "0            20  13000000.0       108.0  2019-03-07T00:00:00      3   \n",
       "1             7   3350000.0        40.4  2018-12-04T00:00:00      1   \n",
       "2            10   5196000.0        56.0  2015-08-20T00:00:00      2   \n",
       "3             0  64900000.0       159.0  2015-07-24T00:00:00      3   \n",
       "4             2  10000000.0       100.0  2018-06-19T00:00:00      2   \n",
       "\n",
       "   ceiling_height  floors_total  living_area  floor  is_apartment  ...  \\\n",
       "0            2.70          16.0    51.000000      8         False  ...   \n",
       "1            2.65          11.0    18.600000      1         False  ...   \n",
       "2            2.65           5.0    34.300000      4         False  ...   \n",
       "3            2.65          14.0    83.629164      9         False  ...   \n",
       "4            3.03          14.0    32.000000     13         False  ...   \n",
       "\n",
       "   kitchen_area  balcony    locality_name  airports_nearest  \\\n",
       "0     25.000000      0.0  Санкт-Петербург           18863.0   \n",
       "1     11.000000      2.0   посёлок Шушары           12817.0   \n",
       "2      8.300000      0.0  Санкт-Петербург           21741.0   \n",
       "3     25.212057      0.0  Санкт-Петербург           28098.0   \n",
       "4     41.000000      0.0  Санкт-Петербург           31856.0   \n",
       "\n",
       "  city_centers_nearest  parks_around  parks_nearest  ponds_around  \\\n",
       "0              16028.0           1.0          482.0           2.0   \n",
       "1              18603.0           0.0            NaN           0.0   \n",
       "2              13933.0           1.0           90.0           2.0   \n",
       "3               6800.0           2.0           84.0           3.0   \n",
       "4               8098.0           2.0          112.0           1.0   \n",
       "\n",
       "   ponds_nearest  days_exposition  \n",
       "0          755.0              NaN  \n",
       "1            NaN             81.0  \n",
       "2          574.0            558.0  \n",
       "3          234.0            424.0  \n",
       "4           48.0            121.0  \n",
       "\n",
       "[5 rows x 22 columns]"
      ]
     },
     "execution_count": 15,
     "metadata": {},
     "output_type": "execute_result"
    }
   ],
   "source": [
    "\n",
    "data.rename(columns={'cityCenters_nearest' : 'city_centers_nearest', 'ponds_around3000' : 'ponds_around', 'parks_around3000' : 'parks_around'}, inplace=True)\n",
    "data.head()"
   ]
  },
  {
   "cell_type": "markdown",
   "metadata": {
    "id": "qlQEx8bl9s3K"
   },
   "source": [
    "**Обработка пропусков в столбце ponds_around и \n",
    "parks_around:**  \n",
    "Пропуски заменим 0, т.к скорее всего парки и водоемы отсутствуют."
   ]
  },
  {
   "cell_type": "code",
   "execution_count": 16,
   "metadata": {
    "colab": {
     "base_uri": "https://localhost:8080/"
    },
    "id": "21gZOd0O9tBf",
    "outputId": "eecae46b-ff1e-4093-c542-bb62b170439e"
   },
   "outputs": [
    {
     "name": "stdout",
     "output_type": "stream",
     "text": [
      "0\n",
      "0\n"
     ]
    }
   ],
   "source": [
    "data['ponds_around'].fillna(0, inplace=True)\n",
    "data['parks_around'].fillna(0, inplace=True)\n",
    "print(data['ponds_around'].isna().sum())\n",
    "print(data['parks_around'].isna().sum())"
   ]
  },
  {
   "cell_type": "markdown",
   "metadata": {
    "id": "VEPX8ocd_JAd"
   },
   "source": [
    "**Обработка пропусков в столбце ponds_around и parks_around:**  \n",
    "Так как значения показывают расстояние в радиусе 3 км, то нецелесообразно изменять их на 0.\n",
    "Таким образом оставим их неизменными\n",
    "\n"
   ]
  },
  {
   "cell_type": "markdown",
   "metadata": {
    "id": "qqCS0YT0Ewc-"
   },
   "source": []
  },
  {
   "cell_type": "markdown",
   "metadata": {
    "id": "RXppcdQfBkrl"
   },
   "source": [
    "**Обработка пропусков в столбце days_exposition:**  \n",
    "Скорее всего пропуски связаны с тем, что объявления еще не сняты с публикации, поэтому оставим этот столбец неизменным."
   ]
  },
  {
   "cell_type": "markdown",
   "metadata": {
    "id": "5T7iUlCOCNn-"
   },
   "source": [
    "**Найдем и устраним неявные дубликаты:**\n",
    "\n",
    "\n",
    "*   Изменим на нижний регистр\n",
    "*   Заменим букву \"Ё\" на \"Е\"\n",
    "*   Отбросим типы городов оставив только названия\n",
    "\n"
   ]
  },
  {
   "cell_type": "code",
   "execution_count": 17,
   "metadata": {
    "colab": {
     "base_uri": "https://localhost:8080/"
    },
    "id": "5eN4Nbly_JO8",
    "outputId": "eac682e9-9d92-44c1-fea6-9055cfa22789"
   },
   "outputs": [
    {
     "data": {
      "text/plain": [
       "array(['Санкт-Петербург', 'посёлок Шушары', 'городской посёлок Янино-1',\n",
       "       'посёлок Парголово', 'посёлок Мурино', 'Ломоносов', 'Сертолово',\n",
       "       'Петергоф', 'Пушкин', 'деревня Кудрово', 'Коммунар', 'Колпино',\n",
       "       'поселок городского типа Красный Бор', 'Гатчина', 'поселок Мурино',\n",
       "       'деревня Фёдоровское', 'Выборг', 'Кронштадт', 'Кировск',\n",
       "       'деревня Новое Девяткино', 'посёлок Металлострой',\n",
       "       'посёлок городского типа Лебяжье',\n",
       "       'посёлок городского типа Сиверский', 'поселок Молодцово',\n",
       "       'поселок городского типа Кузьмоловский',\n",
       "       'садовое товарищество Новая Ропша', 'Павловск',\n",
       "       'деревня Пикколово', 'Всеволожск', 'Волхов', 'Кингисепп',\n",
       "       'Приозерск', 'Сестрорецк', 'деревня Куттузи', 'посёлок Аннино',\n",
       "       'поселок городского типа Ефимовский', 'посёлок Плодовое',\n",
       "       'деревня Заклинье', 'поселок Торковичи', 'поселок Первомайское',\n",
       "       'Красное Село', 'посёлок Понтонный', 'Сясьстрой', 'деревня Старая',\n",
       "       'деревня Лесколово', 'посёлок Новый Свет', 'Сланцы',\n",
       "       'село Путилово', 'Ивангород', 'Мурино', 'Шлиссельбург',\n",
       "       'Никольское', 'Зеленогорск', 'Сосновый Бор', 'поселок Новый Свет',\n",
       "       'деревня Оржицы', 'деревня Кальтино', 'Кудрово',\n",
       "       'поселок Романовка', 'посёлок Бугры', 'поселок Бугры',\n",
       "       'поселок городского типа Рощино', 'Кириши', 'Луга', 'Волосово',\n",
       "       'Отрадное', 'село Павлово', 'поселок Оредеж', 'село Копорье',\n",
       "       'посёлок городского типа Красный Бор', 'посёлок Молодёжное',\n",
       "       'Тихвин', 'посёлок Победа', 'деревня Нурма',\n",
       "       'поселок городского типа Синявино', 'Тосно',\n",
       "       'посёлок городского типа Кузьмоловский', 'посёлок Стрельна',\n",
       "       'Бокситогорск', 'посёлок Александровская', 'деревня Лопухинка',\n",
       "       'Пикалёво', 'поселок Терволово',\n",
       "       'поселок городского типа Советский', 'Подпорожье',\n",
       "       'посёлок Петровское', 'посёлок городского типа Токсово',\n",
       "       'поселок Сельцо', 'посёлок городского типа Вырица',\n",
       "       'деревня Кипень', 'деревня Келози', 'деревня Вартемяги',\n",
       "       'посёлок Тельмана', 'поселок Севастьяново',\n",
       "       'городской поселок Большая Ижора', 'городской посёлок Павлово',\n",
       "       'деревня Агалатово', 'посёлок Новогорелово',\n",
       "       'городской посёлок Лесогорский', 'деревня Лаголово',\n",
       "       'поселок Цвелодубово', 'поселок городского типа Рахья',\n",
       "       'поселок городского типа Вырица', 'деревня Белогорка',\n",
       "       'поселок Заводской', 'городской посёлок Новоселье',\n",
       "       'деревня Большие Колпаны', 'деревня Горбунки', 'деревня Батово',\n",
       "       'деревня Заневка', 'деревня Иссад', 'Приморск',\n",
       "       'городской посёлок Фёдоровское', 'деревня Мистолово',\n",
       "       'Новая Ладога', 'поселок Зимитицы', 'поселок Барышево',\n",
       "       'деревня Разметелево', 'поселок городского типа имени Свердлова',\n",
       "       'деревня Пеники', 'поселок Рябово', 'деревня Пудомяги',\n",
       "       'поселок станции Корнево', 'деревня Низино', 'деревня Бегуницы',\n",
       "       'посёлок Поляны', 'городской посёлок Мга', 'поселок Елизаветино',\n",
       "       'посёлок городского типа Кузнечное', 'деревня Колтуши',\n",
       "       'поселок Запорожское', 'посёлок городского типа Рощино',\n",
       "       'деревня Гостилицы', 'деревня Малое Карлино',\n",
       "       'посёлок Мичуринское', 'посёлок городского типа имени Морозова',\n",
       "       'посёлок Песочный', 'посёлок Сосново', 'деревня Аро',\n",
       "       'поселок Ильичёво', 'посёлок городского типа Тайцы',\n",
       "       'деревня Малое Верево', 'деревня Извара', 'поселок станции Вещево',\n",
       "       'село Паша', 'деревня Калитино',\n",
       "       'посёлок городского типа Ульяновка', 'деревня Чудской Бор',\n",
       "       'поселок городского типа Дубровка', 'деревня Мины',\n",
       "       'поселок Войсковицы', 'посёлок городского типа имени Свердлова',\n",
       "       'деревня Коркино', 'посёлок Ропша',\n",
       "       'поселок городского типа Приладожский', 'посёлок Щеглово',\n",
       "       'посёлок Гаврилово', 'Лодейное Поле', 'деревня Рабитицы',\n",
       "       'поселок городского типа Никольский', 'деревня Кузьмолово',\n",
       "       'деревня Малые Колпаны', 'поселок Тельмана',\n",
       "       'посёлок Петро-Славянка', 'городской посёлок Назия',\n",
       "       'посёлок Репино', 'посёлок Ильичёво', 'поселок Углово',\n",
       "       'поселок Старая Малукса', 'садовое товарищество Рахья',\n",
       "       'поселок Аннино', 'поселок Победа', 'деревня Меньково',\n",
       "       'деревня Старые Бегуницы', 'посёлок Сапёрный', 'поселок Семрино',\n",
       "       'поселок Гаврилово', 'поселок Глажево', 'поселок Кобринское',\n",
       "       'деревня Гарболово', 'деревня Юкки',\n",
       "       'поселок станции Приветнинское', 'деревня Мануйлово',\n",
       "       'деревня Пчева', 'поселок Поляны', 'поселок Цвылёво',\n",
       "       'поселок Мельниково', 'посёлок Пудость', 'посёлок Усть-Луга',\n",
       "       'Светогорск', 'Любань', 'поселок Селезнёво',\n",
       "       'поселок городского типа Рябово', 'Каменногорск', 'деревня Кривко',\n",
       "       'поселок Глебычево', 'деревня Парицы', 'поселок Жилпосёлок',\n",
       "       'посёлок городского типа Мга', 'городской поселок Янино-1',\n",
       "       'посёлок Войскорово', 'село Никольское', 'посёлок Терволово',\n",
       "       'поселок Стеклянный', 'посёлок городского типа Важины',\n",
       "       'посёлок Мыза-Ивановка', 'село Русско-Высоцкое',\n",
       "       'поселок городского типа Лебяжье',\n",
       "       'поселок городского типа Форносово', 'село Старая Ладога',\n",
       "       'поселок Житково', 'городской посёлок Виллози', 'деревня Лампово',\n",
       "       'деревня Шпаньково', 'деревня Лаврики', 'посёлок Сумино',\n",
       "       'посёлок Возрождение', 'деревня Старосиверская',\n",
       "       'посёлок Кикерино', 'поселок Возрождение',\n",
       "       'деревня Старое Хинколово', 'посёлок Пригородный',\n",
       "       'посёлок Торфяное', 'городской посёлок Будогощь',\n",
       "       'поселок Суходолье', 'поселок Красная Долина', 'деревня Хапо-Ое',\n",
       "       'поселок городского типа Дружная Горка', 'поселок Лисий Нос',\n",
       "       'деревня Яльгелево', 'посёлок Стеклянный', 'село Рождествено',\n",
       "       'деревня Старополье', 'посёлок Левашово', 'деревня Сяськелево',\n",
       "       'деревня Камышовка',\n",
       "       'садоводческое некоммерческое товарищество Лесная Поляна',\n",
       "       'деревня Хязельки', 'поселок Жилгородок',\n",
       "       'посёлок городского типа Павлово', 'деревня Ялгино',\n",
       "       'поселок Новый Учхоз', 'городской посёлок Рощино',\n",
       "       'поселок Гончарово', 'поселок Почап', 'посёлок Сапёрное',\n",
       "       'посёлок Платформа 69-й километр', 'поселок Каложицы',\n",
       "       'деревня Фалилеево', 'деревня Пельгора',\n",
       "       'поселок городского типа Лесогорский', 'деревня Торошковичи',\n",
       "       'посёлок Белоостров', 'посёлок Алексеевка', 'поселок Серебрянский',\n",
       "       'поселок Лукаши', 'поселок Петровское', 'деревня Щеглово',\n",
       "       'поселок Мичуринское', 'деревня Тарасово', 'поселок Кингисеппский',\n",
       "       'посёлок при железнодорожной станции Вещево', 'поселок Ушаки',\n",
       "       'деревня Котлы', 'деревня Сижно', 'деревня Торосово',\n",
       "       'посёлок Форт Красная Горка', 'деревня Новолисино',\n",
       "       'посёлок станции Громово', 'деревня Глинка', 'посёлок Мельниково',\n",
       "       'поселок городского типа Назия', 'деревня Старая Пустошь',\n",
       "       'поселок Коммунары', 'поселок Починок',\n",
       "       'посёлок городского типа Вознесенье', 'деревня Разбегаево',\n",
       "       'посёлок городского типа Рябово', 'поселок Гладкое',\n",
       "       'посёлок при железнодорожной станции Приветнинское',\n",
       "       'поселок Тёсово-4', 'посёлок Жилгородок', 'деревня Бор',\n",
       "       'посёлок Коробицыно', 'деревня Большая Вруда', 'деревня Курковицы',\n",
       "       'посёлок Лисий Нос', 'городской посёлок Советский',\n",
       "       'посёлок Кобралово', 'деревня Суоранда', 'поселок Кобралово',\n",
       "       'поселок городского типа Кондратьево',\n",
       "       'коттеджный поселок Счастье', 'поселок Любань', 'деревня Реброво',\n",
       "       'деревня Зимитицы', 'деревня Тойворово', 'поселок Семиозерье',\n",
       "       'поселок Лесное', 'поселок Совхозный', 'поселок Усть-Луга',\n",
       "       'посёлок Ленинское', 'посёлок Суйда',\n",
       "       'посёлок городского типа Форносово', 'деревня Нижние Осельки',\n",
       "       'посёлок станции Свирь', 'поселок Перово', 'Высоцк',\n",
       "       'поселок Гарболово', 'село Шум', 'поселок Котельский',\n",
       "       'поселок станции Лужайка', 'деревня Большая Пустомержа',\n",
       "       'поселок Красносельское', 'деревня Вахнова Кара', 'деревня Пижма',\n",
       "       'коттеджный поселок Кивеннапа Север', 'поселок Коробицыно',\n",
       "       'поселок Ромашки', 'посёлок Перово', 'деревня Каськово',\n",
       "       'деревня Куровицы', 'посёлок Плоское', 'поселок Сумино',\n",
       "       'поселок городского типа Большая Ижора', 'поселок Кирпичное',\n",
       "       'деревня Ям-Тесово', 'деревня Раздолье', 'деревня Терпилицы',\n",
       "       'поселок городского типа Токсово', 'посёлок Шугозеро',\n",
       "       'деревня Ваганово', 'поселок Пушное', 'садовое товарищество Садко',\n",
       "       'посёлок Усть-Ижора', 'деревня Выскатка',\n",
       "       'городской посёлок Свирьстрой', 'поселок Громово',\n",
       "       'деревня Кисельня', 'посёлок Старая Малукса',\n",
       "       'деревня Трубников Бор', 'поселок Калитино',\n",
       "       'посёлок Высокоключевой', 'садовое товарищество Приладожский',\n",
       "       'посёлок Пансионат Зелёный Бор', 'деревня Ненимяки',\n",
       "       'поселок Пансионат Зелёный Бор', 'деревня Снегирёвка',\n",
       "       'деревня Рапполово', 'деревня Пустынка', 'поселок Рабитицы',\n",
       "       'деревня Большой Сабск', 'деревня Русско', 'деревня Лупполово',\n",
       "       'деревня Большое Рейзино', 'деревня Малая Романовка',\n",
       "       'поселок Дружноселье', 'поселок Пчевжа', 'поселок Володарское',\n",
       "       'деревня Нижняя', 'коттеджный посёлок Лесное', 'деревня Тихковицы',\n",
       "       'деревня Борисова Грива', 'посёлок Дзержинского'], dtype=object)"
      ]
     },
     "execution_count": 17,
     "metadata": {},
     "output_type": "execute_result"
    }
   ],
   "source": [
    "data['locality_name'].unique()"
   ]
  },
  {
   "cell_type": "code",
   "execution_count": 18,
   "metadata": {
    "colab": {
     "base_uri": "https://localhost:8080/"
    },
    "id": "7shcG4AFCwY5",
    "outputId": "71aa7606-59e7-4dd3-b9f8-24a2ffdea188"
   },
   "outputs": [
    {
     "data": {
      "text/plain": [
       "364"
      ]
     },
     "execution_count": 18,
     "metadata": {},
     "output_type": "execute_result"
    }
   ],
   "source": [
    "data['locality_name'].nunique()"
   ]
  },
  {
   "cell_type": "code",
   "execution_count": 19,
   "metadata": {
    "id": "ajw4FKwTCzcC"
   },
   "outputs": [],
   "source": [
    "data['locality_name'] = data['locality_name'].str.lower()\n",
    "data['locality_name'] = data['locality_name'].str.replace('ё', 'е')\n",
    "to_replace = [\n",
    "    'поселок городского типа ', 'поселок ', 'деревня ', 'городской ', 'садовое товарищество ', \n",
    "    'садоводческое некоммерческое товарищество ', 'коттеджный ', 'при железнодорожной станции '\n",
    "]\n",
    "for substr in to_replace:\n",
    "  data['locality_name'] = data['locality_name'].str.replace(substr, '')"
   ]
  },
  {
   "cell_type": "code",
   "execution_count": 20,
   "metadata": {
    "colab": {
     "base_uri": "https://localhost:8080/"
    },
    "id": "QBI6-JS1C9OI",
    "outputId": "d3015fb8-84c9-4df5-a628-14601a9883a3"
   },
   "outputs": [
    {
     "data": {
      "text/plain": [
       "0         санкт-петербург\n",
       "1                  шушары\n",
       "2         санкт-петербург\n",
       "3         санкт-петербург\n",
       "4         санкт-петербург\n",
       "               ...       \n",
       "23694     санкт-петербург\n",
       "23695               тосно\n",
       "23696    село рождествено\n",
       "23697     санкт-петербург\n",
       "23698         новый учхоз\n",
       "Name: locality_name, Length: 23565, dtype: object"
      ]
     },
     "execution_count": 20,
     "metadata": {},
     "output_type": "execute_result"
    }
   ],
   "source": [
    "data['locality_name']"
   ]
  },
  {
   "cell_type": "markdown",
   "metadata": {
    "id": "WL1zIlZhDzQd"
   },
   "source": [
    "**Изменим формат данных в столбце first_day_exposition:**"
   ]
  },
  {
   "cell_type": "code",
   "execution_count": 21,
   "metadata": {
    "id": "PZH6zy6FD6Ao"
   },
   "outputs": [],
   "source": [
    "data['first_day_exposition'] = pd.to_datetime(data['first_day_exposition'], format='%Y-%m-%dT%H:%M:%S')"
   ]
  },
  {
   "cell_type": "markdown",
   "metadata": {
    "id": "HbkP0HMnGBkI"
   },
   "source": [
    "**Изменим типы данных:**"
   ]
  },
  {
   "cell_type": "code",
   "execution_count": 22,
   "metadata": {
    "id": "goxCPZnDGBtf"
   },
   "outputs": [],
   "source": [
    "list_to_int = ['last_price', 'floors_total', 'balcony', 'airports_nearest', 'city_centers_nearest', 'parks_around',\n",
    "               'parks_nearest', 'ponds_around', 'ponds_nearest', 'days_exposition']\n",
    "for i in list_to_int:\n",
    "    data[i] = data[data[i].notnull()][i].astype('int')"
   ]
  },
  {
   "cell_type": "code",
   "execution_count": 23,
   "metadata": {
    "colab": {
     "base_uri": "https://localhost:8080/"
    },
    "id": "8-LEAO38GOGA",
    "outputId": "4522f480-421b-45b1-993e-720d513f0bc7"
   },
   "outputs": [
    {
     "name": "stdout",
     "output_type": "stream",
     "text": [
      "<class 'pandas.core.frame.DataFrame'>\n",
      "Int64Index: 23565 entries, 0 to 23698\n",
      "Data columns (total 22 columns):\n",
      " #   Column                Non-Null Count  Dtype         \n",
      "---  ------                --------------  -----         \n",
      " 0   total_images          23565 non-null  int64         \n",
      " 1   last_price            23565 non-null  int64         \n",
      " 2   total_area            23565 non-null  float64       \n",
      " 3   first_day_exposition  23565 non-null  datetime64[ns]\n",
      " 4   rooms                 23565 non-null  int64         \n",
      " 5   ceiling_height        23565 non-null  float64       \n",
      " 6   floors_total          23565 non-null  int64         \n",
      " 7   living_area           23565 non-null  float64       \n",
      " 8   floor                 23565 non-null  int64         \n",
      " 9   is_apartment          23565 non-null  bool          \n",
      " 10  studio                23565 non-null  bool          \n",
      " 11  open_plan             23565 non-null  bool          \n",
      " 12  kitchen_area          23565 non-null  float64       \n",
      " 13  balcony               23565 non-null  int64         \n",
      " 14  locality_name         23565 non-null  object        \n",
      " 15  airports_nearest      18041 non-null  float64       \n",
      " 16  city_centers_nearest  18064 non-null  float64       \n",
      " 17  parks_around          23565 non-null  int64         \n",
      " 18  parks_nearest         8030 non-null   float64       \n",
      " 19  ponds_around          23565 non-null  int64         \n",
      " 20  ponds_nearest         9036 non-null   float64       \n",
      " 21  days_exposition       20394 non-null  float64       \n",
      "dtypes: bool(3), datetime64[ns](1), float64(9), int64(8), object(1)\n",
      "memory usage: 3.7+ MB\n"
     ]
    }
   ],
   "source": [
    "data.info()"
   ]
  },
  {
   "cell_type": "markdown",
   "metadata": {
    "id": "SRfwKel-EwdB"
   },
   "source": [
    "**Проверка на явные дубликаты:**"
   ]
  },
  {
   "cell_type": "code",
   "execution_count": 25,
   "metadata": {
    "colab": {
     "base_uri": "https://localhost:8080/"
    },
    "id": "CIHhUyf5EwdB",
    "outputId": "eb1ee59f-1f2e-4ca8-a7aa-0b048afe6a01"
   },
   "outputs": [
    {
     "data": {
      "text/plain": [
       "0"
      ]
     },
     "execution_count": 25,
     "metadata": {},
     "output_type": "execute_result"
    }
   ],
   "source": [
    "data.duplicated().sum()"
   ]
  },
  {
   "cell_type": "markdown",
   "metadata": {
    "id": "dL9x82A5EwdC"
   },
   "source": [
    "Явных дубликатов не выявлено"
   ]
  },
  {
   "cell_type": "code",
   "execution_count": 26,
   "metadata": {
    "colab": {
     "base_uri": "https://localhost:8080/",
     "height": 739
    },
    "id": "9zH_bS4oEwdC",
    "outputId": "7cb0f4f2-12a0-4e2e-c1cd-53f367cbe4c3",
    "scrolled": true
   },
   "outputs": [
    {
     "data": {
      "text/html": [
       "<style  type=\"text/css\" >\n",
       "#T_3e069_row0_col0,#T_3e069_row1_col0,#T_3e069_row2_col0,#T_3e069_row3_col0,#T_3e069_row4_col0,#T_3e069_row5_col0,#T_3e069_row6_col0,#T_3e069_row7_col0,#T_3e069_row8_col0,#T_3e069_row9_col0,#T_3e069_row10_col0,#T_3e069_row11_col0,#T_3e069_row12_col0,#T_3e069_row13_col0,#T_3e069_row14_col0,#T_3e069_row17_col0,#T_3e069_row19_col0{\n",
       "            background-color:  #3b4cc0;\n",
       "            color:  #f1f1f1;\n",
       "        }#T_3e069_row15_col0,#T_3e069_row16_col0{\n",
       "            background-color:  #afcafc;\n",
       "            color:  #000000;\n",
       "        }#T_3e069_row18_col0{\n",
       "            background-color:  #b40426;\n",
       "            color:  #f1f1f1;\n",
       "        }#T_3e069_row20_col0{\n",
       "            background-color:  #ca3b37;\n",
       "            color:  #f1f1f1;\n",
       "        }#T_3e069_row21_col0{\n",
       "            background-color:  #7a9df8;\n",
       "            color:  #000000;\n",
       "        }</style><table id=\"T_3e069_\" ><thead>    <tr>        <th class=\"blank level0\" ></th>        <th class=\"col_heading level0 col0\" >0</th>    </tr></thead><tbody>\n",
       "                <tr>\n",
       "                        <th id=\"T_3e069_level0_row0\" class=\"row_heading level0 row0\" >total_images</th>\n",
       "                        <td id=\"T_3e069_row0_col0\" class=\"data row0 col0\" >0.000000</td>\n",
       "            </tr>\n",
       "            <tr>\n",
       "                        <th id=\"T_3e069_level0_row1\" class=\"row_heading level0 row1\" >last_price</th>\n",
       "                        <td id=\"T_3e069_row1_col0\" class=\"data row1 col0\" >0.000000</td>\n",
       "            </tr>\n",
       "            <tr>\n",
       "                        <th id=\"T_3e069_level0_row2\" class=\"row_heading level0 row2\" >total_area</th>\n",
       "                        <td id=\"T_3e069_row2_col0\" class=\"data row2 col0\" >0.000000</td>\n",
       "            </tr>\n",
       "            <tr>\n",
       "                        <th id=\"T_3e069_level0_row3\" class=\"row_heading level0 row3\" >first_day_exposition</th>\n",
       "                        <td id=\"T_3e069_row3_col0\" class=\"data row3 col0\" >0.000000</td>\n",
       "            </tr>\n",
       "            <tr>\n",
       "                        <th id=\"T_3e069_level0_row4\" class=\"row_heading level0 row4\" >rooms</th>\n",
       "                        <td id=\"T_3e069_row4_col0\" class=\"data row4 col0\" >0.000000</td>\n",
       "            </tr>\n",
       "            <tr>\n",
       "                        <th id=\"T_3e069_level0_row5\" class=\"row_heading level0 row5\" >ceiling_height</th>\n",
       "                        <td id=\"T_3e069_row5_col0\" class=\"data row5 col0\" >0.000000</td>\n",
       "            </tr>\n",
       "            <tr>\n",
       "                        <th id=\"T_3e069_level0_row6\" class=\"row_heading level0 row6\" >floors_total</th>\n",
       "                        <td id=\"T_3e069_row6_col0\" class=\"data row6 col0\" >0.000000</td>\n",
       "            </tr>\n",
       "            <tr>\n",
       "                        <th id=\"T_3e069_level0_row7\" class=\"row_heading level0 row7\" >living_area</th>\n",
       "                        <td id=\"T_3e069_row7_col0\" class=\"data row7 col0\" >0.000000</td>\n",
       "            </tr>\n",
       "            <tr>\n",
       "                        <th id=\"T_3e069_level0_row8\" class=\"row_heading level0 row8\" >floor</th>\n",
       "                        <td id=\"T_3e069_row8_col0\" class=\"data row8 col0\" >0.000000</td>\n",
       "            </tr>\n",
       "            <tr>\n",
       "                        <th id=\"T_3e069_level0_row9\" class=\"row_heading level0 row9\" >is_apartment</th>\n",
       "                        <td id=\"T_3e069_row9_col0\" class=\"data row9 col0\" >0.000000</td>\n",
       "            </tr>\n",
       "            <tr>\n",
       "                        <th id=\"T_3e069_level0_row10\" class=\"row_heading level0 row10\" >studio</th>\n",
       "                        <td id=\"T_3e069_row10_col0\" class=\"data row10 col0\" >0.000000</td>\n",
       "            </tr>\n",
       "            <tr>\n",
       "                        <th id=\"T_3e069_level0_row11\" class=\"row_heading level0 row11\" >open_plan</th>\n",
       "                        <td id=\"T_3e069_row11_col0\" class=\"data row11 col0\" >0.000000</td>\n",
       "            </tr>\n",
       "            <tr>\n",
       "                        <th id=\"T_3e069_level0_row12\" class=\"row_heading level0 row12\" >kitchen_area</th>\n",
       "                        <td id=\"T_3e069_row12_col0\" class=\"data row12 col0\" >0.000000</td>\n",
       "            </tr>\n",
       "            <tr>\n",
       "                        <th id=\"T_3e069_level0_row13\" class=\"row_heading level0 row13\" >balcony</th>\n",
       "                        <td id=\"T_3e069_row13_col0\" class=\"data row13 col0\" >0.000000</td>\n",
       "            </tr>\n",
       "            <tr>\n",
       "                        <th id=\"T_3e069_level0_row14\" class=\"row_heading level0 row14\" >locality_name</th>\n",
       "                        <td id=\"T_3e069_row14_col0\" class=\"data row14 col0\" >0.000000</td>\n",
       "            </tr>\n",
       "            <tr>\n",
       "                        <th id=\"T_3e069_level0_row15\" class=\"row_heading level0 row15\" >airports_nearest</th>\n",
       "                        <td id=\"T_3e069_row15_col0\" class=\"data row15 col0\" >23.000000</td>\n",
       "            </tr>\n",
       "            <tr>\n",
       "                        <th id=\"T_3e069_level0_row16\" class=\"row_heading level0 row16\" >city_centers_nearest</th>\n",
       "                        <td id=\"T_3e069_row16_col0\" class=\"data row16 col0\" >23.000000</td>\n",
       "            </tr>\n",
       "            <tr>\n",
       "                        <th id=\"T_3e069_level0_row17\" class=\"row_heading level0 row17\" >parks_around</th>\n",
       "                        <td id=\"T_3e069_row17_col0\" class=\"data row17 col0\" >0.000000</td>\n",
       "            </tr>\n",
       "            <tr>\n",
       "                        <th id=\"T_3e069_level0_row18\" class=\"row_heading level0 row18\" >parks_nearest</th>\n",
       "                        <td id=\"T_3e069_row18_col0\" class=\"data row18 col0\" >66.000000</td>\n",
       "            </tr>\n",
       "            <tr>\n",
       "                        <th id=\"T_3e069_level0_row19\" class=\"row_heading level0 row19\" >ponds_around</th>\n",
       "                        <td id=\"T_3e069_row19_col0\" class=\"data row19 col0\" >0.000000</td>\n",
       "            </tr>\n",
       "            <tr>\n",
       "                        <th id=\"T_3e069_level0_row20\" class=\"row_heading level0 row20\" >ponds_nearest</th>\n",
       "                        <td id=\"T_3e069_row20_col0\" class=\"data row20 col0\" >62.000000</td>\n",
       "            </tr>\n",
       "            <tr>\n",
       "                        <th id=\"T_3e069_level0_row21\" class=\"row_heading level0 row21\" >days_exposition</th>\n",
       "                        <td id=\"T_3e069_row21_col0\" class=\"data row21 col0\" >13.000000</td>\n",
       "            </tr>\n",
       "    </tbody></table>"
      ],
      "text/plain": [
       "<pandas.io.formats.style.Styler at 0x7f6d1ddf0a90>"
      ]
     },
     "execution_count": 26,
     "metadata": {},
     "output_type": "execute_result"
    }
   ],
   "source": [
    "pd.DataFrame(round(data.isna().mean()*100,)).style.background_gradient('coolwarm')"
   ]
  },
  {
   "cell_type": "markdown",
   "metadata": {
    "id": "9cyFPhz8EwdC"
   },
   "source": [
    "**Вывод:**   \n",
    "Во многих столбцах были пропущены значения, большую часть, которую сложно заменить и скорее всего это связано с ошибкой при сборе данных.Также присутствовали аномальные значения, которые выбивались из логики."
   ]
  },
  {
   "cell_type": "markdown",
   "metadata": {
    "id": "EQPwEbkBh942"
   },
   "source": [
    "### Посчитайте и добавьте в таблицу новые столбцы"
   ]
  },
  {
   "cell_type": "markdown",
   "metadata": {
    "id": "WhnF-H1CGzB_"
   },
   "source": [
    "**Добавим в таблицу новый столбец - price_area(цену одного квадратного метра):**\n"
   ]
  },
  {
   "cell_type": "code",
   "execution_count": 27,
   "metadata": {
    "colab": {
     "base_uri": "https://localhost:8080/"
    },
    "id": "T5mCvfd4Gzwx",
    "outputId": "f6cd3d0a-6844-4047-f345-6f5d72bac482"
   },
   "outputs": [
    {
     "data": {
      "text/plain": [
       "0        120370.0\n",
       "1         82921.0\n",
       "2         92786.0\n",
       "3        408176.0\n",
       "4        100000.0\n",
       "           ...   \n",
       "23694     72491.0\n",
       "23695     52542.0\n",
       "23696     44092.0\n",
       "23697    149511.0\n",
       "23698     41796.0\n",
       "Name: price_area, Length: 23565, dtype: float64"
      ]
     },
     "execution_count": 27,
     "metadata": {},
     "output_type": "execute_result"
    }
   ],
   "source": [
    "data['price_area'] = round(data['last_price']/data['total_area'])\n",
    "data['price_area']"
   ]
  },
  {
   "cell_type": "markdown",
   "metadata": {
    "id": "jR49Pkt8HT-W"
   },
   "source": [
    "**Добавим новый столбец - день недели публикации объявления (0 — понедельник, 1 — вторник и так далее):**"
   ]
  },
  {
   "cell_type": "code",
   "execution_count": 28,
   "metadata": {
    "colab": {
     "base_uri": "https://localhost:8080/"
    },
    "id": "GAchL3UNHUI_",
    "outputId": "c8af77b1-bba2-49e5-f426-63422310e639"
   },
   "outputs": [
    {
     "data": {
      "text/plain": [
       "0        3\n",
       "1        1\n",
       "2        3\n",
       "3        4\n",
       "4        1\n",
       "        ..\n",
       "23694    1\n",
       "23695    0\n",
       "23696    6\n",
       "23697    1\n",
       "23698    4\n",
       "Name: day_of_week_exposition, Length: 23565, dtype: int64"
      ]
     },
     "execution_count": 28,
     "metadata": {},
     "output_type": "execute_result"
    }
   ],
   "source": [
    "data['day_of_week_exposition'] = data['first_day_exposition'].dt.dayofweek\n",
    "data['day_of_week_exposition']"
   ]
  },
  {
   "cell_type": "markdown",
   "metadata": {
    "id": "sosnGAPnHZLZ"
   },
   "source": [
    "**Добавим новый столбец - месяц публикации объявления:**"
   ]
  },
  {
   "cell_type": "code",
   "execution_count": 29,
   "metadata": {
    "colab": {
     "base_uri": "https://localhost:8080/"
    },
    "id": "ff67ZB_8HZSw",
    "outputId": "668b77e7-8abe-478e-abc5-2d111ca2bf97"
   },
   "outputs": [
    {
     "data": {
      "text/plain": [
       "0         3\n",
       "1        12\n",
       "2         8\n",
       "3         7\n",
       "4         6\n",
       "         ..\n",
       "23694     3\n",
       "23695     1\n",
       "23696     2\n",
       "23697     3\n",
       "23698     7\n",
       "Name: month_exposition, Length: 23565, dtype: int64"
      ]
     },
     "execution_count": 29,
     "metadata": {},
     "output_type": "execute_result"
    }
   ],
   "source": [
    "\n",
    "data['month_exposition'] = data['first_day_exposition'].dt.month\n",
    "data['month_exposition']"
   ]
  },
  {
   "cell_type": "markdown",
   "metadata": {
    "id": "KF1NPmCXHZaU"
   },
   "source": [
    "**Добавим новый столбец - год публикации объявления:**\n"
   ]
  },
  {
   "cell_type": "code",
   "execution_count": 30,
   "metadata": {
    "colab": {
     "base_uri": "https://localhost:8080/"
    },
    "id": "OhsQNyiGHZg5",
    "outputId": "60f5a2da-5308-48c2-d185-37e3140548b9"
   },
   "outputs": [
    {
     "data": {
      "text/plain": [
       "0        2019\n",
       "1        2018\n",
       "2        2015\n",
       "3        2015\n",
       "4        2018\n",
       "         ... \n",
       "23694    2017\n",
       "23695    2018\n",
       "23696    2018\n",
       "23697    2017\n",
       "23698    2017\n",
       "Name: year_exposition, Length: 23565, dtype: int64"
      ]
     },
     "execution_count": 30,
     "metadata": {},
     "output_type": "execute_result"
    }
   ],
   "source": [
    "data['year_exposition'] = data['first_day_exposition'].dt.year\n",
    "data['year_exposition']"
   ]
  },
  {
   "cell_type": "markdown",
   "metadata": {
    "id": "4EHgs0nTHZvn"
   },
   "source": [
    "**Добавим новый столбец - тип этажа квартиры (значения — «‎первый», «последний», «другой»):**"
   ]
  },
  {
   "cell_type": "code",
   "execution_count": 31,
   "metadata": {
    "colab": {
     "base_uri": "https://localhost:8080/"
    },
    "id": "b1WtPHkKHZ2w",
    "outputId": "f8b787df-d3df-42d3-f3cb-2e995267e629"
   },
   "outputs": [
    {
     "data": {
      "text/plain": [
       "0        другой\n",
       "1        первый\n",
       "2        другой\n",
       "3        другой\n",
       "4        другой\n",
       "          ...  \n",
       "23694    другой\n",
       "23695    другой\n",
       "23696    первый\n",
       "23697    другой\n",
       "23698    первый\n",
       "Name: floor_type, Length: 23565, dtype: object"
      ]
     },
     "execution_count": 31,
     "metadata": {},
     "output_type": "execute_result"
    }
   ],
   "source": [
    "def floor_group(row):\n",
    "    if row['floor'] == 1:\n",
    "        return 'первый'\n",
    "    \n",
    "    if row['floor'] == row['floors_total']:\n",
    "        return 'последний'\n",
    "    \n",
    "    return 'другой'\n",
    "\n",
    "data['floor_type'] = data.apply(floor_group, axis=1)\n",
    "data['floor_type']"
   ]
  },
  {
   "cell_type": "markdown",
   "metadata": {
    "id": "A1u9Rj37HaCT"
   },
   "source": [
    "**Добавим новый столбец - расстояние до центра города в километрах:**"
   ]
  },
  {
   "cell_type": "code",
   "execution_count": 32,
   "metadata": {
    "colab": {
     "base_uri": "https://localhost:8080/"
    },
    "id": "Psal1RSCHaMn",
    "outputId": "7d38b8b7-723d-4796-b834-f347f787c37e"
   },
   "outputs": [
    {
     "data": {
      "text/plain": [
       "0        16.0\n",
       "1        19.0\n",
       "2        14.0\n",
       "3         7.0\n",
       "4         8.0\n",
       "         ... \n",
       "23694     4.0\n",
       "23695     NaN\n",
       "23696     NaN\n",
       "23697    10.0\n",
       "23698     NaN\n",
       "Name: center_distance_km, Length: 23565, dtype: float64"
      ]
     },
     "execution_count": 32,
     "metadata": {},
     "output_type": "execute_result"
    }
   ],
   "source": [
    "\n",
    "data['center_distance_km'] = (data['city_centers_nearest'] / 1000).round()\n",
    "data['center_distance_km']"
   ]
  },
  {
   "cell_type": "markdown",
   "metadata": {
    "id": "u5-h_q3Ih942"
   },
   "source": [
    "### Проведите исследовательский анализ данных"
   ]
  },
  {
   "cell_type": "markdown",
   "metadata": {
    "id": "T7--WCkSOQ_u"
   },
   "source": [
    "**Изучим общую площадь:**"
   ]
  },
  {
   "cell_type": "code",
   "execution_count": 33,
   "metadata": {
    "colab": {
     "base_uri": "https://localhost:8080/"
    },
    "id": "dCRUW88IORIk",
    "outputId": "9a795683-1ebe-4119-ceac-b8e4a8813e2e"
   },
   "outputs": [
    {
     "data": {
      "text/plain": [
       "count    23565.000000\n",
       "mean        60.322824\n",
       "std         35.657060\n",
       "min         12.000000\n",
       "25%         40.000000\n",
       "50%         52.000000\n",
       "75%         69.700000\n",
       "max        900.000000\n",
       "Name: total_area, dtype: float64"
      ]
     },
     "execution_count": 33,
     "metadata": {},
     "output_type": "execute_result"
    }
   ],
   "source": [
    "data['total_area'].describe()"
   ]
  },
  {
   "cell_type": "code",
   "execution_count": 34,
   "metadata": {
    "colab": {
     "base_uri": "https://localhost:8080/",
     "height": 356
    },
    "id": "lHsSFr3pOjay",
    "outputId": "c31ff044-e278-4332-8106-0ea379529edd"
   },
   "outputs": [
    {
     "data": {
      "text/plain": [
       "<AxesSubplot:xlabel='total_area'>"
      ]
     },
     "execution_count": 34,
     "metadata": {},
     "output_type": "execute_result"
    },
    {
     "data": {
      "image/png": "[encoded data removed]",
      "text/plain": [
       "<Figure size 432x288 with 1 Axes>"
      ]
     },
     "metadata": {
      "needs_background": "light"
     },
     "output_type": "display_data"
    }
   ],
   "source": [
    "sns.boxplot(x=data['total_area'])"
   ]
  },
  {
   "cell_type": "code",
   "execution_count": 35,
   "metadata": {
    "colab": {
     "base_uri": "https://localhost:8080/",
     "height": 343
    },
    "id": "R1VmQv7OORh-",
    "outputId": "1d2b8d5d-f828-4bbf-f244-eefb92ba8f49"
   },
   "outputs": [
    {
     "data": {
      "text/plain": [
       "<AxesSubplot:>"
      ]
     },
     "execution_count": 35,
     "metadata": {},
     "output_type": "execute_result"
    },
    {
     "data": {
      "image/png": "[encoded data removed]",
      "text/plain": [
       "<Figure size 432x288 with 1 Axes>"
      ]
     },
     "metadata": {
      "needs_background": "light"
     },
     "output_type": "display_data"
    }
   ],
   "source": [
    "data['total_area'].hist(bins=50)"
   ]
  },
  {
   "cell_type": "markdown",
   "metadata": {
    "id": "Hoxw049IORtB"
   },
   "source": [
    "Много выбросов поэтому отсечем лишнее"
   ]
  },
  {
   "cell_type": "code",
   "execution_count": 36,
   "metadata": {
    "colab": {
     "base_uri": "https://localhost:8080/",
     "height": 356
    },
    "id": "h3nvBZrPOR2e",
    "outputId": "72d4ba3a-fe65-4d60-d250-54c3a6a81dfd"
   },
   "outputs": [
    {
     "data": {
      "text/plain": [
       "<AxesSubplot:xlabel='total_area'>"
      ]
     },
     "execution_count": 36,
     "metadata": {},
     "output_type": "execute_result"
    },
    {
     "data": {
      "image/png": "[encoded data removed]",
      "text/plain": [
       "<Figure size 432x288 with 1 Axes>"
      ]
     },
     "metadata": {
      "needs_background": "light"
     },
     "output_type": "display_data"
    }
   ],
   "source": [
    "good_data_area = data.loc[data['total_area'] < 69.9, 'total_area']\n",
    "sns.boxplot(x=good_data_area)"
   ]
  },
  {
   "cell_type": "code",
   "execution_count": 37,
   "metadata": {
    "colab": {
     "base_uri": "https://localhost:8080/",
     "height": 448
    },
    "id": "V59eT2qUPHQG",
    "outputId": "a05d3d5c-461c-43ec-b768-4cb929b8e509"
   },
   "outputs": [
    {
     "data": {
      "text/plain": [
       "<AxesSubplot:>"
      ]
     },
     "execution_count": 37,
     "metadata": {},
     "output_type": "execute_result"
    },
    {
     "data": {
      "image/png": "[encoded data removed]",
      "text/plain": [
       "<Figure size 864x504 with 1 Axes>"
      ]
     },
     "metadata": {
      "needs_background": "light"
     },
     "output_type": "display_data"
    }
   ],
   "source": [
    "good_data_area.hist(figsize=(12, 7), bins=50)"
   ]
  },
  {
   "cell_type": "code",
   "execution_count": 38,
   "metadata": {
    "colab": {
     "base_uri": "https://localhost:8080/"
    },
    "id": "9nRwcaQ9PNC3",
    "outputId": "90ffa19a-0e88-424c-a8c5-17d43c183f51"
   },
   "outputs": [
    {
     "data": {
      "text/plain": [
       "count    17687.000000\n",
       "mean        46.362488\n",
       "std         11.428512\n",
       "min         12.000000\n",
       "25%         37.000000\n",
       "50%         45.000000\n",
       "75%         56.000000\n",
       "max         69.800000\n",
       "Name: total_area, dtype: float64"
      ]
     },
     "execution_count": 38,
     "metadata": {},
     "output_type": "execute_result"
    }
   ],
   "source": [
    "good_data_area.describe()"
   ]
  },
  {
   "cell_type": "markdown",
   "metadata": {
    "id": "k1fpFuqJOSAc"
   },
   "source": [
    "Средняя площадь составляет 46.35 кв. м. среди квартир, включенных в выборку\n",
    "\n",
    "Судя по гистограмме, большинство квартир по площади находятся в диапазоне 30-50 кв. м."
   ]
  },
  {
   "cell_type": "markdown",
   "metadata": {
    "id": "cUeiemL6PZc1"
   },
   "source": [
    "**Изучим жилую площадь:**"
   ]
  },
  {
   "cell_type": "code",
   "execution_count": 39,
   "metadata": {
    "colab": {
     "base_uri": "https://localhost:8080/"
    },
    "id": "KNbaATyHOSIH",
    "outputId": "6469df56-34ab-48e4-991f-6f092ca6c9be"
   },
   "outputs": [
    {
     "data": {
      "text/plain": [
       "count    23565.000000\n",
       "mean        34.365588\n",
       "std         22.190610\n",
       "min          2.000000\n",
       "25%         18.934905\n",
       "50%         30.000000\n",
       "75%         42.000000\n",
       "max        409.700000\n",
       "Name: living_area, dtype: float64"
      ]
     },
     "execution_count": 39,
     "metadata": {},
     "output_type": "execute_result"
    }
   ],
   "source": [
    "data['living_area'].describe()"
   ]
  },
  {
   "cell_type": "code",
   "execution_count": 40,
   "metadata": {
    "colab": {
     "base_uri": "https://localhost:8080/",
     "height": 356
    },
    "id": "bWMiHNPyQEgW",
    "outputId": "dca0fde5-277a-47af-a070-912bb3b30260"
   },
   "outputs": [
    {
     "data": {
      "text/plain": [
       "<AxesSubplot:xlabel='living_area'>"
      ]
     },
     "execution_count": 40,
     "metadata": {},
     "output_type": "execute_result"
    },
    {
     "data": {
      "image/png": "[encoded data removed]",
      "text/plain": [
       "<Figure size 432x288 with 1 Axes>"
      ]
     },
     "metadata": {
      "needs_background": "light"
     },
     "output_type": "display_data"
    }
   ],
   "source": [
    "\n",
    "sns.boxplot(x=data['living_area'])"
   ]
  },
  {
   "cell_type": "code",
   "execution_count": 41,
   "metadata": {
    "colab": {
     "base_uri": "https://localhost:8080/",
     "height": 448
    },
    "id": "SCdgzHPoQHUx",
    "outputId": "41563015-aa8e-45a8-820f-595a9373bc9a"
   },
   "outputs": [
    {
     "data": {
      "text/plain": [
       "<AxesSubplot:>"
      ]
     },
     "execution_count": 41,
     "metadata": {},
     "output_type": "execute_result"
    },
    {
     "data": {
      "image/png": "[encoded data removed]",
      "text/plain": [
       "<Figure size 864x504 with 1 Axes>"
      ]
     },
     "metadata": {
      "needs_background": "light"
     },
     "output_type": "display_data"
    }
   ],
   "source": [
    "data['living_area'].hist(bins=30, figsize=(12, 7))"
   ]
  },
  {
   "cell_type": "markdown",
   "metadata": {
    "id": "oauDUFtIOSR5"
   },
   "source": [
    "Уберем выбросы"
   ]
  },
  {
   "cell_type": "code",
   "execution_count": 42,
   "metadata": {
    "colab": {
     "base_uri": "https://localhost:8080/",
     "height": 356
    },
    "id": "6drb_Rd5OSaj",
    "outputId": "1bea5575-339c-4992-987e-d90fbf6f414d"
   },
   "outputs": [
    {
     "data": {
      "text/plain": [
       "<AxesSubplot:xlabel='living_area'>"
      ]
     },
     "execution_count": 42,
     "metadata": {},
     "output_type": "execute_result"
    },
    {
     "data": {
      "image/png": "[encoded data removed]",
      "text/plain": [
       "<Figure size 432x288 with 1 Axes>"
      ]
     },
     "metadata": {
      "needs_background": "light"
     },
     "output_type": "display_data"
    }
   ],
   "source": [
    "good_data_living = data.loc[data['living_area'] <= 42.3, 'living_area']\n",
    "sns.boxplot(x=good_data_living)"
   ]
  },
  {
   "cell_type": "code",
   "execution_count": 43,
   "metadata": {
    "colab": {
     "base_uri": "https://localhost:8080/",
     "height": 448
    },
    "id": "x-WMZ76LQUHJ",
    "outputId": "d86633e1-4493-484d-dfc2-b06a6932abd0"
   },
   "outputs": [
    {
     "data": {
      "text/plain": [
       "<AxesSubplot:>"
      ]
     },
     "execution_count": 43,
     "metadata": {},
     "output_type": "execute_result"
    },
    {
     "data": {
      "image/png": "[encoded data removed]",
      "text/plain": [
       "<Figure size 864x504 with 1 Axes>"
      ]
     },
     "metadata": {
      "needs_background": "light"
     },
     "output_type": "display_data"
    }
   ],
   "source": [
    "good_data_living.hist(bins=30, figsize=(12, 7))"
   ]
  },
  {
   "cell_type": "code",
   "execution_count": 44,
   "metadata": {
    "colab": {
     "base_uri": "https://localhost:8080/"
    },
    "id": "AKm8uXx8QdT4",
    "outputId": "c8785979-3dc5-48a3-db61-1184f5de49f5"
   },
   "outputs": [
    {
     "name": "stdout",
     "output_type": "stream",
     "text": [
      "26.614061020864362\n"
     ]
    },
    {
     "data": {
      "text/plain": [
       "count    17837.000000\n",
       "mean        25.684736\n",
       "std          8.358906\n",
       "min          2.000000\n",
       "25%         18.000000\n",
       "50%         26.614061\n",
       "75%         32.000000\n",
       "max         42.300000\n",
       "Name: living_area, dtype: float64"
      ]
     },
     "execution_count": 44,
     "metadata": {},
     "output_type": "execute_result"
    }
   ],
   "source": [
    "print(good_data_living.median())\n",
    "good_data_living.describe()"
   ]
  },
  {
   "cell_type": "markdown",
   "metadata": {
    "id": "d7xfqX_8OSi5"
   },
   "source": [
    "По выборке без выбросов, средняя жилая площадь квартиры составляет 25.6 кв.м., однако больше всего квартир с жилой площадью в районе 15-20 и 27-32 кв. м. (в первом диапазоне квартир больше)."
   ]
  },
  {
   "cell_type": "markdown",
   "metadata": {
    "id": "zZMnLiOkQhp8"
   },
   "source": [
    "**Изучим площадь кухонь:**"
   ]
  },
  {
   "cell_type": "code",
   "execution_count": 45,
   "metadata": {
    "colab": {
     "base_uri": "https://localhost:8080/"
    },
    "id": "26VojKw7OSqM",
    "outputId": "ebba43a6-80e3-4c55-97b4-cf83c19136c8"
   },
   "outputs": [
    {
     "data": {
      "text/plain": [
       "count    23565.000000\n",
       "mean        10.411760\n",
       "std          5.979533\n",
       "min          1.300000\n",
       "25%          7.000000\n",
       "50%          9.000000\n",
       "75%         11.900000\n",
       "max        112.000000\n",
       "Name: kitchen_area, dtype: float64"
      ]
     },
     "execution_count": 45,
     "metadata": {},
     "output_type": "execute_result"
    }
   ],
   "source": [
    "data['kitchen_area'].describe()"
   ]
  },
  {
   "cell_type": "code",
   "execution_count": 46,
   "metadata": {
    "colab": {
     "base_uri": "https://localhost:8080/",
     "height": 356
    },
    "id": "BuMcdBZoQjuB",
    "outputId": "9ba46c79-6942-42d3-d563-7ce2f7872ffc"
   },
   "outputs": [
    {
     "data": {
      "text/plain": [
       "<AxesSubplot:xlabel='kitchen_area'>"
      ]
     },
     "execution_count": 46,
     "metadata": {},
     "output_type": "execute_result"
    },
    {
     "data": {
      "image/png": "[encoded data removed]",
      "text/plain": [
       "<Figure size 432x288 with 1 Axes>"
      ]
     },
     "metadata": {
      "needs_background": "light"
     },
     "output_type": "display_data"
    }
   ],
   "source": [
    "sns.boxplot(x=data['kitchen_area'])"
   ]
  },
  {
   "cell_type": "code",
   "execution_count": 47,
   "metadata": {
    "colab": {
     "base_uri": "https://localhost:8080/",
     "height": 448
    },
    "id": "11jdFe-AQkYA",
    "outputId": "5cee465a-f399-462f-fe29-6ad59f9d30fd"
   },
   "outputs": [
    {
     "data": {
      "text/plain": [
       "<AxesSubplot:>"
      ]
     },
     "execution_count": 47,
     "metadata": {},
     "output_type": "execute_result"
    },
    {
     "data": {
      "image/png": "[encoded data removed]",
      "text/plain": [
       "<Figure size 864x504 with 1 Axes>"
      ]
     },
     "metadata": {
      "needs_background": "light"
     },
     "output_type": "display_data"
    }
   ],
   "source": [
    "data['kitchen_area'].hist(bins=30, figsize=(12, 7))"
   ]
  },
  {
   "cell_type": "markdown",
   "metadata": {
    "id": "61-3imhYOSx3"
   },
   "source": [
    "Уберем выбросы"
   ]
  },
  {
   "cell_type": "code",
   "execution_count": 48,
   "metadata": {
    "colab": {
     "base_uri": "https://localhost:8080/",
     "height": 356
    },
    "id": "qTWXTYcCOS5e",
    "outputId": "e8257061-a800-4e47-d784-d0ce2e49e1eb"
   },
   "outputs": [
    {
     "data": {
      "text/plain": [
       "<AxesSubplot:xlabel='kitchen_area'>"
      ]
     },
     "execution_count": 48,
     "metadata": {},
     "output_type": "execute_result"
    },
    {
     "data": {
      "image/png": "[encoded data removed]",
      "text/plain": [
       "<Figure size 432x288 with 1 Axes>"
      ]
     },
     "metadata": {
      "needs_background": "light"
     },
     "output_type": "display_data"
    }
   ],
   "source": [
    "good_data_kitchen = data.loc[(6.3 <= data['kitchen_area']) & (data['kitchen_area'] <= 11.44), 'kitchen_area']\n",
    "sns.boxplot(x=good_data_kitchen)"
   ]
  },
  {
   "cell_type": "code",
   "execution_count": 49,
   "metadata": {
    "colab": {
     "base_uri": "https://localhost:8080/",
     "height": 448
    },
    "id": "kc50BuCAQxx4",
    "outputId": "03a9234b-2f4f-46dd-f2e8-dbab10b13387"
   },
   "outputs": [
    {
     "data": {
      "text/plain": [
       "<AxesSubplot:>"
      ]
     },
     "execution_count": 49,
     "metadata": {},
     "output_type": "execute_result"
    },
    {
     "data": {
      "image/png": "[encoded data removed]",
      "text/plain": [
       "<Figure size 864x504 with 1 Axes>"
      ]
     },
     "metadata": {
      "needs_background": "light"
     },
     "output_type": "display_data"
    }
   ],
   "source": [
    "good_data_kitchen.hist(bins=50, figsize=(12, 7))"
   ]
  },
  {
   "cell_type": "code",
   "execution_count": 50,
   "metadata": {
    "colab": {
     "base_uri": "https://localhost:8080/"
    },
    "id": "kaEdGWJOQzXG",
    "outputId": "091d49b1-48a8-4fc8-aaa4-002ea4eba4bb"
   },
   "outputs": [
    {
     "data": {
      "text/plain": [
       "count    13089.000000\n",
       "mean         8.779507\n",
       "std          1.425931\n",
       "min          6.300000\n",
       "25%          7.600000\n",
       "50%          8.770000\n",
       "75%         10.000000\n",
       "max         11.440000\n",
       "Name: kitchen_area, dtype: float64"
      ]
     },
     "execution_count": 50,
     "metadata": {},
     "output_type": "execute_result"
    }
   ],
   "source": [
    "good_data_kitchen.describe()"
   ]
  },
  {
   "cell_type": "markdown",
   "metadata": {
    "id": "C8O5r912OTB2"
   },
   "source": [
    "По гистограмме видно большое количество целочисленных значений площадей. Возможно, имело смысл разбить кухни по площадям на группы 7-8 кв.м., 8-9 кв.м. и так далее. Средняя площадь при этом равна 8.81, а больше всего кухонь площадью 10 кв.м.."
   ]
  },
  {
   "cell_type": "markdown",
   "metadata": {
    "id": "nEHM4bq1Q6u9"
   },
   "source": [
    "**Изучим цену объектов:**"
   ]
  },
  {
   "cell_type": "code",
   "execution_count": 51,
   "metadata": {
    "colab": {
     "base_uri": "https://localhost:8080/"
    },
    "id": "accb3768",
    "outputId": "e4aa32ff-c59e-43e8-a2b3-bf8ded51d823"
   },
   "outputs": [
    {
     "data": {
      "text/plain": [
       "count    2.356500e+04\n",
       "mean     6.540058e+06\n",
       "std      1.091093e+07\n",
       "min      1.219000e+04\n",
       "25%      3.400000e+06\n",
       "50%      4.646000e+06\n",
       "75%      6.790000e+06\n",
       "max      7.630000e+08\n",
       "Name: last_price, dtype: float64"
      ]
     },
     "execution_count": 51,
     "metadata": {},
     "output_type": "execute_result"
    }
   ],
   "source": [
    "data['last_price'].describe()"
   ]
  },
  {
   "cell_type": "code",
   "execution_count": 52,
   "metadata": {
    "colab": {
     "base_uri": "https://localhost:8080/",
     "height": 356
    },
    "id": "f27707bd",
    "outputId": "127d882b-0299-4f6a-b4a4-4d081a4a9491"
   },
   "outputs": [
    {
     "data": {
      "text/plain": [
       "<AxesSubplot:xlabel='last_price'>"
      ]
     },
     "execution_count": 52,
     "metadata": {},
     "output_type": "execute_result"
    },
    {
     "data": {
      "image/png": "[encoded data removed]",
      "text/plain": [
       "<Figure size 432x288 with 1 Axes>"
      ]
     },
     "metadata": {
      "needs_background": "light"
     },
     "output_type": "display_data"
    }
   ],
   "source": [
    "sns.boxplot(x=data['last_price'])"
   ]
  },
  {
   "cell_type": "code",
   "execution_count": 53,
   "metadata": {
    "colab": {
     "base_uri": "https://localhost:8080/",
     "height": 352
    },
    "id": "4c6cd09b",
    "outputId": "09ffcc5e-07a2-47ca-87e0-ed5ea385a4c3"
   },
   "outputs": [
    {
     "data": {
      "text/plain": [
       "<AxesSubplot:>"
      ]
     },
     "execution_count": 53,
     "metadata": {},
     "output_type": "execute_result"
    },
    {
     "data": {
      "image/png": "[encoded data removed]",
      "text/plain": [
       "<Figure size 432x288 with 1 Axes>"
      ]
     },
     "metadata": {
      "needs_background": "light"
     },
     "output_type": "display_data"
    }
   ],
   "source": [
    "data['last_price'].hist(bins=100)"
   ]
  },
  {
   "cell_type": "markdown",
   "metadata": {
    "id": "b4b46684"
   },
   "source": [
    "Избавимся от выбросов"
   ]
  },
  {
   "cell_type": "code",
   "execution_count": 54,
   "metadata": {
    "colab": {
     "base_uri": "https://localhost:8080/",
     "height": 356
    },
    "id": "0c6e8877",
    "outputId": "5cfc86a6-89d5-4ad5-f15c-ee4dcee3ade5"
   },
   "outputs": [
    {
     "data": {
      "text/plain": [
       "<AxesSubplot:xlabel='last_price'>"
      ]
     },
     "execution_count": 54,
     "metadata": {},
     "output_type": "execute_result"
    },
    {
     "data": {
      "image/png": "[encoded data removed]",
      "text/plain": [
       "<Figure size 432x288 with 1 Axes>"
      ]
     },
     "metadata": {
      "needs_background": "light"
     },
     "output_type": "display_data"
    }
   ],
   "source": [
    "good_data_price = data.loc[(3.400000e+06 <= data['last_price']) & (data['last_price'] <= 6.800000e+06), 'last_price']\n",
    "sns.boxplot(x=good_data_price)"
   ]
  },
  {
   "cell_type": "code",
   "execution_count": 55,
   "metadata": {
    "colab": {
     "base_uri": "https://localhost:8080/",
     "height": 461
    },
    "id": "442d8179",
    "outputId": "3472dc8f-261d-42c8-aa0f-52f7706482aa"
   },
   "outputs": [
    {
     "data": {
      "text/plain": [
       "<AxesSubplot:>"
      ]
     },
     "execution_count": 55,
     "metadata": {},
     "output_type": "execute_result"
    },
    {
     "data": {
      "image/png": "[encoded data removed]",
      "text/plain": [
       "<Figure size 864x504 with 1 Axes>"
      ]
     },
     "metadata": {
      "needs_background": "light"
     },
     "output_type": "display_data"
    }
   ],
   "source": [
    "good_data_price.hist(bins=30, figsize=(12, 7))"
   ]
  },
  {
   "cell_type": "code",
   "execution_count": 56,
   "metadata": {
    "colab": {
     "base_uri": "https://localhost:8080/"
    },
    "id": "e9ea1f85",
    "outputId": "fc1dfffa-ac47-4a7a-b724-61b285fcddff"
   },
   "outputs": [
    {
     "data": {
      "text/plain": [
       "count    1.211500e+04\n",
       "mean     4.770269e+06\n",
       "std      9.375187e+05\n",
       "min      3.400000e+06\n",
       "25%      3.990000e+06\n",
       "50%      4.600000e+06\n",
       "75%      5.500000e+06\n",
       "max      6.800000e+06\n",
       "Name: last_price, dtype: float64"
      ]
     },
     "execution_count": 56,
     "metadata": {},
     "output_type": "execute_result"
    }
   ],
   "source": [
    "good_data_price.describe()"
   ]
  },
  {
   "cell_type": "markdown",
   "metadata": {
    "id": "decbe810"
   },
   "source": [
    "При избавлении от выбросов средняя цена квартиры составляет 4.77 млн. рублей. "
   ]
  },
  {
   "cell_type": "markdown",
   "metadata": {
    "id": "d172414d"
   },
   "source": [
    "**Исследуем количество комнат**"
   ]
  },
  {
   "cell_type": "code",
   "execution_count": 57,
   "metadata": {
    "colab": {
     "base_uri": "https://localhost:8080/"
    },
    "id": "273d1a34",
    "outputId": "fa7ebc72-4d32-4f41-9dcd-3384100719d6"
   },
   "outputs": [
    {
     "data": {
      "text/plain": [
       "1     8004\n",
       "2     7897\n",
       "3     5779\n",
       "4     1172\n",
       "5      325\n",
       "0      194\n",
       "6      104\n",
       "7       59\n",
       "8       12\n",
       "9        8\n",
       "10       3\n",
       "11       2\n",
       "14       2\n",
       "19       1\n",
       "16       1\n",
       "12       1\n",
       "15       1\n",
       "Name: rooms, dtype: int64"
      ]
     },
     "execution_count": 57,
     "metadata": {},
     "output_type": "execute_result"
    }
   ],
   "source": [
    "data['rooms'].value_counts()"
   ]
  },
  {
   "cell_type": "code",
   "execution_count": 58,
   "metadata": {
    "colab": {
     "base_uri": "https://localhost:8080/",
     "height": 339
    },
    "id": "07972888",
    "outputId": "2d013814-99af-42b0-f296-4067003b2cc5"
   },
   "outputs": [
    {
     "data": {
      "text/plain": [
       "<AxesSubplot:>"
      ]
     },
     "execution_count": 58,
     "metadata": {},
     "output_type": "execute_result"
    },
    {
     "data": {
      "image/png": "[encoded data removed]",
      "text/plain": [
       "<Figure size 432x288 with 1 Axes>"
      ]
     },
     "metadata": {
      "needs_background": "light"
     },
     "output_type": "display_data"
    }
   ],
   "source": [
    "data['rooms'].hist(bins=50, range=(1, 8))"
   ]
  },
  {
   "cell_type": "markdown",
   "metadata": {
    "id": "cb5718df"
   },
   "source": [
    "Большинство рзамещаемых квартир имеют 1-2 комнаты, меньше - 3, и намного меньше квартир с 4 и более комнатами."
   ]
  },
  {
   "cell_type": "markdown",
   "metadata": {
    "id": "393a9561"
   },
   "source": [
    "**Исследуем высоту потолков**"
   ]
  },
  {
   "cell_type": "code",
   "execution_count": 59,
   "metadata": {
    "colab": {
     "base_uri": "https://localhost:8080/"
    },
    "id": "105ced72",
    "outputId": "7a9c6c35-3340-49ee-8fc8-629c752e45e3"
   },
   "outputs": [
    {
     "data": {
      "text/plain": [
       "count    23565.000000\n",
       "mean         2.699510\n",
       "std          0.277506\n",
       "min          1.000000\n",
       "25%          2.600000\n",
       "50%          2.650000\n",
       "75%          2.700000\n",
       "max         20.000000\n",
       "Name: ceiling_height, dtype: float64"
      ]
     },
     "execution_count": 59,
     "metadata": {},
     "output_type": "execute_result"
    }
   ],
   "source": [
    "data['ceiling_height'].describe()"
   ]
  },
  {
   "cell_type": "code",
   "execution_count": 60,
   "metadata": {
    "colab": {
     "base_uri": "https://localhost:8080/",
     "height": 356
    },
    "id": "48ff484b",
    "outputId": "6aa20592-b1da-4c68-ac79-c9c99955c42c"
   },
   "outputs": [
    {
     "data": {
      "text/plain": [
       "<AxesSubplot:xlabel='ceiling_height'>"
      ]
     },
     "execution_count": 60,
     "metadata": {},
     "output_type": "execute_result"
    },
    {
     "data": {
      "image/png": "[encoded data removed]",
      "text/plain": [
       "<Figure size 432x288 with 1 Axes>"
      ]
     },
     "metadata": {
      "needs_background": "light"
     },
     "output_type": "display_data"
    }
   ],
   "source": [
    "sns.boxplot(x=data['ceiling_height'])"
   ]
  },
  {
   "cell_type": "code",
   "execution_count": 61,
   "metadata": {
    "colab": {
     "base_uri": "https://localhost:8080/",
     "height": 339
    },
    "id": "60643ae8",
    "outputId": "7dfecc22-3027-42ca-c2c4-48962c833339"
   },
   "outputs": [
    {
     "data": {
      "text/plain": [
       "<AxesSubplot:>"
      ]
     },
     "execution_count": 61,
     "metadata": {},
     "output_type": "execute_result"
    },
    {
     "data": {
      "image/png": "[encoded data removed]",
      "text/plain": [
       "<Figure size 432x288 with 1 Axes>"
      ]
     },
     "metadata": {
      "needs_background": "light"
     },
     "output_type": "display_data"
    }
   ],
   "source": [
    "data['ceiling_height'].hist(bins=20, range=(2, 3))"
   ]
  },
  {
   "cell_type": "markdown",
   "metadata": {
    "id": "75ff8aa5"
   },
   "source": [
    "С высотой потолков мы уже боролись выше и убирали выбросы.\n",
    "\n",
    "Средняя высота потолков составляет 2.69, собственно, по гистограмме видно, что большинство высот потолков в квартирах находятся в диапазоне 2.6-2.7 м"
   ]
  },
  {
   "cell_type": "markdown",
   "metadata": {
    "id": "002080b1"
   },
   "source": [
    "**Изучим этаж квартир**"
   ]
  },
  {
   "cell_type": "code",
   "execution_count": 62,
   "metadata": {
    "colab": {
     "base_uri": "https://localhost:8080/"
    },
    "id": "1e02dd2e",
    "outputId": "202cf390-4968-4c6d-f76d-4afaa7bdc53a"
   },
   "outputs": [
    {
     "data": {
      "text/plain": [
       "count    23565.000000\n",
       "mean         5.878124\n",
       "std          4.871485\n",
       "min          1.000000\n",
       "25%          2.000000\n",
       "50%          4.000000\n",
       "75%          8.000000\n",
       "max         33.000000\n",
       "Name: floor, dtype: float64"
      ]
     },
     "execution_count": 62,
     "metadata": {},
     "output_type": "execute_result"
    }
   ],
   "source": [
    "data['floor'].describe()"
   ]
  },
  {
   "cell_type": "code",
   "execution_count": 63,
   "metadata": {
    "colab": {
     "base_uri": "https://localhost:8080/",
     "height": 356
    },
    "id": "877c2266",
    "outputId": "8e050289-1080-484a-eb9b-878069202217"
   },
   "outputs": [
    {
     "data": {
      "text/plain": [
       "<AxesSubplot:xlabel='floor'>"
      ]
     },
     "execution_count": 63,
     "metadata": {},
     "output_type": "execute_result"
    },
    {
     "data": {
      "image/png": "[encoded data removed]",
      "text/plain": [
       "<Figure size 432x288 with 1 Axes>"
      ]
     },
     "metadata": {
      "needs_background": "light"
     },
     "output_type": "display_data"
    }
   ],
   "source": [
    "sns.boxplot(x=data['floor'])"
   ]
  },
  {
   "cell_type": "code",
   "execution_count": 64,
   "metadata": {
    "colab": {
     "base_uri": "https://localhost:8080/",
     "height": 450
    },
    "id": "28b6275e",
    "outputId": "4675c507-9795-4c38-cb4d-9475e31dd3b3"
   },
   "outputs": [
    {
     "data": {
      "text/plain": [
       "<AxesSubplot:>"
      ]
     },
     "execution_count": 64,
     "metadata": {},
     "output_type": "execute_result"
    },
    {
     "data": {
      "image/png": "[encoded data removed]",
      "text/plain": [
       "<Figure size 864x504 with 1 Axes>"
      ]
     },
     "metadata": {
      "needs_background": "light"
     },
     "output_type": "display_data"
    }
   ],
   "source": [
    "data['floor'].hist(bins=33, figsize=(12, 7))"
   ]
  },
  {
   "cell_type": "markdown",
   "metadata": {
    "id": "eb217f10"
   },
   "source": [
    "По гистограмме видно, что в большинстве объявлений фигурируют квартиры с 1 по 5 этаж. Скорее всего, большинство квартир расположено в малоэтажных домах. Этажность домов мы исследуем позднее."
   ]
  },
  {
   "cell_type": "markdown",
   "metadata": {
    "id": "9045aec4"
   },
   "source": [
    "**Исследуем тип этажа квартиры («первый», «последний», «другой»)**"
   ]
  },
  {
   "cell_type": "code",
   "execution_count": 65,
   "metadata": {
    "colab": {
     "base_uri": "https://localhost:8080/"
    },
    "id": "c207446c",
    "outputId": "ba233b8d-10af-4120-90a1-1eaf131c8b89"
   },
   "outputs": [
    {
     "data": {
      "text/plain": [
       "floor_type\n",
       "другой       17326\n",
       "первый        2909\n",
       "последний     3330\n",
       "Name: floor_type, dtype: int64"
      ]
     },
     "execution_count": 65,
     "metadata": {},
     "output_type": "execute_result"
    }
   ],
   "source": [
    "data.groupby('floor_type')['floor_type'].count()"
   ]
  },
  {
   "cell_type": "code",
   "execution_count": 66,
   "metadata": {
    "colab": {
     "base_uri": "https://localhost:8080/",
     "height": 339
    },
    "id": "34f1f466",
    "outputId": "bdf96748-a5fc-4d44-a1fc-ec8d0c5b43e7"
   },
   "outputs": [
    {
     "data": {
      "text/plain": [
       "<AxesSubplot:>"
      ]
     },
     "execution_count": 66,
     "metadata": {},
     "output_type": "execute_result"
    },
    {
     "data": {
      "image/png": "[encoded data removed]",
      "text/plain": [
       "<Figure size 432x288 with 1 Axes>"
      ]
     },
     "metadata": {
      "needs_background": "light"
     },
     "output_type": "display_data"
    }
   ],
   "source": [
    "data['floor_type'].hist()"
   ]
  },
  {
   "cell_type": "markdown",
   "metadata": {
    "id": "335dcf27"
   },
   "source": [
    "По гистограмме можно сделать вывод, что квартир на первом этаже меньше, чем на последнем. Логично, что квартир на остальных этажах намного больше."
   ]
  },
  {
   "cell_type": "markdown",
   "metadata": {
    "id": "55ed95fc"
   },
   "source": [
    "#### Изучим общее количество этажей в доме"
   ]
  },
  {
   "cell_type": "code",
   "execution_count": 67,
   "metadata": {
    "colab": {
     "base_uri": "https://localhost:8080/"
    },
    "id": "ffdb77bf",
    "outputId": "ef0ff8ef-584f-4da4-e214-d6347ef2c214"
   },
   "outputs": [
    {
     "data": {
      "text/plain": [
       "count    23565.000000\n",
       "mean        10.675875\n",
       "std          6.594823\n",
       "min          1.000000\n",
       "25%          5.000000\n",
       "50%          9.000000\n",
       "75%         16.000000\n",
       "max         60.000000\n",
       "Name: floors_total, dtype: float64"
      ]
     },
     "execution_count": 67,
     "metadata": {},
     "output_type": "execute_result"
    }
   ],
   "source": [
    "data['floors_total'].describe()"
   ]
  },
  {
   "cell_type": "code",
   "execution_count": 68,
   "metadata": {
    "colab": {
     "base_uri": "https://localhost:8080/",
     "height": 356
    },
    "id": "c06fd475",
    "outputId": "c695f729-c37c-414c-adb0-2be5f9e6f748"
   },
   "outputs": [
    {
     "data": {
      "text/plain": [
       "<AxesSubplot:xlabel='floors_total'>"
      ]
     },
     "execution_count": 68,
     "metadata": {},
     "output_type": "execute_result"
    },
    {
     "data": {
      "image/png": "[encoded data removed]",
      "text/plain": [
       "<Figure size 432x288 with 1 Axes>"
      ]
     },
     "metadata": {
      "needs_background": "light"
     },
     "output_type": "display_data"
    }
   ],
   "source": [
    "sns.boxplot(x=data['floors_total'])"
   ]
  },
  {
   "cell_type": "code",
   "execution_count": 69,
   "metadata": {
    "colab": {
     "base_uri": "https://localhost:8080/",
     "height": 448
    },
    "id": "6f6f58ff",
    "outputId": "22aa214c-1402-4004-c11e-8eadb8141395"
   },
   "outputs": [
    {
     "data": {
      "text/plain": [
       "<AxesSubplot:>"
      ]
     },
     "execution_count": 69,
     "metadata": {},
     "output_type": "execute_result"
    },
    {
     "data": {
      "image/png": "[encoded data removed]",
      "text/plain": [
       "<Figure size 864x504 with 1 Axes>"
      ]
     },
     "metadata": {
      "needs_background": "light"
     },
     "output_type": "display_data"
    }
   ],
   "source": [
    "data['floors_total'].hist(bins=50, figsize=(12, 7))"
   ]
  },
  {
   "cell_type": "markdown",
   "metadata": {
    "id": "d5473265"
   },
   "source": [
    "Отсечем квартиры выше 20 этажа"
   ]
  },
  {
   "cell_type": "code",
   "execution_count": 70,
   "metadata": {
    "colab": {
     "base_uri": "https://localhost:8080/",
     "height": 356
    },
    "id": "636ef1dc",
    "outputId": "8c969a3f-19db-46fc-f08f-c92128c77833"
   },
   "outputs": [
    {
     "data": {
      "text/plain": [
       "<AxesSubplot:xlabel='floors_total'>"
      ]
     },
     "execution_count": 70,
     "metadata": {},
     "output_type": "execute_result"
    },
    {
     "data": {
      "image/png": "[encoded data removed]",
      "text/plain": [
       "<Figure size 432x288 with 1 Axes>"
      ]
     },
     "metadata": {
      "needs_background": "light"
     },
     "output_type": "display_data"
    }
   ],
   "source": [
    "good_data_floors = data.loc[data['floors_total'] <= 20, 'floors_total']\n",
    "sns.boxplot(x=good_data_floors)"
   ]
  },
  {
   "cell_type": "code",
   "execution_count": 71,
   "metadata": {
    "colab": {
     "base_uri": "https://localhost:8080/",
     "height": 448
    },
    "id": "f413e2df",
    "outputId": "1bbaa0cd-cef5-4d47-d5ae-573b072d1c34"
   },
   "outputs": [
    {
     "data": {
      "text/plain": [
       "<AxesSubplot:>"
      ]
     },
     "execution_count": 71,
     "metadata": {},
     "output_type": "execute_result"
    },
    {
     "data": {
      "image/png": "[encoded data removed]",
      "text/plain": [
       "<Figure size 864x504 with 1 Axes>"
      ]
     },
     "metadata": {
      "needs_background": "light"
     },
     "output_type": "display_data"
    }
   ],
   "source": [
    "good_data_floors.hist(bins=17, figsize=(12,7))"
   ]
  },
  {
   "cell_type": "code",
   "execution_count": 72,
   "metadata": {
    "colab": {
     "base_uri": "https://localhost:8080/"
    },
    "id": "f5e342e0",
    "outputId": "243689e6-c396-4d70-dfca-d2b1ba4dfca0"
   },
   "outputs": [
    {
     "data": {
      "text/plain": [
       "count    20893.000000\n",
       "mean         8.928541\n",
       "std          4.643506\n",
       "min          1.000000\n",
       "25%          5.000000\n",
       "50%          9.000000\n",
       "75%         12.000000\n",
       "max         20.000000\n",
       "Name: floors_total, dtype: float64"
      ]
     },
     "execution_count": 72,
     "metadata": {},
     "output_type": "execute_result"
    }
   ],
   "source": [
    "good_data_floors.describe()"
   ]
  },
  {
   "cell_type": "code",
   "execution_count": 73,
   "metadata": {
    "colab": {
     "base_uri": "https://localhost:8080/"
    },
    "id": "60a62a14",
    "outputId": "c743b053-4b55-4dde-b472-c5211efbddf8"
   },
   "outputs": [
    {
     "data": {
      "text/plain": [
       "1       25\n",
       "11     202\n",
       "13     229\n",
       "20     271\n",
       "19     339\n",
       "15     365\n",
       "2      381\n",
       "8      388\n",
       "18     505\n",
       "14     553\n",
       "7      589\n",
       "3      667\n",
       "17     833\n",
       "6      910\n",
       "10    1174\n",
       "4     1193\n",
       "12    1361\n",
       "16    1375\n",
       "9     3758\n",
       "5     5775\n",
       "Name: floors_total, dtype: int64"
      ]
     },
     "execution_count": 73,
     "metadata": {},
     "output_type": "execute_result"
    }
   ],
   "source": [
    "good_data_floors.value_counts().sort_values()"
   ]
  },
  {
   "cell_type": "markdown",
   "metadata": {
    "id": "d341bf76"
   },
   "source": [
    "Большинство квартир в объявлениях составляют 9-ти и 5-ти этажки  \n",
    "После идут 16-ти,12-ти 4-х и 10-ти этажные дома. \n"
   ]
  },
  {
   "cell_type": "markdown",
   "metadata": {
    "id": "1d53f8e0"
   },
   "source": [
    "**Изучим расстояние до центра города в метрах**"
   ]
  },
  {
   "cell_type": "code",
   "execution_count": 74,
   "metadata": {
    "colab": {
     "base_uri": "https://localhost:8080/"
    },
    "id": "bb4aefe1",
    "outputId": "4962fe5e-5553-4598-fe30-bc46ecaf9137"
   },
   "outputs": [
    {
     "data": {
      "text/plain": [
       "count    18064.000000\n",
       "mean     14192.656056\n",
       "std       8613.348153\n",
       "min        181.000000\n",
       "25%       9238.000000\n",
       "50%      13096.500000\n",
       "75%      16285.000000\n",
       "max      65968.000000\n",
       "Name: city_centers_nearest, dtype: float64"
      ]
     },
     "execution_count": 74,
     "metadata": {},
     "output_type": "execute_result"
    }
   ],
   "source": [
    "data['city_centers_nearest'].describe()"
   ]
  },
  {
   "cell_type": "code",
   "execution_count": 75,
   "metadata": {
    "colab": {
     "base_uri": "https://localhost:8080/",
     "height": 356
    },
    "id": "a9979f80",
    "outputId": "b65027ce-e710-42ff-9802-4c147ac6edd6"
   },
   "outputs": [
    {
     "data": {
      "text/plain": [
       "<AxesSubplot:xlabel='city_centers_nearest'>"
      ]
     },
     "execution_count": 75,
     "metadata": {},
     "output_type": "execute_result"
    },
    {
     "data": {
      "image/png": "[encoded data removed]",
      "text/plain": [
       "<Figure size 432x288 with 1 Axes>"
      ]
     },
     "metadata": {
      "needs_background": "light"
     },
     "output_type": "display_data"
    }
   ],
   "source": [
    "sns.boxplot(x=data['city_centers_nearest'])"
   ]
  },
  {
   "cell_type": "code",
   "execution_count": 76,
   "metadata": {
    "colab": {
     "base_uri": "https://localhost:8080/",
     "height": 448
    },
    "id": "204360f0",
    "outputId": "802f234c-560d-46e4-bc7c-634dc7a0f55c"
   },
   "outputs": [
    {
     "data": {
      "text/plain": [
       "<AxesSubplot:>"
      ]
     },
     "execution_count": 76,
     "metadata": {},
     "output_type": "execute_result"
    },
    {
     "data": {
      "image/png": "[encoded data removed]",
      "text/plain": [
       "<Figure size 864x504 with 1 Axes>"
      ]
     },
     "metadata": {
      "needs_background": "light"
     },
     "output_type": "display_data"
    }
   ],
   "source": [
    "data['city_centers_nearest'].hist(bins=100, figsize=(12, 7))"
   ]
  },
  {
   "cell_type": "markdown",
   "metadata": {
    "id": "4fe43f83"
   },
   "source": [
    "Есть квартиры, расположенные на огромном расстоянии до центра города. Но мы рассмотрим значения между 1 и 3 квартилем в выборке."
   ]
  },
  {
   "cell_type": "code",
   "execution_count": 77,
   "metadata": {
    "colab": {
     "base_uri": "https://localhost:8080/",
     "height": 356
    },
    "id": "d784fa5f",
    "outputId": "1288f198-8b14-4f02-eb70-9d9dd65f9ffc"
   },
   "outputs": [
    {
     "data": {
      "text/plain": [
       "<AxesSubplot:xlabel='city_centers_nearest'>"
      ]
     },
     "execution_count": 77,
     "metadata": {},
     "output_type": "execute_result"
    },
    {
     "data": {
      "image/png": "[encoded data removed]",
      "text/plain": [
       "<Figure size 432x288 with 1 Axes>"
      ]
     },
     "metadata": {
      "needs_background": "light"
     },
     "output_type": "display_data"
    }
   ],
   "source": [
    "good_data_city = data.loc[(9238 <= data['city_centers_nearest']) & (data['city_centers_nearest'] <= 16293), 'city_centers_nearest']\n",
    "sns.boxplot(x=good_data_city)"
   ]
  },
  {
   "cell_type": "code",
   "execution_count": 78,
   "metadata": {
    "colab": {
     "base_uri": "https://localhost:8080/",
     "height": 448
    },
    "id": "e5edbb41",
    "outputId": "b494ad00-52b6-4649-fcb9-246da4417bcf"
   },
   "outputs": [
    {
     "data": {
      "text/plain": [
       "<AxesSubplot:>"
      ]
     },
     "execution_count": 78,
     "metadata": {},
     "output_type": "execute_result"
    },
    {
     "data": {
      "image/png": "[encoded data removed]",
      "text/plain": [
       "<Figure size 864x504 with 1 Axes>"
      ]
     },
     "metadata": {
      "needs_background": "light"
     },
     "output_type": "display_data"
    }
   ],
   "source": [
    "good_data_city.hist(bins=100, figsize=(12, 7))"
   ]
  },
  {
   "cell_type": "code",
   "execution_count": 79,
   "metadata": {
    "colab": {
     "base_uri": "https://localhost:8080/"
    },
    "id": "b89b921d",
    "outputId": "b4e85d70-95fb-49bb-c904-4f7bc8b2658c"
   },
   "outputs": [
    {
     "data": {
      "text/plain": [
       "count     9055.000000\n",
       "mean     13084.852236\n",
       "std       1885.876337\n",
       "min       9238.000000\n",
       "25%      11633.000000\n",
       "50%      13105.000000\n",
       "75%      14749.000000\n",
       "max      16293.000000\n",
       "Name: city_centers_nearest, dtype: float64"
      ]
     },
     "execution_count": 79,
     "metadata": {},
     "output_type": "execute_result"
    }
   ],
   "source": [
    "good_data_city.describe()"
   ]
  },
  {
   "cell_type": "markdown",
   "metadata": {
    "id": "17e2575d"
   },
   "source": [
    "После удаления выбросов среднее расстояние 13 км.\n"
   ]
  },
  {
   "cell_type": "markdown",
   "metadata": {
    "id": "f60b9c43"
   },
   "source": [
    "**Изучим расстояние до ближайшего аэропорта**"
   ]
  },
  {
   "cell_type": "code",
   "execution_count": 80,
   "metadata": {
    "colab": {
     "base_uri": "https://localhost:8080/"
    },
    "id": "d23f6bd8",
    "outputId": "7b999eb7-f972-4592-b45c-637dcbe6ef15"
   },
   "outputs": [
    {
     "data": {
      "text/plain": [
       "count    18041.000000\n",
       "mean     28797.082701\n",
       "std      12632.499735\n",
       "min          0.000000\n",
       "25%      18565.000000\n",
       "50%      26757.000000\n",
       "75%      37273.000000\n",
       "max      84869.000000\n",
       "Name: airports_nearest, dtype: float64"
      ]
     },
     "execution_count": 80,
     "metadata": {},
     "output_type": "execute_result"
    }
   ],
   "source": [
    "data['airports_nearest'].describe()"
   ]
  },
  {
   "cell_type": "code",
   "execution_count": 81,
   "metadata": {
    "colab": {
     "base_uri": "https://localhost:8080/",
     "height": 356
    },
    "id": "e4b98140",
    "outputId": "7072aff8-8e67-4e0d-b5c1-84d38563378d"
   },
   "outputs": [
    {
     "data": {
      "text/plain": [
       "<AxesSubplot:xlabel='airports_nearest'>"
      ]
     },
     "execution_count": 81,
     "metadata": {},
     "output_type": "execute_result"
    },
    {
     "data": {
      "image/png": "[encoded data removed]",
      "text/plain": [
       "<Figure size 432x288 with 1 Axes>"
      ]
     },
     "metadata": {
      "needs_background": "light"
     },
     "output_type": "display_data"
    }
   ],
   "source": [
    "sns.boxplot(x=data['airports_nearest'])"
   ]
  },
  {
   "cell_type": "code",
   "execution_count": 82,
   "metadata": {
    "colab": {
     "base_uri": "https://localhost:8080/",
     "height": 448
    },
    "id": "781a5638",
    "outputId": "fb3b053e-9683-4316-c9e4-4d9698392339"
   },
   "outputs": [
    {
     "data": {
      "text/plain": [
       "<AxesSubplot:>"
      ]
     },
     "execution_count": 82,
     "metadata": {},
     "output_type": "execute_result"
    },
    {
     "data": {
      "image/png": "[encoded data removed]",
      "text/plain": [
       "<Figure size 864x504 with 1 Axes>"
      ]
     },
     "metadata": {
      "needs_background": "light"
     },
     "output_type": "display_data"
    }
   ],
   "source": [
    "data['airports_nearest'].hist(bins=100, figsize=(12, 7))"
   ]
  },
  {
   "cell_type": "markdown",
   "metadata": {
    "id": "d9906867"
   },
   "source": [
    "Удалим выбросы"
   ]
  },
  {
   "cell_type": "code",
   "execution_count": 83,
   "metadata": {
    "colab": {
     "base_uri": "https://localhost:8080/",
     "height": 356
    },
    "id": "808432ed",
    "outputId": "6b50ea03-b226-4dff-8935-ea0962f236cb"
   },
   "outputs": [
    {
     "data": {
      "text/plain": [
       "<AxesSubplot:xlabel='airports_nearest'>"
      ]
     },
     "execution_count": 83,
     "metadata": {},
     "output_type": "execute_result"
    },
    {
     "data": {
      "image/png": "[encoded data removed]",
      "text/plain": [
       "<Figure size 432x288 with 1 Axes>"
      ]
     },
     "metadata": {
      "needs_background": "light"
     },
     "output_type": "display_data"
    }
   ],
   "source": [
    "good_data_air = data.loc[(data['airports_nearest'] <= 37273.5) & (data['airports_nearest'] <= 18585.000000), 'airports_nearest']\n",
    "sns.boxplot(x=good_data_air)"
   ]
  },
  {
   "cell_type": "code",
   "execution_count": 84,
   "metadata": {
    "colab": {
     "base_uri": "https://localhost:8080/",
     "height": 448
    },
    "id": "d6fe9821",
    "outputId": "0b21f200-e6c3-4564-fb12-966a8c187aaa"
   },
   "outputs": [
    {
     "data": {
      "text/plain": [
       "<AxesSubplot:>"
      ]
     },
     "execution_count": 84,
     "metadata": {},
     "output_type": "execute_result"
    },
    {
     "data": {
      "image/png": "[encoded data removed]",
      "text/plain": [
       "<Figure size 864x504 with 1 Axes>"
      ]
     },
     "metadata": {
      "needs_background": "light"
     },
     "output_type": "display_data"
    }
   ],
   "source": [
    "good_data_air.hist(bins=30, figsize=(12, 7))"
   ]
  },
  {
   "cell_type": "code",
   "execution_count": 85,
   "metadata": {
    "colab": {
     "base_uri": "https://localhost:8080/"
    },
    "id": "c3ee034f",
    "outputId": "b02e7456-255f-4969-af8d-07bd9ff1a4b7"
   },
   "outputs": [
    {
     "data": {
      "text/plain": [
       "count     4527.000000\n",
       "mean     14103.352772\n",
       "std       2746.522203\n",
       "min          0.000000\n",
       "25%      12094.000000\n",
       "50%      14188.000000\n",
       "75%      16245.000000\n",
       "max      18585.000000\n",
       "Name: airports_nearest, dtype: float64"
      ]
     },
     "execution_count": 85,
     "metadata": {},
     "output_type": "execute_result"
    }
   ],
   "source": [
    "good_data_air.describe()"
   ]
  },
  {
   "cell_type": "markdown",
   "metadata": {
    "id": "cfe89066"
   },
   "source": [
    "Большая часть городов из нашей выборки расположена на расстоянии более чем 10 км от аэропорта, при этом среднее расстояние - 14 км."
   ]
  },
  {
   "cell_type": "markdown",
   "metadata": {
    "id": "0956b62b"
   },
   "source": [
    "**Изучим расстояния до ближайшего парка**"
   ]
  },
  {
   "cell_type": "code",
   "execution_count": 86,
   "metadata": {
    "colab": {
     "base_uri": "https://localhost:8080/"
    },
    "id": "2f546316",
    "outputId": "b3c9cff5-1f9a-4843-f6fc-11ef3145a41b"
   },
   "outputs": [
    {
     "data": {
      "text/plain": [
       "count    8030.000000\n",
       "mean      490.580448\n",
       "std       341.572956\n",
       "min         1.000000\n",
       "25%       288.000000\n",
       "50%       455.000000\n",
       "75%       612.000000\n",
       "max      3190.000000\n",
       "Name: parks_nearest, dtype: float64"
      ]
     },
     "execution_count": 86,
     "metadata": {},
     "output_type": "execute_result"
    }
   ],
   "source": [
    "data['parks_nearest'].describe()"
   ]
  },
  {
   "cell_type": "code",
   "execution_count": 87,
   "metadata": {
    "colab": {
     "base_uri": "https://localhost:8080/",
     "height": 356
    },
    "id": "5e7b23f1",
    "outputId": "6c021dc1-42d0-49ef-bb40-374f660994ce"
   },
   "outputs": [
    {
     "data": {
      "text/plain": [
       "<AxesSubplot:xlabel='parks_nearest'>"
      ]
     },
     "execution_count": 87,
     "metadata": {},
     "output_type": "execute_result"
    },
    {
     "data": {
      "image/png": "[encoded data removed]",
      "text/plain": [
       "<Figure size 432x288 with 1 Axes>"
      ]
     },
     "metadata": {
      "needs_background": "light"
     },
     "output_type": "display_data"
    }
   ],
   "source": [
    "sns.boxplot(x=data['parks_nearest'])"
   ]
  },
  {
   "cell_type": "code",
   "execution_count": 88,
   "metadata": {
    "colab": {
     "base_uri": "https://localhost:8080/",
     "height": 448
    },
    "id": "d3161125",
    "outputId": "df7a9e25-c46c-4326-c2a5-e5b94e9def30"
   },
   "outputs": [
    {
     "data": {
      "text/plain": [
       "<AxesSubplot:>"
      ]
     },
     "execution_count": 88,
     "metadata": {},
     "output_type": "execute_result"
    },
    {
     "data": {
      "image/png": "[encoded data removed]",
      "text/plain": [
       "<Figure size 864x504 with 1 Axes>"
      ]
     },
     "metadata": {
      "needs_background": "light"
     },
     "output_type": "display_data"
    }
   ],
   "source": [
    "data['parks_nearest'].hist(bins=50, figsize=(12, 7))"
   ]
  },
  {
   "cell_type": "markdown",
   "metadata": {
    "id": "6115f40d"
   },
   "source": [
    "Уберём выбросы."
   ]
  },
  {
   "cell_type": "code",
   "execution_count": 89,
   "metadata": {
    "colab": {
     "base_uri": "https://localhost:8080/",
     "height": 356
    },
    "id": "141ebbcd",
    "outputId": "bef12853-df91-4888-9657-3d52e8144530"
   },
   "outputs": [
    {
     "data": {
      "text/plain": [
       "<AxesSubplot:xlabel='parks_nearest'>"
      ]
     },
     "execution_count": 89,
     "metadata": {},
     "output_type": "execute_result"
    },
    {
     "data": {
      "image/png": "[encoded data removed]",
      "text/plain": [
       "<Figure size 432x288 with 1 Axes>"
      ]
     },
     "metadata": {
      "needs_background": "light"
     },
     "output_type": "display_data"
    }
   ],
   "source": [
    "good_data_parks = data.loc[(288 <= data['parks_nearest']) & (data['parks_nearest'] <= 612), 'parks_nearest']\n",
    "sns.boxplot(x=good_data_parks)"
   ]
  },
  {
   "cell_type": "code",
   "execution_count": 90,
   "metadata": {
    "colab": {
     "base_uri": "https://localhost:8080/",
     "height": 448
    },
    "id": "9d957b50",
    "outputId": "8e86b233-9eef-4244-cedd-a6f18197dd7d"
   },
   "outputs": [
    {
     "data": {
      "text/plain": [
       "<AxesSubplot:>"
      ]
     },
     "execution_count": 90,
     "metadata": {},
     "output_type": "execute_result"
    },
    {
     "data": {
      "image/png": "[encoded data removed]",
      "text/plain": [
       "<Figure size 864x504 with 1 Axes>"
      ]
     },
     "metadata": {
      "needs_background": "light"
     },
     "output_type": "display_data"
    }
   ],
   "source": [
    "good_data_parks.hist(bins=50, figsize=(12, 7))"
   ]
  },
  {
   "cell_type": "code",
   "execution_count": 91,
   "metadata": {
    "colab": {
     "base_uri": "https://localhost:8080/"
    },
    "id": "020c1dc5",
    "outputId": "4b35b31c-df64-4edd-b1f7-8ee9eacfe291"
   },
   "outputs": [
    {
     "data": {
      "text/plain": [
       "count    4024.000000\n",
       "mean      451.819085\n",
       "std        90.019547\n",
       "min       288.000000\n",
       "25%       378.000000\n",
       "50%       455.000000\n",
       "75%       526.000000\n",
       "max       612.000000\n",
       "Name: parks_nearest, dtype: float64"
      ]
     },
     "execution_count": 91,
     "metadata": {},
     "output_type": "execute_result"
    }
   ],
   "source": [
    "good_data_parks.describe()"
   ]
  },
  {
   "cell_type": "markdown",
   "metadata": {
    "id": "7eb1121f"
   },
   "source": [
    "Из тех данных, что мы имеем, среднее расстояние от дома до парка - 451 метров."
   ]
  },
  {
   "cell_type": "markdown",
   "metadata": {
    "id": "e90cdf5e"
   },
   "source": [
    "**Исследуем день и месяц публикации объявления**"
   ]
  },
  {
   "cell_type": "code",
   "execution_count": 92,
   "metadata": {
    "colab": {
     "base_uri": "https://localhost:8080/"
    },
    "id": "8ce41069",
    "outputId": "f38b3f4d-5ec9-4e02-b067-7755512fcaad"
   },
   "outputs": [
    {
     "data": {
      "text/plain": [
       "3    4276\n",
       "1    4163\n",
       "4    3980\n",
       "2    3948\n",
       "0    3596\n",
       "5    1919\n",
       "6    1683\n",
       "Name: day_of_week_exposition, dtype: int64"
      ]
     },
     "execution_count": 92,
     "metadata": {},
     "output_type": "execute_result"
    }
   ],
   "source": [
    "data['day_of_week_exposition'].value_counts()"
   ]
  },
  {
   "cell_type": "code",
   "execution_count": 93,
   "metadata": {
    "colab": {
     "base_uri": "https://localhost:8080/",
     "height": 448
    },
    "id": "9f3be0e1",
    "outputId": "b17b234a-7eaa-4b4d-80cf-bead16ad52fc"
   },
   "outputs": [
    {
     "data": {
      "text/plain": [
       "<AxesSubplot:>"
      ]
     },
     "execution_count": 93,
     "metadata": {},
     "output_type": "execute_result"
    },
    {
     "data": {
      "image/png": "[encoded data removed]",
      "text/plain": [
       "<Figure size 864x504 with 1 Axes>"
      ]
     },
     "metadata": {
      "needs_background": "light"
     },
     "output_type": "display_data"
    }
   ],
   "source": [
    "data['day_of_week_exposition'].hist(bins=20, figsize=(12, 7))"
   ]
  },
  {
   "cell_type": "markdown",
   "metadata": {
    "id": "67c3a0fa"
   },
   "source": [
    "На выходных люди размещают меньше объявлений."
   ]
  },
  {
   "cell_type": "code",
   "execution_count": 94,
   "metadata": {
    "colab": {
     "base_uri": "https://localhost:8080/"
    },
    "id": "fb2fab52",
    "outputId": "2df61c92-157b-49bf-f260-eeb5d591883d"
   },
   "outputs": [
    {
     "data": {
      "text/plain": [
       "2     2636\n",
       "3     2575\n",
       "11    2360\n",
       "4     2356\n",
       "10    2108\n",
       "9     1972\n",
       "6     1747\n",
       "8     1739\n",
       "7     1686\n",
       "12    1638\n",
       "1     1487\n",
       "5     1261\n",
       "Name: month_exposition, dtype: int64"
      ]
     },
     "execution_count": 94,
     "metadata": {},
     "output_type": "execute_result"
    }
   ],
   "source": [
    "data['month_exposition'].value_counts()"
   ]
  },
  {
   "cell_type": "code",
   "execution_count": 95,
   "metadata": {
    "colab": {
     "base_uri": "https://localhost:8080/",
     "height": 611
    },
    "id": "a04f0430",
    "outputId": "7741ca08-886a-4c60-d2e1-2d1e981e7f9b"
   },
   "outputs": [
    {
     "data": {
      "text/plain": [
       "<AxesSubplot:>"
      ]
     },
     "execution_count": 95,
     "metadata": {},
     "output_type": "execute_result"
    },
    {
     "data": {
      "image/png": "[encoded data removed]",
      "text/plain": [
       "<Figure size 1440x720 with 1 Axes>"
      ]
     },
     "metadata": {
      "needs_background": "light"
     },
     "output_type": "display_data"
    }
   ],
   "source": [
    "data['month_exposition'].hist(bins=30, figsize=(20, 10))"
   ]
  },
  {
   "cell_type": "markdown",
   "metadata": {
    "id": "155a5a77"
   },
   "source": [
    "Высоким сезоном можно считать февраль, март, апрель. Затем идет резкий спад и постепенный рост до декабря. Рождественский период (декабрь, январь) можно считать низким сезоном."
   ]
  },
  {
   "cell_type": "markdown",
   "metadata": {
    "id": "eae36c8c"
   },
   "source": [
    "**Изучим, как быстро продавались квартиры**"
   ]
  },
  {
   "cell_type": "code",
   "execution_count": 96,
   "metadata": {
    "colab": {
     "base_uri": "https://localhost:8080/"
    },
    "id": "fede7e56",
    "outputId": "1df1aa76-1cdc-4031-e1a1-3ae6a4d8fb2d"
   },
   "outputs": [
    {
     "data": {
      "text/plain": [
       "count    20394.000000\n",
       "mean       180.741395\n",
       "std        219.732782\n",
       "min          1.000000\n",
       "25%         45.000000\n",
       "50%         95.000000\n",
       "75%        231.000000\n",
       "max       1580.000000\n",
       "Name: days_exposition, dtype: float64"
      ]
     },
     "execution_count": 96,
     "metadata": {},
     "output_type": "execute_result"
    }
   ],
   "source": [
    "data['days_exposition'].describe()"
   ]
  },
  {
   "cell_type": "code",
   "execution_count": 97,
   "metadata": {
    "colab": {
     "base_uri": "https://localhost:8080/",
     "height": 356
    },
    "id": "01fdcf1e",
    "outputId": "29a5bfa2-eda2-416f-fca7-bc13fffc7746"
   },
   "outputs": [
    {
     "data": {
      "text/plain": [
       "<AxesSubplot:xlabel='days_exposition'>"
      ]
     },
     "execution_count": 97,
     "metadata": {},
     "output_type": "execute_result"
    },
    {
     "data": {
      "image/png": "[encoded data removed]",
      "text/plain": [
       "<Figure size 432x288 with 1 Axes>"
      ]
     },
     "metadata": {
      "needs_background": "light"
     },
     "output_type": "display_data"
    }
   ],
   "source": [
    "sns.boxplot(x=data['days_exposition'])"
   ]
  },
  {
   "cell_type": "code",
   "execution_count": 98,
   "metadata": {
    "colab": {
     "base_uri": "https://localhost:8080/",
     "height": 448
    },
    "id": "c2964dc0",
    "outputId": "55b40819-ee57-4fb9-a618-acafff548496"
   },
   "outputs": [
    {
     "data": {
      "text/plain": [
       "<AxesSubplot:>"
      ]
     },
     "execution_count": 98,
     "metadata": {},
     "output_type": "execute_result"
    },
    {
     "data": {
      "image/png": "[encoded data removed]",
      "text/plain": [
       "<Figure size 1080x504 with 1 Axes>"
      ]
     },
     "metadata": {
      "needs_background": "light"
     },
     "output_type": "display_data"
    }
   ],
   "source": [
    "data['days_exposition'].hist(bins=50, figsize=(15, 7))"
   ]
  },
  {
   "cell_type": "code",
   "execution_count": 99,
   "metadata": {
    "colab": {
     "base_uri": "https://localhost:8080/"
    },
    "id": "dc52b0a4",
    "outputId": "f1946f38-9d5a-450a-81ba-1fdd01198241"
   },
   "outputs": [
    {
     "name": "stdout",
     "output_type": "stream",
     "text": [
      "Медиана: 95.0\n",
      "Среднее: 180.7413945278023\n"
     ]
    }
   ],
   "source": [
    "print('Медиана:', data['days_exposition'].median())\n",
    "print('Среднее:', data['days_exposition'].mean())"
   ]
  },
  {
   "cell_type": "code",
   "execution_count": 100,
   "metadata": {
    "colab": {
     "base_uri": "https://localhost:8080/",
     "height": 448
    },
    "id": "0fae5591",
    "outputId": "b2cc9fc7-42f8-4288-a548-7426d84c4eb1"
   },
   "outputs": [
    {
     "data": {
      "text/plain": [
       "<AxesSubplot:>"
      ]
     },
     "execution_count": 100,
     "metadata": {},
     "output_type": "execute_result"
    },
    {
     "data": {
      "image/png": "[encoded data removed]",
      "text/plain": [
       "<Figure size 1080x504 with 1 Axes>"
      ]
     },
     "metadata": {
      "needs_background": "light"
     },
     "output_type": "display_data"
    }
   ],
   "source": [
    "data['days_exposition'].hist(bins=50, figsize=(15, 7), range=(0, 100))"
   ]
  },
  {
   "cell_type": "code",
   "execution_count": 101,
   "metadata": {
    "colab": {
     "base_uri": "https://localhost:8080/"
    },
    "id": "9fc14ada",
    "outputId": "c68fb027-17e7-46bf-8abf-a39acb96b029"
   },
   "outputs": [
    {
     "data": {
      "text/plain": [
       "45.0    879\n",
       "60.0    538\n",
       "7.0     234\n",
       "30.0    208\n",
       "90.0    200\n",
       "4.0     174\n",
       "3.0     157\n",
       "5.0     152\n",
       "14.0    147\n",
       "9.0     142\n",
       "Name: days_exposition, dtype: int64"
      ]
     },
     "execution_count": 101,
     "metadata": {},
     "output_type": "execute_result"
    }
   ],
   "source": [
    "data.query('0 < days_exposition < 100')['days_exposition'].value_counts().head(10)"
   ]
  },
  {
   "cell_type": "markdown",
   "metadata": {
    "id": "02f39892"
   },
   "source": [
    "Интересные два пика: чаще всего объявления висят 45 и 60 дней, далее ровно неделю, затем 30 и 90 дней. "
   ]
  },
  {
   "cell_type": "code",
   "execution_count": 102,
   "metadata": {
    "colab": {
     "base_uri": "https://localhost:8080/"
    },
    "id": "LIjknxG0EwdZ",
    "outputId": "b9af12d2-95cb-4fed-dc6a-492ff27e5fb4"
   },
   "outputs": [
    {
     "data": {
      "text/plain": [
       "count    20394.000000\n",
       "mean       180.741395\n",
       "std        219.732782\n",
       "min          1.000000\n",
       "25%         45.000000\n",
       "50%         95.000000\n",
       "75%        231.000000\n",
       "max       1580.000000\n",
       "Name: days_exposition, dtype: float64"
      ]
     },
     "execution_count": 102,
     "metadata": {},
     "output_type": "execute_result"
    }
   ],
   "source": [
    "data['days_exposition'].describe()"
   ]
  },
  {
   "cell_type": "code",
   "execution_count": 103,
   "metadata": {
    "colab": {
     "base_uri": "https://localhost:8080/"
    },
    "id": "4NskIPK1xdiV",
    "outputId": "fa833c4e-5a30-4037-c9e8-7cf4b8c42fae"
   },
   "outputs": [
    {
     "data": {
      "text/plain": [
       "95.0"
      ]
     },
     "execution_count": 103,
     "metadata": {},
     "output_type": "execute_result"
    }
   ],
   "source": [
    "data['days_exposition'].median()"
   ]
  },
  {
   "cell_type": "markdown",
   "metadata": {
    "id": "hWu-TO801xT9"
   },
   "source": [
    "Среднее время продажи - полгода, 180 дней. Медианное - 95 дней.\n",
    "3 месяца для продажи квартиры - очень неплохой срок.\n"
   ]
  },
  {
   "cell_type": "code",
   "execution_count": 104,
   "metadata": {
    "colab": {
     "base_uri": "https://localhost:8080/",
     "height": 339
    },
    "id": "DCDTatIO13jQ",
    "outputId": "41d117df-dffe-45e8-d3a7-0c1a641bdf83"
   },
   "outputs": [
    {
     "data": {
      "text/plain": [
       "<AxesSubplot:>"
      ]
     },
     "execution_count": 104,
     "metadata": {},
     "output_type": "execute_result"
    },
    {
     "data": {
      "image/png": "[encoded data removed]",
      "text/plain": [
       "<Figure size 720x360 with 1 Axes>"
      ]
     },
     "metadata": {
      "needs_background": "light"
     },
     "output_type": "display_data"
    }
   ],
   "source": [
    "data['days_exposition'].hist(bins=70, figsize=(10,5))"
   ]
  },
  {
   "cell_type": "markdown",
   "metadata": {
    "id": "-oDjwMcl168n"
   },
   "source": [
    "Большая часть квартир продавалась в течение первых 50 дней, есть и квартиры, которые продавались до года. Чем дальше, тем реже встречаются такие случаи."
   ]
  },
  {
   "cell_type": "code",
   "execution_count": 105,
   "metadata": {
    "colab": {
     "base_uri": "https://localhost:8080/",
     "height": 340
    },
    "id": "G1DBPneL2F5M",
    "outputId": "3c2c6637-0ae2-45f3-c894-8744fe8c9c9e"
   },
   "outputs": [
    {
     "data": {
      "text/plain": [
       "<AxesSubplot:>"
      ]
     },
     "execution_count": 105,
     "metadata": {},
     "output_type": "execute_result"
    },
    {
     "data": {
      "image/png": "[encoded data removed]",
      "text/plain": [
       "<Figure size 432x288 with 1 Axes>"
      ]
     },
     "metadata": {
      "needs_background": "light"
     },
     "output_type": "display_data"
    }
   ],
   "source": [
    "data.boxplot(column='days_exposition')"
   ]
  },
  {
   "cell_type": "markdown",
   "metadata": {
    "id": "b-YHJHO22J00"
   },
   "source": [
    "Ограничим срок продажи 500 днями, чтоб убрать выбросы. Посмотрим на данные более детально:"
   ]
  },
  {
   "cell_type": "code",
   "execution_count": 106,
   "metadata": {
    "colab": {
     "base_uri": "https://localhost:8080/",
     "height": 339
    },
    "id": "Q-5y_E5v2PwJ",
    "outputId": "f9101ffc-ad16-4730-a790-9a03ea06cd52"
   },
   "outputs": [
    {
     "data": {
      "text/plain": [
       "<AxesSubplot:>"
      ]
     },
     "execution_count": 106,
     "metadata": {},
     "output_type": "execute_result"
    },
    {
     "data": {
      "image/png": "[encoded data removed]",
      "text/plain": [
       "<Figure size 720x360 with 1 Axes>"
      ]
     },
     "metadata": {
      "needs_background": "light"
     },
     "output_type": "display_data"
    }
   ],
   "source": [
    "data.query('days_exposition < 500')['days_exposition'].hist(bins=70, figsize=(10,5))"
   ]
  },
  {
   "cell_type": "markdown",
   "metadata": {
    "id": "uXnCsPcY3M1c"
   },
   "source": [
    "Пики продаж продаж приходятся на период от 0 до 100 дней"
   ]
  },
  {
   "cell_type": "code",
   "execution_count": 107,
   "metadata": {
    "colab": {
     "base_uri": "https://localhost:8080/",
     "height": 339
    },
    "id": "13DmyXpG3TfT",
    "outputId": "2fd2e1f9-b975-42de-9712-61a5fe25a890"
   },
   "outputs": [
    {
     "data": {
      "text/plain": [
       "<AxesSubplot:>"
      ]
     },
     "execution_count": 107,
     "metadata": {},
     "output_type": "execute_result"
    },
    {
     "data": {
      "image/png": "[encoded data removed]",
      "text/plain": [
       "<Figure size 720x360 with 1 Axes>"
      ]
     },
     "metadata": {
      "needs_background": "light"
     },
     "output_type": "display_data"
    }
   ],
   "source": [
    "data.query('days_exposition < 500')['days_exposition'].hist(bins=100, figsize=(10,5),range=(0,100))"
   ]
  },
  {
   "cell_type": "markdown",
   "metadata": {
    "id": "L_-mj6P54sU5"
   },
   "source": [
    "Вполне возможно, что сделки закрываются следующим образом: раз в 15 дней или на почту продавцу приходит вопрос, продал ли он квартиру, он заходит и делает соответствующую пометку, или ему звонит оператор и по телефону задает тот же вопрос и закрывает/не закрывает объявление согласно полученной информации. Таким образом, учитывая то, что многие самостоятельно не закрывают объявления, что большая часть квартир продается в пределах 60 дней с момента публикации объявления и что проверка производится раз в 15 дней, имеем такие вот данные. На всякий случай, учтем ещё и другое количество дней, кратное 15, - 30:"
   ]
  },
  {
   "cell_type": "markdown",
   "metadata": {
    "id": "78df61a8"
   },
   "source": [
    "**Изучим, какие факторы больше всего влияют на общую (полную) стоимость объекта**"
   ]
  },
  {
   "cell_type": "code",
   "execution_count": 108,
   "metadata": {
    "colab": {
     "base_uri": "https://localhost:8080/",
     "height": 847
    },
    "id": "5f321324",
    "outputId": "7f723e04-9423-4026-8be7-0a684c21a79a"
   },
   "outputs": [
    {
     "data": {
      "text/plain": [
       "<AxesSubplot:>"
      ]
     },
     "execution_count": 108,
     "metadata": {},
     "output_type": "execute_result"
    },
    {
     "data": {
      "image/png": "[encoded data removed]",
      "text/plain": [
       "<Figure size 864x864 with 2 Axes>"
      ]
     },
     "metadata": {},
     "output_type": "display_data"
    }
   ],
   "source": [
    "sns.set(rc={'figure.figsize':(12, 12)})\n",
    "\n",
    "sns.heatmap(data[['last_price', 'total_area', 'living_area', \n",
    "                  'kitchen_area', 'rooms', 'floor', \n",
    "                  'day_of_week_exposition', 'month_exposition', \n",
    "                  'year_exposition','floor_type']].corr(), annot = True)"
   ]
  },
  {
   "cell_type": "code",
   "execution_count": 109,
   "metadata": {
    "colab": {
     "base_uri": "https://localhost:8080/",
     "height": 1000
    },
    "id": "08f845eb",
    "outputId": "320cc228-277c-48ef-9772-c5e982f42843",
    "scrolled": false
   },
   "outputs": [
    {
     "data": {
      "image/png": "[encoded data removed]",
      "text/plain": [
       "<Figure size 360x360 with 1 Axes>"
      ]
     },
     "metadata": {},
     "output_type": "display_data"
    },
    {
     "data": {
      "image/png": "[encoded data removed]",
      "text/plain": [
       "<Figure size 360x360 with 1 Axes>"
      ]
     },
     "metadata": {},
     "output_type": "display_data"
    },
    {
     "data": {
      "image/png": "[encoded data removed]",
      "text/plain": [
       "<Figure size 360x360 with 1 Axes>"
      ]
     },
     "metadata": {},
     "output_type": "display_data"
    },
    {
     "data": {
      "image/png": "[encoded data removed]",
      "text/plain": [
       "<Figure size 360x360 with 1 Axes>"
      ]
     },
     "metadata": {},
     "output_type": "display_data"
    },
    {
     "data": {
      "image/png": "[encoded data removed]",
      "text/plain": [
       "<Figure size 360x360 with 1 Axes>"
      ]
     },
     "metadata": {},
     "output_type": "display_data"
    },
    {
     "data": {
      "image/png": "[encoded data removed]",
      "text/plain": [
       "<Figure size 360x360 with 1 Axes>"
      ]
     },
     "metadata": {},
     "output_type": "display_data"
    },
    {
     "data": {
      "image/png": "[encoded data removed]",
      "text/plain": [
       "<Figure size 360x360 with 1 Axes>"
      ]
     },
     "metadata": {},
     "output_type": "display_data"
    },
    {
     "data": {
      "image/png": "[encoded data removed]",
      "text/plain": [
       "<Figure size 360x360 with 1 Axes>"
      ]
     },
     "metadata": {},
     "output_type": "display_data"
    },
    {
     "data": {
      "image/png": "[encoded data removed]",
      "text/plain": [
       "<Figure size 360x360 with 1 Axes>"
      ]
     },
     "metadata": {},
     "output_type": "display_data"
    }
   ],
   "source": [
    "sns.set(rc={'figure.figsize':(5, 5)})\n",
    "for col in ['total_area', 'living_area', 'kitchen_area', 'rooms', 'floor', \n",
    "            'day_of_week_exposition', 'month_exposition', 'year_exposition','floor_type']:\n",
    "    sns.relplot(x=data[col], y=data['last_price'])"
   ]
  },
  {
   "cell_type": "markdown",
   "metadata": {
    "id": "a5907dc7"
   },
   "source": [
    "На графиках мы видим, что наибольшее влияние на цену квартиры оказывают общая и жилая площадь, менее значительное влияние оказывают площадь кухни и количество комнат в квартире."
   ]
  },
  {
   "cell_type": "markdown",
   "metadata": {
    "id": "Pa1xK4O-vrjz"
   },
   "source": [
    "На графиках мы видим, что наибольшее влияние на цену квартиры оказывают общая и жилая площадь, менее значительное влияние оказывают площадь кухни и количество комнат в квартире.  \n",
    "Также нам тэо подтверждает Корреляция Пирсона, чем значение в нашем случае ближе к 1, тем лучше зависимость, а это в свою очередь Общая и Жилая площади."
   ]
  },
  {
   "cell_type": "markdown",
   "metadata": {
    "id": "7f2cd325"
   },
   "source": [
    "**Найдём среднюю цену одного квадратного метра в 10 населённых пунктах с наибольшим числом объявлений.**"
   ]
  },
  {
   "cell_type": "markdown",
   "metadata": {
    "id": "35f02d51"
   },
   "source": [
    "Выделим эти населенные пункты:"
   ]
  },
  {
   "cell_type": "code",
   "execution_count": 110,
   "metadata": {
    "colab": {
     "base_uri": "https://localhost:8080/"
    },
    "id": "39a395c0",
    "outputId": "3e37a35d-e697-40f5-c17f-d75cc098b5d8"
   },
   "outputs": [
    {
     "data": {
      "text/plain": [
       "санкт-петербург    15651\n",
       "мурино               586\n",
       "кудрово              470\n",
       "шушары               439\n",
       "всеволожск           398\n",
       "пушкин               369\n",
       "колпино              338\n",
       "парголово            327\n",
       "гатчина              307\n",
       "выборг               237\n",
       "Name: locality_name, dtype: int64"
      ]
     },
     "execution_count": 110,
     "metadata": {},
     "output_type": "execute_result"
    }
   ],
   "source": [
    "data['locality_name'].value_counts().head(10)"
   ]
  },
  {
   "cell_type": "code",
   "execution_count": 111,
   "metadata": {
    "colab": {
     "base_uri": "https://localhost:8080/"
    },
    "id": "ea70ed37",
    "outputId": "bb5f8060-283c-4014-ea11-aa9b163d2cb0"
   },
   "outputs": [
    {
     "data": {
      "text/plain": [
       "0    120370.0\n",
       "1     82921.0\n",
       "2     92786.0\n",
       "3    408176.0\n",
       "4    100000.0\n",
       "Name: price_area, dtype: float64"
      ]
     },
     "execution_count": 111,
     "metadata": {},
     "output_type": "execute_result"
    }
   ],
   "source": [
    "city = ['санкт-петербург','мурино','кудрово','шушары','всеволожск','пушкин','колпино','парголово','гатчина','выборг']\n",
    "df = data.loc[data['locality_name'].isin(city)]\n",
    "df['price_area'].head()"
   ]
  },
  {
   "cell_type": "code",
   "execution_count": 117,
   "metadata": {
    "colab": {
     "base_uri": "https://localhost:8080/",
     "height": 394
    },
    "id": "EPPZdPvCH6xe",
    "outputId": "62eac0c2-1875-4d21-b10e-4bf2647c1a6b"
   },
   "outputs": [
    {
     "data": {
      "text/html": [
       "<div>\n",
       "<style scoped>\n",
       "    .dataframe tbody tr th:only-of-type {\n",
       "        vertical-align: middle;\n",
       "    }\n",
       "\n",
       "    .dataframe tbody tr th {\n",
       "        vertical-align: top;\n",
       "    }\n",
       "\n",
       "    .dataframe thead th {\n",
       "        text-align: right;\n",
       "    }\n",
       "</style>\n",
       "<table border=\"1\" class=\"dataframe\">\n",
       "  <thead>\n",
       "    <tr style=\"text-align: right;\">\n",
       "      <th></th>\n",
       "      <th>count</th>\n",
       "      <th>price_area</th>\n",
       "    </tr>\n",
       "    <tr>\n",
       "      <th>locality_name</th>\n",
       "      <th></th>\n",
       "      <th></th>\n",
       "    </tr>\n",
       "  </thead>\n",
       "  <tbody>\n",
       "    <tr>\n",
       "      <th>санкт-петербург</th>\n",
       "      <td>15651</td>\n",
       "      <td>104775.0</td>\n",
       "    </tr>\n",
       "    <tr>\n",
       "      <th>мурино</th>\n",
       "      <td>586</td>\n",
       "      <td>86250.5</td>\n",
       "    </tr>\n",
       "    <tr>\n",
       "      <th>кудрово</th>\n",
       "      <td>470</td>\n",
       "      <td>95555.0</td>\n",
       "    </tr>\n",
       "    <tr>\n",
       "      <th>шушары</th>\n",
       "      <td>439</td>\n",
       "      <td>76829.0</td>\n",
       "    </tr>\n",
       "    <tr>\n",
       "      <th>всеволожск</th>\n",
       "      <td>398</td>\n",
       "      <td>65789.0</td>\n",
       "    </tr>\n",
       "    <tr>\n",
       "      <th>пушкин</th>\n",
       "      <td>369</td>\n",
       "      <td>100000.0</td>\n",
       "    </tr>\n",
       "    <tr>\n",
       "      <th>колпино</th>\n",
       "      <td>338</td>\n",
       "      <td>74723.5</td>\n",
       "    </tr>\n",
       "    <tr>\n",
       "      <th>парголово</th>\n",
       "      <td>327</td>\n",
       "      <td>91643.0</td>\n",
       "    </tr>\n",
       "    <tr>\n",
       "      <th>гатчина</th>\n",
       "      <td>307</td>\n",
       "      <td>67797.0</td>\n",
       "    </tr>\n",
       "    <tr>\n",
       "      <th>выборг</th>\n",
       "      <td>237</td>\n",
       "      <td>58158.0</td>\n",
       "    </tr>\n",
       "  </tbody>\n",
       "</table>\n",
       "</div>"
      ],
      "text/plain": [
       "                 count  price_area\n",
       "locality_name                     \n",
       "санкт-петербург  15651    104775.0\n",
       "мурино             586     86250.5\n",
       "кудрово            470     95555.0\n",
       "шушары             439     76829.0\n",
       "всеволожск         398     65789.0\n",
       "пушкин             369    100000.0\n",
       "колпино            338     74723.5\n",
       "парголово          327     91643.0\n",
       "гатчина            307     67797.0\n",
       "выборг             237     58158.0"
      ]
     },
     "execution_count": 117,
     "metadata": {},
     "output_type": "execute_result"
    }
   ],
   "source": [
    "data.groupby('locality_name').agg({'locality_name':'count','price_area':'median'})\\\n",
    "    .rename(columns ={'locality_name':'count'})\\\n",
    "    .sort_values('count', ascending=False)\\\n",
    "    .head(10)"
   ]
  },
  {
   "cell_type": "markdown",
   "metadata": {
    "id": "b7f9b318"
   },
   "source": [
    "Ожидаемо,что самая дорогая цена среди самых популярных населенных пунктов в Санкт-Петербурге, а самая низкая - в Выборге."
   ]
  },
  {
   "cell_type": "markdown",
   "metadata": {
    "id": "b9c35a2d"
   },
   "source": [
    "**Выделим квартиры в Санкт-Петербурге, вычислим среднюю цену каждого километра.**"
   ]
  },
  {
   "cell_type": "code",
   "execution_count": 114,
   "metadata": {
    "colab": {
     "base_uri": "https://localhost:8080/",
     "height": 300
    },
    "id": "304a16e7",
    "outputId": "13fa5ca3-0db3-4528-bbdd-b7ee04ee01bd"
   },
   "outputs": [
    {
     "data": {
      "text/html": [
       "<div>\n",
       "<style scoped>\n",
       "    .dataframe tbody tr th:only-of-type {\n",
       "        vertical-align: middle;\n",
       "    }\n",
       "\n",
       "    .dataframe tbody tr th {\n",
       "        vertical-align: top;\n",
       "    }\n",
       "\n",
       "    .dataframe thead th {\n",
       "        text-align: right;\n",
       "    }\n",
       "</style>\n",
       "<table border=\"1\" class=\"dataframe\">\n",
       "  <thead>\n",
       "    <tr style=\"text-align: right;\">\n",
       "      <th></th>\n",
       "      <th>total_images</th>\n",
       "      <th>last_price</th>\n",
       "      <th>total_area</th>\n",
       "      <th>first_day_exposition</th>\n",
       "      <th>rooms</th>\n",
       "      <th>ceiling_height</th>\n",
       "      <th>floors_total</th>\n",
       "      <th>living_area</th>\n",
       "      <th>floor</th>\n",
       "      <th>is_apartment</th>\n",
       "      <th>...</th>\n",
       "      <th>parks_nearest</th>\n",
       "      <th>ponds_around</th>\n",
       "      <th>ponds_nearest</th>\n",
       "      <th>days_exposition</th>\n",
       "      <th>price_area</th>\n",
       "      <th>day_of_week_exposition</th>\n",
       "      <th>month_exposition</th>\n",
       "      <th>year_exposition</th>\n",
       "      <th>floor_type</th>\n",
       "      <th>center_distance_km</th>\n",
       "    </tr>\n",
       "  </thead>\n",
       "  <tbody>\n",
       "    <tr>\n",
       "      <th>0</th>\n",
       "      <td>20</td>\n",
       "      <td>13000000</td>\n",
       "      <td>108.0</td>\n",
       "      <td>2019-03-07</td>\n",
       "      <td>3</td>\n",
       "      <td>2.70</td>\n",
       "      <td>16</td>\n",
       "      <td>51.000000</td>\n",
       "      <td>8</td>\n",
       "      <td>False</td>\n",
       "      <td>...</td>\n",
       "      <td>482.0</td>\n",
       "      <td>2</td>\n",
       "      <td>755.0</td>\n",
       "      <td>NaN</td>\n",
       "      <td>120370.0</td>\n",
       "      <td>3</td>\n",
       "      <td>3</td>\n",
       "      <td>2019</td>\n",
       "      <td>другой</td>\n",
       "      <td>16.0</td>\n",
       "    </tr>\n",
       "    <tr>\n",
       "      <th>2</th>\n",
       "      <td>10</td>\n",
       "      <td>5196000</td>\n",
       "      <td>56.0</td>\n",
       "      <td>2015-08-20</td>\n",
       "      <td>2</td>\n",
       "      <td>2.65</td>\n",
       "      <td>5</td>\n",
       "      <td>34.300000</td>\n",
       "      <td>4</td>\n",
       "      <td>False</td>\n",
       "      <td>...</td>\n",
       "      <td>90.0</td>\n",
       "      <td>2</td>\n",
       "      <td>574.0</td>\n",
       "      <td>558.0</td>\n",
       "      <td>92786.0</td>\n",
       "      <td>3</td>\n",
       "      <td>8</td>\n",
       "      <td>2015</td>\n",
       "      <td>другой</td>\n",
       "      <td>14.0</td>\n",
       "    </tr>\n",
       "    <tr>\n",
       "      <th>3</th>\n",
       "      <td>0</td>\n",
       "      <td>64900000</td>\n",
       "      <td>159.0</td>\n",
       "      <td>2015-07-24</td>\n",
       "      <td>3</td>\n",
       "      <td>2.65</td>\n",
       "      <td>14</td>\n",
       "      <td>83.629164</td>\n",
       "      <td>9</td>\n",
       "      <td>False</td>\n",
       "      <td>...</td>\n",
       "      <td>84.0</td>\n",
       "      <td>3</td>\n",
       "      <td>234.0</td>\n",
       "      <td>424.0</td>\n",
       "      <td>408176.0</td>\n",
       "      <td>4</td>\n",
       "      <td>7</td>\n",
       "      <td>2015</td>\n",
       "      <td>другой</td>\n",
       "      <td>7.0</td>\n",
       "    </tr>\n",
       "    <tr>\n",
       "      <th>4</th>\n",
       "      <td>2</td>\n",
       "      <td>10000000</td>\n",
       "      <td>100.0</td>\n",
       "      <td>2018-06-19</td>\n",
       "      <td>2</td>\n",
       "      <td>3.03</td>\n",
       "      <td>14</td>\n",
       "      <td>32.000000</td>\n",
       "      <td>13</td>\n",
       "      <td>False</td>\n",
       "      <td>...</td>\n",
       "      <td>112.0</td>\n",
       "      <td>1</td>\n",
       "      <td>48.0</td>\n",
       "      <td>121.0</td>\n",
       "      <td>100000.0</td>\n",
       "      <td>1</td>\n",
       "      <td>6</td>\n",
       "      <td>2018</td>\n",
       "      <td>другой</td>\n",
       "      <td>8.0</td>\n",
       "    </tr>\n",
       "    <tr>\n",
       "      <th>7</th>\n",
       "      <td>5</td>\n",
       "      <td>7915000</td>\n",
       "      <td>71.6</td>\n",
       "      <td>2019-04-18</td>\n",
       "      <td>2</td>\n",
       "      <td>2.65</td>\n",
       "      <td>24</td>\n",
       "      <td>37.659422</td>\n",
       "      <td>22</td>\n",
       "      <td>False</td>\n",
       "      <td>...</td>\n",
       "      <td>NaN</td>\n",
       "      <td>0</td>\n",
       "      <td>NaN</td>\n",
       "      <td>NaN</td>\n",
       "      <td>110545.0</td>\n",
       "      <td>3</td>\n",
       "      <td>4</td>\n",
       "      <td>2019</td>\n",
       "      <td>другой</td>\n",
       "      <td>12.0</td>\n",
       "    </tr>\n",
       "  </tbody>\n",
       "</table>\n",
       "<p>5 rows × 28 columns</p>\n",
       "</div>"
      ],
      "text/plain": [
       "   total_images  last_price  total_area first_day_exposition  rooms  \\\n",
       "0            20    13000000       108.0           2019-03-07      3   \n",
       "2            10     5196000        56.0           2015-08-20      2   \n",
       "3             0    64900000       159.0           2015-07-24      3   \n",
       "4             2    10000000       100.0           2018-06-19      2   \n",
       "7             5     7915000        71.6           2019-04-18      2   \n",
       "\n",
       "   ceiling_height  floors_total  living_area  floor  is_apartment  ...  \\\n",
       "0            2.70            16    51.000000      8         False  ...   \n",
       "2            2.65             5    34.300000      4         False  ...   \n",
       "3            2.65            14    83.629164      9         False  ...   \n",
       "4            3.03            14    32.000000     13         False  ...   \n",
       "7            2.65            24    37.659422     22         False  ...   \n",
       "\n",
       "   parks_nearest  ponds_around  ponds_nearest  days_exposition price_area  \\\n",
       "0          482.0             2          755.0              NaN   120370.0   \n",
       "2           90.0             2          574.0            558.0    92786.0   \n",
       "3           84.0             3          234.0            424.0   408176.0   \n",
       "4          112.0             1           48.0            121.0   100000.0   \n",
       "7            NaN             0            NaN              NaN   110545.0   \n",
       "\n",
       "   day_of_week_exposition  month_exposition  year_exposition  floor_type  \\\n",
       "0                       3                 3             2019      другой   \n",
       "2                       3                 8             2015      другой   \n",
       "3                       4                 7             2015      другой   \n",
       "4                       1                 6             2018      другой   \n",
       "7                       3                 4             2019      другой   \n",
       "\n",
       "   center_distance_km  \n",
       "0                16.0  \n",
       "2                14.0  \n",
       "3                 7.0  \n",
       "4                 8.0  \n",
       "7                12.0  \n",
       "\n",
       "[5 rows x 28 columns]"
      ]
     },
     "execution_count": 114,
     "metadata": {},
     "output_type": "execute_result"
    }
   ],
   "source": [
    "spb = data[data['locality_name'] == 'санкт-петербург']\n",
    "spb.head()"
   ]
  },
  {
   "cell_type": "code",
   "execution_count": 115,
   "metadata": {
    "colab": {
     "base_uri": "https://localhost:8080/"
    },
    "id": "11cc7e14",
    "outputId": "f6dd3830-e79c-48ee-e99d-6993b6d56637"
   },
   "outputs": [
    {
     "name": "stdout",
     "output_type": "stream",
     "text": [
      "Средняя цена для каждого километра: 698925.0 рублей\n"
     ]
    }
   ],
   "source": [
    "mean_spb = spb['last_price'].sum() / spb['center_distance_km'].sum()\n",
    "print(f'Средняя цена для каждого километра: {mean_spb.round()} рублей')"
   ]
  },
  {
   "cell_type": "code",
   "execution_count": 116,
   "metadata": {
    "colab": {
     "base_uri": "https://localhost:8080/",
     "height": 464
    },
    "id": "55fdf076",
    "outputId": "9dff8edf-2104-45e8-cc51-7e24600f659b",
    "scrolled": false
   },
   "outputs": [
    {
     "data": {
      "image/png": "[encoded data removed]",
      "text/plain": [
       "<Figure size 1080x504 with 1 Axes>"
      ]
     },
     "metadata": {},
     "output_type": "display_data"
    }
   ],
   "source": [
    "spb.pivot_table(index='center_distance_km', values='last_price').plot(figsize=(15,7), title = 'Заголовок');"
   ]
  },
  {
   "cell_type": "markdown",
   "metadata": {
    "id": "f316c921"
   },
   "source": [
    "По графику видно, что наиболее близкие к центру квартиры имеют наибольшую цену, падение цены на графике резко изменилось около расстояния в 10 км. По этим причинам можно сделать вывод, что к квартирам, находящимся в центре, можно относить квартиры в радиусе менее 10 км от центра Санкт-Петербурга."
   ]
  },
  {
   "cell_type": "markdown",
   "metadata": {
    "id": "CKzRlNIDh943"
   },
   "source": [
    "### Общий вывод"
   ]
  },
  {
   "cell_type": "markdown",
   "metadata": {
    "id": "NrzwHrO_h943"
   },
   "source": [
    "\n",
    "Можно подвести итог о том, какая была проделана работа:  \n",
    "\n",
    "\n",
    "\n",
    "---\n",
    "\n",
    "\n",
    "*   Преобработка данных:  \n",
    "   * во многих столбцах были пропущены значения, большую часть, которую сложно заменить и скорее всего это связано с ошибкой при сборе данных.Также присутствовали аномальные значения, которые выбивались из логики.\n",
    "\n",
    "*   После были объявленые нужные для анализа столбцы:   \n",
    "  * цена кв. метра; \n",
    "  * день недели публикации;  \n",
    "  * месяц публикации; \n",
    "  * год публикации;  \n",
    "  * тип этажа; \n",
    "  * расстояние до центра города в километрах.\n",
    "\n",
    "*   После мы приступили непосредственно к исследованию:\n",
    "  * были проанализированны параметры объектов (общая площадь, этаж квартиры, общая этажность дома, расстояние до аэропорта и т. д.);\n",
    "  * изучена скорость продажи квартир с помощью сервиса, найдено среднее и медианное время, установлены рамки, относительно которых можно судить о том, что квартира была продана медленно или быстро;\n",
    "  *  при помощи корреляций были изучены зависимости стоимости квартиры от её параметров, построены графики;\n",
    "  *  найдены самые популярные населенные пункты, в которых чаще всего продают квартиры, для таких пунктов были найдены средние цены квадратного метра;\n",
    "  * для Санкт-Петербурга было найдено, как меняется цена квартиры в зависимости от удалённости от центра города.\n",
    "\n",
    "  \n",
    "\n",
    ">Обобщая все наше исследование, чаще всего на Яндекс.Недвижимости в Ленинградской области выставляют 1-2 комнатные квартиры в 9-и и 5-ти этажных домах с высотой потолков в районе 2.7 метров и средней общей площадью 46.35. Среди самых популярных (топ-10) городов в сервисе самая дешевая цена за квадратный метр - в Выборге, всего 58.1 тыс. рублей, самая дорогая - в Санкт-Петербурге, здесь стоимость составляет 115 тыс. рублей за квадратный метр, при этом в Санкт-Петербурге намного больше объявлений (самый популярный город). Наиболее близкие к центру в Санкт-Петербурге квартиры имеют наибольшую цену, а к квартирам в центре можно отнести квартиры в радиусе 10 км от центра города. Наибольшее влияние на стоимость квартир, ожидаемо, оказывают общая и жилая площадь.\n",
    "\n",
    "\n",
    "\n",
    "\n",
    "\n",
    "\n",
    "\n"
   ]
  }
 ],
 "metadata": {
  "ExecuteTimeLog": [
   {
    "duration": 802,
    "start_time": "2022-12-27T12:54:46.035Z"
   },
   {
    "duration": 136,
    "start_time": "2022-12-27T12:55:16.355Z"
   },
   {
    "duration": 13,
    "start_time": "2022-12-27T13:47:25.116Z"
   },
   {
    "duration": 99,
    "start_time": "2022-12-27T13:47:28.451Z"
   },
   {
    "duration": 16,
    "start_time": "2022-12-27T13:47:49.601Z"
   },
   {
    "duration": 108,
    "start_time": "2022-12-27T13:47:51.960Z"
   },
   {
    "duration": 2257,
    "start_time": "2022-12-27T13:48:44.569Z"
   },
   {
    "duration": 1422,
    "start_time": "2022-12-28T12:12:56.250Z"
   },
   {
    "duration": 0,
    "start_time": "2022-12-28T12:12:57.680Z"
   },
   {
    "duration": 0,
    "start_time": "2022-12-28T12:12:57.681Z"
   },
   {
    "duration": 0,
    "start_time": "2022-12-28T12:12:57.682Z"
   },
   {
    "duration": 0,
    "start_time": "2022-12-28T12:12:57.683Z"
   },
   {
    "duration": 0,
    "start_time": "2022-12-28T12:12:57.684Z"
   },
   {
    "duration": 0,
    "start_time": "2022-12-28T12:12:57.685Z"
   },
   {
    "duration": 0,
    "start_time": "2022-12-28T12:12:57.686Z"
   },
   {
    "duration": 0,
    "start_time": "2022-12-28T12:12:57.688Z"
   },
   {
    "duration": 0,
    "start_time": "2022-12-28T12:12:57.689Z"
   },
   {
    "duration": 0,
    "start_time": "2022-12-28T12:12:57.690Z"
   },
   {
    "duration": 0,
    "start_time": "2022-12-28T12:12:57.692Z"
   },
   {
    "duration": 0,
    "start_time": "2022-12-28T12:12:57.693Z"
   },
   {
    "duration": 0,
    "start_time": "2022-12-28T12:12:57.694Z"
   },
   {
    "duration": 0,
    "start_time": "2022-12-28T12:12:57.695Z"
   },
   {
    "duration": 0,
    "start_time": "2022-12-28T12:12:57.696Z"
   },
   {
    "duration": 0,
    "start_time": "2022-12-28T12:12:57.698Z"
   },
   {
    "duration": 0,
    "start_time": "2022-12-28T12:12:57.699Z"
   },
   {
    "duration": 0,
    "start_time": "2022-12-28T12:12:57.700Z"
   },
   {
    "duration": 0,
    "start_time": "2022-12-28T12:12:57.702Z"
   },
   {
    "duration": 0,
    "start_time": "2022-12-28T12:12:57.706Z"
   },
   {
    "duration": 0,
    "start_time": "2022-12-28T12:12:57.707Z"
   },
   {
    "duration": 0,
    "start_time": "2022-12-28T12:12:57.708Z"
   },
   {
    "duration": 0,
    "start_time": "2022-12-28T12:12:57.709Z"
   },
   {
    "duration": 0,
    "start_time": "2022-12-28T12:12:57.709Z"
   },
   {
    "duration": 0,
    "start_time": "2022-12-28T12:12:57.710Z"
   },
   {
    "duration": 0,
    "start_time": "2022-12-28T12:12:57.712Z"
   },
   {
    "duration": 0,
    "start_time": "2022-12-28T12:12:57.713Z"
   },
   {
    "duration": 0,
    "start_time": "2022-12-28T12:12:57.713Z"
   },
   {
    "duration": 0,
    "start_time": "2022-12-28T12:12:57.716Z"
   },
   {
    "duration": 0,
    "start_time": "2022-12-28T12:12:57.717Z"
   },
   {
    "duration": 0,
    "start_time": "2022-12-28T12:12:57.718Z"
   },
   {
    "duration": 0,
    "start_time": "2022-12-28T12:12:57.719Z"
   },
   {
    "duration": 0,
    "start_time": "2022-12-28T12:12:57.720Z"
   },
   {
    "duration": 0,
    "start_time": "2022-12-28T12:12:57.721Z"
   },
   {
    "duration": 0,
    "start_time": "2022-12-28T12:12:57.722Z"
   },
   {
    "duration": 0,
    "start_time": "2022-12-28T12:12:57.725Z"
   },
   {
    "duration": 0,
    "start_time": "2022-12-28T12:12:57.726Z"
   },
   {
    "duration": 0,
    "start_time": "2022-12-28T12:12:57.728Z"
   },
   {
    "duration": 0,
    "start_time": "2022-12-28T12:12:57.729Z"
   },
   {
    "duration": 0,
    "start_time": "2022-12-28T12:12:57.731Z"
   },
   {
    "duration": 0,
    "start_time": "2022-12-28T12:12:57.732Z"
   },
   {
    "duration": 0,
    "start_time": "2022-12-28T12:12:57.733Z"
   },
   {
    "duration": 0,
    "start_time": "2022-12-28T12:12:57.735Z"
   },
   {
    "duration": 0,
    "start_time": "2022-12-28T12:12:57.781Z"
   },
   {
    "duration": 0,
    "start_time": "2022-12-28T12:12:57.783Z"
   },
   {
    "duration": 0,
    "start_time": "2022-12-28T12:12:57.785Z"
   },
   {
    "duration": 0,
    "start_time": "2022-12-28T12:12:57.786Z"
   },
   {
    "duration": 0,
    "start_time": "2022-12-28T12:12:57.787Z"
   },
   {
    "duration": 0,
    "start_time": "2022-12-28T12:12:57.789Z"
   },
   {
    "duration": 0,
    "start_time": "2022-12-28T12:12:57.791Z"
   },
   {
    "duration": 0,
    "start_time": "2022-12-28T12:12:57.792Z"
   },
   {
    "duration": 0,
    "start_time": "2022-12-28T12:12:57.793Z"
   },
   {
    "duration": 0,
    "start_time": "2022-12-28T12:12:57.795Z"
   },
   {
    "duration": 0,
    "start_time": "2022-12-28T12:12:57.796Z"
   },
   {
    "duration": 0,
    "start_time": "2022-12-28T12:12:57.798Z"
   },
   {
    "duration": 0,
    "start_time": "2022-12-28T12:12:57.800Z"
   },
   {
    "duration": 0,
    "start_time": "2022-12-28T12:12:57.802Z"
   },
   {
    "duration": 0,
    "start_time": "2022-12-28T12:12:57.804Z"
   },
   {
    "duration": 0,
    "start_time": "2022-12-28T12:12:57.806Z"
   },
   {
    "duration": 0,
    "start_time": "2022-12-28T12:12:57.808Z"
   },
   {
    "duration": 0,
    "start_time": "2022-12-28T12:12:57.810Z"
   },
   {
    "duration": 0,
    "start_time": "2022-12-28T12:12:57.811Z"
   },
   {
    "duration": 0,
    "start_time": "2022-12-28T12:12:57.813Z"
   },
   {
    "duration": 0,
    "start_time": "2022-12-28T12:12:57.815Z"
   },
   {
    "duration": 0,
    "start_time": "2022-12-28T12:12:57.817Z"
   },
   {
    "duration": 0,
    "start_time": "2022-12-28T12:12:57.819Z"
   },
   {
    "duration": 0,
    "start_time": "2022-12-28T12:12:57.820Z"
   },
   {
    "duration": 0,
    "start_time": "2022-12-28T12:12:57.822Z"
   },
   {
    "duration": 0,
    "start_time": "2022-12-28T12:12:57.824Z"
   },
   {
    "duration": 0,
    "start_time": "2022-12-28T12:12:57.825Z"
   },
   {
    "duration": 0,
    "start_time": "2022-12-28T12:12:57.827Z"
   },
   {
    "duration": 0,
    "start_time": "2022-12-28T12:12:57.829Z"
   },
   {
    "duration": 0,
    "start_time": "2022-12-28T12:12:57.831Z"
   },
   {
    "duration": 0,
    "start_time": "2022-12-28T12:12:57.878Z"
   },
   {
    "duration": 0,
    "start_time": "2022-12-28T12:12:57.879Z"
   },
   {
    "duration": 0,
    "start_time": "2022-12-28T12:12:57.880Z"
   },
   {
    "duration": 0,
    "start_time": "2022-12-28T12:12:57.881Z"
   },
   {
    "duration": 0,
    "start_time": "2022-12-28T12:12:57.881Z"
   },
   {
    "duration": 0,
    "start_time": "2022-12-28T12:12:57.882Z"
   },
   {
    "duration": 0,
    "start_time": "2022-12-28T12:12:57.887Z"
   },
   {
    "duration": 0,
    "start_time": "2022-12-28T12:12:57.888Z"
   },
   {
    "duration": 0,
    "start_time": "2022-12-28T12:12:57.889Z"
   },
   {
    "duration": 0,
    "start_time": "2022-12-28T12:12:57.890Z"
   },
   {
    "duration": 0,
    "start_time": "2022-12-28T12:12:57.892Z"
   },
   {
    "duration": 0,
    "start_time": "2022-12-28T12:12:57.893Z"
   },
   {
    "duration": 0,
    "start_time": "2022-12-28T12:12:57.895Z"
   },
   {
    "duration": 0,
    "start_time": "2022-12-28T12:12:57.897Z"
   },
   {
    "duration": 0,
    "start_time": "2022-12-28T12:12:57.898Z"
   },
   {
    "duration": 0,
    "start_time": "2022-12-28T12:12:57.900Z"
   },
   {
    "duration": 0,
    "start_time": "2022-12-28T12:12:57.901Z"
   },
   {
    "duration": 0,
    "start_time": "2022-12-28T12:12:57.911Z"
   },
   {
    "duration": 0,
    "start_time": "2022-12-28T12:12:57.912Z"
   },
   {
    "duration": 0,
    "start_time": "2022-12-28T12:12:57.913Z"
   },
   {
    "duration": 0,
    "start_time": "2022-12-28T12:12:57.915Z"
   },
   {
    "duration": 0,
    "start_time": "2022-12-28T12:12:57.916Z"
   },
   {
    "duration": 0,
    "start_time": "2022-12-28T12:12:57.918Z"
   },
   {
    "duration": 0,
    "start_time": "2022-12-28T12:12:57.919Z"
   },
   {
    "duration": 0,
    "start_time": "2022-12-28T12:12:57.921Z"
   },
   {
    "duration": 0,
    "start_time": "2022-12-28T12:12:57.922Z"
   },
   {
    "duration": 0,
    "start_time": "2022-12-28T12:12:57.924Z"
   },
   {
    "duration": 0,
    "start_time": "2022-12-28T12:12:57.925Z"
   },
   {
    "duration": 0,
    "start_time": "2022-12-28T12:12:57.926Z"
   },
   {
    "duration": 0,
    "start_time": "2022-12-28T12:12:57.928Z"
   },
   {
    "duration": 0,
    "start_time": "2022-12-28T12:12:57.929Z"
   },
   {
    "duration": 0,
    "start_time": "2022-12-28T12:12:57.978Z"
   },
   {
    "duration": 138,
    "start_time": "2022-12-28T12:13:36.175Z"
   },
   {
    "duration": 1304,
    "start_time": "2022-12-28T12:13:40.395Z"
   },
   {
    "duration": 34,
    "start_time": "2022-12-28T12:13:41.707Z"
   },
   {
    "duration": 15,
    "start_time": "2022-12-28T12:13:41.743Z"
   },
   {
    "duration": 2157,
    "start_time": "2022-12-28T12:13:41.760Z"
   },
   {
    "duration": 117,
    "start_time": "2022-12-28T12:13:43.920Z"
   },
   {
    "duration": 12,
    "start_time": "2022-12-28T12:13:44.039Z"
   },
   {
    "duration": 22,
    "start_time": "2022-12-28T12:13:44.053Z"
   },
   {
    "duration": 64,
    "start_time": "2022-12-28T12:13:44.079Z"
   },
   {
    "duration": 19,
    "start_time": "2022-12-28T12:13:44.145Z"
   },
   {
    "duration": 80,
    "start_time": "2022-12-28T12:13:44.166Z"
   },
   {
    "duration": 19,
    "start_time": "2022-12-28T12:13:44.248Z"
   },
   {
    "duration": 63,
    "start_time": "2022-12-28T12:13:44.269Z"
   },
   {
    "duration": 19,
    "start_time": "2022-12-28T12:13:44.335Z"
   },
   {
    "duration": 20,
    "start_time": "2022-12-28T12:13:44.359Z"
   },
   {
    "duration": 78,
    "start_time": "2022-12-28T12:13:44.383Z"
   },
   {
    "duration": 7,
    "start_time": "2022-12-28T12:13:44.463Z"
   },
   {
    "duration": 44,
    "start_time": "2022-12-28T12:13:44.472Z"
   },
   {
    "duration": 10,
    "start_time": "2022-12-28T12:13:44.517Z"
   },
   {
    "duration": 136,
    "start_time": "2022-12-28T12:13:44.529Z"
   },
   {
    "duration": 6,
    "start_time": "2022-12-28T12:13:44.667Z"
   },
   {
    "duration": 43,
    "start_time": "2022-12-28T12:13:44.681Z"
   },
   {
    "duration": 47,
    "start_time": "2022-12-28T12:13:44.726Z"
   },
   {
    "duration": 30,
    "start_time": "2022-12-28T12:13:44.775Z"
   },
   {
    "duration": 29,
    "start_time": "2022-12-28T12:13:44.807Z"
   },
   {
    "duration": 9,
    "start_time": "2022-12-28T12:13:44.838Z"
   },
   {
    "duration": 15,
    "start_time": "2022-12-28T12:13:44.849Z"
   },
   {
    "duration": 9,
    "start_time": "2022-12-28T12:13:44.865Z"
   },
   {
    "duration": 394,
    "start_time": "2022-12-28T12:13:44.876Z"
   },
   {
    "duration": 16,
    "start_time": "2022-12-28T12:13:45.272Z"
   },
   {
    "duration": 39,
    "start_time": "2022-12-28T12:13:45.293Z"
   },
   {
    "duration": 94,
    "start_time": "2022-12-28T12:13:45.334Z"
   },
   {
    "duration": 185,
    "start_time": "2022-12-28T12:13:45.429Z"
   },
   {
    "duration": 121,
    "start_time": "2022-12-28T12:13:45.616Z"
   },
   {
    "duration": 217,
    "start_time": "2022-12-28T12:13:45.739Z"
   },
   {
    "duration": 9,
    "start_time": "2022-12-28T12:13:45.958Z"
   },
   {
    "duration": 18,
    "start_time": "2022-12-28T12:13:45.968Z"
   },
   {
    "duration": 155,
    "start_time": "2022-12-28T12:13:45.993Z"
   },
   {
    "duration": 193,
    "start_time": "2022-12-28T12:13:46.150Z"
   },
   {
    "duration": 150,
    "start_time": "2022-12-28T12:13:46.346Z"
   },
   {
    "duration": 296,
    "start_time": "2022-12-28T12:13:46.498Z"
   },
   {
    "duration": 13,
    "start_time": "2022-12-28T12:13:46.812Z"
   },
   {
    "duration": 9,
    "start_time": "2022-12-28T12:13:46.827Z"
   },
   {
    "duration": 124,
    "start_time": "2022-12-28T12:13:46.837Z"
   },
   {
    "duration": 193,
    "start_time": "2022-12-28T12:13:46.963Z"
   },
   {
    "duration": 112,
    "start_time": "2022-12-28T12:13:47.158Z"
   },
   {
    "duration": 276,
    "start_time": "2022-12-28T12:13:47.272Z"
   },
   {
    "duration": 9,
    "start_time": "2022-12-28T12:13:47.550Z"
   },
   {
    "duration": 26,
    "start_time": "2022-12-28T12:13:47.560Z"
   },
   {
    "duration": 131,
    "start_time": "2022-12-28T12:13:47.591Z"
   },
   {
    "duration": 279,
    "start_time": "2022-12-28T12:13:47.723Z"
   },
   {
    "duration": 113,
    "start_time": "2022-12-28T12:13:48.005Z"
   },
   {
    "duration": 213,
    "start_time": "2022-12-28T12:13:48.120Z"
   },
   {
    "duration": 23,
    "start_time": "2022-12-28T12:13:48.334Z"
   },
   {
    "duration": 56,
    "start_time": "2022-12-28T12:13:48.359Z"
   },
   {
    "duration": 202,
    "start_time": "2022-12-28T12:13:48.417Z"
   },
   {
    "duration": 12,
    "start_time": "2022-12-28T12:13:48.621Z"
   },
   {
    "duration": 126,
    "start_time": "2022-12-28T12:13:48.635Z"
   },
   {
    "duration": 288,
    "start_time": "2022-12-28T12:13:48.763Z"
   },
   {
    "duration": 13,
    "start_time": "2022-12-28T12:13:49.053Z"
   },
   {
    "duration": 138,
    "start_time": "2022-12-28T12:13:49.068Z"
   },
   {
    "duration": 226,
    "start_time": "2022-12-28T12:13:49.210Z"
   },
   {
    "duration": 11,
    "start_time": "2022-12-28T12:13:49.438Z"
   },
   {
    "duration": 162,
    "start_time": "2022-12-28T12:13:49.451Z"
   },
   {
    "duration": 9,
    "start_time": "2022-12-28T12:13:49.615Z"
   },
   {
    "duration": 114,
    "start_time": "2022-12-28T12:13:49.626Z"
   },
   {
    "duration": 214,
    "start_time": "2022-12-28T12:13:49.741Z"
   },
   {
    "duration": 113,
    "start_time": "2022-12-28T12:13:49.957Z"
   },
   {
    "duration": 237,
    "start_time": "2022-12-28T12:13:50.072Z"
   },
   {
    "duration": 9,
    "start_time": "2022-12-28T12:13:50.312Z"
   },
   {
    "duration": 9,
    "start_time": "2022-12-28T12:13:50.323Z"
   },
   {
    "duration": 27,
    "start_time": "2022-12-28T12:13:50.334Z"
   },
   {
    "duration": 111,
    "start_time": "2022-12-28T12:13:50.363Z"
   },
   {
    "duration": 270,
    "start_time": "2022-12-28T12:13:50.482Z"
   },
   {
    "duration": 118,
    "start_time": "2022-12-28T12:13:50.754Z"
   },
   {
    "duration": 339,
    "start_time": "2022-12-28T12:13:50.874Z"
   },
   {
    "duration": 10,
    "start_time": "2022-12-28T12:13:51.214Z"
   },
   {
    "duration": 14,
    "start_time": "2022-12-28T12:13:51.227Z"
   },
   {
    "duration": 151,
    "start_time": "2022-12-28T12:13:51.243Z"
   },
   {
    "duration": 415,
    "start_time": "2022-12-28T12:13:51.400Z"
   },
   {
    "duration": 116,
    "start_time": "2022-12-28T12:13:51.816Z"
   },
   {
    "duration": 233,
    "start_time": "2022-12-28T12:13:51.934Z"
   },
   {
    "duration": 18,
    "start_time": "2022-12-28T12:13:52.169Z"
   },
   {
    "duration": 39,
    "start_time": "2022-12-28T12:13:52.192Z"
   },
   {
    "duration": 112,
    "start_time": "2022-12-28T12:13:52.233Z"
   },
   {
    "duration": 273,
    "start_time": "2022-12-28T12:13:52.347Z"
   },
   {
    "duration": 120,
    "start_time": "2022-12-28T12:13:52.622Z"
   },
   {
    "duration": 253,
    "start_time": "2022-12-28T12:13:52.743Z"
   },
   {
    "duration": 10,
    "start_time": "2022-12-28T12:13:52.998Z"
   },
   {
    "duration": 7,
    "start_time": "2022-12-28T12:13:53.010Z"
   },
   {
    "duration": 201,
    "start_time": "2022-12-28T12:13:53.019Z"
   },
   {
    "duration": 7,
    "start_time": "2022-12-28T12:13:53.224Z"
   },
   {
    "duration": 257,
    "start_time": "2022-12-28T12:13:53.233Z"
   },
   {
    "duration": 17,
    "start_time": "2022-12-28T12:13:53.492Z"
   },
   {
    "duration": 133,
    "start_time": "2022-12-28T12:13:53.515Z"
   },
   {
    "duration": 253,
    "start_time": "2022-12-28T12:13:53.649Z"
   },
   {
    "duration": 12,
    "start_time": "2022-12-28T12:13:53.913Z"
   },
   {
    "duration": 297,
    "start_time": "2022-12-28T12:13:53.926Z"
   },
   {
    "duration": 22,
    "start_time": "2022-12-28T12:13:54.224Z"
   },
   {
    "duration": 1020,
    "start_time": "2022-12-28T12:13:54.248Z"
   },
   {
    "duration": 4351,
    "start_time": "2022-12-28T12:13:55.270Z"
   },
   {
    "duration": 16,
    "start_time": "2022-12-28T12:13:59.623Z"
   },
   {
    "duration": 92,
    "start_time": "2022-12-28T12:13:59.642Z"
   },
   {
    "duration": 60,
    "start_time": "2022-12-28T12:13:59.736Z"
   },
   {
    "duration": 62,
    "start_time": "2022-12-28T12:13:59.808Z"
   },
   {
    "duration": 36,
    "start_time": "2022-12-28T12:13:59.872Z"
   },
   {
    "duration": 360,
    "start_time": "2022-12-28T12:13:59.926Z"
   },
   {
    "duration": 138,
    "start_time": "2022-12-28T12:17:21.016Z"
   },
   {
    "duration": 267,
    "start_time": "2022-12-28T12:21:38.623Z"
   },
   {
    "duration": 285,
    "start_time": "2022-12-28T12:21:40.869Z"
   },
   {
    "duration": 1682,
    "start_time": "2022-12-28T12:40:08.675Z"
   },
   {
    "duration": 33,
    "start_time": "2022-12-28T12:40:12.975Z"
   },
   {
    "duration": 93,
    "start_time": "2022-12-28T12:48:07.478Z"
   },
   {
    "duration": 23,
    "start_time": "2022-12-28T12:48:09.736Z"
   },
   {
    "duration": 51,
    "start_time": "2022-12-28T12:48:21.070Z"
   },
   {
    "duration": 84,
    "start_time": "2022-12-28T12:48:29.705Z"
   },
   {
    "duration": 98,
    "start_time": "2022-12-28T12:52:12.044Z"
   },
   {
    "duration": 26,
    "start_time": "2022-12-28T12:52:18.626Z"
   },
   {
    "duration": 29,
    "start_time": "2022-12-28T12:52:27.116Z"
   },
   {
    "duration": 25,
    "start_time": "2022-12-28T13:01:55.939Z"
   },
   {
    "duration": 62,
    "start_time": "2022-12-28T13:08:04.517Z"
   },
   {
    "duration": 16,
    "start_time": "2022-12-28T13:09:58.716Z"
   },
   {
    "duration": 29,
    "start_time": "2022-12-28T13:16:15.611Z"
   },
   {
    "duration": 16,
    "start_time": "2022-12-28T13:16:18.914Z"
   },
   {
    "duration": 12,
    "start_time": "2022-12-28T13:24:19.236Z"
   },
   {
    "duration": 44,
    "start_time": "2022-12-29T13:23:46.178Z"
   },
   {
    "duration": 7,
    "start_time": "2022-12-29T13:23:59.951Z"
   },
   {
    "duration": 1617,
    "start_time": "2022-12-29T13:24:17.402Z"
   },
   {
    "duration": 31,
    "start_time": "2022-12-29T13:24:19.022Z"
   },
   {
    "duration": 16,
    "start_time": "2022-12-29T13:24:19.054Z"
   },
   {
    "duration": 1838,
    "start_time": "2022-12-29T13:24:19.072Z"
   },
   {
    "duration": 73,
    "start_time": "2022-12-29T13:24:20.912Z"
   },
   {
    "duration": 12,
    "start_time": "2022-12-29T13:24:20.987Z"
   },
   {
    "duration": 103,
    "start_time": "2022-12-29T13:24:21.001Z"
   },
   {
    "duration": 0,
    "start_time": "2022-12-29T13:24:21.108Z"
   },
   {
    "duration": 0,
    "start_time": "2022-12-29T13:24:21.109Z"
   },
   {
    "duration": 0,
    "start_time": "2022-12-29T13:24:21.110Z"
   },
   {
    "duration": 0,
    "start_time": "2022-12-29T13:24:21.112Z"
   },
   {
    "duration": 0,
    "start_time": "2022-12-29T13:24:21.113Z"
   },
   {
    "duration": 0,
    "start_time": "2022-12-29T13:24:21.115Z"
   },
   {
    "duration": 0,
    "start_time": "2022-12-29T13:24:21.117Z"
   },
   {
    "duration": 0,
    "start_time": "2022-12-29T13:24:21.118Z"
   },
   {
    "duration": 0,
    "start_time": "2022-12-29T13:24:21.119Z"
   },
   {
    "duration": 0,
    "start_time": "2022-12-29T13:24:21.120Z"
   },
   {
    "duration": 0,
    "start_time": "2022-12-29T13:24:21.121Z"
   },
   {
    "duration": 0,
    "start_time": "2022-12-29T13:24:21.123Z"
   },
   {
    "duration": 0,
    "start_time": "2022-12-29T13:24:21.124Z"
   },
   {
    "duration": 0,
    "start_time": "2022-12-29T13:24:21.125Z"
   },
   {
    "duration": 0,
    "start_time": "2022-12-29T13:24:21.126Z"
   },
   {
    "duration": 0,
    "start_time": "2022-12-29T13:24:21.127Z"
   },
   {
    "duration": 0,
    "start_time": "2022-12-29T13:24:21.128Z"
   },
   {
    "duration": 0,
    "start_time": "2022-12-29T13:24:21.130Z"
   },
   {
    "duration": 0,
    "start_time": "2022-12-29T13:24:21.131Z"
   },
   {
    "duration": 0,
    "start_time": "2022-12-29T13:24:21.132Z"
   },
   {
    "duration": 0,
    "start_time": "2022-12-29T13:24:21.133Z"
   },
   {
    "duration": 0,
    "start_time": "2022-12-29T13:24:21.134Z"
   },
   {
    "duration": 0,
    "start_time": "2022-12-29T13:24:21.135Z"
   },
   {
    "duration": 0,
    "start_time": "2022-12-29T13:24:21.136Z"
   },
   {
    "duration": 0,
    "start_time": "2022-12-29T13:24:21.137Z"
   },
   {
    "duration": 0,
    "start_time": "2022-12-29T13:24:21.138Z"
   },
   {
    "duration": 0,
    "start_time": "2022-12-29T13:24:21.139Z"
   },
   {
    "duration": 0,
    "start_time": "2022-12-29T13:24:21.140Z"
   },
   {
    "duration": 0,
    "start_time": "2022-12-29T13:24:21.142Z"
   },
   {
    "duration": 0,
    "start_time": "2022-12-29T13:24:21.142Z"
   },
   {
    "duration": 0,
    "start_time": "2022-12-29T13:24:21.143Z"
   },
   {
    "duration": 0,
    "start_time": "2022-12-29T13:24:21.144Z"
   },
   {
    "duration": 0,
    "start_time": "2022-12-29T13:24:21.197Z"
   },
   {
    "duration": 0,
    "start_time": "2022-12-29T13:24:21.198Z"
   },
   {
    "duration": 0,
    "start_time": "2022-12-29T13:24:21.199Z"
   },
   {
    "duration": 0,
    "start_time": "2022-12-29T13:24:21.202Z"
   },
   {
    "duration": 0,
    "start_time": "2022-12-29T13:24:21.204Z"
   },
   {
    "duration": 0,
    "start_time": "2022-12-29T13:24:21.205Z"
   },
   {
    "duration": 0,
    "start_time": "2022-12-29T13:24:21.207Z"
   },
   {
    "duration": 0,
    "start_time": "2022-12-29T13:24:21.207Z"
   },
   {
    "duration": 0,
    "start_time": "2022-12-29T13:24:21.209Z"
   },
   {
    "duration": 0,
    "start_time": "2022-12-29T13:24:21.210Z"
   },
   {
    "duration": 0,
    "start_time": "2022-12-29T13:24:21.211Z"
   },
   {
    "duration": 0,
    "start_time": "2022-12-29T13:24:21.212Z"
   },
   {
    "duration": 0,
    "start_time": "2022-12-29T13:24:21.213Z"
   },
   {
    "duration": 0,
    "start_time": "2022-12-29T13:24:21.214Z"
   },
   {
    "duration": 0,
    "start_time": "2022-12-29T13:24:21.215Z"
   },
   {
    "duration": 0,
    "start_time": "2022-12-29T13:24:21.216Z"
   },
   {
    "duration": 0,
    "start_time": "2022-12-29T13:24:21.216Z"
   },
   {
    "duration": 0,
    "start_time": "2022-12-29T13:24:21.217Z"
   },
   {
    "duration": 0,
    "start_time": "2022-12-29T13:24:21.218Z"
   },
   {
    "duration": 0,
    "start_time": "2022-12-29T13:24:21.219Z"
   },
   {
    "duration": 0,
    "start_time": "2022-12-29T13:24:21.220Z"
   },
   {
    "duration": 0,
    "start_time": "2022-12-29T13:24:21.221Z"
   },
   {
    "duration": 0,
    "start_time": "2022-12-29T13:24:21.222Z"
   },
   {
    "duration": 0,
    "start_time": "2022-12-29T13:24:21.223Z"
   },
   {
    "duration": 0,
    "start_time": "2022-12-29T13:24:21.224Z"
   },
   {
    "duration": 0,
    "start_time": "2022-12-29T13:24:21.225Z"
   },
   {
    "duration": 0,
    "start_time": "2022-12-29T13:24:21.226Z"
   },
   {
    "duration": 0,
    "start_time": "2022-12-29T13:24:21.227Z"
   },
   {
    "duration": 0,
    "start_time": "2022-12-29T13:24:21.228Z"
   },
   {
    "duration": 0,
    "start_time": "2022-12-29T13:24:21.230Z"
   },
   {
    "duration": 0,
    "start_time": "2022-12-29T13:24:21.231Z"
   },
   {
    "duration": 0,
    "start_time": "2022-12-29T13:24:21.232Z"
   },
   {
    "duration": 0,
    "start_time": "2022-12-29T13:24:21.233Z"
   },
   {
    "duration": 0,
    "start_time": "2022-12-29T13:24:21.234Z"
   },
   {
    "duration": 0,
    "start_time": "2022-12-29T13:24:21.235Z"
   },
   {
    "duration": 0,
    "start_time": "2022-12-29T13:24:21.236Z"
   },
   {
    "duration": 0,
    "start_time": "2022-12-29T13:24:21.298Z"
   },
   {
    "duration": 0,
    "start_time": "2022-12-29T13:24:21.299Z"
   },
   {
    "duration": 0,
    "start_time": "2022-12-29T13:24:21.300Z"
   },
   {
    "duration": 0,
    "start_time": "2022-12-29T13:24:21.301Z"
   },
   {
    "duration": 0,
    "start_time": "2022-12-29T13:24:21.302Z"
   },
   {
    "duration": 0,
    "start_time": "2022-12-29T13:24:21.303Z"
   },
   {
    "duration": 0,
    "start_time": "2022-12-29T13:24:21.304Z"
   },
   {
    "duration": 0,
    "start_time": "2022-12-29T13:24:21.305Z"
   },
   {
    "duration": 0,
    "start_time": "2022-12-29T13:24:21.307Z"
   },
   {
    "duration": 0,
    "start_time": "2022-12-29T13:24:21.307Z"
   },
   {
    "duration": 0,
    "start_time": "2022-12-29T13:24:21.309Z"
   },
   {
    "duration": 0,
    "start_time": "2022-12-29T13:24:21.309Z"
   },
   {
    "duration": 0,
    "start_time": "2022-12-29T13:24:21.310Z"
   },
   {
    "duration": 0,
    "start_time": "2022-12-29T13:24:21.312Z"
   },
   {
    "duration": 0,
    "start_time": "2022-12-29T13:24:21.313Z"
   },
   {
    "duration": 0,
    "start_time": "2022-12-29T13:24:21.314Z"
   },
   {
    "duration": 0,
    "start_time": "2022-12-29T13:24:21.315Z"
   },
   {
    "duration": 0,
    "start_time": "2022-12-29T13:24:21.316Z"
   },
   {
    "duration": 0,
    "start_time": "2022-12-29T13:24:21.317Z"
   },
   {
    "duration": 0,
    "start_time": "2022-12-29T13:24:21.318Z"
   },
   {
    "duration": 0,
    "start_time": "2022-12-29T13:24:21.319Z"
   },
   {
    "duration": 0,
    "start_time": "2022-12-29T13:24:21.320Z"
   },
   {
    "duration": 0,
    "start_time": "2022-12-29T13:24:21.321Z"
   },
   {
    "duration": 0,
    "start_time": "2022-12-29T13:24:21.322Z"
   },
   {
    "duration": 0,
    "start_time": "2022-12-29T13:24:21.323Z"
   },
   {
    "duration": 0,
    "start_time": "2022-12-29T13:24:21.324Z"
   },
   {
    "duration": 0,
    "start_time": "2022-12-29T13:24:21.325Z"
   },
   {
    "duration": 0,
    "start_time": "2022-12-29T13:24:21.326Z"
   },
   {
    "duration": 0,
    "start_time": "2022-12-29T13:24:21.327Z"
   },
   {
    "duration": 0,
    "start_time": "2022-12-29T13:24:21.328Z"
   },
   {
    "duration": 0,
    "start_time": "2022-12-29T13:24:21.329Z"
   },
   {
    "duration": 0,
    "start_time": "2022-12-29T13:24:21.330Z"
   },
   {
    "duration": 0,
    "start_time": "2022-12-29T13:24:21.331Z"
   },
   {
    "duration": 0,
    "start_time": "2022-12-29T13:24:21.332Z"
   },
   {
    "duration": 0,
    "start_time": "2022-12-29T13:24:21.398Z"
   },
   {
    "duration": 0,
    "start_time": "2022-12-29T13:24:21.399Z"
   },
   {
    "duration": 98,
    "start_time": "2022-12-29T13:24:37.052Z"
   },
   {
    "duration": 1314,
    "start_time": "2022-12-29T13:24:44.561Z"
   },
   {
    "duration": 32,
    "start_time": "2022-12-29T13:24:45.877Z"
   },
   {
    "duration": 15,
    "start_time": "2022-12-29T13:24:45.910Z"
   },
   {
    "duration": 1931,
    "start_time": "2022-12-29T13:24:45.927Z"
   },
   {
    "duration": 80,
    "start_time": "2022-12-29T13:24:47.860Z"
   },
   {
    "duration": 14,
    "start_time": "2022-12-29T13:24:47.942Z"
   },
   {
    "duration": 54,
    "start_time": "2022-12-29T13:24:47.958Z"
   },
   {
    "duration": 0,
    "start_time": "2022-12-29T13:24:48.017Z"
   },
   {
    "duration": 0,
    "start_time": "2022-12-29T13:24:48.018Z"
   },
   {
    "duration": 0,
    "start_time": "2022-12-29T13:24:48.019Z"
   },
   {
    "duration": 0,
    "start_time": "2022-12-29T13:24:48.020Z"
   },
   {
    "duration": 0,
    "start_time": "2022-12-29T13:24:48.022Z"
   },
   {
    "duration": 0,
    "start_time": "2022-12-29T13:24:48.023Z"
   },
   {
    "duration": 0,
    "start_time": "2022-12-29T13:24:48.024Z"
   },
   {
    "duration": 0,
    "start_time": "2022-12-29T13:24:48.025Z"
   },
   {
    "duration": 0,
    "start_time": "2022-12-29T13:24:48.027Z"
   },
   {
    "duration": 0,
    "start_time": "2022-12-29T13:24:48.028Z"
   },
   {
    "duration": 0,
    "start_time": "2022-12-29T13:24:48.029Z"
   },
   {
    "duration": 0,
    "start_time": "2022-12-29T13:24:48.030Z"
   },
   {
    "duration": 0,
    "start_time": "2022-12-29T13:24:48.031Z"
   },
   {
    "duration": 0,
    "start_time": "2022-12-29T13:24:48.032Z"
   },
   {
    "duration": 0,
    "start_time": "2022-12-29T13:24:48.034Z"
   },
   {
    "duration": 1,
    "start_time": "2022-12-29T13:24:48.034Z"
   },
   {
    "duration": 0,
    "start_time": "2022-12-29T13:24:48.036Z"
   },
   {
    "duration": 0,
    "start_time": "2022-12-29T13:24:48.037Z"
   },
   {
    "duration": 0,
    "start_time": "2022-12-29T13:24:48.038Z"
   },
   {
    "duration": 0,
    "start_time": "2022-12-29T13:24:48.039Z"
   },
   {
    "duration": 0,
    "start_time": "2022-12-29T13:24:48.040Z"
   },
   {
    "duration": 0,
    "start_time": "2022-12-29T13:24:48.041Z"
   },
   {
    "duration": 0,
    "start_time": "2022-12-29T13:24:48.042Z"
   },
   {
    "duration": 0,
    "start_time": "2022-12-29T13:24:48.043Z"
   },
   {
    "duration": 0,
    "start_time": "2022-12-29T13:24:48.044Z"
   },
   {
    "duration": 0,
    "start_time": "2022-12-29T13:24:48.045Z"
   },
   {
    "duration": 0,
    "start_time": "2022-12-29T13:24:48.046Z"
   },
   {
    "duration": 0,
    "start_time": "2022-12-29T13:24:48.047Z"
   },
   {
    "duration": 0,
    "start_time": "2022-12-29T13:24:48.048Z"
   },
   {
    "duration": 0,
    "start_time": "2022-12-29T13:24:48.049Z"
   },
   {
    "duration": 0,
    "start_time": "2022-12-29T13:24:48.050Z"
   },
   {
    "duration": 0,
    "start_time": "2022-12-29T13:24:48.052Z"
   },
   {
    "duration": 0,
    "start_time": "2022-12-29T13:24:48.098Z"
   },
   {
    "duration": 0,
    "start_time": "2022-12-29T13:24:48.099Z"
   },
   {
    "duration": 0,
    "start_time": "2022-12-29T13:24:48.100Z"
   },
   {
    "duration": 0,
    "start_time": "2022-12-29T13:24:48.101Z"
   },
   {
    "duration": 0,
    "start_time": "2022-12-29T13:24:48.103Z"
   },
   {
    "duration": 0,
    "start_time": "2022-12-29T13:24:48.104Z"
   },
   {
    "duration": 0,
    "start_time": "2022-12-29T13:24:48.105Z"
   },
   {
    "duration": 0,
    "start_time": "2022-12-29T13:24:48.106Z"
   },
   {
    "duration": 0,
    "start_time": "2022-12-29T13:24:48.107Z"
   },
   {
    "duration": 0,
    "start_time": "2022-12-29T13:24:48.108Z"
   },
   {
    "duration": 0,
    "start_time": "2022-12-29T13:24:48.109Z"
   },
   {
    "duration": 0,
    "start_time": "2022-12-29T13:24:48.110Z"
   },
   {
    "duration": 0,
    "start_time": "2022-12-29T13:24:48.111Z"
   },
   {
    "duration": 0,
    "start_time": "2022-12-29T13:24:48.112Z"
   },
   {
    "duration": 0,
    "start_time": "2022-12-29T13:24:48.113Z"
   },
   {
    "duration": 0,
    "start_time": "2022-12-29T13:24:48.114Z"
   },
   {
    "duration": 0,
    "start_time": "2022-12-29T13:24:48.115Z"
   },
   {
    "duration": 0,
    "start_time": "2022-12-29T13:24:48.117Z"
   },
   {
    "duration": 0,
    "start_time": "2022-12-29T13:24:48.118Z"
   },
   {
    "duration": 0,
    "start_time": "2022-12-29T13:24:48.119Z"
   },
   {
    "duration": 0,
    "start_time": "2022-12-29T13:24:48.119Z"
   },
   {
    "duration": 0,
    "start_time": "2022-12-29T13:24:48.120Z"
   },
   {
    "duration": 0,
    "start_time": "2022-12-29T13:24:48.122Z"
   },
   {
    "duration": 0,
    "start_time": "2022-12-29T13:24:48.123Z"
   },
   {
    "duration": 0,
    "start_time": "2022-12-29T13:24:48.124Z"
   },
   {
    "duration": 0,
    "start_time": "2022-12-29T13:24:48.125Z"
   },
   {
    "duration": 0,
    "start_time": "2022-12-29T13:24:48.126Z"
   },
   {
    "duration": 0,
    "start_time": "2022-12-29T13:24:48.127Z"
   },
   {
    "duration": 0,
    "start_time": "2022-12-29T13:24:48.128Z"
   },
   {
    "duration": 1,
    "start_time": "2022-12-29T13:24:48.128Z"
   },
   {
    "duration": 0,
    "start_time": "2022-12-29T13:24:48.130Z"
   },
   {
    "duration": 0,
    "start_time": "2022-12-29T13:24:48.131Z"
   },
   {
    "duration": 0,
    "start_time": "2022-12-29T13:24:48.132Z"
   },
   {
    "duration": 0,
    "start_time": "2022-12-29T13:24:48.133Z"
   },
   {
    "duration": 0,
    "start_time": "2022-12-29T13:24:48.134Z"
   },
   {
    "duration": 0,
    "start_time": "2022-12-29T13:24:48.198Z"
   },
   {
    "duration": 0,
    "start_time": "2022-12-29T13:24:48.201Z"
   },
   {
    "duration": 0,
    "start_time": "2022-12-29T13:24:48.202Z"
   },
   {
    "duration": 0,
    "start_time": "2022-12-29T13:24:48.204Z"
   },
   {
    "duration": 0,
    "start_time": "2022-12-29T13:24:48.205Z"
   },
   {
    "duration": 0,
    "start_time": "2022-12-29T13:24:48.206Z"
   },
   {
    "duration": 0,
    "start_time": "2022-12-29T13:24:48.208Z"
   },
   {
    "duration": 0,
    "start_time": "2022-12-29T13:24:48.209Z"
   },
   {
    "duration": 0,
    "start_time": "2022-12-29T13:24:48.210Z"
   },
   {
    "duration": 0,
    "start_time": "2022-12-29T13:24:48.211Z"
   },
   {
    "duration": 0,
    "start_time": "2022-12-29T13:24:48.212Z"
   },
   {
    "duration": 0,
    "start_time": "2022-12-29T13:24:48.214Z"
   },
   {
    "duration": 0,
    "start_time": "2022-12-29T13:24:48.215Z"
   },
   {
    "duration": 0,
    "start_time": "2022-12-29T13:24:48.216Z"
   },
   {
    "duration": 0,
    "start_time": "2022-12-29T13:24:48.217Z"
   },
   {
    "duration": 0,
    "start_time": "2022-12-29T13:24:48.218Z"
   },
   {
    "duration": 0,
    "start_time": "2022-12-29T13:24:48.220Z"
   },
   {
    "duration": 0,
    "start_time": "2022-12-29T13:24:48.221Z"
   },
   {
    "duration": 0,
    "start_time": "2022-12-29T13:24:48.222Z"
   },
   {
    "duration": 0,
    "start_time": "2022-12-29T13:24:48.223Z"
   },
   {
    "duration": 0,
    "start_time": "2022-12-29T13:24:48.224Z"
   },
   {
    "duration": 0,
    "start_time": "2022-12-29T13:24:48.225Z"
   },
   {
    "duration": 0,
    "start_time": "2022-12-29T13:24:48.226Z"
   },
   {
    "duration": 0,
    "start_time": "2022-12-29T13:24:48.227Z"
   },
   {
    "duration": 0,
    "start_time": "2022-12-29T13:24:48.228Z"
   },
   {
    "duration": 0,
    "start_time": "2022-12-29T13:24:48.229Z"
   },
   {
    "duration": 0,
    "start_time": "2022-12-29T13:24:48.230Z"
   },
   {
    "duration": 0,
    "start_time": "2022-12-29T13:24:48.231Z"
   },
   {
    "duration": 0,
    "start_time": "2022-12-29T13:24:48.232Z"
   },
   {
    "duration": 0,
    "start_time": "2022-12-29T13:24:48.233Z"
   },
   {
    "duration": 0,
    "start_time": "2022-12-29T13:24:48.234Z"
   },
   {
    "duration": 0,
    "start_time": "2022-12-29T13:24:48.298Z"
   },
   {
    "duration": 0,
    "start_time": "2022-12-29T13:24:48.299Z"
   },
   {
    "duration": 0,
    "start_time": "2022-12-29T13:24:48.300Z"
   },
   {
    "duration": 0,
    "start_time": "2022-12-29T13:24:48.301Z"
   },
   {
    "duration": 0,
    "start_time": "2022-12-29T13:24:48.302Z"
   },
   {
    "duration": 0,
    "start_time": "2022-12-29T13:24:48.304Z"
   },
   {
    "duration": 10,
    "start_time": "2022-12-29T13:24:56.843Z"
   },
   {
    "duration": 14,
    "start_time": "2022-12-29T13:24:58.984Z"
   },
   {
    "duration": 95,
    "start_time": "2022-12-29T13:25:01.686Z"
   },
   {
    "duration": 13,
    "start_time": "2022-12-29T13:25:16.932Z"
   },
   {
    "duration": 46,
    "start_time": "2022-12-29T13:28:13.505Z"
   },
   {
    "duration": 52,
    "start_time": "2022-12-29T13:28:26.519Z"
   },
   {
    "duration": 20,
    "start_time": "2022-12-29T13:28:30.124Z"
   },
   {
    "duration": 7,
    "start_time": "2022-12-29T13:28:33.282Z"
   },
   {
    "duration": 14,
    "start_time": "2022-12-29T13:28:36.803Z"
   },
   {
    "duration": 11,
    "start_time": "2022-12-29T13:28:40.438Z"
   },
   {
    "duration": 1264,
    "start_time": "2022-12-29T23:44:34.281Z"
   },
   {
    "duration": 29,
    "start_time": "2022-12-29T23:44:35.547Z"
   },
   {
    "duration": 15,
    "start_time": "2022-12-29T23:44:35.581Z"
   },
   {
    "duration": 2156,
    "start_time": "2022-12-29T23:44:35.598Z"
   },
   {
    "duration": 89,
    "start_time": "2022-12-29T23:44:37.757Z"
   },
   {
    "duration": 11,
    "start_time": "2022-12-29T23:44:37.848Z"
   },
   {
    "duration": 11,
    "start_time": "2022-12-29T23:44:37.861Z"
   },
   {
    "duration": 12,
    "start_time": "2022-12-29T23:44:37.874Z"
   },
   {
    "duration": 8,
    "start_time": "2022-12-29T23:44:37.889Z"
   },
   {
    "duration": 45,
    "start_time": "2022-12-29T23:44:37.898Z"
   },
   {
    "duration": 7,
    "start_time": "2022-12-29T23:44:37.945Z"
   },
   {
    "duration": 17,
    "start_time": "2022-12-29T23:44:37.954Z"
   },
   {
    "duration": 11,
    "start_time": "2022-12-29T23:44:37.974Z"
   },
   {
    "duration": 15,
    "start_time": "2022-12-29T23:44:37.987Z"
   },
   {
    "duration": 55,
    "start_time": "2022-12-29T23:44:38.004Z"
   },
   {
    "duration": 7,
    "start_time": "2022-12-29T23:44:38.061Z"
   },
   {
    "duration": 15,
    "start_time": "2022-12-29T23:44:38.070Z"
   },
   {
    "duration": 8,
    "start_time": "2022-12-29T23:44:38.087Z"
   },
   {
    "duration": 145,
    "start_time": "2022-12-29T23:44:38.097Z"
   },
   {
    "duration": 5,
    "start_time": "2022-12-29T23:44:38.244Z"
   },
   {
    "duration": 15,
    "start_time": "2022-12-29T23:44:38.251Z"
   },
   {
    "duration": 55,
    "start_time": "2022-12-29T23:44:38.268Z"
   },
   {
    "duration": 16,
    "start_time": "2022-12-29T23:44:38.325Z"
   },
   {
    "duration": 22,
    "start_time": "2022-12-29T23:44:38.342Z"
   },
   {
    "duration": 19,
    "start_time": "2022-12-29T23:44:38.366Z"
   },
   {
    "duration": 81,
    "start_time": "2022-12-29T23:44:38.387Z"
   },
   {
    "duration": 8,
    "start_time": "2022-12-29T23:44:38.472Z"
   },
   {
    "duration": 13,
    "start_time": "2022-12-29T23:44:38.482Z"
   },
   {
    "duration": 7,
    "start_time": "2022-12-29T23:44:38.497Z"
   },
   {
    "duration": 30,
    "start_time": "2022-12-29T23:44:38.506Z"
   },
   {
    "duration": 358,
    "start_time": "2022-12-29T23:44:38.538Z"
   },
   {
    "duration": 7,
    "start_time": "2022-12-29T23:44:38.898Z"
   },
   {
    "duration": 18,
    "start_time": "2022-12-29T23:44:38.906Z"
   },
   {
    "duration": 88,
    "start_time": "2022-12-29T23:44:38.935Z"
   },
   {
    "duration": 180,
    "start_time": "2022-12-29T23:44:39.035Z"
   },
   {
    "duration": 102,
    "start_time": "2022-12-29T23:44:39.216Z"
   },
   {
    "duration": 216,
    "start_time": "2022-12-29T23:44:39.320Z"
   },
   {
    "duration": 8,
    "start_time": "2022-12-29T23:44:39.538Z"
   },
   {
    "duration": 8,
    "start_time": "2022-12-29T23:44:39.548Z"
   },
   {
    "duration": 127,
    "start_time": "2022-12-29T23:44:39.558Z"
   },
   {
    "duration": 199,
    "start_time": "2022-12-29T23:44:39.686Z"
   },
   {
    "duration": 213,
    "start_time": "2022-12-29T23:44:39.887Z"
   },
   {
    "duration": 205,
    "start_time": "2022-12-29T23:44:40.101Z"
   },
   {
    "duration": 10,
    "start_time": "2022-12-29T23:44:40.307Z"
   },
   {
    "duration": 24,
    "start_time": "2022-12-29T23:44:40.319Z"
   },
   {
    "duration": 109,
    "start_time": "2022-12-29T23:44:40.345Z"
   },
   {
    "duration": 189,
    "start_time": "2022-12-29T23:44:40.456Z"
   },
   {
    "duration": 101,
    "start_time": "2022-12-29T23:44:40.646Z"
   },
   {
    "duration": 216,
    "start_time": "2022-12-29T23:44:40.749Z"
   },
   {
    "duration": 10,
    "start_time": "2022-12-29T23:44:40.967Z"
   },
   {
    "duration": 13,
    "start_time": "2022-12-29T23:44:40.979Z"
   },
   {
    "duration": 126,
    "start_time": "2022-12-29T23:44:40.994Z"
   },
   {
    "duration": 271,
    "start_time": "2022-12-29T23:44:41.122Z"
   },
   {
    "duration": 104,
    "start_time": "2022-12-29T23:44:41.395Z"
   },
   {
    "duration": 217,
    "start_time": "2022-12-29T23:44:41.501Z"
   },
   {
    "duration": 17,
    "start_time": "2022-12-29T23:44:41.720Z"
   },
   {
    "duration": 5,
    "start_time": "2022-12-29T23:44:41.739Z"
   },
   {
    "duration": 226,
    "start_time": "2022-12-29T23:44:41.745Z"
   },
   {
    "duration": 9,
    "start_time": "2022-12-29T23:44:41.973Z"
   },
   {
    "duration": 239,
    "start_time": "2022-12-29T23:44:41.984Z"
   },
   {
    "duration": 159,
    "start_time": "2022-12-29T23:44:42.235Z"
   },
   {
    "duration": 11,
    "start_time": "2022-12-29T23:44:42.395Z"
   },
   {
    "duration": 150,
    "start_time": "2022-12-29T23:44:42.408Z"
   },
   {
    "duration": 206,
    "start_time": "2022-12-29T23:44:42.560Z"
   },
   {
    "duration": 8,
    "start_time": "2022-12-29T23:44:42.767Z"
   },
   {
    "duration": 144,
    "start_time": "2022-12-29T23:44:42.777Z"
   },
   {
    "duration": 21,
    "start_time": "2022-12-29T23:44:42.923Z"
   },
   {
    "duration": 115,
    "start_time": "2022-12-29T23:44:42.946Z"
   },
   {
    "duration": 218,
    "start_time": "2022-12-29T23:44:43.064Z"
   },
   {
    "duration": 107,
    "start_time": "2022-12-29T23:44:43.284Z"
   },
   {
    "duration": 181,
    "start_time": "2022-12-29T23:44:43.393Z"
   },
   {
    "duration": 8,
    "start_time": "2022-12-29T23:44:43.576Z"
   },
   {
    "duration": 5,
    "start_time": "2022-12-29T23:44:43.586Z"
   },
   {
    "duration": 15,
    "start_time": "2022-12-29T23:44:43.593Z"
   },
   {
    "duration": 126,
    "start_time": "2022-12-29T23:44:43.609Z"
   },
   {
    "duration": 289,
    "start_time": "2022-12-29T23:44:43.737Z"
   },
   {
    "duration": 109,
    "start_time": "2022-12-29T23:44:44.028Z"
   },
   {
    "duration": 281,
    "start_time": "2022-12-29T23:44:44.138Z"
   },
   {
    "duration": 16,
    "start_time": "2022-12-29T23:44:44.420Z"
   },
   {
    "duration": 11,
    "start_time": "2022-12-29T23:44:44.437Z"
   },
   {
    "duration": 103,
    "start_time": "2022-12-29T23:44:44.454Z"
   },
   {
    "duration": 393,
    "start_time": "2022-12-29T23:44:44.559Z"
   },
   {
    "duration": 111,
    "start_time": "2022-12-29T23:44:44.953Z"
   },
   {
    "duration": 198,
    "start_time": "2022-12-29T23:44:45.066Z"
   },
   {
    "duration": 9,
    "start_time": "2022-12-29T23:44:45.265Z"
   },
   {
    "duration": 16,
    "start_time": "2022-12-29T23:44:45.275Z"
   },
   {
    "duration": 112,
    "start_time": "2022-12-29T23:44:45.292Z"
   },
   {
    "duration": 204,
    "start_time": "2022-12-29T23:44:45.406Z"
   },
   {
    "duration": 104,
    "start_time": "2022-12-29T23:44:45.612Z"
   },
   {
    "duration": 221,
    "start_time": "2022-12-29T23:44:45.718Z"
   },
   {
    "duration": 9,
    "start_time": "2022-12-29T23:44:45.940Z"
   },
   {
    "duration": 10,
    "start_time": "2022-12-29T23:44:45.950Z"
   },
   {
    "duration": 194,
    "start_time": "2022-12-29T23:44:45.962Z"
   },
   {
    "duration": 6,
    "start_time": "2022-12-29T23:44:46.158Z"
   },
   {
    "duration": 224,
    "start_time": "2022-12-29T23:44:46.165Z"
   },
   {
    "duration": 9,
    "start_time": "2022-12-29T23:44:46.391Z"
   },
   {
    "duration": 123,
    "start_time": "2022-12-29T23:44:46.402Z"
   },
   {
    "duration": 263,
    "start_time": "2022-12-29T23:44:46.527Z"
   },
   {
    "duration": 7,
    "start_time": "2022-12-29T23:44:46.791Z"
   },
   {
    "duration": 221,
    "start_time": "2022-12-29T23:44:46.800Z"
   },
   {
    "duration": 24,
    "start_time": "2022-12-29T23:44:47.023Z"
   },
   {
    "duration": 11,
    "start_time": "2022-12-29T23:44:47.049Z"
   },
   {
    "duration": 18,
    "start_time": "2022-12-29T23:44:47.061Z"
   },
   {
    "duration": 254,
    "start_time": "2022-12-29T23:44:47.081Z"
   },
   {
    "duration": 136,
    "start_time": "2022-12-29T23:44:47.337Z"
   },
   {
    "duration": 390,
    "start_time": "2022-12-29T23:44:47.475Z"
   },
   {
    "duration": 258,
    "start_time": "2022-12-29T23:44:47.867Z"
   },
   {
    "duration": 883,
    "start_time": "2022-12-29T23:44:48.127Z"
   },
   {
    "duration": 3952,
    "start_time": "2022-12-29T23:44:49.012Z"
   },
   {
    "duration": 9,
    "start_time": "2022-12-29T23:44:52.966Z"
   },
   {
    "duration": 31,
    "start_time": "2022-12-29T23:44:52.977Z"
   },
   {
    "duration": 36,
    "start_time": "2022-12-29T23:44:53.010Z"
   },
   {
    "duration": 16,
    "start_time": "2022-12-29T23:44:53.048Z"
   },
   {
    "duration": 38,
    "start_time": "2022-12-29T23:44:53.066Z"
   },
   {
    "duration": 5,
    "start_time": "2022-12-29T23:44:53.106Z"
   },
   {
    "duration": 213,
    "start_time": "2022-12-29T23:44:53.112Z"
   },
   {
    "duration": 15,
    "start_time": "2022-12-29T23:47:53.771Z"
   }
  ],
  "colab": {
   "provenance": []
  },
  "kernelspec": {
   "display_name": "Python 3 (ipykernel)",
   "language": "python",
   "name": "python3"
  },
  "language_info": {
   "codemirror_mode": {
    "name": "ipython",
    "version": 3
   },
   "file_extension": ".py",
   "mimetype": "text/x-python",
   "name": "python",
   "nbconvert_exporter": "python",
   "pygments_lexer": "ipython3",
   "version": "3.9.5"
  },
  "toc": {
   "base_numbering": 1,
   "nav_menu": {},
   "number_sections": true,
   "sideBar": true,
   "skip_h1_title": true,
   "title_cell": "Table of Contents",
   "title_sidebar": "Contents",
   "toc_cell": false,
   "toc_position": {
    "height": "calc(100% - 180px)",
    "left": "10px",
    "top": "150px",
    "width": "356.594px"
   },
   "toc_section_display": true,
   "toc_window_display": true
  }
 },
 "nbformat": 4,
 "nbformat_minor": 1
}
