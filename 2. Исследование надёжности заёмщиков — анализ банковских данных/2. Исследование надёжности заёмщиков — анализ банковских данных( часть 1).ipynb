{
 "cells": [
  {
   "cell_type": "markdown",
   "id": "c81daeeb",
   "metadata": {
    "deletable": false,
    "editable": false,
    "id": "c81daeeb"
   },
   "source": [
    "# Исследование надежности заемщиков"
   ]
  },
  {
   "cell_type": "markdown",
   "id": "-G3EJWzf62s6",
   "metadata": {
    "deletable": false,
    "editable": false,
    "id": "-G3EJWzf62s6"
   },
   "source": [
    "Это первая часть проекта, она будет проверена автоматически. Вторую часть проверит ревьюер. "
   ]
  },
  {
   "cell_type": "markdown",
   "id": "744d7639",
   "metadata": {
    "deletable": false,
    "editable": false,
    "id": "744d7639"
   },
   "source": [
    "## Откройте таблицу и изучите общую информацию о данных"
   ]
  },
  {
   "cell_type": "markdown",
   "id": "e7a14c31",
   "metadata": {
    "deletable": false,
    "editable": false,
    "id": "e7a14c31",
    "tags": [
     "start_task"
    ]
   },
   "source": [
    "**Задание 1. Импортируйте библиотеку pandas. Считайте данные из csv-файла в датафрейм и сохраните в переменную `data`. Путь к файлу:**\n",
    "\n",
    "`/datasets/data.csv`"
   ]
  },
  {
   "cell_type": "code",
   "execution_count": 1,
   "id": "7bcf75c9",
   "metadata": {
    "id": "7bcf75c9"
   },
   "outputs": [],
   "source": [
    "import pandas as pd# импортируйте библиотеку pandas"
   ]
  },
  {
   "cell_type": "code",
   "execution_count": 2,
   "id": "4d240ee2",
   "metadata": {
    "id": "4d240ee2"
   },
   "outputs": [],
   "source": [
    "data = pd.read_csv('/datasets/data.csv')# прочитайте csv-файл"
   ]
  },
  {
   "cell_type": "markdown",
   "id": "b8038fe3",
   "metadata": {
    "deletable": false,
    "editable": false,
    "id": "b8038fe3",
    "tags": [
     "start_task"
    ]
   },
   "source": [
    "**Задание 2. Выведите первые 20 строчек датафрейма `data` на экран.**"
   ]
  },
  {
   "cell_type": "code",
   "execution_count": 3,
   "id": "2a7cab99",
   "metadata": {
    "id": "2a7cab99"
   },
   "outputs": [
    {
     "data": {
      "text/html": [
       "<div>\n",
       "<style scoped>\n",
       "    .dataframe tbody tr th:only-of-type {\n",
       "        vertical-align: middle;\n",
       "    }\n",
       "\n",
       "    .dataframe tbody tr th {\n",
       "        vertical-align: top;\n",
       "    }\n",
       "\n",
       "    .dataframe thead th {\n",
       "        text-align: right;\n",
       "    }\n",
       "</style>\n",
       "<table border=\"1\" class=\"dataframe\">\n",
       "  <thead>\n",
       "    <tr style=\"text-align: right;\">\n",
       "      <th></th>\n",
       "      <th>children</th>\n",
       "      <th>days_employed</th>\n",
       "      <th>dob_years</th>\n",
       "      <th>education</th>\n",
       "      <th>education_id</th>\n",
       "      <th>family_status</th>\n",
       "      <th>family_status_id</th>\n",
       "      <th>gender</th>\n",
       "      <th>income_type</th>\n",
       "      <th>debt</th>\n",
       "      <th>total_income</th>\n",
       "      <th>purpose</th>\n",
       "    </tr>\n",
       "  </thead>\n",
       "  <tbody>\n",
       "    <tr>\n",
       "      <th>0</th>\n",
       "      <td>1</td>\n",
       "      <td>-8437.673028</td>\n",
       "      <td>42</td>\n",
       "      <td>высшее</td>\n",
       "      <td>0</td>\n",
       "      <td>женат / замужем</td>\n",
       "      <td>0</td>\n",
       "      <td>F</td>\n",
       "      <td>сотрудник</td>\n",
       "      <td>0</td>\n",
       "      <td>253875.639453</td>\n",
       "      <td>покупка жилья</td>\n",
       "    </tr>\n",
       "    <tr>\n",
       "      <th>1</th>\n",
       "      <td>1</td>\n",
       "      <td>-4024.803754</td>\n",
       "      <td>36</td>\n",
       "      <td>среднее</td>\n",
       "      <td>1</td>\n",
       "      <td>женат / замужем</td>\n",
       "      <td>0</td>\n",
       "      <td>F</td>\n",
       "      <td>сотрудник</td>\n",
       "      <td>0</td>\n",
       "      <td>112080.014102</td>\n",
       "      <td>приобретение автомобиля</td>\n",
       "    </tr>\n",
       "    <tr>\n",
       "      <th>2</th>\n",
       "      <td>0</td>\n",
       "      <td>-5623.422610</td>\n",
       "      <td>33</td>\n",
       "      <td>Среднее</td>\n",
       "      <td>1</td>\n",
       "      <td>женат / замужем</td>\n",
       "      <td>0</td>\n",
       "      <td>M</td>\n",
       "      <td>сотрудник</td>\n",
       "      <td>0</td>\n",
       "      <td>145885.952297</td>\n",
       "      <td>покупка жилья</td>\n",
       "    </tr>\n",
       "    <tr>\n",
       "      <th>3</th>\n",
       "      <td>3</td>\n",
       "      <td>-4124.747207</td>\n",
       "      <td>32</td>\n",
       "      <td>среднее</td>\n",
       "      <td>1</td>\n",
       "      <td>женат / замужем</td>\n",
       "      <td>0</td>\n",
       "      <td>M</td>\n",
       "      <td>сотрудник</td>\n",
       "      <td>0</td>\n",
       "      <td>267628.550329</td>\n",
       "      <td>дополнительное образование</td>\n",
       "    </tr>\n",
       "    <tr>\n",
       "      <th>4</th>\n",
       "      <td>0</td>\n",
       "      <td>340266.072047</td>\n",
       "      <td>53</td>\n",
       "      <td>среднее</td>\n",
       "      <td>1</td>\n",
       "      <td>гражданский брак</td>\n",
       "      <td>1</td>\n",
       "      <td>F</td>\n",
       "      <td>пенсионер</td>\n",
       "      <td>0</td>\n",
       "      <td>158616.077870</td>\n",
       "      <td>сыграть свадьбу</td>\n",
       "    </tr>\n",
       "    <tr>\n",
       "      <th>5</th>\n",
       "      <td>0</td>\n",
       "      <td>-926.185831</td>\n",
       "      <td>27</td>\n",
       "      <td>высшее</td>\n",
       "      <td>0</td>\n",
       "      <td>гражданский брак</td>\n",
       "      <td>1</td>\n",
       "      <td>M</td>\n",
       "      <td>компаньон</td>\n",
       "      <td>0</td>\n",
       "      <td>255763.565419</td>\n",
       "      <td>покупка жилья</td>\n",
       "    </tr>\n",
       "    <tr>\n",
       "      <th>6</th>\n",
       "      <td>0</td>\n",
       "      <td>-2879.202052</td>\n",
       "      <td>43</td>\n",
       "      <td>высшее</td>\n",
       "      <td>0</td>\n",
       "      <td>женат / замужем</td>\n",
       "      <td>0</td>\n",
       "      <td>F</td>\n",
       "      <td>компаньон</td>\n",
       "      <td>0</td>\n",
       "      <td>240525.971920</td>\n",
       "      <td>операции с жильем</td>\n",
       "    </tr>\n",
       "    <tr>\n",
       "      <th>7</th>\n",
       "      <td>0</td>\n",
       "      <td>-152.779569</td>\n",
       "      <td>50</td>\n",
       "      <td>СРЕДНЕЕ</td>\n",
       "      <td>1</td>\n",
       "      <td>женат / замужем</td>\n",
       "      <td>0</td>\n",
       "      <td>M</td>\n",
       "      <td>сотрудник</td>\n",
       "      <td>0</td>\n",
       "      <td>135823.934197</td>\n",
       "      <td>образование</td>\n",
       "    </tr>\n",
       "    <tr>\n",
       "      <th>8</th>\n",
       "      <td>2</td>\n",
       "      <td>-6929.865299</td>\n",
       "      <td>35</td>\n",
       "      <td>ВЫСШЕЕ</td>\n",
       "      <td>0</td>\n",
       "      <td>гражданский брак</td>\n",
       "      <td>1</td>\n",
       "      <td>F</td>\n",
       "      <td>сотрудник</td>\n",
       "      <td>0</td>\n",
       "      <td>95856.832424</td>\n",
       "      <td>на проведение свадьбы</td>\n",
       "    </tr>\n",
       "    <tr>\n",
       "      <th>9</th>\n",
       "      <td>0</td>\n",
       "      <td>-2188.756445</td>\n",
       "      <td>41</td>\n",
       "      <td>среднее</td>\n",
       "      <td>1</td>\n",
       "      <td>женат / замужем</td>\n",
       "      <td>0</td>\n",
       "      <td>M</td>\n",
       "      <td>сотрудник</td>\n",
       "      <td>0</td>\n",
       "      <td>144425.938277</td>\n",
       "      <td>покупка жилья для семьи</td>\n",
       "    </tr>\n",
       "    <tr>\n",
       "      <th>10</th>\n",
       "      <td>2</td>\n",
       "      <td>-4171.483647</td>\n",
       "      <td>36</td>\n",
       "      <td>высшее</td>\n",
       "      <td>0</td>\n",
       "      <td>женат / замужем</td>\n",
       "      <td>0</td>\n",
       "      <td>M</td>\n",
       "      <td>компаньон</td>\n",
       "      <td>0</td>\n",
       "      <td>113943.491460</td>\n",
       "      <td>покупка недвижимости</td>\n",
       "    </tr>\n",
       "    <tr>\n",
       "      <th>11</th>\n",
       "      <td>0</td>\n",
       "      <td>-792.701887</td>\n",
       "      <td>40</td>\n",
       "      <td>среднее</td>\n",
       "      <td>1</td>\n",
       "      <td>женат / замужем</td>\n",
       "      <td>0</td>\n",
       "      <td>F</td>\n",
       "      <td>сотрудник</td>\n",
       "      <td>0</td>\n",
       "      <td>77069.234271</td>\n",
       "      <td>покупка коммерческой недвижимости</td>\n",
       "    </tr>\n",
       "    <tr>\n",
       "      <th>12</th>\n",
       "      <td>0</td>\n",
       "      <td>NaN</td>\n",
       "      <td>65</td>\n",
       "      <td>среднее</td>\n",
       "      <td>1</td>\n",
       "      <td>гражданский брак</td>\n",
       "      <td>1</td>\n",
       "      <td>M</td>\n",
       "      <td>пенсионер</td>\n",
       "      <td>0</td>\n",
       "      <td>NaN</td>\n",
       "      <td>сыграть свадьбу</td>\n",
       "    </tr>\n",
       "    <tr>\n",
       "      <th>13</th>\n",
       "      <td>0</td>\n",
       "      <td>-1846.641941</td>\n",
       "      <td>54</td>\n",
       "      <td>неоконченное высшее</td>\n",
       "      <td>2</td>\n",
       "      <td>женат / замужем</td>\n",
       "      <td>0</td>\n",
       "      <td>F</td>\n",
       "      <td>сотрудник</td>\n",
       "      <td>0</td>\n",
       "      <td>130458.228857</td>\n",
       "      <td>приобретение автомобиля</td>\n",
       "    </tr>\n",
       "    <tr>\n",
       "      <th>14</th>\n",
       "      <td>0</td>\n",
       "      <td>-1844.956182</td>\n",
       "      <td>56</td>\n",
       "      <td>высшее</td>\n",
       "      <td>0</td>\n",
       "      <td>гражданский брак</td>\n",
       "      <td>1</td>\n",
       "      <td>F</td>\n",
       "      <td>компаньон</td>\n",
       "      <td>1</td>\n",
       "      <td>165127.911772</td>\n",
       "      <td>покупка жилой недвижимости</td>\n",
       "    </tr>\n",
       "    <tr>\n",
       "      <th>15</th>\n",
       "      <td>1</td>\n",
       "      <td>-972.364419</td>\n",
       "      <td>26</td>\n",
       "      <td>среднее</td>\n",
       "      <td>1</td>\n",
       "      <td>женат / замужем</td>\n",
       "      <td>0</td>\n",
       "      <td>F</td>\n",
       "      <td>сотрудник</td>\n",
       "      <td>0</td>\n",
       "      <td>116820.904450</td>\n",
       "      <td>строительство собственной недвижимости</td>\n",
       "    </tr>\n",
       "    <tr>\n",
       "      <th>16</th>\n",
       "      <td>0</td>\n",
       "      <td>-1719.934226</td>\n",
       "      <td>35</td>\n",
       "      <td>среднее</td>\n",
       "      <td>1</td>\n",
       "      <td>женат / замужем</td>\n",
       "      <td>0</td>\n",
       "      <td>F</td>\n",
       "      <td>сотрудник</td>\n",
       "      <td>0</td>\n",
       "      <td>289202.704229</td>\n",
       "      <td>недвижимость</td>\n",
       "    </tr>\n",
       "    <tr>\n",
       "      <th>17</th>\n",
       "      <td>0</td>\n",
       "      <td>-2369.999720</td>\n",
       "      <td>33</td>\n",
       "      <td>высшее</td>\n",
       "      <td>0</td>\n",
       "      <td>гражданский брак</td>\n",
       "      <td>1</td>\n",
       "      <td>M</td>\n",
       "      <td>сотрудник</td>\n",
       "      <td>0</td>\n",
       "      <td>90410.586745</td>\n",
       "      <td>строительство недвижимости</td>\n",
       "    </tr>\n",
       "    <tr>\n",
       "      <th>18</th>\n",
       "      <td>0</td>\n",
       "      <td>400281.136913</td>\n",
       "      <td>53</td>\n",
       "      <td>среднее</td>\n",
       "      <td>1</td>\n",
       "      <td>вдовец / вдова</td>\n",
       "      <td>2</td>\n",
       "      <td>F</td>\n",
       "      <td>пенсионер</td>\n",
       "      <td>0</td>\n",
       "      <td>56823.777243</td>\n",
       "      <td>на покупку подержанного автомобиля</td>\n",
       "    </tr>\n",
       "    <tr>\n",
       "      <th>19</th>\n",
       "      <td>0</td>\n",
       "      <td>-10038.818549</td>\n",
       "      <td>48</td>\n",
       "      <td>СРЕДНЕЕ</td>\n",
       "      <td>1</td>\n",
       "      <td>в разводе</td>\n",
       "      <td>3</td>\n",
       "      <td>F</td>\n",
       "      <td>сотрудник</td>\n",
       "      <td>0</td>\n",
       "      <td>242831.107982</td>\n",
       "      <td>на покупку своего автомобиля</td>\n",
       "    </tr>\n",
       "  </tbody>\n",
       "</table>\n",
       "</div>"
      ],
      "text/plain": [
       "    children  days_employed  dob_years            education  education_id  \\\n",
       "0          1   -8437.673028         42               высшее             0   \n",
       "1          1   -4024.803754         36              среднее             1   \n",
       "2          0   -5623.422610         33              Среднее             1   \n",
       "3          3   -4124.747207         32              среднее             1   \n",
       "4          0  340266.072047         53              среднее             1   \n",
       "5          0    -926.185831         27               высшее             0   \n",
       "6          0   -2879.202052         43               высшее             0   \n",
       "7          0    -152.779569         50              СРЕДНЕЕ             1   \n",
       "8          2   -6929.865299         35               ВЫСШЕЕ             0   \n",
       "9          0   -2188.756445         41              среднее             1   \n",
       "10         2   -4171.483647         36               высшее             0   \n",
       "11         0    -792.701887         40              среднее             1   \n",
       "12         0            NaN         65              среднее             1   \n",
       "13         0   -1846.641941         54  неоконченное высшее             2   \n",
       "14         0   -1844.956182         56               высшее             0   \n",
       "15         1    -972.364419         26              среднее             1   \n",
       "16         0   -1719.934226         35              среднее             1   \n",
       "17         0   -2369.999720         33               высшее             0   \n",
       "18         0  400281.136913         53              среднее             1   \n",
       "19         0  -10038.818549         48              СРЕДНЕЕ             1   \n",
       "\n",
       "       family_status  family_status_id gender income_type  debt  \\\n",
       "0    женат / замужем                 0      F   сотрудник     0   \n",
       "1    женат / замужем                 0      F   сотрудник     0   \n",
       "2    женат / замужем                 0      M   сотрудник     0   \n",
       "3    женат / замужем                 0      M   сотрудник     0   \n",
       "4   гражданский брак                 1      F   пенсионер     0   \n",
       "5   гражданский брак                 1      M   компаньон     0   \n",
       "6    женат / замужем                 0      F   компаньон     0   \n",
       "7    женат / замужем                 0      M   сотрудник     0   \n",
       "8   гражданский брак                 1      F   сотрудник     0   \n",
       "9    женат / замужем                 0      M   сотрудник     0   \n",
       "10   женат / замужем                 0      M   компаньон     0   \n",
       "11   женат / замужем                 0      F   сотрудник     0   \n",
       "12  гражданский брак                 1      M   пенсионер     0   \n",
       "13   женат / замужем                 0      F   сотрудник     0   \n",
       "14  гражданский брак                 1      F   компаньон     1   \n",
       "15   женат / замужем                 0      F   сотрудник     0   \n",
       "16   женат / замужем                 0      F   сотрудник     0   \n",
       "17  гражданский брак                 1      M   сотрудник     0   \n",
       "18    вдовец / вдова                 2      F   пенсионер     0   \n",
       "19         в разводе                 3      F   сотрудник     0   \n",
       "\n",
       "     total_income                                 purpose  \n",
       "0   253875.639453                           покупка жилья  \n",
       "1   112080.014102                 приобретение автомобиля  \n",
       "2   145885.952297                           покупка жилья  \n",
       "3   267628.550329              дополнительное образование  \n",
       "4   158616.077870                         сыграть свадьбу  \n",
       "5   255763.565419                           покупка жилья  \n",
       "6   240525.971920                       операции с жильем  \n",
       "7   135823.934197                             образование  \n",
       "8    95856.832424                   на проведение свадьбы  \n",
       "9   144425.938277                 покупка жилья для семьи  \n",
       "10  113943.491460                    покупка недвижимости  \n",
       "11   77069.234271       покупка коммерческой недвижимости  \n",
       "12            NaN                         сыграть свадьбу  \n",
       "13  130458.228857                 приобретение автомобиля  \n",
       "14  165127.911772              покупка жилой недвижимости  \n",
       "15  116820.904450  строительство собственной недвижимости  \n",
       "16  289202.704229                            недвижимость  \n",
       "17   90410.586745              строительство недвижимости  \n",
       "18   56823.777243      на покупку подержанного автомобиля  \n",
       "19  242831.107982            на покупку своего автомобиля  "
      ]
     },
     "execution_count": 3,
     "metadata": {},
     "output_type": "execute_result"
    }
   ],
   "source": [
    "data.head(20)# ваш код здесь"
   ]
  },
  {
   "cell_type": "markdown",
   "id": "1c12e233",
   "metadata": {
    "deletable": false,
    "editable": false,
    "id": "1c12e233",
    "tags": [
     "start_task"
    ]
   },
   "source": [
    "**Задание 3. Выведите основную информацию о датафрейме с помощью метода `info()`.**"
   ]
  },
  {
   "cell_type": "code",
   "execution_count": 4,
   "id": "2b757bca",
   "metadata": {
    "id": "2b757bca"
   },
   "outputs": [
    {
     "name": "stdout",
     "output_type": "stream",
     "text": [
      "<class 'pandas.core.frame.DataFrame'>\n",
      "RangeIndex: 21525 entries, 0 to 21524\n",
      "Data columns (total 12 columns):\n",
      " #   Column            Non-Null Count  Dtype  \n",
      "---  ------            --------------  -----  \n",
      " 0   children          21525 non-null  int64  \n",
      " 1   days_employed     19351 non-null  float64\n",
      " 2   dob_years         21525 non-null  int64  \n",
      " 3   education         21525 non-null  object \n",
      " 4   education_id      21525 non-null  int64  \n",
      " 5   family_status     21525 non-null  object \n",
      " 6   family_status_id  21525 non-null  int64  \n",
      " 7   gender            21525 non-null  object \n",
      " 8   income_type       21525 non-null  object \n",
      " 9   debt              21525 non-null  int64  \n",
      " 10  total_income      19351 non-null  float64\n",
      " 11  purpose           21525 non-null  object \n",
      "dtypes: float64(2), int64(5), object(5)\n",
      "memory usage: 2.0+ MB\n"
     ]
    }
   ],
   "source": [
    "data.info()# ваш код здесь"
   ]
  },
  {
   "cell_type": "markdown",
   "id": "333ec665",
   "metadata": {
    "deletable": false,
    "editable": false,
    "id": "333ec665"
   },
   "source": [
    "## Предобработка данных"
   ]
  },
  {
   "cell_type": "markdown",
   "id": "02d92d53",
   "metadata": {
    "deletable": false,
    "editable": false,
    "id": "02d92d53"
   },
   "source": [
    "### Удаление пропусков"
   ]
  },
  {
   "cell_type": "markdown",
   "id": "cd84967c",
   "metadata": {
    "deletable": false,
    "editable": false,
    "id": "cd84967c",
    "tags": [
     "start_task"
    ]
   },
   "source": [
    "**Задание 4. Выведите количество пропущенных значений для каждого столбца. Используйте комбинацию двух методов.**"
   ]
  },
  {
   "cell_type": "code",
   "execution_count": 5,
   "id": "7f9b2309",
   "metadata": {
    "id": "7f9b2309"
   },
   "outputs": [
    {
     "data": {
      "text/plain": [
       "children               0\n",
       "days_employed       2174\n",
       "dob_years              0\n",
       "education              0\n",
       "education_id           0\n",
       "family_status          0\n",
       "family_status_id       0\n",
       "gender                 0\n",
       "income_type            0\n",
       "debt                   0\n",
       "total_income        2174\n",
       "purpose                0\n",
       "dtype: int64"
      ]
     },
     "execution_count": 5,
     "metadata": {},
     "output_type": "execute_result"
    }
   ],
   "source": [
    "data.isna().sum()\n",
    "# ваш код здесь"
   ]
  },
  {
   "cell_type": "markdown",
   "id": "db86e27b",
   "metadata": {
    "deletable": false,
    "editable": false,
    "id": "db86e27b",
    "tags": [
     "start_task"
    ]
   },
   "source": [
    "**Задание 5. В двух столбцах есть пропущенные значения. Один из них — `days_employed`. Пропуски в этом столбце вы обработаете на следующем этапе. Другой столбец с пропущенными значениями — `total_income` — хранит данные о доходах. На сумму дохода сильнее всего влияет тип занятости, поэтому заполнить пропуски в этом столбце нужно медианным значением по каждому типу из столбца `income_type`. Например, у человека с типом занятости `сотрудник` пропуск в столбце `total_income` должен быть заполнен медианным доходом среди всех записей с тем же типом.**"
   ]
  },
  {
   "cell_type": "code",
   "execution_count": 6,
   "id": "42006a93",
   "metadata": {
    "id": "42006a93"
   },
   "outputs": [],
   "source": [
    "for i in data['income_type'].unique():\n",
    "    data.loc[(data['income_type']== i)&(data['total_income'].isna()),'total_income']=data.loc[(data['income_type'] ==i,'total_income')].median()"
   ]
  },
  {
   "cell_type": "markdown",
   "id": "89da5ece",
   "metadata": {
    "deletable": false,
    "editable": false,
    "id": "89da5ece"
   },
   "source": [
    "### Обработка аномальных значений"
   ]
  },
  {
   "cell_type": "markdown",
   "id": "57964554",
   "metadata": {
    "deletable": false,
    "editable": false,
    "id": "57964554",
    "tags": [
     "start_task"
    ]
   },
   "source": [
    "**Задание 6. В данных могут встречаться артефакты (аномалии) — значения, которые не отражают действительность и появились по какой-то ошибке. Таким артефактом будет отрицательное количество дней трудового стажа в столбце `days_employed`. Для реальных данных это нормально. Обработайте значения в этом столбце: замените все отрицательные значения положительными с помощью метода `abs()`.**"
   ]
  },
  {
   "cell_type": "code",
   "execution_count": 7,
   "id": "f6f055bf",
   "metadata": {
    "id": "f6f055bf"
   },
   "outputs": [],
   "source": [
    "data['days_employed']=data['days_employed'].abs()# ваш код здесь"
   ]
  },
  {
   "cell_type": "markdown",
   "id": "6107dd2f",
   "metadata": {
    "deletable": false,
    "editable": false,
    "id": "6107dd2f",
    "tags": [
     "start_task"
    ]
   },
   "source": [
    "**Задание 7. Для каждого типа занятости выведите медианное значение трудового стажа `days_employed` в днях.**"
   ]
  },
  {
   "cell_type": "code",
   "execution_count": 8,
   "id": "85a5faf6",
   "metadata": {
    "id": "85a5faf6"
   },
   "outputs": [
    {
     "data": {
      "text/plain": [
       "income_type\n",
       "безработный        366413.652744\n",
       "в декрете            3296.759962\n",
       "госслужащий          2689.368353\n",
       "компаньон            1547.382223\n",
       "пенсионер          365213.306266\n",
       "предприниматель       520.848083\n",
       "сотрудник            1574.202821\n",
       "студент               578.751554\n",
       "Name: days_employed, dtype: float64"
      ]
     },
     "execution_count": 8,
     "metadata": {},
     "output_type": "execute_result"
    }
   ],
   "source": [
    "data.groupby('income_type')['days_employed'].agg('median')# ваш код здесь"
   ]
  },
  {
   "cell_type": "markdown",
   "id": "38d1a030",
   "metadata": {
    "deletable": false,
    "editable": false,
    "id": "38d1a030"
   },
   "source": [
    "У двух типов (безработные и пенсионеры) получатся аномально большие значения. Исправить такие значения сложно, поэтому оставьте их как есть. Тем более этот столбец не понадобится вам для исследования."
   ]
  },
  {
   "cell_type": "markdown",
   "id": "d8a9f147",
   "metadata": {
    "deletable": false,
    "editable": false,
    "id": "d8a9f147",
    "tags": [
     "start_task"
    ]
   },
   "source": [
    "**Задание 8. Выведите перечень уникальных значений столбца `children`.**"
   ]
  },
  {
   "cell_type": "code",
   "execution_count": 9,
   "id": "ef5056eb",
   "metadata": {
    "id": "ef5056eb"
   },
   "outputs": [
    {
     "data": {
      "text/plain": [
       "array([ 1,  0,  3,  2, -1,  4, 20,  5])"
      ]
     },
     "execution_count": 9,
     "metadata": {},
     "output_type": "execute_result"
    }
   ],
   "source": [
    "data['children'].unique()# ваш код здесь"
   ]
  },
  {
   "cell_type": "markdown",
   "id": "40b9ebf2",
   "metadata": {
    "deletable": false,
    "editable": false,
    "id": "40b9ebf2",
    "tags": [
     "start_task"
    ]
   },
   "source": [
    "**Задание 9. В столбце `children` есть два аномальных значения. Удалите строки, в которых встречаются такие аномальные значения из датафрейма `data`.**"
   ]
  },
  {
   "cell_type": "code",
   "execution_count": 10,
   "id": "3ff9801d",
   "metadata": {
    "id": "3ff9801d"
   },
   "outputs": [],
   "source": [
    "data=data[(data['children']!= -1)&(data['children']!= 20)]# ваш код здесь"
   ]
  },
  {
   "cell_type": "markdown",
   "id": "bbc4d0ce",
   "metadata": {
    "deletable": false,
    "editable": false,
    "id": "bbc4d0ce",
    "tags": [
     "start_task"
    ]
   },
   "source": [
    "**Задание 10. Ещё раз выведите перечень уникальных значений столбца `children`, чтобы убедиться, что артефакты удалены.**"
   ]
  },
  {
   "cell_type": "code",
   "execution_count": 11,
   "id": "ad4fa8b7",
   "metadata": {
    "id": "ad4fa8b7"
   },
   "outputs": [
    {
     "data": {
      "text/plain": [
       "array([1, 0, 3, 2, 4, 5])"
      ]
     },
     "execution_count": 11,
     "metadata": {},
     "output_type": "execute_result"
    }
   ],
   "source": [
    "data['children'].unique() "
   ]
  },
  {
   "cell_type": "markdown",
   "id": "75440b63",
   "metadata": {
    "deletable": false,
    "editable": false,
    "id": "75440b63"
   },
   "source": [
    "### Удаление пропусков (продолжение)"
   ]
  },
  {
   "cell_type": "markdown",
   "id": "f4ea573f",
   "metadata": {
    "deletable": false,
    "editable": false,
    "id": "f4ea573f",
    "tags": [
     "start_task"
    ]
   },
   "source": [
    "**Задание 11. Заполните пропуски в столбце `days_employed` медианными значениями по каждому типу занятости `income_type`.**"
   ]
  },
  {
   "cell_type": "code",
   "execution_count": 12,
   "id": "af6b1a7e",
   "metadata": {
    "id": "af6b1a7e"
   },
   "outputs": [],
   "source": [
    "for i in data['income_type'].unique():\n",
    "    data.loc[(data['income_type'] == i) & (data['days_employed'].isna()), 'days_employed'] = \\\n",
    "    data.loc[(data['income_type'] == i), 'days_employed'].median()"
   ]
  },
  {
   "cell_type": "markdown",
   "id": "2753f40d",
   "metadata": {
    "deletable": false,
    "editable": false,
    "id": "2753f40d",
    "tags": [
     "start_task"
    ]
   },
   "source": [
    "**Задание 12. Убедитесь, что все пропуски заполнены. Проверьте себя и ещё раз выведите количество пропущенных значений для каждого столбца с помощью двух методов.**"
   ]
  },
  {
   "cell_type": "code",
   "execution_count": 13,
   "id": "55f78bc2",
   "metadata": {
    "id": "55f78bc2"
   },
   "outputs": [
    {
     "data": {
      "text/plain": [
       "children            0\n",
       "days_employed       0\n",
       "dob_years           0\n",
       "education           0\n",
       "education_id        0\n",
       "family_status       0\n",
       "family_status_id    0\n",
       "gender              0\n",
       "income_type         0\n",
       "debt                0\n",
       "total_income        0\n",
       "purpose             0\n",
       "dtype: int64"
      ]
     },
     "execution_count": 13,
     "metadata": {},
     "output_type": "execute_result"
    }
   ],
   "source": [
    "data.isna().sum()# ваш код здесь"
   ]
  },
  {
   "cell_type": "markdown",
   "id": "ddc81e43",
   "metadata": {
    "deletable": false,
    "editable": false,
    "id": "ddc81e43"
   },
   "source": [
    "### Изменение типов данных"
   ]
  },
  {
   "cell_type": "markdown",
   "id": "42d19d24",
   "metadata": {
    "deletable": false,
    "editable": false,
    "id": "42d19d24",
    "tags": [
     "start_task"
    ]
   },
   "source": [
    "**Задание 13. Замените вещественный тип данных в столбце `total_income` на целочисленный с помощью метода `astype()`.**"
   ]
  },
  {
   "cell_type": "code",
   "execution_count": 14,
   "id": "920b65ad",
   "metadata": {
    "id": "920b65ad"
   },
   "outputs": [],
   "source": [
    "data['total_income']=data['total_income'].astype(int)# ваш код здесь"
   ]
  },
  {
   "cell_type": "markdown",
   "id": "80c420ba",
   "metadata": {
    "deletable": false,
    "editable": false,
    "id": "80c420ba"
   },
   "source": [
    "### Обработка дубликатов"
   ]
  },
  {
   "cell_type": "markdown",
   "id": "dc587695",
   "metadata": {
    "deletable": false,
    "editable": false,
    "id": "dc587695",
    "tags": [
     "start_task"
    ]
   },
   "source": [
    "**Задание 14. Обработайте неявные дубликаты в столбце `education`. В этом столбце есть одни и те же значения, но записанные по-разному: с использованием заглавных и строчных букв. Приведите их к нижнему регистру.**"
   ]
  },
  {
   "cell_type": "code",
   "execution_count": 15,
   "id": "a9f8e2bf",
   "metadata": {
    "id": "a9f8e2bf"
   },
   "outputs": [],
   "source": [
    "data['education']=data['education'].str.lower()# ваш код здесь"
   ]
  },
  {
   "cell_type": "markdown",
   "id": "9771a76c",
   "metadata": {
    "deletable": false,
    "editable": false,
    "id": "9771a76c",
    "tags": [
     "start_task"
    ]
   },
   "source": [
    "**Задание 15. Выведите на экран количество строк-дубликатов в данных. Если такие строки присутствуют, удалите их. Сбрасывать индексы после удаления строк дубликатов с помощью `reset_index(drop=True)` здесь не требуется.**"
   ]
  },
  {
   "cell_type": "code",
   "execution_count": 16,
   "id": "3ee445e4",
   "metadata": {
    "id": "3ee445e4"
   },
   "outputs": [
    {
     "data": {
      "text/plain": [
       "71"
      ]
     },
     "execution_count": 16,
     "metadata": {},
     "output_type": "execute_result"
    }
   ],
   "source": [
    "data.duplicated().sum()# посчитайте дубликаты"
   ]
  },
  {
   "cell_type": "code",
   "execution_count": 17,
   "id": "8575fe05",
   "metadata": {
    "id": "8575fe05"
   },
   "outputs": [],
   "source": [
    "data = data.drop_duplicates() # удалите дубликаты"
   ]
  },
  {
   "cell_type": "markdown",
   "id": "9904cf55",
   "metadata": {
    "deletable": false,
    "editable": false,
    "id": "9904cf55"
   },
   "source": [
    "### Категоризация данных"
   ]
  },
  {
   "cell_type": "markdown",
   "id": "72fcc8a2",
   "metadata": {
    "deletable": false,
    "editable": false,
    "id": "72fcc8a2",
    "tags": [
     "start_task"
    ]
   },
   "source": [
    "**Задание 16. На основании диапазонов, указанных ниже, создайте в датафрейме `data` столбец `total_income_category` с категориями:**\n",
    "\n",
    "- 0–30000 — `'E'`;\n",
    "- 30001–50000 — `'D'`;\n",
    "- 50001–200000 — `'C'`;\n",
    "- 200001–1000000 — `'B'`;\n",
    "- 1000001 и выше — `'A'`.\n",
    "\n",
    "\n",
    "**Например, кредитополучателю с доходом 25000 нужно назначить категорию `'E'`, а клиенту, получающему 235000, — `'B'`. Используйте собственную функцию с именем `categorize_income()` и метод `apply()`.**"
   ]
  },
  {
   "cell_type": "code",
   "execution_count": 18,
   "id": "e1771346",
   "metadata": {
    "id": "e1771346"
   },
   "outputs": [
    {
     "data": {
      "text/plain": [
       "'E'"
      ]
     },
     "execution_count": 18,
     "metadata": {},
     "output_type": "execute_result"
    }
   ],
   "source": [
    "def categorize_income(income): \n",
    "    if income <= 30000: \n",
    "        return \"E\" \n",
    "    elif 30000 < income <= 50000: \n",
    "        return \"D\" \n",
    "    elif 50000 < income <= 200000: \n",
    "        return \"C\" \n",
    "    elif 200000 < income <= 1000000: \n",
    "        return \"B\" \n",
    "    return \"A\"\n",
    "\n",
    "categorize_income(25000)"
   ]
  },
  {
   "cell_type": "code",
   "execution_count": 19,
   "id": "d5f3586d",
   "metadata": {
    "id": "d5f3586d"
   },
   "outputs": [],
   "source": [
    "data['total_income_category'] = data['total_income'].apply(categorize_income)# примените функцию методом apply()"
   ]
  },
  {
   "cell_type": "markdown",
   "id": "dde49b5c",
   "metadata": {
    "deletable": false,
    "editable": false,
    "id": "dde49b5c",
    "tags": [
     "start_task"
    ]
   },
   "source": [
    "**Задание 17. Выведите на экран перечень уникальных целей взятия кредита из столбца `purpose`.**"
   ]
  },
  {
   "cell_type": "code",
   "execution_count": 20,
   "id": "f67ce9b3",
   "metadata": {
    "id": "f67ce9b3"
   },
   "outputs": [
    {
     "data": {
      "text/plain": [
       "array(['покупка жилья', 'приобретение автомобиля',\n",
       "       'дополнительное образование', 'сыграть свадьбу',\n",
       "       'операции с жильем', 'образование', 'на проведение свадьбы',\n",
       "       'покупка жилья для семьи', 'покупка недвижимости',\n",
       "       'покупка коммерческой недвижимости', 'покупка жилой недвижимости',\n",
       "       'строительство собственной недвижимости', 'недвижимость',\n",
       "       'строительство недвижимости', 'на покупку подержанного автомобиля',\n",
       "       'на покупку своего автомобиля',\n",
       "       'операции с коммерческой недвижимостью',\n",
       "       'строительство жилой недвижимости', 'жилье',\n",
       "       'операции со своей недвижимостью', 'автомобили',\n",
       "       'заняться образованием', 'сделка с подержанным автомобилем',\n",
       "       'получение образования', 'автомобиль', 'свадьба',\n",
       "       'получение дополнительного образования', 'покупка своего жилья',\n",
       "       'операции с недвижимостью', 'получение высшего образования',\n",
       "       'свой автомобиль', 'сделка с автомобилем',\n",
       "       'профильное образование', 'высшее образование',\n",
       "       'покупка жилья для сдачи', 'на покупку автомобиля', 'ремонт жилью',\n",
       "       'заняться высшим образованием'], dtype=object)"
      ]
     },
     "execution_count": 20,
     "metadata": {},
     "output_type": "execute_result"
    }
   ],
   "source": [
    "data['purpose'].unique()"
   ]
  },
  {
   "cell_type": "markdown",
   "id": "85d0aef0",
   "metadata": {
    "deletable": false,
    "editable": false,
    "id": "85d0aef0",
    "tags": [
     "start_task"
    ]
   },
   "source": [
    "**Задание 18. Создайте функцию, которая на основании данных из столбца `purpose` сформирует новый столбец `purpose_category`, в который войдут следующие категории:**\n",
    "\n",
    "- `'операции с автомобилем'`,\n",
    "- `'операции с недвижимостью'`,\n",
    "- `'проведение свадьбы'`,\n",
    "- `'получение образования'`.\n",
    "\n",
    "**Например, если в столбце `purpose` находится подстрока `'на покупку автомобиля'`, то в столбце `purpose_category` должна появиться строка `'операции с автомобилем'`.**\n",
    "\n",
    "**Используйте собственную функцию с именем `categorize_purpose()` и метод `apply()`. Изучите данные в столбце `purpose` и определите, какие подстроки помогут вам правильно определить категорию.**"
   ]
  },
  {
   "cell_type": "code",
   "execution_count": 27,
   "id": "e149fab4",
   "metadata": {
    "id": "e149fab4"
   },
   "outputs": [],
   "source": [
    "def categorize_purpose(row):\n",
    "    try:\n",
    "        if 'авто' in row:\n",
    "            return 'операции с автомобилем'\n",
    "        elif 'жил'in row or 'недвиж' in row:\n",
    "            return 'операции с недвижимостью'\n",
    "        elif 'свадь' in row:\n",
    "            return 'проведение свадьбы'\n",
    "        if 'образ' in row:\n",
    "            return 'получение образования'\n",
    "    except:\n",
    "        return 'прочие категории'\n",
    "        # создайте функцию categorize_purpose()"
   ]
  },
  {
   "cell_type": "code",
   "execution_count": 28,
   "id": "bf36e69b",
   "metadata": {
    "id": "bf36e69b"
   },
   "outputs": [],
   "source": [
    "data['purpose_category'] = data['purpose'].apply(categorize_purpose)# примените функцию методом apply()"
   ]
  },
  {
   "cell_type": "code",
   "execution_count": null,
   "id": "c5fb0874",
   "metadata": {},
   "outputs": [],
   "source": []
  }
 ],
 "metadata": {
  "ExecuteTimeLog": [
   {
    "duration": 46,
    "start_time": "2022-12-08T19:33:52.859Z"
   },
   {
    "duration": 447,
    "start_time": "2022-12-08T19:34:02.231Z"
   },
   {
    "duration": 325,
    "start_time": "2022-12-08T19:34:02.681Z"
   },
   {
    "duration": 23,
    "start_time": "2022-12-08T19:34:03.007Z"
   },
   {
    "duration": 19,
    "start_time": "2022-12-08T19:34:03.031Z"
   },
   {
    "duration": 12,
    "start_time": "2022-12-08T19:34:03.052Z"
   },
   {
    "duration": 10,
    "start_time": "2022-12-08T19:34:03.065Z"
   },
   {
    "duration": 9,
    "start_time": "2022-12-08T19:34:03.077Z"
   },
   {
    "duration": 6,
    "start_time": "2022-12-08T19:34:03.088Z"
   },
   {
    "duration": 10,
    "start_time": "2022-12-08T19:34:03.095Z"
   },
   {
    "duration": 16,
    "start_time": "2022-12-08T19:34:03.107Z"
   },
   {
    "duration": 12,
    "start_time": "2022-12-08T19:34:03.124Z"
   },
   {
    "duration": 10,
    "start_time": "2022-12-08T19:34:03.137Z"
   },
   {
    "duration": 10,
    "start_time": "2022-12-08T19:34:03.148Z"
   },
   {
    "duration": 13,
    "start_time": "2022-12-08T19:34:03.159Z"
   },
   {
    "duration": 13,
    "start_time": "2022-12-08T19:34:03.174Z"
   },
   {
    "duration": 7,
    "start_time": "2022-12-08T19:34:03.189Z"
   },
   {
    "duration": 10,
    "start_time": "2022-12-08T19:34:03.198Z"
   },
   {
    "duration": 9,
    "start_time": "2022-12-08T19:34:03.210Z"
   },
   {
    "duration": 5,
    "start_time": "2022-12-08T19:34:03.221Z"
   },
   {
    "duration": 7,
    "start_time": "2022-12-08T19:34:03.228Z"
   },
   {
    "duration": 7,
    "start_time": "2022-12-08T19:34:03.237Z"
   },
   {
    "duration": 8,
    "start_time": "2022-12-08T19:34:03.246Z"
   },
   {
    "duration": 44,
    "start_time": "2022-12-08T19:45:23.862Z"
   },
   {
    "duration": 438,
    "start_time": "2022-12-08T19:45:30.695Z"
   },
   {
    "duration": 82,
    "start_time": "2022-12-08T19:45:31.135Z"
   },
   {
    "duration": 23,
    "start_time": "2022-12-08T19:45:31.218Z"
   },
   {
    "duration": 49,
    "start_time": "2022-12-08T19:45:31.243Z"
   },
   {
    "duration": 22,
    "start_time": "2022-12-08T19:45:31.294Z"
   },
   {
    "duration": 55,
    "start_time": "2022-12-08T19:45:31.318Z"
   },
   {
    "duration": 0,
    "start_time": "2022-12-08T19:45:31.375Z"
   },
   {
    "duration": 0,
    "start_time": "2022-12-08T19:45:31.376Z"
   },
   {
    "duration": 0,
    "start_time": "2022-12-08T19:45:31.377Z"
   },
   {
    "duration": 0,
    "start_time": "2022-12-08T19:45:31.378Z"
   },
   {
    "duration": 0,
    "start_time": "2022-12-08T19:45:31.379Z"
   },
   {
    "duration": 0,
    "start_time": "2022-12-08T19:45:31.380Z"
   },
   {
    "duration": 0,
    "start_time": "2022-12-08T19:45:31.382Z"
   },
   {
    "duration": 0,
    "start_time": "2022-12-08T19:45:31.383Z"
   },
   {
    "duration": 0,
    "start_time": "2022-12-08T19:45:31.385Z"
   },
   {
    "duration": 0,
    "start_time": "2022-12-08T19:45:31.386Z"
   },
   {
    "duration": 0,
    "start_time": "2022-12-08T19:45:31.387Z"
   },
   {
    "duration": 0,
    "start_time": "2022-12-08T19:45:31.389Z"
   },
   {
    "duration": 0,
    "start_time": "2022-12-08T19:45:31.390Z"
   },
   {
    "duration": 0,
    "start_time": "2022-12-08T19:45:31.392Z"
   },
   {
    "duration": 0,
    "start_time": "2022-12-08T19:45:31.393Z"
   },
   {
    "duration": 0,
    "start_time": "2022-12-08T19:45:31.394Z"
   },
   {
    "duration": 53,
    "start_time": "2022-12-08T19:49:17.556Z"
   },
   {
    "duration": 42,
    "start_time": "2022-12-08T19:50:01.230Z"
   },
   {
    "duration": 390,
    "start_time": "2022-12-08T19:50:10.842Z"
   },
   {
    "duration": 76,
    "start_time": "2022-12-08T19:50:11.234Z"
   },
   {
    "duration": 21,
    "start_time": "2022-12-08T19:50:11.312Z"
   },
   {
    "duration": 15,
    "start_time": "2022-12-08T19:50:11.335Z"
   },
   {
    "duration": 13,
    "start_time": "2022-12-08T19:50:11.351Z"
   },
   {
    "duration": 38,
    "start_time": "2022-12-08T19:50:11.366Z"
   },
   {
    "duration": 0,
    "start_time": "2022-12-08T19:50:11.406Z"
   },
   {
    "duration": 0,
    "start_time": "2022-12-08T19:50:11.407Z"
   },
   {
    "duration": 0,
    "start_time": "2022-12-08T19:50:11.409Z"
   },
   {
    "duration": 0,
    "start_time": "2022-12-08T19:50:11.410Z"
   },
   {
    "duration": 0,
    "start_time": "2022-12-08T19:50:11.411Z"
   },
   {
    "duration": 0,
    "start_time": "2022-12-08T19:50:11.412Z"
   },
   {
    "duration": 0,
    "start_time": "2022-12-08T19:50:11.413Z"
   },
   {
    "duration": 0,
    "start_time": "2022-12-08T19:50:11.414Z"
   },
   {
    "duration": 0,
    "start_time": "2022-12-08T19:50:11.415Z"
   },
   {
    "duration": 0,
    "start_time": "2022-12-08T19:50:11.417Z"
   },
   {
    "duration": 0,
    "start_time": "2022-12-08T19:50:11.418Z"
   },
   {
    "duration": 0,
    "start_time": "2022-12-08T19:50:11.419Z"
   },
   {
    "duration": 0,
    "start_time": "2022-12-08T19:50:11.420Z"
   },
   {
    "duration": 0,
    "start_time": "2022-12-08T19:50:11.422Z"
   },
   {
    "duration": 0,
    "start_time": "2022-12-08T19:50:11.423Z"
   },
   {
    "duration": 0,
    "start_time": "2022-12-08T19:50:11.435Z"
   },
   {
    "duration": 359,
    "start_time": "2022-12-08T19:50:46.291Z"
   },
   {
    "duration": 82,
    "start_time": "2022-12-08T19:50:46.651Z"
   },
   {
    "duration": 29,
    "start_time": "2022-12-08T19:50:46.735Z"
   },
   {
    "duration": 32,
    "start_time": "2022-12-08T19:50:46.766Z"
   },
   {
    "duration": 21,
    "start_time": "2022-12-08T19:50:46.800Z"
   },
   {
    "duration": 52,
    "start_time": "2022-12-08T19:50:46.823Z"
   },
   {
    "duration": 0,
    "start_time": "2022-12-08T19:50:46.877Z"
   },
   {
    "duration": 0,
    "start_time": "2022-12-08T19:50:46.879Z"
   },
   {
    "duration": 0,
    "start_time": "2022-12-08T19:50:46.881Z"
   },
   {
    "duration": 0,
    "start_time": "2022-12-08T19:50:46.882Z"
   },
   {
    "duration": 0,
    "start_time": "2022-12-08T19:50:46.884Z"
   },
   {
    "duration": 0,
    "start_time": "2022-12-08T19:50:46.885Z"
   },
   {
    "duration": 0,
    "start_time": "2022-12-08T19:50:46.886Z"
   },
   {
    "duration": 0,
    "start_time": "2022-12-08T19:50:46.888Z"
   },
   {
    "duration": 0,
    "start_time": "2022-12-08T19:50:46.890Z"
   },
   {
    "duration": 0,
    "start_time": "2022-12-08T19:50:46.891Z"
   },
   {
    "duration": 0,
    "start_time": "2022-12-08T19:50:46.892Z"
   },
   {
    "duration": 0,
    "start_time": "2022-12-08T19:50:46.893Z"
   },
   {
    "duration": 0,
    "start_time": "2022-12-08T19:50:46.894Z"
   },
   {
    "duration": 0,
    "start_time": "2022-12-08T19:50:46.896Z"
   },
   {
    "duration": 0,
    "start_time": "2022-12-08T19:50:46.897Z"
   },
   {
    "duration": 0,
    "start_time": "2022-12-08T19:50:46.898Z"
   },
   {
    "duration": 50,
    "start_time": "2022-12-08T19:53:27.008Z"
   },
   {
    "duration": 371,
    "start_time": "2022-12-08T19:53:41.975Z"
   },
   {
    "duration": 89,
    "start_time": "2022-12-08T19:53:42.348Z"
   },
   {
    "duration": 30,
    "start_time": "2022-12-08T19:53:42.439Z"
   },
   {
    "duration": 30,
    "start_time": "2022-12-08T19:53:42.473Z"
   },
   {
    "duration": 21,
    "start_time": "2022-12-08T19:53:42.506Z"
   },
   {
    "duration": 44,
    "start_time": "2022-12-08T19:53:42.529Z"
   },
   {
    "duration": 0,
    "start_time": "2022-12-08T19:53:42.576Z"
   },
   {
    "duration": 0,
    "start_time": "2022-12-08T19:53:42.577Z"
   },
   {
    "duration": 0,
    "start_time": "2022-12-08T19:53:42.579Z"
   },
   {
    "duration": 0,
    "start_time": "2022-12-08T19:53:42.580Z"
   },
   {
    "duration": 0,
    "start_time": "2022-12-08T19:53:42.582Z"
   },
   {
    "duration": 0,
    "start_time": "2022-12-08T19:53:42.583Z"
   },
   {
    "duration": 0,
    "start_time": "2022-12-08T19:53:42.584Z"
   },
   {
    "duration": 0,
    "start_time": "2022-12-08T19:53:42.585Z"
   },
   {
    "duration": 0,
    "start_time": "2022-12-08T19:53:42.587Z"
   },
   {
    "duration": 0,
    "start_time": "2022-12-08T19:53:42.589Z"
   },
   {
    "duration": 0,
    "start_time": "2022-12-08T19:53:42.591Z"
   },
   {
    "duration": 0,
    "start_time": "2022-12-08T19:53:42.592Z"
   },
   {
    "duration": 0,
    "start_time": "2022-12-08T19:53:42.593Z"
   },
   {
    "duration": 0,
    "start_time": "2022-12-08T19:53:42.595Z"
   },
   {
    "duration": 0,
    "start_time": "2022-12-08T19:53:42.597Z"
   },
   {
    "duration": 0,
    "start_time": "2022-12-08T19:53:42.598Z"
   },
   {
    "duration": 47,
    "start_time": "2022-12-08T19:56:45.095Z"
   },
   {
    "duration": 41,
    "start_time": "2022-12-08T19:57:07.195Z"
   },
   {
    "duration": 41,
    "start_time": "2022-12-08T19:57:21.428Z"
   },
   {
    "duration": 4,
    "start_time": "2022-12-08T19:58:31.543Z"
   },
   {
    "duration": 55,
    "start_time": "2022-12-08T19:58:55.967Z"
   },
   {
    "duration": 4,
    "start_time": "2022-12-08T19:59:46.957Z"
   },
   {
    "duration": 9,
    "start_time": "2022-12-08T20:01:48.292Z"
   },
   {
    "duration": 5,
    "start_time": "2022-12-08T20:02:32.104Z"
   },
   {
    "duration": 9,
    "start_time": "2022-12-08T20:09:14.631Z"
   },
   {
    "duration": 5,
    "start_time": "2022-12-08T20:09:37.145Z"
   },
   {
    "duration": 48,
    "start_time": "2022-12-08T20:10:31.921Z"
   },
   {
    "duration": 19,
    "start_time": "2022-12-08T20:10:47.896Z"
   },
   {
    "duration": 31,
    "start_time": "2022-12-08T20:12:07.173Z"
   },
   {
    "duration": 10,
    "start_time": "2022-12-08T20:12:48.333Z"
   },
   {
    "duration": 65,
    "start_time": "2022-12-08T20:13:21.586Z"
   },
   {
    "duration": 6,
    "start_time": "2022-12-08T20:14:45.813Z"
   },
   {
    "duration": 5,
    "start_time": "2022-12-08T20:15:12.225Z"
   },
   {
    "duration": 3,
    "start_time": "2022-12-08T20:15:14.701Z"
   },
   {
    "duration": 13,
    "start_time": "2022-12-08T20:30:15.651Z"
   },
   {
    "duration": 21,
    "start_time": "2022-12-08T20:30:48.829Z"
   },
   {
    "duration": 7,
    "start_time": "2022-12-08T20:31:04.349Z"
   },
   {
    "duration": 12,
    "start_time": "2022-12-08T20:31:08.702Z"
   },
   {
    "duration": 390,
    "start_time": "2022-12-08T20:31:24.084Z"
   },
   {
    "duration": 76,
    "start_time": "2022-12-08T20:31:24.476Z"
   },
   {
    "duration": 22,
    "start_time": "2022-12-08T20:31:24.554Z"
   },
   {
    "duration": 16,
    "start_time": "2022-12-08T20:31:24.578Z"
   },
   {
    "duration": 12,
    "start_time": "2022-12-08T20:31:24.597Z"
   },
   {
    "duration": 55,
    "start_time": "2022-12-08T20:31:24.610Z"
   },
   {
    "duration": 3,
    "start_time": "2022-12-08T20:31:24.667Z"
   },
   {
    "duration": 17,
    "start_time": "2022-12-08T20:31:24.671Z"
   },
   {
    "duration": 5,
    "start_time": "2022-12-08T20:31:24.689Z"
   },
   {
    "duration": 11,
    "start_time": "2022-12-08T20:31:24.696Z"
   },
   {
    "duration": 7,
    "start_time": "2022-12-08T20:31:24.708Z"
   },
   {
    "duration": 35,
    "start_time": "2022-12-08T20:31:24.736Z"
   },
   {
    "duration": 11,
    "start_time": "2022-12-08T20:31:24.773Z"
   },
   {
    "duration": 21,
    "start_time": "2022-12-08T20:31:24.787Z"
   },
   {
    "duration": 28,
    "start_time": "2022-12-08T20:31:24.810Z"
   },
   {
    "duration": 25,
    "start_time": "2022-12-08T20:31:24.839Z"
   },
   {
    "duration": 82,
    "start_time": "2022-12-08T20:31:24.866Z"
   },
   {
    "duration": 0,
    "start_time": "2022-12-08T20:31:24.949Z"
   },
   {
    "duration": 0,
    "start_time": "2022-12-08T20:31:24.951Z"
   },
   {
    "duration": 0,
    "start_time": "2022-12-08T20:31:24.952Z"
   },
   {
    "duration": 0,
    "start_time": "2022-12-08T20:31:24.954Z"
   },
   {
    "duration": 0,
    "start_time": "2022-12-08T20:31:24.955Z"
   },
   {
    "duration": 28,
    "start_time": "2022-12-08T20:32:15.999Z"
   },
   {
    "duration": 5,
    "start_time": "2022-12-08T20:36:09.907Z"
   },
   {
    "duration": 13,
    "start_time": "2022-12-08T20:36:12.449Z"
   },
   {
    "duration": 458,
    "start_time": "2022-12-08T20:36:26.518Z"
   },
   {
    "duration": 76,
    "start_time": "2022-12-08T20:36:26.978Z"
   },
   {
    "duration": 26,
    "start_time": "2022-12-08T20:36:27.057Z"
   },
   {
    "duration": 24,
    "start_time": "2022-12-08T20:36:27.086Z"
   },
   {
    "duration": 15,
    "start_time": "2022-12-08T20:36:27.135Z"
   },
   {
    "duration": 36,
    "start_time": "2022-12-08T20:36:27.152Z"
   },
   {
    "duration": 4,
    "start_time": "2022-12-08T20:36:27.190Z"
   },
   {
    "duration": 17,
    "start_time": "2022-12-08T20:36:27.196Z"
   },
   {
    "duration": 20,
    "start_time": "2022-12-08T20:36:27.216Z"
   },
   {
    "duration": 12,
    "start_time": "2022-12-08T20:36:27.239Z"
   },
   {
    "duration": 17,
    "start_time": "2022-12-08T20:36:27.253Z"
   },
   {
    "duration": 43,
    "start_time": "2022-12-08T20:36:27.272Z"
   },
   {
    "duration": 10,
    "start_time": "2022-12-08T20:36:27.316Z"
   },
   {
    "duration": 27,
    "start_time": "2022-12-08T20:36:27.327Z"
   },
   {
    "duration": 16,
    "start_time": "2022-12-08T20:36:27.356Z"
   },
   {
    "duration": 30,
    "start_time": "2022-12-08T20:36:27.374Z"
   },
   {
    "duration": 16,
    "start_time": "2022-12-08T20:36:27.406Z"
   },
   {
    "duration": 3,
    "start_time": "2022-12-08T20:36:27.424Z"
   },
   {
    "duration": 92,
    "start_time": "2022-12-08T20:36:27.428Z"
   },
   {
    "duration": 0,
    "start_time": "2022-12-08T20:36:27.522Z"
   },
   {
    "duration": 0,
    "start_time": "2022-12-08T20:36:27.524Z"
   },
   {
    "duration": 0,
    "start_time": "2022-12-08T20:36:27.525Z"
   },
   {
    "duration": 5,
    "start_time": "2022-12-08T20:36:49.016Z"
   },
   {
    "duration": 14,
    "start_time": "2022-12-08T20:36:55.441Z"
   },
   {
    "duration": 3,
    "start_time": "2022-12-08T20:38:58.192Z"
   },
   {
    "duration": 3,
    "start_time": "2022-12-08T20:38:58.271Z"
   },
   {
    "duration": 6,
    "start_time": "2022-12-08T20:39:09.930Z"
   },
   {
    "duration": 10,
    "start_time": "2022-12-08T20:40:10.797Z"
   },
   {
    "duration": 6,
    "start_time": "2022-12-08T20:40:47.449Z"
   },
   {
    "duration": 8,
    "start_time": "2022-12-08T20:42:00.969Z"
   },
   {
    "duration": 3,
    "start_time": "2022-12-08T20:42:13.197Z"
   },
   {
    "duration": 9,
    "start_time": "2022-12-08T20:42:15.471Z"
   },
   {
    "duration": 379,
    "start_time": "2022-12-08T20:42:34.374Z"
   },
   {
    "duration": 76,
    "start_time": "2022-12-08T20:42:34.755Z"
   },
   {
    "duration": 21,
    "start_time": "2022-12-08T20:42:34.833Z"
   },
   {
    "duration": 16,
    "start_time": "2022-12-08T20:42:34.856Z"
   },
   {
    "duration": 11,
    "start_time": "2022-12-08T20:42:34.873Z"
   },
   {
    "duration": 65,
    "start_time": "2022-12-08T20:42:34.886Z"
   },
   {
    "duration": 4,
    "start_time": "2022-12-08T20:42:34.953Z"
   },
   {
    "duration": 17,
    "start_time": "2022-12-08T20:42:34.958Z"
   },
   {
    "duration": 5,
    "start_time": "2022-12-08T20:42:34.977Z"
   },
   {
    "duration": 11,
    "start_time": "2022-12-08T20:42:34.984Z"
   },
   {
    "duration": 13,
    "start_time": "2022-12-08T20:42:34.996Z"
   },
   {
    "duration": 53,
    "start_time": "2022-12-08T20:42:35.010Z"
   },
   {
    "duration": 11,
    "start_time": "2022-12-08T20:42:35.065Z"
   },
   {
    "duration": 9,
    "start_time": "2022-12-08T20:42:35.078Z"
   },
   {
    "duration": 27,
    "start_time": "2022-12-08T20:42:35.088Z"
   },
   {
    "duration": 25,
    "start_time": "2022-12-08T20:42:35.117Z"
   },
   {
    "duration": 17,
    "start_time": "2022-12-08T20:42:35.143Z"
   },
   {
    "duration": 6,
    "start_time": "2022-12-08T20:42:35.162Z"
   },
   {
    "duration": 15,
    "start_time": "2022-12-08T20:42:35.170Z"
   },
   {
    "duration": 15,
    "start_time": "2022-12-08T20:42:35.187Z"
   },
   {
    "duration": 4,
    "start_time": "2022-12-08T20:42:35.204Z"
   },
   {
    "duration": 29,
    "start_time": "2022-12-08T20:42:35.209Z"
   },
   {
    "duration": 8,
    "start_time": "2022-12-08T20:43:51.779Z"
   },
   {
    "duration": 420,
    "start_time": "2022-12-08T20:44:28.755Z"
   },
   {
    "duration": 78,
    "start_time": "2022-12-08T20:44:29.177Z"
   },
   {
    "duration": 24,
    "start_time": "2022-12-08T20:44:29.256Z"
   },
   {
    "duration": 16,
    "start_time": "2022-12-08T20:44:29.282Z"
   },
   {
    "duration": 11,
    "start_time": "2022-12-08T20:44:29.300Z"
   },
   {
    "duration": 35,
    "start_time": "2022-12-08T20:44:29.336Z"
   },
   {
    "duration": 4,
    "start_time": "2022-12-08T20:44:29.372Z"
   },
   {
    "duration": 16,
    "start_time": "2022-12-08T20:44:29.377Z"
   },
   {
    "duration": 18,
    "start_time": "2022-12-08T20:44:29.394Z"
   },
   {
    "duration": 16,
    "start_time": "2022-12-08T20:44:29.414Z"
   },
   {
    "duration": 8,
    "start_time": "2022-12-08T20:44:29.432Z"
   },
   {
    "duration": 45,
    "start_time": "2022-12-08T20:44:29.442Z"
   },
   {
    "duration": 10,
    "start_time": "2022-12-08T20:44:29.489Z"
   },
   {
    "duration": 8,
    "start_time": "2022-12-08T20:44:29.501Z"
   },
   {
    "duration": 12,
    "start_time": "2022-12-08T20:44:29.511Z"
   },
   {
    "duration": 29,
    "start_time": "2022-12-08T20:44:29.525Z"
   },
   {
    "duration": 17,
    "start_time": "2022-12-08T20:44:29.556Z"
   },
   {
    "duration": 6,
    "start_time": "2022-12-08T20:44:29.574Z"
   },
   {
    "duration": 15,
    "start_time": "2022-12-08T20:44:29.581Z"
   },
   {
    "duration": 8,
    "start_time": "2022-12-08T20:44:29.597Z"
   },
   {
    "duration": 33,
    "start_time": "2022-12-08T20:44:29.606Z"
   },
   {
    "duration": 12,
    "start_time": "2022-12-08T20:44:29.640Z"
   },
   {
    "duration": 5,
    "start_time": "2022-12-08T20:51:08.297Z"
   },
   {
    "duration": 9,
    "start_time": "2022-12-08T20:51:09.290Z"
   },
   {
    "duration": 4,
    "start_time": "2022-12-08T20:51:30.846Z"
   },
   {
    "duration": 13,
    "start_time": "2022-12-08T20:51:33.933Z"
   },
   {
    "duration": 4,
    "start_time": "2022-12-08T20:55:54.666Z"
   },
   {
    "duration": 8,
    "start_time": "2022-12-08T20:55:55.686Z"
   }
  ],
  "colab": {
   "provenance": []
  },
  "kernelspec": {
   "display_name": "Python 3 (ipykernel)",
   "language": "python",
   "name": "python3"
  },
  "language_info": {
   "codemirror_mode": {
    "name": "ipython",
    "version": 3
   },
   "file_extension": ".py",
   "mimetype": "text/x-python",
   "name": "python",
   "nbconvert_exporter": "python",
   "pygments_lexer": "ipython3",
   "version": "3.9.5"
  },
  "toc": {
   "base_numbering": 1,
   "nav_menu": {},
   "number_sections": true,
   "sideBar": true,
   "skip_h1_title": true,
   "title_cell": "Table of Contents",
   "title_sidebar": "Contents",
   "toc_cell": false,
   "toc_position": {},
   "toc_section_display": true,
   "toc_window_display": false
  }
 },
 "nbformat": 4,
 "nbformat_minor": 5
}
