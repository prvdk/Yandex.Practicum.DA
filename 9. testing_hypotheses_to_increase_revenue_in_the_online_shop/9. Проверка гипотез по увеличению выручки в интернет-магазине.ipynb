{
 "cells": [
  {
   "cell_type": "markdown",
   "metadata": {
    "id": "QFU_PTFIqRB4"
   },
   "source": [
    "# Принятие решений в бизнесе - проект Яндекс Практикум"
   ]
  },
  {
   "cell_type": "markdown",
   "metadata": {
    "id": "Ay-SxrPrqRB6"
   },
   "source": [
    "# Описание проекта\n",
    "**Текст, выделенный полужирным шрифтом**\n",
    "   \n",
    "Вы — аналитик крупного интернет-магазина. Вместе с отделом маркетинга вы подготовили список гипотез для увеличения выручки.\n",
    "Приоритизируйте гипотезы, запустите A/B-тест и проанализируйте результаты.  \n",
    "   \n"
   ]
  },
  {
   "cell_type": "markdown",
   "metadata": {
    "id": "WPadX3bbqRB7"
   },
   "source": [
    "\n",
    "\n",
    "# План выполнения проекта:\n",
    "      \n",
    "## Часть 1. Приоритизация гипотез.  \n",
    "      \n",
    "В файле `/datasets/hypothesis.csv` 9 гипотез по увеличению выручки интернет-магазина с указанными параметрами `Reach`, `Impact`, `Confidence`, `Effort`.\n",
    "      \n",
    "**Задача:**  \n",
    "* Применим фреймворк `ICE` для приоритизации гипотез. Отсортируем их по убыванию приоритета.  \n",
    "* Применим фреймворк `RICE` для приоритизации гипотез. Отсортируем их по убыванию приоритета.  \n",
    "* Укажем, как изменилась приоритизация гипотез при применении `RICE` вместо `ICE`. Объясните, почему так произошло.\n",
    "  \n",
    "## Часть 2. Анализ A/B-теста.    \n",
    "      \n",
    "Вы провели A/B-тест и получили результаты, которые описаны в файлах `/datasets/orders.csv` и `/datasets/visitors.csv`.\n",
    "    \n",
    "**Задача:**  \n",
    "      \n",
    "Проанализируйте A/B-тест:  \n",
    "\n",
    "\n",
    "\n",
    "1.   Построим график кумулятивной выручки по группам. Сделаем выводы и предположения. \n",
    "2.   Построим график кумулятивного среднего чека по группам. Сделаем выводы и предположения. \n",
    "3.   Построим график относительного изменения кумулятивного среднего чека группы B к группе A. Сделаем выводы и предположения.\n",
    "4.   Построим график кумулятивного среднего количества заказов по группам. Сделаем выводы и предположения.\n",
    "5.   Построим график относительного изменения кумулятивного среднего количества заказов группы B к группе A. Сделаем выводы и предположения.\n",
    "6.   Построим точечный график количества заказов по пользователям. Сделаем выводы и предположения.\n",
    "7.   Посчитаем 95-й и 99-й перцентили количества заказов на пользователя. Выберем границу для определения аномальных пользователей. \n",
    "8.   Построим точечный график стоимостей заказов. Сделаем выводы и предположения. \n",
    "9.   Посчитаем 95-й и 99-й перцентили стоимости заказов. Выберем границу для определения аномальных заказов.\n",
    "10.  Посчитаем статистическую значимость различий в среднем количестве заказов между группами по «сырым» данным. Сделаем выводы и предположения.\n",
    "11.  Посчитаем статистическую значимость различий в среднем чеке заказа между группами по «сырым» данным. Сделаем выводы и предположения.\n",
    "12.  Посчитаем статистическую значимость различий в среднем количестве заказов между группами по «очищенным» данным. Сделаем выводы и предположения.   \n",
    "13.  Посчитаем статистическую значимость различий в среднем чеке заказа между группами по «очищенным» данным. Сделаем выводы и предположения.  \n",
    "14.  Примим решение по результатам теста и объясним его.  \n",
    "     1.  Остановить тест, зафиксировать победу одной из групп. \n",
    "     2.  Остановить тест, зафиксировать отсутствие различий между группами. \n",
    "     3.  Продолжить тест.  \n",
    "  \n",
    "\n",
    "\n",
    "\n"
   ]
  },
  {
   "cell_type": "markdown",
   "metadata": {
    "id": "BjqTcTF-qRB8"
   },
   "source": [
    "\n",
    "      \n",
    "# Описание данных \n",
    "      \n",
    "**Данные для первой части:**  \n",
    "      \n",
    "Файл `/datasets/hypothesis.csv`\n",
    "\n",
    "*   `Hypothesis` — краткое описание гипотезы; \n",
    "*   `Reach` — охват пользователей по 10-балльной шкале; \n",
    "*   `Impact` — влияние на пользователей по 10-балльной шкале;  \n",
    "*   `Confidence` — уверенность в гипотезе по 10-балльной шкале;  \n",
    "*   `Efforts` — затраты ресурсов на проверку гипотезы по 10-балльной шкале. Чем больше значение Efforts, тем дороже проверка гипотезы.  \n",
    "    \n",
    "**Данные для второй части**  \n",
    "      \n",
    "Файл `/datasets/orders.csv `\n",
    "      \n",
    "*   `transactionId` — идентификатор заказа;  \n",
    "*   `visitorId` — идентификатор пользователя, совершившего заказ;  \n",
    "*   `date` — дата, когда был совершён заказ;  \n",
    "*   `revenue` — выручка заказа;  \n",
    "*   `group` — группа A/B-теста, в которую попал заказ.  \n",
    "      \n",
    "Файл `/datasets/visitors.csv `\n",
    "      \n",
    "*   `date` — дата;  \n",
    "*   `group` — группа A/B-теста;  \n",
    "*   `visitors` — количество пользователей в указанную дату в указанной группе A/B-теста.     \n",
    "     \n",
    "</div>"
   ]
  },
  {
   "cell_type": "markdown",
   "metadata": {
    "id": "FnhBs9oPL9dG"
   },
   "source": [
    "# Загрузите данные и подготовьте их к анализу"
   ]
  },
  {
   "cell_type": "code",
   "execution_count": 1,
   "metadata": {
    "id": "O_mBsTgOMh_t"
   },
   "outputs": [],
   "source": [
    "import pandas as pd\n",
    "import datetime as dt\n",
    "import numpy as np\n",
    "import matplotlib.pyplot as plt\n",
    "import scipy.stats as stats"
   ]
  },
  {
   "cell_type": "code",
   "execution_count": 2,
   "metadata": {
    "id": "oI_jCevyMmvN"
   },
   "outputs": [],
   "source": [
    "try: \n",
    "    hypothesis = pd.read_csv('/content/hypothesis.csv')\n",
    "    orders = pd.read_csv('/content/orders.csv')\n",
    "    visitors = pd.read_csv('/content/visitors.csv')\n",
    "except:\n",
    "    hypothesis = pd.read_csv('/datasets/hypothesis.csv')\n",
    "    orders = pd.read_csv('/datasets/orders.csv')\n",
    "    visitors = pd.read_csv('/datasets/visitors.csv')"
   ]
  },
  {
   "cell_type": "markdown",
   "metadata": {
    "id": "3ufmmtvCNeDW"
   },
   "source": [
    "## Проведем предобработку  **`hypothesis`**"
   ]
  },
  {
   "cell_type": "code",
   "execution_count": 3,
   "metadata": {
    "colab": {
     "base_uri": "https://localhost:8080/",
     "height": 415
    },
    "id": "_k7c9iwOqRB-",
    "outputId": "e99b6c90-78dc-4215-8bb7-8b3e8a08ca56"
   },
   "outputs": [
    {
     "name": "stdout",
     "output_type": "stream",
     "text": [
      "<class 'pandas.core.frame.DataFrame'>\n",
      "RangeIndex: 9 entries, 0 to 8\n",
      "Data columns (total 5 columns):\n",
      " #   Column      Non-Null Count  Dtype \n",
      "---  ------      --------------  ----- \n",
      " 0   Hypothesis  9 non-null      object\n",
      " 1   Reach       9 non-null      int64 \n",
      " 2   Impact      9 non-null      int64 \n",
      " 3   Confidence  9 non-null      int64 \n",
      " 4   Efforts     9 non-null      int64 \n",
      "dtypes: int64(4), object(1)\n",
      "memory usage: 488.0+ bytes\n"
     ]
    },
    {
     "data": {
      "text/html": [
       "<div>\n",
       "<style scoped>\n",
       "    .dataframe tbody tr th:only-of-type {\n",
       "        vertical-align: middle;\n",
       "    }\n",
       "\n",
       "    .dataframe tbody tr th {\n",
       "        vertical-align: top;\n",
       "    }\n",
       "\n",
       "    .dataframe thead th {\n",
       "        text-align: right;\n",
       "    }\n",
       "</style>\n",
       "<table border=\"1\" class=\"dataframe\">\n",
       "  <thead>\n",
       "    <tr style=\"text-align: right;\">\n",
       "      <th></th>\n",
       "      <th>Hypothesis</th>\n",
       "      <th>Reach</th>\n",
       "      <th>Impact</th>\n",
       "      <th>Confidence</th>\n",
       "      <th>Efforts</th>\n",
       "    </tr>\n",
       "  </thead>\n",
       "  <tbody>\n",
       "    <tr>\n",
       "      <th>0</th>\n",
       "      <td>Добавить два новых канала привлечения трафика, что позволит привлекать на 30% больше пользователей</td>\n",
       "      <td>3</td>\n",
       "      <td>10</td>\n",
       "      <td>8</td>\n",
       "      <td>6</td>\n",
       "    </tr>\n",
       "    <tr>\n",
       "      <th>1</th>\n",
       "      <td>Запустить собственную службу доставки, что сократит срок доставки заказов</td>\n",
       "      <td>2</td>\n",
       "      <td>5</td>\n",
       "      <td>4</td>\n",
       "      <td>10</td>\n",
       "    </tr>\n",
       "    <tr>\n",
       "      <th>2</th>\n",
       "      <td>Добавить блоки рекомендаций товаров на сайт интернет магазина, чтобы повысить конверсию и средни...</td>\n",
       "      <td>8</td>\n",
       "      <td>3</td>\n",
       "      <td>7</td>\n",
       "      <td>3</td>\n",
       "    </tr>\n",
       "    <tr>\n",
       "      <th>3</th>\n",
       "      <td>Изменить структура категорий, что увеличит конверсию, т.к. пользователи быстрее найдут нужный товар</td>\n",
       "      <td>8</td>\n",
       "      <td>3</td>\n",
       "      <td>3</td>\n",
       "      <td>8</td>\n",
       "    </tr>\n",
       "    <tr>\n",
       "      <th>4</th>\n",
       "      <td>Изменить цвет фона главной страницы, чтобы увеличить вовлеченность пользователей</td>\n",
       "      <td>3</td>\n",
       "      <td>1</td>\n",
       "      <td>1</td>\n",
       "      <td>1</td>\n",
       "    </tr>\n",
       "  </tbody>\n",
       "</table>\n",
       "</div>"
      ],
      "text/plain": [
       "                                                                                            Hypothesis  \\\n",
       "0   Добавить два новых канала привлечения трафика, что позволит привлекать на 30% больше пользователей   \n",
       "1                            Запустить собственную службу доставки, что сократит срок доставки заказов   \n",
       "2  Добавить блоки рекомендаций товаров на сайт интернет магазина, чтобы повысить конверсию и средни...   \n",
       "3  Изменить структура категорий, что увеличит конверсию, т.к. пользователи быстрее найдут нужный товар   \n",
       "4                     Изменить цвет фона главной страницы, чтобы увеличить вовлеченность пользователей   \n",
       "\n",
       "   Reach  Impact  Confidence  Efforts  \n",
       "0      3      10           8        6  \n",
       "1      2       5           4       10  \n",
       "2      8       3           7        3  \n",
       "3      8       3           3        8  \n",
       "4      3       1           1        1  "
      ]
     },
     "execution_count": 3,
     "metadata": {},
     "output_type": "execute_result"
    }
   ],
   "source": [
    "hypothesis.info()\n",
    "\n",
    "pd.options.display.max_colwidth = 100\n",
    "\n",
    "hypothesis.head()"
   ]
  },
  {
   "cell_type": "code",
   "execution_count": 4,
   "metadata": {
    "colab": {
     "base_uri": "https://localhost:8080/",
     "height": 206
    },
    "id": "xkVs4TtHqRB-",
    "outputId": "15083e54-997c-46f2-9eaa-6f7b808e69ee"
   },
   "outputs": [
    {
     "data": {
      "text/html": [
       "<div>\n",
       "<style scoped>\n",
       "    .dataframe tbody tr th:only-of-type {\n",
       "        vertical-align: middle;\n",
       "    }\n",
       "\n",
       "    .dataframe tbody tr th {\n",
       "        vertical-align: top;\n",
       "    }\n",
       "\n",
       "    .dataframe thead th {\n",
       "        text-align: right;\n",
       "    }\n",
       "</style>\n",
       "<table border=\"1\" class=\"dataframe\">\n",
       "  <thead>\n",
       "    <tr style=\"text-align: right;\">\n",
       "      <th></th>\n",
       "      <th>hypothesis</th>\n",
       "      <th>reach</th>\n",
       "      <th>impact</th>\n",
       "      <th>confidence</th>\n",
       "      <th>efforts</th>\n",
       "    </tr>\n",
       "  </thead>\n",
       "  <tbody>\n",
       "    <tr>\n",
       "      <th>0</th>\n",
       "      <td>Добавить два новых канала привлечения трафика, что позволит привлекать на 30% больше пользователей</td>\n",
       "      <td>3</td>\n",
       "      <td>10</td>\n",
       "      <td>8</td>\n",
       "      <td>6</td>\n",
       "    </tr>\n",
       "    <tr>\n",
       "      <th>1</th>\n",
       "      <td>Запустить собственную службу доставки, что сократит срок доставки заказов</td>\n",
       "      <td>2</td>\n",
       "      <td>5</td>\n",
       "      <td>4</td>\n",
       "      <td>10</td>\n",
       "    </tr>\n",
       "    <tr>\n",
       "      <th>2</th>\n",
       "      <td>Добавить блоки рекомендаций товаров на сайт интернет магазина, чтобы повысить конверсию и средни...</td>\n",
       "      <td>8</td>\n",
       "      <td>3</td>\n",
       "      <td>7</td>\n",
       "      <td>3</td>\n",
       "    </tr>\n",
       "    <tr>\n",
       "      <th>3</th>\n",
       "      <td>Изменить структура категорий, что увеличит конверсию, т.к. пользователи быстрее найдут нужный товар</td>\n",
       "      <td>8</td>\n",
       "      <td>3</td>\n",
       "      <td>3</td>\n",
       "      <td>8</td>\n",
       "    </tr>\n",
       "    <tr>\n",
       "      <th>4</th>\n",
       "      <td>Изменить цвет фона главной страницы, чтобы увеличить вовлеченность пользователей</td>\n",
       "      <td>3</td>\n",
       "      <td>1</td>\n",
       "      <td>1</td>\n",
       "      <td>1</td>\n",
       "    </tr>\n",
       "  </tbody>\n",
       "</table>\n",
       "</div>"
      ],
      "text/plain": [
       "                                                                                            hypothesis  \\\n",
       "0   Добавить два новых канала привлечения трафика, что позволит привлекать на 30% больше пользователей   \n",
       "1                            Запустить собственную службу доставки, что сократит срок доставки заказов   \n",
       "2  Добавить блоки рекомендаций товаров на сайт интернет магазина, чтобы повысить конверсию и средни...   \n",
       "3  Изменить структура категорий, что увеличит конверсию, т.к. пользователи быстрее найдут нужный товар   \n",
       "4                     Изменить цвет фона главной страницы, чтобы увеличить вовлеченность пользователей   \n",
       "\n",
       "   reach  impact  confidence  efforts  \n",
       "0      3      10           8        6  \n",
       "1      2       5           4       10  \n",
       "2      8       3           7        3  \n",
       "3      8       3           3        8  \n",
       "4      3       1           1        1  "
      ]
     },
     "execution_count": 4,
     "metadata": {},
     "output_type": "execute_result"
    }
   ],
   "source": [
    "hypothesis.columns = [x.lower() for x in hypothesis.columns] \n",
    "\n",
    "hypothesis.head(5)"
   ]
  },
  {
   "cell_type": "code",
   "execution_count": 5,
   "metadata": {
    "colab": {
     "base_uri": "https://localhost:8080/"
    },
    "id": "RV2W8iFRqRB_",
    "outputId": "192e4bf5-1af3-4fa4-f7fe-b149da040ddf"
   },
   "outputs": [
    {
     "name": "stdout",
     "output_type": "stream",
     "text": [
      "Количество явных дубликатов: 0\n"
     ]
    }
   ],
   "source": [
    "print(f\"Количество явных дубликатов: {hypothesis.duplicated().sum()}\")"
   ]
  },
  {
   "cell_type": "code",
   "execution_count": 6,
   "metadata": {
    "colab": {
     "base_uri": "https://localhost:8080/"
    },
    "id": "NqwiwLPcWp3o",
    "outputId": "d93722f2-a92f-4643-c582-9863a0003645"
   },
   "outputs": [
    {
     "name": "stdout",
     "output_type": "stream",
     "text": [
      "<class 'pandas.core.frame.DataFrame'>\n",
      "RangeIndex: 9 entries, 0 to 8\n",
      "Data columns (total 5 columns):\n",
      " #   Column      Non-Null Count  Dtype \n",
      "---  ------      --------------  ----- \n",
      " 0   hypothesis  9 non-null      object\n",
      " 1   reach       9 non-null      int64 \n",
      " 2   impact      9 non-null      int64 \n",
      " 3   confidence  9 non-null      int64 \n",
      " 4   efforts     9 non-null      int64 \n",
      "dtypes: int64(4), object(1)\n",
      "memory usage: 488.0+ bytes\n"
     ]
    }
   ],
   "source": [
    "hypothesis.info()"
   ]
  },
  {
   "cell_type": "markdown",
   "metadata": {
    "id": "7JadsWkMNgm0"
   },
   "source": [
    "## Проведем предобработку  **`orders`**"
   ]
  },
  {
   "cell_type": "code",
   "execution_count": 7,
   "metadata": {
    "colab": {
     "base_uri": "https://localhost:8080/",
     "height": 415
    },
    "id": "wWu2isj1qRCC",
    "outputId": "96efa153-49e9-4914-b927-42df6dc982a1"
   },
   "outputs": [
    {
     "name": "stdout",
     "output_type": "stream",
     "text": [
      "<class 'pandas.core.frame.DataFrame'>\n",
      "RangeIndex: 1197 entries, 0 to 1196\n",
      "Data columns (total 5 columns):\n",
      " #   Column         Non-Null Count  Dtype \n",
      "---  ------         --------------  ----- \n",
      " 0   transactionId  1197 non-null   int64 \n",
      " 1   visitorId      1197 non-null   int64 \n",
      " 2   date           1197 non-null   object\n",
      " 3   revenue        1197 non-null   int64 \n",
      " 4   group          1197 non-null   object\n",
      "dtypes: int64(3), object(2)\n",
      "memory usage: 46.9+ KB\n"
     ]
    },
    {
     "data": {
      "text/html": [
       "<div>\n",
       "<style scoped>\n",
       "    .dataframe tbody tr th:only-of-type {\n",
       "        vertical-align: middle;\n",
       "    }\n",
       "\n",
       "    .dataframe tbody tr th {\n",
       "        vertical-align: top;\n",
       "    }\n",
       "\n",
       "    .dataframe thead th {\n",
       "        text-align: right;\n",
       "    }\n",
       "</style>\n",
       "<table border=\"1\" class=\"dataframe\">\n",
       "  <thead>\n",
       "    <tr style=\"text-align: right;\">\n",
       "      <th></th>\n",
       "      <th>transactionId</th>\n",
       "      <th>visitorId</th>\n",
       "      <th>date</th>\n",
       "      <th>revenue</th>\n",
       "      <th>group</th>\n",
       "    </tr>\n",
       "  </thead>\n",
       "  <tbody>\n",
       "    <tr>\n",
       "      <th>0</th>\n",
       "      <td>3667963787</td>\n",
       "      <td>3312258926</td>\n",
       "      <td>2019-08-15</td>\n",
       "      <td>1650</td>\n",
       "      <td>B</td>\n",
       "    </tr>\n",
       "    <tr>\n",
       "      <th>1</th>\n",
       "      <td>2804400009</td>\n",
       "      <td>3642806036</td>\n",
       "      <td>2019-08-15</td>\n",
       "      <td>730</td>\n",
       "      <td>B</td>\n",
       "    </tr>\n",
       "    <tr>\n",
       "      <th>2</th>\n",
       "      <td>2961555356</td>\n",
       "      <td>4069496402</td>\n",
       "      <td>2019-08-15</td>\n",
       "      <td>400</td>\n",
       "      <td>A</td>\n",
       "    </tr>\n",
       "    <tr>\n",
       "      <th>3</th>\n",
       "      <td>3797467345</td>\n",
       "      <td>1196621759</td>\n",
       "      <td>2019-08-15</td>\n",
       "      <td>9759</td>\n",
       "      <td>B</td>\n",
       "    </tr>\n",
       "    <tr>\n",
       "      <th>4</th>\n",
       "      <td>2282983706</td>\n",
       "      <td>2322279887</td>\n",
       "      <td>2019-08-15</td>\n",
       "      <td>2308</td>\n",
       "      <td>B</td>\n",
       "    </tr>\n",
       "  </tbody>\n",
       "</table>\n",
       "</div>"
      ],
      "text/plain": [
       "   transactionId   visitorId        date  revenue group\n",
       "0     3667963787  3312258926  2019-08-15     1650     B\n",
       "1     2804400009  3642806036  2019-08-15      730     B\n",
       "2     2961555356  4069496402  2019-08-15      400     A\n",
       "3     3797467345  1196621759  2019-08-15     9759     B\n",
       "4     2282983706  2322279887  2019-08-15     2308     B"
      ]
     },
     "execution_count": 7,
     "metadata": {},
     "output_type": "execute_result"
    }
   ],
   "source": [
    "orders.info()\n",
    "\n",
    "orders.head()"
   ]
  },
  {
   "cell_type": "code",
   "execution_count": 8,
   "metadata": {
    "id": "WP0RvFeqXqMT"
   },
   "outputs": [],
   "source": [
    "orders = orders.rename(columns={'transactionId': 'transaction_id','visitorId': 'visitor_id'})"
   ]
  },
  {
   "cell_type": "code",
   "execution_count": 9,
   "metadata": {
    "colab": {
     "base_uri": "https://localhost:8080/"
    },
    "id": "OPDXlE9TqRCC",
    "outputId": "71b9a941-7d37-4584-8d11-b622ed7944c0"
   },
   "outputs": [
    {
     "name": "stdout",
     "output_type": "stream",
     "text": [
      "Количество явных дубликатов: 0\n"
     ]
    }
   ],
   "source": [
    "print(f\"Количество явных дубликатов: {orders.duplicated().sum()}\")"
   ]
  },
  {
   "cell_type": "code",
   "execution_count": 10,
   "metadata": {
    "id": "hAkc_0ORqRCE"
   },
   "outputs": [],
   "source": [
    "orders['date'] = pd.to_datetime(orders['date'])"
   ]
  },
  {
   "cell_type": "code",
   "execution_count": 11,
   "metadata": {
    "colab": {
     "base_uri": "https://localhost:8080/"
    },
    "id": "xJq8Y4GfW0hn",
    "outputId": "7ef4de5d-2b2b-4181-fe6e-9052b8449960"
   },
   "outputs": [
    {
     "name": "stdout",
     "output_type": "stream",
     "text": [
      "<class 'pandas.core.frame.DataFrame'>\n",
      "RangeIndex: 1197 entries, 0 to 1196\n",
      "Data columns (total 5 columns):\n",
      " #   Column          Non-Null Count  Dtype         \n",
      "---  ------          --------------  -----         \n",
      " 0   transaction_id  1197 non-null   int64         \n",
      " 1   visitor_id      1197 non-null   int64         \n",
      " 2   date            1197 non-null   datetime64[ns]\n",
      " 3   revenue         1197 non-null   int64         \n",
      " 4   group           1197 non-null   object        \n",
      "dtypes: datetime64[ns](1), int64(3), object(1)\n",
      "memory usage: 46.9+ KB\n"
     ]
    }
   ],
   "source": [
    "orders.info()"
   ]
  },
  {
   "cell_type": "markdown",
   "metadata": {
    "id": "uvM6S8sDNg5I"
   },
   "source": [
    "## Проведем предобработку  **`visitors`**"
   ]
  },
  {
   "cell_type": "code",
   "execution_count": 12,
   "metadata": {
    "colab": {
     "base_uri": "https://localhost:8080/",
     "height": 380
    },
    "id": "HHRCrhfRqRCD",
    "outputId": "f0c95101-8d2c-4c51-a934-6921a94eb59c"
   },
   "outputs": [
    {
     "name": "stdout",
     "output_type": "stream",
     "text": [
      "<class 'pandas.core.frame.DataFrame'>\n",
      "RangeIndex: 62 entries, 0 to 61\n",
      "Data columns (total 3 columns):\n",
      " #   Column    Non-Null Count  Dtype \n",
      "---  ------    --------------  ----- \n",
      " 0   date      62 non-null     object\n",
      " 1   group     62 non-null     object\n",
      " 2   visitors  62 non-null     int64 \n",
      "dtypes: int64(1), object(2)\n",
      "memory usage: 1.6+ KB\n"
     ]
    },
    {
     "data": {
      "text/html": [
       "<div>\n",
       "<style scoped>\n",
       "    .dataframe tbody tr th:only-of-type {\n",
       "        vertical-align: middle;\n",
       "    }\n",
       "\n",
       "    .dataframe tbody tr th {\n",
       "        vertical-align: top;\n",
       "    }\n",
       "\n",
       "    .dataframe thead th {\n",
       "        text-align: right;\n",
       "    }\n",
       "</style>\n",
       "<table border=\"1\" class=\"dataframe\">\n",
       "  <thead>\n",
       "    <tr style=\"text-align: right;\">\n",
       "      <th></th>\n",
       "      <th>date</th>\n",
       "      <th>group</th>\n",
       "      <th>visitors</th>\n",
       "    </tr>\n",
       "  </thead>\n",
       "  <tbody>\n",
       "    <tr>\n",
       "      <th>0</th>\n",
       "      <td>2019-08-01</td>\n",
       "      <td>A</td>\n",
       "      <td>719</td>\n",
       "    </tr>\n",
       "    <tr>\n",
       "      <th>1</th>\n",
       "      <td>2019-08-02</td>\n",
       "      <td>A</td>\n",
       "      <td>619</td>\n",
       "    </tr>\n",
       "    <tr>\n",
       "      <th>2</th>\n",
       "      <td>2019-08-03</td>\n",
       "      <td>A</td>\n",
       "      <td>507</td>\n",
       "    </tr>\n",
       "    <tr>\n",
       "      <th>3</th>\n",
       "      <td>2019-08-04</td>\n",
       "      <td>A</td>\n",
       "      <td>717</td>\n",
       "    </tr>\n",
       "    <tr>\n",
       "      <th>4</th>\n",
       "      <td>2019-08-05</td>\n",
       "      <td>A</td>\n",
       "      <td>756</td>\n",
       "    </tr>\n",
       "  </tbody>\n",
       "</table>\n",
       "</div>"
      ],
      "text/plain": [
       "         date group  visitors\n",
       "0  2019-08-01     A       719\n",
       "1  2019-08-02     A       619\n",
       "2  2019-08-03     A       507\n",
       "3  2019-08-04     A       717\n",
       "4  2019-08-05     A       756"
      ]
     },
     "execution_count": 12,
     "metadata": {},
     "output_type": "execute_result"
    }
   ],
   "source": [
    "visitors.info()\n",
    "\n",
    "visitors.head()"
   ]
  },
  {
   "cell_type": "code",
   "execution_count": 13,
   "metadata": {
    "colab": {
     "base_uri": "https://localhost:8080/"
    },
    "id": "7aFzf4PzqRCD",
    "outputId": "959e4a19-697b-4184-8fcc-8681b0895b44"
   },
   "outputs": [
    {
     "name": "stdout",
     "output_type": "stream",
     "text": [
      "Количество явных дубликатов: 0\n"
     ]
    }
   ],
   "source": [
    "print(f\"Количество явных дубликатов: {visitors.duplicated().sum()}\")"
   ]
  },
  {
   "cell_type": "code",
   "execution_count": 14,
   "metadata": {
    "id": "ony-mKDLNoLY"
   },
   "outputs": [],
   "source": [
    "visitors['date'] = pd.to_datetime(visitors['date'])"
   ]
  },
  {
   "cell_type": "code",
   "execution_count": 15,
   "metadata": {
    "colab": {
     "base_uri": "https://localhost:8080/"
    },
    "id": "pRddT-07W7Yx",
    "outputId": "332c1951-b2b7-48da-c42d-0b073380dc57"
   },
   "outputs": [
    {
     "name": "stdout",
     "output_type": "stream",
     "text": [
      "<class 'pandas.core.frame.DataFrame'>\n",
      "RangeIndex: 62 entries, 0 to 61\n",
      "Data columns (total 3 columns):\n",
      " #   Column    Non-Null Count  Dtype         \n",
      "---  ------    --------------  -----         \n",
      " 0   date      62 non-null     datetime64[ns]\n",
      " 1   group     62 non-null     object        \n",
      " 2   visitors  62 non-null     int64         \n",
      "dtypes: datetime64[ns](1), int64(1), object(1)\n",
      "memory usage: 1.6+ KB\n"
     ]
    }
   ],
   "source": [
    "visitors.info()"
   ]
  },
  {
   "cell_type": "markdown",
   "metadata": {
    "id": "iuclGDf_Uoi1"
   },
   "source": [
    "## Поиск пользователей, попавших в обе группы"
   ]
  },
  {
   "cell_type": "code",
   "execution_count": 16,
   "metadata": {
    "colab": {
     "base_uri": "https://localhost:8080/"
    },
    "id": "UxJbYNqcUwXV",
    "outputId": "6844dc8d-092c-4ff8-a349-be48ca74f700"
   },
   "outputs": [
    {
     "name": "stdout",
     "output_type": "stream",
     "text": [
      "Количество пользователей, попавших в обе группы: 58\n"
     ]
    }
   ],
   "source": [
    "duplicated_users = orders.groupby('visitor_id')['group'].nunique()\n",
    "duplicated_users = duplicated_users[duplicated_users > 1]\n",
    "\n",
    "print(f\"Количество пользователей, попавших в обе группы: {len(duplicated_users)}\")"
   ]
  },
  {
   "cell_type": "code",
   "execution_count": 17,
   "metadata": {
    "id": "Dw3ndw7UU_H3"
   },
   "outputs": [],
   "source": [
    "orders = orders.query('visitor_id not in @duplicated_users.index')"
   ]
  },
  {
   "cell_type": "markdown",
   "metadata": {},
   "source": [
    "\n",
    "    \n",
    "Удаление пользователей, которые попали в обе группы в A/B тесте, называется \"очисткой пересечения\" и используется для устранения возможного влияния пересечения на результаты тестирования.  \n",
    "\n",
    "При проведении A/B тестирования группы пользователей должны быть разделены случайным образом на контрольную и тестовую группы, чтобы получить объективную оценку влияния изменений. Если некоторые пользователи попадают в обе группы, это может привести к смещению результатов тестирования.  \n",
    "\n",
    "Например, если пользователь попал в обе группы и увидел разные версии страницы, он может стать более склонным к совершению действия, которое мы измеряем в тесте. Это может привести к искажению результатов тестирования и сделать их менее достоверными.  \n",
    "\n",
    "Поэтому, чтобы получить более точные результаты, рекомендуется удалять пользователей, которые попали в обе группы. Это помогает убедиться, что результаты тестирования действительно отражают влияние изменений, а не влияние факторов, связанных с пересечением групп.  \n",
    "    \n",
    "\n",
    "\n",
    "    "
   ]
  },
  {
   "cell_type": "markdown",
   "metadata": {
    "id": "BnvTOmhRU43G"
   },
   "source": [
    "## Вывод\n",
    "\n",
    "Три таблицы были выгружены и проверены на отсутствие пропущенных значений и дубликатов. Названия колонок были переименованы для корректности, а также были преобразованы данные, где это было необходимо.\n",
    "Также были найдены и удалены пользователи, которые находили в двух группах."
   ]
  },
  {
   "cell_type": "markdown",
   "metadata": {
    "id": "Ai0UeVbhVU1h"
   },
   "source": [
    "# Часть 1. Приоритизация гипотез.  \n",
    "      \n",
    "В файле `/datasets/hypothesis.csv` 9 гипотез по увеличению выручки интернет-магазина с указанными параметрами `Reach`, `Impact`, `Confidence`, `Effort`.\n",
    "      \n",
    "**Задача:**  \n",
    "* Применим фреймворк `ICE` для приоритизации гипотез. Отсортируем их по убыванию приоритета.  \n",
    "* Применим фреймворк `RICE` для приоритизации гипотез. Отсортируем их по убыванию приоритета.  \n",
    "* Укажем, как изменилась приоритизация гипотез при применении `RICE` вместо `ICE`. Объясните, почему так произошло."
   ]
  },
  {
   "cell_type": "markdown",
   "metadata": {
    "id": "jr4GpM1vVcTH"
   },
   "source": [
    "## Применим фреймворк `ICE` для приоритизации гипотез. Отсортируем их по убыванию приоритета. \n",
    "![image.png](data:image/png;base64,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)"
   ]
  },
  {
   "cell_type": "code",
   "execution_count": 18,
   "metadata": {
    "id": "zOGeTQ2ZVclh"
   },
   "outputs": [],
   "source": [
    "hypothesis['ICE'] = (hypothesis['impact'] * hypothesis['confidence']) / hypothesis['efforts']\n",
    "hypothesis['ICE'] = hypothesis['ICE'].round(2)\n",
    "hypothesis = hypothesis.sort_values(by='ICE', ascending=False)"
   ]
  },
  {
   "cell_type": "code",
   "execution_count": 19,
   "metadata": {
    "colab": {
     "base_uri": "https://localhost:8080/",
     "height": 332
    },
    "id": "JHL1xNk2ang9",
    "outputId": "dc1f120b-7961-477b-90ff-d8a0aafa4366"
   },
   "outputs": [
    {
     "data": {
      "text/html": [
       "<div>\n",
       "<style scoped>\n",
       "    .dataframe tbody tr th:only-of-type {\n",
       "        vertical-align: middle;\n",
       "    }\n",
       "\n",
       "    .dataframe tbody tr th {\n",
       "        vertical-align: top;\n",
       "    }\n",
       "\n",
       "    .dataframe thead th {\n",
       "        text-align: right;\n",
       "    }\n",
       "</style>\n",
       "<table border=\"1\" class=\"dataframe\">\n",
       "  <thead>\n",
       "    <tr style=\"text-align: right;\">\n",
       "      <th></th>\n",
       "      <th>hypothesis</th>\n",
       "      <th>reach</th>\n",
       "      <th>impact</th>\n",
       "      <th>confidence</th>\n",
       "      <th>efforts</th>\n",
       "      <th>ICE</th>\n",
       "    </tr>\n",
       "  </thead>\n",
       "  <tbody>\n",
       "    <tr>\n",
       "      <th>8</th>\n",
       "      <td>Запустить акцию, дающую скидку на товар в день рождения</td>\n",
       "      <td>1</td>\n",
       "      <td>9</td>\n",
       "      <td>9</td>\n",
       "      <td>5</td>\n",
       "      <td>16.20</td>\n",
       "    </tr>\n",
       "    <tr>\n",
       "      <th>0</th>\n",
       "      <td>Добавить два новых канала привлечения трафика, что позволит привлекать на 30% больше пользователей</td>\n",
       "      <td>3</td>\n",
       "      <td>10</td>\n",
       "      <td>8</td>\n",
       "      <td>6</td>\n",
       "      <td>13.33</td>\n",
       "    </tr>\n",
       "    <tr>\n",
       "      <th>7</th>\n",
       "      <td>Добавить форму подписки на все основные страницы, чтобы собрать базу клиентов для email-рассылок</td>\n",
       "      <td>10</td>\n",
       "      <td>7</td>\n",
       "      <td>8</td>\n",
       "      <td>5</td>\n",
       "      <td>11.20</td>\n",
       "    </tr>\n",
       "    <tr>\n",
       "      <th>6</th>\n",
       "      <td>Показать на главной странице баннеры с актуальными акциями и распродажами, чтобы увеличить конве...</td>\n",
       "      <td>5</td>\n",
       "      <td>3</td>\n",
       "      <td>8</td>\n",
       "      <td>3</td>\n",
       "      <td>8.00</td>\n",
       "    </tr>\n",
       "    <tr>\n",
       "      <th>2</th>\n",
       "      <td>Добавить блоки рекомендаций товаров на сайт интернет магазина, чтобы повысить конверсию и средни...</td>\n",
       "      <td>8</td>\n",
       "      <td>3</td>\n",
       "      <td>7</td>\n",
       "      <td>3</td>\n",
       "      <td>7.00</td>\n",
       "    </tr>\n",
       "    <tr>\n",
       "      <th>1</th>\n",
       "      <td>Запустить собственную службу доставки, что сократит срок доставки заказов</td>\n",
       "      <td>2</td>\n",
       "      <td>5</td>\n",
       "      <td>4</td>\n",
       "      <td>10</td>\n",
       "      <td>2.00</td>\n",
       "    </tr>\n",
       "    <tr>\n",
       "      <th>5</th>\n",
       "      <td>Добавить страницу отзывов клиентов о магазине, что позволит увеличить количество заказов</td>\n",
       "      <td>3</td>\n",
       "      <td>2</td>\n",
       "      <td>2</td>\n",
       "      <td>3</td>\n",
       "      <td>1.33</td>\n",
       "    </tr>\n",
       "    <tr>\n",
       "      <th>3</th>\n",
       "      <td>Изменить структура категорий, что увеличит конверсию, т.к. пользователи быстрее найдут нужный товар</td>\n",
       "      <td>8</td>\n",
       "      <td>3</td>\n",
       "      <td>3</td>\n",
       "      <td>8</td>\n",
       "      <td>1.12</td>\n",
       "    </tr>\n",
       "    <tr>\n",
       "      <th>4</th>\n",
       "      <td>Изменить цвет фона главной страницы, чтобы увеличить вовлеченность пользователей</td>\n",
       "      <td>3</td>\n",
       "      <td>1</td>\n",
       "      <td>1</td>\n",
       "      <td>1</td>\n",
       "      <td>1.00</td>\n",
       "    </tr>\n",
       "  </tbody>\n",
       "</table>\n",
       "</div>"
      ],
      "text/plain": [
       "                                                                                            hypothesis  \\\n",
       "8                                              Запустить акцию, дающую скидку на товар в день рождения   \n",
       "0   Добавить два новых канала привлечения трафика, что позволит привлекать на 30% больше пользователей   \n",
       "7     Добавить форму подписки на все основные страницы, чтобы собрать базу клиентов для email-рассылок   \n",
       "6  Показать на главной странице баннеры с актуальными акциями и распродажами, чтобы увеличить конве...   \n",
       "2  Добавить блоки рекомендаций товаров на сайт интернет магазина, чтобы повысить конверсию и средни...   \n",
       "1                            Запустить собственную службу доставки, что сократит срок доставки заказов   \n",
       "5             Добавить страницу отзывов клиентов о магазине, что позволит увеличить количество заказов   \n",
       "3  Изменить структура категорий, что увеличит конверсию, т.к. пользователи быстрее найдут нужный товар   \n",
       "4                     Изменить цвет фона главной страницы, чтобы увеличить вовлеченность пользователей   \n",
       "\n",
       "   reach  impact  confidence  efforts    ICE  \n",
       "8      1       9           9        5  16.20  \n",
       "0      3      10           8        6  13.33  \n",
       "7     10       7           8        5  11.20  \n",
       "6      5       3           8        3   8.00  \n",
       "2      8       3           7        3   7.00  \n",
       "1      2       5           4       10   2.00  \n",
       "5      3       2           2        3   1.33  \n",
       "3      8       3           3        8   1.12  \n",
       "4      3       1           1        1   1.00  "
      ]
     },
     "execution_count": 19,
     "metadata": {},
     "output_type": "execute_result"
    }
   ],
   "source": [
    "hypothesis"
   ]
  },
  {
   "cell_type": "markdown",
   "metadata": {
    "id": "qlf5iIXUgY1i"
   },
   "source": [
    "Мы можем заметить, что гипотезы под номерами 8, 0, 7, 6 и 2 являются наиболее значимыми с точки зрения их потенциального влияния на выручку, не учитывая охват пользователей."
   ]
  },
  {
   "cell_type": "markdown",
   "metadata": {
    "id": "ICErfLIsVcu7"
   },
   "source": [
    "## Применим фреймворк `RICE` для приоритизации гипотез. Отсортируем их по убыванию приоритета.  \n",
    "\n",
    "![image.png](data:image/png;base64,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)"
   ]
  },
  {
   "cell_type": "code",
   "execution_count": 20,
   "metadata": {
    "id": "VzHSb9fPVdB_"
   },
   "outputs": [],
   "source": [
    "hypothesis['RICE'] = (hypothesis['reach'] * hypothesis['impact'] * hypothesis['confidence']) / hypothesis['efforts']\n",
    "hypothesis['RICE'] = hypothesis['RICE'].round(2)\n",
    "hypothesis = hypothesis.sort_values(by='RICE', ascending=False)"
   ]
  },
  {
   "cell_type": "code",
   "execution_count": 21,
   "metadata": {
    "colab": {
     "base_uri": "https://localhost:8080/",
     "height": 332
    },
    "id": "AdMvzcJ-aqOb",
    "outputId": "bda83193-8db7-4bf0-819f-68e97c2d2638"
   },
   "outputs": [
    {
     "data": {
      "text/html": [
       "<div>\n",
       "<style scoped>\n",
       "    .dataframe tbody tr th:only-of-type {\n",
       "        vertical-align: middle;\n",
       "    }\n",
       "\n",
       "    .dataframe tbody tr th {\n",
       "        vertical-align: top;\n",
       "    }\n",
       "\n",
       "    .dataframe thead th {\n",
       "        text-align: right;\n",
       "    }\n",
       "</style>\n",
       "<table border=\"1\" class=\"dataframe\">\n",
       "  <thead>\n",
       "    <tr style=\"text-align: right;\">\n",
       "      <th></th>\n",
       "      <th>hypothesis</th>\n",
       "      <th>reach</th>\n",
       "      <th>impact</th>\n",
       "      <th>confidence</th>\n",
       "      <th>efforts</th>\n",
       "      <th>ICE</th>\n",
       "      <th>RICE</th>\n",
       "    </tr>\n",
       "  </thead>\n",
       "  <tbody>\n",
       "    <tr>\n",
       "      <th>7</th>\n",
       "      <td>Добавить форму подписки на все основные страницы, чтобы собрать базу клиентов для email-рассылок</td>\n",
       "      <td>10</td>\n",
       "      <td>7</td>\n",
       "      <td>8</td>\n",
       "      <td>5</td>\n",
       "      <td>11.20</td>\n",
       "      <td>112.0</td>\n",
       "    </tr>\n",
       "    <tr>\n",
       "      <th>2</th>\n",
       "      <td>Добавить блоки рекомендаций товаров на сайт интернет магазина, чтобы повысить конверсию и средни...</td>\n",
       "      <td>8</td>\n",
       "      <td>3</td>\n",
       "      <td>7</td>\n",
       "      <td>3</td>\n",
       "      <td>7.00</td>\n",
       "      <td>56.0</td>\n",
       "    </tr>\n",
       "    <tr>\n",
       "      <th>0</th>\n",
       "      <td>Добавить два новых канала привлечения трафика, что позволит привлекать на 30% больше пользователей</td>\n",
       "      <td>3</td>\n",
       "      <td>10</td>\n",
       "      <td>8</td>\n",
       "      <td>6</td>\n",
       "      <td>13.33</td>\n",
       "      <td>40.0</td>\n",
       "    </tr>\n",
       "    <tr>\n",
       "      <th>6</th>\n",
       "      <td>Показать на главной странице баннеры с актуальными акциями и распродажами, чтобы увеличить конве...</td>\n",
       "      <td>5</td>\n",
       "      <td>3</td>\n",
       "      <td>8</td>\n",
       "      <td>3</td>\n",
       "      <td>8.00</td>\n",
       "      <td>40.0</td>\n",
       "    </tr>\n",
       "    <tr>\n",
       "      <th>8</th>\n",
       "      <td>Запустить акцию, дающую скидку на товар в день рождения</td>\n",
       "      <td>1</td>\n",
       "      <td>9</td>\n",
       "      <td>9</td>\n",
       "      <td>5</td>\n",
       "      <td>16.20</td>\n",
       "      <td>16.2</td>\n",
       "    </tr>\n",
       "    <tr>\n",
       "      <th>3</th>\n",
       "      <td>Изменить структура категорий, что увеличит конверсию, т.к. пользователи быстрее найдут нужный товар</td>\n",
       "      <td>8</td>\n",
       "      <td>3</td>\n",
       "      <td>3</td>\n",
       "      <td>8</td>\n",
       "      <td>1.12</td>\n",
       "      <td>9.0</td>\n",
       "    </tr>\n",
       "    <tr>\n",
       "      <th>1</th>\n",
       "      <td>Запустить собственную службу доставки, что сократит срок доставки заказов</td>\n",
       "      <td>2</td>\n",
       "      <td>5</td>\n",
       "      <td>4</td>\n",
       "      <td>10</td>\n",
       "      <td>2.00</td>\n",
       "      <td>4.0</td>\n",
       "    </tr>\n",
       "    <tr>\n",
       "      <th>5</th>\n",
       "      <td>Добавить страницу отзывов клиентов о магазине, что позволит увеличить количество заказов</td>\n",
       "      <td>3</td>\n",
       "      <td>2</td>\n",
       "      <td>2</td>\n",
       "      <td>3</td>\n",
       "      <td>1.33</td>\n",
       "      <td>4.0</td>\n",
       "    </tr>\n",
       "    <tr>\n",
       "      <th>4</th>\n",
       "      <td>Изменить цвет фона главной страницы, чтобы увеличить вовлеченность пользователей</td>\n",
       "      <td>3</td>\n",
       "      <td>1</td>\n",
       "      <td>1</td>\n",
       "      <td>1</td>\n",
       "      <td>1.00</td>\n",
       "      <td>3.0</td>\n",
       "    </tr>\n",
       "  </tbody>\n",
       "</table>\n",
       "</div>"
      ],
      "text/plain": [
       "                                                                                            hypothesis  \\\n",
       "7     Добавить форму подписки на все основные страницы, чтобы собрать базу клиентов для email-рассылок   \n",
       "2  Добавить блоки рекомендаций товаров на сайт интернет магазина, чтобы повысить конверсию и средни...   \n",
       "0   Добавить два новых канала привлечения трафика, что позволит привлекать на 30% больше пользователей   \n",
       "6  Показать на главной странице баннеры с актуальными акциями и распродажами, чтобы увеличить конве...   \n",
       "8                                              Запустить акцию, дающую скидку на товар в день рождения   \n",
       "3  Изменить структура категорий, что увеличит конверсию, т.к. пользователи быстрее найдут нужный товар   \n",
       "1                            Запустить собственную службу доставки, что сократит срок доставки заказов   \n",
       "5             Добавить страницу отзывов клиентов о магазине, что позволит увеличить количество заказов   \n",
       "4                     Изменить цвет фона главной страницы, чтобы увеличить вовлеченность пользователей   \n",
       "\n",
       "   reach  impact  confidence  efforts    ICE   RICE  \n",
       "7     10       7           8        5  11.20  112.0  \n",
       "2      8       3           7        3   7.00   56.0  \n",
       "0      3      10           8        6  13.33   40.0  \n",
       "6      5       3           8        3   8.00   40.0  \n",
       "8      1       9           9        5  16.20   16.2  \n",
       "3      8       3           3        8   1.12    9.0  \n",
       "1      2       5           4       10   2.00    4.0  \n",
       "5      3       2           2        3   1.33    4.0  \n",
       "4      3       1           1        1   1.00    3.0  "
      ]
     },
     "execution_count": 21,
     "metadata": {},
     "output_type": "execute_result"
    }
   ],
   "source": [
    "hypothesis"
   ]
  },
  {
   "cell_type": "markdown",
   "metadata": {
    "id": "4hWIrF_5gnMU"
   },
   "source": [
    "Заметно, что после использования метода RICE порядок приоритетности гипотез изменился, и теперь наиболее перспективными гипотезами будут те, которые имеют номера 7, 2, 0, 6 и 8 в порядке убывания важности."
   ]
  },
  {
   "cell_type": "markdown",
   "metadata": {},
   "source": [
    "## Объяснение разницы между `ICE` и `RICE`."
   ]
  },
  {
   "cell_type": "markdown",
   "metadata": {},
   "source": [
    "\n",
    "\n",
    "\n",
    "Оба фреймворка используются для приоритизации задач или функциональностей в продукте, но они различаются в способе расчета приоритета.\n",
    "\n",
    "Фреймворк ICE (Impact, Confidence, Ease) использует следующую формулу для определения приоритета задачи:\n",
    "\n",
    "`ICE = (Impact x Confidence x Ease)`\n",
    "\n",
    "где Impact (влияние) - оценка того, как сильно задача повлияет на метрики продукта, Confidence (уверенность) - уверенность в том, что изменения повлияют на метрики продукта, Ease (легкость) - оценка того, насколько легко реализовать задачу.\n",
    "\n",
    "Фреймворк RICE (Reach, Impact, Confidence, Ease) учитывает еще один фактор - охват (Reach), то есть, сколько пользователей затронет изменение. Формула для расчета RICE:\n",
    "\n",
    "`RICE = (Reach x Impact x Confidence x Ease)`\n",
    "\n",
    "где Reach (охват) - оценка того, сколько пользователей затронет изменение.\n",
    "\n",
    "Таким образом, RICE учитывает не только силу воздействия на метрики продукта, но и количество пользователей, которых это изменение затронет, что может быть важным для бизнеса, особенно если есть ограничения по ресурсам.\n",
    "\n",
    "Поэтому, при использовании RICE вместо ICE, более приоритетными будут задачи с большим охватом пользователей, даже если их влияние на метрики продукта не очень большое.\n",
    "\n"
   ]
  },
  {
   "cell_type": "markdown",
   "metadata": {
    "id": "aSwbhfF_VdJs"
   },
   "source": [
    "## Укажем, как изменилась приоритизация гипотез при применении `RICE` вместо `ICE`. Объясните, почему так произошло."
   ]
  },
  {
   "cell_type": "markdown",
   "metadata": {
    "id": "69Dk3VJbgoIx"
   },
   "source": [
    "Гипотеза \"**Запустить акцию, дающую скидку на товар в день рождения**\" имеет самый высокий показатель ICE, равный 9 по impact и confidence, но при этом имеет минимальное значение reach - только 1, что означает, что она окажет минимальное влияние и затронет небольшое количество пользователей.\n",
    "\n",
    "С другой стороны, гипотеза \"**Добавить форму подписки на все основные страницы, чтобы собрать базу клиентов для email-рассылок**\" имеет самый высокий показатель RICE, благодаря высокому значению reach, равному 10. Это означает, что добавление формы подписки окажет большее влияние и затронет большое количество пользователей, которые могут стать лояльными к компании в будущем.\n",
    "\n",
    "Кроме того, стоит отметить, что топ-5 гипотез по обоим фреймворкам одинаковы, но порядок их приоритетности отличается. Поэтому следует обратить внимание на эти пять гипотез в первую очередь при принятии решения."
   ]
  },
  {
   "cell_type": "markdown",
   "metadata": {
    "id": "Rqs-7r8PVtsX"
   },
   "source": [
    "# Часть 2. Анализ A/B-теста.    \n",
    "      \n",
    "Вы провели A/B-тест и получили результаты, которые описаны в файлах `/datasets/orders.csv` и `/datasets/visitors.csv`.\n",
    "    \n",
    "**Задача:**  \n",
    "      \n",
    "Проанализируйте A/B-тест:  \n",
    "\n",
    "\n",
    "\n",
    "1.   Построим график кумулятивной выручки по группам. Сделаем выводы и предположения. \n",
    "2.   Построим график кумулятивного среднего чека по группам. Сделаем выводы и предположения. \n",
    "3.   Построим график относительного изменения кумулятивного среднего чека группы B к группе A. Сделаем выводы и предположения.\n",
    "4.   Построим график кумулятивного среднего количества заказов по группам. Сделаем выводы и предположения.\n",
    "5.   Построим график относительного изменения кумулятивного среднего количества заказов группы B к группе A. Сделаем выводы и предположения.\n",
    "6.   Построим точечный график количества заказов по пользователям. Сделаем выводы и предположения.\n",
    "7.   Посчитаем 95-й и 99-й перцентили количества заказов на пользователя. Выберем границу для определения аномальных пользователей. \n",
    "8.   Построим точечный график стоимостей заказов. Сделаем выводы и предположения. \n",
    "9.   Посчитаем 95-й и 99-й перцентили стоимости заказов. Выберем границу для определения аномальных заказов.\n",
    "10.  Посчитаем статистическую значимость различий в среднем количестве заказов между группами по «сырым» данным. Сделаем выводы и предположения.\n",
    "11.  Посчитаем статистическую значимость различий в среднем чеке заказа между группами по «сырым» данным. Сделаем выводы и предположения.\n",
    "12.  Посчитаем статистическую значимость различий в среднем количестве заказов между группами по «очищенным» данным. Сделаем выводы и предположения.   \n",
    "13.  Посчитаем статистическую значимость различий в среднем чеке заказа между группами по «очищенным» данным. Сделаем выводы и предположения.  \n",
    "14.  Примим решение по результатам теста и объясним его.  \n",
    "     1.  Остановить тест, зафиксировать победу одной из групп. \n",
    "     2.  Остановить тест, зафиксировать отсутствие различий между группами. \n",
    "     3.  Продолжить тест.  "
   ]
  },
  {
   "cell_type": "markdown",
   "metadata": {
    "id": "t8pyN_4vV-sX"
   },
   "source": [
    "## Построим график кумулятивной выручки по группам. Сделаем выводы и предположения. "
   ]
  },
  {
   "cell_type": "code",
   "execution_count": 22,
   "metadata": {
    "colab": {
     "base_uri": "https://localhost:8080/",
     "height": 206
    },
    "id": "9T0dlWEjhS6f",
    "outputId": "31b5dc66-85f0-46f0-b7da-af4f5b353ada"
   },
   "outputs": [
    {
     "data": {
      "text/html": [
       "<div>\n",
       "<style scoped>\n",
       "    .dataframe tbody tr th:only-of-type {\n",
       "        vertical-align: middle;\n",
       "    }\n",
       "\n",
       "    .dataframe tbody tr th {\n",
       "        vertical-align: top;\n",
       "    }\n",
       "\n",
       "    .dataframe thead th {\n",
       "        text-align: right;\n",
       "    }\n",
       "</style>\n",
       "<table border=\"1\" class=\"dataframe\">\n",
       "  <thead>\n",
       "    <tr style=\"text-align: right;\">\n",
       "      <th></th>\n",
       "      <th>date</th>\n",
       "      <th>group</th>\n",
       "      <th>orders</th>\n",
       "      <th>buyers</th>\n",
       "      <th>revenue</th>\n",
       "      <th>visitors</th>\n",
       "    </tr>\n",
       "  </thead>\n",
       "  <tbody>\n",
       "    <tr>\n",
       "      <th>0</th>\n",
       "      <td>2019-08-01</td>\n",
       "      <td>A</td>\n",
       "      <td>23</td>\n",
       "      <td>19</td>\n",
       "      <td>142779</td>\n",
       "      <td>719</td>\n",
       "    </tr>\n",
       "    <tr>\n",
       "      <th>1</th>\n",
       "      <td>2019-08-01</td>\n",
       "      <td>B</td>\n",
       "      <td>17</td>\n",
       "      <td>17</td>\n",
       "      <td>59758</td>\n",
       "      <td>713</td>\n",
       "    </tr>\n",
       "    <tr>\n",
       "      <th>2</th>\n",
       "      <td>2019-08-02</td>\n",
       "      <td>A</td>\n",
       "      <td>42</td>\n",
       "      <td>36</td>\n",
       "      <td>234381</td>\n",
       "      <td>1338</td>\n",
       "    </tr>\n",
       "    <tr>\n",
       "      <th>3</th>\n",
       "      <td>2019-08-02</td>\n",
       "      <td>B</td>\n",
       "      <td>40</td>\n",
       "      <td>39</td>\n",
       "      <td>221801</td>\n",
       "      <td>1294</td>\n",
       "    </tr>\n",
       "    <tr>\n",
       "      <th>4</th>\n",
       "      <td>2019-08-03</td>\n",
       "      <td>A</td>\n",
       "      <td>66</td>\n",
       "      <td>60</td>\n",
       "      <td>346854</td>\n",
       "      <td>1845</td>\n",
       "    </tr>\n",
       "  </tbody>\n",
       "</table>\n",
       "</div>"
      ],
      "text/plain": [
       "        date group  orders  buyers  revenue  visitors\n",
       "0 2019-08-01     A      23      19   142779       719\n",
       "1 2019-08-01     B      17      17    59758       713\n",
       "2 2019-08-02     A      42      36   234381      1338\n",
       "3 2019-08-02     B      40      39   221801      1294\n",
       "4 2019-08-03     A      66      60   346854      1845"
      ]
     },
     "execution_count": 22,
     "metadata": {},
     "output_type": "execute_result"
    }
   ],
   "source": [
    "unique_dates_groups = orders[['date', 'group']].drop_duplicates()\n",
    "\n",
    "orders_aggregated = unique_dates_groups.apply(\n",
    "    lambda x: orders[\n",
    "        (orders['date'] <= x['date']) & (orders['group'] == x['group'])\n",
    "    ].agg({\n",
    "        'date': 'max',\n",
    "        'group': 'max',\n",
    "        'transaction_id': 'nunique',\n",
    "        'visitor_id': 'nunique',\n",
    "        'revenue': 'sum'\n",
    "    }),\n",
    "    axis=1\n",
    ").sort_values(by=['date', 'group'])\n",
    "\n",
    "visitors_aggregated = unique_dates_groups.apply(\n",
    "    lambda x: visitors[\n",
    "        (visitors['date'] <= x['date']) & (visitors['group'] == x['group'])\n",
    "    ].agg({\n",
    "        'date': 'max',\n",
    "        'group': 'max',\n",
    "        'visitors': 'sum'\n",
    "    }),\n",
    "    axis=1\n",
    ").sort_values(by=['date', 'group'])\n",
    "\n",
    "cumulative_data = orders_aggregated.merge(\n",
    "    visitors_aggregated, \n",
    "    left_on=['date', 'group'], \n",
    "    right_on=['date', 'group']\n",
    ")\n",
    "\n",
    "cumulative_data.columns = ['date', 'group', 'orders', 'buyers', 'revenue', 'visitors']\n",
    "\n",
    "cumulative_data.head()\n"
   ]
  },
  {
   "cell_type": "code",
   "execution_count": 23,
   "metadata": {
    "colab": {
     "base_uri": "https://localhost:8080/",
     "height": 564
    },
    "id": "7g1XMBkssCoQ",
    "outputId": "cad18ee7-3e21-4b04-c1fc-b7b3a6306eef"
   },
   "outputs": [
    {
     "data": {
      "image/png": "[encoded data removed]",
      "text/plain": [
       "<Figure size 864x432 with 1 Axes>"
      ]
     },
     "metadata": {
      "needs_background": "light"
     },
     "output_type": "display_data"
    }
   ],
   "source": [
    "# Создаем датафрейм с кумулятивным количеством заказов и кумулятивной выручкой по дням в группе А\n",
    "cumulative_revenue_A = cumulative_data[cumulative_data['group'] == 'A'][['date', 'revenue', 'orders']]\n",
    "\n",
    "# Создаем датафрейм с кумулятивным количеством заказов и кумулятивной выручкой по дням в группе B\n",
    "cumulative_revenue_B = cumulative_data[cumulative_data['group'] == 'B'][['date', 'revenue', 'orders']]\n",
    "\n",
    "# Строим график выручки группы А и группы B на одном графике\n",
    "plt.figure(figsize=(12, 6))\n",
    "\n",
    "plt.grid(True)\n",
    "\n",
    "plt.plot(cumulative_revenue_A['date'], cumulative_revenue_A['revenue'], linewidth=2, label='Группа A')\n",
    "\n",
    "plt.plot(cumulative_revenue_B['date'], cumulative_revenue_B['revenue'],linewidth=2,  label='Группа B')\n",
    "\n",
    "plt.legend()\n",
    "\n",
    "plt.title('График кумулятивной выручки по группам')\n",
    "\n",
    "plt.xlabel('Дата')\n",
    "\n",
    "plt.ylabel('Выручка')\n",
    "\n",
    "plt.show()\n"
   ]
  },
  {
   "cell_type": "markdown",
   "metadata": {
    "id": "MrjwtANTt08F"
   },
   "source": [
    "График кумулятивной выручки, построенный на необработанных данных, показывает, что А/В-тестирование проводилось в течение всего августа 2019 года. В первой половине месяца выручка в группах А и В росла примерно с одинаковой скоростью, хотя группа В показала небольшое преимущество. . Однако после 17 августа в группе В произошел резкий рост выручки, что значительно увеличило разрыв между группами, а затем темпы роста выручки стали примерно одинаковыми.\n"
   ]
  },
  {
   "cell_type": "markdown",
   "metadata": {
    "id": "_Q6V2oPMV-zN"
   },
   "source": [
    "## Построим график кумулятивного среднего чека по группам. Сделаем выводы и предположения."
   ]
  },
  {
   "cell_type": "code",
   "execution_count": 24,
   "metadata": {
    "colab": {
     "base_uri": "https://localhost:8080/",
     "height": 581
    },
    "id": "MoVxi6S_vKPQ",
    "outputId": "90b7c796-04bf-4ec1-e748-b844218bee94"
   },
   "outputs": [
    {
     "data": {
      "image/png": "[encoded data removed]",
      "text/plain": [
       "<Figure size 864x432 with 1 Axes>"
      ]
     },
     "metadata": {
      "needs_background": "light"
     },
     "output_type": "display_data"
    }
   ],
   "source": [
    "# создание графика среднего чека по группам теста\n",
    "plt.figure(figsize=(12,6))\n",
    "\n",
    "plt.grid(True)\n",
    "\n",
    "# построение графика среднего чека для группы А\n",
    "plt.plot(cumulative_revenue_A['date'], cumulative_revenue_A['revenue']/cumulative_revenue_A['orders'], label='A')\n",
    "\n",
    "# построение графика среднего чека для группы B\n",
    "plt.plot(cumulative_revenue_B['date'], cumulative_revenue_B['revenue']/cumulative_revenue_B['orders'], label='B')\n",
    "\n",
    "plt.legend()\n",
    "\n",
    "plt.title('График кумулятивного среднего чека по группам')\n",
    "\n",
    "plt.xlabel('Дата')\n",
    "\n",
    "plt.ylabel('Выручка');"
   ]
  },
  {
   "cell_type": "markdown",
   "metadata": {
    "id": "FPOj_BAdvtZR"
   },
   "source": [
    "\n",
    "\n",
    "Из графика изменения среднего чека можно заметить, что до 17-18 числа он изменялся максимум на 2000 единиц 6-7 числа, а затем стабилизировался. Однако, после виден резкий скачок в группе В, что может быть вызван несколькими крупными заказами, и это искажает результаты теста. "
   ]
  },
  {
   "cell_type": "markdown",
   "metadata": {
    "id": "GugW2De2V-5u"
   },
   "source": [
    "## Построим график относительного изменения кумулятивного среднего чека группы B к группе A. Сделаем выводы и предположения."
   ]
  },
  {
   "cell_type": "code",
   "execution_count": 25,
   "metadata": {
    "colab": {
     "base_uri": "https://localhost:8080/",
     "height": 599
    },
    "id": "T5YzuHYTw4xN",
    "outputId": "e2eda9d7-e213-44cb-fa41-c439f40a29db"
   },
   "outputs": [
    {
     "data": {
      "text/plain": [
       "Text(0, 0.5, 'Отношение среднего чека группы B к группе A')"
      ]
     },
     "execution_count": 25,
     "metadata": {},
     "output_type": "execute_result"
    },
    {
     "data": {
      "image/png": "[encoded data removed]",
      "text/plain": [
       "<Figure size 864x432 with 1 Axes>"
      ]
     },
     "metadata": {
      "needs_background": "light"
     },
     "output_type": "display_data"
    }
   ],
   "source": [
    "# объединение данных по кумулятивной выручке групп A и B в одном датафрейме\n",
    "merged_cumulative_revenue = cumulative_revenue_A.merge(cumulative_revenue_B, left_on='date', right_on='date', how='left', suffixes=['A', 'B'])\n",
    "\n",
    "# создание графика отношения средних чеков группы B к группе A по дням\n",
    "plt.figure(figsize=(12,6))\n",
    "plt.grid(True)\n",
    "\n",
    "plt.plot(merged_cumulative_revenue['date'], (merged_cumulative_revenue['revenueB']/merged_cumulative_revenue['ordersB'])/(merged_cumulative_revenue['revenueA']/merged_cumulative_revenue['ordersA'])-1,label=\"Относительное изменение кумулятивного среднего чека группы B к группе A\",color='orange')\n",
    "\n",
    "# добавление горизонтальной оси X на уровне 0\n",
    "plt.axhline(y=0, color='red', linestyle='--')\n",
    "\n",
    "plt.legend(loc='upper left')\n",
    "\n",
    "plt.title('График относительного изменения кумулятивного среднего чека группы B к группе A')\n",
    "\n",
    "plt.xlabel('Дата')\n",
    "\n",
    "plt.ylabel('Отношение среднего чека группы B к группе A')\n"
   ]
  },
  {
   "cell_type": "markdown",
   "metadata": {
    "id": "S7FAffotw_AR"
   },
   "source": [
    "Из графика отношения кумулятивного среднего чека группы А к группе В видно, что за период теста было два пика, когда средний чек группы В значительно превышал показатель группы А, но затем быстро снижался. Однако, такие резкие изменения могут быть вызваны наличием выбросов в выборке, что искажает результаты и делает предположения о различии в средних чеках между группами недостоверными."
   ]
  },
  {
   "cell_type": "markdown",
   "metadata": {
    "id": "moQEzFenV-_2"
   },
   "source": [
    "## Построим график кумулятивного среднего количества заказов по группам. Сделаем выводы и предположения.\n"
   ]
  },
  {
   "cell_type": "code",
   "execution_count": 26,
   "metadata": {
    "colab": {
     "base_uri": "https://localhost:8080/",
     "height": 581
    },
    "id": "HP1qjr0q4oCP",
    "outputId": "8ac0747c-035b-464b-f04d-14d4b86c5794"
   },
   "outputs": [
    {
     "data": {
      "image/png": "[encoded data removed]",
      "text/plain": [
       "<Figure size 864x432 with 1 Axes>"
      ]
     },
     "metadata": {
      "needs_background": "light"
     },
     "output_type": "display_data"
    }
   ],
   "source": [
    "# Рассчитываем кумулятивную конверсию для каждой группы\n",
    "cumulative_data['conversion'] = cumulative_data['orders'] / cumulative_data['visitors']\n",
    "\n",
    "# Отбираем данные для группы A\n",
    "cumulative_data_a = cumulative_data[cumulative_data['group'] == 'A']\n",
    "\n",
    "# Отбираем данные для группы B\n",
    "cumulative_data_b = cumulative_data[cumulative_data['group'] == 'B']\n",
    "\n",
    "# Строим графики кумулятивной конверсии\n",
    "plt.figure(figsize=(12,6))\n",
    "plt.grid(True)\n",
    "plt.plot(cumulative_data_a['date'], cumulative_data_a['conversion'], label='Группа A')\n",
    "plt.plot(cumulative_data_b['date'], cumulative_data_b['conversion'], label='Группа B')\n",
    "plt.legend()\n",
    "plt.xlabel('Дата')\n",
    "plt.ylabel('Кумулятивное среднее кол-во заказов на посетителя')\n",
    "plt.title('График кумулятивного среднего количества заказов по группам');"
   ]
  },
  {
   "cell_type": "markdown",
   "metadata": {
    "id": "mWyzkCn45AxU"
   },
   "source": [
    "В первую неделю проведения теста в обеих группах был наблюдаем резкий рост среднего количества покупок на посетителя, затем группы начали различаться.\n",
    "\n",
    "В группе А среднее количество покупок на посетителя упало с уровня 0.036 до 0.027 и стабильно держалось на этом уровне почти до конца теста.\n",
    "\n",
    "В группе B после пика на уровне 0.031 произошло резкое снижение до 0.027, но затем среднее количество покупок на посетителя постепенно возрастало и достигло уровня 0.031, который оставался стабильным.\n",
    "\n",
    "В результате колебания среднего количества покупок на посетителя в начале теста были выровнены, и группа B оказалась стабильно более успешной, чем группа A."
   ]
  },
  {
   "cell_type": "markdown",
   "metadata": {
    "id": "Szm1YRkjV_GU"
   },
   "source": [
    "## Построим график относительного изменения кумулятивного среднего количества заказов группы B к группе A. Сделаем выводы и предположения.\n"
   ]
  },
  {
   "cell_type": "code",
   "execution_count": 27,
   "metadata": {
    "colab": {
     "base_uri": "https://localhost:8080/",
     "height": 559
    },
    "id": "3wL5s7lQ6s-u",
    "outputId": "0626442f-4d7b-4f6d-f4f9-30bbfd60ef7d"
   },
   "outputs": [
    {
     "data": {
      "image/png": "[encoded data removed]",
      "text/plain": [
       "<Figure size 864x432 with 1 Axes>"
      ]
     },
     "metadata": {
      "needs_background": "light"
     },
     "output_type": "display_data"
    }
   ],
   "source": [
    "merged_cumulative_conversions = cumulative_data_a[['date','conversion']].merge(cumulative_data_b[['date','conversion']], left_on='date', right_on='date', how='left', suffixes=['A', 'B'])\n",
    "\n",
    "plt.figure(figsize=(12,6))\n",
    "plt.grid(True)\n",
    "plt.plot(merged_cumulative_conversions['date'], merged_cumulative_conversions['conversionB']/merged_cumulative_conversions['conversionA']-1, label=\"Относительное изменение кумулятивного среднего количества заказов группы B к группе A\",color='orange')\n",
    "plt.legend()\n",
    "plt.xlabel('Дата')\n",
    "plt.ylabel('Относительный прирост')\n",
    "\n",
    "plt.axhline(y=0, color='red', linestyle='--')\n",
    "plt.axhline(y=0.14, color='black', linestyle='--');"
   ]
  },
  {
   "cell_type": "markdown",
   "metadata": {
    "id": "yvLiR3KW6tOF"
   },
   "source": [
    "В начале эксперимента группа B значительно отставала от группы A, однако в дальнейшем она опередила первую группу  и стабилизируется на уровне 0.14. В среднем, кумулятивное среднее количество заказов на посетителя  в группе В на 14% выше, чем в группе А.\n",
    "\n"
   ]
  },
  {
   "cell_type": "markdown",
   "metadata": {
    "id": "6KSzSm_-V_Mf"
   },
   "source": [
    "## Построим точечный график количества заказов по пользователям. Сделаем выводы и предположения.\n"
   ]
  },
  {
   "cell_type": "code",
   "execution_count": 28,
   "metadata": {
    "colab": {
     "base_uri": "https://localhost:8080/"
    },
    "id": "Fj-6JtpQ9nWm",
    "outputId": "cd342b24-d68b-4ca5-c6d9-d9bb4718b233"
   },
   "outputs": [
    {
     "name": "stdout",
     "output_type": "stream",
     "text": [
      "     visitor_id  transaction_id\n",
      "908  3967698036               3\n",
      "55    249864742               3\n",
      "478  2108163459               3\n",
      "687  2988190573               3\n",
      "890  3908431265               3\n",
      "138   611059232               3\n",
      "632  2742574263               3\n",
      "157   678354126               2\n",
      "323  1404560065               2\n",
      "452  1985475298               2\n"
     ]
    }
   ],
   "source": [
    "orders_by_users = (\n",
    "    orders.groupby('visitor_id', as_index=False)\n",
    "    .agg({'transaction_id': 'nunique'})\n",
    ")\n",
    "\n",
    "print(orders_by_users.sort_values(by='transaction_id', ascending=False).head(10))"
   ]
  },
  {
   "cell_type": "code",
   "execution_count": 29,
   "metadata": {
    "colab": {
     "base_uri": "https://localhost:8080/",
     "height": 581
    },
    "id": "Ld4OwU0C9rCi",
    "outputId": "b11a5408-a8bb-4418-c79f-8675d1ceedec"
   },
   "outputs": [
    {
     "data": {
      "image/png": "[encoded data removed]",
      "text/plain": [
       "<Figure size 864x432 with 1 Axes>"
      ]
     },
     "metadata": {
      "needs_background": "light"
     },
     "output_type": "display_data"
    }
   ],
   "source": [
    "x_values = pd.Series(range(0, len(orders_by_users)))\n",
    "plt.figure(figsize=(12,6))\n",
    "plt.grid(True)\n",
    "plt.scatter(x_values, orders_by_users['transaction_id'])\n",
    "plt.xlabel('Номер пользователя')\n",
    "plt.ylabel('Количество заказов')\n",
    "plt.title('Распределение количества заказов по пользователям');"
   ]
  },
  {
   "cell_type": "markdown",
   "metadata": {
    "id": "HnpP_MTs-1yv"
   },
   "source": [
    "Большая часть пользователей делает заказ 1 раз"
   ]
  },
  {
   "cell_type": "markdown",
   "metadata": {
    "id": "FfbKJFx9V_Sr"
   },
   "source": [
    "## Посчитаем 95-й и 99-й перцентили количества заказов на пользователя. Выберем границу для определения аномальных пользователей. \n"
   ]
  },
  {
   "cell_type": "code",
   "execution_count": 30,
   "metadata": {
    "colab": {
     "base_uri": "https://localhost:8080/"
    },
    "id": "ZRqEE_r7-5LM",
    "outputId": "dfc88d34-d033-4ce5-ed43-1d431e97b38f"
   },
   "outputs": [
    {
     "name": "stdout",
     "output_type": "stream",
     "text": [
      "[1. 2.]\n"
     ]
    }
   ],
   "source": [
    "print(np.percentile(orders_by_users['transaction_id'], [95, 99]))"
   ]
  },
  {
   "cell_type": "markdown",
   "metadata": {
    "id": "WblcBgCa_8rO"
   },
   "source": [
    "Менее чем 1% пользователей оформляли более 2 заказов и менее чем 5% пользователей делали более одного заказа. "
   ]
  },
  {
   "cell_type": "markdown",
   "metadata": {
    "id": "DP3yPnRTC6Qu"
   },
   "source": [
    "Аномальных пользователей будем отсеять по 99 перцентилю"
   ]
  },
  {
   "cell_type": "code",
   "execution_count": 31,
   "metadata": {
    "id": "fmiKOA6YCr8o"
   },
   "outputs": [],
   "source": [
    "limit_number_orders = 2"
   ]
  },
  {
   "cell_type": "markdown",
   "metadata": {
    "id": "3pyhEYdrV_aK"
   },
   "source": [
    "## Построим точечный график стоимостей заказов. Сделаем выводы и предположения. \n"
   ]
  },
  {
   "cell_type": "code",
   "execution_count": 32,
   "metadata": {
    "colab": {
     "base_uri": "https://localhost:8080/",
     "height": 554
    },
    "id": "BLqBR3CxA2-6",
    "outputId": "323c6b6c-3c16-4ad1-d126-4ccbebeae602"
   },
   "outputs": [
    {
     "data": {
      "image/png": "[encoded data removed]",
      "text/plain": [
       "<Figure size 864x432 with 1 Axes>"
      ]
     },
     "metadata": {
      "needs_background": "light"
     },
     "output_type": "display_data"
    }
   ],
   "source": [
    "x_values = pd.Series(range(0,len(orders['revenue'])))\n",
    "plt.figure(figsize=(12,6))\n",
    "plt.grid(True)\n",
    "plt.scatter(x_values, orders['revenue']);\n",
    "plt.xlabel('Номер пользователя')\n",
    "plt.ylabel('Стоимость заказов')\n",
    "plt.title('Распределение стоимости заказов по пользователям');"
   ]
  },
  {
   "cell_type": "markdown",
   "metadata": {
    "id": "e9adDs3VBFis"
   },
   "source": [
    "Вероятно, один крупный заказ оказал влияние на графики выручки и среднего чека, так как он был очень дорогим."
   ]
  },
  {
   "cell_type": "markdown",
   "metadata": {
    "id": "tLUU-pv3V_gn"
   },
   "source": [
    "## Посчитаем 95-й и 99-й перцентили стоимости заказов. Выберем границу для определения аномальных заказов.\n"
   ]
  },
  {
   "cell_type": "code",
   "execution_count": 33,
   "metadata": {
    "colab": {
     "base_uri": "https://localhost:8080/"
    },
    "id": "d6CjOc_QBLkp",
    "outputId": "bf0b6828-fe26-4290-c92f-c607090d0e87"
   },
   "outputs": [
    {
     "name": "stdout",
     "output_type": "stream",
     "text": [
      "[26785. 53904.]\n"
     ]
    }
   ],
   "source": [
    "print(np.percentile(orders['revenue'], [95, 99]))"
   ]
  },
  {
   "cell_type": "markdown",
   "metadata": {
    "id": "2goXudJGBN68"
   },
   "source": [
    "Не больше чем 1% заказов имеют стоимость выше 53904 рублей, а не больше чем 5% заказов имеют стоимость выше 26785 рублей."
   ]
  },
  {
   "cell_type": "markdown",
   "metadata": {
    "id": "HEOEMnxbDDiT"
   },
   "source": [
    "Аномальных пользователей будем отсеять по 99 перцентилю"
   ]
  },
  {
   "cell_type": "code",
   "execution_count": 34,
   "metadata": {
    "id": "nXU080YlDFB8"
   },
   "outputs": [],
   "source": [
    "limit_cost_orders = 53904"
   ]
  },
  {
   "cell_type": "markdown",
   "metadata": {
    "id": "xPZVkpNFV_pY"
   },
   "source": [
    "## Посчитаем статистическую значимость различий в среднем количестве заказов между группами по «сырым» данным. Сделаем выводы и предположения.\n"
   ]
  },
  {
   "cell_type": "code",
   "execution_count": 35,
   "metadata": {
    "colab": {
     "base_uri": "https://localhost:8080/",
     "height": 206
    },
    "id": "3Gjj8PQgDLX0",
    "outputId": "cbb1b3ff-541e-4d8b-e2dd-b3724021af95"
   },
   "outputs": [
    {
     "data": {
      "text/html": [
       "<div>\n",
       "<style scoped>\n",
       "    .dataframe tbody tr th:only-of-type {\n",
       "        vertical-align: middle;\n",
       "    }\n",
       "\n",
       "    .dataframe tbody tr th {\n",
       "        vertical-align: top;\n",
       "    }\n",
       "\n",
       "    .dataframe thead th {\n",
       "        text-align: right;\n",
       "    }\n",
       "</style>\n",
       "<table border=\"1\" class=\"dataframe\">\n",
       "  <thead>\n",
       "    <tr style=\"text-align: right;\">\n",
       "      <th></th>\n",
       "      <th>date</th>\n",
       "      <th>orders_per_date_a</th>\n",
       "      <th>revenue_per_date_a</th>\n",
       "      <th>orders_per_date_b</th>\n",
       "      <th>revenue_per_date_b</th>\n",
       "      <th>orders_cumulative_a</th>\n",
       "      <th>revenue_cumulative_a</th>\n",
       "      <th>orders_cumulative_b</th>\n",
       "      <th>revenue_cumulative_b</th>\n",
       "      <th>visitors_per_date_a</th>\n",
       "      <th>visitors_per_date_b</th>\n",
       "      <th>visitors_cumulative_a</th>\n",
       "      <th>visitors_cumulative_b</th>\n",
       "    </tr>\n",
       "  </thead>\n",
       "  <tbody>\n",
       "    <tr>\n",
       "      <th>0</th>\n",
       "      <td>2019-08-01</td>\n",
       "      <td>23</td>\n",
       "      <td>142779</td>\n",
       "      <td>17</td>\n",
       "      <td>59758</td>\n",
       "      <td>23</td>\n",
       "      <td>142779</td>\n",
       "      <td>17</td>\n",
       "      <td>59758</td>\n",
       "      <td>719</td>\n",
       "      <td>713</td>\n",
       "      <td>719</td>\n",
       "      <td>713</td>\n",
       "    </tr>\n",
       "    <tr>\n",
       "      <th>1</th>\n",
       "      <td>2019-08-02</td>\n",
       "      <td>19</td>\n",
       "      <td>91602</td>\n",
       "      <td>23</td>\n",
       "      <td>162043</td>\n",
       "      <td>42</td>\n",
       "      <td>234381</td>\n",
       "      <td>40</td>\n",
       "      <td>221801</td>\n",
       "      <td>619</td>\n",
       "      <td>581</td>\n",
       "      <td>1338</td>\n",
       "      <td>1294</td>\n",
       "    </tr>\n",
       "    <tr>\n",
       "      <th>2</th>\n",
       "      <td>2019-08-03</td>\n",
       "      <td>24</td>\n",
       "      <td>112473</td>\n",
       "      <td>14</td>\n",
       "      <td>67049</td>\n",
       "      <td>66</td>\n",
       "      <td>346854</td>\n",
       "      <td>54</td>\n",
       "      <td>288850</td>\n",
       "      <td>507</td>\n",
       "      <td>509</td>\n",
       "      <td>1845</td>\n",
       "      <td>1803</td>\n",
       "    </tr>\n",
       "    <tr>\n",
       "      <th>3</th>\n",
       "      <td>2019-08-04</td>\n",
       "      <td>11</td>\n",
       "      <td>41176</td>\n",
       "      <td>14</td>\n",
       "      <td>96890</td>\n",
       "      <td>77</td>\n",
       "      <td>388030</td>\n",
       "      <td>68</td>\n",
       "      <td>385740</td>\n",
       "      <td>717</td>\n",
       "      <td>770</td>\n",
       "      <td>2562</td>\n",
       "      <td>2573</td>\n",
       "    </tr>\n",
       "    <tr>\n",
       "      <th>4</th>\n",
       "      <td>2019-08-05</td>\n",
       "      <td>22</td>\n",
       "      <td>86383</td>\n",
       "      <td>21</td>\n",
       "      <td>89908</td>\n",
       "      <td>99</td>\n",
       "      <td>474413</td>\n",
       "      <td>89</td>\n",
       "      <td>475648</td>\n",
       "      <td>756</td>\n",
       "      <td>707</td>\n",
       "      <td>3318</td>\n",
       "      <td>3280</td>\n",
       "    </tr>\n",
       "  </tbody>\n",
       "</table>\n",
       "</div>"
      ],
      "text/plain": [
       "        date  orders_per_date_a  revenue_per_date_a  orders_per_date_b  \\\n",
       "0 2019-08-01                 23              142779                 17   \n",
       "1 2019-08-02                 19               91602                 23   \n",
       "2 2019-08-03                 24              112473                 14   \n",
       "3 2019-08-04                 11               41176                 14   \n",
       "4 2019-08-05                 22               86383                 21   \n",
       "\n",
       "   revenue_per_date_b  orders_cumulative_a  revenue_cumulative_a  \\\n",
       "0               59758                   23                142779   \n",
       "1              162043                   42                234381   \n",
       "2               67049                   66                346854   \n",
       "3               96890                   77                388030   \n",
       "4               89908                   99                474413   \n",
       "\n",
       "   orders_cumulative_b  revenue_cumulative_b  visitors_per_date_a  \\\n",
       "0                   17                 59758                  719   \n",
       "1                   40                221801                  619   \n",
       "2                   54                288850                  507   \n",
       "3                   68                385740                  717   \n",
       "4                   89                475648                  756   \n",
       "\n",
       "   visitors_per_date_b  visitors_cumulative_a  visitors_cumulative_b  \n",
       "0                  713                    719                    713  \n",
       "1                  581                   1338                   1294  \n",
       "2                  509                   1845                   1803  \n",
       "3                  770                   2562                   2573  \n",
       "4                  707                   3318                   3280  "
      ]
     },
     "metadata": {},
     "output_type": "display_data"
    }
   ],
   "source": [
    "visitors_a_daily = visitors[visitors['group'] == 'A'][['date', 'visitors']]\n",
    "visitors_a_daily.columns = ['date', 'visitors_per_date_a']\n",
    "\n",
    "visitors_a_cumulative = visitors_a_daily.apply(\n",
    "    lambda x: visitors_a_daily[visitors_a_daily['date'] <= x['date']].agg(\n",
    "        {'date': 'max', 'visitors_per_date_a': 'sum'}), axis=1,)\n",
    "\n",
    "visitors_a_cumulative.columns = ['date', 'visitors_cumulative_a']\n",
    "\n",
    "visitors_b_daily = visitors[visitors['group'] == 'B'][['date', 'visitors']]\n",
    "visitors_b_daily.columns = ['date', 'visitors_per_date_b']\n",
    "\n",
    "visitors_b_cumulative = visitors_b_daily.apply(\n",
    "    lambda x: visitors_b_daily[visitors_b_daily['date'] <= x['date']].agg(\n",
    "        {'date': 'max', 'visitors_per_date_b': 'sum'}), axis=1,)\n",
    "\n",
    "visitors_b_cumulative.columns = ['date', 'visitors_cumulative_b']\n",
    "\n",
    "orders_a_daily = (\n",
    "    orders[orders['group'] == 'A'][['date', 'transaction_id', 'visitor_id', 'revenue']]\n",
    "    .groupby('date', as_index=False)\n",
    "    .agg({'transaction_id': pd.Series.nunique, 'revenue': 'sum'}))\n",
    "\n",
    "orders_a_daily.columns = ['date', 'orders_per_date_a', 'revenue_per_date_a']\n",
    "\n",
    "orders_a_cumulative = orders_a_daily.apply(\n",
    "    lambda x: orders_a_daily[orders_a_daily['date'] <= x['date']].agg(\n",
    "        {'date': 'max', 'orders_per_date_a': 'sum', 'revenue_per_date_a': 'sum'}), axis=1).sort_values(by=['date'])\n",
    "\n",
    "orders_a_cumulative.columns = ['date', 'orders_cumulative_a', 'revenue_cumulative_a']\n",
    "\n",
    "orders_b_daily = (\n",
    "    orders[orders['group'] == 'B'][['date', 'transaction_id', 'visitor_id', 'revenue']]\n",
    "    .groupby('date', as_index=False)\n",
    "    .agg({'transaction_id': pd.Series.nunique, 'revenue': 'sum'}))\n",
    "\n",
    "orders_b_daily.columns = ['date', 'orders_per_date_b', 'revenue_per_date_b']\n",
    "\n",
    "orders_b_cumulative = orders_b_daily.apply(\n",
    "    lambda x: orders_b_daily[orders_b_daily['date'] <= x['date']].agg(\n",
    "        {'date': 'max', 'orders_per_date_b': 'sum', 'revenue_per_date_b': 'sum'}), axis=1).sort_values(by=['date'])\n",
    "\n",
    "orders_b_cumulative.columns = ['date', 'orders_cumulative_b', 'revenue_cumulative_b']\n",
    "\n",
    "data = (\n",
    "    orders_a_daily.merge(orders_b_daily, left_on='date', right_on='date', how='left')\n",
    "    .merge(orders_a_cumulative, left_on='date', right_on='date', how='left')\n",
    "    .merge(orders_b_cumulative, left_on='date', right_on='date', how='left')\n",
    "    .merge(visitors_a_daily, left_on='date', right_on='date', how='left')\n",
    "    .merge(visitors_b_daily, left_on='date', right_on='date', how='left')\n",
    "    .merge(visitors_a_cumulative, left_on='date', right_on='date', how='left')\n",
    "    .merge(visitors_b_cumulative, left_on='date', right_on='date', how='left'))\n",
    "\n",
    "display(data.head(5))"
   ]
  },
  {
   "cell_type": "markdown",
   "metadata": {
    "cellId": "takk3a52xin84s1pryry",
    "id": "Oq8tLMWvvz4f"
   },
   "source": [
    "Описание данных в таблице **data**:\n",
    "- `date` — дата;\n",
    "- `orders_per_date_a` — количество заказов в выбранную дату в группе A;\n",
    "- `revenue_per_date_a` — суммарная выручка в выбранную дату в группе A;\n",
    "- `orders_per_date_b` — количество заказов в выбранную дату в группе B;\n",
    "- `revenue_per_date_b` — суммарная выручка в выбранную дату в группе B;\n",
    "- `orders_cumulative_a` — суммарное число заказов до выбранной даты включительно в группе A;\n",
    "- `revenue_cumulative_a` — суммарная выручка до выбранной даты включительно в группе A;\n",
    "- `orders_cumulative_b` — суммарное количество заказов до выбранной даты включительно в группе B;\n",
    "- `revenue_cumulative_b` — суммарная выручка до выбранной даты включительно в группе B;\n",
    "- `visitors_per_date_a` — количество пользователей в выбранную дату в группе A;\n",
    "- `visitors_per_date_b` — количество пользователей в выбранную дату в группе B;\n",
    "- `visitors_cumulative_a` — количество пользователей до выбранной даты включительно в группе A;\n",
    "- `visitors_cumulative_b` — количество пользователей до выбранной даты включительно в группе B.\n",
    "\n",
    "\t\t\t\t\t\t\t\t\t"
   ]
  },
  {
   "cell_type": "markdown",
   "metadata": {
    "cellId": "lm6u918awsxge4sqtsrps",
    "id": "jVE6h394vz4f"
   },
   "source": [
    "Создадим переменные **orders_by_visitors_a** и **orders_by_visitors_b** со столбцами `visitor_id`, `orders`. В них для пользователей, которые заказывали хотя бы 1 раз, укажем число совершённых заказов."
   ]
  },
  {
   "cell_type": "code",
   "execution_count": 36,
   "metadata": {
    "id": "piGhAl6jFlhe"
   },
   "outputs": [],
   "source": [
    "orders_by_visitors_a = (\n",
    "    orders[orders['group'] == 'A']\n",
    "    .groupby('visitor_id')['transaction_id']\n",
    "    .nunique()\n",
    "    .reset_index()\n",
    "    .rename(columns={'transaction_id': 'orders'})\n",
    ")\n",
    "\n",
    "orders_by_visitors_b = (\n",
    "    orders[orders['group'] == 'B']\n",
    "    .groupby('visitor_id')['transaction_id']\n",
    "    .nunique()\n",
    "    .reset_index()\n",
    "    .rename(columns={'transaction_id': 'orders'})\n",
    ")"
   ]
  },
  {
   "cell_type": "markdown",
   "metadata": {
    "cellId": "8yk6c2lhggjyr0apvzg9x",
    "id": "BYEeoOIwvz4f"
   },
   "source": [
    "Объявим переменные **sample_a** и **sample_b**, в которых пользователям из разных групп будет соответствовать количество заказов"
   ]
  },
  {
   "cell_type": "code",
   "execution_count": 37,
   "metadata": {
    "cellId": "uq5uyo7keaewllbjpqmtp7",
    "id": "LWkRRO8-vz4f"
   },
   "outputs": [],
   "source": [
    "sample_a = pd.concat([\n",
    "    orders_by_visitors_a['orders'], \n",
    "    pd.Series(\n",
    "        0, \n",
    "        index=np.arange(\n",
    "            data['visitors_per_date_a'].sum() - len(orders_by_visitors_a['orders'])\n",
    "        ),\n",
    "        name='orders'\n",
    "    )\n",
    "])\n",
    "\n",
    "sample_b = pd.concat([\n",
    "    orders_by_visitors_b['orders'], \n",
    "    pd.Series(\n",
    "        0, \n",
    "        index=np.arange(\n",
    "            data['visitors_per_date_b'].sum() - len(orders_by_visitors_b['orders'])\n",
    "        ),\n",
    "        name='orders'\n",
    "    )\n",
    "])"
   ]
  },
  {
   "cell_type": "markdown",
   "metadata": {
    "cellId": "nqxfgh4ubzcomkuvibbu",
    "id": "M4UxzsINvz4f"
   },
   "source": [
    "Мы проведем анализ  статистическей значимости различий в среднем количестве заказов между группами A и B на «сырых» данных, то есть без удаления аномальных пользователей. Затем мы выведем относительные различия в среднем количестве заказов группы B и сформулируем нулевую и альтернативную гипотезы:  \n",
    "\n",
    "- $H_0$ — различий в среднем количестве заказов на посетителя групп A и B нет\n",
    "- $H_1$ — среднее значение в среднем количестве заказов на посетителя в группе B отличается от среднего значения метрики в группе A\n",
    "\n",
    "Критический уровень статистической значимости примем равным 5%  \n",
    "alpha = 0.05\n",
    "\n",
    "Метод проверки гипотез - критерий Манна Уитни\n",
    "\n",
    "Важно отметить, что U-тест Манна-Уитни также не требует предположения о равной выборочной численности в группах. Это означает, что мы можем использовать этот тест, даже если наши две выборки имеют различный размер.\n",
    "\n",
    "Еще одним преимуществом U-теста Манна-Уитни является его чувствительность к выбросам. Тест использует ранги данных, а не их фактические значения, поэтому выбросы в данных не смещают результаты теста так сильно, как это может произойти в случае использования t-теста Стьюдента.\n"
   ]
  },
  {
   "cell_type": "code",
   "execution_count": 38,
   "metadata": {
    "cellId": "33aoq0rk3glyw5vs8lq8at",
    "colab": {
     "base_uri": "https://localhost:8080/"
    },
    "id": "J1UNUh7Evz4f",
    "outputId": "05607ddf-15e4-4e86-b94f-6a3d7f7db7f7"
   },
   "outputs": [
    {
     "name": "stdout",
     "output_type": "stream",
     "text": [
      "p-value: 0.011\n",
      "Относительные различия в среднем количестве заказов на посетителя группы B: 0.160\n"
     ]
    }
   ],
   "source": [
    "p_value = stats.mannwhitneyu(sample_a, sample_b)[1]\n",
    "print('p-value: {0:.3f}'.format(p_value))\n",
    "\n",
    "relative_conversion_gain = sample_b.mean() / sample_a.mean() - 1\n",
    "print('Относительные различия в среднем количестве заказов на посетителя группы B: {0:.3f}'.format(relative_conversion_gain))"
   ]
  },
  {
   "cell_type": "markdown",
   "metadata": {
    "cellId": "b00js7ezutegv4s2m206ws",
    "id": "kCw5s-QYvz4f"
   },
   "source": [
    "- P-value меньше 0.05, значит отвергаем нулевую гипотезу.\n",
    "- По «сырым» данным есть в среднем количестве заказов на посетителя групп A и B.\n",
    "- Относительные различия в среднем количестве заказов на посетителя группы B составил 16%."
   ]
  },
  {
   "cell_type": "markdown",
   "metadata": {
    "id": "NU0g6OvdV_v1"
   },
   "source": [
    "## Посчитаем статистическую значимость различий в среднем чеке заказа между группами по «сырым» данным. Сделаем выводы и предположения.\n"
   ]
  },
  {
   "cell_type": "markdown",
   "metadata": {
    "cellId": "4p8zf9z34uetwav7qm1tm",
    "id": "dt626o3uvz4f"
   },
   "source": [
    "Мы произведём расчёт статистической значимости различий в среднем чеке между группами на «сырых» данных. Затем мы найдём относительные различия в среднем чеке между группами и сформулируем нулевую и альтернативную гипотезы:  \n",
    "- $H_0$ — различий в среднем чеке групп A и B нет\n",
    "- $H_1$ — есть различия в среднем чеке групп A и B\n",
    "\n",
    "Критический уровень статистической значимости примем равным 5%  \n",
    "alpha = 0.05"
   ]
  },
  {
   "cell_type": "code",
   "execution_count": 39,
   "metadata": {},
   "outputs": [
    {
     "name": "stdout",
     "output_type": "stream",
     "text": [
      "p-value: 0.829\n",
      "Относительные различия в среднем чеке: 0.287\n"
     ]
    }
   ],
   "source": [
    "print('p-value: {0:.3f}'.format(stats.mannwhitneyu(orders[orders['group'] == 'A']['revenue'], orders[orders['group'] == 'B']['revenue'])[1]))\n",
    "\n",
    "print('Относительные различия в среднем чеке: {0:.3f}'\n",
    "      .format(orders[orders['group'] == 'B']['revenue'].mean() / orders[orders['group'] == 'A']['revenue'].mean() - 1))"
   ]
  },
  {
   "cell_type": "markdown",
   "metadata": {
    "cellId": "yx1mwb9791barwxpw12c49",
    "id": "7TjMj2Mavz4p"
   },
   "source": [
    "- P-value значительно больше 0.05.\n",
    "- Значит, причин отвергать нулевую гипотезу и считать, что в среднем чеке есть различия, нет, хотя средний чек группы B значительно выше среднего чека группы A. Скорее всего повлиял выброс со стоимостью заказа свыше 1200000 рублей.\n",
    "- Необходимо удалить аномальных пользователей и рассчитать показатели по очищеным данным."
   ]
  },
  {
   "cell_type": "markdown",
   "metadata": {
    "id": "HJvdqxdhJ6s-"
   },
   "source": [
    "## Удаление аномальных пользователей"
   ]
  },
  {
   "cell_type": "code",
   "execution_count": 40,
   "metadata": {
    "cellId": "r3fcvpcflrpmwwv3gy7rcj",
    "colab": {
     "base_uri": "https://localhost:8080/"
    },
    "id": "eIBErTvRvz4p",
    "outputId": "0d4b005c-5378-49d9-f4df-a7d4d8142a61"
   },
   "outputs": [
    {
     "name": "stdout",
     "output_type": "stream",
     "text": [
      "1099    148427295\n",
      "33      249864742\n",
      "58      611059232\n",
      "949     887908475\n",
      "744     888512513\n",
      "Name: visitor_id, dtype: int64\n",
      "(16,)\n",
      "Количество аномальных пользователей составило: 16, что соответствует 1.6% относительно общего числа пользователей\n"
     ]
    }
   ],
   "source": [
    "# Находим посетителей со слишком большим количеством заказов\n",
    "visitors_with_many_orders_a = orders_by_visitors_a[orders_by_visitors_a['orders'] > np.percentile(orders_by_visitors_a['orders'],99)]['visitor_id']\n",
    "visitors_with_many_orders_b = orders_by_visitors_b[orders_by_visitors_b['orders'] > np.percentile(orders_by_visitors_b['orders'],99)]['visitor_id']\n",
    "users_with_many_orders = pd.concat([visitors_with_many_orders_a, visitors_with_many_orders_b], axis=0)\n",
    "\n",
    "# Находим посетителей с дорогими заказами\n",
    "users_with_expensive_orders = orders[orders['revenue'] > np.percentile(orders['revenue'],99)]['visitor_id']\n",
    "\n",
    "# Объединить оба типа ненормальных пользователей\n",
    "abnormal_users = pd.concat([users_with_many_orders, users_with_expensive_orders], axis=0).drop_duplicates().sort_values()\n",
    "\n",
    "relative_losses = abnormal_users.shape[0]/orders['visitor_id'].nunique()\n",
    "\n",
    "# Вывести первых 5 ненормальных пользователей и общее количество ненормальных пользователей\n",
    "print(abnormal_users.head(5))\n",
    "print(abnormal_users.shape)\n",
    "\n",
    "print(f'Количество аномальных пользователей составило: {abnormal_users.shape[0]}, что соответствует {relative_losses:.1%} относительно общего числа пользователей')\n"
   ]
  },
  {
   "cell_type": "markdown",
   "metadata": {
    "cellId": "98o1cqoq9vmdjeh3qgnja",
    "id": "iDQjxg7Nvz4p"
   },
   "source": [
    "- 16 аномальных пользователей"
   ]
  },
  {
   "cell_type": "markdown",
   "metadata": {
    "cellId": "3nusvcjp9y5fx5b067jzd",
    "id": "BCrZfHx_vz4p"
   },
   "source": [
    "Объявим переменные **sampleAFiltered** и **sampleBFiltered**, в которых пользователям из разных групп будет соответствовать количество заказов, но без аномальных пользователей"
   ]
  },
  {
   "cell_type": "code",
   "execution_count": 41,
   "metadata": {
    "id": "5sc5OhzhQA5g"
   },
   "outputs": [],
   "source": [
    "# Отфильтровать заказы от ненормальных пользователей в группе A\n",
    "sample_a_filtered = pd.concat(\n",
    "    [        orders_by_visitors_a[~orders_by_visitors_a['visitor_id'].isin(abnormal_users)]['orders'],\n",
    "        pd.Series(0, index=np.arange(data['visitors_per_date_a'].sum() - len(orders_by_visitors_a['orders'])), name='orders')\n",
    "    ],\n",
    "    axis=0\n",
    ")\n",
    "\n",
    "# Отфильтровать заказы от ненормальных пользователей в группе В\n",
    "sample_b_filtered = pd.concat(\n",
    "    [        orders_by_visitors_b[~orders_by_visitors_b['visitor_id'].isin(abnormal_users)]['orders'],\n",
    "        pd.Series(0, index=np.arange(data['visitors_per_date_b'].sum() - len(orders_by_visitors_b['orders'])), name='orders')\n",
    "    ],\n",
    "    axis=0\n",
    ")"
   ]
  },
  {
   "cell_type": "markdown",
   "metadata": {
    "id": "nWsUqKCiV_3Q"
   },
   "source": [
    "## Посчитаем статистическую значимость различий в среднем количестве заказов между группами по «очищенным» данным. Сделаем выводы и предположения.   \n"
   ]
  },
  {
   "cell_type": "code",
   "execution_count": 42,
   "metadata": {
    "cellId": "vmra68d84gr992g33n51m",
    "colab": {
     "base_uri": "https://localhost:8080/"
    },
    "id": "YW4HujACvz4p",
    "outputId": "d04ed870-356c-4673-90d4-277beb012972"
   },
   "outputs": [
    {
     "name": "stdout",
     "output_type": "stream",
     "text": [
      "p-value: 0.007\n",
      "Относительные различия в среднем количестве заказов на посетителя группы B: 0.189\n"
     ]
    }
   ],
   "source": [
    "p_value = stats.mannwhitneyu(sample_a_filtered, sample_b_filtered)[1]\n",
    "print('p-value: {0:.3f}'.format(p_value))\n",
    "\n",
    "relative_conversion_gain = sample_b_filtered.mean() / sample_a_filtered.mean() - 1\n",
    "print('Относительные различия в среднем количестве заказов на посетителя группы B: {0:.3f}'.format(relative_conversion_gain))"
   ]
  },
  {
   "cell_type": "markdown",
   "metadata": {
    "cellId": "p70a5djjq7h1o3x60axz",
    "id": "uw8CkR5avz4p"
   },
   "source": [
    "- P-value, по прежнему, меньше 0.05, значит отвергаем нулевую гипотезу.\n",
    "- Есть различия в среднем количестве заказов на посетителя групп A и B.\n",
    "- Относительные различия в среднем количестве заказов на посетителя B составил 18,9%."
   ]
  },
  {
   "cell_type": "markdown",
   "metadata": {
    "id": "InzZ_qXEV__g"
   },
   "source": [
    "## Посчитаем статистическую значимость различий в среднем чеке заказа между группами по «очищенным» данным. Сделаем выводы и предположения.  \n"
   ]
  },
  {
   "cell_type": "code",
   "execution_count": 43,
   "metadata": {
    "cellId": "eoga5shqekpj3w54ym8h7",
    "colab": {
     "base_uri": "https://localhost:8080/"
    },
    "id": "zvdLuaWfvz4p",
    "outputId": "4e7e4cbb-579f-4eeb-d893-93ce1e17d694"
   },
   "outputs": [
    {
     "name": "stdout",
     "output_type": "stream",
     "text": [
      "p-value: 0.788\n",
      "Относительные различия в среднем чеке: -0.032\n"
     ]
    }
   ],
   "source": [
    "filtered_orders_a = orders[np.logical_and(orders['group'] == 'A', ~orders['visitor_id'].isin(abnormal_users))]['revenue']\n",
    "filtered_orders_b = orders[np.logical_and(orders['group'] == 'B', ~orders['visitor_id'].isin(abnormal_users))]['revenue']\n",
    "p_value = stats.mannwhitneyu(filtered_orders_a, filtered_orders_b)[1]\n",
    "print(f\"p-value: {p_value:.3f}\")\n",
    "\n",
    "\n",
    "mean_revenue_a = filtered_orders_a.mean()\n",
    "mean_revenue_b = filtered_orders_b.mean()\n",
    "relative_diff = mean_revenue_b / mean_revenue_a - 1\n",
    "print(f\"Относительные различия в среднем чеке: {relative_diff:.3f}\")\n"
   ]
  },
  {
   "cell_type": "markdown",
   "metadata": {
    "cellId": "qyzzyy07qkv8ujo6uxi6c",
    "id": "KtwrM71avz4p"
   },
   "source": [
    "- P-value, по прежнему, значительно больше 0.05.\n",
    "- Значит нет причин отвергать нулевую гипотезу.\n",
    "- Относительные различия в среднем чеке составили -3,2%\n",
    "- Нет статистически значимого различия по среднему чеку между группами"
   ]
  },
  {
   "cell_type": "markdown",
   "metadata": {
    "id": "P63KOZlZWAH3"
   },
   "source": [
    "## Примим решение по результатам теста и объясним его.  \n",
    "     1.  Остановить тест, зафиксировать победу одной из групп. \n",
    "     2.  Остановить тест, зафиксировать отсутствие различий между группами. \n",
    "     3.  Продолжить тест.  "
   ]
  },
  {
   "cell_type": "markdown",
   "metadata": {
    "id": "J4U-gv0PWAls"
   },
   "source": [
    "\n",
    "\n",
    "*   Между группами на основе «сырых» и «очищенных» данных выявлено значимое статистическое различия в среднем количестве заказов на посетителя.\n",
    "*   График различия в среднем количестве заказов  на посетителя между группами указывает на то, что результаты группы B лучше, чем у группы A, так как они остаются ближе к среднему значению.\n",
    "*   Ни по «сырым», ни по «очищенным» данным не обнаружено статистически значимого различия в среднем чеке между группами.\n",
    "*   График различия в среднем чеке не стабилен, именно благодаря этому были выявлены аномалии. Однако на основании этого графика нельзя сделать определенных выводов.\n",
    "\n",
    "***Основываясь на обнаруженных фактах, можно остановить тест и признать его успешным, так как различия в среднем количестве заказов  на посетителя в группе В превышает различия в среднем количестве заказов в группе А.***"
   ]
  }
 ],
 "metadata": {
  "ExecuteTimeLog": [
   {
    "duration": 1442,
    "start_time": "2023-04-03T20:55:30.137Z"
   },
   {
    "duration": 223,
    "start_time": "2023-04-03T20:55:31.581Z"
   },
   {
    "duration": 24,
    "start_time": "2023-04-03T20:55:31.807Z"
   },
   {
    "duration": 16,
    "start_time": "2023-04-03T20:55:31.834Z"
   },
   {
    "duration": 23,
    "start_time": "2023-04-03T20:55:31.852Z"
   },
   {
    "duration": 9,
    "start_time": "2023-04-03T20:55:31.877Z"
   },
   {
    "duration": 16,
    "start_time": "2023-04-03T20:55:31.888Z"
   },
   {
    "duration": 4,
    "start_time": "2023-04-03T20:55:31.906Z"
   },
   {
    "duration": 36,
    "start_time": "2023-04-03T20:55:31.911Z"
   },
   {
    "duration": 11,
    "start_time": "2023-04-03T20:55:31.950Z"
   },
   {
    "duration": 14,
    "start_time": "2023-04-03T20:55:31.963Z"
   },
   {
    "duration": 17,
    "start_time": "2023-04-03T20:55:31.979Z"
   },
   {
    "duration": 3,
    "start_time": "2023-04-03T20:55:31.999Z"
   },
   {
    "duration": 3,
    "start_time": "2023-04-03T20:55:32.004Z"
   },
   {
    "duration": 20,
    "start_time": "2023-04-03T20:55:32.009Z"
   },
   {
    "duration": 46,
    "start_time": "2023-04-03T20:55:32.030Z"
   },
   {
    "duration": 18,
    "start_time": "2023-04-03T20:55:32.077Z"
   },
   {
    "duration": 35,
    "start_time": "2023-04-03T20:55:32.097Z"
   },
   {
    "duration": 34,
    "start_time": "2023-04-03T20:55:32.134Z"
   },
   {
    "duration": 13,
    "start_time": "2023-04-03T20:55:32.169Z"
   },
   {
    "duration": 22,
    "start_time": "2023-04-03T20:55:32.188Z"
   },
   {
    "duration": 255,
    "start_time": "2023-04-03T20:55:32.211Z"
   },
   {
    "duration": 299,
    "start_time": "2023-04-03T20:55:32.467Z"
   },
   {
    "duration": 259,
    "start_time": "2023-04-03T20:55:32.768Z"
   },
   {
    "duration": 386,
    "start_time": "2023-04-03T20:55:33.039Z"
   },
   {
    "duration": 290,
    "start_time": "2023-04-03T20:55:33.428Z"
   },
   {
    "duration": 369,
    "start_time": "2023-04-03T20:55:33.720Z"
   },
   {
    "duration": 10,
    "start_time": "2023-04-03T20:55:34.092Z"
   },
   {
    "duration": 193,
    "start_time": "2023-04-03T20:55:34.104Z"
   },
   {
    "duration": 4,
    "start_time": "2023-04-03T20:55:34.299Z"
   },
   {
    "duration": 10,
    "start_time": "2023-04-03T20:55:34.304Z"
   },
   {
    "duration": 157,
    "start_time": "2023-04-03T20:55:34.316Z"
   },
   {
    "duration": 4,
    "start_time": "2023-04-03T20:55:34.475Z"
   },
   {
    "duration": 7,
    "start_time": "2023-04-03T20:55:34.484Z"
   },
   {
    "duration": 261,
    "start_time": "2023-04-03T20:55:34.493Z"
   },
   {
    "duration": 21,
    "start_time": "2023-04-03T20:55:34.755Z"
   },
   {
    "duration": 10,
    "start_time": "2023-04-03T20:55:34.778Z"
   },
   {
    "duration": 23,
    "start_time": "2023-04-03T20:55:34.790Z"
   },
   {
    "duration": 10,
    "start_time": "2023-04-03T20:55:34.815Z"
   },
   {
    "duration": 8,
    "start_time": "2023-04-03T20:55:34.827Z"
   },
   {
    "duration": 54,
    "start_time": "2023-04-03T20:55:34.837Z"
   },
   {
    "duration": 15,
    "start_time": "2023-04-03T20:55:34.892Z"
   },
   {
    "duration": 1132,
    "start_time": "2023-04-03T21:44:17.352Z"
   },
   {
    "duration": 66,
    "start_time": "2023-04-03T21:44:18.487Z"
   },
   {
    "duration": 24,
    "start_time": "2023-04-03T21:44:18.554Z"
   },
   {
    "duration": 10,
    "start_time": "2023-04-03T21:44:18.582Z"
   },
   {
    "duration": 6,
    "start_time": "2023-04-03T21:44:18.594Z"
   },
   {
    "duration": 16,
    "start_time": "2023-04-03T21:44:18.601Z"
   },
   {
    "duration": 16,
    "start_time": "2023-04-03T21:44:18.618Z"
   },
   {
    "duration": 4,
    "start_time": "2023-04-03T21:44:18.635Z"
   },
   {
    "duration": 9,
    "start_time": "2023-04-03T21:44:18.668Z"
   },
   {
    "duration": 5,
    "start_time": "2023-04-03T21:44:18.685Z"
   },
   {
    "duration": 14,
    "start_time": "2023-04-03T21:44:18.692Z"
   },
   {
    "duration": 13,
    "start_time": "2023-04-03T21:44:18.708Z"
   },
   {
    "duration": 4,
    "start_time": "2023-04-03T21:44:18.723Z"
   },
   {
    "duration": 10,
    "start_time": "2023-04-03T21:44:18.728Z"
   },
   {
    "duration": 38,
    "start_time": "2023-04-03T21:44:18.740Z"
   },
   {
    "duration": 7,
    "start_time": "2023-04-03T21:44:18.779Z"
   },
   {
    "duration": 5,
    "start_time": "2023-04-03T21:44:18.788Z"
   },
   {
    "duration": 8,
    "start_time": "2023-04-03T21:44:18.794Z"
   },
   {
    "duration": 10,
    "start_time": "2023-04-03T21:44:18.803Z"
   },
   {
    "duration": 5,
    "start_time": "2023-04-03T21:44:18.815Z"
   },
   {
    "duration": 16,
    "start_time": "2023-04-03T21:44:18.822Z"
   },
   {
    "duration": 339,
    "start_time": "2023-04-03T21:44:18.839Z"
   },
   {
    "duration": 278,
    "start_time": "2023-04-03T21:44:19.183Z"
   },
   {
    "duration": 215,
    "start_time": "2023-04-03T21:44:19.462Z"
   },
   {
    "duration": 312,
    "start_time": "2023-04-03T21:44:19.683Z"
   },
   {
    "duration": 314,
    "start_time": "2023-04-03T21:44:19.997Z"
   },
   {
    "duration": 498,
    "start_time": "2023-04-03T21:44:20.313Z"
   },
   {
    "duration": 63,
    "start_time": "2023-04-03T21:44:20.814Z"
   },
   {
    "duration": 329,
    "start_time": "2023-04-03T21:44:20.879Z"
   },
   {
    "duration": 5,
    "start_time": "2023-04-03T21:44:21.209Z"
   },
   {
    "duration": 3,
    "start_time": "2023-04-03T21:44:21.275Z"
   },
   {
    "duration": 328,
    "start_time": "2023-04-03T21:44:21.283Z"
   },
   {
    "duration": 58,
    "start_time": "2023-04-03T21:44:21.613Z"
   },
   {
    "duration": 9,
    "start_time": "2023-04-03T21:44:21.675Z"
   },
   {
    "duration": 519,
    "start_time": "2023-04-03T21:44:21.686Z"
   },
   {
    "duration": 10,
    "start_time": "2023-04-03T21:44:22.207Z"
   },
   {
    "duration": 7,
    "start_time": "2023-04-03T21:44:22.219Z"
   },
   {
    "duration": 48,
    "start_time": "2023-04-03T21:44:22.228Z"
   },
   {
    "duration": 13,
    "start_time": "2023-04-03T21:44:22.280Z"
   },
   {
    "duration": 6,
    "start_time": "2023-04-03T21:44:22.295Z"
   },
   {
    "duration": 23,
    "start_time": "2023-04-03T21:44:22.303Z"
   },
   {
    "duration": 11,
    "start_time": "2023-04-03T21:44:22.328Z"
   },
   {
    "duration": 154,
    "start_time": "2023-04-03T21:58:17.448Z"
   },
   {
    "duration": 206,
    "start_time": "2023-04-03T21:58:26.266Z"
   },
   {
    "duration": 197,
    "start_time": "2023-04-03T21:59:32.501Z"
   },
   {
    "duration": 12,
    "start_time": "2023-04-03T22:19:24.628Z"
   },
   {
    "duration": 10,
    "start_time": "2023-04-03T22:19:48.545Z"
   },
   {
    "duration": 92,
    "start_time": "2023-04-03T22:20:26.059Z"
   },
   {
    "duration": 13,
    "start_time": "2023-04-03T22:20:31.979Z"
   },
   {
    "duration": 11,
    "start_time": "2023-04-03T22:21:00.327Z"
   },
   {
    "duration": 11,
    "start_time": "2023-04-03T22:22:41.545Z"
   },
   {
    "duration": 11,
    "start_time": "2023-04-03T22:22:57.951Z"
   },
   {
    "duration": 50,
    "start_time": "2023-04-03T22:23:04.497Z"
   },
   {
    "duration": 13,
    "start_time": "2023-04-03T22:24:00.880Z"
   },
   {
    "duration": 9,
    "start_time": "2023-04-03T22:46:33.230Z"
   },
   {
    "duration": 18,
    "start_time": "2023-04-03T22:48:41.191Z"
   },
   {
    "duration": 21,
    "start_time": "2023-04-03T22:49:50.633Z"
   },
   {
    "duration": 1001,
    "start_time": "2023-04-03T22:52:36.583Z"
   },
   {
    "duration": 66,
    "start_time": "2023-04-03T22:52:37.586Z"
   },
   {
    "duration": 17,
    "start_time": "2023-04-03T22:52:37.653Z"
   },
   {
    "duration": 6,
    "start_time": "2023-04-03T22:52:37.672Z"
   },
   {
    "duration": 5,
    "start_time": "2023-04-03T22:52:37.680Z"
   },
   {
    "duration": 11,
    "start_time": "2023-04-03T22:52:37.686Z"
   },
   {
    "duration": 14,
    "start_time": "2023-04-03T22:52:37.698Z"
   },
   {
    "duration": 3,
    "start_time": "2023-04-03T22:52:37.713Z"
   },
   {
    "duration": 5,
    "start_time": "2023-04-03T22:52:37.718Z"
   },
   {
    "duration": 4,
    "start_time": "2023-04-03T22:52:37.726Z"
   },
   {
    "duration": 38,
    "start_time": "2023-04-03T22:52:37.731Z"
   },
   {
    "duration": 15,
    "start_time": "2023-04-03T22:52:37.770Z"
   },
   {
    "duration": 3,
    "start_time": "2023-04-03T22:52:37.786Z"
   },
   {
    "duration": 4,
    "start_time": "2023-04-03T22:52:37.791Z"
   },
   {
    "duration": 9,
    "start_time": "2023-04-03T22:52:37.796Z"
   },
   {
    "duration": 5,
    "start_time": "2023-04-03T22:52:37.806Z"
   },
   {
    "duration": 6,
    "start_time": "2023-04-03T22:52:37.812Z"
   },
   {
    "duration": 6,
    "start_time": "2023-04-03T22:52:37.820Z"
   },
   {
    "duration": 11,
    "start_time": "2023-04-03T22:52:37.827Z"
   },
   {
    "duration": 30,
    "start_time": "2023-04-03T22:52:37.839Z"
   },
   {
    "duration": 8,
    "start_time": "2023-04-03T22:52:37.870Z"
   },
   {
    "duration": 249,
    "start_time": "2023-04-03T22:52:37.879Z"
   },
   {
    "duration": 255,
    "start_time": "2023-04-03T22:52:38.129Z"
   },
   {
    "duration": 182,
    "start_time": "2023-04-03T22:52:38.386Z"
   },
   {
    "duration": 306,
    "start_time": "2023-04-03T22:52:38.570Z"
   },
   {
    "duration": 218,
    "start_time": "2023-04-03T22:52:38.877Z"
   },
   {
    "duration": 286,
    "start_time": "2023-04-03T22:52:39.097Z"
   },
   {
    "duration": 8,
    "start_time": "2023-04-03T22:52:39.386Z"
   },
   {
    "duration": 161,
    "start_time": "2023-04-03T22:52:39.395Z"
   },
   {
    "duration": 4,
    "start_time": "2023-04-03T22:52:39.558Z"
   },
   {
    "duration": 16,
    "start_time": "2023-04-03T22:52:39.568Z"
   },
   {
    "duration": 157,
    "start_time": "2023-04-03T22:52:39.585Z"
   },
   {
    "duration": 4,
    "start_time": "2023-04-03T22:52:39.743Z"
   },
   {
    "duration": 21,
    "start_time": "2023-04-03T22:52:39.748Z"
   },
   {
    "duration": 200,
    "start_time": "2023-04-03T22:52:39.770Z"
   },
   {
    "duration": 7,
    "start_time": "2023-04-03T22:52:39.972Z"
   },
   {
    "duration": 13,
    "start_time": "2023-04-03T22:52:39.981Z"
   },
   {
    "duration": 50,
    "start_time": "2023-04-03T22:52:39.995Z"
   },
   {
    "duration": 8,
    "start_time": "2023-04-03T22:52:40.047Z"
   },
   {
    "duration": 16,
    "start_time": "2023-04-03T22:52:40.057Z"
   },
   {
    "duration": 23,
    "start_time": "2023-04-03T22:52:40.074Z"
   },
   {
    "duration": 34,
    "start_time": "2023-04-03T22:52:40.099Z"
   },
   {
    "duration": 8,
    "start_time": "2023-04-03T22:52:40.135Z"
   },
   {
    "duration": 1205,
    "start_time": "2023-04-04T18:45:21.670Z"
   },
   {
    "duration": 236,
    "start_time": "2023-04-04T18:45:22.877Z"
   },
   {
    "duration": 19,
    "start_time": "2023-04-04T18:45:23.115Z"
   },
   {
    "duration": 6,
    "start_time": "2023-04-04T18:45:23.135Z"
   },
   {
    "duration": 10,
    "start_time": "2023-04-04T18:45:23.142Z"
   },
   {
    "duration": 18,
    "start_time": "2023-04-04T18:45:23.154Z"
   },
   {
    "duration": 14,
    "start_time": "2023-04-04T18:45:23.175Z"
   },
   {
    "duration": 3,
    "start_time": "2023-04-04T18:45:23.191Z"
   },
   {
    "duration": 7,
    "start_time": "2023-04-04T18:45:23.196Z"
   },
   {
    "duration": 4,
    "start_time": "2023-04-04T18:45:23.206Z"
   },
   {
    "duration": 12,
    "start_time": "2023-04-04T18:45:23.211Z"
   },
   {
    "duration": 19,
    "start_time": "2023-04-04T18:45:23.255Z"
   },
   {
    "duration": 3,
    "start_time": "2023-04-04T18:45:23.276Z"
   },
   {
    "duration": 10,
    "start_time": "2023-04-04T18:45:23.280Z"
   },
   {
    "duration": 13,
    "start_time": "2023-04-04T18:45:23.291Z"
   },
   {
    "duration": 7,
    "start_time": "2023-04-04T18:45:23.305Z"
   },
   {
    "duration": 5,
    "start_time": "2023-04-04T18:45:23.313Z"
   },
   {
    "duration": 4,
    "start_time": "2023-04-04T18:45:23.319Z"
   },
   {
    "duration": 35,
    "start_time": "2023-04-04T18:45:23.325Z"
   },
   {
    "duration": 15,
    "start_time": "2023-04-04T18:45:23.362Z"
   },
   {
    "duration": 14,
    "start_time": "2023-04-04T18:45:23.379Z"
   },
   {
    "duration": 276,
    "start_time": "2023-04-04T18:45:23.395Z"
   },
   {
    "duration": 320,
    "start_time": "2023-04-04T18:45:23.673Z"
   },
   {
    "duration": 229,
    "start_time": "2023-04-04T18:45:23.994Z"
   },
   {
    "duration": 466,
    "start_time": "2023-04-04T18:45:24.224Z"
   },
   {
    "duration": 242,
    "start_time": "2023-04-04T18:45:24.692Z"
   },
   {
    "duration": 357,
    "start_time": "2023-04-04T18:45:24.935Z"
   },
   {
    "duration": 9,
    "start_time": "2023-04-04T18:45:25.296Z"
   },
   {
    "duration": 186,
    "start_time": "2023-04-04T18:45:25.306Z"
   },
   {
    "duration": 3,
    "start_time": "2023-04-04T18:45:25.494Z"
   },
   {
    "duration": 13,
    "start_time": "2023-04-04T18:45:25.499Z"
   },
   {
    "duration": 191,
    "start_time": "2023-04-04T18:45:25.513Z"
   },
   {
    "duration": 5,
    "start_time": "2023-04-04T18:45:25.705Z"
   },
   {
    "duration": 10,
    "start_time": "2023-04-04T18:45:25.712Z"
   },
   {
    "duration": 227,
    "start_time": "2023-04-04T18:45:25.724Z"
   },
   {
    "duration": 10,
    "start_time": "2023-04-04T18:45:25.953Z"
   },
   {
    "duration": 6,
    "start_time": "2023-04-04T18:45:25.965Z"
   },
   {
    "duration": 27,
    "start_time": "2023-04-04T18:45:25.973Z"
   },
   {
    "duration": 9,
    "start_time": "2023-04-04T18:45:26.002Z"
   },
   {
    "duration": 12,
    "start_time": "2023-04-04T18:45:26.012Z"
   },
   {
    "duration": 8,
    "start_time": "2023-04-04T18:45:26.048Z"
   },
   {
    "duration": 34,
    "start_time": "2023-04-04T18:45:26.058Z"
   },
   {
    "duration": 8,
    "start_time": "2023-04-04T18:45:26.094Z"
   },
   {
    "duration": 1025,
    "start_time": "2023-06-25T15:12:55.686Z"
   },
   {
    "duration": 247,
    "start_time": "2023-06-25T15:12:56.713Z"
   },
   {
    "duration": 17,
    "start_time": "2023-06-25T15:12:56.961Z"
   },
   {
    "duration": 10,
    "start_time": "2023-06-25T15:12:56.980Z"
   },
   {
    "duration": 9,
    "start_time": "2023-06-25T15:12:56.991Z"
   },
   {
    "duration": 14,
    "start_time": "2023-06-25T15:12:57.001Z"
   },
   {
    "duration": 21,
    "start_time": "2023-06-25T15:12:57.016Z"
   },
   {
    "duration": 5,
    "start_time": "2023-06-25T15:12:57.039Z"
   },
   {
    "duration": 12,
    "start_time": "2023-06-25T15:12:57.046Z"
   },
   {
    "duration": 5,
    "start_time": "2023-06-25T15:12:57.074Z"
   },
   {
    "duration": 33,
    "start_time": "2023-06-25T15:12:57.080Z"
   },
   {
    "duration": 17,
    "start_time": "2023-06-25T15:12:57.115Z"
   },
   {
    "duration": 7,
    "start_time": "2023-06-25T15:12:57.134Z"
   },
   {
    "duration": 7,
    "start_time": "2023-06-25T15:12:57.143Z"
   },
   {
    "duration": 16,
    "start_time": "2023-06-25T15:12:57.151Z"
   },
   {
    "duration": 14,
    "start_time": "2023-06-25T15:12:57.168Z"
   },
   {
    "duration": 15,
    "start_time": "2023-06-25T15:12:57.184Z"
   },
   {
    "duration": 8,
    "start_time": "2023-06-25T15:12:57.200Z"
   },
   {
    "duration": 22,
    "start_time": "2023-06-25T15:12:57.210Z"
   },
   {
    "duration": 34,
    "start_time": "2023-06-25T15:12:57.234Z"
   },
   {
    "duration": 16,
    "start_time": "2023-06-25T15:12:57.270Z"
   },
   {
    "duration": 267,
    "start_time": "2023-06-25T15:12:57.287Z"
   },
   {
    "duration": 261,
    "start_time": "2023-06-25T15:12:57.556Z"
   },
   {
    "duration": 196,
    "start_time": "2023-06-25T15:12:57.818Z"
   },
   {
    "duration": 290,
    "start_time": "2023-06-25T15:12:58.016Z"
   },
   {
    "duration": 210,
    "start_time": "2023-06-25T15:12:58.308Z"
   },
   {
    "duration": 273,
    "start_time": "2023-06-25T15:12:58.520Z"
   },
   {
    "duration": 8,
    "start_time": "2023-06-25T15:12:58.796Z"
   },
   {
    "duration": 171,
    "start_time": "2023-06-25T15:12:58.806Z"
   },
   {
    "duration": 4,
    "start_time": "2023-06-25T15:12:58.978Z"
   },
   {
    "duration": 86,
    "start_time": "2023-06-25T15:12:58.983Z"
   },
   {
    "duration": 181,
    "start_time": "2023-06-25T15:12:59.070Z"
   },
   {
    "duration": 4,
    "start_time": "2023-06-25T15:12:59.252Z"
   },
   {
    "duration": 8,
    "start_time": "2023-06-25T15:12:59.257Z"
   },
   {
    "duration": 199,
    "start_time": "2023-06-25T15:12:59.267Z"
   },
   {
    "duration": 12,
    "start_time": "2023-06-25T15:12:59.467Z"
   },
   {
    "duration": 13,
    "start_time": "2023-06-25T15:12:59.481Z"
   },
   {
    "duration": 40,
    "start_time": "2023-06-25T15:12:59.495Z"
   },
   {
    "duration": 9,
    "start_time": "2023-06-25T15:12:59.537Z"
   },
   {
    "duration": 13,
    "start_time": "2023-06-25T15:12:59.547Z"
   },
   {
    "duration": 16,
    "start_time": "2023-06-25T15:12:59.562Z"
   },
   {
    "duration": 25,
    "start_time": "2023-06-25T15:12:59.580Z"
   },
   {
    "duration": 8,
    "start_time": "2023-06-25T15:12:59.607Z"
   }
  ],
  "colab": {
   "provenance": []
  },
  "kernelspec": {
   "display_name": "Python 3 (ipykernel)",
   "language": "python",
   "name": "python3"
  },
  "language_info": {
   "codemirror_mode": {
    "name": "ipython",
    "version": 3
   },
   "file_extension": ".py",
   "mimetype": "text/x-python",
   "name": "python",
   "nbconvert_exporter": "python",
   "pygments_lexer": "ipython3",
   "version": "3.9.5"
  },
  "toc": {
   "base_numbering": 1,
   "nav_menu": {},
   "number_sections": true,
   "sideBar": true,
   "skip_h1_title": true,
   "title_cell": "Table of Contents",
   "title_sidebar": "Contents",
   "toc_cell": false,
   "toc_position": {
    "height": "calc(100% - 180px)",
    "left": "10px",
    "top": "150px",
    "width": "481.312px"
   },
   "toc_section_display": true,
   "toc_window_display": true
  }
 },
 "nbformat": 4,
 "nbformat_minor": 1
}
