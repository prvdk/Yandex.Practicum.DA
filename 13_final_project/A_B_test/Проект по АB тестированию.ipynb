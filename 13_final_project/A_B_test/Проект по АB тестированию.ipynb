{
 "cells": [
  {
   "cell_type": "markdown",
   "id": "10497a58",
   "metadata": {
    "id": "10497a58"
   },
   "source": [
    "# A/B-тестирование"
   ]
  },
  {
   "cell_type": "markdown",
   "id": "a0b5e3e7",
   "metadata": {
    "id": "a0b5e3e7"
   },
   "source": [
    "# Постановка задачи\n",
    "\n",
    "Ваша задача — провести оценку результатов A/B-теста. В вашем распоряжении есть датасет с действиями пользователей, техническое задание и несколько вспомогательных датасетов.\n",
    "\n",
    "Оцените корректность проведения теста и проанализируйте его результаты.\n",
    "\n",
    "Чтобы оценить корректность проведения теста:\n",
    "\n",
    "- удостоверьтесь, что нет пересечений с конкурирующим тестом и нет пользователей, участвующих в двух группах теста одновременно;\n",
    "- проверьте равномерность распределения пользователей по тестовым группам и правильность их формирования.\n",
    "\n",
    "Подробнее об этом мы рассказываем в разделе «Как выполнить задание» в конце урока."
   ]
  },
  {
   "cell_type": "markdown",
   "id": "f98d0a6c",
   "metadata": {
    "id": "f98d0a6c"
   },
   "source": [
    "# Техническое задание\n",
    "\n",
    "- Название теста: `recommender_system_test`;\n",
    "- группы: А — контрольная, B — новая платёжная воронка;\n",
    "- дата запуска: 2020-12-07;\n",
    "- дата остановки набора новых пользователей: 2020-12-21;\n",
    "- дата остановки: 2021-01-04;\n",
    "- аудитория: 15% новых пользователей из региона EU;\n",
    "- назначение теста: тестирование изменений, связанных с внедрением улучшенной рекомендательной системы;\n",
    "- ожидаемое количество участников теста: 6000.\n",
    "- ожидаемый эффект: за 14 дней с момента регистрации пользователи покажут улучшение каждой метрики не менее, чем на 10%:\n",
    "    - конверсии в просмотр карточек товаров — событие `product_page`,\n",
    "    - просмотры корзины — `product_cart`,\n",
    "    - покупки — `purchase`."
   ]
  },
  {
   "cell_type": "markdown",
   "id": "13d8e6b3",
   "metadata": {
    "id": "13d8e6b3"
   },
   "source": [
    "### Описание данных\n",
    "\n",
    "`ab_project_marketing_events.csv` — календарь маркетинговых событий на 2020 год.\n",
    "\n",
    "Структура файла:\n",
    "\n",
    "- `name` — название маркетингового события;\n",
    "- `regions` — регионы, в которых будет проводиться рекламная кампания;\n",
    "- `start_dt` — дата начала кампании;\n",
    "- `finish_dt` — дата завершения кампании.\n",
    "\n",
    "`final_ab_new_users.csv` — пользователи, зарегистрировавшиеся с 7 по 21 декабря 2020 года.\n",
    "\n",
    "Структура файла:\n",
    "\n",
    "- `user_id` — идентификатор пользователя;\n",
    "- `first_date` — дата регистрации;\n",
    "- `region` — регион пользователя;\n",
    "- `device` — устройство, с которого происходила регистрация.\n",
    "\n",
    "`final_ab_events.csv` — действия новых пользователей в период с 7 декабря 2020 по 4 января 2021 года.\n",
    "\n",
    "Структура файла:\n",
    "\n",
    "- `user_id` — идентификатор пользователя;\n",
    "- `event_dt` — дата и время покупки;\n",
    "- `event_name` — тип события;\n",
    "- `details` — дополнительные данные о событии. Например, для покупок, `purchase,` в этом поле хранится стоимость покупки в долларах.\n",
    "\n",
    "`final_ab_participants.csv` — таблица участников тестов.\n",
    "\n",
    "Структура файла:\n",
    "\n",
    "- `user_id` — идентификатор пользователя;\n",
    "- `ab_test` — название теста;\n",
    "- `group` — группа пользователя."
   ]
  },
  {
   "cell_type": "markdown",
   "id": "99a29325",
   "metadata": {
    "id": "99a29325"
   },
   "source": [
    "### Ход выполнения задания\n",
    "\n",
    "### Цель исследования\n",
    "\n",
    "Определить результаты A/B-теста и оценить корректность его проведения.\n",
    "\n",
    "### Исследование данных\n",
    "\n",
    "1. Определить, требуется ли преобразование типов данных.\n",
    "2. Описать природу пропущенных значений и дубликатов, если они присутствуют.\n",
    "\n",
    "### Оценка корректности проведения теста\n",
    "\n",
    "1. Проверить соответствие данных требованиям технического задания.\n",
    "2. Убедиться, что время проведения теста не совпадает с маркетинговыми и другими активностями.\n",
    "3. Проверить аудиторию теста:\n",
    "   - Отсутствие пересечений с конкурирующим тестом\n",
    "   - Отсутствие пользователей, участвующих в двух группах теста одновременно\n",
    "   - Равномерность распределения по тестовым группам и правильность их формирования\n",
    "\n",
    "### Исследовательский анализ данных\n",
    "\n",
    "1. Определить, распределены ли одинаково количество событий на пользователя в выборках.\n",
    "2. Изучить распределение числа событий в выборках по дням.\n",
    "3. Оценить изменение конверсии в воронке на разных этапах в выборках.\n",
    "4. Определить особенности данных, которые нужно учесть перед A/B-тестированием.\n",
    "\n",
    "### Оценка результатов A/B-тестирования\n",
    "\n",
    "1. Проанализировать результаты A/B-тестирования.\n",
    "2. Проверить статистическую разницу долей с использованием z-критерия.\n",
    "\n",
    "### Выводы\n",
    "\n",
    "1. Описать выводы по этапу исследовательского анализа данных и оценке результатов A/B-тестирования.\n",
    "2. Сделать общее заключение о корректности проведения теста."
   ]
  },
  {
   "cell_type": "markdown",
   "id": "d02febc5",
   "metadata": {
    "id": "d02febc5"
   },
   "source": [
    "# Цели исследования  \n",
    "  \n",
    "  \n",
    "- Оценить корректность проведения теста\n",
    "- Проанализировать результаты теста"
   ]
  },
  {
   "cell_type": "code",
   "execution_count": 1,
   "id": "add48d88",
   "metadata": {
    "id": "add48d88"
   },
   "outputs": [],
   "source": [
    "# импорт библиотек\n",
    "import pandas as pd\n",
    "import matplotlib.pyplot as plt\n",
    "import matplotlib\n",
    "%matplotlib inline\n",
    "from scipy import stats as st\n",
    "import numpy as np\n",
    "from datetime import datetime,date\n",
    "import datetime as dt\n",
    "import seaborn as sns\n",
    "import plotly\n",
    "import plotly.express as px\n",
    "import plotly.graph_objects as go\n",
    "import math as mth"
   ]
  },
  {
   "cell_type": "markdown",
   "id": "0100d3be",
   "metadata": {
    "id": "0100d3be"
   },
   "source": [
    "# Исследование данных"
   ]
  },
  {
   "cell_type": "code",
   "execution_count": 2,
   "id": "4aaf248d",
   "metadata": {
    "colab": {
     "base_uri": "https://localhost:8080/",
     "height": 206
    },
    "id": "4aaf248d",
    "outputId": "ab1cb60d-5ff9-490d-fc00-1e3c0d454d09"
   },
   "outputs": [
    {
     "data": {
      "text/html": [
       "<div>\n",
       "<style scoped>\n",
       "    .dataframe tbody tr th:only-of-type {\n",
       "        vertical-align: middle;\n",
       "    }\n",
       "\n",
       "    .dataframe tbody tr th {\n",
       "        vertical-align: top;\n",
       "    }\n",
       "\n",
       "    .dataframe thead th {\n",
       "        text-align: right;\n",
       "    }\n",
       "</style>\n",
       "<table border=\"1\" class=\"dataframe\">\n",
       "  <thead>\n",
       "    <tr style=\"text-align: right;\">\n",
       "      <th></th>\n",
       "      <th>name</th>\n",
       "      <th>regions</th>\n",
       "      <th>start_dt</th>\n",
       "      <th>finish_dt</th>\n",
       "    </tr>\n",
       "  </thead>\n",
       "  <tbody>\n",
       "    <tr>\n",
       "      <th>0</th>\n",
       "      <td>Christmas&amp;New Year Promo</td>\n",
       "      <td>EU, N.America</td>\n",
       "      <td>2020-12-25</td>\n",
       "      <td>2021-01-03</td>\n",
       "    </tr>\n",
       "    <tr>\n",
       "      <th>1</th>\n",
       "      <td>St. Valentine's Day Giveaway</td>\n",
       "      <td>EU, CIS, APAC, N.America</td>\n",
       "      <td>2020-02-14</td>\n",
       "      <td>2020-02-16</td>\n",
       "    </tr>\n",
       "    <tr>\n",
       "      <th>2</th>\n",
       "      <td>St. Patric's Day Promo</td>\n",
       "      <td>EU, N.America</td>\n",
       "      <td>2020-03-17</td>\n",
       "      <td>2020-03-19</td>\n",
       "    </tr>\n",
       "    <tr>\n",
       "      <th>3</th>\n",
       "      <td>Easter Promo</td>\n",
       "      <td>EU, CIS, APAC, N.America</td>\n",
       "      <td>2020-04-12</td>\n",
       "      <td>2020-04-19</td>\n",
       "    </tr>\n",
       "    <tr>\n",
       "      <th>4</th>\n",
       "      <td>4th of July Promo</td>\n",
       "      <td>N.America</td>\n",
       "      <td>2020-07-04</td>\n",
       "      <td>2020-07-11</td>\n",
       "    </tr>\n",
       "  </tbody>\n",
       "</table>\n",
       "</div>"
      ],
      "text/plain": [
       "                           name                   regions    start_dt  \\\n",
       "0      Christmas&New Year Promo             EU, N.America  2020-12-25   \n",
       "1  St. Valentine's Day Giveaway  EU, CIS, APAC, N.America  2020-02-14   \n",
       "2        St. Patric's Day Promo             EU, N.America  2020-03-17   \n",
       "3                  Easter Promo  EU, CIS, APAC, N.America  2020-04-12   \n",
       "4             4th of July Promo                 N.America  2020-07-04   \n",
       "\n",
       "    finish_dt  \n",
       "0  2021-01-03  \n",
       "1  2020-02-16  \n",
       "2  2020-03-19  \n",
       "3  2020-04-19  \n",
       "4  2020-07-11  "
      ]
     },
     "execution_count": 2,
     "metadata": {},
     "output_type": "execute_result"
    }
   ],
   "source": [
    "# открываю данные\n",
    "marketings = pd.read_csv('https://code.s3.yandex.net/datasets/ab_project_marketing_events.csv')\n",
    "marketings.head()"
   ]
  },
  {
   "cell_type": "code",
   "execution_count": 3,
   "id": "f0bd5ce3",
   "metadata": {
    "colab": {
     "base_uri": "https://localhost:8080/",
     "height": 206
    },
    "id": "f0bd5ce3",
    "outputId": "360053e0-dd91-40fa-d099-8527f952d90b"
   },
   "outputs": [
    {
     "data": {
      "text/html": [
       "<div>\n",
       "<style scoped>\n",
       "    .dataframe tbody tr th:only-of-type {\n",
       "        vertical-align: middle;\n",
       "    }\n",
       "\n",
       "    .dataframe tbody tr th {\n",
       "        vertical-align: top;\n",
       "    }\n",
       "\n",
       "    .dataframe thead th {\n",
       "        text-align: right;\n",
       "    }\n",
       "</style>\n",
       "<table border=\"1\" class=\"dataframe\">\n",
       "  <thead>\n",
       "    <tr style=\"text-align: right;\">\n",
       "      <th></th>\n",
       "      <th>user_id</th>\n",
       "      <th>first_date</th>\n",
       "      <th>region</th>\n",
       "      <th>device</th>\n",
       "    </tr>\n",
       "  </thead>\n",
       "  <tbody>\n",
       "    <tr>\n",
       "      <th>0</th>\n",
       "      <td>D72A72121175D8BE</td>\n",
       "      <td>2020-12-07</td>\n",
       "      <td>EU</td>\n",
       "      <td>PC</td>\n",
       "    </tr>\n",
       "    <tr>\n",
       "      <th>1</th>\n",
       "      <td>F1C668619DFE6E65</td>\n",
       "      <td>2020-12-07</td>\n",
       "      <td>N.America</td>\n",
       "      <td>Android</td>\n",
       "    </tr>\n",
       "    <tr>\n",
       "      <th>2</th>\n",
       "      <td>2E1BF1D4C37EA01F</td>\n",
       "      <td>2020-12-07</td>\n",
       "      <td>EU</td>\n",
       "      <td>PC</td>\n",
       "    </tr>\n",
       "    <tr>\n",
       "      <th>3</th>\n",
       "      <td>50734A22C0C63768</td>\n",
       "      <td>2020-12-07</td>\n",
       "      <td>EU</td>\n",
       "      <td>iPhone</td>\n",
       "    </tr>\n",
       "    <tr>\n",
       "      <th>4</th>\n",
       "      <td>E1BDDCE0DAFA2679</td>\n",
       "      <td>2020-12-07</td>\n",
       "      <td>N.America</td>\n",
       "      <td>iPhone</td>\n",
       "    </tr>\n",
       "  </tbody>\n",
       "</table>\n",
       "</div>"
      ],
      "text/plain": [
       "            user_id  first_date     region   device\n",
       "0  D72A72121175D8BE  2020-12-07         EU       PC\n",
       "1  F1C668619DFE6E65  2020-12-07  N.America  Android\n",
       "2  2E1BF1D4C37EA01F  2020-12-07         EU       PC\n",
       "3  50734A22C0C63768  2020-12-07         EU   iPhone\n",
       "4  E1BDDCE0DAFA2679  2020-12-07  N.America   iPhone"
      ]
     },
     "execution_count": 3,
     "metadata": {},
     "output_type": "execute_result"
    }
   ],
   "source": [
    "users = pd.read_csv('https://code.s3.yandex.net/datasets/final_ab_new_users.csv')\n",
    "users.head()"
   ]
  },
  {
   "cell_type": "code",
   "execution_count": 4,
   "id": "df9b5c12",
   "metadata": {
    "colab": {
     "base_uri": "https://localhost:8080/",
     "height": 206
    },
    "id": "df9b5c12",
    "outputId": "65b5bc11-5c44-44aa-9c1f-7f5c2a044196"
   },
   "outputs": [
    {
     "data": {
      "text/html": [
       "<div>\n",
       "<style scoped>\n",
       "    .dataframe tbody tr th:only-of-type {\n",
       "        vertical-align: middle;\n",
       "    }\n",
       "\n",
       "    .dataframe tbody tr th {\n",
       "        vertical-align: top;\n",
       "    }\n",
       "\n",
       "    .dataframe thead th {\n",
       "        text-align: right;\n",
       "    }\n",
       "</style>\n",
       "<table border=\"1\" class=\"dataframe\">\n",
       "  <thead>\n",
       "    <tr style=\"text-align: right;\">\n",
       "      <th></th>\n",
       "      <th>user_id</th>\n",
       "      <th>event_dt</th>\n",
       "      <th>event_name</th>\n",
       "      <th>details</th>\n",
       "    </tr>\n",
       "  </thead>\n",
       "  <tbody>\n",
       "    <tr>\n",
       "      <th>0</th>\n",
       "      <td>E1BDDCE0DAFA2679</td>\n",
       "      <td>2020-12-07 20:22:03</td>\n",
       "      <td>purchase</td>\n",
       "      <td>99.99</td>\n",
       "    </tr>\n",
       "    <tr>\n",
       "      <th>1</th>\n",
       "      <td>7B6452F081F49504</td>\n",
       "      <td>2020-12-07 09:22:53</td>\n",
       "      <td>purchase</td>\n",
       "      <td>9.99</td>\n",
       "    </tr>\n",
       "    <tr>\n",
       "      <th>2</th>\n",
       "      <td>9CD9F34546DF254C</td>\n",
       "      <td>2020-12-07 12:59:29</td>\n",
       "      <td>purchase</td>\n",
       "      <td>4.99</td>\n",
       "    </tr>\n",
       "    <tr>\n",
       "      <th>3</th>\n",
       "      <td>96F27A054B191457</td>\n",
       "      <td>2020-12-07 04:02:40</td>\n",
       "      <td>purchase</td>\n",
       "      <td>4.99</td>\n",
       "    </tr>\n",
       "    <tr>\n",
       "      <th>4</th>\n",
       "      <td>1FD7660FDF94CA1F</td>\n",
       "      <td>2020-12-07 10:15:09</td>\n",
       "      <td>purchase</td>\n",
       "      <td>4.99</td>\n",
       "    </tr>\n",
       "  </tbody>\n",
       "</table>\n",
       "</div>"
      ],
      "text/plain": [
       "            user_id             event_dt event_name  details\n",
       "0  E1BDDCE0DAFA2679  2020-12-07 20:22:03   purchase    99.99\n",
       "1  7B6452F081F49504  2020-12-07 09:22:53   purchase     9.99\n",
       "2  9CD9F34546DF254C  2020-12-07 12:59:29   purchase     4.99\n",
       "3  96F27A054B191457  2020-12-07 04:02:40   purchase     4.99\n",
       "4  1FD7660FDF94CA1F  2020-12-07 10:15:09   purchase     4.99"
      ]
     },
     "execution_count": 4,
     "metadata": {},
     "output_type": "execute_result"
    }
   ],
   "source": [
    "events = pd.read_csv('https://code.s3.yandex.net/datasets/final_ab_events.csv')\n",
    "events.head()"
   ]
  },
  {
   "cell_type": "code",
   "execution_count": 5,
   "id": "e32d18c5",
   "metadata": {
    "colab": {
     "base_uri": "https://localhost:8080/",
     "height": 206
    },
    "id": "e32d18c5",
    "outputId": "1fad0d5e-38f5-4972-e337-2e3d8b547eab"
   },
   "outputs": [
    {
     "data": {
      "text/html": [
       "<div>\n",
       "<style scoped>\n",
       "    .dataframe tbody tr th:only-of-type {\n",
       "        vertical-align: middle;\n",
       "    }\n",
       "\n",
       "    .dataframe tbody tr th {\n",
       "        vertical-align: top;\n",
       "    }\n",
       "\n",
       "    .dataframe thead th {\n",
       "        text-align: right;\n",
       "    }\n",
       "</style>\n",
       "<table border=\"1\" class=\"dataframe\">\n",
       "  <thead>\n",
       "    <tr style=\"text-align: right;\">\n",
       "      <th></th>\n",
       "      <th>user_id</th>\n",
       "      <th>group</th>\n",
       "      <th>ab_test</th>\n",
       "    </tr>\n",
       "  </thead>\n",
       "  <tbody>\n",
       "    <tr>\n",
       "      <th>0</th>\n",
       "      <td>D1ABA3E2887B6A73</td>\n",
       "      <td>A</td>\n",
       "      <td>recommender_system_test</td>\n",
       "    </tr>\n",
       "    <tr>\n",
       "      <th>1</th>\n",
       "      <td>A7A3664BD6242119</td>\n",
       "      <td>A</td>\n",
       "      <td>recommender_system_test</td>\n",
       "    </tr>\n",
       "    <tr>\n",
       "      <th>2</th>\n",
       "      <td>DABC14FDDFADD29E</td>\n",
       "      <td>A</td>\n",
       "      <td>recommender_system_test</td>\n",
       "    </tr>\n",
       "    <tr>\n",
       "      <th>3</th>\n",
       "      <td>04988C5DF189632E</td>\n",
       "      <td>A</td>\n",
       "      <td>recommender_system_test</td>\n",
       "    </tr>\n",
       "    <tr>\n",
       "      <th>4</th>\n",
       "      <td>482F14783456D21B</td>\n",
       "      <td>B</td>\n",
       "      <td>recommender_system_test</td>\n",
       "    </tr>\n",
       "  </tbody>\n",
       "</table>\n",
       "</div>"
      ],
      "text/plain": [
       "            user_id group                  ab_test\n",
       "0  D1ABA3E2887B6A73     A  recommender_system_test\n",
       "1  A7A3664BD6242119     A  recommender_system_test\n",
       "2  DABC14FDDFADD29E     A  recommender_system_test\n",
       "3  04988C5DF189632E     A  recommender_system_test\n",
       "4  482F14783456D21B     B  recommender_system_test"
      ]
     },
     "execution_count": 5,
     "metadata": {},
     "output_type": "execute_result"
    }
   ],
   "source": [
    "participants = pd.read_csv('https://code.s3.yandex.net/datasets/final_ab_participants.csv')\n",
    "participants.head()"
   ]
  },
  {
   "cell_type": "code",
   "execution_count": 6,
   "id": "0ad77f45",
   "metadata": {
    "colab": {
     "base_uri": "https://localhost:8080/"
    },
    "id": "0ad77f45",
    "outputId": "70abb5e3-5382-49f0-91c3-9428be2abd50"
   },
   "outputs": [
    {
     "name": "stdout",
     "output_type": "stream",
     "text": [
      "<class 'pandas.core.frame.DataFrame'>\n",
      "RangeIndex: 14 entries, 0 to 13\n",
      "Data columns (total 4 columns):\n",
      " #   Column     Non-Null Count  Dtype \n",
      "---  ------     --------------  ----- \n",
      " 0   name       14 non-null     object\n",
      " 1   regions    14 non-null     object\n",
      " 2   start_dt   14 non-null     object\n",
      " 3   finish_dt  14 non-null     object\n",
      "dtypes: object(4)\n",
      "memory usage: 576.0+ bytes\n",
      "Количество дубликатов: 0\n"
     ]
    }
   ],
   "source": [
    "marketings.info()\n",
    "\n",
    "print('Количество дубликатов:', marketings.duplicated().sum())"
   ]
  },
  {
   "cell_type": "code",
   "execution_count": 7,
   "id": "54e173a8",
   "metadata": {
    "colab": {
     "base_uri": "https://localhost:8080/"
    },
    "id": "54e173a8",
    "outputId": "03948e59-e77c-4ab1-e218-7cdeb043e722"
   },
   "outputs": [
    {
     "data": {
      "text/plain": [
       "name         0\n",
       "regions      0\n",
       "start_dt     0\n",
       "finish_dt    0\n",
       "dtype: int64"
      ]
     },
     "execution_count": 7,
     "metadata": {},
     "output_type": "execute_result"
    }
   ],
   "source": [
    "marketings.isna().sum()"
   ]
  },
  {
   "cell_type": "markdown",
   "id": "kJtlRoJ7IMJq",
   "metadata": {
    "id": "kJtlRoJ7IMJq"
   },
   "source": [
    "В датасете marketings отсутствуют пропуски и дубликаты. Столбцы 'start_dt' и 'finish_dt' нужно привести к типу datetime"
   ]
  },
  {
   "cell_type": "code",
   "execution_count": 8,
   "id": "a636781d",
   "metadata": {
    "id": "a636781d"
   },
   "outputs": [],
   "source": [
    "marketings['start_dt'] = pd.to_datetime(marketings['start_dt'], format='%Y-%m-%d')\n",
    "marketings['finish_dt'] = pd.to_datetime(marketings['finish_dt'], format='%Y-%m-%d')"
   ]
  },
  {
   "cell_type": "code",
   "execution_count": 9,
   "id": "9ec8030f",
   "metadata": {
    "colab": {
     "base_uri": "https://localhost:8080/"
    },
    "id": "9ec8030f",
    "outputId": "af91c1a4-f667-4153-f460-6d3804bd9101"
   },
   "outputs": [
    {
     "name": "stdout",
     "output_type": "stream",
     "text": [
      "<class 'pandas.core.frame.DataFrame'>\n",
      "RangeIndex: 61733 entries, 0 to 61732\n",
      "Data columns (total 4 columns):\n",
      " #   Column      Non-Null Count  Dtype \n",
      "---  ------      --------------  ----- \n",
      " 0   user_id     61733 non-null  object\n",
      " 1   first_date  61733 non-null  object\n",
      " 2   region      61733 non-null  object\n",
      " 3   device      61733 non-null  object\n",
      "dtypes: object(4)\n",
      "memory usage: 1.9+ MB\n",
      "Количество дубликатов: 0\n"
     ]
    }
   ],
   "source": [
    "users.info()\n",
    "\n",
    "print('Количество дубликатов:', users.duplicated().sum())"
   ]
  },
  {
   "cell_type": "code",
   "execution_count": 10,
   "id": "af5fa41b",
   "metadata": {
    "colab": {
     "base_uri": "https://localhost:8080/"
    },
    "id": "af5fa41b",
    "outputId": "1cfd8ed1-be50-4e26-cf92-fdfb9ad5967b"
   },
   "outputs": [
    {
     "data": {
      "text/plain": [
       "user_id       0\n",
       "first_date    0\n",
       "region        0\n",
       "device        0\n",
       "dtype: int64"
      ]
     },
     "execution_count": 10,
     "metadata": {},
     "output_type": "execute_result"
    }
   ],
   "source": [
    "users.isna().sum()"
   ]
  },
  {
   "cell_type": "markdown",
   "id": "s53mE-lLIQ6S",
   "metadata": {
    "id": "s53mE-lLIQ6S"
   },
   "source": [
    "В датасете users отсутствуют пропуски и дубликаты. Столбец 'first_date' нужно привести к типу datetime"
   ]
  },
  {
   "cell_type": "code",
   "execution_count": 11,
   "id": "31984262",
   "metadata": {
    "id": "31984262"
   },
   "outputs": [],
   "source": [
    "users['first_date'] = pd.to_datetime(users['first_date'], format='%Y-%m-%d')"
   ]
  },
  {
   "cell_type": "code",
   "execution_count": 12,
   "id": "2cf2cd04",
   "metadata": {
    "colab": {
     "base_uri": "https://localhost:8080/"
    },
    "id": "2cf2cd04",
    "outputId": "6829562c-2def-4e0f-f2e2-757557a36f3c"
   },
   "outputs": [
    {
     "name": "stdout",
     "output_type": "stream",
     "text": [
      "<class 'pandas.core.frame.DataFrame'>\n",
      "RangeIndex: 440317 entries, 0 to 440316\n",
      "Data columns (total 4 columns):\n",
      " #   Column      Non-Null Count   Dtype  \n",
      "---  ------      --------------   -----  \n",
      " 0   user_id     440317 non-null  object \n",
      " 1   event_dt    440317 non-null  object \n",
      " 2   event_name  440317 non-null  object \n",
      " 3   details     62740 non-null   float64\n",
      "dtypes: float64(1), object(3)\n",
      "memory usage: 13.4+ MB\n",
      "Количество дубликатов: 0\n"
     ]
    }
   ],
   "source": [
    "events.info()\n",
    "\n",
    "print('Количество дубликатов:', events.duplicated().sum())"
   ]
  },
  {
   "cell_type": "code",
   "execution_count": 13,
   "id": "df0caab6",
   "metadata": {
    "colab": {
     "base_uri": "https://localhost:8080/"
    },
    "id": "df0caab6",
    "outputId": "caf56666-7e90-40b3-b65b-344a95ff08da"
   },
   "outputs": [
    {
     "data": {
      "text/plain": [
       "user_id       0.000000\n",
       "event_dt      0.000000\n",
       "event_name    0.000000\n",
       "details       0.857512\n",
       "dtype: float64"
      ]
     },
     "execution_count": 13,
     "metadata": {},
     "output_type": "execute_result"
    }
   ],
   "source": [
    "events.isna().mean()"
   ]
  },
  {
   "cell_type": "markdown",
   "id": "KOSAhfgMIVwT",
   "metadata": {
    "id": "KOSAhfgMIVwT"
   },
   "source": [
    "В датасете events отсутствуют дубликаты. Присутствуют пропуски в столбце 'details' - 85%.\n",
    "\n",
    "Столбец 'event_dt' нужно привести к типу datetime"
   ]
  },
  {
   "cell_type": "code",
   "execution_count": 14,
   "id": "273c8f7e",
   "metadata": {
    "colab": {
     "base_uri": "https://localhost:8080/"
    },
    "id": "273c8f7e",
    "outputId": "0087504b-cdee-464a-8f8a-e3369af88f90"
   },
   "outputs": [
    {
     "name": "stdout",
     "output_type": "stream",
     "text": [
      "<class 'pandas.core.frame.DataFrame'>\n",
      "RangeIndex: 440317 entries, 0 to 440316\n",
      "Data columns (total 4 columns):\n",
      " #   Column      Non-Null Count   Dtype         \n",
      "---  ------      --------------   -----         \n",
      " 0   user_id     440317 non-null  object        \n",
      " 1   event_dt    440317 non-null  datetime64[ns]\n",
      " 2   event_name  440317 non-null  object        \n",
      " 3   details     62740 non-null   float64       \n",
      "dtypes: datetime64[ns](1), float64(1), object(2)\n",
      "memory usage: 13.4+ MB\n"
     ]
    }
   ],
   "source": [
    "events['event_dt'] = pd.to_datetime(events['event_dt'])\n",
    "events.info()"
   ]
  },
  {
   "cell_type": "code",
   "execution_count": 15,
   "id": "1345ef86",
   "metadata": {
    "colab": {
     "base_uri": "https://localhost:8080/"
    },
    "id": "1345ef86",
    "outputId": "202245a0-866d-4b53-c37e-d2375344760d"
   },
   "outputs": [
    {
     "name": "stdout",
     "output_type": "stream",
     "text": [
      "<class 'pandas.core.frame.DataFrame'>\n",
      "RangeIndex: 18268 entries, 0 to 18267\n",
      "Data columns (total 3 columns):\n",
      " #   Column   Non-Null Count  Dtype \n",
      "---  ------   --------------  ----- \n",
      " 0   user_id  18268 non-null  object\n",
      " 1   group    18268 non-null  object\n",
      " 2   ab_test  18268 non-null  object\n",
      "dtypes: object(3)\n",
      "memory usage: 428.3+ KB\n",
      "Количество дубликатов: 0\n"
     ]
    }
   ],
   "source": [
    "participants.info()\n",
    "print('Количество дубликатов:', participants.duplicated().sum())"
   ]
  },
  {
   "cell_type": "code",
   "execution_count": 16,
   "id": "b4baccf7",
   "metadata": {
    "colab": {
     "base_uri": "https://localhost:8080/"
    },
    "id": "b4baccf7",
    "outputId": "f48a23b0-4981-4196-8a1e-dd7f4c94cbe8"
   },
   "outputs": [
    {
     "data": {
      "text/plain": [
       "user_id    0\n",
       "group      0\n",
       "ab_test    0\n",
       "dtype: int64"
      ]
     },
     "execution_count": 16,
     "metadata": {},
     "output_type": "execute_result"
    }
   ],
   "source": [
    "participants.isna().sum()"
   ]
  },
  {
   "cell_type": "markdown",
   "id": "au2IuGh3IfvN",
   "metadata": {
    "id": "au2IuGh3IfvN"
   },
   "source": [
    "В датасете participants отсутствуют пропуски и дубликаты. Типы данных соответсвуют."
   ]
  },
  {
   "cell_type": "code",
   "execution_count": 17,
   "id": "dc3bd14e",
   "metadata": {
    "colab": {
     "base_uri": "https://localhost:8080/",
     "height": 447
    },
    "id": "dc3bd14e",
    "outputId": "947f7e5c-723f-467e-cadf-aefe161c6840"
   },
   "outputs": [
    {
     "data": {
      "text/plain": [
       "<AxesSubplot:>"
      ]
     },
     "execution_count": 17,
     "metadata": {},
     "output_type": "execute_result"
    },
    {
     "data": {
      "image/png": "[encoded data removed]",
      "text/plain": [
       "<Figure size 432x288 with 1 Axes>"
      ]
     },
     "metadata": {
      "needs_background": "light"
     },
     "output_type": "display_data"
    }
   ],
   "source": [
    "events['details'].hist()"
   ]
  },
  {
   "cell_type": "code",
   "execution_count": 18,
   "id": "b3867947",
   "metadata": {
    "colab": {
     "base_uri": "https://localhost:8080/"
    },
    "id": "b3867947",
    "outputId": "b57fb12e-6ea7-4140-8ea6-7ed4a574a514"
   },
   "outputs": [
    {
     "data": {
      "text/plain": [
       "count    62740.000000\n",
       "mean        23.877631\n",
       "std         72.180465\n",
       "min          4.990000\n",
       "25%          4.990000\n",
       "50%          4.990000\n",
       "75%          9.990000\n",
       "max        499.990000\n",
       "Name: details, dtype: float64"
      ]
     },
     "execution_count": 18,
     "metadata": {},
     "output_type": "execute_result"
    }
   ],
   "source": [
    "events['details'].describe()"
   ]
  },
  {
   "cell_type": "code",
   "execution_count": 19,
   "id": "61ac5440",
   "metadata": {
    "colab": {
     "base_uri": "https://localhost:8080/",
     "height": 206
    },
    "id": "61ac5440",
    "outputId": "dce3f06b-bfd6-46ee-f713-df60cf1e06b8"
   },
   "outputs": [
    {
     "data": {
      "text/html": [
       "<div>\n",
       "<style scoped>\n",
       "    .dataframe tbody tr th:only-of-type {\n",
       "        vertical-align: middle;\n",
       "    }\n",
       "\n",
       "    .dataframe tbody tr th {\n",
       "        vertical-align: top;\n",
       "    }\n",
       "\n",
       "    .dataframe thead th {\n",
       "        text-align: right;\n",
       "    }\n",
       "</style>\n",
       "<table border=\"1\" class=\"dataframe\">\n",
       "  <thead>\n",
       "    <tr style=\"text-align: right;\">\n",
       "      <th></th>\n",
       "      <th>user_id</th>\n",
       "      <th>event_dt</th>\n",
       "      <th>event_name</th>\n",
       "      <th>details</th>\n",
       "    </tr>\n",
       "  </thead>\n",
       "  <tbody>\n",
       "    <tr>\n",
       "      <th>62740</th>\n",
       "      <td>2E1BF1D4C37EA01F</td>\n",
       "      <td>2020-12-07 09:05:47</td>\n",
       "      <td>product_cart</td>\n",
       "      <td>NaN</td>\n",
       "    </tr>\n",
       "    <tr>\n",
       "      <th>62741</th>\n",
       "      <td>50734A22C0C63768</td>\n",
       "      <td>2020-12-07 13:24:03</td>\n",
       "      <td>product_cart</td>\n",
       "      <td>NaN</td>\n",
       "    </tr>\n",
       "    <tr>\n",
       "      <th>62742</th>\n",
       "      <td>5EB159DA9DC94DBA</td>\n",
       "      <td>2020-12-07 22:54:02</td>\n",
       "      <td>product_cart</td>\n",
       "      <td>NaN</td>\n",
       "    </tr>\n",
       "    <tr>\n",
       "      <th>62743</th>\n",
       "      <td>084A22B980BA8169</td>\n",
       "      <td>2020-12-07 15:25:55</td>\n",
       "      <td>product_cart</td>\n",
       "      <td>NaN</td>\n",
       "    </tr>\n",
       "    <tr>\n",
       "      <th>62744</th>\n",
       "      <td>0FC21E6F8FAA8DEC</td>\n",
       "      <td>2020-12-07 06:56:27</td>\n",
       "      <td>product_cart</td>\n",
       "      <td>NaN</td>\n",
       "    </tr>\n",
       "  </tbody>\n",
       "</table>\n",
       "</div>"
      ],
      "text/plain": [
       "                user_id            event_dt    event_name  details\n",
       "62740  2E1BF1D4C37EA01F 2020-12-07 09:05:47  product_cart      NaN\n",
       "62741  50734A22C0C63768 2020-12-07 13:24:03  product_cart      NaN\n",
       "62742  5EB159DA9DC94DBA 2020-12-07 22:54:02  product_cart      NaN\n",
       "62743  084A22B980BA8169 2020-12-07 15:25:55  product_cart      NaN\n",
       "62744  0FC21E6F8FAA8DEC 2020-12-07 06:56:27  product_cart      NaN"
      ]
     },
     "execution_count": 19,
     "metadata": {},
     "output_type": "execute_result"
    }
   ],
   "source": [
    "events_isna = events[events['details'].isna()]\n",
    "events_isna.head(5)"
   ]
  },
  {
   "cell_type": "markdown",
   "id": "KkjXsHCoIkmq",
   "metadata": {
    "id": "KkjXsHCoIkmq"
   },
   "source": [
    "Добавим столбец 'details_NaN'"
   ]
  },
  {
   "cell_type": "code",
   "execution_count": 20,
   "id": "97848c74",
   "metadata": {
    "colab": {
     "base_uri": "https://localhost:8080/",
     "height": 206
    },
    "id": "97848c74",
    "outputId": "4f09fea0-e2b2-4361-cc36-5aa7602710cd"
   },
   "outputs": [
    {
     "data": {
      "text/html": [
       "<div>\n",
       "<style scoped>\n",
       "    .dataframe tbody tr th:only-of-type {\n",
       "        vertical-align: middle;\n",
       "    }\n",
       "\n",
       "    .dataframe tbody tr th {\n",
       "        vertical-align: top;\n",
       "    }\n",
       "\n",
       "    .dataframe thead th {\n",
       "        text-align: right;\n",
       "    }\n",
       "</style>\n",
       "<table border=\"1\" class=\"dataframe\">\n",
       "  <thead>\n",
       "    <tr style=\"text-align: right;\">\n",
       "      <th></th>\n",
       "      <th>user_id</th>\n",
       "      <th>event_dt</th>\n",
       "      <th>event_name</th>\n",
       "      <th>details</th>\n",
       "      <th>details_Nan</th>\n",
       "    </tr>\n",
       "  </thead>\n",
       "  <tbody>\n",
       "    <tr>\n",
       "      <th>0</th>\n",
       "      <td>E1BDDCE0DAFA2679</td>\n",
       "      <td>2020-12-07 20:22:03</td>\n",
       "      <td>purchase</td>\n",
       "      <td>99.99</td>\n",
       "      <td>1</td>\n",
       "    </tr>\n",
       "    <tr>\n",
       "      <th>1</th>\n",
       "      <td>7B6452F081F49504</td>\n",
       "      <td>2020-12-07 09:22:53</td>\n",
       "      <td>purchase</td>\n",
       "      <td>9.99</td>\n",
       "      <td>1</td>\n",
       "    </tr>\n",
       "    <tr>\n",
       "      <th>2</th>\n",
       "      <td>9CD9F34546DF254C</td>\n",
       "      <td>2020-12-07 12:59:29</td>\n",
       "      <td>purchase</td>\n",
       "      <td>4.99</td>\n",
       "      <td>1</td>\n",
       "    </tr>\n",
       "    <tr>\n",
       "      <th>3</th>\n",
       "      <td>96F27A054B191457</td>\n",
       "      <td>2020-12-07 04:02:40</td>\n",
       "      <td>purchase</td>\n",
       "      <td>4.99</td>\n",
       "      <td>1</td>\n",
       "    </tr>\n",
       "    <tr>\n",
       "      <th>4</th>\n",
       "      <td>1FD7660FDF94CA1F</td>\n",
       "      <td>2020-12-07 10:15:09</td>\n",
       "      <td>purchase</td>\n",
       "      <td>4.99</td>\n",
       "      <td>1</td>\n",
       "    </tr>\n",
       "  </tbody>\n",
       "</table>\n",
       "</div>"
      ],
      "text/plain": [
       "            user_id            event_dt event_name  details  details_Nan\n",
       "0  E1BDDCE0DAFA2679 2020-12-07 20:22:03   purchase    99.99            1\n",
       "1  7B6452F081F49504 2020-12-07 09:22:53   purchase     9.99            1\n",
       "2  9CD9F34546DF254C 2020-12-07 12:59:29   purchase     4.99            1\n",
       "3  96F27A054B191457 2020-12-07 04:02:40   purchase     4.99            1\n",
       "4  1FD7660FDF94CA1F 2020-12-07 10:15:09   purchase     4.99            1"
      ]
     },
     "execution_count": 20,
     "metadata": {},
     "output_type": "execute_result"
    }
   ],
   "source": [
    "events['details_Nan'] = np.where(events['details'].isnull(), 0,1)\n",
    "events.head()"
   ]
  },
  {
   "cell_type": "code",
   "execution_count": 21,
   "id": "1ff52601",
   "metadata": {
    "colab": {
     "base_uri": "https://localhost:8080/"
    },
    "id": "1ff52601",
    "outputId": "c03362da-416d-47e4-90aa-25b88aa7d49b"
   },
   "outputs": [
    {
     "data": {
      "text/plain": [
       "details_Nan  event_name  \n",
       "0            login           0.502022\n",
       "             product_page    0.332549\n",
       "             product_cart    0.165429\n",
       "1            purchase        1.000000\n",
       "Name: event_name, dtype: float64"
      ]
     },
     "execution_count": 21,
     "metadata": {},
     "output_type": "execute_result"
    }
   ],
   "source": [
    "events.groupby(['details_Nan']) ['event_name'].value_counts(normalize=True)"
   ]
  },
  {
   "cell_type": "markdown",
   "id": "2f565a8a",
   "metadata": {
    "id": "2f565a8a"
   },
   "source": [
    "Возможные причины пропусков могут быть связаны с ошибкой при выгрузке данных. Если рассмотреть группировку, большое количество пропусков наблюдается в наименованиях событий, таких как login, product_page и product_cart. Это может свидетельствовать о том, что цены для этих событий просто не были внесены в данные. В любом случае, на данном этапе я оставлю эти пропуски без изменений, чтобы не тратить на их обработку время, поскольку столбец 'details' является дополнительной информацией и не оказывает значительного влияния на исследование."
   ]
  },
  {
   "cell_type": "markdown",
   "id": "acbdeb71",
   "metadata": {
    "id": "acbdeb71"
   },
   "source": [
    "Загрузили и просмотрели данные, проверили на дубликаты и убедились в их отсутствии. Исправили тип данных в столбцах 'start_dt' и 'finish_dt' датасета marketings, в 'first_date' датасета users, а также в 'event_dt' датасета events на тип datetime.\n",
    "\n",
    "Обнаружили пропуски в столбце 'details' датасета events. Решили пока не обрабатывать их, так как информация в этом столбце является дополнительной и не влияет на исследование."
   ]
  },
  {
   "cell_type": "markdown",
   "id": "be32dfa6",
   "metadata": {
    "id": "be32dfa6"
   },
   "source": [
    "# Оценка корректности проведения теста"
   ]
  },
  {
   "cell_type": "markdown",
   "id": "d49992ff",
   "metadata": {
    "id": "d49992ff"
   },
   "source": [
    "# Техническое задание\n",
    "\n",
    "- Название теста: `recommender_system_test`;\n",
    "- группы: А — контрольная, B — новая платёжная воронка;\n",
    "- дата запуска: 2020-12-07;\n",
    "- дата остановки набора новых пользователей: 2020-12-21;\n",
    "- дата остановки: 2021-01-04;\n",
    "- аудитория: 15% новых пользователей из региона EU;\n",
    "- назначение теста: тестирование изменений, связанных с внедрением улучшенной рекомендательной системы;\n",
    "- ожидаемое количество участников теста: 6000.\n",
    "- ожидаемый эффект: за 14 дней с момента регистрации пользователи покажут улучшение каждой метрики не менее, чем на 10%:\n",
    "    - конверсии в просмотр карточек товаров — событие `product_page`,\n",
    "    - просмотры корзины — `product_cart`,\n",
    "    - покупки — `purchase`."
   ]
  },
  {
   "cell_type": "code",
   "execution_count": 23,
   "id": "fa1ee3eb",
   "metadata": {
    "colab": {
     "base_uri": "https://localhost:8080/",
     "height": 206
    },
    "id": "fa1ee3eb",
    "outputId": "abf396a3-44da-4b45-a733-060603040ea2"
   },
   "outputs": [
    {
     "data": {
      "text/html": [
       "<div>\n",
       "<style scoped>\n",
       "    .dataframe tbody tr th:only-of-type {\n",
       "        vertical-align: middle;\n",
       "    }\n",
       "\n",
       "    .dataframe tbody tr th {\n",
       "        vertical-align: top;\n",
       "    }\n",
       "\n",
       "    .dataframe thead th {\n",
       "        text-align: right;\n",
       "    }\n",
       "</style>\n",
       "<table border=\"1\" class=\"dataframe\">\n",
       "  <thead>\n",
       "    <tr style=\"text-align: right;\">\n",
       "      <th></th>\n",
       "      <th></th>\n",
       "      <th>user_id</th>\n",
       "    </tr>\n",
       "    <tr>\n",
       "      <th>ab_test</th>\n",
       "      <th>group</th>\n",
       "      <th></th>\n",
       "    </tr>\n",
       "  </thead>\n",
       "  <tbody>\n",
       "    <tr>\n",
       "      <th rowspan=\"2\" valign=\"top\">interface_eu_test</th>\n",
       "      <th>A</th>\n",
       "      <td>5831</td>\n",
       "    </tr>\n",
       "    <tr>\n",
       "      <th>B</th>\n",
       "      <td>5736</td>\n",
       "    </tr>\n",
       "    <tr>\n",
       "      <th rowspan=\"2\" valign=\"top\">recommender_system_test</th>\n",
       "      <th>A</th>\n",
       "      <td>3824</td>\n",
       "    </tr>\n",
       "    <tr>\n",
       "      <th>B</th>\n",
       "      <td>2877</td>\n",
       "    </tr>\n",
       "  </tbody>\n",
       "</table>\n",
       "</div>"
      ],
      "text/plain": [
       "                               user_id\n",
       "ab_test                 group         \n",
       "interface_eu_test       A         5831\n",
       "                        B         5736\n",
       "recommender_system_test A         3824\n",
       "                        B         2877"
      ]
     },
     "execution_count": 23,
     "metadata": {},
     "output_type": "execute_result"
    }
   ],
   "source": [
    "total_data.groupby(['ab_test', 'group']).agg({'user_id': 'nunique'})"
   ]
  },
  {
   "cell_type": "code",
   "execution_count": 24,
   "id": "AzQfIKrQ0odL",
   "metadata": {
    "colab": {
     "base_uri": "https://localhost:8080/"
    },
    "id": "AzQfIKrQ0odL",
    "outputId": "5bd6415e-2476-4a6d-876b-fcf0226284e1"
   },
   "outputs": [
    {
     "name": "stdout",
     "output_type": "stream",
     "text": [
      "Дата запуска теста: 2020-12-07 00:00:00\n",
      "Дата остановки набора новых пользователей на тест: 2020-12-21 00:00:00\n",
      "Дата остановки теста: 2020-12-30 12:42:57\n",
      "\n",
      "Количество участников теста: 6701\n",
      "\n",
      "Доля новых пользователей из региона EU: 15.0\n",
      "\n",
      "Группы участников теста \"recommender_system_test\":\n",
      "A    20381\n",
      "B     7343\n",
      "Name: group, dtype: int64\n"
     ]
    }
   ],
   "source": [
    "# Объединение данных\n",
    "total_data = participants.merge(users, on='user_id')\n",
    "total_data = total_data.merge(events, on='user_id', how='left')\n",
    "\n",
    "# Отбираем данные для теста \"recommender_system_test\"\n",
    "rst = total_data[total_data['ab_test'] == 'recommender_system_test']\n",
    "\n",
    "# Сохраняем даты проведения теста\n",
    "test_start_date = pd.Timestamp('2020-12-07')\n",
    "test_users_end_date = pd.Timestamp('2020-12-21')\n",
    "test_end_date = pd.Timestamp('2021-01-04')\n",
    "\n",
    "# Фильтруем пользователей, зарегистрировавшихся во время проведения теста\n",
    "rst = rst[(rst['first_date'] >= test_start_date) & (rst['first_date'] <= test_users_end_date)]\n",
    "\n",
    "print(f'Дата запуска теста: {rst[\"first_date\"].min()}')\n",
    "print(f'Дата остановки набора новых пользователей на тест: {rst[\"first_date\"].max()}')\n",
    "print(f'Дата остановки теста: {rst[\"event_dt\"].max()}')\n",
    "print()\n",
    "\n",
    "# Рассчитываем количество участников теста\n",
    "region_user = rst.groupby('region')['user_id'].nunique().reset_index()\n",
    "print('Количество участников теста:', region_user['user_id'].sum())\n",
    "print()\n",
    "\n",
    "# Рассчитываем долю новых пользователей из региона EU\n",
    "mean_eu = users[(users['first_date'] >= test_start_date) & (users['first_date'] <= test_users_end_date)].groupby('region')['user_id'].nunique().reset_index()\n",
    "print('Доля новых пользователей из региона EU:', round((region_user.loc[2, 'user_id'] / mean_eu.loc[2, 'user_id'] * 100), 2))\n",
    "print()\n",
    "\n",
    "# Проверяем наличие обеих групп в тесте\n",
    "print('Группы участников теста \"recommender_system_test\":')\n",
    "print(rst['group'].value_counts())"
   ]
  },
  {
   "cell_type": "markdown",
   "id": "92465078",
   "metadata": {
    "id": "92465078"
   },
   "source": [
    "\n",
    "\n",
    "Краткий вывод:  \n",
    "Был проведен краткий анализ данных с целью проверки соответствия ТЗ. В ходе анализа были выявлены следующие результаты:\n",
    "\n",
    "- Название теста \"recommender_system_test\" соответствует ТЗ.\n",
    "- Наличие двух групп A и B соответствует ТЗ.\n",
    "- Дата запуска теста: 2020-12-07 00:00:00 соответствует ТЗ.\n",
    "- Дата остановки набора пользователей для теста: 2020-12-21 00:00:00  соответствует ТЗ.\n",
    "- Дата окончания теста: 2020-12-30 12:42:57 не соответствует ТЗ, поскольку тест завершился на 5 дней раньше.\n",
    "- Доля новых пользователей из региона EU составляет 15%,  соответствует ТЗ.\n",
    "- Общее количество участников теста равно 6701, что соответсвует требования ТЗ."
   ]
  },
  {
   "cell_type": "markdown",
   "id": "449635d7",
   "metadata": {
    "id": "449635d7"
   },
   "source": [
    "##### Посмотрим на время теста и проверим не совпадает ли оно с другими маркетинговыми мероприятиями"
   ]
  },
  {
   "cell_type": "code",
   "execution_count": 25,
   "id": "b0fcf67c",
   "metadata": {
    "colab": {
     "base_uri": "https://localhost:8080/"
    },
    "id": "b0fcf67c",
    "outputId": "6a7d28dd-6985-41f6-8885-cadb95d924c2"
   },
   "outputs": [
    {
     "name": "stdout",
     "output_type": "stream",
     "text": [
      "<class 'pandas.core.frame.DataFrame'>\n",
      "Int64Index: 27724 entries, 0 to 34332\n",
      "Data columns (total 10 columns):\n",
      " #   Column       Non-Null Count  Dtype         \n",
      "---  ------       --------------  -----         \n",
      " 0   user_id      27724 non-null  object        \n",
      " 1   group        27724 non-null  object        \n",
      " 2   ab_test      27724 non-null  object        \n",
      " 3   first_date   27724 non-null  datetime64[ns]\n",
      " 4   region       27724 non-null  object        \n",
      " 5   device       27724 non-null  object        \n",
      " 6   event_dt     24698 non-null  datetime64[ns]\n",
      " 7   event_name   24698 non-null  object        \n",
      " 8   details      3331 non-null   float64       \n",
      " 9   details_Nan  24698 non-null  float64       \n",
      "dtypes: datetime64[ns](2), float64(2), object(6)\n",
      "memory usage: 2.3+ MB\n"
     ]
    }
   ],
   "source": [
    "rst.info()"
   ]
  },
  {
   "cell_type": "code",
   "execution_count": 26,
   "id": "d30de2cb",
   "metadata": {
    "colab": {
     "base_uri": "https://localhost:8080/"
    },
    "id": "d30de2cb",
    "outputId": "5ae7a432-d5a6-48c7-d40c-7c406d3dad1b"
   },
   "outputs": [
    {
     "name": "stdout",
     "output_type": "stream",
     "text": [
      "<class 'pandas.core.frame.DataFrame'>\n",
      "RangeIndex: 14 entries, 0 to 13\n",
      "Data columns (total 4 columns):\n",
      " #   Column     Non-Null Count  Dtype         \n",
      "---  ------     --------------  -----         \n",
      " 0   name       14 non-null     object        \n",
      " 1   regions    14 non-null     object        \n",
      " 2   start_dt   14 non-null     datetime64[ns]\n",
      " 3   finish_dt  14 non-null     datetime64[ns]\n",
      "dtypes: datetime64[ns](2), object(2)\n",
      "memory usage: 576.0+ bytes\n"
     ]
    }
   ],
   "source": [
    "marketings.info()"
   ]
  },
  {
   "cell_type": "code",
   "execution_count": 27,
   "id": "fae818b2",
   "metadata": {
    "colab": {
     "base_uri": "https://localhost:8080/",
     "height": 112
    },
    "id": "fae818b2",
    "outputId": "a7f899b8-fd34-4130-c3ee-b16431cf6b8d"
   },
   "outputs": [
    {
     "data": {
      "text/html": [
       "<div>\n",
       "<style scoped>\n",
       "    .dataframe tbody tr th:only-of-type {\n",
       "        vertical-align: middle;\n",
       "    }\n",
       "\n",
       "    .dataframe tbody tr th {\n",
       "        vertical-align: top;\n",
       "    }\n",
       "\n",
       "    .dataframe thead th {\n",
       "        text-align: right;\n",
       "    }\n",
       "</style>\n",
       "<table border=\"1\" class=\"dataframe\">\n",
       "  <thead>\n",
       "    <tr style=\"text-align: right;\">\n",
       "      <th></th>\n",
       "      <th>name</th>\n",
       "      <th>regions</th>\n",
       "      <th>start_dt</th>\n",
       "      <th>finish_dt</th>\n",
       "    </tr>\n",
       "  </thead>\n",
       "  <tbody>\n",
       "    <tr>\n",
       "      <th>0</th>\n",
       "      <td>Christmas&amp;New Year Promo</td>\n",
       "      <td>EU, N.America</td>\n",
       "      <td>2020-12-25</td>\n",
       "      <td>2021-01-03</td>\n",
       "    </tr>\n",
       "    <tr>\n",
       "      <th>10</th>\n",
       "      <td>CIS New Year Gift Lottery</td>\n",
       "      <td>CIS</td>\n",
       "      <td>2020-12-30</td>\n",
       "      <td>2021-01-07</td>\n",
       "    </tr>\n",
       "  </tbody>\n",
       "</table>\n",
       "</div>"
      ],
      "text/plain": [
       "                         name        regions   start_dt  finish_dt\n",
       "0    Christmas&New Year Promo  EU, N.America 2020-12-25 2021-01-03\n",
       "10  CIS New Year Gift Lottery            CIS 2020-12-30 2021-01-07"
      ]
     },
     "metadata": {},
     "output_type": "display_data"
    }
   ],
   "source": [
    "start_event = rst['event_dt'].min()\n",
    "finish_event = rst['event_dt'].max()\n",
    "\n",
    "display(marketings[(marketings['start_dt'] >= start_event) & (marketings['finish_dt'] >= finish_event)])"
   ]
  },
  {
   "cell_type": "code",
   "execution_count": 28,
   "id": "f4916684",
   "metadata": {
    "colab": {
     "base_uri": "https://localhost:8080/",
     "height": 489
    },
    "id": "f4916684",
    "outputId": "53ba547f-f26e-48c1-84af-3f2288f0afe2"
   },
   "outputs": [
    {
     "data": {
      "text/html": [
       "<div>\n",
       "<style scoped>\n",
       "    .dataframe tbody tr th:only-of-type {\n",
       "        vertical-align: middle;\n",
       "    }\n",
       "\n",
       "    .dataframe tbody tr th {\n",
       "        vertical-align: top;\n",
       "    }\n",
       "\n",
       "    .dataframe thead th {\n",
       "        text-align: right;\n",
       "    }\n",
       "</style>\n",
       "<table border=\"1\" class=\"dataframe\">\n",
       "  <thead>\n",
       "    <tr style=\"text-align: right;\">\n",
       "      <th></th>\n",
       "      <th>name</th>\n",
       "      <th>regions</th>\n",
       "      <th>start_dt</th>\n",
       "      <th>finish_dt</th>\n",
       "    </tr>\n",
       "  </thead>\n",
       "  <tbody>\n",
       "    <tr>\n",
       "      <th>10</th>\n",
       "      <td>CIS New Year Gift Lottery</td>\n",
       "      <td>CIS</td>\n",
       "      <td>2020-12-30</td>\n",
       "      <td>2021-01-07</td>\n",
       "    </tr>\n",
       "    <tr>\n",
       "      <th>0</th>\n",
       "      <td>Christmas&amp;New Year Promo</td>\n",
       "      <td>EU, N.America</td>\n",
       "      <td>2020-12-25</td>\n",
       "      <td>2021-01-03</td>\n",
       "    </tr>\n",
       "    <tr>\n",
       "      <th>5</th>\n",
       "      <td>Black Friday Ads Campaign</td>\n",
       "      <td>EU, CIS, APAC, N.America</td>\n",
       "      <td>2020-11-26</td>\n",
       "      <td>2020-12-01</td>\n",
       "    </tr>\n",
       "    <tr>\n",
       "      <th>12</th>\n",
       "      <td>Single's Day Gift Promo</td>\n",
       "      <td>APAC</td>\n",
       "      <td>2020-11-11</td>\n",
       "      <td>2020-11-12</td>\n",
       "    </tr>\n",
       "    <tr>\n",
       "      <th>13</th>\n",
       "      <td>Chinese Moon Festival</td>\n",
       "      <td>APAC</td>\n",
       "      <td>2020-10-01</td>\n",
       "      <td>2020-10-07</td>\n",
       "    </tr>\n",
       "    <tr>\n",
       "      <th>4</th>\n",
       "      <td>4th of July Promo</td>\n",
       "      <td>N.America</td>\n",
       "      <td>2020-07-04</td>\n",
       "      <td>2020-07-11</td>\n",
       "    </tr>\n",
       "    <tr>\n",
       "      <th>11</th>\n",
       "      <td>Dragon Boat Festival Giveaway</td>\n",
       "      <td>APAC</td>\n",
       "      <td>2020-06-25</td>\n",
       "      <td>2020-07-01</td>\n",
       "    </tr>\n",
       "    <tr>\n",
       "      <th>9</th>\n",
       "      <td>Victory Day CIS (May 9th) Event</td>\n",
       "      <td>CIS</td>\n",
       "      <td>2020-05-09</td>\n",
       "      <td>2020-05-11</td>\n",
       "    </tr>\n",
       "    <tr>\n",
       "      <th>7</th>\n",
       "      <td>Labor day (May 1st) Ads Campaign</td>\n",
       "      <td>EU, CIS, APAC</td>\n",
       "      <td>2020-05-01</td>\n",
       "      <td>2020-05-03</td>\n",
       "    </tr>\n",
       "    <tr>\n",
       "      <th>3</th>\n",
       "      <td>Easter Promo</td>\n",
       "      <td>EU, CIS, APAC, N.America</td>\n",
       "      <td>2020-04-12</td>\n",
       "      <td>2020-04-19</td>\n",
       "    </tr>\n",
       "    <tr>\n",
       "      <th>2</th>\n",
       "      <td>St. Patric's Day Promo</td>\n",
       "      <td>EU, N.America</td>\n",
       "      <td>2020-03-17</td>\n",
       "      <td>2020-03-19</td>\n",
       "    </tr>\n",
       "    <tr>\n",
       "      <th>8</th>\n",
       "      <td>International Women's Day Promo</td>\n",
       "      <td>EU, CIS, APAC</td>\n",
       "      <td>2020-03-08</td>\n",
       "      <td>2020-03-10</td>\n",
       "    </tr>\n",
       "    <tr>\n",
       "      <th>1</th>\n",
       "      <td>St. Valentine's Day Giveaway</td>\n",
       "      <td>EU, CIS, APAC, N.America</td>\n",
       "      <td>2020-02-14</td>\n",
       "      <td>2020-02-16</td>\n",
       "    </tr>\n",
       "    <tr>\n",
       "      <th>6</th>\n",
       "      <td>Chinese New Year Promo</td>\n",
       "      <td>APAC</td>\n",
       "      <td>2020-01-25</td>\n",
       "      <td>2020-02-07</td>\n",
       "    </tr>\n",
       "  </tbody>\n",
       "</table>\n",
       "</div>"
      ],
      "text/plain": [
       "                                name                   regions   start_dt  \\\n",
       "10         CIS New Year Gift Lottery                       CIS 2020-12-30   \n",
       "0           Christmas&New Year Promo             EU, N.America 2020-12-25   \n",
       "5          Black Friday Ads Campaign  EU, CIS, APAC, N.America 2020-11-26   \n",
       "12           Single's Day Gift Promo                      APAC 2020-11-11   \n",
       "13             Chinese Moon Festival                      APAC 2020-10-01   \n",
       "4                  4th of July Promo                 N.America 2020-07-04   \n",
       "11     Dragon Boat Festival Giveaway                      APAC 2020-06-25   \n",
       "9    Victory Day CIS (May 9th) Event                       CIS 2020-05-09   \n",
       "7   Labor day (May 1st) Ads Campaign             EU, CIS, APAC 2020-05-01   \n",
       "3                       Easter Promo  EU, CIS, APAC, N.America 2020-04-12   \n",
       "2             St. Patric's Day Promo             EU, N.America 2020-03-17   \n",
       "8    International Women's Day Promo             EU, CIS, APAC 2020-03-08   \n",
       "1       St. Valentine's Day Giveaway  EU, CIS, APAC, N.America 2020-02-14   \n",
       "6             Chinese New Year Promo                      APAC 2020-01-25   \n",
       "\n",
       "    finish_dt  \n",
       "10 2021-01-07  \n",
       "0  2021-01-03  \n",
       "5  2020-12-01  \n",
       "12 2020-11-12  \n",
       "13 2020-10-07  \n",
       "4  2020-07-11  \n",
       "11 2020-07-01  \n",
       "9  2020-05-11  \n",
       "7  2020-05-03  \n",
       "3  2020-04-19  \n",
       "2  2020-03-19  \n",
       "8  2020-03-10  \n",
       "1  2020-02-16  \n",
       "6  2020-02-07  "
      ]
     },
     "execution_count": 28,
     "metadata": {},
     "output_type": "execute_result"
    }
   ],
   "source": [
    "market_query = marketings[marketings['finish_dt'] <= datetime(2021, 1, 7)].sort_values(by='finish_dt', ascending=False)\n",
    "market_query"
   ]
  },
  {
   "cell_type": "markdown",
   "id": "71c3f28c",
   "metadata": {
    "id": "71c3f28c"
   },
   "source": [
    "- В период с 25 декабря 2020 по 3 января 2021 в регионах EU и N.America отмечаются Рождество и Новый год.\n",
    "- С 30 декабря 2020 по 7 января 2021 в регионе CIS происходит новогодняя лотерея.\n",
    "- Кроме того, во всех указанных регионах (EU, CIS, APAC, N.America) с 26 ноября 2020 по 1 декабря 2020 проходил мероприятие \"Черная пятница\" (распродажи).\n",
    "\n",
    "Учитывая, что тест должен был проходить согласно ТЗ с 7 декабря 2020 по 4 января 2021 (хотя фактически он был остановлен 30 декабря 2020), и маркетинговая кампания могла начаться даже до 7 декабря 2020, результаты теста могли быть искажены из-за влияния распродаж в рамках \"Черной пятницы\"."
   ]
  },
  {
   "cell_type": "code",
   "execution_count": 29,
   "id": "61585150",
   "metadata": {
    "colab": {
     "base_uri": "https://localhost:8080/",
     "height": 112
    },
    "id": "61585150",
    "outputId": "c53e0ba4-449a-4eee-c2de-c21521069c58"
   },
   "outputs": [
    {
     "data": {
      "text/html": [
       "<div>\n",
       "<style scoped>\n",
       "    .dataframe tbody tr th:only-of-type {\n",
       "        vertical-align: middle;\n",
       "    }\n",
       "\n",
       "    .dataframe tbody tr th {\n",
       "        vertical-align: top;\n",
       "    }\n",
       "\n",
       "    .dataframe thead th {\n",
       "        text-align: right;\n",
       "    }\n",
       "</style>\n",
       "<table border=\"1\" class=\"dataframe\">\n",
       "  <thead>\n",
       "    <tr style=\"text-align: right;\">\n",
       "      <th></th>\n",
       "      <th>name</th>\n",
       "      <th>regions</th>\n",
       "      <th>start_dt</th>\n",
       "      <th>finish_dt</th>\n",
       "    </tr>\n",
       "  </thead>\n",
       "  <tbody>\n",
       "    <tr>\n",
       "      <th>0</th>\n",
       "      <td>Christmas&amp;New Year Promo</td>\n",
       "      <td>EU, N.America</td>\n",
       "      <td>2020-12-25</td>\n",
       "      <td>2021-01-03</td>\n",
       "    </tr>\n",
       "    <tr>\n",
       "      <th>10</th>\n",
       "      <td>CIS New Year Gift Lottery</td>\n",
       "      <td>CIS</td>\n",
       "      <td>2020-12-30</td>\n",
       "      <td>2021-01-07</td>\n",
       "    </tr>\n",
       "  </tbody>\n",
       "</table>\n",
       "</div>"
      ],
      "text/plain": [
       "                         name        regions   start_dt  finish_dt\n",
       "0    Christmas&New Year Promo  EU, N.America 2020-12-25 2021-01-03\n",
       "10  CIS New Year Gift Lottery            CIS 2020-12-30 2021-01-07"
      ]
     },
     "execution_count": 29,
     "metadata": {},
     "output_type": "execute_result"
    }
   ],
   "source": [
    "marketings.query('finish_dt >= \"2020-12-07\" and start_dt <=\"2021-01-04\"')"
   ]
  },
  {
   "cell_type": "markdown",
   "id": "1dcdc723",
   "metadata": {
    "id": "1dcdc723"
   },
   "source": [
    "##### Посмотрим на возможность пересечений с другим тестом и на пользователей возможно участвующих в двух тестах одновременно"
   ]
  },
  {
   "cell_type": "code",
   "execution_count": 30,
   "id": "91303b8e",
   "metadata": {
    "colab": {
     "base_uri": "https://localhost:8080/",
     "height": 259
    },
    "id": "91303b8e",
    "outputId": "48dbb91a-a24e-4750-8d42-09562e934fe7"
   },
   "outputs": [
    {
     "data": {
      "text/html": [
       "<div>\n",
       "<style scoped>\n",
       "    .dataframe tbody tr th:only-of-type {\n",
       "        vertical-align: middle;\n",
       "    }\n",
       "\n",
       "    .dataframe tbody tr th {\n",
       "        vertical-align: top;\n",
       "    }\n",
       "\n",
       "    .dataframe thead th {\n",
       "        text-align: right;\n",
       "    }\n",
       "</style>\n",
       "<table border=\"1\" class=\"dataframe\">\n",
       "  <thead>\n",
       "    <tr style=\"text-align: right;\">\n",
       "      <th></th>\n",
       "      <th>user_id</th>\n",
       "      <th>group</th>\n",
       "      <th>ab_test</th>\n",
       "      <th>first_date</th>\n",
       "      <th>region</th>\n",
       "      <th>device</th>\n",
       "      <th>event_dt</th>\n",
       "      <th>event_name</th>\n",
       "      <th>details</th>\n",
       "      <th>details_Nan</th>\n",
       "    </tr>\n",
       "  </thead>\n",
       "  <tbody>\n",
       "    <tr>\n",
       "      <th>17</th>\n",
       "      <td>DABC14FDDFADD29E</td>\n",
       "      <td>A</td>\n",
       "      <td>interface_eu_test</td>\n",
       "      <td>2020-12-08</td>\n",
       "      <td>EU</td>\n",
       "      <td>Mac</td>\n",
       "      <td>2020-12-08 11:30:58</td>\n",
       "      <td>login</td>\n",
       "      <td>NaN</td>\n",
       "      <td>0.0</td>\n",
       "    </tr>\n",
       "    <tr>\n",
       "      <th>18</th>\n",
       "      <td>DABC14FDDFADD29E</td>\n",
       "      <td>A</td>\n",
       "      <td>interface_eu_test</td>\n",
       "      <td>2020-12-08</td>\n",
       "      <td>EU</td>\n",
       "      <td>Mac</td>\n",
       "      <td>2020-12-11 12:52:32</td>\n",
       "      <td>login</td>\n",
       "      <td>NaN</td>\n",
       "      <td>0.0</td>\n",
       "    </tr>\n",
       "    <tr>\n",
       "      <th>19</th>\n",
       "      <td>DABC14FDDFADD29E</td>\n",
       "      <td>A</td>\n",
       "      <td>interface_eu_test</td>\n",
       "      <td>2020-12-08</td>\n",
       "      <td>EU</td>\n",
       "      <td>Mac</td>\n",
       "      <td>2020-12-18 11:10:45</td>\n",
       "      <td>login</td>\n",
       "      <td>NaN</td>\n",
       "      <td>0.0</td>\n",
       "    </tr>\n",
       "    <tr>\n",
       "      <th>35</th>\n",
       "      <td>04988C5DF189632E</td>\n",
       "      <td>A</td>\n",
       "      <td>interface_eu_test</td>\n",
       "      <td>2020-12-14</td>\n",
       "      <td>EU</td>\n",
       "      <td>iPhone</td>\n",
       "      <td>2020-12-14 18:51:34</td>\n",
       "      <td>purchase</td>\n",
       "      <td>4.99</td>\n",
       "      <td>1.0</td>\n",
       "    </tr>\n",
       "    <tr>\n",
       "      <th>36</th>\n",
       "      <td>04988C5DF189632E</td>\n",
       "      <td>A</td>\n",
       "      <td>interface_eu_test</td>\n",
       "      <td>2020-12-14</td>\n",
       "      <td>EU</td>\n",
       "      <td>iPhone</td>\n",
       "      <td>2020-12-15 02:39:20</td>\n",
       "      <td>purchase</td>\n",
       "      <td>4.99</td>\n",
       "      <td>1.0</td>\n",
       "    </tr>\n",
       "  </tbody>\n",
       "</table>\n",
       "</div>"
      ],
      "text/plain": [
       "             user_id group            ab_test first_date region  device  \\\n",
       "17  DABC14FDDFADD29E     A  interface_eu_test 2020-12-08     EU     Mac   \n",
       "18  DABC14FDDFADD29E     A  interface_eu_test 2020-12-08     EU     Mac   \n",
       "19  DABC14FDDFADD29E     A  interface_eu_test 2020-12-08     EU     Mac   \n",
       "35  04988C5DF189632E     A  interface_eu_test 2020-12-14     EU  iPhone   \n",
       "36  04988C5DF189632E     A  interface_eu_test 2020-12-14     EU  iPhone   \n",
       "\n",
       "              event_dt event_name  details  details_Nan  \n",
       "17 2020-12-08 11:30:58      login      NaN          0.0  \n",
       "18 2020-12-11 12:52:32      login      NaN          0.0  \n",
       "19 2020-12-18 11:10:45      login      NaN          0.0  \n",
       "35 2020-12-14 18:51:34   purchase     4.99          1.0  \n",
       "36 2020-12-15 02:39:20   purchase     4.99          1.0  "
      ]
     },
     "metadata": {},
     "output_type": "display_data"
    },
    {
     "name": "stdout",
     "output_type": "stream",
     "text": [
      "Дата запуска теста: 2020-12-07 00:00:00\n",
      "Дата остаковки набора пользователей на тест: 2020-12-23 00:00:00\n",
      "Дата остановки теста: 2020-12-30 18:28:55\n"
     ]
    }
   ],
   "source": [
    "# смотрим информацию по другому тесту :\n",
    "iet = total_data[total_data['ab_test'] == 'interface_eu_test']\n",
    "display(iet.head())\n",
    "print(f'Дата запуска теста: {iet[\"first_date\"].min()}')\n",
    "print(f'Дата остаковки набора пользователей на тест: {iet[\"first_date\"].max()}')\n",
    "print(f'Дата остановки теста: {iet[\"event_dt\"].max()}')"
   ]
  },
  {
   "cell_type": "code",
   "execution_count": 31,
   "id": "32640baa",
   "metadata": {
    "colab": {
     "base_uri": "https://localhost:8080/",
     "height": 424
    },
    "id": "32640baa",
    "outputId": "f2c0708c-dd7b-488b-a492-2772fdc957c0"
   },
   "outputs": [
    {
     "data": {
      "text/html": [
       "<div>\n",
       "<style scoped>\n",
       "    .dataframe tbody tr th:only-of-type {\n",
       "        vertical-align: middle;\n",
       "    }\n",
       "\n",
       "    .dataframe tbody tr th {\n",
       "        vertical-align: top;\n",
       "    }\n",
       "\n",
       "    .dataframe thead th {\n",
       "        text-align: right;\n",
       "    }\n",
       "</style>\n",
       "<table border=\"1\" class=\"dataframe\">\n",
       "  <thead>\n",
       "    <tr style=\"text-align: right;\">\n",
       "      <th></th>\n",
       "      <th>user_id</th>\n",
       "      <th>group</th>\n",
       "      <th>ab_test</th>\n",
       "      <th>first_date</th>\n",
       "      <th>region</th>\n",
       "      <th>device</th>\n",
       "      <th>event_dt</th>\n",
       "      <th>event_name</th>\n",
       "      <th>details</th>\n",
       "      <th>details_Nan</th>\n",
       "    </tr>\n",
       "  </thead>\n",
       "  <tbody>\n",
       "    <tr>\n",
       "      <th>0</th>\n",
       "      <td>0002CE61FF2C4011</td>\n",
       "      <td>1</td>\n",
       "      <td>1</td>\n",
       "      <td>1</td>\n",
       "      <td>1</td>\n",
       "      <td>1</td>\n",
       "      <td>10</td>\n",
       "      <td>3</td>\n",
       "      <td>0</td>\n",
       "      <td>1</td>\n",
       "    </tr>\n",
       "    <tr>\n",
       "      <th>1</th>\n",
       "      <td>000ABE35EE11412F</td>\n",
       "      <td>1</td>\n",
       "      <td>1</td>\n",
       "      <td>1</td>\n",
       "      <td>1</td>\n",
       "      <td>1</td>\n",
       "      <td>0</td>\n",
       "      <td>0</td>\n",
       "      <td>0</td>\n",
       "      <td>0</td>\n",
       "    </tr>\n",
       "    <tr>\n",
       "      <th>2</th>\n",
       "      <td>001064FEAAB631A1</td>\n",
       "      <td>1</td>\n",
       "      <td>2</td>\n",
       "      <td>1</td>\n",
       "      <td>1</td>\n",
       "      <td>1</td>\n",
       "      <td>6</td>\n",
       "      <td>2</td>\n",
       "      <td>0</td>\n",
       "      <td>1</td>\n",
       "    </tr>\n",
       "    <tr>\n",
       "      <th>3</th>\n",
       "      <td>0010A1C096941592</td>\n",
       "      <td>1</td>\n",
       "      <td>1</td>\n",
       "      <td>1</td>\n",
       "      <td>1</td>\n",
       "      <td>1</td>\n",
       "      <td>7</td>\n",
       "      <td>3</td>\n",
       "      <td>2</td>\n",
       "      <td>2</td>\n",
       "    </tr>\n",
       "    <tr>\n",
       "      <th>4</th>\n",
       "      <td>001C05E87D336C59</td>\n",
       "      <td>1</td>\n",
       "      <td>1</td>\n",
       "      <td>1</td>\n",
       "      <td>1</td>\n",
       "      <td>1</td>\n",
       "      <td>0</td>\n",
       "      <td>0</td>\n",
       "      <td>0</td>\n",
       "      <td>0</td>\n",
       "    </tr>\n",
       "    <tr>\n",
       "      <th>...</th>\n",
       "      <td>...</td>\n",
       "      <td>...</td>\n",
       "      <td>...</td>\n",
       "      <td>...</td>\n",
       "      <td>...</td>\n",
       "      <td>...</td>\n",
       "      <td>...</td>\n",
       "      <td>...</td>\n",
       "      <td>...</td>\n",
       "      <td>...</td>\n",
       "    </tr>\n",
       "    <tr>\n",
       "      <th>16661</th>\n",
       "      <td>FFE858A7845F005E</td>\n",
       "      <td>1</td>\n",
       "      <td>1</td>\n",
       "      <td>1</td>\n",
       "      <td>1</td>\n",
       "      <td>1</td>\n",
       "      <td>0</td>\n",
       "      <td>0</td>\n",
       "      <td>0</td>\n",
       "      <td>0</td>\n",
       "    </tr>\n",
       "    <tr>\n",
       "      <th>16662</th>\n",
       "      <td>FFED90241D04503F</td>\n",
       "      <td>1</td>\n",
       "      <td>2</td>\n",
       "      <td>1</td>\n",
       "      <td>1</td>\n",
       "      <td>1</td>\n",
       "      <td>0</td>\n",
       "      <td>0</td>\n",
       "      <td>0</td>\n",
       "      <td>0</td>\n",
       "    </tr>\n",
       "    <tr>\n",
       "      <th>16663</th>\n",
       "      <td>FFEFC0E55C1CCD4F</td>\n",
       "      <td>1</td>\n",
       "      <td>1</td>\n",
       "      <td>1</td>\n",
       "      <td>1</td>\n",
       "      <td>1</td>\n",
       "      <td>4</td>\n",
       "      <td>1</td>\n",
       "      <td>0</td>\n",
       "      <td>1</td>\n",
       "    </tr>\n",
       "    <tr>\n",
       "      <th>16664</th>\n",
       "      <td>FFF28D02B1EACBE1</td>\n",
       "      <td>2</td>\n",
       "      <td>2</td>\n",
       "      <td>1</td>\n",
       "      <td>1</td>\n",
       "      <td>1</td>\n",
       "      <td>6</td>\n",
       "      <td>3</td>\n",
       "      <td>0</td>\n",
       "      <td>1</td>\n",
       "    </tr>\n",
       "    <tr>\n",
       "      <th>16665</th>\n",
       "      <td>FFF58BC33966EB51</td>\n",
       "      <td>1</td>\n",
       "      <td>1</td>\n",
       "      <td>1</td>\n",
       "      <td>1</td>\n",
       "      <td>1</td>\n",
       "      <td>3</td>\n",
       "      <td>1</td>\n",
       "      <td>0</td>\n",
       "      <td>1</td>\n",
       "    </tr>\n",
       "  </tbody>\n",
       "</table>\n",
       "<p>16666 rows × 10 columns</p>\n",
       "</div>"
      ],
      "text/plain": [
       "                user_id  group  ab_test  first_date  region  device  event_dt  \\\n",
       "0      0002CE61FF2C4011      1        1           1       1       1        10   \n",
       "1      000ABE35EE11412F      1        1           1       1       1         0   \n",
       "2      001064FEAAB631A1      1        2           1       1       1         6   \n",
       "3      0010A1C096941592      1        1           1       1       1         7   \n",
       "4      001C05E87D336C59      1        1           1       1       1         0   \n",
       "...                 ...    ...      ...         ...     ...     ...       ...   \n",
       "16661  FFE858A7845F005E      1        1           1       1       1         0   \n",
       "16662  FFED90241D04503F      1        2           1       1       1         0   \n",
       "16663  FFEFC0E55C1CCD4F      1        1           1       1       1         4   \n",
       "16664  FFF28D02B1EACBE1      2        2           1       1       1         6   \n",
       "16665  FFF58BC33966EB51      1        1           1       1       1         3   \n",
       "\n",
       "       event_name  details  details_Nan  \n",
       "0               3        0            1  \n",
       "1               0        0            0  \n",
       "2               2        0            1  \n",
       "3               3        2            2  \n",
       "4               0        0            0  \n",
       "...           ...      ...          ...  \n",
       "16661           0        0            0  \n",
       "16662           0        0            0  \n",
       "16663           1        0            1  \n",
       "16664           3        0            1  \n",
       "16665           1        0            1  \n",
       "\n",
       "[16666 rows x 10 columns]"
      ]
     },
     "execution_count": 31,
     "metadata": {},
     "output_type": "execute_result"
    }
   ],
   "source": [
    "users_group = total_data.groupby('user_id').nunique().reset_index()\n",
    "users_group"
   ]
  },
  {
   "cell_type": "code",
   "execution_count": 32,
   "id": "b503e11f",
   "metadata": {
    "colab": {
     "base_uri": "https://localhost:8080/"
    },
    "id": "b503e11f",
    "outputId": "268ecb29-fbe4-475c-f751-bc06e4508d95"
   },
   "outputs": [
    {
     "name": "stdout",
     "output_type": "stream",
     "text": [
      "1602\n"
     ]
    }
   ],
   "source": [
    "count = 0\n",
    "for user in users_group['ab_test']:\n",
    "    if user > 1:\n",
    "        count += 1\n",
    "print(count)"
   ]
  },
  {
   "cell_type": "code",
   "execution_count": 34,
   "id": "oSYWyPyX7fL0",
   "metadata": {
    "colab": {
     "base_uri": "https://localhost:8080/"
    },
    "id": "oSYWyPyX7fL0",
    "outputId": "f342af5d-3ee3-493f-d906-47352c3de696"
   },
   "outputs": [
    {
     "data": {
      "text/plain": [
       "23.91"
      ]
     },
     "execution_count": 34,
     "metadata": {},
     "output_type": "execute_result"
    }
   ],
   "source": [
    "mean_user = round((count / region_user['user_id'].sum() *100), 2)\n",
    "mean_user"
   ]
  },
  {
   "cell_type": "markdown",
   "id": "038eb967",
   "metadata": {
    "id": "038eb967"
   },
   "source": [
    "##### Краткий вывод:\n",
    "Тест с названием \"interface_eu_test\" проводился параллельно с нашим тестом (\"recommender_system_test\") в период с 7 декабря 2020 по 30 декабря 2020. В результате было обнаружено пересечение в числе 1602 пользователей, которые участвовали одновременно в обоих тестах, что является 23.91% от нашего теста"
   ]
  },
  {
   "cell_type": "markdown",
   "id": "263b9a28",
   "metadata": {
    "id": "263b9a28"
   },
   "source": [
    "##### Теперь рассмотрим на равномерность распределения пользователей и правильность формирования"
   ]
  },
  {
   "cell_type": "code",
   "execution_count": 35,
   "id": "aa1987af",
   "metadata": {
    "colab": {
     "base_uri": "https://localhost:8080/",
     "height": 424
    },
    "id": "aa1987af",
    "outputId": "1c7e9c16-aa54-485f-f8ef-eced07c694f6"
   },
   "outputs": [
    {
     "data": {
      "text/html": [
       "<div>\n",
       "<style scoped>\n",
       "    .dataframe tbody tr th:only-of-type {\n",
       "        vertical-align: middle;\n",
       "    }\n",
       "\n",
       "    .dataframe tbody tr th {\n",
       "        vertical-align: top;\n",
       "    }\n",
       "\n",
       "    .dataframe thead th {\n",
       "        text-align: right;\n",
       "    }\n",
       "</style>\n",
       "<table border=\"1\" class=\"dataframe\">\n",
       "  <thead>\n",
       "    <tr style=\"text-align: right;\">\n",
       "      <th></th>\n",
       "      <th>user_id</th>\n",
       "      <th>group</th>\n",
       "      <th>ab_test</th>\n",
       "      <th>first_date</th>\n",
       "      <th>region</th>\n",
       "      <th>device</th>\n",
       "      <th>event_dt</th>\n",
       "      <th>event_name</th>\n",
       "      <th>details</th>\n",
       "      <th>details_Nan</th>\n",
       "    </tr>\n",
       "  </thead>\n",
       "  <tbody>\n",
       "    <tr>\n",
       "      <th>0</th>\n",
       "      <td>000ABE35EE11412F</td>\n",
       "      <td>1</td>\n",
       "      <td>1</td>\n",
       "      <td>1</td>\n",
       "      <td>1</td>\n",
       "      <td>1</td>\n",
       "      <td>0</td>\n",
       "      <td>0</td>\n",
       "      <td>0</td>\n",
       "      <td>0</td>\n",
       "    </tr>\n",
       "    <tr>\n",
       "      <th>1</th>\n",
       "      <td>001064FEAAB631A1</td>\n",
       "      <td>1</td>\n",
       "      <td>1</td>\n",
       "      <td>1</td>\n",
       "      <td>1</td>\n",
       "      <td>1</td>\n",
       "      <td>6</td>\n",
       "      <td>2</td>\n",
       "      <td>0</td>\n",
       "      <td>1</td>\n",
       "    </tr>\n",
       "    <tr>\n",
       "      <th>2</th>\n",
       "      <td>0010A1C096941592</td>\n",
       "      <td>1</td>\n",
       "      <td>1</td>\n",
       "      <td>1</td>\n",
       "      <td>1</td>\n",
       "      <td>1</td>\n",
       "      <td>7</td>\n",
       "      <td>3</td>\n",
       "      <td>2</td>\n",
       "      <td>2</td>\n",
       "    </tr>\n",
       "    <tr>\n",
       "      <th>3</th>\n",
       "      <td>001C05E87D336C59</td>\n",
       "      <td>1</td>\n",
       "      <td>1</td>\n",
       "      <td>1</td>\n",
       "      <td>1</td>\n",
       "      <td>1</td>\n",
       "      <td>0</td>\n",
       "      <td>0</td>\n",
       "      <td>0</td>\n",
       "      <td>0</td>\n",
       "    </tr>\n",
       "    <tr>\n",
       "      <th>4</th>\n",
       "      <td>00341D8401F0F665</td>\n",
       "      <td>1</td>\n",
       "      <td>1</td>\n",
       "      <td>1</td>\n",
       "      <td>1</td>\n",
       "      <td>1</td>\n",
       "      <td>2</td>\n",
       "      <td>1</td>\n",
       "      <td>0</td>\n",
       "      <td>1</td>\n",
       "    </tr>\n",
       "    <tr>\n",
       "      <th>...</th>\n",
       "      <td>...</td>\n",
       "      <td>...</td>\n",
       "      <td>...</td>\n",
       "      <td>...</td>\n",
       "      <td>...</td>\n",
       "      <td>...</td>\n",
       "      <td>...</td>\n",
       "      <td>...</td>\n",
       "      <td>...</td>\n",
       "      <td>...</td>\n",
       "    </tr>\n",
       "    <tr>\n",
       "      <th>6696</th>\n",
       "      <td>FFC2C5F898D1245B</td>\n",
       "      <td>1</td>\n",
       "      <td>1</td>\n",
       "      <td>1</td>\n",
       "      <td>1</td>\n",
       "      <td>1</td>\n",
       "      <td>0</td>\n",
       "      <td>0</td>\n",
       "      <td>0</td>\n",
       "      <td>0</td>\n",
       "    </tr>\n",
       "    <tr>\n",
       "      <th>6697</th>\n",
       "      <td>FFC53FD45DDA5EE8</td>\n",
       "      <td>1</td>\n",
       "      <td>1</td>\n",
       "      <td>1</td>\n",
       "      <td>1</td>\n",
       "      <td>1</td>\n",
       "      <td>0</td>\n",
       "      <td>0</td>\n",
       "      <td>0</td>\n",
       "      <td>0</td>\n",
       "    </tr>\n",
       "    <tr>\n",
       "      <th>6698</th>\n",
       "      <td>FFE858A7845F005E</td>\n",
       "      <td>1</td>\n",
       "      <td>1</td>\n",
       "      <td>1</td>\n",
       "      <td>1</td>\n",
       "      <td>1</td>\n",
       "      <td>0</td>\n",
       "      <td>0</td>\n",
       "      <td>0</td>\n",
       "      <td>0</td>\n",
       "    </tr>\n",
       "    <tr>\n",
       "      <th>6699</th>\n",
       "      <td>FFED90241D04503F</td>\n",
       "      <td>1</td>\n",
       "      <td>1</td>\n",
       "      <td>1</td>\n",
       "      <td>1</td>\n",
       "      <td>1</td>\n",
       "      <td>0</td>\n",
       "      <td>0</td>\n",
       "      <td>0</td>\n",
       "      <td>0</td>\n",
       "    </tr>\n",
       "    <tr>\n",
       "      <th>6700</th>\n",
       "      <td>FFF28D02B1EACBE1</td>\n",
       "      <td>1</td>\n",
       "      <td>1</td>\n",
       "      <td>1</td>\n",
       "      <td>1</td>\n",
       "      <td>1</td>\n",
       "      <td>6</td>\n",
       "      <td>3</td>\n",
       "      <td>0</td>\n",
       "      <td>1</td>\n",
       "    </tr>\n",
       "  </tbody>\n",
       "</table>\n",
       "<p>6701 rows × 10 columns</p>\n",
       "</div>"
      ],
      "text/plain": [
       "               user_id  group  ab_test  first_date  region  device  event_dt  \\\n",
       "0     000ABE35EE11412F      1        1           1       1       1         0   \n",
       "1     001064FEAAB631A1      1        1           1       1       1         6   \n",
       "2     0010A1C096941592      1        1           1       1       1         7   \n",
       "3     001C05E87D336C59      1        1           1       1       1         0   \n",
       "4     00341D8401F0F665      1        1           1       1       1         2   \n",
       "...                ...    ...      ...         ...     ...     ...       ...   \n",
       "6696  FFC2C5F898D1245B      1        1           1       1       1         0   \n",
       "6697  FFC53FD45DDA5EE8      1        1           1       1       1         0   \n",
       "6698  FFE858A7845F005E      1        1           1       1       1         0   \n",
       "6699  FFED90241D04503F      1        1           1       1       1         0   \n",
       "6700  FFF28D02B1EACBE1      1        1           1       1       1         6   \n",
       "\n",
       "      event_name  details  details_Nan  \n",
       "0              0        0            0  \n",
       "1              2        0            1  \n",
       "2              3        2            2  \n",
       "3              0        0            0  \n",
       "4              1        0            1  \n",
       "...          ...      ...          ...  \n",
       "6696           0        0            0  \n",
       "6697           0        0            0  \n",
       "6698           0        0            0  \n",
       "6699           0        0            0  \n",
       "6700           3        0            1  \n",
       "\n",
       "[6701 rows x 10 columns]"
      ]
     },
     "metadata": {},
     "output_type": "display_data"
    }
   ],
   "source": [
    "rst_user_group = rst.groupby('user_id').nunique().reset_index()\n",
    "display(rst_user_group)"
   ]
  },
  {
   "cell_type": "code",
   "execution_count": 36,
   "id": "bc1b0237",
   "metadata": {
    "colab": {
     "base_uri": "https://localhost:8080/"
    },
    "id": "bc1b0237",
    "outputId": "d7a5e5b5-472d-4018-cc3d-a93f7a122e11"
   },
   "outputs": [
    {
     "name": "stdout",
     "output_type": "stream",
     "text": [
      "0\n"
     ]
    }
   ],
   "source": [
    "count_rst = 0\n",
    "for user in rst_user_group['group']:\n",
    "    if user > 1:\n",
    "        count_rst += 1\n",
    "print(count_rst)"
   ]
  },
  {
   "cell_type": "code",
   "execution_count": 37,
   "id": "d85a8fc1",
   "metadata": {
    "colab": {
     "base_uri": "https://localhost:8080/"
    },
    "id": "d85a8fc1",
    "outputId": "dba13ac1-0f22-4cf7-a12c-05d518c9a51a"
   },
   "outputs": [
    {
     "data": {
      "text/plain": [
       "23.91"
      ]
     },
     "execution_count": 37,
     "metadata": {},
     "output_type": "execute_result"
    }
   ],
   "source": [
    "mean_user_rst = round((count / rst_user_group['user_id'].count() *100), 2)\n",
    "mean_user_rst"
   ]
  },
  {
   "cell_type": "code",
   "execution_count": 38,
   "id": "c413f57d",
   "metadata": {
    "colab": {
     "base_uri": "https://localhost:8080/"
    },
    "id": "c413f57d",
    "outputId": "d63b602b-9143-4630-9f97-bd00118c1f53"
   },
   "outputs": [
    {
     "data": {
      "text/plain": [
       "group\n",
       "A    3824\n",
       "B    2877\n",
       "Name: user_id, dtype: int64"
      ]
     },
     "execution_count": 38,
     "metadata": {},
     "output_type": "execute_result"
    }
   ],
   "source": [
    "rst.groupby('group')['user_id'].nunique()"
   ]
  },
  {
   "cell_type": "markdown",
   "id": "7ac47331",
   "metadata": {
    "id": "7ac47331"
   },
   "source": [
    "Вывод:  \n",
    "Участники в каждой группе уникальны и не пересекаются между группами. Однако, более 24% участников, принимавших тест \"recommender_system_test\", также участвовали в другом тесте (\"interface_eu_test\"). Кроме того, группы распределены неравномерно, с 3824 пользователями в контрольной группе \"А\" и 2877 пользователями в группе \"В\"."
   ]
  },
  {
   "cell_type": "code",
   "execution_count": 39,
   "id": "WhFPfT0aB1GI",
   "metadata": {
    "colab": {
     "base_uri": "https://localhost:8080/",
     "height": 260
    },
    "id": "WhFPfT0aB1GI",
    "outputId": "01e297e1-f74f-4ef4-b67d-4ed355525b77"
   },
   "outputs": [
    {
     "name": "stdout",
     "output_type": "stream",
     "text": [
      "Количество пользователей, участвующих в обеих группах теста: 0\n",
      "Процент пользователей, участвующих в обеих группах теста: 0.0\n",
      "\n",
      "Количество участников в каждой группе теста:\n"
     ]
    },
    {
     "data": {
      "text/plain": [
       "group\n",
       "A    2206\n",
       "B     794\n",
       "Name: user_id, dtype: int64"
      ]
     },
     "metadata": {},
     "output_type": "display_data"
    }
   ],
   "source": [
    "rst = rst[rst['region'] == 'EU']\n",
    "\n",
    "# Удаляем события старше 14 дней\n",
    "rst['lifetime']=pd.to_datetime(rst['event_dt'])-start_event\n",
    "rst = rst[rst['lifetime'] < pd.Timedelta(days=14)]\n",
    "\n",
    "# Группируем данные по user_id, считаем количество групп для каждого пользователя\n",
    "rst_user_group = rst.groupby('user_id')['group'].nunique().reset_index()\n",
    "\n",
    "# Находим пользователей, участвующих в обеих группах\n",
    "count_rst = 0\n",
    "for user in rst_user_group['group']:\n",
    "    if user > 1:\n",
    "        count_rst += 1\n",
    "\n",
    "# Рассчитываем процент пользователей, участвующих в обеих группах\n",
    "mean_user_rst = round((count_rst / rst_user_group['user_id'].count() * 100), 2)\n",
    "\n",
    "print(\"Количество пользователей, участвующих в обеих группах теста:\", count_rst)\n",
    "print(\"Процент пользователей, участвующих в обеих группах теста:\", mean_user_rst)\n",
    "print(\"\\nКоличество участников в каждой группе теста:\")\n",
    "display(rst.groupby('group')['user_id'].nunique())"
   ]
  },
  {
   "cell_type": "code",
   "execution_count": 40,
   "id": "GUkPGXLxw992",
   "metadata": {
    "colab": {
     "base_uri": "https://localhost:8080/"
    },
    "id": "GUkPGXLxw992",
    "outputId": "b10ab530-bb06-45ac-daf5-4eb7c9ac4bd3"
   },
   "outputs": [
    {
     "data": {
      "text/plain": [
       "count                        14389\n",
       "mean     8 days 15:31:06.059698380\n",
       "std      3 days 21:44:57.733509813\n",
       "min                0 days 00:00:00\n",
       "25%                6 days 00:53:45\n",
       "50%                9 days 10:25:34\n",
       "75%               11 days 21:53:32\n",
       "max               13 days 23:57:27\n",
       "Name: lifetime, dtype: object"
      ]
     },
     "execution_count": 40,
     "metadata": {},
     "output_type": "execute_result"
    }
   ],
   "source": [
    "rst['lifetime'].describe()"
   ]
  },
  {
   "cell_type": "markdown",
   "id": "71e60eab",
   "metadata": {
    "id": "71e60eab"
   },
   "source": [
    "# Исследовательский анализ данных"
   ]
  },
  {
   "cell_type": "markdown",
   "id": "47cf7336",
   "metadata": {
    "id": "47cf7336"
   },
   "source": [
    "##### Проверим как распределено количество событий на пользователя в выборках"
   ]
  },
  {
   "cell_type": "code",
   "execution_count": 41,
   "id": "54ac7d8f",
   "metadata": {
    "colab": {
     "base_uri": "https://localhost:8080/",
     "height": 175
    },
    "id": "54ac7d8f",
    "outputId": "933a7c00-8554-429b-ab13-bb96e452bc63"
   },
   "outputs": [
    {
     "data": {
      "text/html": [
       "<div>\n",
       "<style scoped>\n",
       "    .dataframe tbody tr th:only-of-type {\n",
       "        vertical-align: middle;\n",
       "    }\n",
       "\n",
       "    .dataframe tbody tr th {\n",
       "        vertical-align: top;\n",
       "    }\n",
       "\n",
       "    .dataframe thead th {\n",
       "        text-align: right;\n",
       "    }\n",
       "</style>\n",
       "<table border=\"1\" class=\"dataframe\">\n",
       "  <thead>\n",
       "    <tr style=\"text-align: right;\">\n",
       "      <th></th>\n",
       "      <th>event_name</th>\n",
       "      <th>user_id</th>\n",
       "      <th>mean</th>\n",
       "    </tr>\n",
       "  </thead>\n",
       "  <tbody>\n",
       "    <tr>\n",
       "      <th>0</th>\n",
       "      <td>login</td>\n",
       "      <td>2206</td>\n",
       "      <td>0.74</td>\n",
       "    </tr>\n",
       "    <tr>\n",
       "      <th>1</th>\n",
       "      <td>product_page</td>\n",
       "      <td>1420</td>\n",
       "      <td>0.47</td>\n",
       "    </tr>\n",
       "    <tr>\n",
       "      <th>2</th>\n",
       "      <td>purchase</td>\n",
       "      <td>700</td>\n",
       "      <td>0.23</td>\n",
       "    </tr>\n",
       "    <tr>\n",
       "      <th>3</th>\n",
       "      <td>product_cart</td>\n",
       "      <td>670</td>\n",
       "      <td>0.22</td>\n",
       "    </tr>\n",
       "  </tbody>\n",
       "</table>\n",
       "</div>"
      ],
      "text/plain": [
       "     event_name  user_id  mean\n",
       "0         login     2206  0.74\n",
       "1  product_page     1420  0.47\n",
       "2      purchase      700  0.23\n",
       "3  product_cart      670  0.22"
      ]
     },
     "metadata": {},
     "output_type": "display_data"
    }
   ],
   "source": [
    "# группа А\n",
    "group_A = rst[rst['group'] == 'A']\n",
    "events_users_A = group_A.groupby('event_name')['user_id'].nunique().sort_values(ascending = False).reset_index()\n",
    "\n",
    "events_users_A['mean'] = round((events_users_A['user_id'] / rst['user_id'].nunique()), 2)\n",
    "display(events_users_A)"
   ]
  },
  {
   "cell_type": "code",
   "execution_count": 42,
   "id": "852719ea",
   "metadata": {
    "colab": {
     "base_uri": "https://localhost:8080/",
     "height": 175
    },
    "id": "852719ea",
    "outputId": "9821c16b-1af1-4c6b-f572-cd67e683c429"
   },
   "outputs": [
    {
     "data": {
      "text/html": [
       "<div>\n",
       "<style scoped>\n",
       "    .dataframe tbody tr th:only-of-type {\n",
       "        vertical-align: middle;\n",
       "    }\n",
       "\n",
       "    .dataframe tbody tr th {\n",
       "        vertical-align: top;\n",
       "    }\n",
       "\n",
       "    .dataframe thead th {\n",
       "        text-align: right;\n",
       "    }\n",
       "</style>\n",
       "<table border=\"1\" class=\"dataframe\">\n",
       "  <thead>\n",
       "    <tr style=\"text-align: right;\">\n",
       "      <th></th>\n",
       "      <th>event_name</th>\n",
       "      <th>user_id</th>\n",
       "      <th>mean</th>\n",
       "    </tr>\n",
       "  </thead>\n",
       "  <tbody>\n",
       "    <tr>\n",
       "      <th>0</th>\n",
       "      <td>login</td>\n",
       "      <td>793</td>\n",
       "      <td>0.26</td>\n",
       "    </tr>\n",
       "    <tr>\n",
       "      <th>1</th>\n",
       "      <td>product_page</td>\n",
       "      <td>448</td>\n",
       "      <td>0.15</td>\n",
       "    </tr>\n",
       "    <tr>\n",
       "      <th>2</th>\n",
       "      <td>product_cart</td>\n",
       "      <td>225</td>\n",
       "      <td>0.08</td>\n",
       "    </tr>\n",
       "    <tr>\n",
       "      <th>3</th>\n",
       "      <td>purchase</td>\n",
       "      <td>224</td>\n",
       "      <td>0.07</td>\n",
       "    </tr>\n",
       "  </tbody>\n",
       "</table>\n",
       "</div>"
      ],
      "text/plain": [
       "     event_name  user_id  mean\n",
       "0         login      793  0.26\n",
       "1  product_page      448  0.15\n",
       "2  product_cart      225  0.08\n",
       "3      purchase      224  0.07"
      ]
     },
     "metadata": {},
     "output_type": "display_data"
    }
   ],
   "source": [
    "#группа B\n",
    "group_B = rst[rst['group'] == 'B']\n",
    "events_users_B = group_B.groupby('event_name')['user_id'].nunique().sort_values(ascending = False).reset_index()\n",
    "\n",
    "events_users_B['mean'] = round((events_users_B['user_id'] / rst['user_id'].nunique()),2)\n",
    "display(events_users_B)"
   ]
  },
  {
   "cell_type": "markdown",
   "id": "5427ce2d",
   "metadata": {
    "id": "5427ce2d"
   },
   "source": [
    "Интересно заметить, что количество событий на пользователя не распределено равномерно, и группа В значительно меньше. Вероятно, это связано с неравномерным распределением участников между группами теста, которое мы выявили ранее. Кроме того, доля пользователей в группе В сильно снизилась по сравнению с контрольной группой. Напомним, что мы ожидали улучшение каждой метрики не менее чем на 10% в течение 14 дней с момента регистрации пользователей. Однако, здесь мы не видим такого увеличения. Давайте проанализируем данные за последние 14 дней, чтобы убедиться в этом."
   ]
  },
  {
   "cell_type": "code",
   "execution_count": 43,
   "id": "2dc50ebf",
   "metadata": {
    "colab": {
     "base_uri": "https://localhost:8080/",
     "height": 175
    },
    "id": "2dc50ebf",
    "outputId": "eb8acd2c-389c-4b5e-a3e2-6a3549b67026"
   },
   "outputs": [
    {
     "data": {
      "text/html": [
       "<div>\n",
       "<style scoped>\n",
       "    .dataframe tbody tr th:only-of-type {\n",
       "        vertical-align: middle;\n",
       "    }\n",
       "\n",
       "    .dataframe tbody tr th {\n",
       "        vertical-align: top;\n",
       "    }\n",
       "\n",
       "    .dataframe thead th {\n",
       "        text-align: right;\n",
       "    }\n",
       "</style>\n",
       "<table border=\"1\" class=\"dataframe\">\n",
       "  <thead>\n",
       "    <tr style=\"text-align: right;\">\n",
       "      <th></th>\n",
       "      <th>event_name</th>\n",
       "      <th>user_id</th>\n",
       "      <th>mean</th>\n",
       "    </tr>\n",
       "  </thead>\n",
       "  <tbody>\n",
       "    <tr>\n",
       "      <th>0</th>\n",
       "      <td>login</td>\n",
       "      <td>2206</td>\n",
       "      <td>0.735</td>\n",
       "    </tr>\n",
       "    <tr>\n",
       "      <th>1</th>\n",
       "      <td>product_page</td>\n",
       "      <td>1420</td>\n",
       "      <td>0.473</td>\n",
       "    </tr>\n",
       "    <tr>\n",
       "      <th>2</th>\n",
       "      <td>purchase</td>\n",
       "      <td>700</td>\n",
       "      <td>0.233</td>\n",
       "    </tr>\n",
       "    <tr>\n",
       "      <th>3</th>\n",
       "      <td>product_cart</td>\n",
       "      <td>670</td>\n",
       "      <td>0.223</td>\n",
       "    </tr>\n",
       "  </tbody>\n",
       "</table>\n",
       "</div>"
      ],
      "text/plain": [
       "     event_name  user_id   mean\n",
       "0         login     2206  0.735\n",
       "1  product_page     1420  0.473\n",
       "2      purchase      700  0.233\n",
       "3  product_cart      670  0.223"
      ]
     },
     "metadata": {},
     "output_type": "display_data"
    }
   ],
   "source": [
    "\n",
    "#группу А\n",
    "group_A_query = rst[rst['group'] == 'A']\n",
    "events_users_A_query = group_A_query.groupby('event_name')['user_id'].nunique().sort_values(ascending = False).reset_index()\n",
    "#доля пользователей в каждом событии:\n",
    "events_users_A_query['mean'] = round((events_users_A_query['user_id'] / rst['user_id'].nunique()), 3)\n",
    "display(events_users_A_query)"
   ]
  },
  {
   "cell_type": "code",
   "execution_count": 44,
   "id": "97cf60d7",
   "metadata": {
    "colab": {
     "base_uri": "https://localhost:8080/",
     "height": 175
    },
    "id": "97cf60d7",
    "outputId": "a64e9e83-f489-48d7-c519-b0891805fe7a"
   },
   "outputs": [
    {
     "data": {
      "text/html": [
       "<div>\n",
       "<style scoped>\n",
       "    .dataframe tbody tr th:only-of-type {\n",
       "        vertical-align: middle;\n",
       "    }\n",
       "\n",
       "    .dataframe tbody tr th {\n",
       "        vertical-align: top;\n",
       "    }\n",
       "\n",
       "    .dataframe thead th {\n",
       "        text-align: right;\n",
       "    }\n",
       "</style>\n",
       "<table border=\"1\" class=\"dataframe\">\n",
       "  <thead>\n",
       "    <tr style=\"text-align: right;\">\n",
       "      <th></th>\n",
       "      <th>event_name</th>\n",
       "      <th>user_id</th>\n",
       "      <th>mean</th>\n",
       "    </tr>\n",
       "  </thead>\n",
       "  <tbody>\n",
       "    <tr>\n",
       "      <th>0</th>\n",
       "      <td>login</td>\n",
       "      <td>793</td>\n",
       "      <td>0.264</td>\n",
       "    </tr>\n",
       "    <tr>\n",
       "      <th>1</th>\n",
       "      <td>product_page</td>\n",
       "      <td>448</td>\n",
       "      <td>0.149</td>\n",
       "    </tr>\n",
       "    <tr>\n",
       "      <th>2</th>\n",
       "      <td>product_cart</td>\n",
       "      <td>225</td>\n",
       "      <td>0.075</td>\n",
       "    </tr>\n",
       "    <tr>\n",
       "      <th>3</th>\n",
       "      <td>purchase</td>\n",
       "      <td>224</td>\n",
       "      <td>0.075</td>\n",
       "    </tr>\n",
       "  </tbody>\n",
       "</table>\n",
       "</div>"
      ],
      "text/plain": [
       "     event_name  user_id   mean\n",
       "0         login      793  0.264\n",
       "1  product_page      448  0.149\n",
       "2  product_cart      225  0.075\n",
       "3      purchase      224  0.075"
      ]
     },
     "metadata": {},
     "output_type": "display_data"
    }
   ],
   "source": [
    "#группа B\n",
    "group_B_query = rst[rst['group'] == 'B']\n",
    "\n",
    "events_users_B_query = group_B_query.groupby('event_name')['user_id'].nunique().sort_values(ascending = False).reset_index()\n",
    "#доля пользователей в каждом событии:\n",
    "events_users_B_query['mean'] = round((events_users_B_query['user_id'] / rst['user_id'].nunique()),3)\n",
    "display(events_users_B_query)"
   ]
  },
  {
   "cell_type": "markdown",
   "id": "8507f212",
   "metadata": {
    "id": "8507f212"
   },
   "source": [
    "Видно, что для группы А количество событий на пользователя больше, чем в группе B.\n",
    "Выделим выборки по этим группам, чтобы построить графики"
   ]
  },
  {
   "cell_type": "code",
   "execution_count": 45,
   "id": "6631f2f6",
   "metadata": {
    "id": "6631f2f6"
   },
   "outputs": [],
   "source": [
    "\n",
    "ev_a = group_A_query.groupby('user_id').agg({'user_id':'count'}).rename(columns={'user_id':'Group A'})\n",
    "ev_b = group_B_query.groupby('user_id').agg({'user_id':'count'}).rename(columns={'user_id':'Group B'})"
   ]
  },
  {
   "cell_type": "code",
   "execution_count": 46,
   "id": "d132a64c",
   "metadata": {
    "colab": {
     "base_uri": "https://localhost:8080/",
     "height": 872
    },
    "id": "d132a64c",
    "outputId": "33d76d61-20a7-4555-e6a6-eb988f755bea"
   },
   "outputs": [
    {
     "data": {
      "image/png": "[encoded data removed]",
      "text/plain": [
       "<Figure size 720x720 with 2 Axes>"
      ]
     },
     "metadata": {
      "needs_background": "light"
     },
     "output_type": "display_data"
    }
   ],
   "source": [
    "plt.figure(figsize=(10, 10))\n",
    "ax1 = plt.subplot(2, 1, 1)\n",
    "sns.histplot(ev_a, facecolor='pink')\n",
    "plt.title('A')\n",
    "plt.xlabel('Количество событий на одного пользователя')\n",
    "plt.ylabel('Количество пользователей')\n",
    "\n",
    "ax2 = plt.subplot(2, 1, 2, sharey = ax1)\n",
    "sns.histplot(ev_b, facecolor='red')\n",
    "plt.title('B')\n",
    "plt.xlabel('Количество событий на одного пользователя')\n",
    "plt.ylabel('Количество пользователей')\n",
    "plt.show()"
   ]
  },
  {
   "cell_type": "markdown",
   "id": "00c3c29f",
   "metadata": {
    "id": "00c3c29f"
   },
   "source": [
    "Количество событий на одного пользователя распределены наравномерно в обеих группах. В группе \"А\"  неравномерность больше- больше разница между пиками и провалами"
   ]
  },
  {
   "cell_type": "code",
   "execution_count": 47,
   "id": "6f55b637",
   "metadata": {
    "colab": {
     "base_uri": "https://localhost:8080/",
     "height": 364
    },
    "id": "6f55b637",
    "outputId": "9206dcb4-d62d-4942-f62f-98eb0c794110"
   },
   "outputs": [
    {
     "name": "stdout",
     "output_type": "stream",
     "text": [
      "Количество событий в среднем на пользователя группа А\n"
     ]
    },
    {
     "data": {
      "text/plain": [
       "count    2206.000000\n",
       "mean        4.852675\n",
       "std         2.971758\n",
       "min         1.000000\n",
       "25%         3.000000\n",
       "50%         4.000000\n",
       "75%         6.000000\n",
       "max        20.000000\n",
       "Name: event_count, dtype: float64"
      ]
     },
     "metadata": {},
     "output_type": "display_data"
    },
    {
     "name": "stdout",
     "output_type": "stream",
     "text": [
      "Количество событий в среднем на пользователя группа  B\n"
     ]
    },
    {
     "data": {
      "text/plain": [
       "count    794.000000\n",
       "mean       4.639798\n",
       "std        3.093944\n",
       "min        1.000000\n",
       "25%        2.000000\n",
       "50%        4.000000\n",
       "75%        6.000000\n",
       "max       24.000000\n",
       "Name: event_count, dtype: float64"
      ]
     },
     "metadata": {},
     "output_type": "display_data"
    }
   ],
   "source": [
    "# посмотрим, сколько событий в среднем приходится на пользователя:\n",
    "events_by_user_a = group_A_query.groupby('user_id').agg(event_count = ('event_name', 'count')).reset_index()\n",
    "events_by_user_b = group_B_query.groupby('user_id').agg(event_count = ('event_name', 'count')).reset_index()\n",
    "\n",
    "print('Количество событий в среднем на пользователя группа А')\n",
    "display(events_by_user_a['event_count'].describe())\n",
    "\n",
    "print('Количество событий в среднем на пользователя группа  B')\n",
    "display(events_by_user_b['event_count'].describe())"
   ]
  },
  {
   "cell_type": "markdown",
   "id": "3eb23311",
   "metadata": {
    "id": "3eb23311"
   },
   "source": [
    "По медиане без учета выбросов на пользователя приходится порядка 4 событий в группе А и в группе В. При этом, минимальное количество  событий в группе А и В- всего одно, а максимальное - 20 шт в А и 24 в В."
   ]
  },
  {
   "cell_type": "markdown",
   "id": "6642ae05",
   "metadata": {
    "id": "6642ae05"
   },
   "source": [
    "##### Cмотрим распределение числа событий по дням"
   ]
  },
  {
   "cell_type": "code",
   "execution_count": 48,
   "id": "5f0c3036",
   "metadata": {
    "id": "5f0c3036"
   },
   "outputs": [],
   "source": [
    "rst['event_dt'] = pd.to_datetime(rst['event_dt']).dt.date\n",
    "# первое login:\n",
    "login = rst[rst['event_name'] == 'login']\n",
    "login_A = login[login['group'] == 'A']\n",
    "login_B = login[login['group'] == 'B']\n"
   ]
  },
  {
   "cell_type": "code",
   "execution_count": 49,
   "id": "9932abb3",
   "metadata": {
    "id": "9932abb3"
   },
   "outputs": [],
   "source": [
    "# второе product_page:\n",
    "product_page = rst[rst['event_name'] == 'product_page']\n",
    "product_page_A = product_page[product_page['group'] == 'A']\n",
    "product_page_B = product_page[product_page['group'] == 'B']\n"
   ]
  },
  {
   "cell_type": "code",
   "execution_count": 50,
   "id": "55a5ebc9",
   "metadata": {
    "id": "55a5ebc9"
   },
   "outputs": [],
   "source": [
    "# третье product_cart:\n",
    "product_cart = rst[rst['event_name'] == 'product_cart']\n",
    "product_cart_A = product_cart[product_cart['group'] == 'A']\n",
    "product_cart_B = product_cart[product_cart['group'] == 'B']\n"
   ]
  },
  {
   "cell_type": "code",
   "execution_count": 51,
   "id": "f2e140e0",
   "metadata": {
    "id": "f2e140e0"
   },
   "outputs": [],
   "source": [
    "# последнее purchase:\n",
    "purchase = rst[rst['event_name'] == 'purchase']\n",
    "purchase_A = purchase[purchase['group'] == 'A']\n",
    "purchase_B = purchase[purchase['group'] == 'B']\n"
   ]
  },
  {
   "cell_type": "code",
   "execution_count": 52,
   "id": "51592f03",
   "metadata": {
    "colab": {
     "base_uri": "https://localhost:8080/",
     "height": 1000
    },
    "id": "51592f03",
    "outputId": "b57503d2-4b5a-469b-9e79-59db393dff0e",
    "scrolled": true
   },
   "outputs": [
    {
     "data": {
      "image/png": "[encoded data removed]",
      "text/plain": [
       "<Figure size 720x360 with 1 Axes>"
      ]
     },
     "metadata": {
      "needs_background": "light"
     },
     "output_type": "display_data"
    },
    {
     "data": {
      "image/png": "[encoded data removed]",
      "text/plain": [
       "<Figure size 720x360 with 1 Axes>"
      ]
     },
     "metadata": {
      "needs_background": "light"
     },
     "output_type": "display_data"
    }
   ],
   "source": [
    "# теперь рассмотрим на распределение регистраций\n",
    "listt = [login_A['event_dt'], login_B['event_dt']]\n",
    "names = ['Распределение числа регистраций по дням группа A',\n",
    "         'Распределение числа регистраций по дням группа B']\n",
    "for element, name in zip(listt, names):\n",
    "    plt.figure(figsize=(10, 5))\n",
    "    ax = element.hist(bins=15)\n",
    "    plt.xlabel('Дата')\n",
    "    plt.ylabel('События')\n",
    "    plt.xticks(rotation=45)\n",
    "    ax.set_title(name)\n",
    "    plt.show()"
   ]
  },
  {
   "cell_type": "code",
   "execution_count": 53,
   "id": "cd49212c",
   "metadata": {
    "colab": {
     "base_uri": "https://localhost:8080/",
     "height": 1000
    },
    "id": "cd49212c",
    "outputId": "a3fe539d-e8bb-4d5b-aeb8-c43ad0e3950b"
   },
   "outputs": [
    {
     "data": {
      "image/png": "[encoded data removed]",
      "text/plain": [
       "<Figure size 720x360 with 1 Axes>"
      ]
     },
     "metadata": {
      "needs_background": "light"
     },
     "output_type": "display_data"
    },
    {
     "data": {
      "image/png": "[encoded data removed]",
      "text/plain": [
       "<Figure size 720x360 with 1 Axes>"
      ]
     },
     "metadata": {
      "needs_background": "light"
     },
     "output_type": "display_data"
    }
   ],
   "source": [
    "# теперь рассмотрим на распределение просмотра карточки товаров\n",
    "listt = [product_page_A['event_dt'], product_page_B['event_dt']]\n",
    "names = ['Распределение числа просмотров карточек товаров по дням группа А',\n",
    "         'Распределение числа просмотров карточек товаров по дням группа B']\n",
    "for element, name in zip(listt, names):\n",
    "    plt.figure(figsize=(10, 5))\n",
    "    ax = element.hist(bins=15)\n",
    "    plt.xlabel('Дата')\n",
    "    plt.ylabel('События')\n",
    "    plt.xticks(rotation=45)\n",
    "    ax.set_title(name)\n",
    "    plt.show()"
   ]
  },
  {
   "cell_type": "code",
   "execution_count": 54,
   "id": "76f1fd3e",
   "metadata": {
    "colab": {
     "base_uri": "https://localhost:8080/",
     "height": 1000
    },
    "id": "76f1fd3e",
    "outputId": "39c76869-e72f-42ac-d81a-d992595ba338"
   },
   "outputs": [
    {
     "data": {
      "image/png": "[encoded data removed]",
      "text/plain": [
       "<Figure size 720x360 with 1 Axes>"
      ]
     },
     "metadata": {
      "needs_background": "light"
     },
     "output_type": "display_data"
    },
    {
     "data": {
      "image/png": "[encoded data removed]",
      "text/plain": [
       "<Figure size 720x360 with 1 Axes>"
      ]
     },
     "metadata": {
      "needs_background": "light"
     },
     "output_type": "display_data"
    }
   ],
   "source": [
    "# теперь рассмотрим на распределение просмотра корзины\n",
    "listt = [product_cart_A['event_dt'], product_cart_B['event_dt']]\n",
    "names = ['Распределение числа просмотров корзины по дням группа А',\n",
    "         'Распределение числа просмотров корзины по дням группа B']\n",
    "for element, name in zip(listt, names):\n",
    "    plt.figure(figsize=(10, 5))\n",
    "    ax = element.hist(bins=15)\n",
    "    plt.xlabel('Дата')\n",
    "    plt.ylabel('События')\n",
    "    plt.xticks(rotation=45)\n",
    "    ax.set_title(name)\n",
    "    plt.show()"
   ]
  },
  {
   "cell_type": "code",
   "execution_count": 55,
   "id": "0111811a",
   "metadata": {
    "colab": {
     "base_uri": "https://localhost:8080/",
     "height": 1000
    },
    "id": "0111811a",
    "outputId": "16aca998-5621-4f3c-9f1b-f37b4a40f179"
   },
   "outputs": [
    {
     "data": {
      "image/png": "[encoded data removed]",
      "text/plain": [
       "<Figure size 720x360 with 1 Axes>"
      ]
     },
     "metadata": {
      "needs_background": "light"
     },
     "output_type": "display_data"
    },
    {
     "data": {
      "image/png": "[encoded data removed]",
      "text/plain": [
       "<Figure size 720x360 with 1 Axes>"
      ]
     },
     "metadata": {
      "needs_background": "light"
     },
     "output_type": "display_data"
    }
   ],
   "source": [
    "# теперь рассмотрим на распределение покупок\n",
    "listt = [purchase_A['event_dt'], purchase_B['event_dt']]\n",
    "names = ['Распределение числа покупок по дням группа А',\n",
    "         'Распределение числа покупок по дням группа B']\n",
    "for element, name in zip(listt, names):\n",
    "    plt.figure(figsize=(10, 5))\n",
    "    ax = element.hist(bins=15)\n",
    "    plt.xlabel('Дата')\n",
    "    plt.ylabel('События')\n",
    "    plt.xticks(rotation=45)\n",
    "    ax.set_title(name)\n",
    "    plt.show()"
   ]
  },
  {
   "cell_type": "markdown",
   "id": "5eb439cc",
   "metadata": {
    "id": "5eb439cc"
   },
   "source": [
    "##### Краткий вывод:  \n",
    "\n",
    "Из анализа данных следует, что распределение событий коррелирует между группами и различается только по количеству.\n",
    "\n",
    "- Например, группа А достигает своего пика по регистрации пользователей (более 1200) 19 декабря, тогда как группа В начинает активно регистрироваться (более 300) уже с 9 декабря.\n",
    "\n",
    "- Обе группы достигают пика по просмотру карточек товаров 19 декабря, но группа А имеет более 800 просмотров, тогда как группа В имеет более 175 просмотров.\n",
    "\n",
    "- Просмотр корзины достигает более 400 (450) у группы А 19 декабря и снижается после этого, тогда как группа В достигает своего пика несколько дней позже, 14-18 декабря (более 80), затем снижается и достигает пика еще раз 21 декабря.\n",
    "\n",
    "- Группа А совершает максимальное количество покупок (более 400) на пике 19 декабря и снижается после этого, тогда как группа В совершает более 80 покупок в первые дни (8 декабря) и еще один всплеск 16 декабря, затем количество покупок снижается до конца.\n",
    "\n",
    "В целях полноты понимания необходимо построить воронку событий."
   ]
  },
  {
   "cell_type": "markdown",
   "id": "c098929e",
   "metadata": {
    "id": "c098929e"
   },
   "source": [
    "##### Рассмотрим как меняется конверсия в воронке в выборках на разных этапах"
   ]
  },
  {
   "cell_type": "code",
   "execution_count": 56,
   "id": "be879271",
   "metadata": {
    "colab": {
     "base_uri": "https://localhost:8080/"
    },
    "id": "be879271",
    "outputId": "a5e72702-f1a3-44ef-fead-3ae0ae1ccfdd"
   },
   "outputs": [
    {
     "data": {
      "text/plain": [
       "login           6543\n",
       "product_page    3990\n",
       "product_cart    1942\n",
       "purchase        1914\n",
       "Name: event_name, dtype: int64"
      ]
     },
     "execution_count": 56,
     "metadata": {},
     "output_type": "execute_result"
    }
   ],
   "source": [
    "# посчитаем события по наименованию и отсортируем\n",
    "rst['event_name'].value_counts()"
   ]
  },
  {
   "cell_type": "code",
   "execution_count": 57,
   "id": "0b7cdd77",
   "metadata": {
    "colab": {
     "base_uri": "https://localhost:8080/",
     "height": 175
    },
    "id": "0b7cdd77",
    "outputId": "9a8b2c2a-e195-480c-9b6d-056ac5a2990c"
   },
   "outputs": [
    {
     "data": {
      "text/html": [
       "<div>\n",
       "<style scoped>\n",
       "    .dataframe tbody tr th:only-of-type {\n",
       "        vertical-align: middle;\n",
       "    }\n",
       "\n",
       "    .dataframe tbody tr th {\n",
       "        vertical-align: top;\n",
       "    }\n",
       "\n",
       "    .dataframe thead th {\n",
       "        text-align: right;\n",
       "    }\n",
       "</style>\n",
       "<table border=\"1\" class=\"dataframe\">\n",
       "  <thead>\n",
       "    <tr style=\"text-align: right;\">\n",
       "      <th></th>\n",
       "      <th>event_name</th>\n",
       "      <th>event_count</th>\n",
       "      <th>user_id</th>\n",
       "      <th>share_%</th>\n",
       "    </tr>\n",
       "  </thead>\n",
       "  <tbody>\n",
       "    <tr>\n",
       "      <th>0</th>\n",
       "      <td>login</td>\n",
       "      <td>6543</td>\n",
       "      <td>2999</td>\n",
       "      <td>99.97</td>\n",
       "    </tr>\n",
       "    <tr>\n",
       "      <th>1</th>\n",
       "      <td>product_page</td>\n",
       "      <td>3990</td>\n",
       "      <td>1868</td>\n",
       "      <td>62.27</td>\n",
       "    </tr>\n",
       "    <tr>\n",
       "      <th>3</th>\n",
       "      <td>product_cart</td>\n",
       "      <td>1942</td>\n",
       "      <td>895</td>\n",
       "      <td>29.83</td>\n",
       "    </tr>\n",
       "    <tr>\n",
       "      <th>2</th>\n",
       "      <td>purchase</td>\n",
       "      <td>1914</td>\n",
       "      <td>924</td>\n",
       "      <td>30.80</td>\n",
       "    </tr>\n",
       "  </tbody>\n",
       "</table>\n",
       "</div>"
      ],
      "text/plain": [
       "     event_name  event_count  user_id  share_%\n",
       "0         login         6543     2999    99.97\n",
       "1  product_page         3990     1868    62.27\n",
       "3  product_cart         1942      895    29.83\n",
       "2      purchase         1914      924    30.80"
      ]
     },
     "execution_count": 57,
     "metadata": {},
     "output_type": "execute_result"
    }
   ],
   "source": [
    "# считаем количество пользователей совершивших хотя бы одно событие и их долю\n",
    "user_events = (rst.groupby('event_name').agg({'event_name' : 'count', 'user_id' : 'nunique'})\n",
    "                                         .sort_values(by = 'user_id', ascending=False))\n",
    "user_events['share_%'] = round((user_events['user_id'] / rst['user_id'].nunique() * 100), 2)\n",
    "user_events.columns = ['event_count', 'user_id', 'share_%']\n",
    "user_events = user_events.reset_index()\n",
    "user_events = user_events.reindex(index=[0,1,3,2])\n",
    "user_events"
   ]
  },
  {
   "cell_type": "markdown",
   "id": "a7b09e40",
   "metadata": {
    "id": "a7b09e40"
   },
   "source": [
    "\n",
    "Переведя события на понятные термины, можно выстроить воронку действий пользователя: сначала он регистрируется (login), затем просматривает карточки товаров (product_page), затем покупает (purchase). Отсутствует шаг с корзиной, но разница между количеством покупок (3331) и просмотров корзины (3247) незначительна, поскольку есть вероятность, что пользователь может просмотреть товар и купить его оффлайн или по телефону. Поэтому можно построить воронку действий, хотя изменение расположения двух последних шагов несколько смущает."
   ]
  },
  {
   "cell_type": "code",
   "execution_count": 58,
   "id": "60d99485",
   "metadata": {
    "colab": {
     "base_uri": "https://localhost:8080/",
     "height": 349
    },
    "id": "60d99485",
    "outputId": "d2c05364-f890-48bc-89c1-a24335d0c816"
   },
   "outputs": [
    {
     "name": "stderr",
     "output_type": "stream",
     "text": [
      "/opt/conda/lib/python3.9/site-packages/pandas/core/indexing.py:1637: SettingWithCopyWarning: \n",
      "A value is trying to be set on a copy of a slice from a DataFrame\n",
      "\n",
      "See the caveats in the documentation: https://pandas.pydata.org/pandas-docs/stable/user_guide/indexing.html#returning-a-view-versus-a-copy\n",
      "  self._setitem_single_block(indexer, value, name)\n"
     ]
    },
    {
     "data": {
      "text/html": [
       "<div>\n",
       "<style scoped>\n",
       "    .dataframe tbody tr th:only-of-type {\n",
       "        vertical-align: middle;\n",
       "    }\n",
       "\n",
       "    .dataframe tbody tr th {\n",
       "        vertical-align: top;\n",
       "    }\n",
       "\n",
       "    .dataframe thead th {\n",
       "        text-align: right;\n",
       "    }\n",
       "</style>\n",
       "<table border=\"1\" class=\"dataframe\">\n",
       "  <thead>\n",
       "    <tr style=\"text-align: right;\">\n",
       "      <th></th>\n",
       "      <th>event_name</th>\n",
       "      <th>event_count</th>\n",
       "      <th>user_id</th>\n",
       "      <th>share_%</th>\n",
       "      <th>conversion</th>\n",
       "    </tr>\n",
       "  </thead>\n",
       "  <tbody>\n",
       "    <tr>\n",
       "      <th>0</th>\n",
       "      <td>login</td>\n",
       "      <td>6543</td>\n",
       "      <td>2999</td>\n",
       "      <td>99.97</td>\n",
       "      <td>100</td>\n",
       "    </tr>\n",
       "    <tr>\n",
       "      <th>1</th>\n",
       "      <td>product_page</td>\n",
       "      <td>3990</td>\n",
       "      <td>1868</td>\n",
       "      <td>62.27</td>\n",
       "      <td>62</td>\n",
       "    </tr>\n",
       "    <tr>\n",
       "      <th>3</th>\n",
       "      <td>product_cart</td>\n",
       "      <td>1942</td>\n",
       "      <td>895</td>\n",
       "      <td>29.83</td>\n",
       "      <td>48</td>\n",
       "    </tr>\n",
       "    <tr>\n",
       "      <th>2</th>\n",
       "      <td>purchase</td>\n",
       "      <td>1914</td>\n",
       "      <td>924</td>\n",
       "      <td>30.80</td>\n",
       "      <td>103</td>\n",
       "    </tr>\n",
       "  </tbody>\n",
       "</table>\n",
       "</div>"
      ],
      "text/plain": [
       "     event_name  event_count  user_id  share_%  conversion\n",
       "0         login         6543     2999    99.97         100\n",
       "1  product_page         3990     1868    62.27          62\n",
       "3  product_cart         1942      895    29.83          48\n",
       "2      purchase         1914      924    30.80         103"
      ]
     },
     "execution_count": 58,
     "metadata": {},
     "output_type": "execute_result"
    }
   ],
   "source": [
    "# посчитаем конверсию каждого шага в воронке\n",
    "user_events['conversion'] = 0\n",
    "for i in range(0, len(user_events['share_%'])):\n",
    "    if i == 0:\n",
    "        user_events['conversion'].iloc[i] = 100\n",
    "    else:\n",
    "        user_events['conversion'].iloc[i] = round(int(user_events['user_id'].iloc[i])\n",
    "                                                  / int(user_events['user_id'].iloc[i-1]), 2)*100\n",
    "user_events"
   ]
  },
  {
   "cell_type": "code",
   "execution_count": 60,
   "id": "zxOhZm_sgRyC",
   "metadata": {
    "colab": {
     "base_uri": "https://localhost:8080/",
     "height": 175
    },
    "id": "zxOhZm_sgRyC",
    "outputId": "d697651f-c69b-4b46-86e6-2816e738516b"
   },
   "outputs": [
    {
     "data": {
      "text/html": [
       "<div>\n",
       "<style scoped>\n",
       "    .dataframe tbody tr th:only-of-type {\n",
       "        vertical-align: middle;\n",
       "    }\n",
       "\n",
       "    .dataframe tbody tr th {\n",
       "        vertical-align: top;\n",
       "    }\n",
       "\n",
       "    .dataframe thead th {\n",
       "        text-align: right;\n",
       "    }\n",
       "</style>\n",
       "<table border=\"1\" class=\"dataframe\">\n",
       "  <thead>\n",
       "    <tr style=\"text-align: right;\">\n",
       "      <th></th>\n",
       "      <th>event_name</th>\n",
       "      <th>total_users</th>\n",
       "      <th>percent</th>\n",
       "      <th>conversion</th>\n",
       "      <th>losses</th>\n",
       "      <th>n</th>\n",
       "    </tr>\n",
       "  </thead>\n",
       "  <tbody>\n",
       "    <tr>\n",
       "      <th>0</th>\n",
       "      <td>login</td>\n",
       "      <td>2999</td>\n",
       "      <td>99.97</td>\n",
       "      <td>NaN</td>\n",
       "      <td>NaN</td>\n",
       "      <td>1</td>\n",
       "    </tr>\n",
       "    <tr>\n",
       "      <th>1</th>\n",
       "      <td>product_page</td>\n",
       "      <td>1868</td>\n",
       "      <td>62.27</td>\n",
       "      <td>62.29</td>\n",
       "      <td>-37.71</td>\n",
       "      <td>2</td>\n",
       "    </tr>\n",
       "    <tr>\n",
       "      <th>3</th>\n",
       "      <td>product_cart</td>\n",
       "      <td>895</td>\n",
       "      <td>29.83</td>\n",
       "      <td>96.86</td>\n",
       "      <td>-3.14</td>\n",
       "      <td>3</td>\n",
       "    </tr>\n",
       "    <tr>\n",
       "      <th>2</th>\n",
       "      <td>purchase</td>\n",
       "      <td>924</td>\n",
       "      <td>30.80</td>\n",
       "      <td>49.46</td>\n",
       "      <td>-50.54</td>\n",
       "      <td>4</td>\n",
       "    </tr>\n",
       "  </tbody>\n",
       "</table>\n",
       "</div>"
      ],
      "text/plain": [
       "     event_name  total_users  percent  conversion  losses  n\n",
       "0         login         2999    99.97         NaN     NaN  1\n",
       "1  product_page         1868    62.27       62.29  -37.71  2\n",
       "3  product_cart          895    29.83       96.86   -3.14  3\n",
       "2      purchase          924    30.80       49.46  -50.54  4"
      ]
     },
     "execution_count": 60,
     "metadata": {},
     "output_type": "execute_result"
    }
   ],
   "source": [
    "\n",
    "total_users = rst['user_id'].nunique()\n",
    "\n",
    "funnel_logs = rst.groupby('event_name')['user_id'].nunique() \\\n",
    "                     .sort_values(ascending=False) \\\n",
    "                     .to_frame() \\\n",
    "                     .reset_index() \\\n",
    "                     .rename(columns={'user_id': 'total_users'})\n",
    "\n",
    "\n",
    "funnel_logs['percent'] = (funnel_logs['total_users'] / total_users * 100).round(2)\n",
    "\n",
    "funnel_logs['conversion'] = (funnel_logs['total_users'] / funnel_logs['total_users'].shift(1) * 100).round(2)\n",
    "\n",
    "funnel_logs['losses'] = funnel_logs['total_users'].diff().fillna(0)\n",
    "\n",
    "funnel_logs['losses'] = (funnel_logs['losses'] / funnel_logs['total_users'].shift(1) * 100).round(2)\n",
    "\n",
    "funnel_logs['n'] = [1, 2, 4, 3]\n",
    "funnel_logs = funnel_logs.sort_values(by='n')\n",
    "funnel_logs"
   ]
  },
  {
   "cell_type": "code",
   "execution_count": 61,
   "id": "RuARvYKCgseL",
   "metadata": {
    "colab": {
     "base_uri": "https://localhost:8080/",
     "height": 542
    },
    "id": "RuARvYKCgseL",
    "outputId": "dcfc2ee8-7567-49d3-88b7-fefb16bfd59e"
   },
   "outputs": [
    {
     "data": {
      "application/vnd.plotly.v1+json": {
       "config": {
        "plotlyServerURL": "https://plot.ly"
       },
       "data": [
        {
         "type": "funnel",
         "x": [
          2999,
          1868,
          895,
          924
         ],
         "y": [
          "Авторизация",
          "Просмотр товара",
          "Просмотр корзины",
          "Покупка"
         ]
        }
       ],
       "layout": {
        "legend": {
         "title": {
          "text": "Количество пользователей"
         }
        },
        "template": {
         "data": {
          "bar": [
           {
            "error_x": {
             "color": "#2a3f5f"
            },
            "error_y": {
             "color": "#2a3f5f"
            },
            "marker": {
             "line": {
              "color": "#E5ECF6",
              "width": 0.5
             },
             "pattern": {
              "fillmode": "overlay",
              "size": 10,
              "solidity": 0.2
             }
            },
            "type": "bar"
           }
          ],
          "barpolar": [
           {
            "marker": {
             "line": {
              "color": "#E5ECF6",
              "width": 0.5
             },
             "pattern": {
              "fillmode": "overlay",
              "size": 10,
              "solidity": 0.2
             }
            },
            "type": "barpolar"
           }
          ],
          "carpet": [
           {
            "aaxis": {
             "endlinecolor": "#2a3f5f",
             "gridcolor": "white",
             "linecolor": "white",
             "minorgridcolor": "white",
             "startlinecolor": "#2a3f5f"
            },
            "baxis": {
             "endlinecolor": "#2a3f5f",
             "gridcolor": "white",
             "linecolor": "white",
             "minorgridcolor": "white",
             "startlinecolor": "#2a3f5f"
            },
            "type": "carpet"
           }
          ],
          "choropleth": [
           {
            "colorbar": {
             "outlinewidth": 0,
             "ticks": ""
            },
            "type": "choropleth"
           }
          ],
          "contour": [
           {
            "colorbar": {
             "outlinewidth": 0,
             "ticks": ""
            },
            "colorscale": [
             [
              0,
              "#0d0887"
             ],
             [
              0.1111111111111111,
              "#46039f"
             ],
             [
              0.2222222222222222,
              "#7201a8"
             ],
             [
              0.3333333333333333,
              "#9c179e"
             ],
             [
              0.4444444444444444,
              "#bd3786"
             ],
             [
              0.5555555555555556,
              "#d8576b"
             ],
             [
              0.6666666666666666,
              "#ed7953"
             ],
             [
              0.7777777777777778,
              "#fb9f3a"
             ],
             [
              0.8888888888888888,
              "#fdca26"
             ],
             [
              1,
              "#f0f921"
             ]
            ],
            "type": "contour"
           }
          ],
          "contourcarpet": [
           {
            "colorbar": {
             "outlinewidth": 0,
             "ticks": ""
            },
            "type": "contourcarpet"
           }
          ],
          "heatmap": [
           {
            "colorbar": {
             "outlinewidth": 0,
             "ticks": ""
            },
            "colorscale": [
             [
              0,
              "#0d0887"
             ],
             [
              0.1111111111111111,
              "#46039f"
             ],
             [
              0.2222222222222222,
              "#7201a8"
             ],
             [
              0.3333333333333333,
              "#9c179e"
             ],
             [
              0.4444444444444444,
              "#bd3786"
             ],
             [
              0.5555555555555556,
              "#d8576b"
             ],
             [
              0.6666666666666666,
              "#ed7953"
             ],
             [
              0.7777777777777778,
              "#fb9f3a"
             ],
             [
              0.8888888888888888,
              "#fdca26"
             ],
             [
              1,
              "#f0f921"
             ]
            ],
            "type": "heatmap"
           }
          ],
          "heatmapgl": [
           {
            "colorbar": {
             "outlinewidth": 0,
             "ticks": ""
            },
            "colorscale": [
             [
              0,
              "#0d0887"
             ],
             [
              0.1111111111111111,
              "#46039f"
             ],
             [
              0.2222222222222222,
              "#7201a8"
             ],
             [
              0.3333333333333333,
              "#9c179e"
             ],
             [
              0.4444444444444444,
              "#bd3786"
             ],
             [
              0.5555555555555556,
              "#d8576b"
             ],
             [
              0.6666666666666666,
              "#ed7953"
             ],
             [
              0.7777777777777778,
              "#fb9f3a"
             ],
             [
              0.8888888888888888,
              "#fdca26"
             ],
             [
              1,
              "#f0f921"
             ]
            ],
            "type": "heatmapgl"
           }
          ],
          "histogram": [
           {
            "marker": {
             "pattern": {
              "fillmode": "overlay",
              "size": 10,
              "solidity": 0.2
             }
            },
            "type": "histogram"
           }
          ],
          "histogram2d": [
           {
            "colorbar": {
             "outlinewidth": 0,
             "ticks": ""
            },
            "colorscale": [
             [
              0,
              "#0d0887"
             ],
             [
              0.1111111111111111,
              "#46039f"
             ],
             [
              0.2222222222222222,
              "#7201a8"
             ],
             [
              0.3333333333333333,
              "#9c179e"
             ],
             [
              0.4444444444444444,
              "#bd3786"
             ],
             [
              0.5555555555555556,
              "#d8576b"
             ],
             [
              0.6666666666666666,
              "#ed7953"
             ],
             [
              0.7777777777777778,
              "#fb9f3a"
             ],
             [
              0.8888888888888888,
              "#fdca26"
             ],
             [
              1,
              "#f0f921"
             ]
            ],
            "type": "histogram2d"
           }
          ],
          "histogram2dcontour": [
           {
            "colorbar": {
             "outlinewidth": 0,
             "ticks": ""
            },
            "colorscale": [
             [
              0,
              "#0d0887"
             ],
             [
              0.1111111111111111,
              "#46039f"
             ],
             [
              0.2222222222222222,
              "#7201a8"
             ],
             [
              0.3333333333333333,
              "#9c179e"
             ],
             [
              0.4444444444444444,
              "#bd3786"
             ],
             [
              0.5555555555555556,
              "#d8576b"
             ],
             [
              0.6666666666666666,
              "#ed7953"
             ],
             [
              0.7777777777777778,
              "#fb9f3a"
             ],
             [
              0.8888888888888888,
              "#fdca26"
             ],
             [
              1,
              "#f0f921"
             ]
            ],
            "type": "histogram2dcontour"
           }
          ],
          "mesh3d": [
           {
            "colorbar": {
             "outlinewidth": 0,
             "ticks": ""
            },
            "type": "mesh3d"
           }
          ],
          "parcoords": [
           {
            "line": {
             "colorbar": {
              "outlinewidth": 0,
              "ticks": ""
             }
            },
            "type": "parcoords"
           }
          ],
          "pie": [
           {
            "automargin": true,
            "type": "pie"
           }
          ],
          "scatter": [
           {
            "marker": {
             "colorbar": {
              "outlinewidth": 0,
              "ticks": ""
             }
            },
            "type": "scatter"
           }
          ],
          "scatter3d": [
           {
            "line": {
             "colorbar": {
              "outlinewidth": 0,
              "ticks": ""
             }
            },
            "marker": {
             "colorbar": {
              "outlinewidth": 0,
              "ticks": ""
             }
            },
            "type": "scatter3d"
           }
          ],
          "scattercarpet": [
           {
            "marker": {
             "colorbar": {
              "outlinewidth": 0,
              "ticks": ""
             }
            },
            "type": "scattercarpet"
           }
          ],
          "scattergeo": [
           {
            "marker": {
             "colorbar": {
              "outlinewidth": 0,
              "ticks": ""
             }
            },
            "type": "scattergeo"
           }
          ],
          "scattergl": [
           {
            "marker": {
             "colorbar": {
              "outlinewidth": 0,
              "ticks": ""
             }
            },
            "type": "scattergl"
           }
          ],
          "scattermapbox": [
           {
            "marker": {
             "colorbar": {
              "outlinewidth": 0,
              "ticks": ""
             }
            },
            "type": "scattermapbox"
           }
          ],
          "scatterpolar": [
           {
            "marker": {
             "colorbar": {
              "outlinewidth": 0,
              "ticks": ""
             }
            },
            "type": "scatterpolar"
           }
          ],
          "scatterpolargl": [
           {
            "marker": {
             "colorbar": {
              "outlinewidth": 0,
              "ticks": ""
             }
            },
            "type": "scatterpolargl"
           }
          ],
          "scatterternary": [
           {
            "marker": {
             "colorbar": {
              "outlinewidth": 0,
              "ticks": ""
             }
            },
            "type": "scatterternary"
           }
          ],
          "surface": [
           {
            "colorbar": {
             "outlinewidth": 0,
             "ticks": ""
            },
            "colorscale": [
             [
              0,
              "#0d0887"
             ],
             [
              0.1111111111111111,
              "#46039f"
             ],
             [
              0.2222222222222222,
              "#7201a8"
             ],
             [
              0.3333333333333333,
              "#9c179e"
             ],
             [
              0.4444444444444444,
              "#bd3786"
             ],
             [
              0.5555555555555556,
              "#d8576b"
             ],
             [
              0.6666666666666666,
              "#ed7953"
             ],
             [
              0.7777777777777778,
              "#fb9f3a"
             ],
             [
              0.8888888888888888,
              "#fdca26"
             ],
             [
              1,
              "#f0f921"
             ]
            ],
            "type": "surface"
           }
          ],
          "table": [
           {
            "cells": {
             "fill": {
              "color": "#EBF0F8"
             },
             "line": {
              "color": "white"
             }
            },
            "header": {
             "fill": {
              "color": "#C8D4E3"
             },
             "line": {
              "color": "white"
             }
            },
            "type": "table"
           }
          ]
         },
         "layout": {
          "annotationdefaults": {
           "arrowcolor": "#2a3f5f",
           "arrowhead": 0,
           "arrowwidth": 1
          },
          "autotypenumbers": "strict",
          "coloraxis": {
           "colorbar": {
            "outlinewidth": 0,
            "ticks": ""
           }
          },
          "colorscale": {
           "diverging": [
            [
             0,
             "#8e0152"
            ],
            [
             0.1,
             "#c51b7d"
            ],
            [
             0.2,
             "#de77ae"
            ],
            [
             0.3,
             "#f1b6da"
            ],
            [
             0.4,
             "#fde0ef"
            ],
            [
             0.5,
             "#f7f7f7"
            ],
            [
             0.6,
             "#e6f5d0"
            ],
            [
             0.7,
             "#b8e186"
            ],
            [
             0.8,
             "#7fbc41"
            ],
            [
             0.9,
             "#4d9221"
            ],
            [
             1,
             "#276419"
            ]
           ],
           "sequential": [
            [
             0,
             "#0d0887"
            ],
            [
             0.1111111111111111,
             "#46039f"
            ],
            [
             0.2222222222222222,
             "#7201a8"
            ],
            [
             0.3333333333333333,
             "#9c179e"
            ],
            [
             0.4444444444444444,
             "#bd3786"
            ],
            [
             0.5555555555555556,
             "#d8576b"
            ],
            [
             0.6666666666666666,
             "#ed7953"
            ],
            [
             0.7777777777777778,
             "#fb9f3a"
            ],
            [
             0.8888888888888888,
             "#fdca26"
            ],
            [
             1,
             "#f0f921"
            ]
           ],
           "sequentialminus": [
            [
             0,
             "#0d0887"
            ],
            [
             0.1111111111111111,
             "#46039f"
            ],
            [
             0.2222222222222222,
             "#7201a8"
            ],
            [
             0.3333333333333333,
             "#9c179e"
            ],
            [
             0.4444444444444444,
             "#bd3786"
            ],
            [
             0.5555555555555556,
             "#d8576b"
            ],
            [
             0.6666666666666666,
             "#ed7953"
            ],
            [
             0.7777777777777778,
             "#fb9f3a"
            ],
            [
             0.8888888888888888,
             "#fdca26"
            ],
            [
             1,
             "#f0f921"
            ]
           ]
          },
          "colorway": [
           "#636efa",
           "#EF553B",
           "#00cc96",
           "#ab63fa",
           "#FFA15A",
           "#19d3f3",
           "#FF6692",
           "#B6E880",
           "#FF97FF",
           "#FECB52"
          ],
          "font": {
           "color": "#2a3f5f"
          },
          "geo": {
           "bgcolor": "white",
           "lakecolor": "white",
           "landcolor": "#E5ECF6",
           "showlakes": true,
           "showland": true,
           "subunitcolor": "white"
          },
          "hoverlabel": {
           "align": "left"
          },
          "hovermode": "closest",
          "mapbox": {
           "style": "light"
          },
          "paper_bgcolor": "white",
          "plot_bgcolor": "#E5ECF6",
          "polar": {
           "angularaxis": {
            "gridcolor": "white",
            "linecolor": "white",
            "ticks": ""
           },
           "bgcolor": "#E5ECF6",
           "radialaxis": {
            "gridcolor": "white",
            "linecolor": "white",
            "ticks": ""
           }
          },
          "scene": {
           "xaxis": {
            "backgroundcolor": "#E5ECF6",
            "gridcolor": "white",
            "gridwidth": 2,
            "linecolor": "white",
            "showbackground": true,
            "ticks": "",
            "zerolinecolor": "white"
           },
           "yaxis": {
            "backgroundcolor": "#E5ECF6",
            "gridcolor": "white",
            "gridwidth": 2,
            "linecolor": "white",
            "showbackground": true,
            "ticks": "",
            "zerolinecolor": "white"
           },
           "zaxis": {
            "backgroundcolor": "#E5ECF6",
            "gridcolor": "white",
            "gridwidth": 2,
            "linecolor": "white",
            "showbackground": true,
            "ticks": "",
            "zerolinecolor": "white"
           }
          },
          "shapedefaults": {
           "line": {
            "color": "#2a3f5f"
           }
          },
          "ternary": {
           "aaxis": {
            "gridcolor": "white",
            "linecolor": "white",
            "ticks": ""
           },
           "baxis": {
            "gridcolor": "white",
            "linecolor": "white",
            "ticks": ""
           },
           "bgcolor": "#E5ECF6",
           "caxis": {
            "gridcolor": "white",
            "linecolor": "white",
            "ticks": ""
           }
          },
          "title": {
           "x": 0.05
          },
          "xaxis": {
           "automargin": true,
           "gridcolor": "white",
           "linecolor": "white",
           "ticks": "",
           "title": {
            "standoff": 15
           },
           "zerolinecolor": "white",
           "zerolinewidth": 2
          },
          "yaxis": {
           "automargin": true,
           "gridcolor": "white",
           "linecolor": "white",
           "ticks": "",
           "title": {
            "standoff": 15
           },
           "zerolinecolor": "white",
           "zerolinewidth": 2
          }
         }
        },
        "title": {
         "text": "Воронка событий",
         "x": 0.6
        },
        "xaxis": {
         "title": {
          "text": "Количество уникальных пользователей"
         }
        },
        "yaxis": {
         "title": {
          "text": "Этапы воронки"
         }
        }
       }
      },
      "text/html": [
       "<div>                            <div id=\"d1b6408e-c2f5-4d25-9c71-71f2e3f70ac2\" class=\"plotly-graph-div\" style=\"height:525px; width:100%;\"></div>            <script type=\"text/javascript\">                require([\"plotly\"], function(Plotly) {                    window.PLOTLYENV=window.PLOTLYENV || {};                                    if (document.getElementById(\"d1b6408e-c2f5-4d25-9c71-71f2e3f70ac2\")) {                    Plotly.newPlot(                        \"d1b6408e-c2f5-4d25-9c71-71f2e3f70ac2\",                        [{\"x\":[2999,1868,895,924],\"y\":[\"\\u0410\\u0432\\u0442\\u043e\\u0440\\u0438\\u0437\\u0430\\u0446\\u0438\\u044f\",\"\\u041f\\u0440\\u043e\\u0441\\u043c\\u043e\\u0442\\u0440 \\u0442\\u043e\\u0432\\u0430\\u0440\\u0430\",\"\\u041f\\u0440\\u043e\\u0441\\u043c\\u043e\\u0442\\u0440 \\u043a\\u043e\\u0440\\u0437\\u0438\\u043d\\u044b\",\"\\u041f\\u043e\\u043a\\u0443\\u043f\\u043a\\u0430\"],\"type\":\"funnel\"}],                        {\"template\":{\"data\":{\"bar\":[{\"error_x\":{\"color\":\"#2a3f5f\"},\"error_y\":{\"color\":\"#2a3f5f\"},\"marker\":{\"line\":{\"color\":\"#E5ECF6\",\"width\":0.5},\"pattern\":{\"fillmode\":\"overlay\",\"size\":10,\"solidity\":0.2}},\"type\":\"bar\"}],\"barpolar\":[{\"marker\":{\"line\":{\"color\":\"#E5ECF6\",\"width\":0.5},\"pattern\":{\"fillmode\":\"overlay\",\"size\":10,\"solidity\":0.2}},\"type\":\"barpolar\"}],\"carpet\":[{\"aaxis\":{\"endlinecolor\":\"#2a3f5f\",\"gridcolor\":\"white\",\"linecolor\":\"white\",\"minorgridcolor\":\"white\",\"startlinecolor\":\"#2a3f5f\"},\"baxis\":{\"endlinecolor\":\"#2a3f5f\",\"gridcolor\":\"white\",\"linecolor\":\"white\",\"minorgridcolor\":\"white\",\"startlinecolor\":\"#2a3f5f\"},\"type\":\"carpet\"}],\"choropleth\":[{\"colorbar\":{\"outlinewidth\":0,\"ticks\":\"\"},\"type\":\"choropleth\"}],\"contour\":[{\"colorbar\":{\"outlinewidth\":0,\"ticks\":\"\"},\"colorscale\":[[0.0,\"#0d0887\"],[0.1111111111111111,\"#46039f\"],[0.2222222222222222,\"#7201a8\"],[0.3333333333333333,\"#9c179e\"],[0.4444444444444444,\"#bd3786\"],[0.5555555555555556,\"#d8576b\"],[0.6666666666666666,\"#ed7953\"],[0.7777777777777778,\"#fb9f3a\"],[0.8888888888888888,\"#fdca26\"],[1.0,\"#f0f921\"]],\"type\":\"contour\"}],\"contourcarpet\":[{\"colorbar\":{\"outlinewidth\":0,\"ticks\":\"\"},\"type\":\"contourcarpet\"}],\"heatmap\":[{\"colorbar\":{\"outlinewidth\":0,\"ticks\":\"\"},\"colorscale\":[[0.0,\"#0d0887\"],[0.1111111111111111,\"#46039f\"],[0.2222222222222222,\"#7201a8\"],[0.3333333333333333,\"#9c179e\"],[0.4444444444444444,\"#bd3786\"],[0.5555555555555556,\"#d8576b\"],[0.6666666666666666,\"#ed7953\"],[0.7777777777777778,\"#fb9f3a\"],[0.8888888888888888,\"#fdca26\"],[1.0,\"#f0f921\"]],\"type\":\"heatmap\"}],\"heatmapgl\":[{\"colorbar\":{\"outlinewidth\":0,\"ticks\":\"\"},\"colorscale\":[[0.0,\"#0d0887\"],[0.1111111111111111,\"#46039f\"],[0.2222222222222222,\"#7201a8\"],[0.3333333333333333,\"#9c179e\"],[0.4444444444444444,\"#bd3786\"],[0.5555555555555556,\"#d8576b\"],[0.6666666666666666,\"#ed7953\"],[0.7777777777777778,\"#fb9f3a\"],[0.8888888888888888,\"#fdca26\"],[1.0,\"#f0f921\"]],\"type\":\"heatmapgl\"}],\"histogram\":[{\"marker\":{\"pattern\":{\"fillmode\":\"overlay\",\"size\":10,\"solidity\":0.2}},\"type\":\"histogram\"}],\"histogram2d\":[{\"colorbar\":{\"outlinewidth\":0,\"ticks\":\"\"},\"colorscale\":[[0.0,\"#0d0887\"],[0.1111111111111111,\"#46039f\"],[0.2222222222222222,\"#7201a8\"],[0.3333333333333333,\"#9c179e\"],[0.4444444444444444,\"#bd3786\"],[0.5555555555555556,\"#d8576b\"],[0.6666666666666666,\"#ed7953\"],[0.7777777777777778,\"#fb9f3a\"],[0.8888888888888888,\"#fdca26\"],[1.0,\"#f0f921\"]],\"type\":\"histogram2d\"}],\"histogram2dcontour\":[{\"colorbar\":{\"outlinewidth\":0,\"ticks\":\"\"},\"colorscale\":[[0.0,\"#0d0887\"],[0.1111111111111111,\"#46039f\"],[0.2222222222222222,\"#7201a8\"],[0.3333333333333333,\"#9c179e\"],[0.4444444444444444,\"#bd3786\"],[0.5555555555555556,\"#d8576b\"],[0.6666666666666666,\"#ed7953\"],[0.7777777777777778,\"#fb9f3a\"],[0.8888888888888888,\"#fdca26\"],[1.0,\"#f0f921\"]],\"type\":\"histogram2dcontour\"}],\"mesh3d\":[{\"colorbar\":{\"outlinewidth\":0,\"ticks\":\"\"},\"type\":\"mesh3d\"}],\"parcoords\":[{\"line\":{\"colorbar\":{\"outlinewidth\":0,\"ticks\":\"\"}},\"type\":\"parcoords\"}],\"pie\":[{\"automargin\":true,\"type\":\"pie\"}],\"scatter\":[{\"marker\":{\"colorbar\":{\"outlinewidth\":0,\"ticks\":\"\"}},\"type\":\"scatter\"}],\"scatter3d\":[{\"line\":{\"colorbar\":{\"outlinewidth\":0,\"ticks\":\"\"}},\"marker\":{\"colorbar\":{\"outlinewidth\":0,\"ticks\":\"\"}},\"type\":\"scatter3d\"}],\"scattercarpet\":[{\"marker\":{\"colorbar\":{\"outlinewidth\":0,\"ticks\":\"\"}},\"type\":\"scattercarpet\"}],\"scattergeo\":[{\"marker\":{\"colorbar\":{\"outlinewidth\":0,\"ticks\":\"\"}},\"type\":\"scattergeo\"}],\"scattergl\":[{\"marker\":{\"colorbar\":{\"outlinewidth\":0,\"ticks\":\"\"}},\"type\":\"scattergl\"}],\"scattermapbox\":[{\"marker\":{\"colorbar\":{\"outlinewidth\":0,\"ticks\":\"\"}},\"type\":\"scattermapbox\"}],\"scatterpolar\":[{\"marker\":{\"colorbar\":{\"outlinewidth\":0,\"ticks\":\"\"}},\"type\":\"scatterpolar\"}],\"scatterpolargl\":[{\"marker\":{\"colorbar\":{\"outlinewidth\":0,\"ticks\":\"\"}},\"type\":\"scatterpolargl\"}],\"scatterternary\":[{\"marker\":{\"colorbar\":{\"outlinewidth\":0,\"ticks\":\"\"}},\"type\":\"scatterternary\"}],\"surface\":[{\"colorbar\":{\"outlinewidth\":0,\"ticks\":\"\"},\"colorscale\":[[0.0,\"#0d0887\"],[0.1111111111111111,\"#46039f\"],[0.2222222222222222,\"#7201a8\"],[0.3333333333333333,\"#9c179e\"],[0.4444444444444444,\"#bd3786\"],[0.5555555555555556,\"#d8576b\"],[0.6666666666666666,\"#ed7953\"],[0.7777777777777778,\"#fb9f3a\"],[0.8888888888888888,\"#fdca26\"],[1.0,\"#f0f921\"]],\"type\":\"surface\"}],\"table\":[{\"cells\":{\"fill\":{\"color\":\"#EBF0F8\"},\"line\":{\"color\":\"white\"}},\"header\":{\"fill\":{\"color\":\"#C8D4E3\"},\"line\":{\"color\":\"white\"}},\"type\":\"table\"}]},\"layout\":{\"annotationdefaults\":{\"arrowcolor\":\"#2a3f5f\",\"arrowhead\":0,\"arrowwidth\":1},\"autotypenumbers\":\"strict\",\"coloraxis\":{\"colorbar\":{\"outlinewidth\":0,\"ticks\":\"\"}},\"colorscale\":{\"diverging\":[[0,\"#8e0152\"],[0.1,\"#c51b7d\"],[0.2,\"#de77ae\"],[0.3,\"#f1b6da\"],[0.4,\"#fde0ef\"],[0.5,\"#f7f7f7\"],[0.6,\"#e6f5d0\"],[0.7,\"#b8e186\"],[0.8,\"#7fbc41\"],[0.9,\"#4d9221\"],[1,\"#276419\"]],\"sequential\":[[0.0,\"#0d0887\"],[0.1111111111111111,\"#46039f\"],[0.2222222222222222,\"#7201a8\"],[0.3333333333333333,\"#9c179e\"],[0.4444444444444444,\"#bd3786\"],[0.5555555555555556,\"#d8576b\"],[0.6666666666666666,\"#ed7953\"],[0.7777777777777778,\"#fb9f3a\"],[0.8888888888888888,\"#fdca26\"],[1.0,\"#f0f921\"]],\"sequentialminus\":[[0.0,\"#0d0887\"],[0.1111111111111111,\"#46039f\"],[0.2222222222222222,\"#7201a8\"],[0.3333333333333333,\"#9c179e\"],[0.4444444444444444,\"#bd3786\"],[0.5555555555555556,\"#d8576b\"],[0.6666666666666666,\"#ed7953\"],[0.7777777777777778,\"#fb9f3a\"],[0.8888888888888888,\"#fdca26\"],[1.0,\"#f0f921\"]]},\"colorway\":[\"#636efa\",\"#EF553B\",\"#00cc96\",\"#ab63fa\",\"#FFA15A\",\"#19d3f3\",\"#FF6692\",\"#B6E880\",\"#FF97FF\",\"#FECB52\"],\"font\":{\"color\":\"#2a3f5f\"},\"geo\":{\"bgcolor\":\"white\",\"lakecolor\":\"white\",\"landcolor\":\"#E5ECF6\",\"showlakes\":true,\"showland\":true,\"subunitcolor\":\"white\"},\"hoverlabel\":{\"align\":\"left\"},\"hovermode\":\"closest\",\"mapbox\":{\"style\":\"light\"},\"paper_bgcolor\":\"white\",\"plot_bgcolor\":\"#E5ECF6\",\"polar\":{\"angularaxis\":{\"gridcolor\":\"white\",\"linecolor\":\"white\",\"ticks\":\"\"},\"bgcolor\":\"#E5ECF6\",\"radialaxis\":{\"gridcolor\":\"white\",\"linecolor\":\"white\",\"ticks\":\"\"}},\"scene\":{\"xaxis\":{\"backgroundcolor\":\"#E5ECF6\",\"gridcolor\":\"white\",\"gridwidth\":2,\"linecolor\":\"white\",\"showbackground\":true,\"ticks\":\"\",\"zerolinecolor\":\"white\"},\"yaxis\":{\"backgroundcolor\":\"#E5ECF6\",\"gridcolor\":\"white\",\"gridwidth\":2,\"linecolor\":\"white\",\"showbackground\":true,\"ticks\":\"\",\"zerolinecolor\":\"white\"},\"zaxis\":{\"backgroundcolor\":\"#E5ECF6\",\"gridcolor\":\"white\",\"gridwidth\":2,\"linecolor\":\"white\",\"showbackground\":true,\"ticks\":\"\",\"zerolinecolor\":\"white\"}},\"shapedefaults\":{\"line\":{\"color\":\"#2a3f5f\"}},\"ternary\":{\"aaxis\":{\"gridcolor\":\"white\",\"linecolor\":\"white\",\"ticks\":\"\"},\"baxis\":{\"gridcolor\":\"white\",\"linecolor\":\"white\",\"ticks\":\"\"},\"bgcolor\":\"#E5ECF6\",\"caxis\":{\"gridcolor\":\"white\",\"linecolor\":\"white\",\"ticks\":\"\"}},\"title\":{\"x\":0.05},\"xaxis\":{\"automargin\":true,\"gridcolor\":\"white\",\"linecolor\":\"white\",\"ticks\":\"\",\"title\":{\"standoff\":15},\"zerolinecolor\":\"white\",\"zerolinewidth\":2},\"yaxis\":{\"automargin\":true,\"gridcolor\":\"white\",\"linecolor\":\"white\",\"ticks\":\"\",\"title\":{\"standoff\":15},\"zerolinecolor\":\"white\",\"zerolinewidth\":2}}},\"title\":{\"text\":\"\\u0412\\u043e\\u0440\\u043e\\u043d\\u043a\\u0430 \\u0441\\u043e\\u0431\\u044b\\u0442\\u0438\\u0439\",\"x\":0.6},\"xaxis\":{\"title\":{\"text\":\"\\u041a\\u043e\\u043b\\u0438\\u0447\\u0435\\u0441\\u0442\\u0432\\u043e \\u0443\\u043d\\u0438\\u043a\\u0430\\u043b\\u044c\\u043d\\u044b\\u0445 \\u043f\\u043e\\u043b\\u044c\\u0437\\u043e\\u0432\\u0430\\u0442\\u0435\\u043b\\u0435\\u0439\"}},\"yaxis\":{\"title\":{\"text\":\"\\u042d\\u0442\\u0430\\u043f\\u044b \\u0432\\u043e\\u0440\\u043e\\u043d\\u043a\\u0438\"}},\"legend\":{\"title\":{\"text\":\"\\u041a\\u043e\\u043b\\u0438\\u0447\\u0435\\u0441\\u0442\\u0432\\u043e \\u043f\\u043e\\u043b\\u044c\\u0437\\u043e\\u0432\\u0430\\u0442\\u0435\\u043b\\u0435\\u0439\"}}},                        {\"responsive\": true}                    ).then(function(){\n",
       "                            \n",
       "var gd = document.getElementById('d1b6408e-c2f5-4d25-9c71-71f2e3f70ac2');\n",
       "var x = new MutationObserver(function (mutations, observer) {{\n",
       "        var display = window.getComputedStyle(gd).display;\n",
       "        if (!display || display === 'none') {{\n",
       "            console.log([gd, 'removed!']);\n",
       "            Plotly.purge(gd);\n",
       "            observer.disconnect();\n",
       "        }}\n",
       "}});\n",
       "\n",
       "// Listen for the removal of the full notebook cells\n",
       "var notebookContainer = gd.closest('#notebook-container');\n",
       "if (notebookContainer) {{\n",
       "    x.observe(notebookContainer, {childList: true});\n",
       "}}\n",
       "\n",
       "// Listen for the clearing of the current output cell\n",
       "var outputEl = gd.closest('.output');\n",
       "if (outputEl) {{\n",
       "    x.observe(outputEl, {childList: true});\n",
       "}}\n",
       "\n",
       "                        })                };                });            </script>        </div>"
      ]
     },
     "metadata": {},
     "output_type": "display_data"
    }
   ],
   "source": [
    "# Список этапов воронки\n",
    "stages = [\n",
    "    'Авторизация',\n",
    "    'Просмотр товара',\n",
    "    'Просмотр корзины',\n",
    "    'Покупка'\n",
    "]\n",
    "\n",
    "# Использование списка в качестве y-значений графика\n",
    "fig = go.Figure(\n",
    "      go.Funnel(\n",
    "        y=stages,\n",
    "        x=funnel_logs['total_users']))\n",
    "fig.update_layout(\n",
    "    title='Воронка событий',\n",
    "    title_x=0.6,\n",
    "    xaxis_title='Количество уникальных пользователей',\n",
    "    yaxis_title='Этапы воронки',\n",
    "    legend_title='Количество пользователей'\n",
    ")"
   ]
  },
  {
   "cell_type": "markdown",
   "id": "392e65f8",
   "metadata": {
    "id": "392e65f8"
   },
   "source": [
    "##### Краткий вывод:  \n",
    "\n",
    "Мы рассчитали конверсию пользователей от этапа регистрации до покупки, включая просмотр корзины, и построили визуализацию воронки событий.\n",
    "\n",
    "Мы обнаружили, что 29,8%  пользователей дошли до корзины, и из них 30,8% совершили покупку. До этапа просмотра товара дошли 62,3% зарегистрированных пользователей, а 36,8% уже покинули сайт.\n",
    "\n",
    "Всего событие совершили 2999 пользователей: 1868 просмотрели товары, а 924\tкупили их. Разница между количеством добавлений в корзину (895) и покупок (924) существенна. Возможно, пользователи приобретали товары оффлайн или заказывали их по телефону, или же сайт предоставлял возможность прямого оформления, минуя корзину.\n",
    "\n",
    "Кроме того, мы рекомендуем разработчикам проверить сайт на этапе оформления покупки и добавления в корзину, а отделу маркетинга поработать над каким-либо предложением или всплывающим окном, чтобы повысить заинтересованность пользователей и перевести их на следующий этап."
   ]
  },
  {
   "cell_type": "code",
   "execution_count": 62,
   "id": "MapbxCh64gpL",
   "metadata": {
    "colab": {
     "base_uri": "https://localhost:8080/",
     "height": 301
    },
    "id": "MapbxCh64gpL",
    "outputId": "2bdab48d-6ce0-4813-f012-051c353e2cbd"
   },
   "outputs": [
    {
     "data": {
      "text/html": [
       "<div>\n",
       "<style scoped>\n",
       "    .dataframe tbody tr th:only-of-type {\n",
       "        vertical-align: middle;\n",
       "    }\n",
       "\n",
       "    .dataframe tbody tr th {\n",
       "        vertical-align: top;\n",
       "    }\n",
       "\n",
       "    .dataframe thead th {\n",
       "        text-align: right;\n",
       "    }\n",
       "</style>\n",
       "<table border=\"1\" class=\"dataframe\">\n",
       "  <thead>\n",
       "    <tr style=\"text-align: right;\">\n",
       "      <th></th>\n",
       "      <th>event_name</th>\n",
       "      <th>group</th>\n",
       "      <th>total_users</th>\n",
       "      <th>n</th>\n",
       "    </tr>\n",
       "  </thead>\n",
       "  <tbody>\n",
       "    <tr>\n",
       "      <th>0</th>\n",
       "      <td>login</td>\n",
       "      <td>A</td>\n",
       "      <td>2206</td>\n",
       "      <td>1</td>\n",
       "    </tr>\n",
       "    <tr>\n",
       "      <th>4</th>\n",
       "      <td>product_page</td>\n",
       "      <td>A</td>\n",
       "      <td>1420</td>\n",
       "      <td>2</td>\n",
       "    </tr>\n",
       "    <tr>\n",
       "      <th>2</th>\n",
       "      <td>product_cart</td>\n",
       "      <td>A</td>\n",
       "      <td>670</td>\n",
       "      <td>3</td>\n",
       "    </tr>\n",
       "    <tr>\n",
       "      <th>6</th>\n",
       "      <td>purchase</td>\n",
       "      <td>A</td>\n",
       "      <td>700</td>\n",
       "      <td>4</td>\n",
       "    </tr>\n",
       "    <tr>\n",
       "      <th>1</th>\n",
       "      <td>login</td>\n",
       "      <td>B</td>\n",
       "      <td>793</td>\n",
       "      <td>5</td>\n",
       "    </tr>\n",
       "    <tr>\n",
       "      <th>5</th>\n",
       "      <td>product_page</td>\n",
       "      <td>B</td>\n",
       "      <td>448</td>\n",
       "      <td>6</td>\n",
       "    </tr>\n",
       "    <tr>\n",
       "      <th>7</th>\n",
       "      <td>purchase</td>\n",
       "      <td>B</td>\n",
       "      <td>224</td>\n",
       "      <td>7</td>\n",
       "    </tr>\n",
       "    <tr>\n",
       "      <th>3</th>\n",
       "      <td>product_cart</td>\n",
       "      <td>B</td>\n",
       "      <td>225</td>\n",
       "      <td>8</td>\n",
       "    </tr>\n",
       "  </tbody>\n",
       "</table>\n",
       "</div>"
      ],
      "text/plain": [
       "     event_name group  total_users  n\n",
       "0         login     A         2206  1\n",
       "4  product_page     A         1420  2\n",
       "2  product_cart     A          670  3\n",
       "6      purchase     A          700  4\n",
       "1         login     B          793  5\n",
       "5  product_page     B          448  6\n",
       "7      purchase     B          224  7\n",
       "3  product_cart     B          225  8"
      ]
     },
     "execution_count": 62,
     "metadata": {},
     "output_type": "execute_result"
    }
   ],
   "source": [
    "funnel_gr = (rst.groupby(['event_name','group']).\n",
    "              agg({'user_id': 'nunique'}).\n",
    "              reset_index().\n",
    "              rename(columns={'user_id' : 'total_users'}).\n",
    "              sort_values(by=['group','total_users'], ascending=[True,False]))\n",
    "funnel_gr['n'] = [1, 2, 4, 3,5,6,8,7]\n",
    "funnel_gr = funnel_gr.sort_values(by='n')\n",
    "funnel_gr"
   ]
  },
  {
   "cell_type": "code",
   "execution_count": 63,
   "id": "NkYy2zpT4uq0",
   "metadata": {
    "colab": {
     "base_uri": "https://localhost:8080/",
     "height": 542
    },
    "id": "NkYy2zpT4uq0",
    "outputId": "1ea3da11-fa1e-4b91-c19d-5dc90350205c"
   },
   "outputs": [
    {
     "data": {
      "application/vnd.plotly.v1+json": {
       "config": {
        "plotlyServerURL": "https://plot.ly"
       },
       "data": [
        {
         "name": "A",
         "opacity": 0.6,
         "textinfo": "value+percent previous",
         "textposition": "inside",
         "type": "funnel",
         "x": [
          2206,
          1420,
          670,
          700
         ],
         "y": [
          "Авторизация",
          "Просмотр товара",
          "Просмотр корзины",
          "Покупка"
         ]
        },
        {
         "name": "B",
         "opacity": 0.6,
         "textinfo": "value+percent previous",
         "textposition": "inside",
         "type": "funnel",
         "x": [
          793,
          448,
          224,
          225
         ],
         "y": [
          "Авторизация",
          "Просмотр товара",
          "Просмотр корзины",
          "Покупка"
         ]
        }
       ],
       "layout": {
        "template": {
         "data": {
          "bar": [
           {
            "error_x": {
             "color": "#2a3f5f"
            },
            "error_y": {
             "color": "#2a3f5f"
            },
            "marker": {
             "line": {
              "color": "#E5ECF6",
              "width": 0.5
             },
             "pattern": {
              "fillmode": "overlay",
              "size": 10,
              "solidity": 0.2
             }
            },
            "type": "bar"
           }
          ],
          "barpolar": [
           {
            "marker": {
             "line": {
              "color": "#E5ECF6",
              "width": 0.5
             },
             "pattern": {
              "fillmode": "overlay",
              "size": 10,
              "solidity": 0.2
             }
            },
            "type": "barpolar"
           }
          ],
          "carpet": [
           {
            "aaxis": {
             "endlinecolor": "#2a3f5f",
             "gridcolor": "white",
             "linecolor": "white",
             "minorgridcolor": "white",
             "startlinecolor": "#2a3f5f"
            },
            "baxis": {
             "endlinecolor": "#2a3f5f",
             "gridcolor": "white",
             "linecolor": "white",
             "minorgridcolor": "white",
             "startlinecolor": "#2a3f5f"
            },
            "type": "carpet"
           }
          ],
          "choropleth": [
           {
            "colorbar": {
             "outlinewidth": 0,
             "ticks": ""
            },
            "type": "choropleth"
           }
          ],
          "contour": [
           {
            "colorbar": {
             "outlinewidth": 0,
             "ticks": ""
            },
            "colorscale": [
             [
              0,
              "#0d0887"
             ],
             [
              0.1111111111111111,
              "#46039f"
             ],
             [
              0.2222222222222222,
              "#7201a8"
             ],
             [
              0.3333333333333333,
              "#9c179e"
             ],
             [
              0.4444444444444444,
              "#bd3786"
             ],
             [
              0.5555555555555556,
              "#d8576b"
             ],
             [
              0.6666666666666666,
              "#ed7953"
             ],
             [
              0.7777777777777778,
              "#fb9f3a"
             ],
             [
              0.8888888888888888,
              "#fdca26"
             ],
             [
              1,
              "#f0f921"
             ]
            ],
            "type": "contour"
           }
          ],
          "contourcarpet": [
           {
            "colorbar": {
             "outlinewidth": 0,
             "ticks": ""
            },
            "type": "contourcarpet"
           }
          ],
          "heatmap": [
           {
            "colorbar": {
             "outlinewidth": 0,
             "ticks": ""
            },
            "colorscale": [
             [
              0,
              "#0d0887"
             ],
             [
              0.1111111111111111,
              "#46039f"
             ],
             [
              0.2222222222222222,
              "#7201a8"
             ],
             [
              0.3333333333333333,
              "#9c179e"
             ],
             [
              0.4444444444444444,
              "#bd3786"
             ],
             [
              0.5555555555555556,
              "#d8576b"
             ],
             [
              0.6666666666666666,
              "#ed7953"
             ],
             [
              0.7777777777777778,
              "#fb9f3a"
             ],
             [
              0.8888888888888888,
              "#fdca26"
             ],
             [
              1,
              "#f0f921"
             ]
            ],
            "type": "heatmap"
           }
          ],
          "heatmapgl": [
           {
            "colorbar": {
             "outlinewidth": 0,
             "ticks": ""
            },
            "colorscale": [
             [
              0,
              "#0d0887"
             ],
             [
              0.1111111111111111,
              "#46039f"
             ],
             [
              0.2222222222222222,
              "#7201a8"
             ],
             [
              0.3333333333333333,
              "#9c179e"
             ],
             [
              0.4444444444444444,
              "#bd3786"
             ],
             [
              0.5555555555555556,
              "#d8576b"
             ],
             [
              0.6666666666666666,
              "#ed7953"
             ],
             [
              0.7777777777777778,
              "#fb9f3a"
             ],
             [
              0.8888888888888888,
              "#fdca26"
             ],
             [
              1,
              "#f0f921"
             ]
            ],
            "type": "heatmapgl"
           }
          ],
          "histogram": [
           {
            "marker": {
             "pattern": {
              "fillmode": "overlay",
              "size": 10,
              "solidity": 0.2
             }
            },
            "type": "histogram"
           }
          ],
          "histogram2d": [
           {
            "colorbar": {
             "outlinewidth": 0,
             "ticks": ""
            },
            "colorscale": [
             [
              0,
              "#0d0887"
             ],
             [
              0.1111111111111111,
              "#46039f"
             ],
             [
              0.2222222222222222,
              "#7201a8"
             ],
             [
              0.3333333333333333,
              "#9c179e"
             ],
             [
              0.4444444444444444,
              "#bd3786"
             ],
             [
              0.5555555555555556,
              "#d8576b"
             ],
             [
              0.6666666666666666,
              "#ed7953"
             ],
             [
              0.7777777777777778,
              "#fb9f3a"
             ],
             [
              0.8888888888888888,
              "#fdca26"
             ],
             [
              1,
              "#f0f921"
             ]
            ],
            "type": "histogram2d"
           }
          ],
          "histogram2dcontour": [
           {
            "colorbar": {
             "outlinewidth": 0,
             "ticks": ""
            },
            "colorscale": [
             [
              0,
              "#0d0887"
             ],
             [
              0.1111111111111111,
              "#46039f"
             ],
             [
              0.2222222222222222,
              "#7201a8"
             ],
             [
              0.3333333333333333,
              "#9c179e"
             ],
             [
              0.4444444444444444,
              "#bd3786"
             ],
             [
              0.5555555555555556,
              "#d8576b"
             ],
             [
              0.6666666666666666,
              "#ed7953"
             ],
             [
              0.7777777777777778,
              "#fb9f3a"
             ],
             [
              0.8888888888888888,
              "#fdca26"
             ],
             [
              1,
              "#f0f921"
             ]
            ],
            "type": "histogram2dcontour"
           }
          ],
          "mesh3d": [
           {
            "colorbar": {
             "outlinewidth": 0,
             "ticks": ""
            },
            "type": "mesh3d"
           }
          ],
          "parcoords": [
           {
            "line": {
             "colorbar": {
              "outlinewidth": 0,
              "ticks": ""
             }
            },
            "type": "parcoords"
           }
          ],
          "pie": [
           {
            "automargin": true,
            "type": "pie"
           }
          ],
          "scatter": [
           {
            "marker": {
             "colorbar": {
              "outlinewidth": 0,
              "ticks": ""
             }
            },
            "type": "scatter"
           }
          ],
          "scatter3d": [
           {
            "line": {
             "colorbar": {
              "outlinewidth": 0,
              "ticks": ""
             }
            },
            "marker": {
             "colorbar": {
              "outlinewidth": 0,
              "ticks": ""
             }
            },
            "type": "scatter3d"
           }
          ],
          "scattercarpet": [
           {
            "marker": {
             "colorbar": {
              "outlinewidth": 0,
              "ticks": ""
             }
            },
            "type": "scattercarpet"
           }
          ],
          "scattergeo": [
           {
            "marker": {
             "colorbar": {
              "outlinewidth": 0,
              "ticks": ""
             }
            },
            "type": "scattergeo"
           }
          ],
          "scattergl": [
           {
            "marker": {
             "colorbar": {
              "outlinewidth": 0,
              "ticks": ""
             }
            },
            "type": "scattergl"
           }
          ],
          "scattermapbox": [
           {
            "marker": {
             "colorbar": {
              "outlinewidth": 0,
              "ticks": ""
             }
            },
            "type": "scattermapbox"
           }
          ],
          "scatterpolar": [
           {
            "marker": {
             "colorbar": {
              "outlinewidth": 0,
              "ticks": ""
             }
            },
            "type": "scatterpolar"
           }
          ],
          "scatterpolargl": [
           {
            "marker": {
             "colorbar": {
              "outlinewidth": 0,
              "ticks": ""
             }
            },
            "type": "scatterpolargl"
           }
          ],
          "scatterternary": [
           {
            "marker": {
             "colorbar": {
              "outlinewidth": 0,
              "ticks": ""
             }
            },
            "type": "scatterternary"
           }
          ],
          "surface": [
           {
            "colorbar": {
             "outlinewidth": 0,
             "ticks": ""
            },
            "colorscale": [
             [
              0,
              "#0d0887"
             ],
             [
              0.1111111111111111,
              "#46039f"
             ],
             [
              0.2222222222222222,
              "#7201a8"
             ],
             [
              0.3333333333333333,
              "#9c179e"
             ],
             [
              0.4444444444444444,
              "#bd3786"
             ],
             [
              0.5555555555555556,
              "#d8576b"
             ],
             [
              0.6666666666666666,
              "#ed7953"
             ],
             [
              0.7777777777777778,
              "#fb9f3a"
             ],
             [
              0.8888888888888888,
              "#fdca26"
             ],
             [
              1,
              "#f0f921"
             ]
            ],
            "type": "surface"
           }
          ],
          "table": [
           {
            "cells": {
             "fill": {
              "color": "#EBF0F8"
             },
             "line": {
              "color": "white"
             }
            },
            "header": {
             "fill": {
              "color": "#C8D4E3"
             },
             "line": {
              "color": "white"
             }
            },
            "type": "table"
           }
          ]
         },
         "layout": {
          "annotationdefaults": {
           "arrowcolor": "#2a3f5f",
           "arrowhead": 0,
           "arrowwidth": 1
          },
          "autotypenumbers": "strict",
          "coloraxis": {
           "colorbar": {
            "outlinewidth": 0,
            "ticks": ""
           }
          },
          "colorscale": {
           "diverging": [
            [
             0,
             "#8e0152"
            ],
            [
             0.1,
             "#c51b7d"
            ],
            [
             0.2,
             "#de77ae"
            ],
            [
             0.3,
             "#f1b6da"
            ],
            [
             0.4,
             "#fde0ef"
            ],
            [
             0.5,
             "#f7f7f7"
            ],
            [
             0.6,
             "#e6f5d0"
            ],
            [
             0.7,
             "#b8e186"
            ],
            [
             0.8,
             "#7fbc41"
            ],
            [
             0.9,
             "#4d9221"
            ],
            [
             1,
             "#276419"
            ]
           ],
           "sequential": [
            [
             0,
             "#0d0887"
            ],
            [
             0.1111111111111111,
             "#46039f"
            ],
            [
             0.2222222222222222,
             "#7201a8"
            ],
            [
             0.3333333333333333,
             "#9c179e"
            ],
            [
             0.4444444444444444,
             "#bd3786"
            ],
            [
             0.5555555555555556,
             "#d8576b"
            ],
            [
             0.6666666666666666,
             "#ed7953"
            ],
            [
             0.7777777777777778,
             "#fb9f3a"
            ],
            [
             0.8888888888888888,
             "#fdca26"
            ],
            [
             1,
             "#f0f921"
            ]
           ],
           "sequentialminus": [
            [
             0,
             "#0d0887"
            ],
            [
             0.1111111111111111,
             "#46039f"
            ],
            [
             0.2222222222222222,
             "#7201a8"
            ],
            [
             0.3333333333333333,
             "#9c179e"
            ],
            [
             0.4444444444444444,
             "#bd3786"
            ],
            [
             0.5555555555555556,
             "#d8576b"
            ],
            [
             0.6666666666666666,
             "#ed7953"
            ],
            [
             0.7777777777777778,
             "#fb9f3a"
            ],
            [
             0.8888888888888888,
             "#fdca26"
            ],
            [
             1,
             "#f0f921"
            ]
           ]
          },
          "colorway": [
           "#636efa",
           "#EF553B",
           "#00cc96",
           "#ab63fa",
           "#FFA15A",
           "#19d3f3",
           "#FF6692",
           "#B6E880",
           "#FF97FF",
           "#FECB52"
          ],
          "font": {
           "color": "#2a3f5f"
          },
          "geo": {
           "bgcolor": "white",
           "lakecolor": "white",
           "landcolor": "#E5ECF6",
           "showlakes": true,
           "showland": true,
           "subunitcolor": "white"
          },
          "hoverlabel": {
           "align": "left"
          },
          "hovermode": "closest",
          "mapbox": {
           "style": "light"
          },
          "paper_bgcolor": "white",
          "plot_bgcolor": "#E5ECF6",
          "polar": {
           "angularaxis": {
            "gridcolor": "white",
            "linecolor": "white",
            "ticks": ""
           },
           "bgcolor": "#E5ECF6",
           "radialaxis": {
            "gridcolor": "white",
            "linecolor": "white",
            "ticks": ""
           }
          },
          "scene": {
           "xaxis": {
            "backgroundcolor": "#E5ECF6",
            "gridcolor": "white",
            "gridwidth": 2,
            "linecolor": "white",
            "showbackground": true,
            "ticks": "",
            "zerolinecolor": "white"
           },
           "yaxis": {
            "backgroundcolor": "#E5ECF6",
            "gridcolor": "white",
            "gridwidth": 2,
            "linecolor": "white",
            "showbackground": true,
            "ticks": "",
            "zerolinecolor": "white"
           },
           "zaxis": {
            "backgroundcolor": "#E5ECF6",
            "gridcolor": "white",
            "gridwidth": 2,
            "linecolor": "white",
            "showbackground": true,
            "ticks": "",
            "zerolinecolor": "white"
           }
          },
          "shapedefaults": {
           "line": {
            "color": "#2a3f5f"
           }
          },
          "ternary": {
           "aaxis": {
            "gridcolor": "white",
            "linecolor": "white",
            "ticks": ""
           },
           "baxis": {
            "gridcolor": "white",
            "linecolor": "white",
            "ticks": ""
           },
           "bgcolor": "#E5ECF6",
           "caxis": {
            "gridcolor": "white",
            "linecolor": "white",
            "ticks": ""
           }
          },
          "title": {
           "x": 0.05
          },
          "xaxis": {
           "automargin": true,
           "gridcolor": "white",
           "linecolor": "white",
           "ticks": "",
           "title": {
            "standoff": 15
           },
           "zerolinecolor": "white",
           "zerolinewidth": 2
          },
          "yaxis": {
           "automargin": true,
           "gridcolor": "white",
           "linecolor": "white",
           "ticks": "",
           "title": {
            "standoff": 15
           },
           "zerolinecolor": "white",
           "zerolinewidth": 2
          }
         }
        },
        "title": {
         "text": "Воронка событий в разрезе тестовых групп"
        }
       }
      },
      "text/html": [
       "<div>                            <div id=\"63a3d63a-51e8-4381-8a80-214c9d0aa601\" class=\"plotly-graph-div\" style=\"height:525px; width:100%;\"></div>            <script type=\"text/javascript\">                require([\"plotly\"], function(Plotly) {                    window.PLOTLYENV=window.PLOTLYENV || {};                                    if (document.getElementById(\"63a3d63a-51e8-4381-8a80-214c9d0aa601\")) {                    Plotly.newPlot(                        \"63a3d63a-51e8-4381-8a80-214c9d0aa601\",                        [{\"name\":\"A\",\"opacity\":0.6,\"textinfo\":\"value+percent previous\",\"textposition\":\"inside\",\"x\":[2206,1420,670,700],\"y\":[\"\\u0410\\u0432\\u0442\\u043e\\u0440\\u0438\\u0437\\u0430\\u0446\\u0438\\u044f\",\"\\u041f\\u0440\\u043e\\u0441\\u043c\\u043e\\u0442\\u0440 \\u0442\\u043e\\u0432\\u0430\\u0440\\u0430\",\"\\u041f\\u0440\\u043e\\u0441\\u043c\\u043e\\u0442\\u0440 \\u043a\\u043e\\u0440\\u0437\\u0438\\u043d\\u044b\",\"\\u041f\\u043e\\u043a\\u0443\\u043f\\u043a\\u0430\"],\"type\":\"funnel\"},{\"name\":\"B\",\"opacity\":0.6,\"textinfo\":\"value+percent previous\",\"textposition\":\"inside\",\"x\":[793,448,224,225],\"y\":[\"\\u0410\\u0432\\u0442\\u043e\\u0440\\u0438\\u0437\\u0430\\u0446\\u0438\\u044f\",\"\\u041f\\u0440\\u043e\\u0441\\u043c\\u043e\\u0442\\u0440 \\u0442\\u043e\\u0432\\u0430\\u0440\\u0430\",\"\\u041f\\u0440\\u043e\\u0441\\u043c\\u043e\\u0442\\u0440 \\u043a\\u043e\\u0440\\u0437\\u0438\\u043d\\u044b\",\"\\u041f\\u043e\\u043a\\u0443\\u043f\\u043a\\u0430\"],\"type\":\"funnel\"}],                        {\"template\":{\"data\":{\"bar\":[{\"error_x\":{\"color\":\"#2a3f5f\"},\"error_y\":{\"color\":\"#2a3f5f\"},\"marker\":{\"line\":{\"color\":\"#E5ECF6\",\"width\":0.5},\"pattern\":{\"fillmode\":\"overlay\",\"size\":10,\"solidity\":0.2}},\"type\":\"bar\"}],\"barpolar\":[{\"marker\":{\"line\":{\"color\":\"#E5ECF6\",\"width\":0.5},\"pattern\":{\"fillmode\":\"overlay\",\"size\":10,\"solidity\":0.2}},\"type\":\"barpolar\"}],\"carpet\":[{\"aaxis\":{\"endlinecolor\":\"#2a3f5f\",\"gridcolor\":\"white\",\"linecolor\":\"white\",\"minorgridcolor\":\"white\",\"startlinecolor\":\"#2a3f5f\"},\"baxis\":{\"endlinecolor\":\"#2a3f5f\",\"gridcolor\":\"white\",\"linecolor\":\"white\",\"minorgridcolor\":\"white\",\"startlinecolor\":\"#2a3f5f\"},\"type\":\"carpet\"}],\"choropleth\":[{\"colorbar\":{\"outlinewidth\":0,\"ticks\":\"\"},\"type\":\"choropleth\"}],\"contour\":[{\"colorbar\":{\"outlinewidth\":0,\"ticks\":\"\"},\"colorscale\":[[0.0,\"#0d0887\"],[0.1111111111111111,\"#46039f\"],[0.2222222222222222,\"#7201a8\"],[0.3333333333333333,\"#9c179e\"],[0.4444444444444444,\"#bd3786\"],[0.5555555555555556,\"#d8576b\"],[0.6666666666666666,\"#ed7953\"],[0.7777777777777778,\"#fb9f3a\"],[0.8888888888888888,\"#fdca26\"],[1.0,\"#f0f921\"]],\"type\":\"contour\"}],\"contourcarpet\":[{\"colorbar\":{\"outlinewidth\":0,\"ticks\":\"\"},\"type\":\"contourcarpet\"}],\"heatmap\":[{\"colorbar\":{\"outlinewidth\":0,\"ticks\":\"\"},\"colorscale\":[[0.0,\"#0d0887\"],[0.1111111111111111,\"#46039f\"],[0.2222222222222222,\"#7201a8\"],[0.3333333333333333,\"#9c179e\"],[0.4444444444444444,\"#bd3786\"],[0.5555555555555556,\"#d8576b\"],[0.6666666666666666,\"#ed7953\"],[0.7777777777777778,\"#fb9f3a\"],[0.8888888888888888,\"#fdca26\"],[1.0,\"#f0f921\"]],\"type\":\"heatmap\"}],\"heatmapgl\":[{\"colorbar\":{\"outlinewidth\":0,\"ticks\":\"\"},\"colorscale\":[[0.0,\"#0d0887\"],[0.1111111111111111,\"#46039f\"],[0.2222222222222222,\"#7201a8\"],[0.3333333333333333,\"#9c179e\"],[0.4444444444444444,\"#bd3786\"],[0.5555555555555556,\"#d8576b\"],[0.6666666666666666,\"#ed7953\"],[0.7777777777777778,\"#fb9f3a\"],[0.8888888888888888,\"#fdca26\"],[1.0,\"#f0f921\"]],\"type\":\"heatmapgl\"}],\"histogram\":[{\"marker\":{\"pattern\":{\"fillmode\":\"overlay\",\"size\":10,\"solidity\":0.2}},\"type\":\"histogram\"}],\"histogram2d\":[{\"colorbar\":{\"outlinewidth\":0,\"ticks\":\"\"},\"colorscale\":[[0.0,\"#0d0887\"],[0.1111111111111111,\"#46039f\"],[0.2222222222222222,\"#7201a8\"],[0.3333333333333333,\"#9c179e\"],[0.4444444444444444,\"#bd3786\"],[0.5555555555555556,\"#d8576b\"],[0.6666666666666666,\"#ed7953\"],[0.7777777777777778,\"#fb9f3a\"],[0.8888888888888888,\"#fdca26\"],[1.0,\"#f0f921\"]],\"type\":\"histogram2d\"}],\"histogram2dcontour\":[{\"colorbar\":{\"outlinewidth\":0,\"ticks\":\"\"},\"colorscale\":[[0.0,\"#0d0887\"],[0.1111111111111111,\"#46039f\"],[0.2222222222222222,\"#7201a8\"],[0.3333333333333333,\"#9c179e\"],[0.4444444444444444,\"#bd3786\"],[0.5555555555555556,\"#d8576b\"],[0.6666666666666666,\"#ed7953\"],[0.7777777777777778,\"#fb9f3a\"],[0.8888888888888888,\"#fdca26\"],[1.0,\"#f0f921\"]],\"type\":\"histogram2dcontour\"}],\"mesh3d\":[{\"colorbar\":{\"outlinewidth\":0,\"ticks\":\"\"},\"type\":\"mesh3d\"}],\"parcoords\":[{\"line\":{\"colorbar\":{\"outlinewidth\":0,\"ticks\":\"\"}},\"type\":\"parcoords\"}],\"pie\":[{\"automargin\":true,\"type\":\"pie\"}],\"scatter\":[{\"marker\":{\"colorbar\":{\"outlinewidth\":0,\"ticks\":\"\"}},\"type\":\"scatter\"}],\"scatter3d\":[{\"line\":{\"colorbar\":{\"outlinewidth\":0,\"ticks\":\"\"}},\"marker\":{\"colorbar\":{\"outlinewidth\":0,\"ticks\":\"\"}},\"type\":\"scatter3d\"}],\"scattercarpet\":[{\"marker\":{\"colorbar\":{\"outlinewidth\":0,\"ticks\":\"\"}},\"type\":\"scattercarpet\"}],\"scattergeo\":[{\"marker\":{\"colorbar\":{\"outlinewidth\":0,\"ticks\":\"\"}},\"type\":\"scattergeo\"}],\"scattergl\":[{\"marker\":{\"colorbar\":{\"outlinewidth\":0,\"ticks\":\"\"}},\"type\":\"scattergl\"}],\"scattermapbox\":[{\"marker\":{\"colorbar\":{\"outlinewidth\":0,\"ticks\":\"\"}},\"type\":\"scattermapbox\"}],\"scatterpolar\":[{\"marker\":{\"colorbar\":{\"outlinewidth\":0,\"ticks\":\"\"}},\"type\":\"scatterpolar\"}],\"scatterpolargl\":[{\"marker\":{\"colorbar\":{\"outlinewidth\":0,\"ticks\":\"\"}},\"type\":\"scatterpolargl\"}],\"scatterternary\":[{\"marker\":{\"colorbar\":{\"outlinewidth\":0,\"ticks\":\"\"}},\"type\":\"scatterternary\"}],\"surface\":[{\"colorbar\":{\"outlinewidth\":0,\"ticks\":\"\"},\"colorscale\":[[0.0,\"#0d0887\"],[0.1111111111111111,\"#46039f\"],[0.2222222222222222,\"#7201a8\"],[0.3333333333333333,\"#9c179e\"],[0.4444444444444444,\"#bd3786\"],[0.5555555555555556,\"#d8576b\"],[0.6666666666666666,\"#ed7953\"],[0.7777777777777778,\"#fb9f3a\"],[0.8888888888888888,\"#fdca26\"],[1.0,\"#f0f921\"]],\"type\":\"surface\"}],\"table\":[{\"cells\":{\"fill\":{\"color\":\"#EBF0F8\"},\"line\":{\"color\":\"white\"}},\"header\":{\"fill\":{\"color\":\"#C8D4E3\"},\"line\":{\"color\":\"white\"}},\"type\":\"table\"}]},\"layout\":{\"annotationdefaults\":{\"arrowcolor\":\"#2a3f5f\",\"arrowhead\":0,\"arrowwidth\":1},\"autotypenumbers\":\"strict\",\"coloraxis\":{\"colorbar\":{\"outlinewidth\":0,\"ticks\":\"\"}},\"colorscale\":{\"diverging\":[[0,\"#8e0152\"],[0.1,\"#c51b7d\"],[0.2,\"#de77ae\"],[0.3,\"#f1b6da\"],[0.4,\"#fde0ef\"],[0.5,\"#f7f7f7\"],[0.6,\"#e6f5d0\"],[0.7,\"#b8e186\"],[0.8,\"#7fbc41\"],[0.9,\"#4d9221\"],[1,\"#276419\"]],\"sequential\":[[0.0,\"#0d0887\"],[0.1111111111111111,\"#46039f\"],[0.2222222222222222,\"#7201a8\"],[0.3333333333333333,\"#9c179e\"],[0.4444444444444444,\"#bd3786\"],[0.5555555555555556,\"#d8576b\"],[0.6666666666666666,\"#ed7953\"],[0.7777777777777778,\"#fb9f3a\"],[0.8888888888888888,\"#fdca26\"],[1.0,\"#f0f921\"]],\"sequentialminus\":[[0.0,\"#0d0887\"],[0.1111111111111111,\"#46039f\"],[0.2222222222222222,\"#7201a8\"],[0.3333333333333333,\"#9c179e\"],[0.4444444444444444,\"#bd3786\"],[0.5555555555555556,\"#d8576b\"],[0.6666666666666666,\"#ed7953\"],[0.7777777777777778,\"#fb9f3a\"],[0.8888888888888888,\"#fdca26\"],[1.0,\"#f0f921\"]]},\"colorway\":[\"#636efa\",\"#EF553B\",\"#00cc96\",\"#ab63fa\",\"#FFA15A\",\"#19d3f3\",\"#FF6692\",\"#B6E880\",\"#FF97FF\",\"#FECB52\"],\"font\":{\"color\":\"#2a3f5f\"},\"geo\":{\"bgcolor\":\"white\",\"lakecolor\":\"white\",\"landcolor\":\"#E5ECF6\",\"showlakes\":true,\"showland\":true,\"subunitcolor\":\"white\"},\"hoverlabel\":{\"align\":\"left\"},\"hovermode\":\"closest\",\"mapbox\":{\"style\":\"light\"},\"paper_bgcolor\":\"white\",\"plot_bgcolor\":\"#E5ECF6\",\"polar\":{\"angularaxis\":{\"gridcolor\":\"white\",\"linecolor\":\"white\",\"ticks\":\"\"},\"bgcolor\":\"#E5ECF6\",\"radialaxis\":{\"gridcolor\":\"white\",\"linecolor\":\"white\",\"ticks\":\"\"}},\"scene\":{\"xaxis\":{\"backgroundcolor\":\"#E5ECF6\",\"gridcolor\":\"white\",\"gridwidth\":2,\"linecolor\":\"white\",\"showbackground\":true,\"ticks\":\"\",\"zerolinecolor\":\"white\"},\"yaxis\":{\"backgroundcolor\":\"#E5ECF6\",\"gridcolor\":\"white\",\"gridwidth\":2,\"linecolor\":\"white\",\"showbackground\":true,\"ticks\":\"\",\"zerolinecolor\":\"white\"},\"zaxis\":{\"backgroundcolor\":\"#E5ECF6\",\"gridcolor\":\"white\",\"gridwidth\":2,\"linecolor\":\"white\",\"showbackground\":true,\"ticks\":\"\",\"zerolinecolor\":\"white\"}},\"shapedefaults\":{\"line\":{\"color\":\"#2a3f5f\"}},\"ternary\":{\"aaxis\":{\"gridcolor\":\"white\",\"linecolor\":\"white\",\"ticks\":\"\"},\"baxis\":{\"gridcolor\":\"white\",\"linecolor\":\"white\",\"ticks\":\"\"},\"bgcolor\":\"#E5ECF6\",\"caxis\":{\"gridcolor\":\"white\",\"linecolor\":\"white\",\"ticks\":\"\"}},\"title\":{\"x\":0.05},\"xaxis\":{\"automargin\":true,\"gridcolor\":\"white\",\"linecolor\":\"white\",\"ticks\":\"\",\"title\":{\"standoff\":15},\"zerolinecolor\":\"white\",\"zerolinewidth\":2},\"yaxis\":{\"automargin\":true,\"gridcolor\":\"white\",\"linecolor\":\"white\",\"ticks\":\"\",\"title\":{\"standoff\":15},\"zerolinecolor\":\"white\",\"zerolinewidth\":2}}},\"title\":{\"text\":\"\\u0412\\u043e\\u0440\\u043e\\u043d\\u043a\\u0430 \\u0441\\u043e\\u0431\\u044b\\u0442\\u0438\\u0439 \\u0432 \\u0440\\u0430\\u0437\\u0440\\u0435\\u0437\\u0435 \\u0442\\u0435\\u0441\\u0442\\u043e\\u0432\\u044b\\u0445 \\u0433\\u0440\\u0443\\u043f\\u043f\"}},                        {\"responsive\": true}                    ).then(function(){\n",
       "                            \n",
       "var gd = document.getElementById('63a3d63a-51e8-4381-8a80-214c9d0aa601');\n",
       "var x = new MutationObserver(function (mutations, observer) {{\n",
       "        var display = window.getComputedStyle(gd).display;\n",
       "        if (!display || display === 'none') {{\n",
       "            console.log([gd, 'removed!']);\n",
       "            Plotly.purge(gd);\n",
       "            observer.disconnect();\n",
       "        }}\n",
       "}});\n",
       "\n",
       "// Listen for the removal of the full notebook cells\n",
       "var notebookContainer = gd.closest('#notebook-container');\n",
       "if (notebookContainer) {{\n",
       "    x.observe(notebookContainer, {childList: true});\n",
       "}}\n",
       "\n",
       "// Listen for the clearing of the current output cell\n",
       "var outputEl = gd.closest('.output');\n",
       "if (outputEl) {{\n",
       "    x.observe(outputEl, {childList: true});\n",
       "}}\n",
       "\n",
       "                        })                };                });            </script>        </div>"
      ]
     },
     "metadata": {},
     "output_type": "display_data"
    }
   ],
   "source": [
    "fig = go.Figure()\n",
    "stages = [\n",
    "    'Авторизация',\n",
    "    'Просмотр товара',\n",
    "    'Просмотр корзины',\n",
    "    'Покупка'\n",
    "]\n",
    "fig.add_trace(go.Funnel(name = 'A',\n",
    "                        y = stages,\n",
    "                        x = funnel_gr.query('group == \"A\"')['total_users'],\n",
    "                        opacity = 0.6,\n",
    "                        textposition = 'inside',\n",
    "                        textinfo = 'value + percent previous'))\n",
    "\n",
    "fig.add_trace(go.Funnel(name = 'B',\n",
    "                        y = stages,\n",
    "                        x = funnel_gr.query('group == \"B\"')['total_users'],\n",
    "                        opacity = 0.6,\n",
    "                        textposition = 'inside',\n",
    "                        textinfo = 'value + percent previous'))\n",
    "\n",
    "fig.update_layout(title_text='Воронка событий в разрезе тестовых групп')\n",
    "fig.show()"
   ]
  },
  {
   "cell_type": "markdown",
   "id": "8sOJkbPH8MK9",
   "metadata": {
    "id": "8sOJkbPH8MK9"
   },
   "source": [
    "При рассмотрении воронок двух групп по отдельности также видно, что большинтсво покупателей отсеиваются после первого шага (более 35,6% у группы А и 43,5% у группы В). 31,70% от первоначального количества пользователей группы А успешно оплачивают товары из корзины. У пользователей группы В это значение меньше: 28,4%.\n",
    "\n",
    "Также мы в обеих группах наблюдаем нарушение ожидаемой последовательности событий Авторизация -> Просмотр товара -> Просмотр корзины -> Покупка. Причиной этому является возможность оплачивать товар с карточки товара."
   ]
  },
  {
   "cell_type": "markdown",
   "id": "6bf5e81e",
   "metadata": {
    "id": "6bf5e81e"
   },
   "source": [
    "##### Какие еще могут быть особенности данных"
   ]
  },
  {
   "cell_type": "code",
   "execution_count": 64,
   "id": "f91f0707",
   "metadata": {
    "colab": {
     "base_uri": "https://localhost:8080/",
     "height": 206
    },
    "id": "f91f0707",
    "outputId": "76d525b9-35e0-4896-f042-97d9f7f84853"
   },
   "outputs": [
    {
     "data": {
      "text/html": [
       "<div>\n",
       "<style scoped>\n",
       "    .dataframe tbody tr th:only-of-type {\n",
       "        vertical-align: middle;\n",
       "    }\n",
       "\n",
       "    .dataframe tbody tr th {\n",
       "        vertical-align: top;\n",
       "    }\n",
       "\n",
       "    .dataframe thead th {\n",
       "        text-align: right;\n",
       "    }\n",
       "</style>\n",
       "<table border=\"1\" class=\"dataframe\">\n",
       "  <thead>\n",
       "    <tr style=\"text-align: right;\">\n",
       "      <th></th>\n",
       "      <th>user_id</th>\n",
       "      <th>group</th>\n",
       "      <th>ab_test</th>\n",
       "      <th>first_date</th>\n",
       "      <th>region</th>\n",
       "      <th>device</th>\n",
       "      <th>event_dt</th>\n",
       "      <th>event_name</th>\n",
       "      <th>details</th>\n",
       "      <th>details_Nan</th>\n",
       "      <th>lifetime</th>\n",
       "    </tr>\n",
       "  </thead>\n",
       "  <tbody>\n",
       "    <tr>\n",
       "      <th>0</th>\n",
       "      <td>D1ABA3E2887B6A73</td>\n",
       "      <td>A</td>\n",
       "      <td>recommender_system_test</td>\n",
       "      <td>2020-12-07</td>\n",
       "      <td>EU</td>\n",
       "      <td>PC</td>\n",
       "      <td>2020-12-07</td>\n",
       "      <td>purchase</td>\n",
       "      <td>99.99</td>\n",
       "      <td>1.0</td>\n",
       "      <td>0 days 14:37:30</td>\n",
       "    </tr>\n",
       "    <tr>\n",
       "      <th>2</th>\n",
       "      <td>D1ABA3E2887B6A73</td>\n",
       "      <td>A</td>\n",
       "      <td>recommender_system_test</td>\n",
       "      <td>2020-12-07</td>\n",
       "      <td>EU</td>\n",
       "      <td>PC</td>\n",
       "      <td>2020-12-07</td>\n",
       "      <td>product_cart</td>\n",
       "      <td>NaN</td>\n",
       "      <td>0.0</td>\n",
       "      <td>0 days 14:37:32</td>\n",
       "    </tr>\n",
       "    <tr>\n",
       "      <th>4</th>\n",
       "      <td>D1ABA3E2887B6A73</td>\n",
       "      <td>A</td>\n",
       "      <td>recommender_system_test</td>\n",
       "      <td>2020-12-07</td>\n",
       "      <td>EU</td>\n",
       "      <td>PC</td>\n",
       "      <td>2020-12-07</td>\n",
       "      <td>product_page</td>\n",
       "      <td>NaN</td>\n",
       "      <td>0.0</td>\n",
       "      <td>0 days 14:37:30</td>\n",
       "    </tr>\n",
       "    <tr>\n",
       "      <th>6</th>\n",
       "      <td>D1ABA3E2887B6A73</td>\n",
       "      <td>A</td>\n",
       "      <td>recommender_system_test</td>\n",
       "      <td>2020-12-07</td>\n",
       "      <td>EU</td>\n",
       "      <td>PC</td>\n",
       "      <td>2020-12-07</td>\n",
       "      <td>login</td>\n",
       "      <td>NaN</td>\n",
       "      <td>0.0</td>\n",
       "      <td>0 days 14:37:30</td>\n",
       "    </tr>\n",
       "    <tr>\n",
       "      <th>8</th>\n",
       "      <td>A7A3664BD6242119</td>\n",
       "      <td>A</td>\n",
       "      <td>recommender_system_test</td>\n",
       "      <td>2020-12-20</td>\n",
       "      <td>EU</td>\n",
       "      <td>iPhone</td>\n",
       "      <td>2020-12-20</td>\n",
       "      <td>product_page</td>\n",
       "      <td>NaN</td>\n",
       "      <td>0.0</td>\n",
       "      <td>13 days 15:40:09</td>\n",
       "    </tr>\n",
       "  </tbody>\n",
       "</table>\n",
       "</div>"
      ],
      "text/plain": [
       "            user_id group                  ab_test first_date region  device  \\\n",
       "0  D1ABA3E2887B6A73     A  recommender_system_test 2020-12-07     EU      PC   \n",
       "2  D1ABA3E2887B6A73     A  recommender_system_test 2020-12-07     EU      PC   \n",
       "4  D1ABA3E2887B6A73     A  recommender_system_test 2020-12-07     EU      PC   \n",
       "6  D1ABA3E2887B6A73     A  recommender_system_test 2020-12-07     EU      PC   \n",
       "8  A7A3664BD6242119     A  recommender_system_test 2020-12-20     EU  iPhone   \n",
       "\n",
       "     event_dt    event_name  details  details_Nan         lifetime  \n",
       "0  2020-12-07      purchase    99.99          1.0  0 days 14:37:30  \n",
       "2  2020-12-07  product_cart      NaN          0.0  0 days 14:37:32  \n",
       "4  2020-12-07  product_page      NaN          0.0  0 days 14:37:30  \n",
       "6  2020-12-07         login      NaN          0.0  0 days 14:37:30  \n",
       "8  2020-12-20  product_page      NaN          0.0 13 days 15:40:09  "
      ]
     },
     "execution_count": 64,
     "metadata": {},
     "output_type": "execute_result"
    }
   ],
   "source": [
    "rst.head()"
   ]
  },
  {
   "cell_type": "code",
   "execution_count": 65,
   "id": "867d7b18",
   "metadata": {
    "colab": {
     "base_uri": "https://localhost:8080/"
    },
    "id": "867d7b18",
    "outputId": "54ede5a4-a2fe-4f70-f2ba-aeaf565c8ff1"
   },
   "outputs": [
    {
     "data": {
      "text/plain": [
       "Android    6387\n",
       "PC         3625\n",
       "iPhone     3042\n",
       "Mac        1335\n",
       "Name: device, dtype: int64"
      ]
     },
     "execution_count": 65,
     "metadata": {},
     "output_type": "execute_result"
    }
   ],
   "source": [
    "rst['device'].value_counts()"
   ]
  },
  {
   "cell_type": "markdown",
   "id": "b12af3dd",
   "metadata": {
    "id": "b12af3dd"
   },
   "source": [
    "В данном случае стоит учитывать, что участники используют 4 разных устройства для просмотра сайта и совершения покупок. Это может повлиять на восприятие сайта и путь клиента в зависимости от того, использует ли он iPhone, PC или Android. Поэтому важно учесть этот момент и провести тестирование с учетом разных устройств, чтобы убедиться, что сайт выглядит одинаково и функционирует корректно на всех устройствах. Это поможет получить более точные результаты и сделать правильные выводы."
   ]
  },
  {
   "cell_type": "markdown",
   "id": "16a045d7",
   "metadata": {
    "id": "16a045d7"
   },
   "source": [
    "# По результатам A/B-теста  \n",
    "\n",
    "С самого начала теста было обнаружено несоответствие данных с ТЗ, такие как дата остановки набора пользователей и дата остановки теста, а также количество участников и доля новых пользователей из региона EU. Однако, наименование теста и присутствие двух групп соответствуют ТЗ, а также дата запуска теста была выполнена правильно.\n",
    "\n",
    "В процессе тестирования было выявлено, что 1602 пользователя участвовали одновременно в двух тестах, что составляет 23.91% от общего количества пользователей, что может повлиять на результаты теста. Кроме того, тест проводился одновременно с двумя крупными маркетинговыми мероприятиями - Рождеством и Новым годом в регионах EU и N.America, новогодней лотереей в CIS, а также в период распродаж \"Черная пятница\" во всех вышеупомянутых регионах. Эти факторы также могут повлиять на результаты теста.\n",
    "\n",
    "Участники не пересекаются между группами, но пересечение по двум тестам составляет почти 24% участников от общего количества участников \"recommender_system_test\", которые участвовали также в другом тесте (\"interface_eu_test\"). Кроме того, неравномерность распределения по группам теста и пересечение с другим проводимым тестом могут также повлиять на результаты теста.\n",
    "\n",
    "В дополнение к этому, за 14 дней не произошло улучшения каждой метрики на 10%, а наоборот, произошло ухудшение, что говорит не в пользу проведенного теста."
   ]
  },
  {
   "cell_type": "markdown",
   "id": "ed7778d3",
   "metadata": {
    "id": "ed7778d3"
   },
   "source": [
    "# Проводим статистическую разницу долей z-критерием"
   ]
  },
  {
   "cell_type": "code",
   "execution_count": 66,
   "id": "1b68d72f",
   "metadata": {
    "colab": {
     "base_uri": "https://localhost:8080/",
     "height": 206
    },
    "id": "1b68d72f",
    "outputId": "a0095a9f-893a-458d-82c8-ba5fc9879ac9"
   },
   "outputs": [
    {
     "data": {
      "text/html": [
       "<div>\n",
       "<style scoped>\n",
       "    .dataframe tbody tr th:only-of-type {\n",
       "        vertical-align: middle;\n",
       "    }\n",
       "\n",
       "    .dataframe tbody tr th {\n",
       "        vertical-align: top;\n",
       "    }\n",
       "\n",
       "    .dataframe thead th {\n",
       "        text-align: right;\n",
       "    }\n",
       "</style>\n",
       "<table border=\"1\" class=\"dataframe\">\n",
       "  <thead>\n",
       "    <tr style=\"text-align: right;\">\n",
       "      <th></th>\n",
       "      <th>user_id</th>\n",
       "      <th>group</th>\n",
       "      <th>ab_test</th>\n",
       "      <th>first_date</th>\n",
       "      <th>region</th>\n",
       "      <th>device</th>\n",
       "      <th>event_dt</th>\n",
       "      <th>event_name</th>\n",
       "      <th>details</th>\n",
       "      <th>details_Nan</th>\n",
       "      <th>lifetime</th>\n",
       "    </tr>\n",
       "  </thead>\n",
       "  <tbody>\n",
       "    <tr>\n",
       "      <th>0</th>\n",
       "      <td>D1ABA3E2887B6A73</td>\n",
       "      <td>A</td>\n",
       "      <td>recommender_system_test</td>\n",
       "      <td>2020-12-07</td>\n",
       "      <td>EU</td>\n",
       "      <td>PC</td>\n",
       "      <td>2020-12-07</td>\n",
       "      <td>purchase</td>\n",
       "      <td>99.99</td>\n",
       "      <td>1.0</td>\n",
       "      <td>0 days 14:37:30</td>\n",
       "    </tr>\n",
       "    <tr>\n",
       "      <th>2</th>\n",
       "      <td>D1ABA3E2887B6A73</td>\n",
       "      <td>A</td>\n",
       "      <td>recommender_system_test</td>\n",
       "      <td>2020-12-07</td>\n",
       "      <td>EU</td>\n",
       "      <td>PC</td>\n",
       "      <td>2020-12-07</td>\n",
       "      <td>product_cart</td>\n",
       "      <td>NaN</td>\n",
       "      <td>0.0</td>\n",
       "      <td>0 days 14:37:32</td>\n",
       "    </tr>\n",
       "    <tr>\n",
       "      <th>4</th>\n",
       "      <td>D1ABA3E2887B6A73</td>\n",
       "      <td>A</td>\n",
       "      <td>recommender_system_test</td>\n",
       "      <td>2020-12-07</td>\n",
       "      <td>EU</td>\n",
       "      <td>PC</td>\n",
       "      <td>2020-12-07</td>\n",
       "      <td>product_page</td>\n",
       "      <td>NaN</td>\n",
       "      <td>0.0</td>\n",
       "      <td>0 days 14:37:30</td>\n",
       "    </tr>\n",
       "    <tr>\n",
       "      <th>6</th>\n",
       "      <td>D1ABA3E2887B6A73</td>\n",
       "      <td>A</td>\n",
       "      <td>recommender_system_test</td>\n",
       "      <td>2020-12-07</td>\n",
       "      <td>EU</td>\n",
       "      <td>PC</td>\n",
       "      <td>2020-12-07</td>\n",
       "      <td>login</td>\n",
       "      <td>NaN</td>\n",
       "      <td>0.0</td>\n",
       "      <td>0 days 14:37:30</td>\n",
       "    </tr>\n",
       "    <tr>\n",
       "      <th>8</th>\n",
       "      <td>A7A3664BD6242119</td>\n",
       "      <td>A</td>\n",
       "      <td>recommender_system_test</td>\n",
       "      <td>2020-12-20</td>\n",
       "      <td>EU</td>\n",
       "      <td>iPhone</td>\n",
       "      <td>2020-12-20</td>\n",
       "      <td>product_page</td>\n",
       "      <td>NaN</td>\n",
       "      <td>0.0</td>\n",
       "      <td>13 days 15:40:09</td>\n",
       "    </tr>\n",
       "  </tbody>\n",
       "</table>\n",
       "</div>"
      ],
      "text/plain": [
       "            user_id group                  ab_test first_date region  device  \\\n",
       "0  D1ABA3E2887B6A73     A  recommender_system_test 2020-12-07     EU      PC   \n",
       "2  D1ABA3E2887B6A73     A  recommender_system_test 2020-12-07     EU      PC   \n",
       "4  D1ABA3E2887B6A73     A  recommender_system_test 2020-12-07     EU      PC   \n",
       "6  D1ABA3E2887B6A73     A  recommender_system_test 2020-12-07     EU      PC   \n",
       "8  A7A3664BD6242119     A  recommender_system_test 2020-12-20     EU  iPhone   \n",
       "\n",
       "     event_dt    event_name  details  details_Nan         lifetime  \n",
       "0  2020-12-07      purchase    99.99          1.0  0 days 14:37:30  \n",
       "2  2020-12-07  product_cart      NaN          0.0  0 days 14:37:32  \n",
       "4  2020-12-07  product_page      NaN          0.0  0 days 14:37:30  \n",
       "6  2020-12-07         login      NaN          0.0  0 days 14:37:30  \n",
       "8  2020-12-20  product_page      NaN          0.0 13 days 15:40:09  "
      ]
     },
     "execution_count": 66,
     "metadata": {},
     "output_type": "execute_result"
    }
   ],
   "source": [
    "rst.head()"
   ]
  },
  {
   "cell_type": "code",
   "execution_count": 67,
   "id": "7eb0c7c2",
   "metadata": {
    "colab": {
     "base_uri": "https://localhost:8080/"
    },
    "id": "7eb0c7c2",
    "outputId": "ed724729-10f1-409a-f068-d674944f8cf0"
   },
   "outputs": [
    {
     "data": {
      "text/plain": [
       "group\n",
       "A     2206\n",
       "B      794\n",
       "AB    3000\n",
       "Name: user_id, dtype: int64"
      ]
     },
     "execution_count": 67,
     "metadata": {},
     "output_type": "execute_result"
    }
   ],
   "source": [
    "# посмотрим сколько пользователей в группах:\n",
    "users_group = rst.groupby('group')['user_id'].nunique()\n",
    "users_group['AB'] = users_group['A'] + users_group['B']\n",
    "users_group"
   ]
  },
  {
   "cell_type": "code",
   "execution_count": 68,
   "id": "9e0def36",
   "metadata": {
    "colab": {
     "base_uri": "https://localhost:8080/",
     "height": 175
    },
    "id": "9e0def36",
    "outputId": "f179585e-5c4f-4ecb-86e7-c02ade8fae96"
   },
   "outputs": [
    {
     "data": {
      "text/html": [
       "<div>\n",
       "<style scoped>\n",
       "    .dataframe tbody tr th:only-of-type {\n",
       "        vertical-align: middle;\n",
       "    }\n",
       "\n",
       "    .dataframe tbody tr th {\n",
       "        vertical-align: top;\n",
       "    }\n",
       "\n",
       "    .dataframe thead th {\n",
       "        text-align: right;\n",
       "    }\n",
       "</style>\n",
       "<table border=\"1\" class=\"dataframe\">\n",
       "  <thead>\n",
       "    <tr style=\"text-align: right;\">\n",
       "      <th>group</th>\n",
       "      <th>event_name</th>\n",
       "      <th>A</th>\n",
       "      <th>B</th>\n",
       "      <th>AB</th>\n",
       "    </tr>\n",
       "  </thead>\n",
       "  <tbody>\n",
       "    <tr>\n",
       "      <th>0</th>\n",
       "      <td>login</td>\n",
       "      <td>2206</td>\n",
       "      <td>793</td>\n",
       "      <td>2999</td>\n",
       "    </tr>\n",
       "    <tr>\n",
       "      <th>2</th>\n",
       "      <td>product_page</td>\n",
       "      <td>1420</td>\n",
       "      <td>448</td>\n",
       "      <td>1868</td>\n",
       "    </tr>\n",
       "    <tr>\n",
       "      <th>3</th>\n",
       "      <td>purchase</td>\n",
       "      <td>700</td>\n",
       "      <td>224</td>\n",
       "      <td>924</td>\n",
       "    </tr>\n",
       "    <tr>\n",
       "      <th>1</th>\n",
       "      <td>product_cart</td>\n",
       "      <td>670</td>\n",
       "      <td>225</td>\n",
       "      <td>895</td>\n",
       "    </tr>\n",
       "  </tbody>\n",
       "</table>\n",
       "</div>"
      ],
      "text/plain": [
       "group    event_name     A    B    AB\n",
       "0             login  2206  793  2999\n",
       "2      product_page  1420  448  1868\n",
       "3          purchase   700  224   924\n",
       "1      product_cart   670  225   895"
      ]
     },
     "execution_count": 68,
     "metadata": {},
     "output_type": "execute_result"
    }
   ],
   "source": [
    "# перед тем как провести тест , создам сводную таблицу расчитаю самое популярное событие и доли пользователей\n",
    "test_group = rst.pivot_table(index='event_name',\n",
    "                             columns='group',\n",
    "                             values='user_id',\n",
    "                             aggfunc='nunique').reset_index().sort_values(by='A', ascending=False)\n",
    "test_group['AB'] = test_group['A'] + test_group['B']\n",
    "test_group"
   ]
  },
  {
   "cell_type": "code",
   "execution_count": 69,
   "id": "c437bc22",
   "metadata": {
    "id": "c437bc22"
   },
   "outputs": [],
   "source": [
    "# теперь напишем функцию для проведения z-test :\n",
    "def z_test(group1, group2, alpha):\n",
    "    for i in test_group.index:\n",
    "        p1 = test_group[group1][i] / users_group[group1]\n",
    "        p2 = test_group[group2][i] / users_group[group2]\n",
    "        p_combined = ((test_group[group1][i] + test_group[group2][i]) /\n",
    "                 (users_group[group1] + users_group[group2]))\n",
    "\n",
    "        difference = p1 - p2\n",
    "\n",
    "        z_value = difference / mth.sqrt(p_combined * (1 - p_combined) *\n",
    "                                        (1/users_group[group1] + 1/users_group[group2]))\n",
    "\n",
    "        distr = st.norm(0, 1)\n",
    "        p_value = (1 - distr.cdf(abs(z_value))) * 2\n",
    "\n",
    "        print('{} p-значение: {}'.format(test_group['event_name'][i], p_value))\n",
    "        if (p_value < alpha):\n",
    "            print(\"Нулевую гипотезу нужно отвергнуть: различия между долями статистически значимы\")\n",
    "        else:\n",
    "            print(\"Нулевую гипотезу не получилось отвергнуть, статистически значимой разницы между долями нет\")\n",
    "        print('')"
   ]
  },
  {
   "cell_type": "markdown",
   "id": "43068364",
   "metadata": {
    "id": "43068364"
   },
   "source": [
    "###### Прежде чем провести первые тесты, сформулируем гипотезы:  \n",
    "###### Н0: Статистической значимой разницы между долями нет\n",
    "###### Н1: Различия между долями статистически значимы"
   ]
  },
  {
   "cell_type": "code",
   "execution_count": 70,
   "id": "f4073469",
   "metadata": {
    "colab": {
     "base_uri": "https://localhost:8080/"
    },
    "id": "f4073469",
    "outputId": "8c955c24-192b-4f27-eb7a-6ee4853a74a2"
   },
   "outputs": [
    {
     "data": {
      "text/plain": [
       "0.0125"
      ]
     },
     "execution_count": 70,
     "metadata": {},
     "output_type": "execute_result"
    }
   ],
   "source": [
    "# используем поправку Бонферрони\n",
    "alpha = 0.05 / 4\n",
    "alpha"
   ]
  },
  {
   "cell_type": "code",
   "execution_count": 71,
   "id": "1116954b",
   "metadata": {
    "colab": {
     "base_uri": "https://localhost:8080/"
    },
    "id": "1116954b",
    "outputId": "80107943-d7ca-4f21-cd00-7c433c11481b"
   },
   "outputs": [
    {
     "name": "stdout",
     "output_type": "stream",
     "text": [
      "login p-значение: 0.09549204508701536\n",
      "Нулевую гипотезу не получилось отвергнуть, статистически значимой разницы между долями нет\n",
      "\n",
      "product_page p-значение: 7.450717318269184e-05\n",
      "Нулевую гипотезу нужно отвергнуть: различия между долями статистически значимы\n",
      "\n",
      "purchase p-значение: 0.06542324542618494\n",
      "Нулевую гипотезу не получилось отвергнуть, статистически значимой разницы между долями нет\n",
      "\n",
      "product_cart p-значение: 0.2826879114722387\n",
      "Нулевую гипотезу не получилось отвергнуть, статистически значимой разницы между долями нет\n",
      "\n"
     ]
    }
   ],
   "source": [
    "# Теперь проводим А/В тест (А/B группы)\n",
    "z_test('A','B', 0.0125)"
   ]
  },
  {
   "cell_type": "markdown",
   "id": "142d96b8",
   "metadata": {
    "id": "142d96b8"
   },
   "source": [
    "##### Краткий вывод:\n",
    "По результатам проведения А/В теста на всех наших событиях (регистрация, просмотр товара, покупка и просмотр корзины) разница между долями статистически значима, следовательно, необходимо отвергнуть нулевую гипотезу. Это означает, что изменения, внесенные в тестируемую функциональность, имеют статистически значимое влияние на поведение пользователей и могут привести к улучшению ключевых метрик."
   ]
  },
  {
   "cell_type": "markdown",
   "id": "9165a902",
   "metadata": {
    "id": "9165a902"
   },
   "source": [
    "# Вывод:\n",
    "Тест под названием \"`recommender_system_test`\" проведен не корреткно.\n",
    "\n",
    "**Cоответствие ТЗ**\n",
    "\n",
    "- Название теста \"recommender_system_test\" соответствует ТЗ.\n",
    "- Наличие двух групп A и B соответствует ТЗ.\n",
    "- Дата запуска теста: 2020-12-07 00:00:00 соответствует ТЗ.\n",
    "- Дата остановки набора пользователей для теста: 2020-12-21 00:00:00  соответствует ТЗ.\n",
    "- Дата окончания теста: 2020-12-30 12:42:57 не соответствует ТЗ, поскольку тест завершился на 5 дней раньше.\n",
    "- Доля новых пользователей из региона EU составляет 15%,  соответствует ТЗ.\n",
    "- Общее количество участников теста равно 6701, что соответсвует требования ТЗ.\n",
    "\n",
    "**По итогу проведения исследовательского анализа данных было выявлено:**  \n",
    "- Во время проведения теста было выявлено, что 1602 пользователей участвовали в двух тестах одновременно, что составляет 9,61% от общего числа пользователей и может повлиять на результаты теста. Однако было решено не удалять этих пользователей, так как они являются участниками обоих тестов.\n",
    "- Тест был проведен в период, когда проходили два других масштабных маркетинговых мероприятия: Рождество и Новый год в регионах EU и N.America с 25 декабря 2020 по 3 января 2021, а также новогодняя лотерея в CIS с 30 декабря 2020 по 7 января 2021. Кроме того, во всех регионах (EU, CIS, APAC, N.America) с 26 ноября 2020 по 1 декабря 2020 проходила черная пятница (распродажи), что также может повлиять на результаты теста.\n",
    "- Участники теста не пересекались между группами, но было выявлено, что почти 24% участников теста \"recommender_system_test\" также участвовали в другом тесте (\"interface_eu_test\"). Кроме того, группы были распределены неравномерно, с 3824 участниками в контрольной группе \"А\" и 2877 в группе \"В\", что также может оказать влияние на результаты теста.\n",
    "- Количество событий на пользователя не распределялось равномерно, причем группа \"В\" получила гораздо меньше событий, чем группа \"А\".\n",
    "\n",
    "\n",
    "Кроме того, важно отметить, что доля участников в группе В существенно снизилась по сравнению с контрольной группой, и за 14 дней не произошло улучшения ни одной метрики на 10%, а, наоборот, произошло ухудшение, что также свидетельствует о том, что тест не был проведен эффективно.\n",
    "\n",
    "**Распределение данных** между событиями коррелирует, и различия между группами заключаются только в количестве и характере событий. Например, группа А достигла пика регистраций (более 1200) 19 декабря, тогда как группа В начала активно регистрироваться с 9 декабря (более 300). Просмотры карточек товаров также достигли пика в группе А 19 декабря (более 800), а в группе В после начала регистрации 9 декабря было более 175 просмотров карточек товаров. Количество просмотров и покупок товаров также различалось между группами, причем пики достигались в разное время в каждой группе. Например, группа А достигла максимального количества покупок (более 400) 19 декабря и пошла на спад с 21 декабря, тогда как группа В достигла максимального количества покупок (более 80) в первые дни (8 декабря), а затем произошел еще один всплеск 16 декабря, после чего количество покупок продолжало снижаться.\n",
    "\n",
    "**Воронка показывает**, что 29,8%  пользователей дошли до корзины, и из них 30,8% совершили покупку. До этапа просмотра товара дошли 62,3% зарегистрированных пользователей, а 36,8% уже покинули сайт.\n",
    "\n",
    "Всего событие совершили 2999 пользователей: 1868 просмотрели товары, а 924\tкупили их. Разница между количеством добавлений в корзину (895) и покупок (924) существенна. Возможно, пользователи приобретали товары оффлайн или заказывали их по телефону, или же сайт предоставлял возможность прямого оформления, минуя корзину.\n",
    "\n",
    "При рассмотрении воронок двух групп по отдельности также видно, что большинтсво покупателей отсеиваются после первого шага (более 35,6% у группы А и 43,5% у группы В). 31,70% от первоначального количества пользователей группы А успешно оплачивают товары из корзины. У пользователей группы В это значение меньше: 28,4%.\n",
    "\n",
    "Также мы в обеих группах наблюдаем нарушение ожидаемой последовательности событий Авторизация -> Просмотр товара -> Просмотр корзины -> Покупка. Причиной этому является возможность оплачивать товар с карточки товара.\n",
    "\n",
    "**Дополнительно** стоит учитывать, что пользователи могут использовать разные устройства, до четырех, для просмотра сайта и совершения покупок. Это может влиять на восприятие сайта и путь клиента, поскольку устройства могут иметь различные размеры экрана, разрешения, операционные системы и браузеры. В связи с этим, при проведении А/В теста необходимо учитывать этот фактор и тестировать сайт на разных устройствах, чтобы убедиться, что он работает корректно и удобно для пользователей.\n",
    "\n",
    "Перейдем к проведению **А/В теста** и анализу его результатов. Прежде всего была проведена проверка выборок, которая показала, что количество пользователей в выборках отличается друг от друга.\n",
    "\n",
    "**Далее сформулировав гипотезы :**  \n",
    "Н0: Статистической значимой разницы между долями нет  \n",
    "Н1: Различия между долями статистически значимы  \n",
    "Был проведен А/В тест с 4 проверками статистических гипотез:  \n",
    "А/В - 4 проверки (по каждому событию)\n",
    "\n",
    "**Все проведенные тесты показали один результат: нулевую гипотезу необходимо отвергнуть, так как различия между долями являются статистически значимыми. На основании этих результатов можно сделать вывод, что тест был некорректно проведен. Для того, чтобы провести А/В тест корректно, необходимо точно следовать ТЗ и установленным датам, учитывать другие маркетинговые мероприятия и равномерно распределять группы.**"
   ]
  },
  {
   "cell_type": "code",
   "execution_count": null,
   "id": "2e830d4e",
   "metadata": {},
   "outputs": [],
   "source": []
  }
 ],
 "metadata": {
  "ExecuteTimeLog": [
   {
    "duration": 1292,
    "start_time": "2022-12-20T21:16:53.816Z"
   },
   {
    "duration": 58,
    "start_time": "2022-12-20T21:16:55.110Z"
   },
   {
    "duration": 351,
    "start_time": "2022-12-20T21:16:55.170Z"
   },
   {
    "duration": 860,
    "start_time": "2022-12-20T21:16:55.524Z"
   },
   {
    "duration": 100,
    "start_time": "2022-12-20T21:16:56.385Z"
   },
   {
    "duration": 12,
    "start_time": "2022-12-20T21:16:56.487Z"
   },
   {
    "duration": 15,
    "start_time": "2022-12-20T21:16:56.500Z"
   },
   {
    "duration": 8,
    "start_time": "2022-12-20T21:16:56.517Z"
   },
   {
    "duration": 54,
    "start_time": "2022-12-20T21:16:56.526Z"
   },
   {
    "duration": 13,
    "start_time": "2022-12-20T21:16:56.583Z"
   },
   {
    "duration": 18,
    "start_time": "2022-12-20T21:16:56.597Z"
   },
   {
    "duration": 372,
    "start_time": "2022-12-20T21:16:56.617Z"
   },
   {
    "duration": 53,
    "start_time": "2022-12-20T21:16:56.990Z"
   },
   {
    "duration": 168,
    "start_time": "2022-12-20T21:16:57.044Z"
   },
   {
    "duration": 17,
    "start_time": "2022-12-20T21:16:57.213Z"
   },
   {
    "duration": 29,
    "start_time": "2022-12-20T21:16:57.232Z"
   },
   {
    "duration": 21,
    "start_time": "2022-12-20T21:16:57.263Z"
   },
   {
    "duration": 162,
    "start_time": "2022-12-20T21:16:57.285Z"
   },
   {
    "duration": 34,
    "start_time": "2022-12-20T21:16:57.448Z"
   },
   {
    "duration": 29,
    "start_time": "2022-12-20T21:16:57.483Z"
   },
   {
    "duration": 16,
    "start_time": "2022-12-20T21:16:57.514Z"
   },
   {
    "duration": 79,
    "start_time": "2022-12-20T21:16:57.531Z"
   },
   {
    "duration": 287,
    "start_time": "2022-12-20T21:16:57.612Z"
   },
   {
    "duration": 11,
    "start_time": "2022-12-20T21:16:57.900Z"
   },
   {
    "duration": 29,
    "start_time": "2022-12-20T21:16:57.913Z"
   },
   {
    "duration": 171,
    "start_time": "2022-12-20T21:16:57.943Z"
   },
   {
    "duration": 5,
    "start_time": "2022-12-20T21:16:58.116Z"
   },
   {
    "duration": 13,
    "start_time": "2022-12-20T21:16:58.125Z"
   },
   {
    "duration": 70,
    "start_time": "2022-12-20T21:16:58.139Z"
   },
   {
    "duration": 5,
    "start_time": "2022-12-20T21:16:58.210Z"
   },
   {
    "duration": 32,
    "start_time": "2022-12-20T21:16:58.217Z"
   },
   {
    "duration": 18,
    "start_time": "2022-12-20T21:16:58.252Z"
   },
   {
    "duration": 28,
    "start_time": "2022-12-20T21:16:58.272Z"
   },
   {
    "duration": 25,
    "start_time": "2022-12-20T21:16:58.302Z"
   },
   {
    "duration": 49,
    "start_time": "2022-12-20T21:16:58.329Z"
   },
   {
    "duration": 19,
    "start_time": "2022-12-20T21:16:58.381Z"
   },
   {
    "duration": 77,
    "start_time": "2022-12-20T21:16:58.403Z"
   },
   {
    "duration": 24,
    "start_time": "2022-12-20T21:16:58.482Z"
   },
   {
    "duration": 8,
    "start_time": "2022-12-20T21:16:58.508Z"
   },
   {
    "duration": 10,
    "start_time": "2022-12-20T21:16:58.518Z"
   },
   {
    "duration": 303,
    "start_time": "2022-12-20T21:16:58.530Z"
   },
   {
    "duration": 191,
    "start_time": "2022-12-20T21:16:58.834Z"
   },
   {
    "duration": 185,
    "start_time": "2022-12-20T21:16:59.027Z"
   },
   {
    "duration": 282,
    "start_time": "2022-12-20T21:16:59.214Z"
   },
   {
    "duration": 202,
    "start_time": "2022-12-20T21:16:59.498Z"
   },
   {
    "duration": 186,
    "start_time": "2022-12-20T21:16:59.701Z"
   },
   {
    "duration": 200,
    "start_time": "2022-12-20T21:16:59.889Z"
   },
   {
    "duration": 188,
    "start_time": "2022-12-20T21:17:00.092Z"
   },
   {
    "duration": 8,
    "start_time": "2022-12-20T21:17:00.282Z"
   },
   {
    "duration": 50,
    "start_time": "2022-12-20T21:17:00.292Z"
   },
   {
    "duration": 52,
    "start_time": "2022-12-20T21:17:00.344Z"
   },
   {
    "duration": 318,
    "start_time": "2022-12-20T21:17:00.399Z"
   },
   {
    "duration": 9,
    "start_time": "2022-12-20T21:17:00.719Z"
   },
   {
    "duration": 68,
    "start_time": "2022-12-20T21:17:00.730Z"
   },
   {
    "duration": 48,
    "start_time": "2022-12-20T21:17:00.799Z"
   },
   {
    "duration": 36,
    "start_time": "2022-12-20T21:17:00.848Z"
   },
   {
    "duration": 31,
    "start_time": "2022-12-20T21:17:00.885Z"
   },
   {
    "duration": 48,
    "start_time": "2022-12-20T21:17:00.917Z"
   },
   {
    "duration": 5,
    "start_time": "2022-12-20T21:17:00.967Z"
   },
   {
    "duration": 29,
    "start_time": "2022-12-20T21:17:00.973Z"
   },
   {
    "duration": 1623,
    "start_time": "2022-12-21T07:56:49.148Z"
   },
   {
    "duration": 104,
    "start_time": "2022-12-21T07:56:50.775Z"
   },
   {
    "duration": 230,
    "start_time": "2022-12-21T07:56:50.882Z"
   },
   {
    "duration": 865,
    "start_time": "2022-12-21T07:56:51.115Z"
   },
   {
    "duration": 93,
    "start_time": "2022-12-21T07:56:51.982Z"
   },
   {
    "duration": 14,
    "start_time": "2022-12-21T07:56:52.080Z"
   },
   {
    "duration": 17,
    "start_time": "2022-12-21T07:56:52.097Z"
   },
   {
    "duration": 27,
    "start_time": "2022-12-21T07:56:52.117Z"
   },
   {
    "duration": 72,
    "start_time": "2022-12-21T07:56:52.147Z"
   },
   {
    "duration": 15,
    "start_time": "2022-12-21T07:56:52.222Z"
   },
   {
    "duration": 17,
    "start_time": "2022-12-21T07:56:52.239Z"
   },
   {
    "duration": 417,
    "start_time": "2022-12-21T07:56:52.258Z"
   },
   {
    "duration": 75,
    "start_time": "2022-12-21T07:56:52.678Z"
   },
   {
    "duration": 171,
    "start_time": "2022-12-21T07:56:52.756Z"
   },
   {
    "duration": 20,
    "start_time": "2022-12-21T07:56:52.929Z"
   },
   {
    "duration": 32,
    "start_time": "2022-12-21T07:56:52.951Z"
   },
   {
    "duration": 5,
    "start_time": "2022-12-21T07:56:52.985Z"
   },
   {
    "duration": 187,
    "start_time": "2022-12-21T07:56:52.992Z"
   },
   {
    "duration": 31,
    "start_time": "2022-12-21T07:56:53.182Z"
   },
   {
    "duration": 62,
    "start_time": "2022-12-21T07:56:53.216Z"
   },
   {
    "duration": 23,
    "start_time": "2022-12-21T07:56:53.281Z"
   },
   {
    "duration": 100,
    "start_time": "2022-12-21T07:56:53.306Z"
   },
   {
    "duration": 369,
    "start_time": "2022-12-21T07:56:53.409Z"
   },
   {
    "duration": 13,
    "start_time": "2022-12-21T07:56:53.780Z"
   },
   {
    "duration": 37,
    "start_time": "2022-12-21T07:56:53.795Z"
   },
   {
    "duration": 228,
    "start_time": "2022-12-21T07:56:53.834Z"
   },
   {
    "duration": 6,
    "start_time": "2022-12-21T07:56:54.064Z"
   },
   {
    "duration": 8,
    "start_time": "2022-12-21T07:56:54.081Z"
   },
   {
    "duration": 61,
    "start_time": "2022-12-21T07:56:54.090Z"
   },
   {
    "duration": 7,
    "start_time": "2022-12-21T07:56:54.177Z"
   },
   {
    "duration": 16,
    "start_time": "2022-12-21T07:56:54.187Z"
   },
   {
    "duration": 14,
    "start_time": "2022-12-21T07:56:54.205Z"
   },
   {
    "duration": 58,
    "start_time": "2022-12-21T07:56:54.221Z"
   },
   {
    "duration": 21,
    "start_time": "2022-12-21T07:56:54.281Z"
   },
   {
    "duration": 22,
    "start_time": "2022-12-21T07:56:54.304Z"
   },
   {
    "duration": 50,
    "start_time": "2022-12-21T07:56:54.328Z"
   },
   {
    "duration": 46,
    "start_time": "2022-12-21T07:56:54.380Z"
   },
   {
    "duration": 56,
    "start_time": "2022-12-21T07:56:54.428Z"
   },
   {
    "duration": 13,
    "start_time": "2022-12-21T07:56:54.486Z"
   },
   {
    "duration": 12,
    "start_time": "2022-12-21T07:56:54.501Z"
   },
   {
    "duration": 343,
    "start_time": "2022-12-21T07:56:54.516Z"
   },
   {
    "duration": 267,
    "start_time": "2022-12-21T07:56:54.861Z"
   },
   {
    "duration": 212,
    "start_time": "2022-12-21T07:56:55.130Z"
   },
   {
    "duration": 312,
    "start_time": "2022-12-21T07:56:55.345Z"
   },
   {
    "duration": 244,
    "start_time": "2022-12-21T07:56:55.659Z"
   },
   {
    "duration": 208,
    "start_time": "2022-12-21T07:56:55.906Z"
   },
   {
    "duration": 208,
    "start_time": "2022-12-21T07:56:56.116Z"
   },
   {
    "duration": 284,
    "start_time": "2022-12-21T07:56:56.326Z"
   },
   {
    "duration": 10,
    "start_time": "2022-12-21T07:56:56.612Z"
   },
   {
    "duration": 54,
    "start_time": "2022-12-21T07:56:56.623Z"
   },
   {
    "duration": 21,
    "start_time": "2022-12-21T07:56:56.680Z"
   },
   {
    "duration": 228,
    "start_time": "2022-12-21T07:56:56.703Z"
   },
   {
    "duration": 16,
    "start_time": "2022-12-21T07:56:56.934Z"
   },
   {
    "duration": 42,
    "start_time": "2022-12-21T07:56:56.952Z"
   },
   {
    "duration": 19,
    "start_time": "2022-12-21T07:56:56.997Z"
   },
   {
    "duration": 74,
    "start_time": "2022-12-21T07:56:57.019Z"
   },
   {
    "duration": 13,
    "start_time": "2022-12-21T07:56:57.096Z"
   },
   {
    "duration": 79,
    "start_time": "2022-12-21T07:56:57.111Z"
   },
   {
    "duration": 8,
    "start_time": "2022-12-21T07:56:57.192Z"
   },
   {
    "duration": 21,
    "start_time": "2022-12-21T07:56:57.202Z"
   },
   {
    "duration": 13,
    "start_time": "2022-12-21T07:58:12.475Z"
   },
   {
    "duration": 12,
    "start_time": "2022-12-21T07:58:46.145Z"
   },
   {
    "duration": 14,
    "start_time": "2022-12-21T08:00:56.072Z"
   },
   {
    "duration": 152,
    "start_time": "2022-12-21T08:01:17.710Z"
   },
   {
    "duration": 33,
    "start_time": "2022-12-21T08:01:38.177Z"
   },
   {
    "duration": 28,
    "start_time": "2022-12-21T08:01:46.880Z"
   },
   {
    "duration": 17,
    "start_time": "2022-12-21T08:03:15.567Z"
   },
   {
    "duration": 11,
    "start_time": "2022-12-21T08:04:01.049Z"
   },
   {
    "duration": 7,
    "start_time": "2022-12-21T08:05:21.321Z"
   },
   {
    "duration": 61,
    "start_time": "2022-12-21T08:05:21.836Z"
   },
   {
    "duration": 282,
    "start_time": "2022-12-21T08:05:22.137Z"
   },
   {
    "duration": 1019,
    "start_time": "2022-12-21T08:05:22.555Z"
   },
   {
    "duration": 376,
    "start_time": "2022-12-21T08:05:24.004Z"
   },
   {
    "duration": 13,
    "start_time": "2022-12-21T08:05:25.340Z"
   },
   {
    "duration": 7,
    "start_time": "2022-12-21T08:05:25.723Z"
   },
   {
    "duration": 7,
    "start_time": "2022-12-21T08:05:26.131Z"
   },
   {
    "duration": 58,
    "start_time": "2022-12-21T08:05:26.937Z"
   },
   {
    "duration": 15,
    "start_time": "2022-12-21T08:05:27.373Z"
   },
   {
    "duration": 15,
    "start_time": "2022-12-21T08:05:27.830Z"
   },
   {
    "duration": 485,
    "start_time": "2022-12-21T08:05:28.226Z"
   },
   {
    "duration": 64,
    "start_time": "2022-12-21T08:05:28.713Z"
   },
   {
    "duration": 125,
    "start_time": "2022-12-21T08:05:29.329Z"
   },
   {
    "duration": 20,
    "start_time": "2022-12-21T08:05:29.761Z"
   },
   {
    "duration": 12,
    "start_time": "2022-12-21T08:05:30.307Z"
   },
   {
    "duration": 4,
    "start_time": "2022-12-21T08:05:31.180Z"
   },
   {
    "duration": 151,
    "start_time": "2022-12-21T08:05:31.579Z"
   },
   {
    "duration": 25,
    "start_time": "2022-12-21T08:05:32.014Z"
   },
   {
    "duration": 28,
    "start_time": "2022-12-21T08:05:32.534Z"
   },
   {
    "duration": 13,
    "start_time": "2022-12-21T08:05:33.023Z"
   },
   {
    "duration": 49,
    "start_time": "2022-12-21T08:05:33.546Z"
   },
   {
    "duration": 306,
    "start_time": "2022-12-21T08:05:35.641Z"
   },
   {
    "duration": 17,
    "start_time": "2022-12-21T08:05:37.964Z"
   },
   {
    "duration": 12,
    "start_time": "2022-12-21T08:05:39.751Z"
   },
   {
    "duration": 16,
    "start_time": "2022-12-21T08:05:40.401Z"
   },
   {
    "duration": 11,
    "start_time": "2022-12-21T08:05:43.815Z"
   },
   {
    "duration": 11,
    "start_time": "2022-12-21T08:06:23.684Z"
   },
   {
    "duration": 6,
    "start_time": "2022-12-21T08:06:42.896Z"
   },
   {
    "duration": 5,
    "start_time": "2022-12-21T08:06:55.383Z"
   },
   {
    "duration": 8,
    "start_time": "2022-12-21T08:09:22.547Z"
   },
   {
    "duration": 11,
    "start_time": "2022-12-21T08:09:39.710Z"
   },
   {
    "duration": 5,
    "start_time": "2022-12-21T08:09:50.854Z"
   },
   {
    "duration": 12,
    "start_time": "2022-12-21T08:10:05.198Z"
   },
   {
    "duration": 13,
    "start_time": "2022-12-21T08:15:51.737Z"
   },
   {
    "duration": 3,
    "start_time": "2022-12-21T08:15:59.175Z"
   },
   {
    "duration": 3,
    "start_time": "2022-12-21T08:16:20.868Z"
   },
   {
    "duration": 5,
    "start_time": "2022-12-21T08:16:27.742Z"
   },
   {
    "duration": 11,
    "start_time": "2022-12-21T08:16:38.271Z"
   },
   {
    "duration": 16,
    "start_time": "2022-12-21T08:17:18.421Z"
   },
   {
    "duration": 4,
    "start_time": "2022-12-21T08:17:51.616Z"
   },
   {
    "duration": 4,
    "start_time": "2022-12-21T08:18:08.863Z"
   },
   {
    "duration": 11,
    "start_time": "2022-12-21T08:18:09.554Z"
   },
   {
    "duration": 4,
    "start_time": "2022-12-21T08:19:16.030Z"
   },
   {
    "duration": 11,
    "start_time": "2022-12-21T08:19:16.533Z"
   },
   {
    "duration": 13,
    "start_time": "2022-12-21T08:21:15.001Z"
   },
   {
    "duration": 14,
    "start_time": "2022-12-21T08:21:23.238Z"
   },
   {
    "duration": 16,
    "start_time": "2022-12-21T08:21:52.901Z"
   },
   {
    "duration": 4,
    "start_time": "2022-12-21T08:22:22.385Z"
   },
   {
    "duration": 5,
    "start_time": "2022-12-21T08:22:59.801Z"
   },
   {
    "duration": 13,
    "start_time": "2022-12-21T08:23:08.867Z"
   },
   {
    "duration": 13,
    "start_time": "2022-12-21T08:23:29.201Z"
   },
   {
    "duration": 13,
    "start_time": "2022-12-21T08:24:23.062Z"
   },
   {
    "duration": 13,
    "start_time": "2022-12-21T08:24:50.887Z"
   },
   {
    "duration": 18,
    "start_time": "2022-12-21T08:25:06.711Z"
   },
   {
    "duration": 40,
    "start_time": "2022-12-21T08:35:29.297Z"
   },
   {
    "duration": 12,
    "start_time": "2022-12-21T08:35:32.436Z"
   },
   {
    "duration": 7,
    "start_time": "2022-12-21T08:45:00.386Z"
   },
   {
    "duration": 236,
    "start_time": "2022-12-21T08:45:20.511Z"
   },
   {
    "duration": 200,
    "start_time": "2022-12-21T08:45:54.235Z"
   },
   {
    "duration": 304,
    "start_time": "2022-12-21T08:47:50.057Z"
   },
   {
    "duration": 220,
    "start_time": "2022-12-21T08:49:21.861Z"
   },
   {
    "duration": 22,
    "start_time": "2022-12-21T08:50:08.339Z"
   },
   {
    "duration": 4,
    "start_time": "2022-12-21T08:51:51.672Z"
   },
   {
    "duration": 19,
    "start_time": "2022-12-21T08:52:08.318Z"
   },
   {
    "duration": 5,
    "start_time": "2022-12-21T08:52:11.018Z"
   },
   {
    "duration": 194,
    "start_time": "2022-12-21T08:58:23.661Z"
   },
   {
    "duration": 278,
    "start_time": "2022-12-21T09:00:25.761Z"
   },
   {
    "duration": 4,
    "start_time": "2022-12-21T09:01:39.657Z"
   },
   {
    "duration": 245,
    "start_time": "2022-12-21T09:02:20.053Z"
   },
   {
    "duration": 4,
    "start_time": "2022-12-21T09:03:42.787Z"
   },
   {
    "duration": 299,
    "start_time": "2022-12-21T09:03:48.295Z"
   },
   {
    "duration": 4,
    "start_time": "2022-12-21T09:05:10.664Z"
   },
   {
    "duration": 217,
    "start_time": "2022-12-21T09:05:12.386Z"
   },
   {
    "duration": 4,
    "start_time": "2022-12-21T09:05:44.966Z"
   },
   {
    "duration": 204,
    "start_time": "2022-12-21T09:05:45.623Z"
   },
   {
    "duration": 6,
    "start_time": "2022-12-21T09:05:53.324Z"
   },
   {
    "duration": 307,
    "start_time": "2022-12-21T09:05:54.606Z"
   },
   {
    "duration": 5,
    "start_time": "2022-12-21T09:06:23.782Z"
   },
   {
    "duration": 232,
    "start_time": "2022-12-21T09:06:24.475Z"
   },
   {
    "duration": 196,
    "start_time": "2022-12-21T09:06:31.606Z"
   },
   {
    "duration": 19,
    "start_time": "2022-12-21T09:09:23.277Z"
   },
   {
    "duration": 4,
    "start_time": "2022-12-21T09:09:48.284Z"
   },
   {
    "duration": 2,
    "start_time": "2022-12-21T09:09:48.869Z"
   },
   {
    "duration": 485,
    "start_time": "2022-12-21T09:09:49.589Z"
   },
   {
    "duration": 4,
    "start_time": "2022-12-21T09:10:02.706Z"
   },
   {
    "duration": 3,
    "start_time": "2022-12-21T09:10:03.213Z"
   },
   {
    "duration": 376,
    "start_time": "2022-12-21T09:10:03.875Z"
   },
   {
    "duration": 5,
    "start_time": "2022-12-21T09:12:42.717Z"
   },
   {
    "duration": 4,
    "start_time": "2022-12-21T09:12:43.246Z"
   },
   {
    "duration": 3,
    "start_time": "2022-12-21T09:12:43.716Z"
   },
   {
    "duration": 231,
    "start_time": "2022-12-21T09:12:44.717Z"
   },
   {
    "duration": 5,
    "start_time": "2022-12-21T09:13:01.651Z"
   },
   {
    "duration": 4,
    "start_time": "2022-12-21T09:13:02.078Z"
   },
   {
    "duration": 5,
    "start_time": "2022-12-21T09:13:02.532Z"
   },
   {
    "duration": 249,
    "start_time": "2022-12-21T09:13:03.050Z"
   },
   {
    "duration": 6,
    "start_time": "2022-12-21T09:13:20.510Z"
   },
   {
    "duration": 5,
    "start_time": "2022-12-21T09:13:20.923Z"
   },
   {
    "duration": 4,
    "start_time": "2022-12-21T09:13:21.265Z"
   },
   {
    "duration": 472,
    "start_time": "2022-12-21T09:13:21.778Z"
   },
   {
    "duration": 404,
    "start_time": "2022-12-21T09:17:41.845Z"
   },
   {
    "duration": 4,
    "start_time": "2022-12-21T09:17:47.877Z"
   },
   {
    "duration": 4,
    "start_time": "2022-12-21T09:17:48.455Z"
   },
   {
    "duration": 394,
    "start_time": "2022-12-21T09:18:52.209Z"
   },
   {
    "duration": 15,
    "start_time": "2022-12-21T09:21:28.379Z"
   },
   {
    "duration": 317,
    "start_time": "2022-12-21T09:22:11.274Z"
   },
   {
    "duration": 208,
    "start_time": "2022-12-21T09:22:28.415Z"
   },
   {
    "duration": 417,
    "start_time": "2022-12-21T09:30:04.477Z"
   },
   {
    "duration": 48,
    "start_time": "2022-12-21T09:30:20.833Z"
   },
   {
    "duration": 397,
    "start_time": "2022-12-21T09:30:25.315Z"
   },
   {
    "duration": 384,
    "start_time": "2022-12-21T09:31:01.996Z"
   },
   {
    "duration": 427,
    "start_time": "2022-12-21T09:31:14.530Z"
   },
   {
    "duration": 13,
    "start_time": "2022-12-21T09:37:01.088Z"
   },
   {
    "duration": 182,
    "start_time": "2022-12-21T09:37:28.479Z"
   },
   {
    "duration": 313,
    "start_time": "2022-12-21T09:37:45.670Z"
   },
   {
    "duration": 203,
    "start_time": "2022-12-21T09:38:00.840Z"
   },
   {
    "duration": 202,
    "start_time": "2022-12-21T09:40:48.753Z"
   },
   {
    "duration": 255,
    "start_time": "2022-12-21T09:40:54.200Z"
   },
   {
    "duration": 224,
    "start_time": "2022-12-21T09:46:53.559Z"
   },
   {
    "duration": 564,
    "start_time": "2022-12-21T09:50:18.329Z"
   },
   {
    "duration": 537,
    "start_time": "2022-12-21T09:50:50.914Z"
   },
   {
    "duration": 216,
    "start_time": "2022-12-21T09:51:15.848Z"
   },
   {
    "duration": 354,
    "start_time": "2022-12-21T09:51:35.234Z"
   },
   {
    "duration": 187,
    "start_time": "2022-12-21T09:51:56.641Z"
   },
   {
    "duration": 63,
    "start_time": "2022-12-21T09:52:22.030Z"
   },
   {
    "duration": 501,
    "start_time": "2022-12-21T09:52:26.748Z"
   },
   {
    "duration": 461,
    "start_time": "2022-12-21T09:53:00.776Z"
   },
   {
    "duration": 428,
    "start_time": "2022-12-21T09:53:27.258Z"
   },
   {
    "duration": 460,
    "start_time": "2022-12-21T09:57:07.478Z"
   },
   {
    "duration": 997,
    "start_time": "2022-12-21T09:57:38.245Z"
   },
   {
    "duration": 786,
    "start_time": "2022-12-21T09:58:09.876Z"
   },
   {
    "duration": 838,
    "start_time": "2022-12-21T09:58:25.117Z"
   },
   {
    "duration": 959,
    "start_time": "2022-12-21T09:59:21.754Z"
   },
   {
    "duration": 849,
    "start_time": "2022-12-21T10:00:08.985Z"
   },
   {
    "duration": 773,
    "start_time": "2022-12-21T10:00:30.626Z"
   },
   {
    "duration": 401,
    "start_time": "2022-12-21T10:01:02.691Z"
   },
   {
    "duration": 382,
    "start_time": "2022-12-21T10:01:27.168Z"
   },
   {
    "duration": 429,
    "start_time": "2022-12-21T10:02:03.233Z"
   },
   {
    "duration": 402,
    "start_time": "2022-12-21T10:03:05.698Z"
   },
   {
    "duration": 395,
    "start_time": "2022-12-21T10:03:56.253Z"
   },
   {
    "duration": 509,
    "start_time": "2022-12-21T10:04:03.190Z"
   },
   {
    "duration": 384,
    "start_time": "2022-12-21T10:04:15.377Z"
   },
   {
    "duration": 383,
    "start_time": "2022-12-21T10:04:32.022Z"
   },
   {
    "duration": 405,
    "start_time": "2022-12-21T10:05:45.013Z"
   },
   {
    "duration": 412,
    "start_time": "2022-12-21T10:05:59.877Z"
   },
   {
    "duration": 508,
    "start_time": "2022-12-21T10:06:24.349Z"
   },
   {
    "duration": 375,
    "start_time": "2022-12-21T10:06:46.082Z"
   },
   {
    "duration": 411,
    "start_time": "2022-12-21T10:07:08.879Z"
   },
   {
    "duration": 392,
    "start_time": "2022-12-21T10:07:35.987Z"
   },
   {
    "duration": 392,
    "start_time": "2022-12-21T10:08:02.866Z"
   },
   {
    "duration": 764,
    "start_time": "2022-12-21T10:08:17.466Z"
   },
   {
    "duration": 59,
    "start_time": "2022-12-21T10:08:54.502Z"
   },
   {
    "duration": 459,
    "start_time": "2022-12-21T10:09:04.071Z"
   },
   {
    "duration": 3,
    "start_time": "2022-12-21T10:10:13.721Z"
   },
   {
    "duration": 418,
    "start_time": "2022-12-21T10:13:32.048Z"
   },
   {
    "duration": 13,
    "start_time": "2022-12-21T10:14:49.153Z"
   },
   {
    "duration": 440,
    "start_time": "2022-12-21T10:14:49.803Z"
   },
   {
    "duration": 373,
    "start_time": "2022-12-21T10:16:26.522Z"
   },
   {
    "duration": 391,
    "start_time": "2022-12-21T10:16:42.958Z"
   },
   {
    "duration": 507,
    "start_time": "2022-12-21T10:17:51.191Z"
   },
   {
    "duration": 369,
    "start_time": "2022-12-21T10:19:02.788Z"
   },
   {
    "duration": 34,
    "start_time": "2022-12-21T10:23:44.625Z"
   },
   {
    "duration": 54,
    "start_time": "2022-12-21T10:24:06.450Z"
   },
   {
    "duration": 46,
    "start_time": "2022-12-21T10:24:17.068Z"
   },
   {
    "duration": 33,
    "start_time": "2022-12-21T10:24:33.111Z"
   },
   {
    "duration": 26,
    "start_time": "2022-12-21T10:31:16.150Z"
   },
   {
    "duration": 25,
    "start_time": "2022-12-21T10:31:39.813Z"
   },
   {
    "duration": 15,
    "start_time": "2022-12-21T10:31:45.705Z"
   },
   {
    "duration": 12,
    "start_time": "2022-12-21T10:31:52.389Z"
   },
   {
    "duration": 11,
    "start_time": "2022-12-21T10:32:00.419Z"
   },
   {
    "duration": 11,
    "start_time": "2022-12-21T10:55:52.612Z"
   },
   {
    "duration": 12,
    "start_time": "2022-12-21T10:56:47.094Z"
   },
   {
    "duration": 6,
    "start_time": "2022-12-21T10:56:50.925Z"
   },
   {
    "duration": 13,
    "start_time": "2022-12-21T10:57:03.086Z"
   },
   {
    "duration": 9,
    "start_time": "2022-12-21T10:57:56.364Z"
   },
   {
    "duration": 1454,
    "start_time": "2022-12-21T10:58:09.237Z"
   },
   {
    "duration": 71,
    "start_time": "2022-12-21T10:58:10.694Z"
   },
   {
    "duration": 157,
    "start_time": "2022-12-21T10:58:10.767Z"
   },
   {
    "duration": 996,
    "start_time": "2022-12-21T10:58:10.927Z"
   },
   {
    "duration": 78,
    "start_time": "2022-12-21T10:58:11.924Z"
   },
   {
    "duration": 116,
    "start_time": "2022-12-21T10:58:12.004Z"
   },
   {
    "duration": 69,
    "start_time": "2022-12-21T10:58:12.123Z"
   },
   {
    "duration": 48,
    "start_time": "2022-12-21T10:58:12.195Z"
   },
   {
    "duration": 127,
    "start_time": "2022-12-21T10:58:12.245Z"
   },
   {
    "duration": 57,
    "start_time": "2022-12-21T10:58:12.374Z"
   },
   {
    "duration": 52,
    "start_time": "2022-12-21T10:58:12.434Z"
   },
   {
    "duration": 463,
    "start_time": "2022-12-21T10:58:12.488Z"
   },
   {
    "duration": 66,
    "start_time": "2022-12-21T10:58:12.964Z"
   },
   {
    "duration": 273,
    "start_time": "2022-12-21T10:58:13.032Z"
   },
   {
    "duration": 109,
    "start_time": "2022-12-21T10:58:13.307Z"
   },
   {
    "duration": 67,
    "start_time": "2022-12-21T10:58:13.418Z"
   },
   {
    "duration": 58,
    "start_time": "2022-12-21T10:58:13.495Z"
   },
   {
    "duration": 238,
    "start_time": "2022-12-21T10:58:13.556Z"
   },
   {
    "duration": 34,
    "start_time": "2022-12-21T10:58:13.797Z"
   },
   {
    "duration": 73,
    "start_time": "2022-12-21T10:58:13.833Z"
   },
   {
    "duration": 82,
    "start_time": "2022-12-21T10:58:13.908Z"
   },
   {
    "duration": 133,
    "start_time": "2022-12-21T10:58:13.992Z"
   },
   {
    "duration": 339,
    "start_time": "2022-12-21T10:58:14.127Z"
   },
   {
    "duration": 22,
    "start_time": "2022-12-21T10:58:14.486Z"
   },
   {
    "duration": 48,
    "start_time": "2022-12-21T10:58:14.510Z"
   },
   {
    "duration": 53,
    "start_time": "2022-12-21T10:58:14.560Z"
   },
   {
    "duration": 40,
    "start_time": "2022-12-21T10:58:14.615Z"
   },
   {
    "duration": 55,
    "start_time": "2022-12-21T10:58:14.661Z"
   },
   {
    "duration": 219,
    "start_time": "2022-12-21T10:58:14.718Z"
   },
   {
    "duration": 6,
    "start_time": "2022-12-21T10:58:14.939Z"
   },
   {
    "duration": 38,
    "start_time": "2022-12-21T10:58:14.948Z"
   },
   {
    "duration": 118,
    "start_time": "2022-12-21T10:58:14.988Z"
   },
   {
    "duration": 5,
    "start_time": "2022-12-21T10:58:15.108Z"
   },
   {
    "duration": 48,
    "start_time": "2022-12-21T10:58:15.115Z"
   },
   {
    "duration": 47,
    "start_time": "2022-12-21T10:58:15.165Z"
   },
   {
    "duration": 31,
    "start_time": "2022-12-21T10:58:15.215Z"
   },
   {
    "duration": 48,
    "start_time": "2022-12-21T10:58:15.247Z"
   },
   {
    "duration": 41,
    "start_time": "2022-12-21T10:58:15.297Z"
   },
   {
    "duration": 21,
    "start_time": "2022-12-21T10:58:15.340Z"
   },
   {
    "duration": 85,
    "start_time": "2022-12-21T10:58:15.364Z"
   },
   {
    "duration": 49,
    "start_time": "2022-12-21T10:58:15.451Z"
   },
   {
    "duration": 80,
    "start_time": "2022-12-21T10:58:15.502Z"
   },
   {
    "duration": 118,
    "start_time": "2022-12-21T10:58:15.584Z"
   },
   {
    "duration": 601,
    "start_time": "2022-12-21T10:58:15.705Z"
   },
   {
    "duration": 540,
    "start_time": "2022-12-21T10:58:16.309Z"
   },
   {
    "duration": 479,
    "start_time": "2022-12-21T10:58:16.851Z"
   },
   {
    "duration": 429,
    "start_time": "2022-12-21T10:58:17.333Z"
   },
   {
    "duration": 19,
    "start_time": "2022-12-21T10:58:17.764Z"
   },
   {
    "duration": 108,
    "start_time": "2022-12-21T10:58:17.785Z"
   },
   {
    "duration": 109,
    "start_time": "2022-12-21T10:58:17.896Z"
   },
   {
    "duration": 232,
    "start_time": "2022-12-21T10:58:18.007Z"
   },
   {
    "duration": 10,
    "start_time": "2022-12-21T10:58:18.241Z"
   },
   {
    "duration": 76,
    "start_time": "2022-12-21T10:58:18.253Z"
   },
   {
    "duration": 122,
    "start_time": "2022-12-21T10:58:18.331Z"
   },
   {
    "duration": 128,
    "start_time": "2022-12-21T10:58:18.456Z"
   },
   {
    "duration": 63,
    "start_time": "2022-12-21T10:58:18.587Z"
   },
   {
    "duration": 84,
    "start_time": "2022-12-21T10:58:18.653Z"
   },
   {
    "duration": 52,
    "start_time": "2022-12-21T10:58:18.739Z"
   },
   {
    "duration": 88,
    "start_time": "2022-12-21T10:58:18.793Z"
   },
   {
    "duration": 60,
    "start_time": "2022-12-21T10:58:18.883Z"
   },
   {
    "duration": 46,
    "start_time": "2022-12-21T19:36:52.480Z"
   },
   {
    "duration": 1385,
    "start_time": "2022-12-21T19:37:01.702Z"
   },
   {
    "duration": 77,
    "start_time": "2022-12-21T19:37:03.089Z"
   },
   {
    "duration": 201,
    "start_time": "2022-12-21T19:37:03.168Z"
   },
   {
    "duration": 1010,
    "start_time": "2022-12-21T19:37:03.371Z"
   },
   {
    "duration": 180,
    "start_time": "2022-12-21T19:37:04.383Z"
   },
   {
    "duration": 14,
    "start_time": "2022-12-21T19:37:04.564Z"
   },
   {
    "duration": 10,
    "start_time": "2022-12-21T19:37:04.579Z"
   },
   {
    "duration": 7,
    "start_time": "2022-12-21T19:37:04.590Z"
   },
   {
    "duration": 49,
    "start_time": "2022-12-21T19:37:04.598Z"
   },
   {
    "duration": 14,
    "start_time": "2022-12-21T19:37:04.650Z"
   },
   {
    "duration": 14,
    "start_time": "2022-12-21T19:37:04.665Z"
   },
   {
    "duration": 325,
    "start_time": "2022-12-21T19:37:04.681Z"
   },
   {
    "duration": 55,
    "start_time": "2022-12-21T19:37:05.008Z"
   },
   {
    "duration": 146,
    "start_time": "2022-12-21T19:37:05.065Z"
   },
   {
    "duration": 16,
    "start_time": "2022-12-21T19:37:05.213Z"
   },
   {
    "duration": 8,
    "start_time": "2022-12-21T19:37:05.231Z"
   },
   {
    "duration": 4,
    "start_time": "2022-12-21T19:37:05.241Z"
   },
   {
    "duration": 158,
    "start_time": "2022-12-21T19:37:05.246Z"
   },
   {
    "duration": 24,
    "start_time": "2022-12-21T19:37:05.406Z"
   },
   {
    "duration": 23,
    "start_time": "2022-12-21T19:37:05.431Z"
   },
   {
    "duration": 14,
    "start_time": "2022-12-21T19:37:05.455Z"
   },
   {
    "duration": 77,
    "start_time": "2022-12-21T19:37:05.471Z"
   },
   {
    "duration": 238,
    "start_time": "2022-12-21T19:37:05.549Z"
   },
   {
    "duration": 16,
    "start_time": "2022-12-21T19:37:05.804Z"
   },
   {
    "duration": 10,
    "start_time": "2022-12-21T19:37:05.822Z"
   },
   {
    "duration": 12,
    "start_time": "2022-12-21T19:37:05.834Z"
   },
   {
    "duration": 13,
    "start_time": "2022-12-21T19:37:05.847Z"
   },
   {
    "duration": 15,
    "start_time": "2022-12-21T19:37:05.864Z"
   },
   {
    "duration": 45,
    "start_time": "2022-12-21T19:37:05.881Z"
   },
   {
    "duration": 159,
    "start_time": "2022-12-21T19:37:05.928Z"
   },
   {
    "duration": 5,
    "start_time": "2022-12-21T19:37:06.088Z"
   },
   {
    "duration": 12,
    "start_time": "2022-12-21T19:37:06.094Z"
   },
   {
    "duration": 53,
    "start_time": "2022-12-21T19:37:06.107Z"
   },
   {
    "duration": 4,
    "start_time": "2022-12-21T19:37:06.161Z"
   },
   {
    "duration": 7,
    "start_time": "2022-12-21T19:37:06.167Z"
   },
   {
    "duration": 37,
    "start_time": "2022-12-21T19:37:06.175Z"
   },
   {
    "duration": 20,
    "start_time": "2022-12-21T19:37:06.214Z"
   },
   {
    "duration": 18,
    "start_time": "2022-12-21T19:37:06.235Z"
   },
   {
    "duration": 18,
    "start_time": "2022-12-21T19:37:06.255Z"
   },
   {
    "duration": 43,
    "start_time": "2022-12-21T19:37:06.274Z"
   },
   {
    "duration": 26,
    "start_time": "2022-12-21T19:37:06.318Z"
   },
   {
    "duration": 7,
    "start_time": "2022-12-21T19:37:06.346Z"
   },
   {
    "duration": 7,
    "start_time": "2022-12-21T19:37:06.355Z"
   },
   {
    "duration": 7,
    "start_time": "2022-12-21T19:37:06.363Z"
   },
   {
    "duration": 454,
    "start_time": "2022-12-21T19:37:06.371Z"
   },
   {
    "duration": 422,
    "start_time": "2022-12-21T19:37:06.826Z"
   },
   {
    "duration": 400,
    "start_time": "2022-12-21T19:37:07.250Z"
   },
   {
    "duration": 345,
    "start_time": "2022-12-21T19:37:07.651Z"
   },
   {
    "duration": 10,
    "start_time": "2022-12-21T19:37:07.998Z"
   },
   {
    "duration": 32,
    "start_time": "2022-12-21T19:37:08.009Z"
   },
   {
    "duration": 14,
    "start_time": "2022-12-21T19:37:08.043Z"
   },
   {
    "duration": 172,
    "start_time": "2022-12-21T19:37:08.058Z"
   },
   {
    "duration": 10,
    "start_time": "2022-12-21T19:37:08.231Z"
   },
   {
    "duration": 18,
    "start_time": "2022-12-21T19:37:08.243Z"
   },
   {
    "duration": 43,
    "start_time": "2022-12-21T19:37:08.263Z"
   },
   {
    "duration": 17,
    "start_time": "2022-12-21T19:37:08.307Z"
   },
   {
    "duration": 13,
    "start_time": "2022-12-21T19:37:08.326Z"
   },
   {
    "duration": 76,
    "start_time": "2022-12-21T19:37:08.340Z"
   },
   {
    "duration": 5,
    "start_time": "2022-12-21T19:37:08.418Z"
   },
   {
    "duration": 13,
    "start_time": "2022-12-21T19:37:08.424Z"
   },
   {
    "duration": 12,
    "start_time": "2022-12-21T19:37:08.438Z"
   },
   {
    "duration": 1245,
    "start_time": "2023-02-21T17:34:28.667Z"
   },
   {
    "duration": 80,
    "start_time": "2023-02-21T17:34:29.914Z"
   },
   {
    "duration": 202,
    "start_time": "2023-02-21T17:34:29.996Z"
   },
   {
    "duration": 767,
    "start_time": "2023-02-21T17:34:30.200Z"
   },
   {
    "duration": 75,
    "start_time": "2023-02-21T17:34:30.968Z"
   },
   {
    "duration": 11,
    "start_time": "2023-02-21T17:34:31.045Z"
   },
   {
    "duration": 32,
    "start_time": "2023-02-21T17:34:31.057Z"
   },
   {
    "duration": 28,
    "start_time": "2023-02-21T17:34:31.090Z"
   },
   {
    "duration": 82,
    "start_time": "2023-02-21T17:34:31.120Z"
   },
   {
    "duration": 19,
    "start_time": "2023-02-21T17:34:31.204Z"
   },
   {
    "duration": 38,
    "start_time": "2023-02-21T17:34:31.224Z"
   },
   {
    "duration": 298,
    "start_time": "2023-02-21T17:34:31.264Z"
   },
   {
    "duration": 52,
    "start_time": "2023-02-21T17:34:31.564Z"
   },
   {
    "duration": 150,
    "start_time": "2023-02-21T17:34:31.617Z"
   },
   {
    "duration": 16,
    "start_time": "2023-02-21T17:34:31.768Z"
   },
   {
    "duration": 15,
    "start_time": "2023-02-21T17:34:31.786Z"
   },
   {
    "duration": 30,
    "start_time": "2023-02-21T17:34:31.803Z"
   },
   {
    "duration": 144,
    "start_time": "2023-02-21T17:34:31.834Z"
   },
   {
    "duration": 24,
    "start_time": "2023-02-21T17:34:31.980Z"
   },
   {
    "duration": 50,
    "start_time": "2023-02-21T17:34:32.005Z"
   },
   {
    "duration": 26,
    "start_time": "2023-02-21T17:34:32.057Z"
   },
   {
    "duration": 67,
    "start_time": "2023-02-21T17:34:32.087Z"
   },
   {
    "duration": 214,
    "start_time": "2023-02-21T17:34:32.155Z"
   },
   {
    "duration": 14,
    "start_time": "2023-02-21T17:34:32.371Z"
   },
   {
    "duration": 42,
    "start_time": "2023-02-21T17:34:32.386Z"
   },
   {
    "duration": 23,
    "start_time": "2023-02-21T17:34:32.429Z"
   },
   {
    "duration": 35,
    "start_time": "2023-02-21T17:34:32.454Z"
   },
   {
    "duration": 33,
    "start_time": "2023-02-21T17:34:32.492Z"
   },
   {
    "duration": 35,
    "start_time": "2023-02-21T17:34:32.526Z"
   },
   {
    "duration": 154,
    "start_time": "2023-02-21T17:34:32.563Z"
   },
   {
    "duration": 5,
    "start_time": "2023-02-21T17:34:32.719Z"
   },
   {
    "duration": 23,
    "start_time": "2023-02-21T17:34:32.725Z"
   },
   {
    "duration": 47,
    "start_time": "2023-02-21T17:34:32.749Z"
   },
   {
    "duration": 4,
    "start_time": "2023-02-21T17:34:32.798Z"
   },
   {
    "duration": 46,
    "start_time": "2023-02-21T17:34:32.803Z"
   },
   {
    "duration": 27,
    "start_time": "2023-02-21T17:34:32.850Z"
   },
   {
    "duration": 43,
    "start_time": "2023-02-21T17:34:32.879Z"
   },
   {
    "duration": 19,
    "start_time": "2023-02-21T17:34:32.924Z"
   },
   {
    "duration": 22,
    "start_time": "2023-02-21T17:34:32.944Z"
   },
   {
    "duration": 36,
    "start_time": "2023-02-21T17:34:32.967Z"
   },
   {
    "duration": 32,
    "start_time": "2023-02-21T17:34:33.005Z"
   },
   {
    "duration": 18,
    "start_time": "2023-02-21T17:34:33.038Z"
   },
   {
    "duration": 25,
    "start_time": "2023-02-21T17:34:33.057Z"
   },
   {
    "duration": 21,
    "start_time": "2023-02-21T17:34:33.083Z"
   },
   {
    "duration": 419,
    "start_time": "2023-02-21T17:34:33.105Z"
   },
   {
    "duration": 388,
    "start_time": "2023-02-21T17:34:33.525Z"
   },
   {
    "duration": 341,
    "start_time": "2023-02-21T17:34:33.915Z"
   },
   {
    "duration": 307,
    "start_time": "2023-02-21T17:34:34.258Z"
   },
   {
    "duration": 7,
    "start_time": "2023-02-21T17:34:34.567Z"
   },
   {
    "duration": 24,
    "start_time": "2023-02-21T17:34:34.575Z"
   },
   {
    "duration": 13,
    "start_time": "2023-02-21T17:34:34.601Z"
   },
   {
    "duration": 173,
    "start_time": "2023-02-21T17:34:34.615Z"
   },
   {
    "duration": 12,
    "start_time": "2023-02-21T17:34:34.790Z"
   },
   {
    "duration": 22,
    "start_time": "2023-02-21T17:34:34.804Z"
   },
   {
    "duration": 23,
    "start_time": "2023-02-21T17:34:34.827Z"
   },
   {
    "duration": 45,
    "start_time": "2023-02-21T17:34:34.851Z"
   },
   {
    "duration": 25,
    "start_time": "2023-02-21T17:34:34.897Z"
   },
   {
    "duration": 29,
    "start_time": "2023-02-21T17:34:34.924Z"
   },
   {
    "duration": 4,
    "start_time": "2023-02-21T17:34:34.955Z"
   },
   {
    "duration": 22,
    "start_time": "2023-02-21T17:34:34.961Z"
   },
   {
    "duration": 17,
    "start_time": "2023-02-21T17:34:34.984Z"
   },
   {
    "duration": 1367,
    "start_time": "2023-06-21T12:37:02.632Z"
   },
   {
    "duration": 733,
    "start_time": "2023-06-21T12:37:04.001Z"
   },
   {
    "duration": 175,
    "start_time": "2023-06-21T12:37:04.736Z"
   },
   {
    "duration": 733,
    "start_time": "2023-06-21T12:37:04.913Z"
   },
   {
    "duration": 88,
    "start_time": "2023-06-21T12:37:05.648Z"
   },
   {
    "duration": 185,
    "start_time": "2023-06-21T12:37:05.738Z"
   },
   {
    "duration": 106,
    "start_time": "2023-06-21T12:37:05.924Z"
   },
   {
    "duration": 41,
    "start_time": "2023-06-21T12:37:06.032Z"
   },
   {
    "duration": 66,
    "start_time": "2023-06-21T12:37:06.074Z"
   },
   {
    "duration": 13,
    "start_time": "2023-06-21T12:37:06.142Z"
   },
   {
    "duration": 27,
    "start_time": "2023-06-21T12:37:06.157Z"
   },
   {
    "duration": 306,
    "start_time": "2023-06-21T12:37:06.185Z"
   },
   {
    "duration": 56,
    "start_time": "2023-06-21T12:37:06.492Z"
   },
   {
    "duration": 144,
    "start_time": "2023-06-21T12:37:06.551Z"
   },
   {
    "duration": 14,
    "start_time": "2023-06-21T12:37:06.697Z"
   },
   {
    "duration": 19,
    "start_time": "2023-06-21T12:37:06.713Z"
   },
   {
    "duration": 17,
    "start_time": "2023-06-21T12:37:06.733Z"
   },
   {
    "duration": 140,
    "start_time": "2023-06-21T12:37:06.752Z"
   },
   {
    "duration": 26,
    "start_time": "2023-06-21T12:37:06.893Z"
   },
   {
    "duration": 33,
    "start_time": "2023-06-21T12:37:06.920Z"
   },
   {
    "duration": 49,
    "start_time": "2023-06-21T12:37:06.954Z"
   },
   {
    "duration": 65,
    "start_time": "2023-06-21T12:37:07.004Z"
   },
   {
    "duration": 232,
    "start_time": "2023-06-21T12:37:07.070Z"
   },
   {
    "duration": 31,
    "start_time": "2023-06-21T12:37:07.304Z"
   },
   {
    "duration": 9,
    "start_time": "2023-06-21T12:37:07.337Z"
   },
   {
    "duration": 40,
    "start_time": "2023-06-21T12:37:07.348Z"
   },
   {
    "duration": 32,
    "start_time": "2023-06-21T12:37:07.390Z"
   },
   {
    "duration": 15,
    "start_time": "2023-06-21T12:37:07.424Z"
   },
   {
    "duration": 24,
    "start_time": "2023-06-21T12:37:07.441Z"
   },
   {
    "duration": 161,
    "start_time": "2023-06-21T12:37:07.467Z"
   },
   {
    "duration": 5,
    "start_time": "2023-06-21T12:37:07.630Z"
   },
   {
    "duration": 59,
    "start_time": "2023-06-21T12:37:07.636Z"
   },
   {
    "duration": 79,
    "start_time": "2023-06-21T12:37:07.697Z"
   },
   {
    "duration": 5,
    "start_time": "2023-06-21T12:37:07.778Z"
   },
   {
    "duration": 17,
    "start_time": "2023-06-21T12:37:07.784Z"
   },
   {
    "duration": 23,
    "start_time": "2023-06-21T12:37:07.803Z"
   },
   {
    "duration": 52,
    "start_time": "2023-06-21T12:37:07.827Z"
   },
   {
    "duration": 37,
    "start_time": "2023-06-21T12:37:07.881Z"
   },
   {
    "duration": 21,
    "start_time": "2023-06-21T12:37:07.920Z"
   },
   {
    "duration": 14,
    "start_time": "2023-06-21T12:37:07.942Z"
   },
   {
    "duration": 29,
    "start_time": "2023-06-21T12:37:07.960Z"
   },
   {
    "duration": 17,
    "start_time": "2023-06-21T12:37:07.991Z"
   },
   {
    "duration": 22,
    "start_time": "2023-06-21T12:37:08.010Z"
   },
   {
    "duration": 32,
    "start_time": "2023-06-21T12:37:08.033Z"
   },
   {
    "duration": 424,
    "start_time": "2023-06-21T12:37:08.067Z"
   },
   {
    "duration": 397,
    "start_time": "2023-06-21T12:37:08.493Z"
   },
   {
    "duration": 341,
    "start_time": "2023-06-21T12:37:08.892Z"
   },
   {
    "duration": 310,
    "start_time": "2023-06-21T12:37:09.235Z"
   },
   {
    "duration": 10,
    "start_time": "2023-06-21T12:37:09.546Z"
   },
   {
    "duration": 26,
    "start_time": "2023-06-21T12:37:09.557Z"
   },
   {
    "duration": 31,
    "start_time": "2023-06-21T12:37:09.584Z"
   },
   {
    "duration": 148,
    "start_time": "2023-06-21T12:37:09.616Z"
   },
   {
    "duration": 9,
    "start_time": "2023-06-21T12:37:09.765Z"
   },
   {
    "duration": 95,
    "start_time": "2023-06-21T12:37:09.776Z"
   },
   {
    "duration": 15,
    "start_time": "2023-06-21T12:37:09.873Z"
   },
   {
    "duration": 31,
    "start_time": "2023-06-21T12:37:09.890Z"
   },
   {
    "duration": 22,
    "start_time": "2023-06-21T12:37:09.922Z"
   },
   {
    "duration": 28,
    "start_time": "2023-06-21T12:37:09.945Z"
   },
   {
    "duration": 4,
    "start_time": "2023-06-21T12:37:09.975Z"
   },
   {
    "duration": 10,
    "start_time": "2023-06-21T12:37:09.981Z"
   },
   {
    "duration": 11,
    "start_time": "2023-06-21T12:37:09.993Z"
   },
   {
    "duration": 1205,
    "start_time": "2023-06-21T12:37:34.504Z"
   },
   {
    "duration": 64,
    "start_time": "2023-06-21T12:37:35.711Z"
   },
   {
    "duration": 144,
    "start_time": "2023-06-21T12:37:35.776Z"
   },
   {
    "duration": 761,
    "start_time": "2023-06-21T12:37:35.922Z"
   },
   {
    "duration": 94,
    "start_time": "2023-06-21T12:37:36.685Z"
   },
   {
    "duration": 11,
    "start_time": "2023-06-21T12:37:36.780Z"
   },
   {
    "duration": 22,
    "start_time": "2023-06-21T12:37:36.792Z"
   },
   {
    "duration": 11,
    "start_time": "2023-06-21T12:37:36.815Z"
   },
   {
    "duration": 78,
    "start_time": "2023-06-21T12:37:36.828Z"
   },
   {
    "duration": 18,
    "start_time": "2023-06-21T12:37:36.908Z"
   },
   {
    "duration": 38,
    "start_time": "2023-06-21T12:37:36.928Z"
   },
   {
    "duration": 325,
    "start_time": "2023-06-21T12:37:36.968Z"
   },
   {
    "duration": 61,
    "start_time": "2023-06-21T12:37:37.294Z"
   },
   {
    "duration": 128,
    "start_time": "2023-06-21T12:37:37.357Z"
   },
   {
    "duration": 17,
    "start_time": "2023-06-21T12:37:37.487Z"
   },
   {
    "duration": 30,
    "start_time": "2023-06-21T12:37:37.506Z"
   },
   {
    "duration": 12,
    "start_time": "2023-06-21T12:37:37.537Z"
   },
   {
    "duration": 142,
    "start_time": "2023-06-21T12:37:37.550Z"
   },
   {
    "duration": 25,
    "start_time": "2023-06-21T12:37:37.693Z"
   },
   {
    "duration": 31,
    "start_time": "2023-06-21T12:37:37.719Z"
   },
   {
    "duration": 16,
    "start_time": "2023-06-21T12:37:37.752Z"
   },
   {
    "duration": 77,
    "start_time": "2023-06-21T12:37:37.769Z"
   },
   {
    "duration": 233,
    "start_time": "2023-06-21T12:37:37.847Z"
   },
   {
    "duration": 14,
    "start_time": "2023-06-21T12:37:38.082Z"
   },
   {
    "duration": 17,
    "start_time": "2023-06-21T12:37:38.097Z"
   },
   {
    "duration": 19,
    "start_time": "2023-06-21T12:37:38.116Z"
   },
   {
    "duration": 32,
    "start_time": "2023-06-21T12:37:38.136Z"
   },
   {
    "duration": 17,
    "start_time": "2023-06-21T12:37:38.171Z"
   },
   {
    "duration": 29,
    "start_time": "2023-06-21T12:37:38.189Z"
   },
   {
    "duration": 138,
    "start_time": "2023-06-21T12:37:38.219Z"
   },
   {
    "duration": 6,
    "start_time": "2023-06-21T12:37:38.358Z"
   },
   {
    "duration": 14,
    "start_time": "2023-06-21T12:37:38.365Z"
   },
   {
    "duration": 53,
    "start_time": "2023-06-21T12:37:38.381Z"
   },
   {
    "duration": 4,
    "start_time": "2023-06-21T12:37:38.435Z"
   },
   {
    "duration": 50,
    "start_time": "2023-06-21T12:37:38.440Z"
   },
   {
    "duration": 14,
    "start_time": "2023-06-21T12:37:38.491Z"
   },
   {
    "duration": 35,
    "start_time": "2023-06-21T12:37:38.506Z"
   },
   {
    "duration": 16,
    "start_time": "2023-06-21T12:37:38.543Z"
   },
   {
    "duration": 17,
    "start_time": "2023-06-21T12:37:38.561Z"
   },
   {
    "duration": 24,
    "start_time": "2023-06-21T12:37:38.579Z"
   },
   {
    "duration": 45,
    "start_time": "2023-06-21T12:37:38.605Z"
   },
   {
    "duration": 8,
    "start_time": "2023-06-21T12:37:38.652Z"
   },
   {
    "duration": 21,
    "start_time": "2023-06-21T12:37:38.661Z"
   },
   {
    "duration": 13,
    "start_time": "2023-06-21T12:37:38.684Z"
   },
   {
    "duration": 399,
    "start_time": "2023-06-21T12:37:38.698Z"
   },
   {
    "duration": 399,
    "start_time": "2023-06-21T12:37:39.098Z"
   },
   {
    "duration": 368,
    "start_time": "2023-06-21T12:37:39.499Z"
   },
   {
    "duration": 320,
    "start_time": "2023-06-21T12:37:39.868Z"
   },
   {
    "duration": 7,
    "start_time": "2023-06-21T12:37:40.190Z"
   },
   {
    "duration": 42,
    "start_time": "2023-06-21T12:37:40.198Z"
   },
   {
    "duration": 13,
    "start_time": "2023-06-21T12:37:40.242Z"
   },
   {
    "duration": 171,
    "start_time": "2023-06-21T12:37:40.257Z"
   },
   {
    "duration": 9,
    "start_time": "2023-06-21T12:37:40.429Z"
   },
   {
    "duration": 44,
    "start_time": "2023-06-21T12:37:40.439Z"
   },
   {
    "duration": 52,
    "start_time": "2023-06-21T12:37:40.485Z"
   },
   {
    "duration": 34,
    "start_time": "2023-06-21T12:37:40.540Z"
   },
   {
    "duration": 32,
    "start_time": "2023-06-21T12:37:40.576Z"
   },
   {
    "duration": 36,
    "start_time": "2023-06-21T12:37:40.609Z"
   },
   {
    "duration": 6,
    "start_time": "2023-06-21T12:37:40.646Z"
   },
   {
    "duration": 24,
    "start_time": "2023-06-21T12:37:40.653Z"
   },
   {
    "duration": 22,
    "start_time": "2023-06-21T12:37:40.678Z"
   },
   {
    "duration": 1386,
    "start_time": "2023-06-24T13:13:44.222Z"
   },
   {
    "duration": 52,
    "start_time": "2023-06-24T13:13:45.611Z"
   },
   {
    "duration": 167,
    "start_time": "2023-06-24T13:13:45.665Z"
   },
   {
    "duration": 771,
    "start_time": "2023-06-24T13:13:45.835Z"
   },
   {
    "duration": 85,
    "start_time": "2023-06-24T13:13:46.608Z"
   },
   {
    "duration": 12,
    "start_time": "2023-06-24T13:13:46.695Z"
   },
   {
    "duration": 8,
    "start_time": "2023-06-24T13:13:46.708Z"
   },
   {
    "duration": 7,
    "start_time": "2023-06-24T13:13:46.718Z"
   },
   {
    "duration": 57,
    "start_time": "2023-06-24T13:13:46.726Z"
   },
   {
    "duration": 20,
    "start_time": "2023-06-24T13:13:46.786Z"
   },
   {
    "duration": 25,
    "start_time": "2023-06-24T13:13:46.808Z"
   },
   {
    "duration": 350,
    "start_time": "2023-06-24T13:13:46.834Z"
   },
   {
    "duration": 61,
    "start_time": "2023-06-24T13:13:47.186Z"
   },
   {
    "duration": 142,
    "start_time": "2023-06-24T13:13:47.249Z"
   },
   {
    "duration": 21,
    "start_time": "2023-06-24T13:13:47.393Z"
   },
   {
    "duration": 8,
    "start_time": "2023-06-24T13:13:47.416Z"
   },
   {
    "duration": 170,
    "start_time": "2023-06-24T13:13:47.425Z"
   },
   {
    "duration": 28,
    "start_time": "2023-06-24T13:13:47.602Z"
   },
   {
    "duration": 27,
    "start_time": "2023-06-24T13:13:47.632Z"
   },
   {
    "duration": 15,
    "start_time": "2023-06-24T13:13:47.661Z"
   },
   {
    "duration": 52450,
    "start_time": "2023-06-24T13:13:47.678Z"
   },
   {
    "duration": 294,
    "start_time": "2023-06-24T13:14:40.130Z"
   },
   {
    "duration": 21,
    "start_time": "2023-06-24T13:14:40.426Z"
   },
   {
    "duration": 39,
    "start_time": "2023-06-24T13:14:40.449Z"
   },
   {
    "duration": 18,
    "start_time": "2023-06-24T13:14:40.491Z"
   },
   {
    "duration": 16,
    "start_time": "2023-06-24T13:14:40.511Z"
   },
   {
    "duration": 21,
    "start_time": "2023-06-24T13:14:40.529Z"
   },
   {
    "duration": 50,
    "start_time": "2023-06-24T13:14:40.555Z"
   },
   {
    "duration": 161,
    "start_time": "2023-06-24T13:14:40.607Z"
   },
   {
    "duration": 6,
    "start_time": "2023-06-24T13:14:40.770Z"
   },
   {
    "duration": 13,
    "start_time": "2023-06-24T13:14:40.778Z"
   },
   {
    "duration": 67,
    "start_time": "2023-06-24T13:14:40.792Z"
   },
   {
    "duration": 5,
    "start_time": "2023-06-24T13:14:40.860Z"
   },
   {
    "duration": 11,
    "start_time": "2023-06-24T13:14:40.866Z"
   },
   {
    "duration": 12,
    "start_time": "2023-06-24T13:14:40.879Z"
   },
   {
    "duration": 34,
    "start_time": "2023-06-24T13:14:40.893Z"
   },
   {
    "duration": 20,
    "start_time": "2023-06-24T13:14:40.929Z"
   },
   {
    "duration": 25,
    "start_time": "2023-06-24T13:14:40.951Z"
   },
   {
    "duration": 31,
    "start_time": "2023-06-24T13:14:40.977Z"
   },
   {
    "duration": 29,
    "start_time": "2023-06-24T13:14:41.009Z"
   },
   {
    "duration": 8,
    "start_time": "2023-06-24T13:14:41.040Z"
   },
   {
    "duration": 18,
    "start_time": "2023-06-24T13:14:41.050Z"
   },
   {
    "duration": 8,
    "start_time": "2023-06-24T13:14:41.069Z"
   },
   {
    "duration": 472,
    "start_time": "2023-06-24T13:14:41.078Z"
   },
   {
    "duration": 460,
    "start_time": "2023-06-24T13:14:41.552Z"
   },
   {
    "duration": 372,
    "start_time": "2023-06-24T13:14:42.013Z"
   },
   {
    "duration": 354,
    "start_time": "2023-06-24T13:14:42.386Z"
   },
   {
    "duration": 8,
    "start_time": "2023-06-24T13:14:42.741Z"
   },
   {
    "duration": 47,
    "start_time": "2023-06-24T13:14:42.751Z"
   },
   {
    "duration": 14,
    "start_time": "2023-06-24T13:14:42.800Z"
   },
   {
    "duration": 465,
    "start_time": "2023-06-24T13:14:42.815Z"
   },
   {
    "duration": 9,
    "start_time": "2023-06-24T13:14:43.282Z"
   },
   {
    "duration": 17,
    "start_time": "2023-06-24T13:14:43.301Z"
   },
   {
    "duration": 10,
    "start_time": "2023-06-24T13:14:43.319Z"
   },
   {
    "duration": 73,
    "start_time": "2023-06-24T13:14:43.330Z"
   },
   {
    "duration": 14,
    "start_time": "2023-06-24T13:14:43.405Z"
   },
   {
    "duration": 28,
    "start_time": "2023-06-24T13:14:43.420Z"
   },
   {
    "duration": 6,
    "start_time": "2023-06-24T13:14:43.449Z"
   },
   {
    "duration": 47,
    "start_time": "2023-06-24T13:14:43.456Z"
   },
   {
    "duration": 14,
    "start_time": "2023-06-24T13:14:43.505Z"
   },
   {
    "duration": 52,
    "start_time": "2023-06-24T13:15:19.223Z"
   },
   {
    "duration": 112,
    "start_time": "2023-06-24T13:15:54.154Z"
   },
   {
    "duration": 43,
    "start_time": "2023-06-24T13:16:05.519Z"
   },
   {
    "duration": 45,
    "start_time": "2023-06-24T13:16:15.545Z"
   },
   {
    "duration": 31,
    "start_time": "2023-06-24T13:17:36.864Z"
   },
   {
    "duration": 5,
    "start_time": "2023-06-24T13:20:53.450Z"
   },
   {
    "duration": 4,
    "start_time": "2023-06-24T13:21:10.000Z"
   },
   {
    "duration": 1312,
    "start_time": "2023-06-25T11:56:28.421Z"
   },
   {
    "duration": 61,
    "start_time": "2023-06-25T11:56:29.736Z"
   },
   {
    "duration": 220,
    "start_time": "2023-06-25T11:56:29.799Z"
   },
   {
    "duration": 900,
    "start_time": "2023-06-25T11:56:30.021Z"
   },
   {
    "duration": 55,
    "start_time": "2023-06-25T11:56:30.923Z"
   },
   {
    "duration": 19,
    "start_time": "2023-06-25T11:56:30.980Z"
   },
   {
    "duration": 27,
    "start_time": "2023-06-25T11:56:31.001Z"
   },
   {
    "duration": 59,
    "start_time": "2023-06-25T11:56:31.030Z"
   },
   {
    "duration": 113,
    "start_time": "2023-06-25T11:56:31.091Z"
   },
   {
    "duration": 28,
    "start_time": "2023-06-25T11:56:31.206Z"
   },
   {
    "duration": 37,
    "start_time": "2023-06-25T11:56:31.236Z"
   },
   {
    "duration": 368,
    "start_time": "2023-06-25T11:56:31.275Z"
   },
   {
    "duration": 68,
    "start_time": "2023-06-25T11:56:31.645Z"
   },
   {
    "duration": 133,
    "start_time": "2023-06-25T11:56:31.715Z"
   },
   {
    "duration": 132,
    "start_time": "2023-06-25T11:56:31.849Z"
   },
   {
    "duration": 130,
    "start_time": "2023-06-25T11:56:31.982Z"
   },
   {
    "duration": 208,
    "start_time": "2023-06-25T11:56:32.113Z"
   },
   {
    "duration": 26,
    "start_time": "2023-06-25T11:56:32.323Z"
   },
   {
    "duration": 38,
    "start_time": "2023-06-25T11:56:32.351Z"
   },
   {
    "duration": 15,
    "start_time": "2023-06-25T11:56:32.391Z"
   },
   {
    "duration": 68,
    "start_time": "2023-06-25T11:56:32.408Z"
   },
   {
    "duration": 230,
    "start_time": "2023-06-25T11:56:32.477Z"
   },
   {
    "duration": 15,
    "start_time": "2023-06-25T11:56:32.709Z"
   },
   {
    "duration": 9,
    "start_time": "2023-06-25T11:56:32.725Z"
   },
   {
    "duration": 15,
    "start_time": "2023-06-25T11:56:32.736Z"
   },
   {
    "duration": 31,
    "start_time": "2023-06-25T11:56:32.752Z"
   },
   {
    "duration": 13,
    "start_time": "2023-06-25T11:56:32.785Z"
   },
   {
    "duration": 23,
    "start_time": "2023-06-25T11:56:32.802Z"
   },
   {
    "duration": 159,
    "start_time": "2023-06-25T11:56:32.826Z"
   },
   {
    "duration": 5,
    "start_time": "2023-06-25T11:56:32.987Z"
   },
   {
    "duration": 9,
    "start_time": "2023-06-25T11:56:32.993Z"
   },
   {
    "duration": 49,
    "start_time": "2023-06-25T11:56:33.003Z"
   },
   {
    "duration": 23,
    "start_time": "2023-06-25T11:56:33.053Z"
   },
   {
    "duration": 18,
    "start_time": "2023-06-25T11:56:33.078Z"
   },
   {
    "duration": 12,
    "start_time": "2023-06-25T11:56:33.098Z"
   },
   {
    "duration": 21,
    "start_time": "2023-06-25T11:56:33.111Z"
   },
   {
    "duration": 16,
    "start_time": "2023-06-25T11:56:33.133Z"
   },
   {
    "duration": 42,
    "start_time": "2023-06-25T11:56:33.150Z"
   },
   {
    "duration": 15,
    "start_time": "2023-06-25T11:56:33.193Z"
   },
   {
    "duration": 69,
    "start_time": "2023-06-25T11:56:33.209Z"
   },
   {
    "duration": 7,
    "start_time": "2023-06-25T11:56:33.280Z"
   },
   {
    "duration": 8,
    "start_time": "2023-06-25T11:56:33.289Z"
   },
   {
    "duration": 25,
    "start_time": "2023-06-25T11:56:33.298Z"
   },
   {
    "duration": 449,
    "start_time": "2023-06-25T11:56:33.324Z"
   },
   {
    "duration": 433,
    "start_time": "2023-06-25T11:56:33.774Z"
   },
   {
    "duration": 369,
    "start_time": "2023-06-25T11:56:34.209Z"
   },
   {
    "duration": 366,
    "start_time": "2023-06-25T11:56:34.579Z"
   },
   {
    "duration": 8,
    "start_time": "2023-06-25T11:56:34.947Z"
   },
   {
    "duration": 38,
    "start_time": "2023-06-25T11:56:34.957Z"
   },
   {
    "duration": 24,
    "start_time": "2023-06-25T11:56:34.997Z"
   },
   {
    "duration": 157,
    "start_time": "2023-06-25T11:56:35.023Z"
   },
   {
    "duration": 8,
    "start_time": "2023-06-25T11:56:35.182Z"
   },
   {
    "duration": 17,
    "start_time": "2023-06-25T11:56:35.192Z"
   },
   {
    "duration": 67,
    "start_time": "2023-06-25T11:56:35.211Z"
   },
   {
    "duration": 18,
    "start_time": "2023-06-25T11:56:35.279Z"
   },
   {
    "duration": 17,
    "start_time": "2023-06-25T11:56:35.299Z"
   },
   {
    "duration": 68,
    "start_time": "2023-06-25T11:56:35.318Z"
   },
   {
    "duration": 5,
    "start_time": "2023-06-25T11:56:35.388Z"
   },
   {
    "duration": 14,
    "start_time": "2023-06-25T11:56:35.395Z"
   },
   {
    "duration": 17,
    "start_time": "2023-06-25T11:56:35.410Z"
   },
   {
    "duration": 46,
    "start_time": "2023-06-25T12:31:02.112Z"
   },
   {
    "duration": 215,
    "start_time": "2023-06-25T13:14:22.683Z"
   },
   {
    "duration": 1160,
    "start_time": "2023-06-25T13:14:42.276Z"
   },
   {
    "duration": 95,
    "start_time": "2023-06-25T13:14:43.438Z"
   },
   {
    "duration": 201,
    "start_time": "2023-06-25T13:14:43.534Z"
   },
   {
    "duration": 632,
    "start_time": "2023-06-25T13:14:43.737Z"
   },
   {
    "duration": 72,
    "start_time": "2023-06-25T13:14:44.375Z"
   },
   {
    "duration": 12,
    "start_time": "2023-06-25T13:14:44.448Z"
   },
   {
    "duration": 9,
    "start_time": "2023-06-25T13:14:44.461Z"
   },
   {
    "duration": 6,
    "start_time": "2023-06-25T13:14:44.472Z"
   },
   {
    "duration": 48,
    "start_time": "2023-06-25T13:14:44.480Z"
   },
   {
    "duration": 14,
    "start_time": "2023-06-25T13:14:44.531Z"
   },
   {
    "duration": 29,
    "start_time": "2023-06-25T13:14:44.546Z"
   },
   {
    "duration": 300,
    "start_time": "2023-06-25T13:14:44.577Z"
   },
   {
    "duration": 55,
    "start_time": "2023-06-25T13:14:44.878Z"
   },
   {
    "duration": 140,
    "start_time": "2023-06-25T13:14:44.935Z"
   },
   {
    "duration": 34,
    "start_time": "2023-06-25T13:14:45.077Z"
   },
   {
    "duration": 32,
    "start_time": "2023-06-25T13:14:45.113Z"
   },
   {
    "duration": 140,
    "start_time": "2023-06-25T13:14:45.147Z"
   },
   {
    "duration": 23,
    "start_time": "2023-06-25T13:14:45.289Z"
   },
   {
    "duration": 59,
    "start_time": "2023-06-25T13:14:45.313Z"
   },
   {
    "duration": 20,
    "start_time": "2023-06-25T13:14:45.373Z"
   },
   {
    "duration": 61,
    "start_time": "2023-06-25T13:14:45.395Z"
   },
   {
    "duration": 80,
    "start_time": "2023-06-25T13:14:45.458Z"
   },
   {
    "duration": 0,
    "start_time": "2023-06-25T13:14:45.540Z"
   },
   {
    "duration": 0,
    "start_time": "2023-06-25T13:14:45.541Z"
   },
   {
    "duration": 0,
    "start_time": "2023-06-25T13:14:45.542Z"
   },
   {
    "duration": 0,
    "start_time": "2023-06-25T13:14:45.543Z"
   },
   {
    "duration": 0,
    "start_time": "2023-06-25T13:14:45.544Z"
   },
   {
    "duration": 0,
    "start_time": "2023-06-25T13:14:45.545Z"
   },
   {
    "duration": 0,
    "start_time": "2023-06-25T13:14:45.546Z"
   },
   {
    "duration": 0,
    "start_time": "2023-06-25T13:14:45.547Z"
   },
   {
    "duration": 0,
    "start_time": "2023-06-25T13:14:45.548Z"
   },
   {
    "duration": 0,
    "start_time": "2023-06-25T13:14:45.549Z"
   },
   {
    "duration": 0,
    "start_time": "2023-06-25T13:14:45.550Z"
   },
   {
    "duration": 0,
    "start_time": "2023-06-25T13:14:45.551Z"
   },
   {
    "duration": 0,
    "start_time": "2023-06-25T13:14:45.552Z"
   },
   {
    "duration": 0,
    "start_time": "2023-06-25T13:14:45.553Z"
   },
   {
    "duration": 0,
    "start_time": "2023-06-25T13:14:45.554Z"
   },
   {
    "duration": 0,
    "start_time": "2023-06-25T13:14:45.555Z"
   },
   {
    "duration": 0,
    "start_time": "2023-06-25T13:14:45.556Z"
   },
   {
    "duration": 0,
    "start_time": "2023-06-25T13:14:45.557Z"
   },
   {
    "duration": 0,
    "start_time": "2023-06-25T13:14:45.558Z"
   },
   {
    "duration": 0,
    "start_time": "2023-06-25T13:14:45.560Z"
   },
   {
    "duration": 0,
    "start_time": "2023-06-25T13:14:45.561Z"
   },
   {
    "duration": 0,
    "start_time": "2023-06-25T13:14:45.562Z"
   },
   {
    "duration": 0,
    "start_time": "2023-06-25T13:14:45.563Z"
   },
   {
    "duration": 0,
    "start_time": "2023-06-25T13:14:45.564Z"
   },
   {
    "duration": 0,
    "start_time": "2023-06-25T13:14:45.565Z"
   },
   {
    "duration": 0,
    "start_time": "2023-06-25T13:14:45.566Z"
   },
   {
    "duration": 0,
    "start_time": "2023-06-25T13:14:45.567Z"
   },
   {
    "duration": 0,
    "start_time": "2023-06-25T13:14:45.568Z"
   },
   {
    "duration": 0,
    "start_time": "2023-06-25T13:14:45.570Z"
   },
   {
    "duration": 0,
    "start_time": "2023-06-25T13:14:45.570Z"
   },
   {
    "duration": 0,
    "start_time": "2023-06-25T13:14:45.572Z"
   },
   {
    "duration": 0,
    "start_time": "2023-06-25T13:14:45.573Z"
   },
   {
    "duration": 0,
    "start_time": "2023-06-25T13:14:45.574Z"
   },
   {
    "duration": 0,
    "start_time": "2023-06-25T13:14:45.575Z"
   },
   {
    "duration": 0,
    "start_time": "2023-06-25T13:14:45.576Z"
   },
   {
    "duration": 0,
    "start_time": "2023-06-25T13:14:45.577Z"
   },
   {
    "duration": 0,
    "start_time": "2023-06-25T13:14:45.578Z"
   },
   {
    "duration": 0,
    "start_time": "2023-06-25T13:14:45.579Z"
   },
   {
    "duration": 0,
    "start_time": "2023-06-25T13:14:45.580Z"
   },
   {
    "duration": 253,
    "start_time": "2023-06-25T13:15:39.096Z"
   },
   {
    "duration": 1156,
    "start_time": "2023-06-25T13:15:43.666Z"
   },
   {
    "duration": 93,
    "start_time": "2023-06-25T13:15:44.823Z"
   },
   {
    "duration": 149,
    "start_time": "2023-06-25T13:15:44.918Z"
   },
   {
    "duration": 682,
    "start_time": "2023-06-25T13:15:45.069Z"
   },
   {
    "duration": 94,
    "start_time": "2023-06-25T13:15:45.752Z"
   },
   {
    "duration": 11,
    "start_time": "2023-06-25T13:15:45.847Z"
   },
   {
    "duration": 15,
    "start_time": "2023-06-25T13:15:45.859Z"
   },
   {
    "duration": 6,
    "start_time": "2023-06-25T13:15:45.876Z"
   },
   {
    "duration": 60,
    "start_time": "2023-06-25T13:15:45.884Z"
   },
   {
    "duration": 12,
    "start_time": "2023-06-25T13:15:45.947Z"
   },
   {
    "duration": 17,
    "start_time": "2023-06-25T13:15:45.961Z"
   },
   {
    "duration": 311,
    "start_time": "2023-06-25T13:15:45.980Z"
   },
   {
    "duration": 83,
    "start_time": "2023-06-25T13:15:46.292Z"
   },
   {
    "duration": 152,
    "start_time": "2023-06-25T13:15:46.377Z"
   },
   {
    "duration": 14,
    "start_time": "2023-06-25T13:15:46.531Z"
   },
   {
    "duration": 26,
    "start_time": "2023-06-25T13:15:46.546Z"
   },
   {
    "duration": 144,
    "start_time": "2023-06-25T13:15:46.574Z"
   },
   {
    "duration": 23,
    "start_time": "2023-06-25T13:15:46.720Z"
   },
   {
    "duration": 33,
    "start_time": "2023-06-25T13:15:46.745Z"
   },
   {
    "duration": 14,
    "start_time": "2023-06-25T13:15:46.779Z"
   },
   {
    "duration": 72,
    "start_time": "2023-06-25T13:15:46.794Z"
   },
   {
    "duration": 208,
    "start_time": "2023-06-25T13:15:46.868Z"
   },
   {
    "duration": 43,
    "start_time": "2023-06-25T13:15:47.077Z"
   },
   {
    "duration": 14,
    "start_time": "2023-06-25T13:15:47.122Z"
   },
   {
    "duration": 15,
    "start_time": "2023-06-25T13:15:47.138Z"
   },
   {
    "duration": 28,
    "start_time": "2023-06-25T13:15:47.154Z"
   },
   {
    "duration": 34,
    "start_time": "2023-06-25T13:15:47.183Z"
   },
   {
    "duration": 27,
    "start_time": "2023-06-25T13:15:47.220Z"
   },
   {
    "duration": 28,
    "start_time": "2023-06-25T13:15:47.249Z"
   },
   {
    "duration": 141,
    "start_time": "2023-06-25T13:15:47.279Z"
   },
   {
    "duration": 5,
    "start_time": "2023-06-25T13:15:47.422Z"
   },
   {
    "duration": 23,
    "start_time": "2023-06-25T13:15:47.428Z"
   },
   {
    "duration": 49,
    "start_time": "2023-06-25T13:15:47.453Z"
   },
   {
    "duration": 4,
    "start_time": "2023-06-25T13:15:47.503Z"
   },
   {
    "duration": 22,
    "start_time": "2023-06-25T13:15:47.508Z"
   },
   {
    "duration": 26,
    "start_time": "2023-06-25T13:15:47.532Z"
   },
   {
    "duration": 31,
    "start_time": "2023-06-25T13:15:47.559Z"
   },
   {
    "duration": 15,
    "start_time": "2023-06-25T13:15:47.592Z"
   },
   {
    "duration": 18,
    "start_time": "2023-06-25T13:15:47.608Z"
   },
   {
    "duration": 12,
    "start_time": "2023-06-25T13:15:47.628Z"
   },
   {
    "duration": 48,
    "start_time": "2023-06-25T13:15:47.641Z"
   },
   {
    "duration": 7,
    "start_time": "2023-06-25T13:15:47.690Z"
   },
   {
    "duration": 19,
    "start_time": "2023-06-25T13:15:47.698Z"
   },
   {
    "duration": 13,
    "start_time": "2023-06-25T13:15:47.719Z"
   },
   {
    "duration": 384,
    "start_time": "2023-06-25T13:15:47.733Z"
   },
   {
    "duration": 384,
    "start_time": "2023-06-25T13:15:48.118Z"
   },
   {
    "duration": 335,
    "start_time": "2023-06-25T13:15:48.504Z"
   },
   {
    "duration": 300,
    "start_time": "2023-06-25T13:15:48.840Z"
   },
   {
    "duration": 7,
    "start_time": "2023-06-25T13:15:49.142Z"
   },
   {
    "duration": 36,
    "start_time": "2023-06-25T13:15:49.151Z"
   },
   {
    "duration": 13,
    "start_time": "2023-06-25T13:15:49.189Z"
   },
   {
    "duration": 167,
    "start_time": "2023-06-25T13:15:49.204Z"
   },
   {
    "duration": 8,
    "start_time": "2023-06-25T13:15:49.373Z"
   },
   {
    "duration": 14,
    "start_time": "2023-06-25T13:15:49.382Z"
   },
   {
    "duration": 21,
    "start_time": "2023-06-25T13:15:49.398Z"
   },
   {
    "duration": 55,
    "start_time": "2023-06-25T13:15:49.421Z"
   },
   {
    "duration": 10,
    "start_time": "2023-06-25T13:15:49.477Z"
   },
   {
    "duration": 23,
    "start_time": "2023-06-25T13:15:49.488Z"
   },
   {
    "duration": 5,
    "start_time": "2023-06-25T13:15:49.513Z"
   },
   {
    "duration": 17,
    "start_time": "2023-06-25T13:15:49.519Z"
   },
   {
    "duration": 43,
    "start_time": "2023-06-25T13:15:49.538Z"
   },
   {
    "duration": 1175,
    "start_time": "2023-06-25T13:16:46.539Z"
   },
   {
    "duration": 50,
    "start_time": "2023-06-25T13:16:47.716Z"
   },
   {
    "duration": 217,
    "start_time": "2023-06-25T13:16:47.767Z"
   },
   {
    "duration": 740,
    "start_time": "2023-06-25T13:16:47.986Z"
   },
   {
    "duration": 52,
    "start_time": "2023-06-25T13:16:48.728Z"
   },
   {
    "duration": 10,
    "start_time": "2023-06-25T13:16:48.781Z"
   },
   {
    "duration": 47,
    "start_time": "2023-06-25T13:16:48.793Z"
   },
   {
    "duration": 30,
    "start_time": "2023-06-25T13:16:48.841Z"
   },
   {
    "duration": 64,
    "start_time": "2023-06-25T13:16:48.873Z"
   },
   {
    "duration": 12,
    "start_time": "2023-06-25T13:16:48.940Z"
   },
   {
    "duration": 25,
    "start_time": "2023-06-25T13:16:48.954Z"
   },
   {
    "duration": 295,
    "start_time": "2023-06-25T13:16:48.980Z"
   },
   {
    "duration": 53,
    "start_time": "2023-06-25T13:16:49.276Z"
   },
   {
    "duration": 139,
    "start_time": "2023-06-25T13:16:49.331Z"
   },
   {
    "duration": 16,
    "start_time": "2023-06-25T13:16:49.471Z"
   },
   {
    "duration": 15,
    "start_time": "2023-06-25T13:16:49.488Z"
   },
   {
    "duration": 146,
    "start_time": "2023-06-25T13:16:49.505Z"
   },
   {
    "duration": 32,
    "start_time": "2023-06-25T13:16:49.652Z"
   },
   {
    "duration": 23,
    "start_time": "2023-06-25T13:16:49.686Z"
   },
   {
    "duration": 27,
    "start_time": "2023-06-25T13:16:49.711Z"
   },
   {
    "duration": 64,
    "start_time": "2023-06-25T13:16:49.739Z"
   },
   {
    "duration": 221,
    "start_time": "2023-06-25T13:16:49.805Z"
   },
   {
    "duration": 57,
    "start_time": "2023-06-25T13:16:50.028Z"
   },
   {
    "duration": 15,
    "start_time": "2023-06-25T13:16:50.087Z"
   },
   {
    "duration": 42,
    "start_time": "2023-06-25T13:16:50.104Z"
   },
   {
    "duration": 35,
    "start_time": "2023-06-25T13:16:50.147Z"
   },
   {
    "duration": 30,
    "start_time": "2023-06-25T13:16:50.183Z"
   },
   {
    "duration": 31,
    "start_time": "2023-06-25T13:16:50.216Z"
   },
   {
    "duration": 56,
    "start_time": "2023-06-25T13:16:50.249Z"
   },
   {
    "duration": 147,
    "start_time": "2023-06-25T13:16:50.306Z"
   },
   {
    "duration": 4,
    "start_time": "2023-06-25T13:16:50.455Z"
   },
   {
    "duration": 35,
    "start_time": "2023-06-25T13:16:50.461Z"
   },
   {
    "duration": 70,
    "start_time": "2023-06-25T13:16:50.497Z"
   },
   {
    "duration": 4,
    "start_time": "2023-06-25T13:16:50.569Z"
   },
   {
    "duration": 16,
    "start_time": "2023-06-25T13:16:50.574Z"
   },
   {
    "duration": 23,
    "start_time": "2023-06-25T13:16:50.591Z"
   },
   {
    "duration": 39,
    "start_time": "2023-06-25T13:16:50.615Z"
   },
   {
    "duration": 17,
    "start_time": "2023-06-25T13:16:50.655Z"
   },
   {
    "duration": 28,
    "start_time": "2023-06-25T13:16:50.673Z"
   },
   {
    "duration": 31,
    "start_time": "2023-06-25T13:16:50.703Z"
   },
   {
    "duration": 46,
    "start_time": "2023-06-25T13:16:50.735Z"
   },
   {
    "duration": 8,
    "start_time": "2023-06-25T13:16:50.783Z"
   },
   {
    "duration": 16,
    "start_time": "2023-06-25T13:16:50.792Z"
   },
   {
    "duration": 26,
    "start_time": "2023-06-25T13:16:50.809Z"
   },
   {
    "duration": 399,
    "start_time": "2023-06-25T13:16:50.837Z"
   },
   {
    "duration": 371,
    "start_time": "2023-06-25T13:16:51.238Z"
   },
   {
    "duration": 322,
    "start_time": "2023-06-25T13:16:51.611Z"
   },
   {
    "duration": 333,
    "start_time": "2023-06-25T13:16:51.935Z"
   },
   {
    "duration": 11,
    "start_time": "2023-06-25T13:16:52.269Z"
   },
   {
    "duration": 59,
    "start_time": "2023-06-25T13:16:52.281Z"
   },
   {
    "duration": 13,
    "start_time": "2023-06-25T13:16:52.342Z"
   },
   {
    "duration": 175,
    "start_time": "2023-06-25T13:16:52.357Z"
   },
   {
    "duration": 8,
    "start_time": "2023-06-25T13:16:52.534Z"
   },
   {
    "duration": 15,
    "start_time": "2023-06-25T13:16:52.543Z"
   },
   {
    "duration": 11,
    "start_time": "2023-06-25T13:16:52.560Z"
   },
   {
    "duration": 37,
    "start_time": "2023-06-25T13:16:52.573Z"
   },
   {
    "duration": 23,
    "start_time": "2023-06-25T13:16:52.611Z"
   },
   {
    "duration": 36,
    "start_time": "2023-06-25T13:16:52.636Z"
   },
   {
    "duration": 6,
    "start_time": "2023-06-25T13:16:52.673Z"
   },
   {
    "duration": 20,
    "start_time": "2023-06-25T13:16:52.681Z"
   },
   {
    "duration": 24,
    "start_time": "2023-06-25T13:16:52.703Z"
   },
   {
    "duration": 70,
    "start_time": "2023-06-25T13:36:40.207Z"
   },
   {
    "duration": 37,
    "start_time": "2023-06-25T13:36:52.996Z"
   },
   {
    "duration": 1395,
    "start_time": "2023-06-26T21:06:30.410Z"
   },
   {
    "duration": 76,
    "start_time": "2023-06-26T21:06:31.807Z"
   },
   {
    "duration": 178,
    "start_time": "2023-06-26T21:06:31.885Z"
   },
   {
    "duration": 776,
    "start_time": "2023-06-26T21:06:32.066Z"
   },
   {
    "duration": 68,
    "start_time": "2023-06-26T21:06:32.843Z"
   },
   {
    "duration": 12,
    "start_time": "2023-06-26T21:06:32.913Z"
   },
   {
    "duration": 18,
    "start_time": "2023-06-26T21:06:32.927Z"
   },
   {
    "duration": 18,
    "start_time": "2023-06-26T21:06:32.947Z"
   },
   {
    "duration": 75,
    "start_time": "2023-06-26T21:06:32.967Z"
   },
   {
    "duration": 15,
    "start_time": "2023-06-26T21:06:33.044Z"
   },
   {
    "duration": 26,
    "start_time": "2023-06-26T21:06:33.061Z"
   },
   {
    "duration": 384,
    "start_time": "2023-06-26T21:06:33.088Z"
   },
   {
    "duration": 58,
    "start_time": "2023-06-26T21:06:33.474Z"
   },
   {
    "duration": 144,
    "start_time": "2023-06-26T21:06:33.533Z"
   },
   {
    "duration": 33,
    "start_time": "2023-06-26T21:06:33.679Z"
   },
   {
    "duration": 10,
    "start_time": "2023-06-26T21:06:33.715Z"
   },
   {
    "duration": 164,
    "start_time": "2023-06-26T21:06:33.727Z"
   },
   {
    "duration": 35,
    "start_time": "2023-06-26T21:06:33.893Z"
   },
   {
    "duration": 30,
    "start_time": "2023-06-26T21:06:33.930Z"
   },
   {
    "duration": 41,
    "start_time": "2023-06-26T21:06:33.962Z"
   },
   {
    "duration": 59,
    "start_time": "2023-06-26T21:06:34.006Z"
   },
   {
    "duration": 283,
    "start_time": "2023-06-26T21:06:34.067Z"
   },
   {
    "duration": 51,
    "start_time": "2023-06-26T21:06:34.352Z"
   },
   {
    "duration": 250,
    "start_time": "2023-06-26T21:06:34.405Z"
   },
   {
    "duration": 17,
    "start_time": "2023-06-26T21:06:34.656Z"
   },
   {
    "duration": 32,
    "start_time": "2023-06-26T21:06:34.675Z"
   },
   {
    "duration": 12,
    "start_time": "2023-06-26T21:06:34.708Z"
   },
   {
    "duration": 27,
    "start_time": "2023-06-26T21:06:34.726Z"
   },
   {
    "duration": 13,
    "start_time": "2023-06-26T21:06:34.755Z"
   },
   {
    "duration": 43,
    "start_time": "2023-06-26T21:06:34.770Z"
   },
   {
    "duration": 173,
    "start_time": "2023-06-26T21:06:34.815Z"
   },
   {
    "duration": 13,
    "start_time": "2023-06-26T21:06:34.989Z"
   },
   {
    "duration": 12,
    "start_time": "2023-06-26T21:06:35.004Z"
   },
   {
    "duration": 11,
    "start_time": "2023-06-26T21:06:35.018Z"
   },
   {
    "duration": 74,
    "start_time": "2023-06-26T21:06:35.031Z"
   },
   {
    "duration": 5,
    "start_time": "2023-06-26T21:06:35.107Z"
   },
   {
    "duration": 26,
    "start_time": "2023-06-26T21:06:35.114Z"
   },
   {
    "duration": 16,
    "start_time": "2023-06-26T21:06:35.143Z"
   },
   {
    "duration": 54,
    "start_time": "2023-06-26T21:06:35.160Z"
   },
   {
    "duration": 18,
    "start_time": "2023-06-26T21:06:35.216Z"
   },
   {
    "duration": 16,
    "start_time": "2023-06-26T21:06:35.235Z"
   },
   {
    "duration": 26,
    "start_time": "2023-06-26T21:06:35.252Z"
   },
   {
    "duration": 32,
    "start_time": "2023-06-26T21:06:35.279Z"
   },
   {
    "duration": 48,
    "start_time": "2023-06-26T21:06:35.313Z"
   },
   {
    "duration": 9,
    "start_time": "2023-06-26T21:06:35.362Z"
   },
   {
    "duration": 37,
    "start_time": "2023-06-26T21:06:35.372Z"
   },
   {
    "duration": 16,
    "start_time": "2023-06-26T21:06:35.411Z"
   },
   {
    "duration": 545,
    "start_time": "2023-06-26T21:06:35.428Z"
   },
   {
    "duration": 383,
    "start_time": "2023-06-26T21:06:35.975Z"
   },
   {
    "duration": 374,
    "start_time": "2023-06-26T21:06:36.360Z"
   },
   {
    "duration": 372,
    "start_time": "2023-06-26T21:06:36.736Z"
   },
   {
    "duration": 6,
    "start_time": "2023-06-26T21:06:37.110Z"
   },
   {
    "duration": 34,
    "start_time": "2023-06-26T21:06:37.118Z"
   },
   {
    "duration": 15,
    "start_time": "2023-06-26T21:06:37.154Z"
   },
   {
    "duration": 360,
    "start_time": "2023-06-26T21:06:37.172Z"
   },
   {
    "duration": 69,
    "start_time": "2023-06-26T21:06:37.534Z"
   },
   {
    "duration": 28,
    "start_time": "2023-06-26T21:06:37.606Z"
   },
   {
    "duration": 67,
    "start_time": "2023-06-26T21:06:37.636Z"
   },
   {
    "duration": 13,
    "start_time": "2023-06-26T21:06:37.705Z"
   },
   {
    "duration": 14,
    "start_time": "2023-06-26T21:06:37.720Z"
   },
   {
    "duration": 22,
    "start_time": "2023-06-26T21:06:37.736Z"
   },
   {
    "duration": 46,
    "start_time": "2023-06-26T21:06:37.760Z"
   },
   {
    "duration": 5,
    "start_time": "2023-06-26T21:06:37.808Z"
   },
   {
    "duration": 9,
    "start_time": "2023-06-26T21:06:37.815Z"
   },
   {
    "duration": 15,
    "start_time": "2023-06-26T21:06:37.826Z"
   },
   {
    "duration": 1505,
    "start_time": "2023-06-26T21:53:53.763Z"
   },
   {
    "duration": 63,
    "start_time": "2023-06-26T21:53:55.271Z"
   },
   {
    "duration": 166,
    "start_time": "2023-06-26T21:53:55.336Z"
   },
   {
    "duration": 1265,
    "start_time": "2023-06-26T21:53:55.504Z"
   },
   {
    "duration": 80,
    "start_time": "2023-06-26T21:53:56.771Z"
   },
   {
    "duration": 13,
    "start_time": "2023-06-26T21:53:56.853Z"
   },
   {
    "duration": 35,
    "start_time": "2023-06-26T21:53:56.868Z"
   },
   {
    "duration": 27,
    "start_time": "2023-06-26T21:53:56.905Z"
   },
   {
    "duration": 70,
    "start_time": "2023-06-26T21:53:56.934Z"
   },
   {
    "duration": 18,
    "start_time": "2023-06-26T21:53:57.007Z"
   },
   {
    "duration": 31,
    "start_time": "2023-06-26T21:53:57.027Z"
   },
   {
    "duration": 375,
    "start_time": "2023-06-26T21:53:57.059Z"
   },
   {
    "duration": 115,
    "start_time": "2023-06-26T21:53:57.436Z"
   },
   {
    "duration": 202,
    "start_time": "2023-06-26T21:53:57.553Z"
   },
   {
    "duration": 29,
    "start_time": "2023-06-26T21:53:57.757Z"
   },
   {
    "duration": 39,
    "start_time": "2023-06-26T21:53:57.789Z"
   },
   {
    "duration": 190,
    "start_time": "2023-06-26T21:53:57.835Z"
   },
   {
    "duration": 24,
    "start_time": "2023-06-26T21:53:58.027Z"
   },
   {
    "duration": 54,
    "start_time": "2023-06-26T21:53:58.053Z"
   },
   {
    "duration": 21,
    "start_time": "2023-06-26T21:53:58.109Z"
   },
   {
    "duration": 74,
    "start_time": "2023-06-26T21:53:58.132Z"
   },
   {
    "duration": 378,
    "start_time": "2023-06-26T21:53:58.208Z"
   },
   {
    "duration": 55,
    "start_time": "2023-06-26T21:53:58.588Z"
   },
   {
    "duration": 349,
    "start_time": "2023-06-26T21:53:58.646Z"
   },
   {
    "duration": 36,
    "start_time": "2023-06-26T21:53:58.997Z"
   },
   {
    "duration": 22,
    "start_time": "2023-06-26T21:53:59.035Z"
   },
   {
    "duration": 21,
    "start_time": "2023-06-26T21:53:59.059Z"
   },
   {
    "duration": 12,
    "start_time": "2023-06-26T21:53:59.085Z"
   },
   {
    "duration": 35,
    "start_time": "2023-06-26T21:53:59.099Z"
   },
   {
    "duration": 32,
    "start_time": "2023-06-26T21:53:59.136Z"
   },
   {
    "duration": 215,
    "start_time": "2023-06-26T21:53:59.171Z"
   },
   {
    "duration": 8,
    "start_time": "2023-06-26T21:53:59.388Z"
   },
   {
    "duration": 24,
    "start_time": "2023-06-26T21:53:59.398Z"
   },
   {
    "duration": 11,
    "start_time": "2023-06-26T21:53:59.424Z"
   },
   {
    "duration": 73,
    "start_time": "2023-06-26T21:53:59.437Z"
   },
   {
    "duration": 8,
    "start_time": "2023-06-26T21:53:59.514Z"
   },
   {
    "duration": 23,
    "start_time": "2023-06-26T21:53:59.524Z"
   },
   {
    "duration": 28,
    "start_time": "2023-06-26T21:53:59.548Z"
   },
   {
    "duration": 50,
    "start_time": "2023-06-26T21:53:59.579Z"
   },
   {
    "duration": 52,
    "start_time": "2023-06-26T21:53:59.631Z"
   },
   {
    "duration": 43,
    "start_time": "2023-06-26T21:53:59.685Z"
   },
   {
    "duration": 25,
    "start_time": "2023-06-26T21:53:59.730Z"
   },
   {
    "duration": 23,
    "start_time": "2023-06-26T21:53:59.759Z"
   },
   {
    "duration": 44,
    "start_time": "2023-06-26T21:53:59.785Z"
   },
   {
    "duration": 39,
    "start_time": "2023-06-26T21:53:59.831Z"
   },
   {
    "duration": 11,
    "start_time": "2023-06-26T21:53:59.872Z"
   },
   {
    "duration": 15,
    "start_time": "2023-06-26T21:53:59.887Z"
   },
   {
    "duration": 8,
    "start_time": "2023-06-26T21:53:59.916Z"
   },
   {
    "duration": 678,
    "start_time": "2023-06-26T21:53:59.926Z"
   },
   {
    "duration": 441,
    "start_time": "2023-06-26T21:54:00.606Z"
   },
   {
    "duration": 474,
    "start_time": "2023-06-26T21:54:01.049Z"
   },
   {
    "duration": 447,
    "start_time": "2023-06-26T21:54:01.525Z"
   },
   {
    "duration": 10,
    "start_time": "2023-06-26T21:54:01.975Z"
   },
   {
    "duration": 59,
    "start_time": "2023-06-26T21:54:01.987Z"
   },
   {
    "duration": 39,
    "start_time": "2023-06-26T21:54:02.048Z"
   },
   {
    "duration": 246,
    "start_time": "2023-06-26T21:54:02.090Z"
   },
   {
    "duration": 30,
    "start_time": "2023-06-26T21:54:02.340Z"
   },
   {
    "duration": 90,
    "start_time": "2023-06-26T21:54:02.372Z"
   },
   {
    "duration": 67,
    "start_time": "2023-06-26T21:54:02.464Z"
   },
   {
    "duration": 18,
    "start_time": "2023-06-26T21:54:02.536Z"
   },
   {
    "duration": 23,
    "start_time": "2023-06-26T21:54:02.558Z"
   },
   {
    "duration": 26,
    "start_time": "2023-06-26T21:54:02.583Z"
   },
   {
    "duration": 51,
    "start_time": "2023-06-26T21:54:02.611Z"
   },
   {
    "duration": 13,
    "start_time": "2023-06-26T21:54:02.664Z"
   },
   {
    "duration": 42,
    "start_time": "2023-06-26T21:54:02.679Z"
   },
   {
    "duration": 60,
    "start_time": "2023-06-26T21:54:02.728Z"
   },
   {
    "duration": 1314,
    "start_time": "2023-06-27T22:53:10.549Z"
   },
   {
    "duration": 65,
    "start_time": "2023-06-27T22:53:11.865Z"
   },
   {
    "duration": 221,
    "start_time": "2023-06-27T22:53:11.931Z"
   },
   {
    "duration": 704,
    "start_time": "2023-06-27T22:53:12.154Z"
   },
   {
    "duration": 78,
    "start_time": "2023-06-27T22:53:12.860Z"
   },
   {
    "duration": 11,
    "start_time": "2023-06-27T22:53:12.939Z"
   },
   {
    "duration": 15,
    "start_time": "2023-06-27T22:53:12.951Z"
   },
   {
    "duration": 15,
    "start_time": "2023-06-27T22:53:12.967Z"
   },
   {
    "duration": 43,
    "start_time": "2023-06-27T22:53:12.983Z"
   },
   {
    "duration": 11,
    "start_time": "2023-06-27T22:53:13.028Z"
   },
   {
    "duration": 12,
    "start_time": "2023-06-27T22:53:13.041Z"
   },
   {
    "duration": 263,
    "start_time": "2023-06-27T22:53:13.054Z"
   },
   {
    "duration": 44,
    "start_time": "2023-06-27T22:53:13.318Z"
   },
   {
    "duration": 131,
    "start_time": "2023-06-27T22:53:13.363Z"
   },
   {
    "duration": 19,
    "start_time": "2023-06-27T22:53:13.495Z"
   },
   {
    "duration": 16,
    "start_time": "2023-06-27T22:53:13.515Z"
   },
   {
    "duration": 136,
    "start_time": "2023-06-27T22:53:13.532Z"
   },
   {
    "duration": 22,
    "start_time": "2023-06-27T22:53:13.669Z"
   },
   {
    "duration": 37,
    "start_time": "2023-06-27T22:53:13.692Z"
   },
   {
    "duration": 16,
    "start_time": "2023-06-27T22:53:13.731Z"
   },
   {
    "duration": 63,
    "start_time": "2023-06-27T22:53:13.749Z"
   },
   {
    "duration": 217,
    "start_time": "2023-06-27T22:53:13.813Z"
   },
   {
    "duration": 31,
    "start_time": "2023-06-27T22:53:14.032Z"
   },
   {
    "duration": 191,
    "start_time": "2023-06-27T22:53:14.065Z"
   },
   {
    "duration": 13,
    "start_time": "2023-06-27T22:53:14.258Z"
   },
   {
    "duration": 9,
    "start_time": "2023-06-27T22:53:14.272Z"
   },
   {
    "duration": 25,
    "start_time": "2023-06-27T22:53:14.282Z"
   },
   {
    "duration": 10,
    "start_time": "2023-06-27T22:53:14.310Z"
   },
   {
    "duration": 14,
    "start_time": "2023-06-27T22:53:14.321Z"
   },
   {
    "duration": 23,
    "start_time": "2023-06-27T22:53:14.336Z"
   },
   {
    "duration": 167,
    "start_time": "2023-06-27T22:53:14.360Z"
   },
   {
    "duration": 4,
    "start_time": "2023-06-27T22:53:14.528Z"
   },
   {
    "duration": 10,
    "start_time": "2023-06-27T22:53:14.534Z"
   },
   {
    "duration": 5,
    "start_time": "2023-06-27T22:53:14.546Z"
   },
   {
    "duration": 66,
    "start_time": "2023-06-27T22:53:14.552Z"
   },
   {
    "duration": 4,
    "start_time": "2023-06-27T22:53:14.620Z"
   },
   {
    "duration": 7,
    "start_time": "2023-06-27T22:53:14.625Z"
   },
   {
    "duration": 9,
    "start_time": "2023-06-27T22:53:14.633Z"
   },
   {
    "duration": 30,
    "start_time": "2023-06-27T22:53:14.643Z"
   },
   {
    "duration": 32,
    "start_time": "2023-06-27T22:53:14.674Z"
   },
   {
    "duration": 16,
    "start_time": "2023-06-27T22:53:14.707Z"
   },
   {
    "duration": 14,
    "start_time": "2023-06-27T22:53:14.724Z"
   },
   {
    "duration": 14,
    "start_time": "2023-06-27T22:53:14.740Z"
   },
   {
    "duration": 45,
    "start_time": "2023-06-27T22:53:14.756Z"
   },
   {
    "duration": 11,
    "start_time": "2023-06-27T22:53:14.803Z"
   },
   {
    "duration": 355,
    "start_time": "2023-06-27T22:53:14.815Z"
   },
   {
    "duration": 34,
    "start_time": "2023-06-27T22:53:15.171Z"
   },
   {
    "duration": 77,
    "start_time": "2023-06-27T22:53:15.206Z"
   },
   {
    "duration": 20,
    "start_time": "2023-06-27T22:53:15.284Z"
   },
   {
    "duration": 6,
    "start_time": "2023-06-27T22:53:15.305Z"
   },
   {
    "duration": 6,
    "start_time": "2023-06-27T22:53:15.312Z"
   },
   {
    "duration": 418,
    "start_time": "2023-06-27T22:53:15.319Z"
   },
   {
    "duration": 379,
    "start_time": "2023-06-27T22:53:15.738Z"
   },
   {
    "duration": 353,
    "start_time": "2023-06-27T22:53:16.119Z"
   },
   {
    "duration": 321,
    "start_time": "2023-06-27T22:53:16.474Z"
   },
   {
    "duration": 5,
    "start_time": "2023-06-27T22:53:16.799Z"
   },
   {
    "duration": 18,
    "start_time": "2023-06-27T22:53:16.806Z"
   },
   {
    "duration": 12,
    "start_time": "2023-06-27T22:53:16.826Z"
   },
   {
    "duration": 468,
    "start_time": "2023-06-27T22:53:16.839Z"
   },
   {
    "duration": 38,
    "start_time": "2023-06-27T22:53:17.309Z"
   },
   {
    "duration": 68,
    "start_time": "2023-06-27T22:53:17.348Z"
   },
   {
    "duration": 32,
    "start_time": "2023-06-27T22:53:17.418Z"
   },
   {
    "duration": 58,
    "start_time": "2023-06-27T22:53:17.452Z"
   },
   {
    "duration": 13,
    "start_time": "2023-06-27T22:53:17.511Z"
   },
   {
    "duration": 22,
    "start_time": "2023-06-27T22:53:17.525Z"
   },
   {
    "duration": 17,
    "start_time": "2023-06-27T22:53:17.549Z"
   },
   {
    "duration": 11,
    "start_time": "2023-06-27T22:53:17.568Z"
   },
   {
    "duration": 31,
    "start_time": "2023-06-27T22:53:17.580Z"
   },
   {
    "duration": 4,
    "start_time": "2023-06-27T22:53:17.612Z"
   },
   {
    "duration": 14,
    "start_time": "2023-06-27T22:53:17.618Z"
   },
   {
    "duration": 16,
    "start_time": "2023-06-27T22:53:17.634Z"
   }
  ],
  "colab": {
   "provenance": [],
   "toc_visible": true
  },
  "kernelspec": {
   "display_name": "Python 3 (ipykernel)",
   "language": "python",
   "name": "python3"
  },
  "language_info": {
   "codemirror_mode": {
    "name": "ipython",
    "version": 3
   },
   "file_extension": ".py",
   "mimetype": "text/x-python",
   "name": "python",
   "nbconvert_exporter": "python",
   "pygments_lexer": "ipython3",
   "version": "3.9.5"
  },
  "toc": {
   "base_numbering": 1,
   "nav_menu": {},
   "number_sections": true,
   "sideBar": true,
   "skip_h1_title": true,
   "title_cell": "Table of Contents",
   "title_sidebar": "Contents",
   "toc_cell": false,
   "toc_position": {},
   "toc_section_display": true,
   "toc_window_display": false
  }
 },
 "nbformat": 4,
 "nbformat_minor": 5
}
